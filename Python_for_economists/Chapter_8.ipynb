{
 "cells": [
  {
   "cell_type": "markdown",
   "id": "1ccb697e-c8e9-4dd0-8ab0-f7be2712ca09",
   "metadata": {},
   "source": [
    "# Chapter 8"
   ]
  },
  {
   "cell_type": "markdown",
   "id": "623f2f65-70bb-41e0-a069-77a0166f4e64",
   "metadata": {},
   "source": [
    "# Functions"
   ]
  },
  {
   "cell_type": "markdown",
   "id": "f92c3b23-4bce-4b88-8cad-a1090e59f567",
   "metadata": {},
   "source": [
    "### 8.1 Definition"
   ]
  },
  {
   "cell_type": "code",
   "execution_count": 3,
   "id": "3214db6f-1f23-4080-8988-7e05564d77e6",
   "metadata": {},
   "outputs": [],
   "source": [
    "def square(x): \n",
    "    return x**2"
   ]
  },
  {
   "cell_type": "code",
   "execution_count": 4,
   "id": "7d3412e5-7a76-490e-999a-ebf33a6bb954",
   "metadata": {},
   "outputs": [
    {
     "name": "stdout",
     "output_type": "stream",
     "text": [
      "4\n"
     ]
    }
   ],
   "source": [
    "print(square(2))"
   ]
  },
  {
   "cell_type": "markdown",
   "id": "7ac043cc-8432-4357-aed3-83e149f78a3d",
   "metadata": {},
   "source": [
    "Hàm square(x) tách phần tính toán bình phương thành một khối riêng, giúp code dễ đọc, dễ tái sử dụng. return sẽ cho phép lấy kết quả của hàm để dùng ở các phần khác trong chương trình. Gọi hàm bằng square(2) sẽ thực hiện tính toán với tham số cụ thể."
   ]
  },
  {
   "cell_type": "code",
   "execution_count": 5,
   "id": "e84e3a00-09b1-4776-b182-5522e74927f4",
   "metadata": {},
   "outputs": [
    {
     "name": "stdout",
     "output_type": "stream",
     "text": [
      "9\n"
     ]
    }
   ],
   "source": [
    "print(square(-3))"
   ]
  },
  {
   "cell_type": "markdown",
   "id": "d44bee44-922b-498e-9a71-f711bbda0df4",
   "metadata": {},
   "source": [
    "Hàm square(x) tính bình phương của số x và trả kết quả in ra màn hình."
   ]
  },
  {
   "cell_type": "markdown",
   "id": "d78b6bab-47c6-45fd-83ad-55d04d529f38",
   "metadata": {},
   "source": [
    "#### 8.1.1 Adding a Description"
   ]
  },
  {
   "cell_type": "code",
   "execution_count": 7,
   "id": "e54b431a-3af6-4e0c-86ea-c3b0d70b12ee",
   "metadata": {},
   "outputs": [],
   "source": [
    "def square(x):\n",
    "    \"\"\"returns the squared value of x\"\"\" \n",
    "    return x**2"
   ]
  },
  {
   "cell_type": "markdown",
   "id": "fbd46651-e1e6-4177-b01a-5dd546ff95ea",
   "metadata": {},
   "source": [
    "Hàm này tính bình phương của một số và trả kết quả, docstring giúp giải thích chức năng hàm."
   ]
  },
  {
   "cell_type": "markdown",
   "id": "89bf87cd-9fa7-43eb-9f67-c83045aec061",
   "metadata": {},
   "source": [
    "#### 8.1.2 Arguments of a Function"
   ]
  },
  {
   "cell_type": "code",
   "execution_count": 10,
   "id": "a5aa1541-46db-4ffc-9a96-2e9fa44845b5",
   "metadata": {},
   "outputs": [],
   "source": [
    "def production(l, k, m): \n",
    "    \"\"\"\n",
    "    Returns the value of the production according to\n",
    "    labour, capital and materials\n",
    "    \n",
    "    Keyword arguments:\n",
    "    l -- labour (float)\n",
    "    k -- capital (float)\n",
    "    m -- materials (float)\n",
    "    \"\"\"\n",
    "    return l**0.3 * k**0.5 * m**(0.2)"
   ]
  },
  {
   "cell_type": "markdown",
   "id": "46827537-e861-4507-8038-ff1a5be051e9",
   "metadata": {},
   "source": [
    "Hàm này tính giá trị sản xuất dựa trên lao động, vốn và nguyên liệu và trả kết quả, docstring giúp mô tả rõ ràng mục đích và tham số của hàm."
   ]
  },
  {
   "cell_type": "markdown",
   "id": "40890ca2-5f98-4a52-8eb2-f1d5aaf1165c",
   "metadata": {},
   "source": [
    "##### 8.1.2.1 Call Without Argument Names"
   ]
  },
  {
   "cell_type": "code",
   "execution_count": 11,
   "id": "0cd6f114-af98-4589-baf6-5de3b2ab202a",
   "metadata": {},
   "outputs": [
    {
     "name": "stdout",
     "output_type": "stream",
     "text": [
      "46.289449781254994\n"
     ]
    }
   ],
   "source": [
    "prod_val = production(60, 42, 40) \n",
    "print(prod_val)"
   ]
  },
  {
   "cell_type": "markdown",
   "id": "d87ed196-5d41-419e-a36d-c1e38793ded5",
   "metadata": {},
   "source": [
    "Đây là cách gọi hàm với các tham số cụ thể, lưu kết quả vào biến và in ra, giúp tái sử dụng kết quả cho các tính toán tiếp theo."
   ]
  },
  {
   "cell_type": "markdown",
   "id": "78eff816-215a-4b23-b15f-9b3739862208",
   "metadata": {},
   "source": [
    "##### 8.1.2.2 Positional Arguments, Arguments by Keywords"
   ]
  },
  {
   "cell_type": "code",
   "execution_count": 12,
   "id": "f7ee3156-da24-4c8c-acbf-8287d047a517",
   "metadata": {},
   "outputs": [],
   "source": [
    "def production_2(l, m, k=42): \n",
    "    \"\"\"\n",
    "    Returns the value of the production according to\n",
    "    labour, capital and materials\n",
    "    \n",
    "    Keyword arguments:\n",
    "    l -- labour (float)\n",
    "    m -- materials (float)\n",
    "    k -- capital (float) (default 42) \n",
    "    \"\"\"\n",
    "    return l**0.3 * k**0.5 * m**(0.2)"
   ]
  },
  {
   "cell_type": "markdown",
   "id": "e470058f-9520-4048-a219-17fbad74468c",
   "metadata": {},
   "source": [
    "Hàm này tính giá trị sản xuất dựa trên lao động, nguyên liệu và vốn, trong đó tham số vốn có thể bỏ qua để dùng giá trị mặc định, giúp hàm linh hoạt hơn."
   ]
  },
  {
   "cell_type": "code",
   "execution_count": 14,
   "id": "4a37f2d5-a4fa-4826-82f2-fc0631bb1c7f",
   "metadata": {},
   "outputs": [
    {
     "name": "stdout",
     "output_type": "stream",
     "text": [
      "[41.59215573604822, 41.59215573604822, 41.59215573604822, 41.59215573604822]\n"
     ]
    }
   ],
   "source": [
    "# By naming all argument, by ommitting k\n",
    "prod_val_1 = production_2(l = 42, m = 40)\n",
    "# By naming all argument and specifying k \n",
    "prod_val_2 = production_2(l = 42, m = 40, k = 42) \n",
    "# By naming only the argument k\n",
    "prod_val_3 = production_2(42, 40, k = 42)\n",
    "# Without naming any argument\n",
    "prod_val_4 = production_2(42, 40, 42)\n",
    "res = [prod_val_1, prod_val_2, prod_val_3, prod_val_4] \n",
    "print(res)"
   ]
  },
  {
   "cell_type": "markdown",
   "id": "7e4a45b1-d5d5-4f63-bfe5-329b67aa5bce",
   "metadata": {},
   "source": [
    "Đây là cách gọi hàm linh hoạt trong Python bằng tên, bằng vị trí, kết hợp cả hai, và sử dụng tham số mặc định."
   ]
  },
  {
   "cell_type": "code",
   "execution_count": 1,
   "id": "0d495aba-2991-4cf6-824a-3f21904ff01e",
   "metadata": {},
   "outputs": [
    {
     "name": "stdout",
     "output_type": "stream",
     "text": [
      "[41.16765711449734, 41.59215573604822, 41.59215573604822, 41.59215573604822]\n"
     ]
    }
   ],
   "source": [
    "def production_3(a, l, m = 40, k=42): \n",
    "    \"\"\"\n",
    "    Returns the value of the production according to\n",
    "    labour, capital and materials\n",
    "    \n",
    "    Keyword arguments:\n",
    "    a -- total factor productivity (float) l -- labour (float)\n",
    "    m -- materials (float) (default 40)\n",
    "    k -- capital (float) (default 42)\n",
    "    \"\"\"\n",
    "    return a * l**0.3 * k**0.5 * m**(0.2)\n",
    "\n",
    "prod_val_1 = production_3(1, 42, m = 38) \n",
    "prod_val_2 = production_3(a = 1, l = 42) \n",
    "prod_val_3 = production_3(l = 42, a = 1) \n",
    "prod_val_4 = production_3(m = 40, l = 42, a = 1)\n",
    "\n",
    "res = [prod_val_1, prod_val_2, prod_val_3, prod_val_4] \n",
    "print(res)"
   ]
  },
  {
   "cell_type": "markdown",
   "id": "44fcf831-c051-43af-b7f5-b9ccad8a4cd6",
   "metadata": {},
   "source": [
    "Đây là cách gọi hàm linh hoạt trong Python bằng tên, bằng vị trí, kết hợp cả hai, và sử dụng tham số mặc định."
   ]
  },
  {
   "cell_type": "markdown",
   "id": "b5c5d4d7-f99d-4fda-b4b3-1ba4ece6a033",
   "metadata": {},
   "source": [
    "##### 8.1.2.3 Function as an Argument to Another Function"
   ]
  },
  {
   "cell_type": "code",
   "execution_count": 2,
   "id": "af3b3ae3-72cd-495a-b232-3ccf0971a067",
   "metadata": {},
   "outputs": [
    {
     "name": "stdout",
     "output_type": "stream",
     "text": [
      "16\n"
     ]
    }
   ],
   "source": [
    "def square(x):\n",
    "    \"\"\"Returns the squared value of x\"\"\" \n",
    "    return x**2\n",
    "    \n",
    "def apply_fun_to_4(fun):\n",
    "    \"\"\"Applies the function `fun` to 4\"\"\" \n",
    "    return fun(4)\n",
    "    \n",
    "print(apply_fun_to_4(square))"
   ]
  },
  {
   "cell_type": "markdown",
   "id": "c0f141fc-48b9-4b2c-ae9b-8f441738f8c4",
   "metadata": {},
   "source": [
    "Minh họa cách truyền một hàm như đối số cho hàm khác. Hàm square tính bình phương một số, còn hàm apply_fun_to_4 nhận một hàm khác và áp dụng nó cho số 4. Khi gọi apply_fun_to_4(square), Python thực hiện square(4) và trả kết quả 16. Ý nghĩa chung là có thể viết các hàm linh hoạt, tái sử dụng cao, áp dụng cho nhiều hàm khác nhau mà không phải viết lại logic."
   ]
  },
  {
   "cell_type": "markdown",
   "id": "627475cc-b3c4-4baf-8974-cc083fed3c94",
   "metadata": {},
   "source": [
    "### 8.2 Scope of a Function"
   ]
  },
  {
   "cell_type": "code",
   "execution_count": 3,
   "id": "d1ad3fa7-cb72-42cf-8f6e-9478205a83c0",
   "metadata": {},
   "outputs": [],
   "source": [
    "# Definition of a global variable:\n",
    "value = 1\n",
    "# Definition of a local variable in function f\n",
    "def f(x):\n",
    "    value = 2\n",
    "    new_value = 3\n",
    "    print(\"value equals: \", value) \n",
    "    print(\"new_value equals: \", new_value) \n",
    "    return x + value"
   ]
  },
  {
   "cell_type": "code",
   "execution_count": 4,
   "id": "e8ed5d18-bb69-4f88-b176-bb6926ea5f32",
   "metadata": {},
   "outputs": [
    {
     "name": "stdout",
     "output_type": "stream",
     "text": [
      "value equals:  2\n",
      "new_value equals:  3\n"
     ]
    }
   ],
   "source": [
    "res = f(3)"
   ]
  },
  {
   "cell_type": "markdown",
   "id": "600dcba7-1604-4071-812e-9268434343ee",
   "metadata": {},
   "source": [
    "Các biến cục bộ trong hàm (value = 2, new_value = 3) chỉ tồn tại bên trong hàm và dùng để tính toán hoặc in ra trong hàm, trong khi biến toàn cục (value = 1) vẫn giữ nguyên ngoài hàm. Khi gọi hàm, Python dùng giá trị của biến cục bộ để thực hiện phép tính và trả kết quả (res = x + value), nhưng không thay đổi biến toàn cục."
   ]
  },
  {
   "cell_type": "code",
   "execution_count": 5,
   "id": "cf344246-a3a8-41fd-b2fd-8938a8adf37a",
   "metadata": {},
   "outputs": [
    {
     "name": "stdout",
     "output_type": "stream",
     "text": [
      "value equals:  1\n"
     ]
    }
   ],
   "source": [
    "print(\"value equals: \", value)"
   ]
  },
  {
   "cell_type": "markdown",
   "id": "84dd342a-0601-4c63-bea4-8613c5edcab8",
   "metadata": {},
   "source": [
    "In ra giá trị hiện tại của biến value tại vị trí gọi lệnh. Nếu gọi ngoài hàm, Python sẽ in giá trị biến toàn cục (value = 1). Nếu gọi trong hàm và có biến cục bộ value, Python sẽ in giá trị biến cục bộ (value = 2)."
   ]
  },
  {
   "cell_type": "code",
   "execution_count": 6,
   "id": "1f6ff35c-af94-44ad-a664-11a7c06a49c4",
   "metadata": {},
   "outputs": [
    {
     "ename": "NameError",
     "evalue": "name 'new_value' is not defined",
     "output_type": "error",
     "traceback": [
      "\u001b[31m---------------------------------------------------------------------------\u001b[39m",
      "\u001b[31mNameError\u001b[39m                                 Traceback (most recent call last)",
      "\u001b[36mCell\u001b[39m\u001b[36m \u001b[39m\u001b[32mIn[6]\u001b[39m\u001b[32m, line 1\u001b[39m\n\u001b[32m----> \u001b[39m\u001b[32m1\u001b[39m \u001b[38;5;28mprint\u001b[39m(\u001b[33m\"\u001b[39m\u001b[33mnew_value equals: \u001b[39m\u001b[33m\"\u001b[39m, \u001b[43mnew_value\u001b[49m)\n",
      "\u001b[31mNameError\u001b[39m: name 'new_value' is not defined"
     ]
    }
   ],
   "source": [
    "print(\"new_value equals: \", new_value)"
   ]
  },
  {
   "cell_type": "markdown",
   "id": "21097410-9002-4f76-ab0f-9b959b7efaec",
   "metadata": {},
   "source": [
    "Các biến cục bộ chỉ dùng được trong hàm, còn ngoài hàm phải dùng biến toàn cục hoặc trả giá trị từ hàm ra nếu muốn sử dụng."
   ]
  },
  {
   "cell_type": "code",
   "execution_count": 7,
   "id": "78c68f36-e9e4-41a5-97d9-5ef75ff30ff0",
   "metadata": {},
   "outputs": [
    {
     "name": "stdout",
     "output_type": "stream",
     "text": [
      "3\n"
     ]
    }
   ],
   "source": [
    "value = 1 \n",
    "def f(x):\n",
    "    return x + value \n",
    "    \n",
    "print(f(2))"
   ]
  },
  {
   "cell_type": "markdown",
   "id": "2f8769a6-c5d1-408e-aafa-29bd634b9ead",
   "metadata": {},
   "source": [
    "Trong hàm f(x), không có biến cục bộ value, nên Python sử dụng giá trị biến toàn cục. return x + value → 2 + 1 = 3 nên print(f(2)) in ra kết quả 3."
   ]
  },
  {
   "cell_type": "code",
   "execution_count": 9,
   "id": "b0c93b52-4bb5-4bf8-9535-cca7eccc2d75",
   "metadata": {},
   "outputs": [
    {
     "name": "stdout",
     "output_type": "stream",
     "text": [
      "4\n"
     ]
    }
   ],
   "source": [
    "# The value variable is not defined in \n",
    "# the local environment of g().\n",
    "# Python will then search in f(). \n",
    "value = 1\n",
    "def f(): \n",
    "    value = 2 \n",
    "    def g(x):\n",
    "        return x + value \n",
    "    \n",
    "    return g(2)\n",
    "print(f())"
   ]
  },
  {
   "cell_type": "markdown",
   "id": "55433aec-db61-4403-964b-c26185a58ed3",
   "metadata": {},
   "source": [
    "Trong f(), value = 2 → biến cục bộ của hàm f. g(x) không định nghĩa biến value riêng → Python sẽ tìm biến trong môi trường bao quanh (enclosing scope), tức là biến cục bộ value của f(). g(2) → tính 2 + value = 2 + 2 = 4 nên f() trả về g(2) = 4 và print(f()) in ra 4."
   ]
  },
  {
   "cell_type": "code",
   "execution_count": 13,
   "id": "2f093edb-4369-4c72-a00b-d73cada22554",
   "metadata": {},
   "outputs": [
    {
     "name": "stdout",
     "output_type": "stream",
     "text": [
      "3\n"
     ]
    }
   ],
   "source": [
    "# The value variable is not defined in g() or f() \n",
    "# but in the higher environment (here, global) \n",
    "value = 1\n",
    "def f():\n",
    "    def g(x):\n",
    "        return x + value\n",
    "    return g(2)\n",
    "print(f())"
   ]
  },
  {
   "cell_type": "markdown",
   "id": "32d80c21-5c47-4a42-9de4-3620bc9036db",
   "metadata": {},
   "source": [
    "Khi biến không tồn tại trong hàm hay hàm bao quanh, Python sẽ tìm biến trong phạm vi toàn cục."
   ]
  },
  {
   "cell_type": "code",
   "execution_count": 14,
   "id": "b0375a84-a407-41b4-a8c2-3adbffc85ca4",
   "metadata": {},
   "outputs": [
    {
     "name": "stdout",
     "output_type": "stream",
     "text": [
      "4\n"
     ]
    }
   ],
   "source": [
    "def f(x): \n",
    "    global y \n",
    "    y = x+1\n",
    "\n",
    "f(3)\n",
    "print(y)"
   ]
  },
  {
   "cell_type": "markdown",
   "id": "381a2999-973d-4c71-8906-e99dd13b1bef",
   "metadata": {},
   "source": [
    "Từ khóa global cho phép tạo hoặc sửa biến toàn cục bên trong hàm. Không dùng global thì biến trong hàm sẽ là cục bộ, không ảnh hưởng biến ngoài hàm."
   ]
  },
  {
   "cell_type": "markdown",
   "id": "1adebb0f-fe19-455a-8609-fd732726a6e7",
   "metadata": {},
   "source": [
    "### 8.3 Lambda Functions"
   ]
  },
  {
   "cell_type": "code",
   "execution_count": 15,
   "id": "96b436f2-97ea-4a1b-8f95-3483b0627fd2",
   "metadata": {},
   "outputs": [],
   "source": [
    "def square(x): \n",
    "    return x**2"
   ]
  },
  {
   "cell_type": "code",
   "execution_count": 16,
   "id": "3e23dcaf-7d02-44b3-a27d-07845b69d179",
   "metadata": {},
   "outputs": [
    {
     "name": "stdout",
     "output_type": "stream",
     "text": [
      "16\n"
     ]
    }
   ],
   "source": [
    "square_2 = lambda x: x**2 \n",
    "print(square_2(4))"
   ]
  },
  {
   "cell_type": "markdown",
   "id": "9f4a49ec-0594-4345-8646-72cd0b117eae",
   "metadata": {},
   "source": [
    "lambda cho phép tạo hàm ngắn gọn trong một dòng mà không cần dùng def. gán hàm này cho biến square_2, để có thể gọi như hàm bình thường. square_2(4) → tính 4**2 = 16."
   ]
  },
  {
   "cell_type": "code",
   "execution_count": 17,
   "id": "a09d4f1b-eabb-452e-b12e-65e86a8b8e59",
   "metadata": {},
   "outputs": [],
   "source": [
    "def production(l, k, m): \n",
    "    \"\"\"\n",
    "    Returns the value of the production according to\n",
    "    labour, capital and materials.\n",
    "    \n",
    "    Keyword arguments:\n",
    "    l -- labour (float)\n",
    "    k -- capital (float)\n",
    "    m -- materials (float)\n",
    "    \"\"\"\n",
    "    return l**0.3 * k**0.5 * m**(0.2)"
   ]
  },
  {
   "cell_type": "code",
   "execution_count": 18,
   "id": "095ab5f0-b7ac-4377-a26c-e56302bc984d",
   "metadata": {},
   "outputs": [
    {
     "name": "stdout",
     "output_type": "stream",
     "text": [
      "40.987803063838406\n"
     ]
    }
   ],
   "source": [
    "production_2 = lambda l,k,m : l**0.3 * k**0.5 * m**(0.2) \n",
    "print(production(42, 40, 42))"
   ]
  },
  {
   "cell_type": "markdown",
   "id": "8ad3f57b-1a89-47b3-8832-4e217c43c023",
   "metadata": {},
   "source": [
    "Python cho phép định nghĩa hàm bằng def hoặc lambda. Cả hai cách đều có thể tính toán và trả kết quả giống nhau, nhưng def thuận tiện khi muốn viết docstring hoặc thân hàm phức tạp, còn lambda tiện cho hàm ngắn gọn, dùng một lần."
   ]
  },
  {
   "cell_type": "code",
   "execution_count": 19,
   "id": "c7ac0764-2833-4101-beaf-3ae2451d95da",
   "metadata": {},
   "outputs": [
    {
     "name": "stdout",
     "output_type": "stream",
     "text": [
      "40.987803063838406\n"
     ]
    }
   ],
   "source": [
    "print(production_2(42, 40, 42))"
   ]
  },
  {
   "cell_type": "markdown",
   "id": "b8720791-b1f7-4f73-97c8-f6e71e30de02",
   "metadata": {},
   "source": [
    "production_2 là hàm lambda tính giá trị sản xuất theo công thức Cobb-Douglas production = 𝑙^0.3 x 𝑘^0.5 x 𝑚^0.2. Gọi production_2(42, 40, 42) → tính giá trị với l=42, k=40, m=42."
   ]
  },
  {
   "cell_type": "markdown",
   "id": "694de036-e11c-4b80-a81d-53f193b26f44",
   "metadata": {},
   "source": [
    "### 8.4 Returning Several Values"
   ]
  },
  {
   "cell_type": "code",
   "execution_count": 20,
   "id": "dc8d72c6-c510-4698-9a40-7da55e6c3a12",
   "metadata": {},
   "outputs": [
    {
     "name": "stdout",
     "output_type": "stream",
     "text": [
      "{'mean': 3.9, 'std_dev': 2.8460498941515415}\n"
     ]
    }
   ],
   "source": [
    "import statistics \n",
    "def desc_stats(x):\n",
    "    \"\"\"Returns the mean and standard deviation of `x`\"\"\"\n",
    "    return {\"mean\": statistics.mean(x), \n",
    "            \"std_dev\": statistics.stdev(x)}\n",
    "    \n",
    "x = [1,3,2,6,4,1,8,9,3,2] \n",
    "res = desc_stats(x) \n",
    "print(res)"
   ]
  },
  {
   "cell_type": "markdown",
   "id": "481dc694-969b-46d6-aae5-d56498f0370f",
   "metadata": {},
   "source": [
    "import statistics → nhập module hỗ trợ các phép toán thống kê.\n",
    "\n",
    "desc_stats(x) → hàm nhận một danh sách x, trả về dictionary gồm:\n",
    "\n",
    "\"mean\": trung bình cộng của các giá trị.\n",
    "\n",
    "\"std_dev\": độ lệch chuẩn (standard deviation).\n",
    "\n",
    "Gọi hàm với danh sách x = [1,3,2,6,4,1,8,9,3,2] → tính mean = 3.9, std_dev ≈ 2.846 vàin ra kết quả."
   ]
  },
  {
   "cell_type": "code",
   "execution_count": 21,
   "id": "ae1d8e96-5142-4a0c-bcc4-56cb702e33b4",
   "metadata": {},
   "outputs": [
    {
     "name": "stdout",
     "output_type": "stream",
     "text": [
      "The average value equals 3.9 and the standard deviation is 2.8460498941515415\n"
     ]
    }
   ],
   "source": [
    "message = \"The average value equals {} and the standard deviation is {}\" \n",
    "print(message.format(res[\"mean\"], res[\"std_dev\"]))"
   ]
  },
  {
   "cell_type": "markdown",
   "id": "0c118506-8aee-481e-bda1-07fcac8d4a92",
   "metadata": {},
   "source": [
    "Sử dụng str.format() để định dạng chuỗi và in kết quả thống kê một cách dễ đọc."
   ]
  },
  {
   "cell_type": "markdown",
   "id": "555ca0b6-0498-421e-86a6-dd23c9b148f5",
   "metadata": {},
   "source": [
    "### 8.5 Exercise"
   ]
  },
  {
   "cell_type": "markdown",
   "id": "b9789071-f12f-4c79-a1ce-f7088910deb3",
   "metadata": {},
   "source": [
    "1. Create a function named sum_n_integers which returns the sum of the first integer n. Its only argument will be n."
   ]
  },
  {
   "cell_type": "code",
   "execution_count": 22,
   "id": "ab412bf8-4a95-4d07-bca8-6c60cd582193",
   "metadata": {},
   "outputs": [
    {
     "name": "stdout",
     "output_type": "stream",
     "text": [
      "15\n",
      "55\n"
     ]
    }
   ],
   "source": [
    "def sum_n_integers(n):\n",
    "    \"\"\"\n",
    "    Trả về tổng của n số nguyên đầu tiên\n",
    "    \"\"\"\n",
    "    return n * (n + 1) // 2\n",
    "\n",
    "print(sum_n_integers(5))  \n",
    "print(sum_n_integers(10)) "
   ]
  },
  {
   "cell_type": "markdown",
   "id": "c73970eb-79e4-4ec7-828b-c8ee098ea381",
   "metadata": {},
   "source": [
    "2. Using a loop, display the sum of the first 2 integers, then 3 first integers, then 4 first integers, etc. up to 10."
   ]
  },
  {
   "cell_type": "code",
   "execution_count": 23,
   "id": "8ccca9d5-b62e-44e8-9ac7-9319c543edbe",
   "metadata": {},
   "outputs": [
    {
     "name": "stdout",
     "output_type": "stream",
     "text": [
      "Sum of the first 2 integers is 3\n",
      "Sum of the first 3 integers is 6\n",
      "Sum of the first 4 integers is 10\n",
      "Sum of the first 5 integers is 15\n",
      "Sum of the first 6 integers is 21\n",
      "Sum of the first 7 integers is 28\n",
      "Sum of the first 8 integers is 36\n",
      "Sum of the first 9 integers is 45\n",
      "Sum of the first 10 integers is 55\n"
     ]
    }
   ],
   "source": [
    "# Sử dụng vòng lặp để tính tổng dần từ 2 đến 10 số nguyên đầu tiên\n",
    "for n in range(2, 11):  \n",
    "    total = sum(range(1, n+1))  \n",
    "    print(f\"Sum of the first {n} integers is {total}\")"
   ]
  },
  {
   "cell_type": "markdown",
   "id": "922be750-6723-47c4-9584-ea6ef5dc6ad3",
   "metadata": {},
   "source": [
    "3. Create a function that from two points represented by pairs of coordinates (x1, y1) and (x2, y2) returns the Euclidean distance between these two points.\n",
    "Propose a second solution using a lambda function."
   ]
  },
  {
   "cell_type": "code",
   "execution_count": 25,
   "id": "269810f3-c4cb-43d1-b613-3dac32f3937b",
   "metadata": {},
   "outputs": [
    {
     "name": "stdout",
     "output_type": "stream",
     "text": [
      "5.0\n"
     ]
    }
   ],
   "source": [
    "import math\n",
    "\n",
    "def euclidean_distance(p1, p2):\n",
    "    \"\"\"\n",
    "    Trả về khoảng cách Euclid giữa hai điểm p1 và p2\n",
    "    p1, p2: tuple chứa tọa độ (x, y)\n",
    "    \"\"\"\n",
    "    x1, y1 = p1\n",
    "    x2, y2 = p2\n",
    "    return math.sqrt((x2 - x1)**2 + (y2 - y1)**2)\n",
    "\n",
    "print(euclidean_distance((1, 2), (4, 6)))"
   ]
  },
  {
   "cell_type": "markdown",
   "id": "30d95f8d-580a-4e8d-bbf5-372ec69e80fa",
   "metadata": {},
   "source": [
    "# Kết thúc Chapter 8"
   ]
  }
 ],
 "metadata": {
  "kernelspec": {
   "display_name": "Python 3 (ipykernel)",
   "language": "python",
   "name": "python3"
  },
  "language_info": {
   "codemirror_mode": {
    "name": "ipython",
    "version": 3
   },
   "file_extension": ".py",
   "mimetype": "text/x-python",
   "name": "python",
   "nbconvert_exporter": "python",
   "pygments_lexer": "ipython3",
   "version": "3.12.1"
  }
 },
 "nbformat": 4,
 "nbformat_minor": 5
}
