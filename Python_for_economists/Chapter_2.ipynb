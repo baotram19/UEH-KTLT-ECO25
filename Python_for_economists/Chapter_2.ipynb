{
 "cells": [
  {
   "cell_type": "markdown",
   "id": "aca96756-9d16-4dc5-949f-28447694d412",
   "metadata": {},
   "source": [
    "# Chapter 2"
   ]
  },
  {
   "cell_type": "markdown",
   "id": "03481f2e-d51d-4777-bb3a-6c46f9e62cdd",
   "metadata": {},
   "source": [
    "# Types of Data"
   ]
  },
  {
   "cell_type": "markdown",
   "id": "a7d297f6-5e4d-481d-835e-1dcc69d14304",
   "metadata": {},
   "source": [
    "### 2.1 Strings"
   ]
  },
  {
   "cell_type": "code",
   "execution_count": 1,
   "id": "26a83def-2ae0-40d4-bdbd-92c0e7d137d5",
   "metadata": {},
   "outputs": [],
   "source": [
    "x = \"Hello World\""
   ]
  },
  {
   "cell_type": "code",
   "execution_count": 2,
   "id": "3900a581-0100-44e0-98e3-0720b5c4dea3",
   "metadata": {},
   "outputs": [
    {
     "name": "stdout",
     "output_type": "stream",
     "text": [
      "Hello World\n"
     ]
    }
   ],
   "source": [
    "print(x)"
   ]
  },
  {
   "cell_type": "markdown",
   "id": "c6d4e142-6601-4f90-b377-fb484511c8d7",
   "metadata": {},
   "source": [
    "Nhập dữ liệu x là \"Hello World\" và in dữ liệu x với kết quả trả về là Hello World."
   ]
  },
  {
   "cell_type": "code",
   "execution_count": 3,
   "id": "1425b869-8b04-4354-a0e8-aa4dbe9b9f53",
   "metadata": {},
   "outputs": [
    {
     "name": "stdout",
     "output_type": "stream",
     "text": [
      "How are you?\n"
     ]
    }
   ],
   "source": [
    "y = 'How are you?'\n",
    "print(y)"
   ]
  },
  {
   "cell_type": "markdown",
   "id": "2d6e5841-524a-4b78-b12f-45c0df02a7cb",
   "metadata": {},
   "source": [
    "Sử dụng dấu nháy đơn 'How are you?' để tạo một chuỗi và gán chuỗi đó vào biến y với kết quả trả về là How are you?"
   ]
  },
  {
   "cell_type": "code",
   "execution_count": 4,
   "id": "f9c6602e-5cdd-4f96-9555-a151ea0f109e",
   "metadata": {},
   "outputs": [
    {
     "name": "stdout",
     "output_type": "stream",
     "text": [
      "I'm fine\n"
     ]
    }
   ],
   "source": [
    "z = 'I\\'m fine'\n",
    "print(z)"
   ]
  },
  {
   "cell_type": "markdown",
   "id": "5f5b426b-812b-4fa9-a136-5251105c6cab",
   "metadata": {},
   "source": [
    "Khi sử dụng dấu nháy đơn '...' để tạo chuỗi, nếu bên trong chuỗi cũng có dấu nháy đơn ví dụ như 'I'm, thì phải dùng ký tự thoát \\ để tránh lỗi cú pháp. Cuối cùng trả về kết quả biến y là I'm fine."
   ]
  },
  {
   "cell_type": "code",
   "execution_count": 1,
   "id": "fee083ef-d572-4215-82bf-e497283c8b9c",
   "metadata": {},
   "outputs": [
    {
     "name": "stdout",
     "output_type": "stream",
     "text": [
      "I'm \"fine\"\n"
     ]
    }
   ],
   "source": [
    "z = \"I'm \\\"fine\\\"\"\n",
    "print(z)"
   ]
  },
  {
   "cell_type": "markdown",
   "id": "659d508b-d25a-4563-8709-830d4b97e360",
   "metadata": {},
   "source": [
    "Khi chuỗi được tạo bằng dấu nháy kép \"...\", có thể dùng dấu nháy đơn ' bên trong mà không cần escape. Tuy nhiên, nếu muốn chèn dấu nháy kép bên trong chuỗi, ta cần dùng ký tự thoát \\\"."
   ]
  },
  {
   "cell_type": "code",
   "execution_count": 2,
   "id": "67d518ed-dca0-4a07-9d93-28721b691e30",
   "metadata": {},
   "outputs": [
    {
     "name": "stdout",
     "output_type": "stream",
     "text": [
      "Hello, \n",
      "World\n"
     ]
    }
   ],
   "source": [
    "x = \"Hello, \\nWorld\"\n",
    "print(x)"
   ]
  },
  {
   "cell_type": "markdown",
   "id": "e5537082-a3a3-4837-bbba-51b69bc94342",
   "metadata": {},
   "source": [
    "Ký tự \\n được dùng để tạo dòng mới trong chuỗi. Khi in ra bằng print(), nội dung sau ký tự \\n sẽ được hiển thị trên dòng tiếp theo."
   ]
  },
  {
   "cell_type": "code",
   "execution_count": 3,
   "id": "7ac09fcf-d1b6-4db0-9fd6-4569ba384a8e",
   "metadata": {},
   "outputs": [
    {
     "name": "stdout",
     "output_type": "stream",
     "text": [
      "Hello,\n",
      "World\n"
     ]
    }
   ],
   "source": [
    "x = \"\"\"Hello,\n",
    "World\"\"\"\n",
    "print(x)"
   ]
  },
  {
   "cell_type": "markdown",
   "id": "6fb09e99-076a-4c3b-912b-15eb33bb7cbc",
   "metadata": {},
   "source": [
    "Ba dấu nháy kép \"\"\" ... \"\"\" cho phép tạo chuỗi nhiều dòng nên khi xuống dòng trong cùng nội dung chuỗi sẽ được giữ nguyên khi in ra."
   ]
  },
  {
   "cell_type": "code",
   "execution_count": 4,
   "id": "cbf68726-f9c6-4659-932b-3831836e9600",
   "metadata": {},
   "outputs": [
    {
     "name": "stdout",
     "output_type": "stream",
     "text": [
      "13\n"
     ]
    }
   ],
   "source": [
    "x = \"Hello World !\"\n",
    "print(len(x))"
   ]
  },
  {
   "cell_type": "markdown",
   "id": "5f498bf0-07ba-4fe5-aba3-7ce87579c641",
   "metadata": {},
   "source": [
    "Hàm len() được dùng để đếm số ký tự trong chuỗi, bao gồm cả khoảng trắng và dấu câu nên kết quả print trả về là 13."
   ]
  },
  {
   "cell_type": "code",
   "execution_count": 5,
   "id": "23e571ce-372f-4ab0-8d55-46b86200613c",
   "metadata": {},
   "outputs": [
    {
     "name": "stdout",
     "output_type": "stream",
     "text": [
      "Hello World ! 13\n"
     ]
    }
   ],
   "source": [
    "print(x, len(x))"
   ]
  },
  {
   "cell_type": "markdown",
   "id": "91995518-72fb-4c2b-b713-31c101bacd90",
   "metadata": {},
   "source": [
    "Lệnh print(x, len(x)) in ra cả nội dung chuỗi x và số ký tự trong chuỗi đó, kết quả trả về là Hello World ! 13 cách nhau bằng một khoảng trắng."
   ]
  },
  {
   "cell_type": "markdown",
   "id": "58ba4412-33cb-4f08-97e2-1b59b25f53df",
   "metadata": {},
   "source": [
    "#### 2.1.1 Concatenation of Strings"
   ]
  },
  {
   "cell_type": "code",
   "execution_count": 6,
   "id": "61e557f0-8321-4cd1-aeb7-2376282b2f4b",
   "metadata": {},
   "outputs": [
    {
     "name": "stdout",
     "output_type": "stream",
     "text": [
      "Hello World\n"
     ]
    }
   ],
   "source": [
    "print(\"Hello\" + \" World\")"
   ]
  },
  {
   "cell_type": "markdown",
   "id": "3594b476-a3c9-4b6a-816a-46613daf7eb2",
   "metadata": {},
   "source": [
    "Phép cộng (+) dùng để nối hai chuỗi lại với nhau thành một chuỗi mới. "
   ]
  },
  {
   "cell_type": "code",
   "execution_count": 7,
   "id": "c2c66c5f-69e4-4900-9788-a3d7863adf1b",
   "metadata": {},
   "outputs": [
    {
     "name": "stdout",
     "output_type": "stream",
     "text": [
      "Go Habs Go! Go Habs Go! Go Habs Go! Woo Hoo!\n"
     ]
    }
   ],
   "source": [
    "print( 3 * \"Go Habs Go! \" + \"Woo Hoo!\")"
   ]
  },
  {
   "cell_type": "markdown",
   "id": "e90e801e-0105-4c00-af2c-5d4403aef662",
   "metadata": {},
   "source": [
    "Phép toán * khi áp dụng với chuỗi và số nguyên sẽ tạo ra chuỗi lặp lại số lần tương ứng."
   ]
  },
  {
   "cell_type": "code",
   "execution_count": 8,
   "id": "eee66f64-118f-45b3-8b26-c53fe22dcd27",
   "metadata": {},
   "outputs": [
    {
     "name": "stdout",
     "output_type": "stream",
     "text": [
      "You shall not pass!\n"
     ]
    }
   ],
   "source": [
    "x = ('You shall ' 'not ' \"pass!\")\n",
    "print(x)"
   ]
  },
  {
   "cell_type": "markdown",
   "id": "9655f873-bea3-42f8-bad4-58a1a22fe28b",
   "metadata": {},
   "source": [
    "Khi đặt nhiều chuỗi liên tiếp liền nhau trong ngoặc đơn, Python sẽ tự động nối chúng thành một chuỗi duy nhất mà không cần dùng đến phép toán +."
   ]
  },
  {
   "cell_type": "code",
   "execution_count": 9,
   "id": "9621198e-0520-4f0c-9a3b-f2bcfac5bb5e",
   "metadata": {},
   "outputs": [
    {
     "name": "stdout",
     "output_type": "stream",
     "text": [
      "I like to code in R\n"
     ]
    }
   ],
   "source": [
    "x = \"I like to code in {}\"\n",
    "langage_1 = \"R\"\n",
    "langage_2 = \"Python\"\n",
    "preference_1 = x.format(langage_1)\n",
    "print(preference_1)"
   ]
  },
  {
   "cell_type": "markdown",
   "id": "84c3c469-9b45-4906-a7ec-36aaf5e4bd41",
   "metadata": {},
   "source": [
    "Chuỗi chứa một dấu ngoặc nhọn {} là vị trí chứa chỗ trống để chèn giá trị. Khai báo 2 biến chuỗi với language_1 là R và langugage_ 2 là Python. Gọi lệnh .format() trên chuỗi x với giá trị của langage_1 là R sẽ được chèn vào vị trí {} trong chuỗi x. Kết quả in ra màn hình sẽ là I like to code in R."
   ]
  },
  {
   "cell_type": "code",
   "execution_count": 2,
   "id": "e4f75dda-1db0-4b4e-8f21-68089f5c98dd",
   "metadata": {},
   "outputs": [
    {
     "name": "stdout",
     "output_type": "stream",
     "text": [
      "I like to code in Python\n"
     ]
    }
   ],
   "source": [
    "x = \"I like to code in {}\"\n",
    "langage_1 = \"R\"\n",
    "langage_2 = \"Python\"\n",
    "preference_2 = x.format(langage_2)\n",
    "print(preference_2)"
   ]
  },
  {
   "cell_type": "markdown",
   "id": "7c0ee39d-0d1e-4f80-92e2-edf6948b2c04",
   "metadata": {},
   "source": [
    "Chuỗi chứa một dấu ngoặc nhọn {} là vị trí chứa chỗ trống để chèn giá trị. Khai báo 2 biến chuỗi với language_1 là R và langugage_ 2 là Python. Gọi lệnh .format() trên chuỗi x với giá trị của langage_2 là Python sẽ được chèn vào vị trí {} trong chuỗi x. Kết quả in ra màn hình sẽ là I like to code in Python."
   ]
  },
  {
   "cell_type": "code",
   "execution_count": 3,
   "id": "50dce126-77ac-4f69-823c-9f02882c8ed5",
   "metadata": {},
   "outputs": [
    {
     "name": "stdout",
     "output_type": "stream",
     "text": [
      "I like to code in R and in Python\n"
     ]
    }
   ],
   "source": [
    "x = \"I like to code in {} and in {}\"\n",
    "preference_3 = x.format(langage_1, langage_2)\n",
    "print(preference_3)"
   ]
  },
  {
   "cell_type": "markdown",
   "id": "dfbc925c-b99b-415e-9552-c3127d3c5860",
   "metadata": {},
   "source": [
    "Khi một chuỗi chứa nhiều dấu {}, ta có thể chèn nhiều giá trị tương ứng bằng cách truyền các biến vào format() theo đúng thứ tự. Kết quả in ra màn hình sẽ đúng theo giá trị tương ứng."
   ]
  },
  {
   "cell_type": "markdown",
   "id": "3cffba4c-56a9-4a8d-9649-a351cdb8c577",
   "metadata": {},
   "source": [
    "#### 2.1.2 Indexing and Extraction"
   ]
  },
  {
   "cell_type": "code",
   "execution_count": 4,
   "id": "abadbdea-a7ae-487a-b28a-ffd23800756d",
   "metadata": {},
   "outputs": [
    {
     "ename": "NameError",
     "evalue": "name 'i' is not defined",
     "output_type": "error",
     "traceback": [
      "\u001b[31m---------------------------------------------------------------------------\u001b[39m",
      "\u001b[31mNameError\u001b[39m                                 Traceback (most recent call last)",
      "\u001b[36mCell\u001b[39m\u001b[36m \u001b[39m\u001b[32mIn[4]\u001b[39m\u001b[32m, line 1\u001b[39m\n\u001b[32m----> \u001b[39m\u001b[32m1\u001b[39m x[\u001b[43mi\u001b[49m-\u001b[32m1\u001b[39m]\n",
      "\u001b[31mNameError\u001b[39m: name 'i' is not defined"
     ]
    }
   ],
   "source": [
    "x[i-1]"
   ]
  },
  {
   "cell_type": "markdown",
   "id": "128db103-e49d-4603-b1b9-5c8805a98218",
   "metadata": {},
   "source": [
    "Chuỗi trong Python có thể được truy cập từng ký tự bằng chỉ số. Ký tự đầu tiên có chỉ số là 0, ký tự thứ i có chỉ số là i-1. Dùng cú pháp x[i-1] để lấy ký tự đó nhưng hiện thông báo lỗi NamError nên phải khai báo biến i trước khi sử dụng trong biểu thức x[i-1]."
   ]
  },
  {
   "cell_type": "code",
   "execution_count": 5,
   "id": "f5aa8627-a985-44bf-b905-d6d4e2023ba0",
   "metadata": {},
   "outputs": [
    {
     "name": "stdout",
     "output_type": "stream",
     "text": [
      "H\n"
     ]
    }
   ],
   "source": [
    "x = \"Hello\"\n",
    "print(x[0])"
   ]
  },
  {
   "cell_type": "markdown",
   "id": "cd6427e5-ca34-41aa-84c7-f5c4c8930b78",
   "metadata": {},
   "source": [
    "Đây là cú pháp truy cập ký tự tại vị trí thứ 0 trong chuỗi x và trong Python, chỉ số bắt đầu từ 0, nên print(x[0]) thì ký tự đầu tiên của chuỗi \"Hello\" sẽ trả về kết quả in ra màn hình là H.\n",
    "\n"
   ]
  },
  {
   "cell_type": "code",
   "execution_count": 7,
   "id": "b157a552-81c1-4d56-af82-cc64e959b603",
   "metadata": {},
   "outputs": [
    {
     "name": "stdout",
     "output_type": "stream",
     "text": [
      "o\n"
     ]
    }
   ],
   "source": [
    "print(x[4])"
   ]
  },
  {
   "cell_type": "markdown",
   "id": "60a3f285-7062-48b0-a7cb-39d0774e252e",
   "metadata": {},
   "source": [
    "Tương tự, ký tự thứ 4 của chuỗi \"Hello\" sẽ trả về kết quả in ra màn hình là o."
   ]
  },
  {
   "cell_type": "code",
   "execution_count": 8,
   "id": "8dd4b600-73f6-4565-a5dc-066cfdda4248",
   "metadata": {},
   "outputs": [
    {
     "name": "stdout",
     "output_type": "stream",
     "text": [
      "l\n"
     ]
    }
   ],
   "source": [
    "print(x[-2])"
   ]
  },
  {
   "cell_type": "markdown",
   "id": "3b9129f3-c61d-441d-965f-31b32a94221e",
   "metadata": {},
   "source": [
    "Chỉ số ký tự âm sẽ được đánh từ bên phải sang trái, bắt đầu từ -1, nên ký tự -2 sẽ in ra là "
   ]
  },
  {
   "cell_type": "code",
   "execution_count": 1,
   "id": "5ea7fd2b-ebc8-422a-9a4e-12839b10ff04",
   "metadata": {},
   "outputs": [
    {
     "name": "stdout",
     "output_type": "stream",
     "text": [
      "shall\n"
     ]
    }
   ],
   "source": [
    "x = \"You shall not pass!\"\n",
    "# From the fourth character (not included) to the ninth (included)\n",
    "print(x[4:9])"
   ]
  },
  {
   "cell_type": "markdown",
   "id": "48196092-c913-4617-8c4b-4ba8b94da39d",
   "metadata": {},
   "source": [
    "Chuỗi x có nội dung là: \"You shall not pass!\" và lệnh print(x[4:9]) sẽ lấy các ký tự từ vị trí 4 đến trước vị trí 9 (không bao gồm vị trí 9) nên kết quả trả về là shall."
   ]
  },
  {
   "cell_type": "code",
   "execution_count": 2,
   "id": "4b96f0b4-eb2f-4511-a516-21153da3e228",
   "metadata": {},
   "outputs": [
    {
     "name": "stdout",
     "output_type": "stream",
     "text": [
      "shall not pass!\n",
      "You shall not pass\n",
      "pass!\n"
     ]
    }
   ],
   "source": [
    "# From the 4th character (non included) to the end of the string\n",
    "print(x[4:])\n",
    "# From the beginning of the string to the penultimate (included)\n",
    "print(x[:-1])\n",
    "# From the 3rd character before the end (included) to the end\n",
    "print(x[-5:])"
   ]
  },
  {
   "cell_type": "markdown",
   "id": "6a2dd6ef-c659-4c64-ad37-3dba878b9c61",
   "metadata": {},
   "source": [
    "Lệnh print(x[4:]) sẽ lấy ký tự từ chỉ số 4 đến hết chuỗi, lệnh print(x[:-1]) lấy từ đầu chuỗi đến trước ký tự cuối cùng - tức là bỏ ký tự cuối. Cuối cùng, lệnh print(x[-5:]) lấy chuỗi bắt đầu theo thứ tự chỉ số âm từ thứ 5 từ cuối đến hết."
   ]
  },
  {
   "cell_type": "code",
   "execution_count": 3,
   "id": "48198802-486c-4e5e-85e6-95bceadf3beb",
   "metadata": {},
   "outputs": [
    {
     "name": "stdout",
     "output_type": "stream",
     "text": [
      "sln s\n"
     ]
    }
   ],
   "source": [
    "# From the 4th character (not included),\n",
    "# to the end of the string, in steps of 3\n",
    "print(x[4::3])"
   ]
  },
  {
   "cell_type": "markdown",
   "id": "1184c9fe-f63d-42fe-ba52-4aa5ba6b2de4",
   "metadata": {},
   "source": [
    "Lệnh print(x[4::3]) sẽ in ra các ký tự bắt đầu từ vị trí thứ 4 của chuỗi (ký tự \"s\") và lấy tiếp mỗi 3 ký tự một lần, cho đến khi hết chuỗi. Kết quả trả về sẽ là sln s.\n"
   ]
  },
  {
   "cell_type": "code",
   "execution_count": 2,
   "id": "16bceed1-b330-43bf-b0fe-84fbb767544c",
   "metadata": {},
   "outputs": [
    {
     "name": "stdout",
     "output_type": "stream",
     "text": [
      "!ssap ton llahs uoY\n"
     ]
    }
   ],
   "source": [
    "x = \"You shall not pass!\"\n",
    "print(x[::-1])"
   ]
  },
  {
   "cell_type": "markdown",
   "id": "d4fd7097-15c7-47a4-a71a-e9c8c858d537",
   "metadata": {},
   "source": [
    "Lệnh print(x[::-1]) sẽ in ra chuỗi x theo thứ tự ngược lại."
   ]
  },
  {
   "cell_type": "markdown",
   "id": "c33ea035-656d-486b-8186-b15a3b4758bf",
   "metadata": {},
   "source": [
    "#### 2.1.3 Available Methods with Strings"
   ]
  },
  {
   "cell_type": "code",
   "execution_count": 3,
   "id": "c72aa536-edac-4af3-8706-9978b7bd128a",
   "metadata": {},
   "outputs": [
    {
     "name": "stdout",
     "output_type": "stream",
     "text": [
      "3\n"
     ]
    }
   ],
   "source": [
    "x = \"le train de tes injures roule sur le rail de mon indifférence\"\n",
    "print(x.count(\"in\"))"
   ]
  },
  {
   "cell_type": "markdown",
   "id": "dbe4b3b8-cad7-4fa8-bf92-28cb12167f05",
   "metadata": {},
   "source": [
    "Lệnh print(x.count(\"in\")) sẽ đếm số lần chuỗi con \"in\" xuất hiện trong chuỗi x và in kết quả ra màn hình."
   ]
  },
  {
   "cell_type": "markdown",
   "id": "4bd847f0-2998-463b-9b22-033310af53ad",
   "metadata": {},
   "source": [
    "##### 2.1.3.1 Coversion to upper or lower case"
   ]
  },
  {
   "cell_type": "code",
   "execution_count": 6,
   "id": "40ee0db5-0a9b-4b02-8339-cb4b4bded020",
   "metadata": {},
   "outputs": [
    {
     "name": "stdout",
     "output_type": "stream",
     "text": [
      "le train de tes injures roule sur le rail de mon indifférence\n",
      "LE TRAIN DE TES INJURES ROULE SUR LE RAIL DE MON INDIFFÉRENCE\n"
     ]
    }
   ],
   "source": [
    "x = \"le train de tes injures roule sur le rail de mon indifférence\"\n",
    "print(x.lower())\n",
    "print(x.upper())"
   ]
  },
  {
   "cell_type": "markdown",
   "id": "c8dac5a7-2bdc-4c0b-8c78-c7d6c01d82e4",
   "metadata": {},
   "source": [
    "x.lower() → Trả về bản sao của chuỗi x với toàn bộ ký tự chuyển thành chữ thường.\n",
    "\n",
    "x.upper() → Trả về bản sao của chuỗi x với toàn bộ ký tự chuyển thành chữ in hoa."
   ]
  },
  {
   "cell_type": "markdown",
   "id": "abaceda2-3959-42aa-93b6-99e006435aa4",
   "metadata": {},
   "source": [
    "##### 2.1.3.2 Seach Pattern for Strings"
   ]
  },
  {
   "cell_type": "code",
   "execution_count": 3,
   "id": "9666b54d-265c-44a3-a267-8db0b677d33d",
   "metadata": {},
   "outputs": [
    {
     "name": "stdout",
     "output_type": "stream",
     "text": [
      "6\n",
      "-1\n"
     ]
    }
   ],
   "source": [
    "print(x.find(\"in\"))\n",
    "print(x.find(\"hello\"))"
   ]
  },
  {
   "cell_type": "markdown",
   "id": "34e1c695-edf1-478b-aa06-ba19a076facf",
   "metadata": {},
   "source": [
    "Lệnh x.find(\"in\") sẽ tìm vị trí (chỉ số nhỏ nhất) của chuỗi con \"in\" trong x. nếu tìm thấy, trả về chỉ số đó.\n",
    "\n",
    "x.find(\"hello\") → Tìm vị trí của chuỗi con \"hello\" trong x. Nếu không tìm thấy, trả về -1."
   ]
  },
  {
   "cell_type": "code",
   "execution_count": 5,
   "id": "493d2293-e1da-45dc-9477-fd3b149fda71",
   "metadata": {},
   "outputs": [
    {
     "name": "stdout",
     "output_type": "stream",
     "text": [
      "16\n"
     ]
    }
   ],
   "source": [
    "print(x.find(\"in\", 7, 20))"
   ]
  },
  {
   "cell_type": "markdown",
   "id": "51015764-1175-448b-b395-ccebaff55198",
   "metadata": {},
   "source": [
    "Lệnh yêu cầu tìm chuỗi con \"in\" trong x nhưng chỉ tìm trong phạm vi từ chỉ số 7 đến chỉ số 20, kết quả trả về màn hình là chỉ số 16"
   ]
  },
  {
   "cell_type": "code",
   "execution_count": 7,
   "id": "fea15d4e-7998-45d6-a8f5-7801b3dcdf79",
   "metadata": {},
   "outputs": [
    {
     "name": "stdout",
     "output_type": "stream",
     "text": [
      "49\n"
     ]
    }
   ],
   "source": [
    "print(x.find(\"in\", 20))"
   ]
  },
  {
   "cell_type": "markdown",
   "id": "640e0b7c-6fa5-4040-9eb8-d01a0f1e18d9",
   "metadata": {},
   "source": [
    "Tương tự, lệnh yêu cầu tìm chuỗi con \"in\" trong x, bắt đầu từ vị trí 20 đến hết chuỗi."
   ]
  },
  {
   "cell_type": "code",
   "execution_count": 8,
   "id": "17b25595-4641-4388-a9c8-91d9837f3573",
   "metadata": {},
   "outputs": [
    {
     "name": "stdout",
     "output_type": "stream",
     "text": [
      "-1\n"
     ]
    }
   ],
   "source": [
    "x = \"Mademoiselle Deray, il est interdit de manger de la choucroute ici.\"\n",
    "print(x.find(\"deray\"))"
   ]
  },
  {
   "cell_type": "markdown",
   "id": "5e0bba0c-e1f5-47ca-bf4f-8ccd8a4338f7",
   "metadata": {},
   "source": [
    "Lệnh minh họa việc tìm chuỗi con nhưng có phân biệt chữ hoa và chữ thường. x.find(\"deray\") trả về kết quả -1 vì \"deray\" (chữ thường) không khớp với \"Deray\" trong chuỗi x."
   ]
  },
  {
   "cell_type": "code",
   "execution_count": 9,
   "id": "923a2818-cc1f-4b1e-92be-4ce2aa323e7b",
   "metadata": {},
   "outputs": [
    {
     "name": "stdout",
     "output_type": "stream",
     "text": [
      "13\n"
     ]
    }
   ],
   "source": [
    "print(x.capitalize().find(\"deray\"))"
   ]
  },
  {
   "cell_type": "markdown",
   "id": "a8b88522-1ed1-4489-850a-ec88d346f076",
   "metadata": {},
   "source": [
    "Chuyển chuỗi x thành dạng viết hoa chữ cái đầu, còn lại viết thường, rồi tìm vị trí xuất hiện của \"deray\" trong kết quả đó và in ra vị trí này."
   ]
  },
  {
   "cell_type": "markdown",
   "id": "e4d0dd5b-be6a-4faf-bf12-096ebbc7e2b3",
   "metadata": {},
   "source": [
    "##### 2.1.3.3 Splitting Strings"
   ]
  },
  {
   "cell_type": "code",
   "execution_count": 10,
   "id": "ed4f708c-77b5-4c8b-bac4-26083e7c01ad",
   "metadata": {},
   "outputs": [
    {
     "name": "stdout",
     "output_type": "stream",
     "text": [
      "['Mademoiselle', 'Deray,', 'il', 'est', 'interdit', 'de', 'manger', 'de', 'la', 'choucroute', 'ici.']\n"
     ]
    }
   ],
   "source": [
    "print(x.split(\" \"))"
   ]
  },
  {
   "cell_type": "markdown",
   "id": "089a508d-cd50-4da1-ad46-567b3c0703dd",
   "metadata": {},
   "source": [
    "Tách chuỗi x thành một danh sách các chuỗi con, dùng dấu cách \" \" làm ký tự phân tách, rồi in kết quả danh sách đó ra màn hình."
   ]
  },
  {
   "cell_type": "code",
   "execution_count": 3,
   "id": "0ced328a-016c-4756-bcbe-3528a47a9d81",
   "metadata": {},
   "outputs": [
    {
     "name": "stdout",
     "output_type": "stream",
     "text": [
      "['Mademoiselle', 'Deray,', 'il', 'est interdit de manger de la choucroute ici.']\n"
     ]
    }
   ],
   "source": [
    "# Will return the elements matched up to the index 3\n",
    "print(x.split(\" \", 3))"
   ]
  },
  {
   "cell_type": "markdown",
   "id": "f3e466aa-276a-43e4-b953-17549efcbcf5",
   "metadata": {},
   "source": [
    "Tách chuỗi x thành tối đa 4 phần bao gồm 3 lần tách dựa trên dấu cách \" \", rồi in kết quả danh sách các phần đó ra màn hình."
   ]
  },
  {
   "cell_type": "code",
   "execution_count": 4,
   "id": "c84c80cc-bbb8-4e40-b7e6-f6479b80f3fc",
   "metadata": {},
   "outputs": [
    {
     "name": "stdout",
     "output_type": "stream",
     "text": [
      "['\"No, I am your Father!- No... No. It\\'s not true! That\\'s impossible!- Search your feelings. You know it to be true.- Noooooooo! Noooo!\"']\n"
     ]
    }
   ],
   "source": [
    "x = '''\"No, I am your Father!- No... No. It's not true! That's impossible!- Search your feelings. You know it to be true.- Noooooooo! Noooo!\"'''\n",
    "print(x.splitlines())"
   ]
  },
  {
   "cell_type": "markdown",
   "id": "5fa9a908-8bfb-43bf-bb3e-4906daf7b301",
   "metadata": {},
   "source": [
    "Tách chuỗi x thành một danh sách các dòng dựa trên ký tự xuống dòng (\\n, \\r\\n...), rồi in kết quả danh sách đó ra màn hình."
   ]
  },
  {
   "cell_type": "markdown",
   "id": "eaecceb8-977e-4120-b752-0bae414271c1",
   "metadata": {},
   "source": [
    "##### 2.1.3.4 Cleaning, completion"
   ]
  },
  {
   "cell_type": "code",
   "execution_count": 6,
   "id": "ce9edd1e-2608-42cc-a3dc-6a31d426da15",
   "metadata": {},
   "outputs": [
    {
     "name": "stdout",
     "output_type": "stream",
     "text": [
      "Pardon, du sucre ?\n"
     ]
    }
   ],
   "source": [
    "x = \"\\n\\n    Pardon, du sucre ?    \\n \\n\"\n",
    "print(x.strip())"
   ]
  },
  {
   "cell_type": "markdown",
   "id": "b01e1161-f66a-4dfe-967d-2c20f8d61865",
   "metadata": {},
   "source": [
    "Xóa tất cả các ký tự trống (như khoảng trắng, xuống dòng \\n, tab \\t…) ở đầu và cuối chuỗi x, rồi in kết quả phần nội dung hoàn chỉnh còn lại ra màn hình."
   ]
  },
  {
   "cell_type": "code",
   "execution_count": 7,
   "id": "f7c6a0bb-5db9-4084-9ffe-32a8d763e755",
   "metadata": {},
   "outputs": [
    {
     "name": "stdout",
     "output_type": "stream",
     "text": [
      "egallic\n"
     ]
    }
   ],
   "source": [
    "x = \"www.egallic.fr\"\n",
    "print(x.strip(\"wrf.\"))"
   ]
  },
  {
   "cell_type": "markdown",
   "id": "9de2a835-cf79-4ccf-bd4b-516166c8e76e",
   "metadata": {},
   "source": [
    "Xóa tất cả các ký tự thuộc nhóm \"w\", \"r\", \"f\", \".\" ở đầu và cuối chuỗi x, rồi in kết quả phần nội dung hoàn chỉnh còn lại ra màn hình."
   ]
  },
  {
   "cell_type": "code",
   "execution_count": 8,
   "id": "ef80501d-c2d1-41ad-81ed-0265838c7694",
   "metadata": {},
   "outputs": [
    {
     "name": "stdout",
     "output_type": "stream",
     "text": [
      "  48.11\n"
     ]
    }
   ],
   "source": [
    "longitude = \"48.11\"\n",
    "print(longitude.rjust(7,\" \"))"
   ]
  },
  {
   "cell_type": "markdown",
   "id": "e3270eca-4b9d-4b3a-895d-b699f0388f51",
   "metadata": {},
   "source": [
    "Lệnh longitude yêu cầu căn phải trong một chuỗi có tổng độ dài 7 ký tự, thêm ký tự khoảng trắng \" \" vào bên trái nếu cần, rồi in kết quả ra màn hình."
   ]
  },
  {
   "cell_type": "markdown",
   "id": "3b7a7ef0-fc6b-4723-bb51-12c3034c1c15",
   "metadata": {},
   "source": [
    "##### 2.1.3.5 Replacements"
   ]
  },
  {
   "cell_type": "code",
   "execution_count": 9,
   "id": "a6c09367-4bb4-40f7-9f43-d152e87e434c",
   "metadata": {},
   "outputs": [
    {
     "name": "stdout",
     "output_type": "stream",
     "text": [
      "Ridge ! Vous, ici ? Dans votre propre salle de bain ? Quelle surprise !\n"
     ]
    }
   ],
   "source": [
    "x = \"Criquette ! Vous, ici ? Dans votre propre salle de bain ? Quelle surprise !\"\n",
    "print(x.replace(\"Criquette\", \"Ridge\"))"
   ]
  },
  {
   "cell_type": "markdown",
   "id": "e01e40a8-d4b6-4b58-9460-11d70cc22462",
   "metadata": {},
   "source": [
    "Thay thế tất cả các lần xuất hiện của chuỗi \"Criquette\" trong x bằng chuỗi \"Ridge\", rồi in kết quả ra màn hình."
   ]
  },
  {
   "cell_type": "code",
   "execution_count": 10,
   "id": "561d550b-b334-42de-bc3e-25db8bc02a87",
   "metadata": {},
   "outputs": [
    {
     "name": "stdout",
     "output_type": "stream",
     "text": [
      "Criquette!Vous,ici?Dansvotrepropresalledebain?Quellesurprise!\n"
     ]
    }
   ],
   "source": [
    "print(x.replace(\" \", \"\"))"
   ]
  },
  {
   "cell_type": "markdown",
   "id": "180b35a4-10d6-44b6-8756-dafb21101a78",
   "metadata": {},
   "source": [
    "Xóa tất cả dấu cách \" \" trong chuỗi x bằng cách thay chúng bằng chuỗi rỗng \"\", rồi in kết quả ra màn hình."
   ]
  },
  {
   "cell_type": "markdown",
   "id": "852dff09-58ad-4470-b9ec-9d9b5e479066",
   "metadata": {},
   "source": [
    "#### 2.1.4 Conversion to character strings"
   ]
  },
  {
   "cell_type": "code",
   "execution_count": 12,
   "id": "21839bdc-96cd-4c91-adf3-2591c4eed66c",
   "metadata": {},
   "outputs": [
    {
     "ename": "TypeError",
     "evalue": "can only concatenate str (not \"int\") to str",
     "output_type": "error",
     "traceback": [
      "\u001b[31m---------------------------------------------------------------------------\u001b[39m",
      "\u001b[31mTypeError\u001b[39m                                 Traceback (most recent call last)",
      "\u001b[36mCell\u001b[39m\u001b[36m \u001b[39m\u001b[32mIn[12]\u001b[39m\u001b[32m, line 2\u001b[39m\n\u001b[32m      1\u001b[39m nb_followers = \u001b[32m0\u001b[39m\n\u001b[32m----> \u001b[39m\u001b[32m2\u001b[39m message = \u001b[33;43m\"\u001b[39;49m\u001b[33;43mHe has \u001b[39;49m\u001b[33;43m\"\u001b[39;49m\u001b[43m \u001b[49m\u001b[43m+\u001b[49m\u001b[43m \u001b[49m\u001b[43mnb_followers\u001b[49m + \u001b[33m\"\u001b[39m\u001b[33mfollowers.\u001b[39m\u001b[33m\"\u001b[39m\n",
      "\u001b[31mTypeError\u001b[39m: can only concatenate str (not \"int\") to str"
     ]
    }
   ],
   "source": [
    "nb_followers = 0\n",
    "message = \"He has \" + nb_followers + \"followers.\""
   ]
  },
  {
   "cell_type": "markdown",
   "id": "693f57b6-d1c9-4a79-b367-d7b3bdaffeca",
   "metadata": {},
   "source": [
    "Lệnh đang cố gắng nối một chuỗi với một số nguyên, điều mà Python không cho phép trực tiếp nên gây ra lỗi TypeError."
   ]
  },
  {
   "cell_type": "code",
   "execution_count": 13,
   "id": "123d092f-c4be-4edf-85b0-ee46f9a7d3c1",
   "metadata": {},
   "outputs": [
    {
     "ename": "NameError",
     "evalue": "name 'message' is not defined",
     "output_type": "error",
     "traceback": [
      "\u001b[31m---------------------------------------------------------------------------\u001b[39m",
      "\u001b[31mNameError\u001b[39m                                 Traceback (most recent call last)",
      "\u001b[36mCell\u001b[39m\u001b[36m \u001b[39m\u001b[32mIn[13]\u001b[39m\u001b[32m, line 1\u001b[39m\n\u001b[32m----> \u001b[39m\u001b[32m1\u001b[39m \u001b[38;5;28mprint\u001b[39m(\u001b[43mmessage\u001b[49m)\n",
      "\u001b[31mNameError\u001b[39m: name 'message' is not defined"
     ]
    }
   ],
   "source": [
    "print(message)"
   ]
  },
  {
   "cell_type": "markdown",
   "id": "68893754-f7d5-4fb9-b8d7-2d787df905c6",
   "metadata": {},
   "source": [
    "Biến message chưa được tạo hoặc chưa gán giá trị trước khi gọi print nên Python báo lỗi NameError."
   ]
  },
  {
   "cell_type": "code",
   "execution_count": 14,
   "id": "6ac14544-4bea-481f-b085-b05374cec7b8",
   "metadata": {},
   "outputs": [
    {
     "name": "stdout",
     "output_type": "stream",
     "text": [
      "He has 0 followers.\n"
     ]
    }
   ],
   "source": [
    "message = \"He has \" + str(nb_followers) + \" followers.\"\n",
    "print(message)"
   ]
  },
  {
   "cell_type": "markdown",
   "id": "82662f80-5393-43c0-ac6b-358b76a33584",
   "metadata": {},
   "source": [
    "Chuyển giá trị số nb_followers sang chuỗi bằng str(), sau đó nối với các chuỗi còn lại để tạo câu hoàn chỉnh, rồi in kết quả câu đó ra màn hình."
   ]
  },
  {
   "cell_type": "markdown",
   "id": "cbf7353a-7fc9-47e3-ad4d-810bf5f187a4",
   "metadata": {},
   "source": [
    "##### 2.1.5 Exercise"
   ]
  },
  {
   "cell_type": "markdown",
   "id": "40348682-417f-4c13-9b4b-e298eebc79df",
   "metadata": {},
   "source": [
    "1. Create two variables named a and b so that they contain the following strings respectively: 23 to 0 and C'est la piquette, Jack!."
   ]
  },
  {
   "cell_type": "code",
   "execution_count": 2,
   "id": "b804db48-9112-4b9b-b81f-f46b72005087",
   "metadata": {},
   "outputs": [],
   "source": [
    "a = \"23 to 0\"\n",
    "b = \"C'est la piquette, Jack!\""
   ]
  },
  {
   "cell_type": "markdown",
   "id": "92c91e2a-1505-4252-8880-5b976a413a35",
   "metadata": {},
   "source": [
    "2. Display the number of characters from a, then b."
   ]
  },
  {
   "cell_type": "code",
   "execution_count": 18,
   "id": "14798afd-e78d-4cdd-975c-e767b980fdfc",
   "metadata": {},
   "outputs": [
    {
     "name": "stdout",
     "output_type": "stream",
     "text": [
      "7\n",
      "24\n"
     ]
    }
   ],
   "source": [
    "print(len(a))  \n",
    "print(len(b))"
   ]
  },
  {
   "cell_type": "markdown",
   "id": "14d73b9b-e2e4-45a4-8fc3-1d021250a5e5",
   "metadata": {},
   "source": [
    "3. Concatenate a and b in a single string, adding a comma as a separating character."
   ]
  },
  {
   "cell_type": "code",
   "execution_count": 19,
   "id": "652c5f34-a6e8-4ad1-883b-a05d74146118",
   "metadata": {},
   "outputs": [
    {
     "name": "stdout",
     "output_type": "stream",
     "text": [
      "23 to 0, C'est la piquette, Jack!\n"
     ]
    }
   ],
   "source": [
    "c = a + \", \" + b\n",
    "print(c)"
   ]
  },
  {
   "cell_type": "markdown",
   "id": "e55a2b33-8e40-4c47-b238-5ecad9729e94",
   "metadata": {},
   "source": [
    "4. Same question by choosing the separation line as the separator character."
   ]
  },
  {
   "cell_type": "code",
   "execution_count": 20,
   "id": "5bd2aab5-be87-4110-8b7d-575bb98a0e4d",
   "metadata": {},
   "outputs": [
    {
     "name": "stdout",
     "output_type": "stream",
     "text": [
      "23 to 0\n",
      "C'est la piquette, Jack!\n"
     ]
    }
   ],
   "source": [
    "c = a + \"\\n\" + b\n",
    "print(c)"
   ]
  },
  {
   "cell_type": "markdown",
   "id": "f88a7640-5390-43ff-8c5b-a615e807b50f",
   "metadata": {},
   "source": [
    "5. Using the appropriate method, capitalize a and b."
   ]
  },
  {
   "cell_type": "code",
   "execution_count": 21,
   "id": "813e9559-4fce-4ba6-bfb4-dc659ef47eb6",
   "metadata": {},
   "outputs": [
    {
     "name": "stdout",
     "output_type": "stream",
     "text": [
      "23 to 0\n",
      "C'est la piquette, jack!\n"
     ]
    }
   ],
   "source": [
    "print(a.capitalize())\n",
    "print(b.capitalize())"
   ]
  },
  {
   "cell_type": "markdown",
   "id": "733d6576-672c-4548-84e1-e6d1d0c4fa92",
   "metadata": {},
   "source": [
    "6. Using the appropriate method, lowercase a and b."
   ]
  },
  {
   "cell_type": "code",
   "execution_count": 22,
   "id": "fdcb4b88-fa63-4d34-8aec-900e6dd20ab0",
   "metadata": {},
   "outputs": [
    {
     "name": "stdout",
     "output_type": "stream",
     "text": [
      "23 to 0\n",
      "c'est la piquette, jack!\n"
     ]
    }
   ],
   "source": [
    "print(a.lower())\n",
    "print(b.lower())"
   ]
  },
  {
   "cell_type": "markdown",
   "id": "a44dcc0f-7a82-47cd-b983-6af376d06b2d",
   "metadata": {},
   "source": [
    "7. Extract the word la and Jack from the string b, using indexes."
   ]
  },
  {
   "cell_type": "code",
   "execution_count": 24,
   "id": "fcca72f1-4d2c-46bc-a0c0-4ecc7d1e27e1",
   "metadata": {},
   "outputs": [
    {
     "name": "stdout",
     "output_type": "stream",
     "text": [
      "la\n",
      "Jack!\n"
     ]
    }
   ],
   "source": [
    "word1 = b[6:8]   \n",
    "word2 = b[19:24]  \n",
    "print(word1)\n",
    "print(word2)"
   ]
  },
  {
   "cell_type": "markdown",
   "id": "a7033910-2eaa-4123-be5f-d62524386504",
   "metadata": {},
   "source": [
    "8. Look for the sub-chain piqu in b, then do the same with the sub-chain mauvais."
   ]
  },
  {
   "cell_type": "code",
   "execution_count": 25,
   "id": "af3f0c30-ef3f-463d-9935-a8717fcbe4f0",
   "metadata": {},
   "outputs": [
    {
     "name": "stdout",
     "output_type": "stream",
     "text": [
      "9\n",
      "-1\n"
     ]
    }
   ],
   "source": [
    "print(b.find(\"piqu\"))     \n",
    "print(b.find(\"mauvais\"))"
   ]
  },
  {
   "cell_type": "markdown",
   "id": "6fe06e2d-766f-4c26-92bb-6c94557c80a4",
   "metadata": {},
   "source": [
    "9. Return the position (index) of the first character a found in the string b, then try with the character w."
   ]
  },
  {
   "cell_type": "code",
   "execution_count": 3,
   "id": "cc419303-cc87-4a6d-a793-b9c96905930e",
   "metadata": {},
   "outputs": [
    {
     "name": "stdout",
     "output_type": "stream",
     "text": [
      "7\n",
      "-1\n"
     ]
    }
   ],
   "source": [
    "pos_a = b.find(\"a\")  \n",
    "pos_w = b.find(\"w\")  \n",
    "print(pos_a)  \n",
    "print(pos_w)  "
   ]
  },
  {
   "cell_type": "markdown",
   "id": "db790ab7-9b27-41d7-aa79-794f3f7cbe83",
   "metadata": {},
   "source": [
    "10. Replace the occurrences of the pattern a by the pattern Z in the substring b."
   ]
  },
  {
   "cell_type": "code",
   "execution_count": 4,
   "id": "82957604-1f95-4c77-a58f-8b55e033a434",
   "metadata": {},
   "outputs": [
    {
     "name": "stdout",
     "output_type": "stream",
     "text": [
      "C'est lZ piquette, JZck!\n"
     ]
    }
   ],
   "source": [
    "b_new = b.replace(\"a\", \"Z\")\n",
    "print(b_new)"
   ]
  },
  {
   "cell_type": "markdown",
   "id": "c2424fad-003a-4988-a78b-2e46cdcf6420",
   "metadata": {},
   "source": [
    "11. Separate the string b using the comma as a sub-chain separator."
   ]
  },
  {
   "cell_type": "code",
   "execution_count": 5,
   "id": "9a3aa760-2968-4328-8df4-bfd9d8795fea",
   "metadata": {},
   "outputs": [
    {
     "name": "stdout",
     "output_type": "stream",
     "text": [
      "[\"C'est la piquette\", ' Jack!']\n"
     ]
    }
   ],
   "source": [
    "parts = b.split(\",\")\n",
    "print(parts)"
   ]
  },
  {
   "cell_type": "markdown",
   "id": "537963f8-2f92-4e12-882f-d5c00f8d0c21",
   "metadata": {},
   "source": [
    "12. (Bonus) Remove all punctuation characters from string b, then use an appropriate method to remove white characters at the beginning and end of the string. (Use the ‘regex’ library)."
   ]
  },
  {
   "cell_type": "code",
   "execution_count": 6,
   "id": "c2fe4c55-0e38-4352-845d-5b50231c6987",
   "metadata": {},
   "outputs": [
    {
     "name": "stdout",
     "output_type": "stream",
     "text": [
      "Cest la piquette Jack\n"
     ]
    }
   ],
   "source": [
    "import re\n",
    "b = \"C'est la piquette, Jack!\"\n",
    "# Xóa dấu câu\n",
    "b_no_punct = re.sub(r\"[^\\w\\s]\", \"\", b)\n",
    "# Xóa khoảng trắng đầu/cuối\n",
    "b_clean = b_no_punct.strip()\n",
    "print(b_clean)"
   ]
  },
  {
   "cell_type": "markdown",
   "id": "442b4f7d-f789-4d63-9a56-20d6be551e1f",
   "metadata": {},
   "source": [
    "### 2.2 Numerical values"
   ]
  },
  {
   "cell_type": "markdown",
   "id": "acaf0ad1-33e8-4a9b-a128-f532c23c2f3b",
   "metadata": {},
   "source": [
    "#### 2.2.1 Integers"
   ]
  },
  {
   "cell_type": "code",
   "execution_count": 3,
   "id": "2e7ea6f8-63ff-4547-9e80-2d28e01557c4",
   "metadata": {},
   "outputs": [
    {
     "name": "stdout",
     "output_type": "stream",
     "text": [
      "<class 'int'>\n"
     ]
    }
   ],
   "source": [
    "x= 2\n",
    "y = -2 \n",
    "print(type(x))"
   ]
  },
  {
   "cell_type": "markdown",
   "id": "73ffb842-3740-447f-aa86-ca3fae6fa07c",
   "metadata": {},
   "source": [
    "Tạo biến x bằng 2 và y bằng -2, sau đó trả kết quả kiểu dữ liệu của x là số nguyên int."
   ]
  },
  {
   "cell_type": "code",
   "execution_count": 4,
   "id": "e5142a58-925b-4abf-ac8e-464520bd5e7d",
   "metadata": {},
   "outputs": [
    {
     "name": "stdout",
     "output_type": "stream",
     "text": [
      "<class 'int'>\n"
     ]
    }
   ],
   "source": [
    "print(type(y))"
   ]
  },
  {
   "cell_type": "markdown",
   "id": "b403988f-5139-4d79-a610-d592dcbc13de",
   "metadata": {},
   "source": [
    "Gán giá trị số nguyên âm -2 cho biến y, sau đó in ra kiểu dữ liệu của y. Kết quả trả về cho biết y thuộc kiểu int (số nguyên)."
   ]
  },
  {
   "cell_type": "markdown",
   "id": "5be74f02-7fc0-4903-847d-88354d29ba6e",
   "metadata": {},
   "source": [
    "#### 2.2.2 Floating Point Numbers"
   ]
  },
  {
   "cell_type": "code",
   "execution_count": 5,
   "id": "0f664190-f6bb-42ad-acd4-b50326433259",
   "metadata": {},
   "outputs": [
    {
     "name": "stdout",
     "output_type": "stream",
     "text": [
      "<class 'float'>\n"
     ]
    }
   ],
   "source": [
    "x = 2.0\n",
    "y = 48.15162342 \n",
    "print(type(x))"
   ]
  },
  {
   "cell_type": "markdown",
   "id": "3dc2c015-f975-450a-925e-2939201648e9",
   "metadata": {},
   "source": [
    "Tạo biến x với giá trị 2.0 và biến y với giá trị 48.15162342, sau đó in ra kiểu dữ liệu của x. Kết quả cho biết x thuộc kiểu float (số thực)."
   ]
  },
  {
   "cell_type": "code",
   "execution_count": 6,
   "id": "deb7e934-c0bf-459b-84cd-7a9095f92456",
   "metadata": {},
   "outputs": [
    {
     "name": "stdout",
     "output_type": "stream",
     "text": [
      "<class 'float'>\n"
     ]
    }
   ],
   "source": [
    "print(type(y))"
   ]
  },
  {
   "cell_type": "markdown",
   "id": "e35cd569-a7e8-444b-8b8d-dc49133a0dfa",
   "metadata": {},
   "source": [
    "Tương tự với biến y, kết quả trả về biết y thuộc kiểu số thực (float)"
   ]
  },
  {
   "cell_type": "code",
   "execution_count": 7,
   "id": "47506e53-0fa0-415b-a981-891c8a679287",
   "metadata": {},
   "outputs": [
    {
     "name": "stdout",
     "output_type": "stream",
     "text": [
      "3200000000000.0\n"
     ]
    }
   ],
   "source": [
    "x = 3.2E12 \n",
    "y = 3.2e12 \n",
    "print(x)"
   ]
  },
  {
   "cell_type": "markdown",
   "id": "ed46f65a-02b9-473f-95d4-9b12604fed4b",
   "metadata": {},
   "source": [
    "Gán cho x và y giá trị theo dạng ký hiệu khoa học 3.2×10^12 (float), sau đó in giá trị của x. Kết quả in ra là 3200000000000.0."
   ]
  },
  {
   "cell_type": "code",
   "execution_count": 8,
   "id": "892416e2-9fa3-4103-8664-8104d7f412c7",
   "metadata": {},
   "outputs": [
    {
     "name": "stdout",
     "output_type": "stream",
     "text": [
      "3200000000000.0\n"
     ]
    }
   ],
   "source": [
    "print(y)"
   ]
  },
  {
   "cell_type": "markdown",
   "id": "66843971-c42f-4edf-b496-4f186cb4cbc4",
   "metadata": {},
   "source": [
    "Tương tự với biến y."
   ]
  },
  {
   "cell_type": "code",
   "execution_count": 10,
   "id": "5b1048b7-652e-4495-b0e5-e58f67b52c01",
   "metadata": {},
   "outputs": [
    {
     "name": "stdout",
     "output_type": "stream",
     "text": [
      "0.35\n"
     ]
    }
   ],
   "source": [
    "print(0.35)"
   ]
  },
  {
   "cell_type": "markdown",
   "id": "49e9ec9b-17a7-4bde-9969-ce6373d5651a",
   "metadata": {},
   "source": [
    "0.35 là số thực nên kết quả trả về sẽ là 0.35 (float)"
   ]
  },
  {
   "cell_type": "code",
   "execution_count": 11,
   "id": "446e7973-a6f9-4b7f-8b54-ac914c5d1a1e",
   "metadata": {},
   "outputs": [
    {
     "name": "stdout",
     "output_type": "stream",
     "text": [
      "0.35\n"
     ]
    }
   ],
   "source": [
    "print(.35)"
   ]
  },
  {
   "cell_type": "markdown",
   "id": "319d5f25-3500-4ab2-8d72-66db368f171d",
   "metadata": {},
   "source": [
    "In ra màn hình giá trị số thực 0.35 được viết ở dạng rút gọn .35"
   ]
  },
  {
   "cell_type": "markdown",
   "id": "43e553b8-62ce-42c5-8da8-15b4c7e857aa",
   "metadata": {},
   "source": [
    "#### 2.2.3 Complex numbers"
   ]
  },
  {
   "cell_type": "code",
   "execution_count": 12,
   "id": "cf07163d-eda8-409d-aac0-40845d05bd1f",
   "metadata": {},
   "outputs": [
    {
     "name": "stdout",
     "output_type": "stream",
     "text": [
      "(1+3j)\n"
     ]
    }
   ],
   "source": [
    "z = 1+3j \n",
    "print(z)"
   ]
  },
  {
   "cell_type": "markdown",
   "id": "1c417571-81c1-4d1b-8edb-eee8a18aba2b",
   "metadata": {},
   "source": [
    "Tạo một biến z là số phức với phần thực bằng 1 và phần ảo bằng 3, sau đó in ra màn hình. Kết quả in ra là (1+3j)."
   ]
  },
  {
   "cell_type": "code",
   "execution_count": 13,
   "id": "07374d71-41bf-4b1d-ac6a-a3d60c945619",
   "metadata": {},
   "outputs": [
    {
     "name": "stdout",
     "output_type": "stream",
     "text": [
      "<class 'complex'>\n"
     ]
    }
   ],
   "source": [
    "print(type(z))"
   ]
  },
  {
   "cell_type": "markdown",
   "id": "d108185c-d8b6-4d75-b164-d9a77eb95936",
   "metadata": {},
   "source": [
    "In ra kiểu dữ liệu của biến z. Kết quả cho biết z thuộc kiểu complex (số phức)."
   ]
  },
  {
   "cell_type": "code",
   "execution_count": 14,
   "id": "b24543bf-e852-4829-b099-59bf174d4125",
   "metadata": {},
   "outputs": [
    {
     "name": "stdout",
     "output_type": "stream",
     "text": [
      "(1+3j)\n"
     ]
    }
   ],
   "source": [
    "z = complex(1, 3) \n",
    "print(z)"
   ]
  },
  {
   "cell_type": "markdown",
   "id": "07be4338-7e14-4a22-add0-9f0518c03c06",
   "metadata": {},
   "source": [
    "Tạo số phức với phần thực bằng 1 và phần ảo bằng 3 bằng hàm complex(), sau đó in ra màn hình. Kết quả in ra là (1+3j)."
   ]
  },
  {
   "cell_type": "code",
   "execution_count": 15,
   "id": "6cda91b6-3fd6-4513-99dd-7eed7a23dbe2",
   "metadata": {},
   "outputs": [
    {
     "name": "stdout",
     "output_type": "stream",
     "text": [
      "<class 'complex'>\n"
     ]
    }
   ],
   "source": [
    "print(type(z))"
   ]
  },
  {
   "cell_type": "markdown",
   "id": "d94b5f02-ae04-4f51-a25b-a73de98110aa",
   "metadata": {},
   "source": [
    "In ra kiểu dữ liệu của biến z. Kết quả cho biết z thuộc kiểu complex (số phức)."
   ]
  },
  {
   "cell_type": "code",
   "execution_count": 16,
   "id": "2b7c9ac6-3a85-4ad8-85fd-746cb35c8cc6",
   "metadata": {},
   "outputs": [
    {
     "name": "stdout",
     "output_type": "stream",
     "text": [
      "(1-3j)\n"
     ]
    }
   ],
   "source": [
    "print(z.conjugate())"
   ]
  },
  {
   "cell_type": "markdown",
   "id": "7a18b2f5-efde-4978-a82a-66e3b8559b0c",
   "metadata": {},
   "source": [
    "Lấy số phức liên hợp của z và in ra. Kết quả hiển thị là (1-3j)"
   ]
  },
  {
   "cell_type": "code",
   "execution_count": 17,
   "id": "12c4842d-641a-4ef7-adab-f2d143317cb8",
   "metadata": {},
   "outputs": [
    {
     "name": "stdout",
     "output_type": "stream",
     "text": [
      "1.0\n"
     ]
    }
   ],
   "source": [
    "z = complex(1, 3) \n",
    "print(z.real)"
   ]
  },
  {
   "cell_type": "markdown",
   "id": "14c95428-7f50-4279-a8b9-5210e62d08f2",
   "metadata": {},
   "source": [
    "Tạo số phức với phần thực bằng 1 và phần ảo bằng 3, sau đó in ra giá trị phần thực (1.0)."
   ]
  },
  {
   "cell_type": "code",
   "execution_count": 19,
   "id": "c741e004-0973-4d32-890e-dfddf2245421",
   "metadata": {},
   "outputs": [
    {
     "name": "stdout",
     "output_type": "stream",
     "text": [
      "3.0\n"
     ]
    }
   ],
   "source": [
    "print(z.imag)"
   ]
  },
  {
   "cell_type": "markdown",
   "id": "7ecce511-4646-408b-9351-c862b76bdce2",
   "metadata": {},
   "source": [
    "Lấy và in ra phần ảo của số phức z. Kết quả là 3.0."
   ]
  },
  {
   "cell_type": "markdown",
   "id": "ab66302a-2941-4dd1-a3a4-0e1c0f70d85f",
   "metadata": {},
   "source": [
    "#### 2.2.4 Conversions"
   ]
  },
  {
   "cell_type": "markdown",
   "id": "c5ece09b-fd62-4478-b659-e174135ccbe1",
   "metadata": {},
   "source": [
    "##### 2.2.4.1 Conversion to Integer"
   ]
  },
  {
   "cell_type": "code",
   "execution_count": 20,
   "id": "f70db142-f85b-4f68-8676-a10b472b5532",
   "metadata": {},
   "outputs": [
    {
     "name": "stdout",
     "output_type": "stream",
     "text": [
      "<class 'int'>\n"
     ]
    }
   ],
   "source": [
    "x = \"3\"\n",
    "x_int = int(x) \n",
    "print(type(x_int))"
   ]
  },
  {
   "cell_type": "markdown",
   "id": "83e0b1e3-a725-41aa-9b47-7a43cd6f86db",
   "metadata": {},
   "source": [
    "Chuyển đổi giá trị chuỗi \"3\" thành số nguyên bằng hàm int(), sau đó in kết quả ra màn hình kiểu dữ liệu của kết quả là int."
   ]
  },
  {
   "cell_type": "code",
   "execution_count": 21,
   "id": "4bab474e-f16b-4b71-a6ae-6741658355de",
   "metadata": {},
   "outputs": [
    {
     "name": "stdout",
     "output_type": "stream",
     "text": [
      "<class 'str'>\n"
     ]
    }
   ],
   "source": [
    "print(type(x))"
   ]
  },
  {
   "cell_type": "markdown",
   "id": "fcacd202-6e42-48b0-a74b-864fd0454a68",
   "metadata": {},
   "source": [
    "In ra kiểu dữ liệu của biến x. Kết quả cho biết x thuộc kiểu str (chuỗi ký tự)."
   ]
  },
  {
   "cell_type": "code",
   "execution_count": 22,
   "id": "6ab6d56c-4648-42f4-9bed-845d2b32426f",
   "metadata": {},
   "outputs": [
    {
     "name": "stdout",
     "output_type": "stream",
     "text": [
      "3\n"
     ]
    }
   ],
   "source": [
    "x = 3.6\n",
    "x_int = int(x) \n",
    "print(x_int)"
   ]
  },
  {
   "cell_type": "markdown",
   "id": "3c4651c1-c087-492d-aa80-958eef947528",
   "metadata": {},
   "source": [
    "Gán số thực 3.6 cho biến x, sau đó chuyển đổi sang số nguyên (cắt phần thập phân) và in ra màn hình kết quả là 3."
   ]
  },
  {
   "cell_type": "markdown",
   "id": "8b96ceae-9004-4170-a97f-1558b75c4f73",
   "metadata": {},
   "source": [
    "##### 2.2.4.2 Conversion to Floating Point Number "
   ]
  },
  {
   "cell_type": "code",
   "execution_count": 23,
   "id": "902fc3c0-0f66-47d7-b071-662cb4241e80",
   "metadata": {},
   "outputs": [
    {
     "name": "stdout",
     "output_type": "stream",
     "text": [
      "<class 'float'>\n"
     ]
    }
   ],
   "source": [
    "x = \"3.6\"\n",
    "x_float = float(x) \n",
    "print(type(x_float))"
   ]
  },
  {
   "cell_type": "markdown",
   "id": "07f48a9f-4258-410d-9ab2-613d863753df",
   "metadata": {},
   "source": [
    "Gán chuỗi \"3.6\" cho biến x. Dùng hàm float() để chuyển giá trị của x sang số thực và gán cho biến x_float và in ra kiểu dữ liệu của x_float, kết quả là <class 'float'>."
   ]
  },
  {
   "cell_type": "code",
   "execution_count": 25,
   "id": "892e13ef-b0a5-48e1-81d0-f23d1b6123c1",
   "metadata": {},
   "outputs": [
    {
     "name": "stdout",
     "output_type": "stream",
     "text": [
      "3.0\n"
     ]
    }
   ],
   "source": [
    "x = 3\n",
    "x_float = float(x) \n",
    "print(x_float)"
   ]
  },
  {
   "cell_type": "markdown",
   "id": "4d774fda-34d0-4875-83ae-91ee198545f7",
   "metadata": {},
   "source": [
    "Gán giá trị số nguyên 3 cho biến x. Dùng hàm float() để chuyển giá trị của x sang số thực và gán cho biến x_float và in ra giá trị của x_float, kết quả là 3.0."
   ]
  },
  {
   "cell_type": "markdown",
   "id": "d48c0dc3-ecbb-4816-b9f4-ad7ceb026e93",
   "metadata": {},
   "source": [
    "##### 2.2.4.3 Conversion to Complex"
   ]
  },
  {
   "cell_type": "code",
   "execution_count": 26,
   "id": "f1e4baed-8015-4927-a999-ae04d39b0e1c",
   "metadata": {},
   "outputs": [
    {
     "name": "stdout",
     "output_type": "stream",
     "text": [
      "(2+0j)\n"
     ]
    }
   ],
   "source": [
    "x = \"2\"\n",
    "x_complex = complex(x) \n",
    "print(x_complex)"
   ]
  },
  {
   "cell_type": "markdown",
   "id": "56658e5e-3089-4404-80c4-7b522fe7f04b",
   "metadata": {},
   "source": [
    "Dùng hàm complex() để chuyển giá trị của x sang số phức và gán cho biến x_complex. In ra giá trị của x_complex, kết quả là (2+0j)."
   ]
  },
  {
   "cell_type": "code",
   "execution_count": 28,
   "id": "e97dcf2d-feb1-48d4-b880-11730354f5ce",
   "metadata": {},
   "outputs": [
    {
     "name": "stdout",
     "output_type": "stream",
     "text": [
      "(2.4+0j)\n"
     ]
    }
   ],
   "source": [
    "x = 2.4\n",
    "x_complex = complex(x) \n",
    "print(x_complex)"
   ]
  },
  {
   "cell_type": "markdown",
   "id": "b860e068-2ba3-474f-a28d-e55e2767cfa6",
   "metadata": {},
   "source": [
    "Gán giá trị số thực 2.4 cho biến x. Dùng hàm complex() để chuyển giá trị của x sang số phức và gán cho biến x_complex. In ra giá trị của x_complex, kết quả là (2.4+0j)."
   ]
  },
  {
   "cell_type": "markdown",
   "id": "d3926f56-3e3a-4eb7-bc28-2a5561fb31ea",
   "metadata": {},
   "source": [
    "### 2.3 Booleans"
   ]
  },
  {
   "cell_type": "code",
   "execution_count": 2,
   "id": "c173a1d5-7828-4175-8c70-e38c4b05aa07",
   "metadata": {},
   "outputs": [
    {
     "name": "stdout",
     "output_type": "stream",
     "text": [
      "True False\n"
     ]
    }
   ],
   "source": [
    "x = True\n",
    "y = False \n",
    "print(x, y)"
   ]
  },
  {
   "cell_type": "markdown",
   "id": "8f0cbf39-1177-428f-9c2a-86468c302bb5",
   "metadata": {},
   "source": [
    "Gán giá trị logic True cho biến x và giá trị logic False cho biến y. In ra giá trị của x và y, kết quả là True False."
   ]
  },
  {
   "cell_type": "code",
   "execution_count": 3,
   "id": "100fa6a8-fd74-4460-9529-99dff1a5d1bc",
   "metadata": {},
   "outputs": [
    {
     "name": "stdout",
     "output_type": "stream",
     "text": [
      "3\n"
     ]
    }
   ],
   "source": [
    "res = True + True + False + True*True \n",
    "print(res)"
   ]
  },
  {
   "cell_type": "markdown",
   "id": "6e717d8e-211c-41dc-ba19-e375fef4ec9a",
   "metadata": {},
   "source": [
    "Giá trị logic True và False khi tham gia phép toán sẽ được chuyển thành số nguyên 1 và 0 tương ứng. Câu lệnh trên thực hiện phép cộng và nhân giữa các giá trị logic, sau đó in ra tổng. Kết quả cuối cùng là 3."
   ]
  },
  {
   "cell_type": "markdown",
   "id": "a8c12ee8-a1d1-4968-858d-05e3dd8dd302",
   "metadata": {},
   "source": [
    "### 2.4 Empty Object"
   ]
  },
  {
   "cell_type": "code",
   "execution_count": 4,
   "id": "ccc0da26-bbe9-44f4-89c2-fd4b85e26e79",
   "metadata": {},
   "outputs": [
    {
     "name": "stdout",
     "output_type": "stream",
     "text": [
      "None\n"
     ]
    }
   ],
   "source": [
    "x = None \n",
    "print(x)"
   ]
  },
  {
   "cell_type": "markdown",
   "id": "bc591692-8cc5-478e-a10b-e8cea6cf04a1",
   "metadata": {},
   "source": [
    "Gán giá trị đặc biệt None (đại diện cho “không có giá trị” hoặc “rỗng”) cho biến x. In ra giá trị của x, kết quả hiển thị là None."
   ]
  },
  {
   "cell_type": "code",
   "execution_count": 5,
   "id": "a8bbf99c-d1a3-449b-8001-99aeb3308006",
   "metadata": {},
   "outputs": [
    {
     "name": "stdout",
     "output_type": "stream",
     "text": [
      "<class 'NoneType'>\n"
     ]
    }
   ],
   "source": [
    "print(type(x))"
   ]
  },
  {
   "cell_type": "markdown",
   "id": "ab574f17-9862-42a7-87c5-e3b522cf76d2",
   "metadata": {},
   "source": [
    "In ra kiểu dữ liệu của biến x. Vì x đang được gán giá trị đặc biệt None, nên kiểu dữ liệu của nó là class 'NoneType'."
   ]
  },
  {
   "cell_type": "code",
   "execution_count": 7,
   "id": "a7e65036-32b6-479b-b764-e19badfba96d",
   "metadata": {},
   "outputs": [
    {
     "name": "stdout",
     "output_type": "stream",
     "text": [
      "False\n"
     ]
    }
   ],
   "source": [
    "x = 1\n",
    "y = None\n",
    "print(x is None)"
   ]
  },
  {
   "cell_type": "markdown",
   "id": "0f085f70-84ff-4e21-aa4b-659c628c33f5",
   "metadata": {},
   "source": [
    "Đoạn lệnh kiểm tra xem x có phải là None không. Vì x = 1 nên kết quả là False."
   ]
  },
  {
   "cell_type": "code",
   "execution_count": 8,
   "id": "df2c5a2c-7753-4d52-be87-1c591e5d7857",
   "metadata": {},
   "outputs": [
    {
     "name": "stdout",
     "output_type": "stream",
     "text": [
      "True\n"
     ]
    }
   ],
   "source": [
    "print(y is None)"
   ]
  },
  {
   "cell_type": "markdown",
   "id": "312433fa-5d41-4ab4-bd76-9d8eaa819793",
   "metadata": {},
   "source": [
    "Đoạn lệnh kiểm tra xem y có phải là None không. Vì y = None nên kết quả là True."
   ]
  },
  {
   "cell_type": "markdown",
   "id": "b64954d9-41f2-47c6-9da9-615b4b724ff8",
   "metadata": {},
   "source": [
    "### 2.5 Dates and Times"
   ]
  },
  {
   "cell_type": "markdown",
   "id": "ed8ff8a1-5215-4784-b294-a615e587bf21",
   "metadata": {},
   "source": [
    "#### 2.5.1 Module Datetime"
   ]
  },
  {
   "cell_type": "markdown",
   "id": "9176243f-f443-483c-9500-104eb67bade4",
   "metadata": {},
   "source": [
    "##### 2.5.1.1 Date "
   ]
  },
  {
   "cell_type": "code",
   "execution_count": 19,
   "id": "cb056d95-69b8-4d70-90bb-9ca7e49b0e9a",
   "metadata": {},
   "outputs": [
    {
     "name": "stdout",
     "output_type": "stream",
     "text": [
      "2013-04-23\n"
     ]
    }
   ],
   "source": [
    "from datetime import date\n",
    "debut = date(year = 2013, month = 4, day = 23) \n",
    "print(debut)"
   ]
  },
  {
   "cell_type": "markdown",
   "id": "c443862b-4443-4f4a-a394-c6d7af409b7d",
   "metadata": {},
   "source": [
    "Lệnh này tạo một đối tượng ngày (date) với giá trị 23/04/2013 bằng cách chỉ định năm, tháng, ngày. Sau đó in ra giá trị của biến debut."
   ]
  },
  {
   "cell_type": "code",
   "execution_count": 11,
   "id": "a51be922-2453-4b15-844b-e01502f994fc",
   "metadata": {},
   "outputs": [
    {
     "name": "stdout",
     "output_type": "stream",
     "text": [
      "<class 'datetime.date'>\n"
     ]
    }
   ],
   "source": [
    "print(type(debut))"
   ]
  },
  {
   "cell_type": "markdown",
   "id": "eb78089d-d2ef-4760-8224-dd5dfbf42b12",
   "metadata": {},
   "source": [
    "Lệnh này in ra kiểu dữ liệu của biến debut. kết quả cho biết debut là một đối tượng ngày thuộc lớp datetime.date."
   ]
  },
  {
   "cell_type": "code",
   "execution_count": 12,
   "id": "b6b65e55-5a00-4992-9a17-9efe1580616c",
   "metadata": {},
   "outputs": [
    {
     "name": "stdout",
     "output_type": "stream",
     "text": [
      "2013\n"
     ]
    }
   ],
   "source": [
    "print(debut.year) # Extract the year"
   ]
  },
  {
   "cell_type": "markdown",
   "id": "3392b75a-a583-40bd-a921-7448a1e6d2fb",
   "metadata": {},
   "source": [
    "Lệnh này truy xuất năm từ đối tượng ngày debut."
   ]
  },
  {
   "cell_type": "code",
   "execution_count": 13,
   "id": "01345715-8968-4dae-8b18-fa29d9125fdd",
   "metadata": {},
   "outputs": [
    {
     "name": "stdout",
     "output_type": "stream",
     "text": [
      "4\n"
     ]
    }
   ],
   "source": [
    "print(debut.month) # Extract the month"
   ]
  },
  {
   "cell_type": "markdown",
   "id": "06400367-9810-40fc-a3fc-628d0291961e",
   "metadata": {},
   "source": [
    "Lệnh này truy xuất tháng từ đối tượng ngày debut."
   ]
  },
  {
   "cell_type": "code",
   "execution_count": 14,
   "id": "a513d5d2-8f40-4687-b7ef-eec94366ca64",
   "metadata": {},
   "outputs": [
    {
     "name": "stdout",
     "output_type": "stream",
     "text": [
      "23\n"
     ]
    }
   ],
   "source": [
    "print(debut.day) # Extract the day"
   ]
  },
  {
   "cell_type": "markdown",
   "id": "28cae042-5177-4730-8a4a-e6db00353860",
   "metadata": {},
   "source": [
    "Lệnh này truy xuất ngày từ đối tượng ngày debut."
   ]
  },
  {
   "cell_type": "markdown",
   "id": "52c533d8-78ec-40ad-bd99-77b24d2d609d",
   "metadata": {},
   "source": [
    "##### 2.5.1.1.1 ctime()"
   ]
  },
  {
   "cell_type": "code",
   "execution_count": 16,
   "id": "5576aac6-c220-41f3-a86c-bf0c219d67c9",
   "metadata": {},
   "outputs": [
    {
     "name": "stdout",
     "output_type": "stream",
     "text": [
      "Tue Apr 23 00:00:00 2013\n"
     ]
    }
   ],
   "source": [
    "print(debut.ctime())"
   ]
  },
  {
   "cell_type": "markdown",
   "id": "fe0c6c93-6173-4f6e-b19c-07c525b78207",
   "metadata": {},
   "source": [
    "Lệnh này chuyển đối tượng ngày debut thành một chuỗi ký tự dạng c-time (chuẩn định dạng ngày giờ kiểu C)."
   ]
  },
  {
   "cell_type": "markdown",
   "id": "a0c25d60-6b8c-4d2c-9131-b5ad1ed270cf",
   "metadata": {},
   "source": [
    "##### 2.5.1.1.2 weekday()"
   ]
  },
  {
   "cell_type": "code",
   "execution_count": 17,
   "id": "ccf36ef9-bf33-43df-a0e0-57e45ac2ebc1",
   "metadata": {},
   "outputs": [
    {
     "name": "stdout",
     "output_type": "stream",
     "text": [
      "1\n"
     ]
    }
   ],
   "source": [
    "print(debut.weekday())"
   ]
  },
  {
   "cell_type": "markdown",
   "id": "8967f68b-ab7f-498a-9a2c-eafdecc5b550",
   "metadata": {},
   "source": [
    "Lệnh print(debut.weekday()) sẽ trả về thứ trong tuần của đối tượng ngày debut, nhưng theo quy ước: 0 → Thứ Hai, 1 → Thứ Ba, 2 → Thứ Tư, 3 → Thứ Năm, 4 → Thứ Sáu, 5 → Thứ Bảy, 6 → Chủ Nhật."
   ]
  },
  {
   "cell_type": "markdown",
   "id": "53b452ca-4a8b-4c58-9ab6-fb1da9251b62",
   "metadata": {},
   "source": [
    "##### 2.5.1.1.3 isoweekday()"
   ]
  },
  {
   "cell_type": "code",
   "execution_count": 18,
   "id": "925f83b7-01c1-4a6e-a49d-7f4a7509c148",
   "metadata": {},
   "outputs": [
    {
     "name": "stdout",
     "output_type": "stream",
     "text": [
      "2\n"
     ]
    }
   ],
   "source": [
    "print(debut.isoweekday())"
   ]
  },
  {
   "cell_type": "markdown",
   "id": "59ce017c-859e-498a-b203-898f2b6521ed",
   "metadata": {},
   "source": [
    "Lệnh print(debut.isoweekday()) cũng trả về thứ trong tuần, nhưng theo ISO 8601: 1 → Thứ Hai, 2 → Thứ Ba, 3 → Thứ Tư, 4 → Thứ Năm, 5 → Thứ Sáu, 6 → Thứ Bảy, 7 → Chủ Nhật."
   ]
  },
  {
   "cell_type": "markdown",
   "id": "271ad666-7dd2-46c4-a611-d4d7c91bd4f3",
   "metadata": {},
   "source": [
    "##### 2.5.1.1.4 toordinal()"
   ]
  },
  {
   "cell_type": "code",
   "execution_count": 19,
   "id": "85cb81e9-6796-4a35-8a18-f43b86c2e6e5",
   "metadata": {},
   "outputs": [
    {
     "name": "stdout",
     "output_type": "stream",
     "text": [
      "734981\n"
     ]
    }
   ],
   "source": [
    "print(debut.toordinal())"
   ]
  },
  {
   "cell_type": "markdown",
   "id": "6934634f-0546-4e29-8146-b9c4c8953ad8",
   "metadata": {},
   "source": [
    "Lệnh print(debut.toordinal()) sẽ trả về số nguyên thứ tự của ngày tính từ ngày 1/1/0001 (ngày đầu tiên trong lịch Gregorian) với giá trị 1. Với debut = date(2013, 4, 23), Python sẽ tính xem ngày này là ngày thứ bao nhiêu kể từ 01/01/0001."
   ]
  },
  {
   "cell_type": "markdown",
   "id": "7c1a2d2b-be9a-46c4-bae0-d593774b480a",
   "metadata": {},
   "source": [
    "##### 2.5.1.1.5 isoformat()"
   ]
  },
  {
   "cell_type": "code",
   "execution_count": 20,
   "id": "f094a9af-c84e-4e5d-80b5-940a1953f55b",
   "metadata": {},
   "outputs": [
    {
     "name": "stdout",
     "output_type": "stream",
     "text": [
      "2013-04-23\n"
     ]
    }
   ],
   "source": [
    "print(debut.isoformat())"
   ]
  },
  {
   "cell_type": "markdown",
   "id": "05b7e8ea-a2da-4b44-8901-0a8c6ada183b",
   "metadata": {},
   "source": [
    "Lệnh print(debut.isoformat()) sẽ in ra ngày theo định dạng chuẩn ISO 8601"
   ]
  },
  {
   "cell_type": "markdown",
   "id": "01a32201-43ee-4950-9e4a-e8ce671c902f",
   "metadata": {},
   "source": [
    "##### 2.5.1.1.6 isocalendar()"
   ]
  },
  {
   "cell_type": "code",
   "execution_count": 21,
   "id": "e8dc1948-d300-4293-aa35-5bc0fc21115c",
   "metadata": {},
   "outputs": [
    {
     "name": "stdout",
     "output_type": "stream",
     "text": [
      "datetime.IsoCalendarDate(year=2013, week=17, weekday=2)\n"
     ]
    }
   ],
   "source": [
    "print(debut.isocalendar())"
   ]
  },
  {
   "cell_type": "markdown",
   "id": "c264dcb4-fbf9-41e0-ac3b-d36afb1ce5be",
   "metadata": {},
   "source": [
    "Lệnh print(debut.isocalendar()) sẽ trả về một tuple gồm 3 giá trị."
   ]
  },
  {
   "cell_type": "markdown",
   "id": "548a654f-a602-4db5-b0fa-966b3603b244",
   "metadata": {},
   "source": [
    "##### 2.5.1.1.7 replace()"
   ]
  },
  {
   "cell_type": "code",
   "execution_count": 23,
   "id": "7aa6f895-6d8f-48ed-aca3-d50ba434d70c",
   "metadata": {},
   "outputs": [
    {
     "name": "stdout",
     "output_type": "stream",
     "text": [
      "2014-04-23 2013-05-23 2013-04-24\n"
     ]
    }
   ],
   "source": [
    "x = debut.replace(year=2014) \n",
    "y = debut.replace(month=5)\n",
    "z = debut.replace(day=24)\n",
    "print(x, y,z)"
   ]
  },
  {
   "cell_type": "markdown",
   "id": "1ff232ca-b270-43cf-9771-62bc50f5e8dd",
   "metadata": {},
   "source": [
    "replace() sẽ tạo một đối tượng ngày mới với các giá trị được thay đổi mà vẫn giữ nguyên các thành phần khác."
   ]
  },
  {
   "cell_type": "code",
   "execution_count": 24,
   "id": "7ad6170e-3f33-49ce-89a0-8ed372681819",
   "metadata": {},
   "outputs": [
    {
     "name": "stdout",
     "output_type": "stream",
     "text": [
      "2013-04-23\n"
     ]
    }
   ],
   "source": [
    "print(debut)"
   ]
  },
  {
   "cell_type": "markdown",
   "id": "3dbc168e-000f-48dc-b195-8367936d1582",
   "metadata": {},
   "source": [
    "Dù trước đó dùng replace() để tạo x, y, z nhưng debut vẫn giữ nguyên giá trị gốc vì replace() không thay đổi trực tiếp đối tượng ban đầu."
   ]
  },
  {
   "cell_type": "code",
   "execution_count": 25,
   "id": "606e412f-b1da-4061-be71-6df2dca98864",
   "metadata": {},
   "outputs": [
    {
     "name": "stdout",
     "output_type": "stream",
     "text": [
      "2013-05-24\n"
     ]
    }
   ],
   "source": [
    "x = debut.replace(day=24, month=5) \n",
    "print(x)"
   ]
  },
  {
   "cell_type": "markdown",
   "id": "5165dcf9-5158-4d2c-93a1-26a99c3f03ad",
   "metadata": {},
   "source": [
    "replace() trong đối tượng date dùng để tạo ra một ngày mới bằng cách giữ nguyên các phần khác và thay thế những thành phần được chỉ định (năm, tháng, ngày). Nó không làm thay đổi ngày ban đầu, mà trả về một đối tượng mới."
   ]
  },
  {
   "cell_type": "markdown",
   "id": "f774553c-19bb-453e-a70b-0ad1dacb51da",
   "metadata": {},
   "source": [
    "##### 2.5.1.1.8 strftime()"
   ]
  },
  {
   "cell_type": "code",
   "execution_count": 26,
   "id": "2b6e3e3f-1e59-4cb7-9f9d-f34b30220a65",
   "metadata": {},
   "outputs": [
    {
     "name": "stdout",
     "output_type": "stream",
     "text": [
      "23-04-2013\n"
     ]
    }
   ],
   "source": [
    "print(debut.strftime(\"%d-%m-%Y\"))"
   ]
  },
  {
   "cell_type": "markdown",
   "id": "be90ff18-dda8-4422-a30d-8e51ee095507",
   "metadata": {},
   "source": [
    "Lệnh này chuyển đổi giá trị ngày debut thành chuỗi theo định dạng ngày-tháng-năm, giúp hiển thị ngày ở dạng văn bản dễ đọc hơn thay vì dạng đối tượng date."
   ]
  },
  {
   "cell_type": "code",
   "execution_count": 27,
   "id": "dfa55ba1-742c-42f5-96f8-9c3f109f16dc",
   "metadata": {},
   "outputs": [
    {
     "name": "stdout",
     "output_type": "stream",
     "text": [
      "23/04/2013\n"
     ]
    }
   ],
   "source": [
    "print(debut.strftime(\"%d/%m/%Y\"))"
   ]
  },
  {
   "cell_type": "markdown",
   "id": "f2927a5f-3dcf-4dff-8579-a4a6621d589c",
   "metadata": {},
   "source": [
    "Định dạng và hiển thị ngày tháng của biến debut dưới dạng ngày/tháng/năm với dấu gạch chéo / làm ký tự ngăn cách."
   ]
  },
  {
   "cell_type": "code",
   "execution_count": 28,
   "id": "7d42c1f0-7580-4310-ad1c-c41f09ff7b86",
   "metadata": {},
   "outputs": [
    {
     "name": "stdout",
     "output_type": "stream",
     "text": [
      "Jour : 23, Mois : 04, Annee : 2013\n"
     ]
    }
   ],
   "source": [
    "print(debut.strftime(\"Jour : %d, Mois : %m, Annee : %Y\"))"
   ]
  },
  {
   "cell_type": "markdown",
   "id": "59238524-52d7-4e90-9895-ec3176eacb10",
   "metadata": {},
   "source": [
    "Hiển thị ngày debut dưới dạng chuỗi với nhãn rõ ràng cho ngày, tháng, năm, giúp đọc dễ hiểu hơn."
   ]
  },
  {
   "cell_type": "markdown",
   "id": "52ddb96a-1a3d-4302-bbf2-fac6665d6dc5",
   "metadata": {},
   "source": [
    "##### 2.5.1.2 Time "
   ]
  },
  {
   "cell_type": "code",
   "execution_count": 32,
   "id": "1b4beb27-22b7-4865-b040-38acc9a70c6f",
   "metadata": {},
   "outputs": [
    {
     "name": "stdout",
     "output_type": "stream",
     "text": [
      "23:04:59\n"
     ]
    }
   ],
   "source": [
    "from datetime import time\n",
    "moment = time(hour = 23, minute = 4, second = 59)\n",
    "print(moment)"
   ]
  },
  {
   "cell_type": "markdown",
   "id": "11d35c6b-4a96-4415-950c-3b11bf239ab0",
   "metadata": {},
   "source": [
    "Tạo và hiển thị một thời điểm trong ngày (giờ, phút, giây) bằng đối tượng time trong Python."
   ]
  },
  {
   "cell_type": "code",
   "execution_count": 33,
   "id": "dd7499ef-6259-4ef6-98b0-888d196f400c",
   "metadata": {},
   "outputs": [
    {
     "name": "stdout",
     "output_type": "stream",
     "text": [
      "<class 'datetime.time'>\n"
     ]
    }
   ],
   "source": [
    "print(type(moment))"
   ]
  },
  {
   "cell_type": "markdown",
   "id": "0d459a91-1f1e-44fe-a890-f4eb7b7875a0",
   "metadata": {},
   "source": [
    "Xác định rằng moment là một đối tượng thời gian thuộc lớp datetime.time."
   ]
  },
  {
   "cell_type": "code",
   "execution_count": 34,
   "id": "4a290e08-1733-4417-9700-9c4cd9dd78a2",
   "metadata": {},
   "outputs": [
    {
     "name": "stdout",
     "output_type": "stream",
     "text": [
      "23:04:59.000230\n"
     ]
    }
   ],
   "source": [
    "moment = time(hour = 23, minute = 4, second = 59, microsecond = 230) \n",
    "print(moment)"
   ]
  },
  {
   "cell_type": "markdown",
   "id": "3d83eee6-7cd4-43c3-9fff-d6e08308e763",
   "metadata": {},
   "source": [
    "Tạo và hiển thị một thời điểm trong ngày với giờ, phút, giây và microgiây bằng đối tượng time trong Python."
   ]
  },
  {
   "cell_type": "code",
   "execution_count": 35,
   "id": "81531c26-65b7-4259-9bf4-f355299e6b8a",
   "metadata": {},
   "outputs": [
    {
     "name": "stdout",
     "output_type": "stream",
     "text": [
      "<class 'datetime.time'>\n"
     ]
    }
   ],
   "source": [
    "print(type(moment))"
   ]
  },
  {
   "cell_type": "markdown",
   "id": "9c25a58b-59cc-4acf-962b-9b9dee61ca01",
   "metadata": {},
   "source": [
    "Xác định rằng moment là một đối tượng thời gian thuộc lớp datetime.time, có thể chứa giờ, phút, giây và microgiây."
   ]
  },
  {
   "cell_type": "code",
   "execution_count": 36,
   "id": "4c4ab7fc-abb6-41ca-9e01-5ee1617e311a",
   "metadata": {},
   "outputs": [
    {
     "name": "stdout",
     "output_type": "stream",
     "text": [
      "23\n"
     ]
    }
   ],
   "source": [
    "print(moment.hour) # Extract the hour"
   ]
  },
  {
   "cell_type": "markdown",
   "id": "7e7bbff2-ad50-4891-978f-0c2a5f18360c",
   "metadata": {},
   "source": [
    "Lấy và in giá trị giờ của đối tượng time."
   ]
  },
  {
   "cell_type": "code",
   "execution_count": 37,
   "id": "9dbf6327-14f8-4837-924e-287740400646",
   "metadata": {},
   "outputs": [
    {
     "name": "stdout",
     "output_type": "stream",
     "text": [
      "4\n"
     ]
    }
   ],
   "source": [
    "print(moment.minute) # Extract the minute"
   ]
  },
  {
   "cell_type": "markdown",
   "id": "3ff286d2-4fc1-44a8-a0b1-69a1f639d08c",
   "metadata": {},
   "source": [
    "Lấy và in giá trị phút của đối tượng time."
   ]
  },
  {
   "cell_type": "code",
   "execution_count": 38,
   "id": "d6dff0e8-c519-4ca5-ba8e-3049595b5374",
   "metadata": {},
   "outputs": [
    {
     "name": "stdout",
     "output_type": "stream",
     "text": [
      "59\n"
     ]
    }
   ],
   "source": [
    "print(moment.second) # Extract the second"
   ]
  },
  {
   "cell_type": "markdown",
   "id": "8210d036-bebf-469c-b8fb-ac169a9cbb20",
   "metadata": {},
   "source": [
    "Lấy và in giá trị giây của đối tượng time."
   ]
  },
  {
   "cell_type": "code",
   "execution_count": 40,
   "id": "a944b394-a6a8-40d0-bf9c-88be31daaed5",
   "metadata": {},
   "outputs": [
    {
     "name": "stdout",
     "output_type": "stream",
     "text": [
      "230\n"
     ]
    }
   ],
   "source": [
    "print(moment.microsecond) # Extract the microsecond"
   ]
  },
  {
   "cell_type": "markdown",
   "id": "373068a7-d844-4fe9-86bd-1e5a477e1c2a",
   "metadata": {},
   "source": [
    "Lấy và in giá trị microgiây của đối tượng time."
   ]
  },
  {
   "cell_type": "markdown",
   "id": "6ba900d9-a1f6-4ad6-85c5-67f9a9b429a6",
   "metadata": {},
   "source": [
    "##### 2.5.1.3 Datetime"
   ]
  },
  {
   "cell_type": "code",
   "execution_count": 2,
   "id": "1e03b370-2a26-4ed6-9881-8d73d7a2697c",
   "metadata": {},
   "outputs": [
    {
     "name": "stdout",
     "output_type": "stream",
     "text": [
      "2013-04-23 23:04:59\n"
     ]
    }
   ],
   "source": [
    "from datetime import datetime\n",
    "x = datetime(year = 2013, month = 4, day = 23,\n",
    " hour = 23, minute = 4, second = 59) \n",
    "print(x)"
   ]
  },
  {
   "cell_type": "code",
   "execution_count": 3,
   "id": "9271ff0a-8b16-48d3-b808-188ac22c0805",
   "metadata": {},
   "outputs": [
    {
     "name": "stdout",
     "output_type": "stream",
     "text": [
      "<class 'datetime.datetime'>\n"
     ]
    }
   ],
   "source": [
    "print(type(x))"
   ]
  },
  {
   "cell_type": "markdown",
   "id": "2db64390-2e46-4890-b8f4-a55403ebde78",
   "metadata": {},
   "source": [
    "Xác định rằng x là một đối tượng ngày giờ đầy đủ thuộc lớp datetime.datetime."
   ]
  },
  {
   "cell_type": "markdown",
   "id": "2cf1b5f3-efcd-4bdf-98da-eb6c38526240",
   "metadata": {},
   "source": [
    "##### 2.5.1.3.1 today() et now()"
   ]
  },
  {
   "cell_type": "code",
   "execution_count": 4,
   "id": "a94c791f-8735-4f94-b52f-6bf313c371df",
   "metadata": {},
   "outputs": [
    {
     "name": "stdout",
     "output_type": "stream",
     "text": [
      "2025-08-14 07:36:39.197114\n"
     ]
    }
   ],
   "source": [
    "print(x.today())"
   ]
  },
  {
   "cell_type": "markdown",
   "id": "39d23b56-0f96-4010-b1f2-381d97696e87",
   "metadata": {},
   "source": [
    "Lệnh print(x.today()) sẽ in ra ngày và giờ hiện tại tại thời điểm chạy lệnh."
   ]
  },
  {
   "cell_type": "code",
   "execution_count": 5,
   "id": "4904f804-1777-4b2e-a434-9a1fb09b47b3",
   "metadata": {},
   "outputs": [
    {
     "name": "stdout",
     "output_type": "stream",
     "text": [
      "2025-08-14 07:37:15.129385\n"
     ]
    }
   ],
   "source": [
    "print(datetime.today())"
   ]
  },
  {
   "cell_type": "markdown",
   "id": "eb70d585-3e95-4865-b515-3bc647f95b38",
   "metadata": {},
   "source": [
    "Lệnh này in ra ngày và giờ hiện tại tại thời điểm chạy lệnh, sử dụng phương thức today() của lớp datetime."
   ]
  },
  {
   "cell_type": "markdown",
   "id": "c5134d4b-b078-433e-9c82-d371f5dddeb5",
   "metadata": {},
   "source": [
    "##### 2.5.1.3.2 timestamp()"
   ]
  },
  {
   "cell_type": "code",
   "execution_count": 6,
   "id": "687af40e-d5b2-4908-af27-07a753f7e9c6",
   "metadata": {},
   "outputs": [
    {
     "name": "stdout",
     "output_type": "stream",
     "text": [
      "1366758299.0\n"
     ]
    }
   ],
   "source": [
    "print(x.timestamp())"
   ]
  },
  {
   "cell_type": "markdown",
   "id": "b32271e9-f91d-4d14-8d4f-82c653fe5dda",
   "metadata": {},
   "source": [
    "Lệnh print(x.timestamp()) trả về giá trị thời gian dạng số thực (timestamp) tương ứng với đối tượng datetime x."
   ]
  },
  {
   "cell_type": "markdown",
   "id": "37cd8f22-c73f-466e-a0c4-0b1ae3614c4b",
   "metadata": {},
   "source": [
    "##### 2.5.1.3.3 date()"
   ]
  },
  {
   "cell_type": "code",
   "execution_count": 7,
   "id": "9800bcc3-a36a-4d34-a147-9b4d6542fa6c",
   "metadata": {},
   "outputs": [
    {
     "name": "stdout",
     "output_type": "stream",
     "text": [
      "2013-04-23\n"
     ]
    }
   ],
   "source": [
    "x_date = x.date()\n",
    "print(x_date)"
   ]
  },
  {
   "cell_type": "markdown",
   "id": "a3adb504-fbd3-45bf-8d96-a957bbda9b42",
   "metadata": {},
   "source": [
    "Tách phần ngày từ một datetime để làm việc chỉ với ngày, không bao gồm giờ phút giây và in kết quả ra màn hình."
   ]
  },
  {
   "cell_type": "code",
   "execution_count": 8,
   "id": "76589601-5926-43e1-8205-726e133cd851",
   "metadata": {},
   "outputs": [
    {
     "name": "stdout",
     "output_type": "stream",
     "text": [
      "<class 'datetime.date'>\n"
     ]
    }
   ],
   "source": [
    "print(type(x_date))"
   ]
  },
  {
   "cell_type": "markdown",
   "id": "19baa721-85ae-4925-b8ce-67ff238fb6f5",
   "metadata": {},
   "source": [
    "Xác định rằng x_date là một đối tượng ngày (date) riêng, chỉ chứa thông tin năm, tháng, ngày, không có giờ phút giây."
   ]
  },
  {
   "cell_type": "markdown",
   "id": "2c2706b1-4ea4-47c5-ace6-65c40d722f2d",
   "metadata": {},
   "source": [
    "##### 2.5.1.3.4 time()"
   ]
  },
  {
   "cell_type": "code",
   "execution_count": 9,
   "id": "ab8b7ca2-8d70-4fab-8a07-9391eb6c693c",
   "metadata": {},
   "outputs": [
    {
     "name": "stdout",
     "output_type": "stream",
     "text": [
      "23:04:59\n"
     ]
    }
   ],
   "source": [
    "x_time = x.time() \n",
    "print(x_time)"
   ]
  },
  {
   "cell_type": "markdown",
   "id": "cf13da9f-7329-49bb-acfb-49b0eff52cbf",
   "metadata": {},
   "source": [
    "Tách phần thời gian từ một datetime để làm việc chỉ với giờ, phút, giây, không bao gồm ngày tháng."
   ]
  },
  {
   "cell_type": "code",
   "execution_count": 10,
   "id": "68d97d8e-efb8-4baf-9811-9f41d00486ee",
   "metadata": {},
   "outputs": [
    {
     "name": "stdout",
     "output_type": "stream",
     "text": [
      "<class 'datetime.time'>\n"
     ]
    }
   ],
   "source": [
    "print(type(x_time))"
   ]
  },
  {
   "cell_type": "markdown",
   "id": "b02d13d8-56a8-43ae-9273-ed80b9eaa139",
   "metadata": {},
   "source": [
    "Xác định rằng x_time là một đối tượng thời gian (time) riêng, chỉ chứa thông tin giờ, phút, giây, không có ngày tháng."
   ]
  },
  {
   "cell_type": "markdown",
   "id": "b9988e0e-fa05-4883-87fd-82acac14500a",
   "metadata": {},
   "source": [
    "##### 2.5.1.4 Timedelta"
   ]
  },
  {
   "cell_type": "code",
   "execution_count": 11,
   "id": "44bcfdf9-d3ae-4168-ad4e-9c2ca8889fbb",
   "metadata": {},
   "outputs": [
    {
     "data": {
      "text/plain": [
       "datetime.timedelta(days=1, seconds=30)"
      ]
     },
     "execution_count": 11,
     "metadata": {},
     "output_type": "execute_result"
    }
   ],
   "source": [
    "from datetime import timedelta\n",
    "duree = timedelta(days = 1, seconds = 30) \n",
    "duree"
   ]
  },
  {
   "cell_type": "markdown",
   "id": "a99270db-65bd-4ab2-a5ca-2922835f8690",
   "metadata": {},
   "source": [
    "Tạo và biểu diễn một khoảng thời gian (1 ngày và 30 giây) trong Python bằng đối tượng timedelta."
   ]
  },
  {
   "cell_type": "code",
   "execution_count": 14,
   "id": "c5146e51-9ddd-4946-965c-1b4860ac22c9",
   "metadata": {},
   "outputs": [
    {
     "data": {
      "text/plain": [
       "1"
      ]
     },
     "execution_count": 14,
     "metadata": {},
     "output_type": "execute_result"
    }
   ],
   "source": [
    "duree. days"
   ]
  },
  {
   "cell_type": "markdown",
   "id": "d05e8109-8457-4de9-9c24-4398341ad90d",
   "metadata": {},
   "source": [
    "Lấy và in ra số ngày của khoảng thời gian duree."
   ]
  },
  {
   "cell_type": "code",
   "execution_count": 15,
   "id": "c476fd6c-6cae-4dbe-aba4-2c14988e317a",
   "metadata": {},
   "outputs": [
    {
     "data": {
      "text/plain": [
       "158430.0"
      ]
     },
     "execution_count": 15,
     "metadata": {},
     "output_type": "execute_result"
    }
   ],
   "source": [
    "duree = timedelta(days = 1, seconds = 30, hours = 20) \n",
    "duree.total_seconds()"
   ]
  },
  {
   "cell_type": "markdown",
   "id": "a4f3d2e0-ba6c-46c7-8c0c-1ea0ed0efff5",
   "metadata": {},
   "source": [
    "Chuyển đổi toàn bộ khoảng thời gian timedelta thành số giây tổng cộng để thuận tiện cho tính toán."
   ]
  },
  {
   "cell_type": "markdown",
   "id": "bfd80cdb-5a4e-4c8e-b0d5-7f96f255e725",
   "metadata": {},
   "source": [
    "##### 2.5.1.4.1 Time Between Two Objects date or datetime."
   ]
  },
  {
   "cell_type": "code",
   "execution_count": 21,
   "id": "ce1dd459-5a96-4612-9838-de6041c4bd2e",
   "metadata": {},
   "outputs": [
    {
     "name": "stdout",
     "output_type": "stream",
     "text": [
      "<class 'datetime.timedelta'>\n"
     ]
    }
   ],
   "source": [
    "from datetime import timedelta \n",
    "beginning = date(2018, 1, 1) \n",
    "end = date(2018, 1, 2)\n",
    "nb_days = end-beginning \n",
    "print(type(nb_days))"
   ]
  },
  {
   "cell_type": "markdown",
   "id": "36ff9199-1af1-4056-89fc-09cb476a781d",
   "metadata": {},
   "source": [
    "Minh họa cách tính khoảng thời gian giữa hai mốc ngày (hoặc thời điểm) trong Python, và cho thấy phép trừ giữa hai đối tượng date sẽ trả về một đối tượng timedelta biểu diễn chênh lệch thời gian đó."
   ]
  },
  {
   "cell_type": "code",
   "execution_count": 23,
   "id": "a1785abc-e547-4a03-bf65-6a01e7ebb9f1",
   "metadata": {},
   "outputs": [
    {
     "name": "stdout",
     "output_type": "stream",
     "text": [
      "1 day, 0:00:00\n"
     ]
    }
   ],
   "source": [
    "print(nb_days)"
   ]
  },
  {
   "cell_type": "markdown",
   "id": "3d506c3e-1134-4aee-acae-71c11358c247",
   "metadata": {},
   "source": [
    "Nghĩa là chênh lệch giữa 2018-01-02 và 2018-01-01 là 1 ngày, không có thêm giờ, phút, hay giây."
   ]
  },
  {
   "cell_type": "code",
   "execution_count": 25,
   "id": "72723566-3ed1-4032-a557-c83d862a733f",
   "metadata": {},
   "outputs": [
    {
     "name": "stdout",
     "output_type": "stream",
     "text": [
      "<class 'datetime.timedelta'>\n"
     ]
    }
   ],
   "source": [
    "beginning = datetime(2018, 1, 1, 12, 26, 30, 230) \n",
    "end = datetime(2018, 1, 2, 11, 14, 31)\n",
    "duration = end-beginning\n",
    "print(type(duration))"
   ]
  },
  {
   "cell_type": "markdown",
   "id": "dac16ee0-75b9-4d42-a62d-7cf8285a76b7",
   "metadata": {},
   "source": [
    "beginning và end là hai đối tượng datetime có cả ngày và giờ, phút, giây, micro giây. Phép trừ end - beginning trả về một đối tượng timedelta, thể hiện khoảng thời gian giữa hai mốc này. Khi print(type(duration)) sẽ in ra kết quả trả về màn hình như trên."
   ]
  },
  {
   "cell_type": "code",
   "execution_count": 26,
   "id": "1db7077b-3732-47eb-8000-567ee7b30a0a",
   "metadata": {},
   "outputs": [
    {
     "name": "stdout",
     "output_type": "stream",
     "text": [
      "22:48:00.999770\n"
     ]
    }
   ],
   "source": [
    "print(duration)"
   ]
  },
  {
   "cell_type": "markdown",
   "id": "5b495147-cf5d-4c39-b19d-88c84c5fc6b1",
   "metadata": {},
   "source": [
    "Duration biểu diễn khoảng thời gian 22 giờ 48 phút và 0.999770 giây giữa hai thời điểm đó."
   ]
  },
  {
   "cell_type": "code",
   "execution_count": 28,
   "id": "67e46f81-1c72-42ea-911a-65e8f46e957c",
   "metadata": {},
   "outputs": [
    {
     "data": {
      "text/plain": [
       "datetime.timedelta(days=1)"
      ]
     },
     "execution_count": 28,
     "metadata": {},
     "output_type": "execute_result"
    }
   ],
   "source": [
    "beginning = date(2021, 2,28) \n",
    "end = date(2021, 3, 1) \n",
    "duration = end - beginning \n",
    "duration"
   ]
  },
  {
   "cell_type": "markdown",
   "id": "6ca846c9-b9a8-41df-8aef-895d785862a1",
   "metadata": {},
   "source": [
    "Đoạn code minh họa rằng khi trừ hai đối tượng date trong Python, kết quả là một đối tượng timedelta biểu diễn khoảng cách thời gian giữa chúng (ở đây là 1 ngày), và khoảng cách này được tính theo lịch, không liên quan đến giờ phút giây."
   ]
  },
  {
   "cell_type": "code",
   "execution_count": 30,
   "id": "76e5289c-f1f8-435c-9916-efd070a44710",
   "metadata": {},
   "outputs": [
    {
     "data": {
      "text/plain": [
       "datetime.timedelta(days=2)"
      ]
     },
     "execution_count": 30,
     "metadata": {},
     "output_type": "execute_result"
    }
   ],
   "source": [
    "beginning_leap = date(2020, 2,28)\n",
    "end_leap = date(2020, 3, 1)\n",
    "beginning_leap = end_leap - beginning_leap \n",
    "beginning_leap"
   ]
  },
  {
   "cell_type": "markdown",
   "id": "67359096-ecba-4fa4-9b22-8115c6e0fa7e",
   "metadata": {},
   "source": [
    "Khoảng cách giữa hai ngày là 2 ngày do năm 2020 có thêm ngày 29/02."
   ]
  },
  {
   "cell_type": "code",
   "execution_count": 32,
   "id": "7abcf5ac-8453-4f90-bd57-c05e938a71b5",
   "metadata": {},
   "outputs": [
    {
     "name": "stdout",
     "output_type": "stream",
     "text": [
      "2019-01-01 00:00:00\n"
     ]
    }
   ],
   "source": [
    "debut = datetime(2018, 12, 31, 23, 59, 59) \n",
    "print(debut + timedelta(seconds = 1))"
   ]
  },
  {
   "cell_type": "markdown",
   "id": "a6a62c7b-5efe-4b8b-8386-58eeb72b224f",
   "metadata": {},
   "source": [
    "Chỉ cần cộng thêm 1 giây, thời gian đã nhảy sang ngày 1 tháng 1 năm 2019, 0 giờ 0 phút 0 giây."
   ]
  },
  {
   "cell_type": "markdown",
   "id": "fa50187c-926b-4bf4-87a5-463cacafa9d3",
   "metadata": {},
   "source": [
    "#### 2.5.2 pytz Module"
   ]
  },
  {
   "cell_type": "markdown",
   "id": "4a7a473b-b19d-44b3-b38c-03fa13bf0a95",
   "metadata": {},
   "source": [
    "#### 2.5.3 Exercises"
   ]
  },
  {
   "cell_type": "markdown",
   "id": "37d8138e-ca2f-4bc8-9d50-2e3858ea70ff",
   "metadata": {},
   "source": [
    "1. Using the appropriate function, store the date of August 29, 2019 in an object called d then display the type of the object."
   ]
  },
  {
   "cell_type": "code",
   "execution_count": 35,
   "id": "0bd5eab2-f795-4fc7-8d57-36a6befdc2e8",
   "metadata": {},
   "outputs": [
    {
     "name": "stdout",
     "output_type": "stream",
     "text": [
      "<class 'datetime.date'>\n"
     ]
    }
   ],
   "source": [
    "from datetime import date\n",
    "d = date(2019, 8, 29)\n",
    "print(type(d))"
   ]
  },
  {
   "cell_type": "markdown",
   "id": "e8c44028-e055-450f-a0a1-419ba1d03563",
   "metadata": {},
   "source": [
    "2. Using the appropriate function, display the current date."
   ]
  },
  {
   "cell_type": "code",
   "execution_count": 36,
   "id": "43eba867-b602-4e34-873d-9f7ef2e78211",
   "metadata": {},
   "outputs": [
    {
     "name": "stdout",
     "output_type": "stream",
     "text": [
      "2025-08-14\n"
     ]
    }
   ],
   "source": [
    "from datetime import date\n",
    "today = date.today()\n",
    "print(today)"
   ]
  },
  {
   "cell_type": "markdown",
   "id": "77643858-6573-4487-99c5-9f90f3561f83",
   "metadata": {},
   "source": [
    "3. Store the next date in an object named d2 : “2019-08-29 20:30:56”. Then,\n",
    "display in the console with the print() function the year, minute and second attributes of d2."
   ]
  },
  {
   "cell_type": "code",
   "execution_count": 37,
   "id": "094c3771-a8fc-43ca-a367-7e6487ff4a6c",
   "metadata": {},
   "outputs": [
    {
     "name": "stdout",
     "output_type": "stream",
     "text": [
      "2019\n",
      "30\n",
      "56\n"
     ]
    }
   ],
   "source": [
    "from datetime import datetime\n",
    "d2 = datetime(2019, 8, 29, 20, 30, 56)\n",
    "print(d2.year)  \n",
    "print(d2.minute)\n",
    "print(d2.second)"
   ]
  },
  {
   "cell_type": "markdown",
   "id": "06a1c1eb-bba4-4d09-9c67-56df2c843698",
   "metadata": {},
   "source": [
    "4. Add 2 days, 3 hours and 4 minutes to d2, and store the result in an object called d3."
   ]
  },
  {
   "cell_type": "code",
   "execution_count": 38,
   "id": "9e42c625-591b-4d51-8918-a2576fb7db69",
   "metadata": {},
   "outputs": [
    {
     "name": "stdout",
     "output_type": "stream",
     "text": [
      "2019-08-31 23:34:56\n"
     ]
    }
   ],
   "source": [
    "d3 = d2 + timedelta(days=2, hours=3, minutes=4)\n",
    "print(d3)"
   ]
  },
  {
   "cell_type": "markdown",
   "id": "a5093b2a-3c53-49f6-8326-63b214e1aa95",
   "metadata": {},
   "source": [
    "5. Display the difference in seconds between d3 and d2."
   ]
  },
  {
   "cell_type": "code",
   "execution_count": 39,
   "id": "a95ef92d-8e40-4ea2-8dbf-fbc1f54e3abb",
   "metadata": {},
   "outputs": [
    {
     "name": "stdout",
     "output_type": "stream",
     "text": [
      "183840.0\n"
     ]
    }
   ],
   "source": [
    "difference = d3 - d2\n",
    "print(difference.total_seconds())"
   ]
  },
  {
   "cell_type": "markdown",
   "id": "5a8bcf74-3a4e-4e08-88fb-9f32b6d6ea43",
   "metadata": {},
   "source": [
    "6. From the object d2, display the date of d2 as a string so that it follows the following syntax: “Month Day, Year”, with “Month” the name of the month (August), “Day” the two-digit day number (29) and “Year” the year of the date (2019)."
   ]
  },
  {
   "cell_type": "code",
   "execution_count": 40,
   "id": "b28d8652-08e8-4dea-ad83-4fccc743fc81",
   "metadata": {},
   "outputs": [
    {
     "name": "stdout",
     "output_type": "stream",
     "text": [
      "August 29, 2019\n"
     ]
    }
   ],
   "source": [
    "formatted_date = d2.strftime(\"%B %d, %Y\")\n",
    "print(formatted_date)"
   ]
  },
  {
   "cell_type": "markdown",
   "id": "52b459af-6795-48e4-b4b3-1c285b4cf3dd",
   "metadata": {},
   "source": [
    "# Kết thúc Chapter 2"
   ]
  }
 ],
 "metadata": {
  "kernelspec": {
   "display_name": "Python 3 (ipykernel)",
   "language": "python",
   "name": "python3"
  },
  "language_info": {
   "codemirror_mode": {
    "name": "ipython",
    "version": 3
   },
   "file_extension": ".py",
   "mimetype": "text/x-python",
   "name": "python",
   "nbconvert_exporter": "python",
   "pygments_lexer": "ipython3",
   "version": "3.12.1"
  }
 },
 "nbformat": 4,
 "nbformat_minor": 5
}
