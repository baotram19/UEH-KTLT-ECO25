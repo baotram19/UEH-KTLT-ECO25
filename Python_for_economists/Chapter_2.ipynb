{
 "cells": [
  {
   "cell_type": "markdown",
   "id": "aca96756-9d16-4dc5-949f-28447694d412",
   "metadata": {},
   "source": [
    "# Chapter 2"
   ]
  },
  {
   "cell_type": "markdown",
   "id": "03481f2e-d51d-4777-bb3a-6c46f9e62cdd",
   "metadata": {},
   "source": [
    "# Types of Data"
   ]
  },
  {
   "cell_type": "markdown",
   "id": "a7d297f6-5e4d-481d-835e-1dcc69d14304",
   "metadata": {},
   "source": [
    "### 2.1 Strings"
   ]
  },
  {
   "cell_type": "code",
   "execution_count": 1,
   "id": "26a83def-2ae0-40d4-bdbd-92c0e7d137d5",
   "metadata": {},
   "outputs": [],
   "source": [
    "x = \"Hello World\""
   ]
  },
  {
   "cell_type": "code",
   "execution_count": 2,
   "id": "3900a581-0100-44e0-98e3-0720b5c4dea3",
   "metadata": {},
   "outputs": [
    {
     "name": "stdout",
     "output_type": "stream",
     "text": [
      "Hello World\n"
     ]
    }
   ],
   "source": [
    "print(x)"
   ]
  },
  {
   "cell_type": "markdown",
   "id": "c6d4e142-6601-4f90-b377-fb484511c8d7",
   "metadata": {},
   "source": [
    "Nhập dữ liệu x là \"Hello World\" và in dữ liệu x với kết quả trả về là Hello World."
   ]
  },
  {
   "cell_type": "code",
   "execution_count": 3,
   "id": "1425b869-8b04-4354-a0e8-aa4dbe9b9f53",
   "metadata": {},
   "outputs": [
    {
     "name": "stdout",
     "output_type": "stream",
     "text": [
      "How are you?\n"
     ]
    }
   ],
   "source": [
    "y = 'How are you?'\n",
    "print(y)"
   ]
  },
  {
   "cell_type": "markdown",
   "id": "2d6e5841-524a-4b78-b12f-45c0df02a7cb",
   "metadata": {},
   "source": [
    "Sử dụng dấu nháy đơn 'How are you?' để tạo một chuỗi và gán chuỗi đó vào biến y với kết quả trả về là How are you?"
   ]
  },
  {
   "cell_type": "code",
   "execution_count": 4,
   "id": "f9c6602e-5cdd-4f96-9555-a151ea0f109e",
   "metadata": {},
   "outputs": [
    {
     "name": "stdout",
     "output_type": "stream",
     "text": [
      "I'm fine\n"
     ]
    }
   ],
   "source": [
    "z = 'I\\'m fine'\n",
    "print(z)"
   ]
  },
  {
   "cell_type": "markdown",
   "id": "5f5b426b-812b-4fa9-a136-5251105c6cab",
   "metadata": {},
   "source": [
    "Khi sử dụng dấu nháy đơn '...' để tạo chuỗi, nếu bên trong chuỗi cũng có dấu nháy đơn ví dụ như 'I'm, thì phải dùng ký tự thoát \\ để tránh lỗi cú pháp. Cuối cùng trả về kết quả biến y là I'm fine."
   ]
  },
  {
   "cell_type": "code",
   "execution_count": 1,
   "id": "fee083ef-d572-4215-82bf-e497283c8b9c",
   "metadata": {},
   "outputs": [
    {
     "name": "stdout",
     "output_type": "stream",
     "text": [
      "I'm \"fine\"\n"
     ]
    }
   ],
   "source": [
    "z = \"I'm \\\"fine\\\"\"\n",
    "print(z)"
   ]
  },
  {
   "cell_type": "markdown",
   "id": "659d508b-d25a-4563-8709-830d4b97e360",
   "metadata": {},
   "source": [
    "Khi chuỗi được tạo bằng dấu nháy kép \"...\", có thể dùng dấu nháy đơn ' bên trong mà không cần escape. Tuy nhiên, nếu muốn chèn dấu nháy kép bên trong chuỗi, ta cần dùng ký tự thoát \\\"."
   ]
  },
  {
   "cell_type": "code",
   "execution_count": 2,
   "id": "67d518ed-dca0-4a07-9d93-28721b691e30",
   "metadata": {},
   "outputs": [
    {
     "name": "stdout",
     "output_type": "stream",
     "text": [
      "Hello, \n",
      "World\n"
     ]
    }
   ],
   "source": [
    "x = \"Hello, \\nWorld\"\n",
    "print(x)"
   ]
  },
  {
   "cell_type": "markdown",
   "id": "e5537082-a3a3-4837-bbba-51b69bc94342",
   "metadata": {},
   "source": [
    "Ký tự \\n được dùng để tạo dòng mới trong chuỗi. Khi in ra bằng print(), nội dung sau ký tự \\n sẽ được hiển thị trên dòng tiếp theo."
   ]
  },
  {
   "cell_type": "code",
   "execution_count": 3,
   "id": "7ac09fcf-d1b6-4db0-9fd6-4569ba384a8e",
   "metadata": {},
   "outputs": [
    {
     "name": "stdout",
     "output_type": "stream",
     "text": [
      "Hello,\n",
      "World\n"
     ]
    }
   ],
   "source": [
    "x = \"\"\"Hello,\n",
    "World\"\"\"\n",
    "print(x)"
   ]
  },
  {
   "cell_type": "markdown",
   "id": "6fb09e99-076a-4c3b-912b-15eb33bb7cbc",
   "metadata": {},
   "source": [
    "Ba dấu nháy kép \"\"\" ... \"\"\" cho phép tạo chuỗi nhiều dòng nên khi xuống dòng trong cùng nội dung chuỗi sẽ được giữ nguyên khi in ra."
   ]
  },
  {
   "cell_type": "code",
   "execution_count": 4,
   "id": "cbf68726-f9c6-4659-932b-3831836e9600",
   "metadata": {},
   "outputs": [
    {
     "name": "stdout",
     "output_type": "stream",
     "text": [
      "13\n"
     ]
    }
   ],
   "source": [
    "x = \"Hello World !\"\n",
    "print(len(x))"
   ]
  },
  {
   "cell_type": "markdown",
   "id": "5f498bf0-07ba-4fe5-aba3-7ce87579c641",
   "metadata": {},
   "source": [
    "Hàm len() được dùng để đếm số ký tự trong chuỗi, bao gồm cả khoảng trắng và dấu câu nên kết quả print trả về là 13."
   ]
  },
  {
   "cell_type": "code",
   "execution_count": 5,
   "id": "23e571ce-372f-4ab0-8d55-46b86200613c",
   "metadata": {},
   "outputs": [
    {
     "name": "stdout",
     "output_type": "stream",
     "text": [
      "Hello World ! 13\n"
     ]
    }
   ],
   "source": [
    "print(x, len(x))"
   ]
  },
  {
   "cell_type": "markdown",
   "id": "91995518-72fb-4c2b-b713-31c101bacd90",
   "metadata": {},
   "source": [
    "Lệnh print(x, len(x)) in ra cả nội dung chuỗi x và số ký tự trong chuỗi đó, kết quả trả về là Hello World ! 13 cách nhau bằng một khoảng trắng."
   ]
  },
  {
   "cell_type": "markdown",
   "id": "58ba4412-33cb-4f08-97e2-1b59b25f53df",
   "metadata": {},
   "source": [
    "#### 2.1.1 Concatenation of Strings"
   ]
  },
  {
   "cell_type": "code",
   "execution_count": 6,
   "id": "61e557f0-8321-4cd1-aeb7-2376282b2f4b",
   "metadata": {},
   "outputs": [
    {
     "name": "stdout",
     "output_type": "stream",
     "text": [
      "Hello World\n"
     ]
    }
   ],
   "source": [
    "print(\"Hello\" + \" World\")"
   ]
  },
  {
   "cell_type": "markdown",
   "id": "3594b476-a3c9-4b6a-816a-46613daf7eb2",
   "metadata": {},
   "source": [
    "Phép cộng (+) dùng để nối hai chuỗi lại với nhau thành một chuỗi mới. "
   ]
  },
  {
   "cell_type": "code",
   "execution_count": 7,
   "id": "c2c66c5f-69e4-4900-9788-a3d7863adf1b",
   "metadata": {},
   "outputs": [
    {
     "name": "stdout",
     "output_type": "stream",
     "text": [
      "Go Habs Go! Go Habs Go! Go Habs Go! Woo Hoo!\n"
     ]
    }
   ],
   "source": [
    "print( 3 * \"Go Habs Go! \" + \"Woo Hoo!\")"
   ]
  },
  {
   "cell_type": "markdown",
   "id": "e90e801e-0105-4c00-af2c-5d4403aef662",
   "metadata": {},
   "source": [
    "Phép toán * khi áp dụng với chuỗi và số nguyên sẽ tạo ra chuỗi lặp lại số lần tương ứng."
   ]
  },
  {
   "cell_type": "code",
   "execution_count": 8,
   "id": "eee66f64-118f-45b3-8b26-c53fe22dcd27",
   "metadata": {},
   "outputs": [
    {
     "name": "stdout",
     "output_type": "stream",
     "text": [
      "You shall not pass!\n"
     ]
    }
   ],
   "source": [
    "x = ('You shall ' 'not ' \"pass!\")\n",
    "print(x)"
   ]
  },
  {
   "cell_type": "markdown",
   "id": "9655f873-bea3-42f8-bad4-58a1a22fe28b",
   "metadata": {},
   "source": [
    "Khi đặt nhiều chuỗi liên tiếp liền nhau trong ngoặc đơn, Python sẽ tự động nối chúng thành một chuỗi duy nhất mà không cần dùng đến phép toán +."
   ]
  },
  {
   "cell_type": "code",
   "execution_count": 9,
   "id": "9621198e-0520-4f0c-9a3b-f2bcfac5bb5e",
   "metadata": {},
   "outputs": [
    {
     "name": "stdout",
     "output_type": "stream",
     "text": [
      "I like to code in R\n"
     ]
    }
   ],
   "source": [
    "x = \"I like to code in {}\"\n",
    "langage_1 = \"R\"\n",
    "langage_2 = \"Python\"\n",
    "preference_1 = x.format(langage_1)\n",
    "print(preference_1)"
   ]
  },
  {
   "cell_type": "markdown",
   "id": "84c3c469-9b45-4906-a7ec-36aaf5e4bd41",
   "metadata": {},
   "source": [
    "Chuỗi chứa một dấu ngoặc nhọn {} là vị trí chứa chỗ trống để chèn giá trị. Khai báo 2 biến chuỗi với language_1 là R và langugage_ 2 là Python. Gọi lệnh .format() trên chuỗi x với giá trị của langage_1 là R sẽ được chèn vào vị trí {} trong chuỗi x. Kết quả in ra màn hình sẽ là I like to code in R."
   ]
  },
  {
   "cell_type": "code",
   "execution_count": 2,
   "id": "e4f75dda-1db0-4b4e-8f21-68089f5c98dd",
   "metadata": {},
   "outputs": [
    {
     "name": "stdout",
     "output_type": "stream",
     "text": [
      "I like to code in Python\n"
     ]
    }
   ],
   "source": [
    "x = \"I like to code in {}\"\n",
    "langage_1 = \"R\"\n",
    "langage_2 = \"Python\"\n",
    "preference_2 = x.format(langage_2)\n",
    "print(preference_2)"
   ]
  },
  {
   "cell_type": "markdown",
   "id": "7c0ee39d-0d1e-4f80-92e2-edf6948b2c04",
   "metadata": {},
   "source": [
    "Chuỗi chứa một dấu ngoặc nhọn {} là vị trí chứa chỗ trống để chèn giá trị. Khai báo 2 biến chuỗi với language_1 là R và langugage_ 2 là Python. Gọi lệnh .format() trên chuỗi x với giá trị của langage_2 là Python sẽ được chèn vào vị trí {} trong chuỗi x. Kết quả in ra màn hình sẽ là I like to code in Python."
   ]
  },
  {
   "cell_type": "code",
   "execution_count": 3,
   "id": "50dce126-77ac-4f69-823c-9f02882c8ed5",
   "metadata": {},
   "outputs": [
    {
     "name": "stdout",
     "output_type": "stream",
     "text": [
      "I like to code in R and in Python\n"
     ]
    }
   ],
   "source": [
    "x = \"I like to code in {} and in {}\"\n",
    "preference_3 = x.format(langage_1, langage_2)\n",
    "print(preference_3)"
   ]
  },
  {
   "cell_type": "markdown",
   "id": "dfbc925c-b99b-415e-9552-c3127d3c5860",
   "metadata": {},
   "source": [
    "Khi một chuỗi chứa nhiều dấu {}, ta có thể chèn nhiều giá trị tương ứng bằng cách truyền các biến vào format() theo đúng thứ tự. Kết quả in ra màn hình sẽ đúng theo giá trị tương ứng."
   ]
  },
  {
   "cell_type": "markdown",
   "id": "3cffba4c-56a9-4a8d-9649-a351cdb8c577",
   "metadata": {},
   "source": [
    "#### 2.1.2 Indexing and Extraction"
   ]
  },
  {
   "cell_type": "code",
   "execution_count": 4,
   "id": "abadbdea-a7ae-487a-b28a-ffd23800756d",
   "metadata": {},
   "outputs": [
    {
     "ename": "NameError",
     "evalue": "name 'i' is not defined",
     "output_type": "error",
     "traceback": [
      "\u001b[31m---------------------------------------------------------------------------\u001b[39m",
      "\u001b[31mNameError\u001b[39m                                 Traceback (most recent call last)",
      "\u001b[36mCell\u001b[39m\u001b[36m \u001b[39m\u001b[32mIn[4]\u001b[39m\u001b[32m, line 1\u001b[39m\n\u001b[32m----> \u001b[39m\u001b[32m1\u001b[39m x[\u001b[43mi\u001b[49m-\u001b[32m1\u001b[39m]\n",
      "\u001b[31mNameError\u001b[39m: name 'i' is not defined"
     ]
    }
   ],
   "source": [
    "x[i-1]"
   ]
  },
  {
   "cell_type": "markdown",
   "id": "128db103-e49d-4603-b1b9-5c8805a98218",
   "metadata": {},
   "source": [
    "Chuỗi trong Python có thể được truy cập từng ký tự bằng chỉ số. Ký tự đầu tiên có chỉ số là 0, ký tự thứ i có chỉ số là i-1. Dùng cú pháp x[i-1] để lấy ký tự đó nhưng hiện thông báo lỗi NamError nên phải khai báo biến i trước khi sử dụng trong biểu thức x[i-1]."
   ]
  },
  {
   "cell_type": "code",
   "execution_count": 5,
   "id": "f5aa8627-a985-44bf-b905-d6d4e2023ba0",
   "metadata": {},
   "outputs": [
    {
     "name": "stdout",
     "output_type": "stream",
     "text": [
      "H\n"
     ]
    }
   ],
   "source": [
    "x = \"Hello\"\n",
    "print(x[0])"
   ]
  },
  {
   "cell_type": "markdown",
   "id": "cd6427e5-ca34-41aa-84c7-f5c4c8930b78",
   "metadata": {},
   "source": [
    "Đây là cú pháp truy cập ký tự tại vị trí thứ 0 trong chuỗi x và trong Python, chỉ số bắt đầu từ 0, nên print(x[0]) thì ký tự đầu tiên của chuỗi \"Hello\" sẽ trả về kết quả in ra màn hình là H.\n",
    "\n"
   ]
  },
  {
   "cell_type": "code",
   "execution_count": 7,
   "id": "b157a552-81c1-4d56-af82-cc64e959b603",
   "metadata": {},
   "outputs": [
    {
     "name": "stdout",
     "output_type": "stream",
     "text": [
      "o\n"
     ]
    }
   ],
   "source": [
    "print(x[4])"
   ]
  },
  {
   "cell_type": "markdown",
   "id": "60a3f285-7062-48b0-a7cb-39d0774e252e",
   "metadata": {},
   "source": [
    "Tương tự, ký tự thứ 4 của chuỗi \"Hello\" sẽ trả về kết quả in ra màn hình là o."
   ]
  },
  {
   "cell_type": "code",
   "execution_count": 8,
   "id": "8dd4b600-73f6-4565-a5dc-066cfdda4248",
   "metadata": {},
   "outputs": [
    {
     "name": "stdout",
     "output_type": "stream",
     "text": [
      "l\n"
     ]
    }
   ],
   "source": [
    "print(x[-2])"
   ]
  },
  {
   "cell_type": "markdown",
   "id": "3b9129f3-c61d-441d-965f-31b32a94221e",
   "metadata": {},
   "source": [
    "Chỉ số ký tự âm sẽ được đánh từ bên phải sang trái, bắt đầu từ -1, nên ký tự -2 sẽ in ra là "
   ]
  },
  {
   "cell_type": "code",
   "execution_count": 1,
   "id": "5ea7fd2b-ebc8-422a-9a4e-12839b10ff04",
   "metadata": {},
   "outputs": [
    {
     "name": "stdout",
     "output_type": "stream",
     "text": [
      "shall\n"
     ]
    }
   ],
   "source": [
    "x = \"You shall not pass!\"\n",
    "# From the fourth character (not included) to the ninth (included)\n",
    "print(x[4:9])"
   ]
  },
  {
   "cell_type": "markdown",
   "id": "48196092-c913-4617-8c4b-4ba8b94da39d",
   "metadata": {},
   "source": [
    "Chuỗi x có nội dung là: \"You shall not pass!\" và lệnh print(x[4:9]) sẽ lấy các ký tự từ vị trí 4 đến trước vị trí 9 (không bao gồm vị trí 9) nên kết quả trả về là shall."
   ]
  },
  {
   "cell_type": "code",
   "execution_count": 2,
   "id": "4b96f0b4-eb2f-4511-a516-21153da3e228",
   "metadata": {},
   "outputs": [
    {
     "name": "stdout",
     "output_type": "stream",
     "text": [
      "shall not pass!\n",
      "You shall not pass\n",
      "pass!\n"
     ]
    }
   ],
   "source": [
    "# From the 4th character (non included) to the end of the string\n",
    "print(x[4:])\n",
    "# From the beginning of the string to the penultimate (included)\n",
    "print(x[:-1])\n",
    "# From the 3rd character before the end (included) to the end\n",
    "print(x[-5:])"
   ]
  },
  {
   "cell_type": "markdown",
   "id": "6a2dd6ef-c659-4c64-ad37-3dba878b9c61",
   "metadata": {},
   "source": [
    "Lệnh print(x[4:]) sẽ lấy ký tự từ chỉ số 4 đến hết chuỗi, lệnh print(x[:-1]) lấy từ đầu chuỗi đến trước ký tự cuối cùng - tức là bỏ ký tự cuối. Cuối cùng, lệnh print(x[-5:]) lấy chuỗi bắt đầu theo thứ tự chỉ số âm từ thứ 5 từ cuối đến hết."
   ]
  },
  {
   "cell_type": "code",
   "execution_count": 3,
   "id": "48198802-486c-4e5e-85e6-95bceadf3beb",
   "metadata": {},
   "outputs": [
    {
     "name": "stdout",
     "output_type": "stream",
     "text": [
      "sln s\n"
     ]
    }
   ],
   "source": [
    "# From the 4th character (not included),\n",
    "# to the end of the string, in steps of 3\n",
    "print(x[4::3])"
   ]
  },
  {
   "cell_type": "markdown",
   "id": "1184c9fe-f63d-42fe-ba52-4aa5ba6b2de4",
   "metadata": {},
   "source": [
    "Lệnh print(x[4::3]) sẽ in ra các ký tự bắt đầu từ vị trí thứ 4 của chuỗi (ký tự \"s\") và lấy tiếp mỗi 3 ký tự một lần, cho đến khi hết chuỗi. Kết quả trả về sẽ là sln s.\n"
   ]
  },
  {
   "cell_type": "code",
   "execution_count": 2,
   "id": "16bceed1-b330-43bf-b0fe-84fbb767544c",
   "metadata": {},
   "outputs": [
    {
     "name": "stdout",
     "output_type": "stream",
     "text": [
      "!ssap ton llahs uoY\n"
     ]
    }
   ],
   "source": [
    "x = \"You shall not pass!\"\n",
    "print(x[::-1])"
   ]
  },
  {
   "cell_type": "markdown",
   "id": "d4fd7097-15c7-47a4-a71a-e9c8c858d537",
   "metadata": {},
   "source": [
    "Lệnh print(x[::-1]) sẽ in ra chuỗi x theo thứ tự ngược lại."
   ]
  },
  {
   "cell_type": "markdown",
   "id": "c33ea035-656d-486b-8186-b15a3b4758bf",
   "metadata": {},
   "source": [
    "#### 2.1.3 Available Methods with Strings"
   ]
  },
  {
   "cell_type": "code",
   "execution_count": 3,
   "id": "c72aa536-edac-4af3-8706-9978b7bd128a",
   "metadata": {},
   "outputs": [
    {
     "name": "stdout",
     "output_type": "stream",
     "text": [
      "3\n"
     ]
    }
   ],
   "source": [
    "x = \"le train de tes injures roule sur le rail de mon indifférence\"\n",
    "print(x.count(\"in\"))"
   ]
  },
  {
   "cell_type": "markdown",
   "id": "dbe4b3b8-cad7-4fa8-bf92-28cb12167f05",
   "metadata": {},
   "source": [
    "Lệnh print(x.count(\"in\")) sẽ đếm số lần chuỗi con \"in\" xuất hiện trong chuỗi x và in kết quả ra màn hình."
   ]
  },
  {
   "cell_type": "markdown",
   "id": "4bd847f0-2998-463b-9b22-033310af53ad",
   "metadata": {},
   "source": [
    "##### 2.1.3.1 Coversion to upper or lower case"
   ]
  },
  {
   "cell_type": "code",
   "execution_count": 6,
   "id": "40ee0db5-0a9b-4b02-8339-cb4b4bded020",
   "metadata": {},
   "outputs": [
    {
     "name": "stdout",
     "output_type": "stream",
     "text": [
      "le train de tes injures roule sur le rail de mon indifférence\n",
      "LE TRAIN DE TES INJURES ROULE SUR LE RAIL DE MON INDIFFÉRENCE\n"
     ]
    }
   ],
   "source": [
    "x = \"le train de tes injures roule sur le rail de mon indifférence\"\n",
    "print(x.lower())\n",
    "print(x.upper())"
   ]
  },
  {
   "cell_type": "markdown",
   "id": "c8dac5a7-2bdc-4c0b-8c78-c7d6c01d82e4",
   "metadata": {},
   "source": [
    "x.lower() → Trả về bản sao của chuỗi x với toàn bộ ký tự chuyển thành chữ thường.\n",
    "\n",
    "x.upper() → Trả về bản sao của chuỗi x với toàn bộ ký tự chuyển thành chữ in hoa."
   ]
  },
  {
   "cell_type": "markdown",
   "id": "abaceda2-3959-42aa-93b6-99e006435aa4",
   "metadata": {},
   "source": [
    "##### 2.1.3.2 Seach Pattern for Strings"
   ]
  },
  {
   "cell_type": "code",
   "execution_count": 3,
   "id": "9666b54d-265c-44a3-a267-8db0b677d33d",
   "metadata": {},
   "outputs": [
    {
     "name": "stdout",
     "output_type": "stream",
     "text": [
      "6\n",
      "-1\n"
     ]
    }
   ],
   "source": [
    "print(x.find(\"in\"))\n",
    "print(x.find(\"hello\"))"
   ]
  },
  {
   "cell_type": "markdown",
   "id": "34e1c695-edf1-478b-aa06-ba19a076facf",
   "metadata": {},
   "source": [
    "Lệnh x.find(\"in\") sẽ tìm vị trí (chỉ số nhỏ nhất) của chuỗi con \"in\" trong x. nếu tìm thấy, trả về chỉ số đó.\n",
    "\n",
    "x.find(\"hello\") → Tìm vị trí của chuỗi con \"hello\" trong x. Nếu không tìm thấy, trả về -1."
   ]
  },
  {
   "cell_type": "code",
   "execution_count": 5,
   "id": "493d2293-e1da-45dc-9477-fd3b149fda71",
   "metadata": {},
   "outputs": [
    {
     "name": "stdout",
     "output_type": "stream",
     "text": [
      "16\n"
     ]
    }
   ],
   "source": [
    "print(x.find(\"in\", 7, 20))"
   ]
  },
  {
   "cell_type": "markdown",
   "id": "51015764-1175-448b-b395-ccebaff55198",
   "metadata": {},
   "source": [
    "Lệnh yêu cầu tìm chuỗi con \"in\" trong x nhưng chỉ tìm trong phạm vi từ chỉ số 7 đến chỉ số 20, kết quả trả về màn hình là chỉ số 16"
   ]
  },
  {
   "cell_type": "code",
   "execution_count": 7,
   "id": "fea15d4e-7998-45d6-a8f5-7801b3dcdf79",
   "metadata": {},
   "outputs": [
    {
     "name": "stdout",
     "output_type": "stream",
     "text": [
      "49\n"
     ]
    }
   ],
   "source": [
    "print(x.find(\"in\", 20))"
   ]
  },
  {
   "cell_type": "markdown",
   "id": "640e0b7c-6fa5-4040-9eb8-d01a0f1e18d9",
   "metadata": {},
   "source": [
    "Tương tự, lệnh yêu cầu tìm chuỗi con \"in\" trong x, bắt đầu từ vị trí 20 đến hết chuỗi."
   ]
  },
  {
   "cell_type": "code",
   "execution_count": 8,
   "id": "17b25595-4641-4388-a9c8-91d9837f3573",
   "metadata": {},
   "outputs": [
    {
     "name": "stdout",
     "output_type": "stream",
     "text": [
      "-1\n"
     ]
    }
   ],
   "source": [
    "x = \"Mademoiselle Deray, il est interdit de manger de la choucroute ici.\"\n",
    "print(x.find(\"deray\"))"
   ]
  },
  {
   "cell_type": "markdown",
   "id": "5e0bba0c-e1f5-47ca-bf4f-8ccd8a4338f7",
   "metadata": {},
   "source": [
    "Lệnh minh họa việc tìm chuỗi con nhưng có phân biệt chữ hoa và chữ thường. x.find(\"deray\") trả về kết quả -1 vì \"deray\" (chữ thường) không khớp với \"Deray\" trong chuỗi x."
   ]
  },
  {
   "cell_type": "code",
   "execution_count": 9,
   "id": "923a2818-cc1f-4b1e-92be-4ce2aa323e7b",
   "metadata": {},
   "outputs": [
    {
     "name": "stdout",
     "output_type": "stream",
     "text": [
      "13\n"
     ]
    }
   ],
   "source": [
    "print(x.capitalize().find(\"deray\"))"
   ]
  },
  {
   "cell_type": "markdown",
   "id": "a8b88522-1ed1-4489-850a-ec88d346f076",
   "metadata": {},
   "source": [
    "Chuyển chuỗi x thành dạng viết hoa chữ cái đầu, còn lại viết thường, rồi tìm vị trí xuất hiện của \"deray\" trong kết quả đó và in ra vị trí này."
   ]
  },
  {
   "cell_type": "markdown",
   "id": "e4d0dd5b-be6a-4faf-bf12-096ebbc7e2b3",
   "metadata": {},
   "source": [
    "##### 2.1.3.3 Splitting Strings"
   ]
  },
  {
   "cell_type": "code",
   "execution_count": 10,
   "id": "ed4f708c-77b5-4c8b-bac4-26083e7c01ad",
   "metadata": {},
   "outputs": [
    {
     "name": "stdout",
     "output_type": "stream",
     "text": [
      "['Mademoiselle', 'Deray,', 'il', 'est', 'interdit', 'de', 'manger', 'de', 'la', 'choucroute', 'ici.']\n"
     ]
    }
   ],
   "source": [
    "print(x.split(\" \"))"
   ]
  },
  {
   "cell_type": "markdown",
   "id": "089a508d-cd50-4da1-ad46-567b3c0703dd",
   "metadata": {},
   "source": [
    "Tách chuỗi x thành một danh sách các chuỗi con, dùng dấu cách \" \" làm ký tự phân tách, rồi in kết quả danh sách đó ra màn hình."
   ]
  },
  {
   "cell_type": "code",
   "execution_count": 3,
   "id": "0ced328a-016c-4756-bcbe-3528a47a9d81",
   "metadata": {},
   "outputs": [
    {
     "name": "stdout",
     "output_type": "stream",
     "text": [
      "['Mademoiselle', 'Deray,', 'il', 'est interdit de manger de la choucroute ici.']\n"
     ]
    }
   ],
   "source": [
    "# Will return the elements matched up to the index 3\n",
    "print(x.split(\" \", 3))"
   ]
  },
  {
   "cell_type": "markdown",
   "id": "f3e466aa-276a-43e4-b953-17549efcbcf5",
   "metadata": {},
   "source": [
    "Tách chuỗi x thành tối đa 4 phần bao gồm 3 lần tách dựa trên dấu cách \" \", rồi in kết quả danh sách các phần đó ra màn hình."
   ]
  },
  {
   "cell_type": "code",
   "execution_count": 4,
   "id": "c84c80cc-bbb8-4e40-b7e6-f6479b80f3fc",
   "metadata": {},
   "outputs": [
    {
     "name": "stdout",
     "output_type": "stream",
     "text": [
      "['\"No, I am your Father!- No... No. It\\'s not true! That\\'s impossible!- Search your feelings. You know it to be true.- Noooooooo! Noooo!\"']\n"
     ]
    }
   ],
   "source": [
    "x = '''\"No, I am your Father!- No... No. It's not true! That's impossible!- Search your feelings. You know it to be true.- Noooooooo! Noooo!\"'''\n",
    "print(x.splitlines())"
   ]
  },
  {
   "cell_type": "markdown",
   "id": "5fa9a908-8bfb-43bf-bb3e-4906daf7b301",
   "metadata": {},
   "source": [
    "Tách chuỗi x thành một danh sách các dòng dựa trên ký tự xuống dòng (\\n, \\r\\n...), rồi in kết quả danh sách đó ra màn hình."
   ]
  },
  {
   "cell_type": "markdown",
   "id": "eaecceb8-977e-4120-b752-0bae414271c1",
   "metadata": {},
   "source": [
    "##### 2.1.3.4 Cleaning, completion"
   ]
  },
  {
   "cell_type": "code",
   "execution_count": 6,
   "id": "ce9edd1e-2608-42cc-a3dc-6a31d426da15",
   "metadata": {},
   "outputs": [
    {
     "name": "stdout",
     "output_type": "stream",
     "text": [
      "Pardon, du sucre ?\n"
     ]
    }
   ],
   "source": [
    "x = \"\\n\\n    Pardon, du sucre ?    \\n \\n\"\n",
    "print(x.strip())"
   ]
  },
  {
   "cell_type": "markdown",
   "id": "b01e1161-f66a-4dfe-967d-2c20f8d61865",
   "metadata": {},
   "source": [
    "Xóa tất cả các ký tự trống (như khoảng trắng, xuống dòng \\n, tab \\t…) ở đầu và cuối chuỗi x, rồi in kết quả phần nội dung hoàn chỉnh còn lại ra màn hình."
   ]
  },
  {
   "cell_type": "code",
   "execution_count": 7,
   "id": "f7c6a0bb-5db9-4084-9ffe-32a8d763e755",
   "metadata": {},
   "outputs": [
    {
     "name": "stdout",
     "output_type": "stream",
     "text": [
      "egallic\n"
     ]
    }
   ],
   "source": [
    "x = \"www.egallic.fr\"\n",
    "print(x.strip(\"wrf.\"))"
   ]
  },
  {
   "cell_type": "markdown",
   "id": "9de2a835-cf79-4ccf-bd4b-516166c8e76e",
   "metadata": {},
   "source": [
    "Xóa tất cả các ký tự thuộc nhóm \"w\", \"r\", \"f\", \".\" ở đầu và cuối chuỗi x, rồi in kết quả phần nội dung hoàn chỉnh còn lại ra màn hình."
   ]
  },
  {
   "cell_type": "code",
   "execution_count": 8,
   "id": "ef80501d-c2d1-41ad-81ed-0265838c7694",
   "metadata": {},
   "outputs": [
    {
     "name": "stdout",
     "output_type": "stream",
     "text": [
      "  48.11\n"
     ]
    }
   ],
   "source": [
    "longitude = \"48.11\"\n",
    "print(longitude.rjust(7,\" \"))"
   ]
  },
  {
   "cell_type": "markdown",
   "id": "e3270eca-4b9d-4b3a-895d-b699f0388f51",
   "metadata": {},
   "source": [
    "Lệnh longitude yêu cầu căn phải trong một chuỗi có tổng độ dài 7 ký tự, thêm ký tự khoảng trắng \" \" vào bên trái nếu cần, rồi in kết quả ra màn hình."
   ]
  },
  {
   "cell_type": "markdown",
   "id": "3b7a7ef0-fc6b-4723-bb51-12c3034c1c15",
   "metadata": {},
   "source": [
    "##### 2.1.3.5 Replacements"
   ]
  },
  {
   "cell_type": "code",
   "execution_count": 9,
   "id": "a6c09367-4bb4-40f7-9f43-d152e87e434c",
   "metadata": {},
   "outputs": [
    {
     "name": "stdout",
     "output_type": "stream",
     "text": [
      "Ridge ! Vous, ici ? Dans votre propre salle de bain ? Quelle surprise !\n"
     ]
    }
   ],
   "source": [
    "x = \"Criquette ! Vous, ici ? Dans votre propre salle de bain ? Quelle surprise !\"\n",
    "print(x.replace(\"Criquette\", \"Ridge\"))"
   ]
  },
  {
   "cell_type": "markdown",
   "id": "e01e40a8-d4b6-4b58-9460-11d70cc22462",
   "metadata": {},
   "source": [
    "Thay thế tất cả các lần xuất hiện của chuỗi \"Criquette\" trong x bằng chuỗi \"Ridge\", rồi in kết quả ra màn hình."
   ]
  },
  {
   "cell_type": "code",
   "execution_count": 10,
   "id": "561d550b-b334-42de-bc3e-25db8bc02a87",
   "metadata": {},
   "outputs": [
    {
     "name": "stdout",
     "output_type": "stream",
     "text": [
      "Criquette!Vous,ici?Dansvotrepropresalledebain?Quellesurprise!\n"
     ]
    }
   ],
   "source": [
    "print(x.replace(\" \", \"\"))"
   ]
  },
  {
   "cell_type": "markdown",
   "id": "180b35a4-10d6-44b6-8756-dafb21101a78",
   "metadata": {},
   "source": [
    "Xóa tất cả dấu cách \" \" trong chuỗi x bằng cách thay chúng bằng chuỗi rỗng \"\", rồi in kết quả ra màn hình."
   ]
  },
  {
   "cell_type": "markdown",
   "id": "852dff09-58ad-4470-b9ec-9d9b5e479066",
   "metadata": {},
   "source": [
    "#### 2.1.4 Conversion to character strings"
   ]
  },
  {
   "cell_type": "code",
   "execution_count": 12,
   "id": "21839bdc-96cd-4c91-adf3-2591c4eed66c",
   "metadata": {},
   "outputs": [
    {
     "ename": "TypeError",
     "evalue": "can only concatenate str (not \"int\") to str",
     "output_type": "error",
     "traceback": [
      "\u001b[31m---------------------------------------------------------------------------\u001b[39m",
      "\u001b[31mTypeError\u001b[39m                                 Traceback (most recent call last)",
      "\u001b[36mCell\u001b[39m\u001b[36m \u001b[39m\u001b[32mIn[12]\u001b[39m\u001b[32m, line 2\u001b[39m\n\u001b[32m      1\u001b[39m nb_followers = \u001b[32m0\u001b[39m\n\u001b[32m----> \u001b[39m\u001b[32m2\u001b[39m message = \u001b[33;43m\"\u001b[39;49m\u001b[33;43mHe has \u001b[39;49m\u001b[33;43m\"\u001b[39;49m\u001b[43m \u001b[49m\u001b[43m+\u001b[49m\u001b[43m \u001b[49m\u001b[43mnb_followers\u001b[49m + \u001b[33m\"\u001b[39m\u001b[33mfollowers.\u001b[39m\u001b[33m\"\u001b[39m\n",
      "\u001b[31mTypeError\u001b[39m: can only concatenate str (not \"int\") to str"
     ]
    }
   ],
   "source": [
    "nb_followers = 0\n",
    "message = \"He has \" + nb_followers + \"followers.\""
   ]
  },
  {
   "cell_type": "markdown",
   "id": "693f57b6-d1c9-4a79-b367-d7b3bdaffeca",
   "metadata": {},
   "source": [
    "Lệnh đang cố gắng nối một chuỗi với một số nguyên, điều mà Python không cho phép trực tiếp nên gây ra lỗi TypeError."
   ]
  },
  {
   "cell_type": "code",
   "execution_count": 13,
   "id": "123d092f-c4be-4edf-85b0-ee46f9a7d3c1",
   "metadata": {},
   "outputs": [
    {
     "ename": "NameError",
     "evalue": "name 'message' is not defined",
     "output_type": "error",
     "traceback": [
      "\u001b[31m---------------------------------------------------------------------------\u001b[39m",
      "\u001b[31mNameError\u001b[39m                                 Traceback (most recent call last)",
      "\u001b[36mCell\u001b[39m\u001b[36m \u001b[39m\u001b[32mIn[13]\u001b[39m\u001b[32m, line 1\u001b[39m\n\u001b[32m----> \u001b[39m\u001b[32m1\u001b[39m \u001b[38;5;28mprint\u001b[39m(\u001b[43mmessage\u001b[49m)\n",
      "\u001b[31mNameError\u001b[39m: name 'message' is not defined"
     ]
    }
   ],
   "source": [
    "print(message)"
   ]
  },
  {
   "cell_type": "markdown",
   "id": "68893754-f7d5-4fb9-b8d7-2d787df905c6",
   "metadata": {},
   "source": [
    "Biến message chưa được tạo hoặc chưa gán giá trị trước khi gọi print nên Python báo lỗi NameError."
   ]
  },
  {
   "cell_type": "code",
   "execution_count": 14,
   "id": "6ac14544-4bea-481f-b085-b05374cec7b8",
   "metadata": {},
   "outputs": [
    {
     "name": "stdout",
     "output_type": "stream",
     "text": [
      "He has 0 followers.\n"
     ]
    }
   ],
   "source": [
    "message = \"He has \" + str(nb_followers) + \" followers.\"\n",
    "print(message)"
   ]
  },
  {
   "cell_type": "markdown",
   "id": "82662f80-5393-43c0-ac6b-358b76a33584",
   "metadata": {},
   "source": [
    "Chuyển giá trị số nb_followers sang chuỗi bằng str(), sau đó nối với các chuỗi còn lại để tạo câu hoàn chỉnh, rồi in kết quả câu đó ra màn hình."
   ]
  },
  {
   "cell_type": "markdown",
   "id": "cbf7353a-7fc9-47e3-ad4d-810bf5f187a4",
   "metadata": {},
   "source": [
    "##### 2.1.5 Exercise"
   ]
  },
  {
   "cell_type": "markdown",
   "id": "40348682-417f-4c13-9b4b-e298eebc79df",
   "metadata": {},
   "source": [
    "1. Create two variables named a and b so that they contain the following strings respectively: 23 to 0 and C'est la piquette, Jack!."
   ]
  },
  {
   "cell_type": "code",
   "execution_count": 2,
   "id": "b804db48-9112-4b9b-b81f-f46b72005087",
   "metadata": {},
   "outputs": [],
   "source": [
    "a = \"23 to 0\"\n",
    "b = \"C'est la piquette, Jack!\""
   ]
  },
  {
   "cell_type": "markdown",
   "id": "92c91e2a-1505-4252-8880-5b976a413a35",
   "metadata": {},
   "source": [
    "2. Display the number of characters from a, then b."
   ]
  },
  {
   "cell_type": "code",
   "execution_count": 18,
   "id": "14798afd-e78d-4cdd-975c-e767b980fdfc",
   "metadata": {},
   "outputs": [
    {
     "name": "stdout",
     "output_type": "stream",
     "text": [
      "7\n",
      "24\n"
     ]
    }
   ],
   "source": [
    "print(len(a))  \n",
    "print(len(b))"
   ]
  },
  {
   "cell_type": "markdown",
   "id": "14d73b9b-e2e4-45a4-8fc3-1d021250a5e5",
   "metadata": {},
   "source": [
    "3. Concatenate a and b in a single string, adding a comma as a separating character."
   ]
  },
  {
   "cell_type": "code",
   "execution_count": 19,
   "id": "652c5f34-a6e8-4ad1-883b-a05d74146118",
   "metadata": {},
   "outputs": [
    {
     "name": "stdout",
     "output_type": "stream",
     "text": [
      "23 to 0, C'est la piquette, Jack!\n"
     ]
    }
   ],
   "source": [
    "c = a + \", \" + b\n",
    "print(c)"
   ]
  },
  {
   "cell_type": "markdown",
   "id": "e55a2b33-8e40-4c47-b238-5ecad9729e94",
   "metadata": {},
   "source": [
    "4. Same question by choosing the separation line as the separator character."
   ]
  },
  {
   "cell_type": "code",
   "execution_count": 20,
   "id": "5bd2aab5-be87-4110-8b7d-575bb98a0e4d",
   "metadata": {},
   "outputs": [
    {
     "name": "stdout",
     "output_type": "stream",
     "text": [
      "23 to 0\n",
      "C'est la piquette, Jack!\n"
     ]
    }
   ],
   "source": [
    "c = a + \"\\n\" + b\n",
    "print(c)"
   ]
  },
  {
   "cell_type": "markdown",
   "id": "f88a7640-5390-43ff-8c5b-a615e807b50f",
   "metadata": {},
   "source": [
    "5. Using the appropriate method, capitalize a and b."
   ]
  },
  {
   "cell_type": "code",
   "execution_count": 21,
   "id": "813e9559-4fce-4ba6-bfb4-dc659ef47eb6",
   "metadata": {},
   "outputs": [
    {
     "name": "stdout",
     "output_type": "stream",
     "text": [
      "23 to 0\n",
      "C'est la piquette, jack!\n"
     ]
    }
   ],
   "source": [
    "print(a.capitalize())\n",
    "print(b.capitalize())"
   ]
  },
  {
   "cell_type": "markdown",
   "id": "733d6576-672c-4548-84e1-e6d1d0c4fa92",
   "metadata": {},
   "source": [
    "6. Using the appropriate method, lowercase a and b."
   ]
  },
  {
   "cell_type": "code",
   "execution_count": 22,
   "id": "fdcb4b88-fa63-4d34-8aec-900e6dd20ab0",
   "metadata": {},
   "outputs": [
    {
     "name": "stdout",
     "output_type": "stream",
     "text": [
      "23 to 0\n",
      "c'est la piquette, jack!\n"
     ]
    }
   ],
   "source": [
    "print(a.lower())\n",
    "print(b.lower())"
   ]
  },
  {
   "cell_type": "markdown",
   "id": "a44dcc0f-7a82-47cd-b983-6af376d06b2d",
   "metadata": {},
   "source": [
    "7. Extract the word la and Jack from the string b, using indexes."
   ]
  },
  {
   "cell_type": "code",
   "execution_count": 24,
   "id": "fcca72f1-4d2c-46bc-a0c0-4ecc7d1e27e1",
   "metadata": {},
   "outputs": [
    {
     "name": "stdout",
     "output_type": "stream",
     "text": [
      "la\n",
      "Jack!\n"
     ]
    }
   ],
   "source": [
    "word1 = b[6:8]   \n",
    "word2 = b[19:24]  \n",
    "print(word1)\n",
    "print(word2)"
   ]
  },
  {
   "cell_type": "markdown",
   "id": "a7033910-2eaa-4123-be5f-d62524386504",
   "metadata": {},
   "source": [
    "8. Look for the sub-chain piqu in b, then do the same with the sub-chain mauvais."
   ]
  },
  {
   "cell_type": "code",
   "execution_count": 25,
   "id": "af3f0c30-ef3f-463d-9935-a8717fcbe4f0",
   "metadata": {},
   "outputs": [
    {
     "name": "stdout",
     "output_type": "stream",
     "text": [
      "9\n",
      "-1\n"
     ]
    }
   ],
   "source": [
    "print(b.find(\"piqu\"))     \n",
    "print(b.find(\"mauvais\"))"
   ]
  },
  {
   "cell_type": "markdown",
   "id": "6fe06e2d-766f-4c26-92bb-6c94557c80a4",
   "metadata": {},
   "source": [
    "9. Return the position (index) of the first character a found in the string b, then try with the character w."
   ]
  },
  {
   "cell_type": "code",
   "execution_count": 3,
   "id": "cc419303-cc87-4a6d-a793-b9c96905930e",
   "metadata": {},
   "outputs": [
    {
     "name": "stdout",
     "output_type": "stream",
     "text": [
      "7\n",
      "-1\n"
     ]
    }
   ],
   "source": [
    "pos_a = b.find(\"a\")  \n",
    "pos_w = b.find(\"w\")  \n",
    "print(pos_a)  \n",
    "print(pos_w)  "
   ]
  },
  {
   "cell_type": "markdown",
   "id": "db790ab7-9b27-41d7-aa79-794f3f7cbe83",
   "metadata": {},
   "source": [
    "10. Replace the occurrences of the pattern a by the pattern Z in the substring b."
   ]
  },
  {
   "cell_type": "code",
   "execution_count": 4,
   "id": "82957604-1f95-4c77-a58f-8b55e033a434",
   "metadata": {},
   "outputs": [
    {
     "name": "stdout",
     "output_type": "stream",
     "text": [
      "C'est lZ piquette, JZck!\n"
     ]
    }
   ],
   "source": [
    "b_new = b.replace(\"a\", \"Z\")\n",
    "print(b_new)"
   ]
  },
  {
   "cell_type": "markdown",
   "id": "c2424fad-003a-4988-a78b-2e46cdcf6420",
   "metadata": {},
   "source": [
    "11. Separate the string b using the comma as a sub-chain separator."
   ]
  },
  {
   "cell_type": "code",
   "execution_count": 5,
   "id": "9a3aa760-2968-4328-8df4-bfd9d8795fea",
   "metadata": {},
   "outputs": [
    {
     "name": "stdout",
     "output_type": "stream",
     "text": [
      "[\"C'est la piquette\", ' Jack!']\n"
     ]
    }
   ],
   "source": [
    "parts = b.split(\",\")\n",
    "print(parts)"
   ]
  },
  {
   "cell_type": "markdown",
   "id": "537963f8-2f92-4e12-882f-d5c00f8d0c21",
   "metadata": {},
   "source": [
    "12. (Bonus) Remove all punctuation characters from string b, then use an appropriate method to remove white characters at the beginning and end of the string. (Use the ‘regex’ library)."
   ]
  },
  {
   "cell_type": "code",
   "execution_count": 6,
   "id": "c2fe4c55-0e38-4352-845d-5b50231c6987",
   "metadata": {},
   "outputs": [
    {
     "name": "stdout",
     "output_type": "stream",
     "text": [
      "Cest la piquette Jack\n"
     ]
    }
   ],
   "source": [
    "import re\n",
    "b = \"C'est la piquette, Jack!\"\n",
    "# Xóa dấu câu\n",
    "b_no_punct = re.sub(r\"[^\\w\\s]\", \"\", b)\n",
    "# Xóa khoảng trắng đầu/cuối\n",
    "b_clean = b_no_punct.strip()\n",
    "print(b_clean)"
   ]
  },
  {
   "cell_type": "markdown",
   "id": "442b4f7d-f789-4d63-9a56-20d6be551e1f",
   "metadata": {},
   "source": [
    "### 2.2 Numerical values"
   ]
  }
 ],
 "metadata": {
  "kernelspec": {
   "display_name": "Python 3 (ipykernel)",
   "language": "python",
   "name": "python3"
  },
  "language_info": {
   "codemirror_mode": {
    "name": "ipython",
    "version": 3
   },
   "file_extension": ".py",
   "mimetype": "text/x-python",
   "name": "python",
   "nbconvert_exporter": "python",
   "pygments_lexer": "ipython3",
   "version": "3.12.1"
  }
 },
 "nbformat": 4,
 "nbformat_minor": 5
}
