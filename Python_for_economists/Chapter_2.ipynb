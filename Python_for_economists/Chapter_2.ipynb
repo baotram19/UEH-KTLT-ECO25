{
 "cells": [
  {
   "cell_type": "markdown",
   "id": "aca96756-9d16-4dc5-949f-28447694d412",
   "metadata": {},
   "source": [
    "# Chapter 2"
   ]
  },
  {
   "cell_type": "code",
   "execution_count": 1,
   "id": "26a83def-2ae0-40d4-bdbd-92c0e7d137d5",
   "metadata": {},
   "outputs": [],
   "source": [
    "x = \"Hello World\""
   ]
  },
  {
   "cell_type": "code",
   "execution_count": 2,
   "id": "3900a581-0100-44e0-98e3-0720b5c4dea3",
   "metadata": {},
   "outputs": [
    {
     "name": "stdout",
     "output_type": "stream",
     "text": [
      "Hello World\n"
     ]
    }
   ],
   "source": [
    "print(x)"
   ]
  },
  {
   "cell_type": "markdown",
   "id": "c6d4e142-6601-4f90-b377-fb484511c8d7",
   "metadata": {},
   "source": [
    "Nhập dữ liệu x là \"Hello World\" và in dữ liệu x với kết quả trả về là Hello World."
   ]
  },
  {
   "cell_type": "code",
   "execution_count": 3,
   "id": "1425b869-8b04-4354-a0e8-aa4dbe9b9f53",
   "metadata": {},
   "outputs": [
    {
     "name": "stdout",
     "output_type": "stream",
     "text": [
      "How are you?\n"
     ]
    }
   ],
   "source": [
    "y = 'How are you?'\n",
    "print(y)"
   ]
  },
  {
   "cell_type": "markdown",
   "id": "2d6e5841-524a-4b78-b12f-45c0df02a7cb",
   "metadata": {},
   "source": [
    "Sử dụng dấu nháy đơn 'How are you?' để tạo một chuỗi và gán chuỗi đó vào biến y với kết quả trả về là How are you?"
   ]
  },
  {
   "cell_type": "code",
   "execution_count": 4,
   "id": "f9c6602e-5cdd-4f96-9555-a151ea0f109e",
   "metadata": {},
   "outputs": [
    {
     "name": "stdout",
     "output_type": "stream",
     "text": [
      "I'm fine\n"
     ]
    }
   ],
   "source": [
    "z = 'I\\'m fine'\n",
    "print(z)"
   ]
  },
  {
   "cell_type": "markdown",
   "id": "5f5b426b-812b-4fa9-a136-5251105c6cab",
   "metadata": {},
   "source": [
    "Khi sử dụng dấu nháy đơn '...' để tạo chuỗi, nếu bên trong chuỗi cũng có dấu nháy đơn ví dụ như 'I'm, thì phải dùng ký tự thoát \\ để tránh lỗi cú pháp. Cuối cùng trả về kết quả biến y là I'm fine."
   ]
  },
  {
   "cell_type": "code",
   "execution_count": 1,
   "id": "fee083ef-d572-4215-82bf-e497283c8b9c",
   "metadata": {},
   "outputs": [
    {
     "name": "stdout",
     "output_type": "stream",
     "text": [
      "I'm \"fine\"\n"
     ]
    }
   ],
   "source": [
    "z = \"I'm \\\"fine\\\"\"\n",
    "print(z)"
   ]
  },
  {
   "cell_type": "markdown",
   "id": "659d508b-d25a-4563-8709-830d4b97e360",
   "metadata": {},
   "source": [
    "Khi chuỗi được tạo bằng dấu nháy kép \"...\", có thể dùng dấu nháy đơn ' bên trong mà không cần escape. Tuy nhiên, nếu muốn chèn dấu nháy kép bên trong chuỗi, ta cần dùng ký tự thoát \\\"."
   ]
  },
  {
   "cell_type": "code",
   "execution_count": 2,
   "id": "67d518ed-dca0-4a07-9d93-28721b691e30",
   "metadata": {},
   "outputs": [
    {
     "name": "stdout",
     "output_type": "stream",
     "text": [
      "Hello, \n",
      "World\n"
     ]
    }
   ],
   "source": [
    "x = \"Hello, \\nWorld\"\n",
    "print(x)"
   ]
  },
  {
   "cell_type": "markdown",
   "id": "e5537082-a3a3-4837-bbba-51b69bc94342",
   "metadata": {},
   "source": [
    "Ký tự \\n được dùng để tạo dòng mới trong chuỗi. Khi in ra bằng print(), nội dung sau ký tự \\n sẽ được hiển thị trên dòng tiếp theo."
   ]
  },
  {
   "cell_type": "code",
   "execution_count": 3,
   "id": "7ac09fcf-d1b6-4db0-9fd6-4569ba384a8e",
   "metadata": {},
   "outputs": [
    {
     "name": "stdout",
     "output_type": "stream",
     "text": [
      "Hello,\n",
      "World\n"
     ]
    }
   ],
   "source": [
    "x = \"\"\"Hello,\n",
    "World\"\"\"\n",
    "print(x)"
   ]
  },
  {
   "cell_type": "markdown",
   "id": "6fb09e99-076a-4c3b-912b-15eb33bb7cbc",
   "metadata": {},
   "source": [
    "Ba dấu nháy kép \"\"\" ... \"\"\" cho phép tạo chuỗi nhiều dòng nên khi xuống dòng trong cùng nội dung chuỗi sẽ được giữ nguyên khi in ra."
   ]
  },
  {
   "cell_type": "code",
   "execution_count": 4,
   "id": "cbf68726-f9c6-4659-932b-3831836e9600",
   "metadata": {},
   "outputs": [
    {
     "name": "stdout",
     "output_type": "stream",
     "text": [
      "13\n"
     ]
    }
   ],
   "source": [
    "x = \"Hello World !\"\n",
    "print(len(x))"
   ]
  },
  {
   "cell_type": "markdown",
   "id": "5f498bf0-07ba-4fe5-aba3-7ce87579c641",
   "metadata": {},
   "source": [
    "Hàm len() được dùng để đếm số ký tự trong chuỗi, bao gồm cả khoảng trắng và dấu câu nên kết quả print trả về là 13."
   ]
  },
  {
   "cell_type": "code",
   "execution_count": 5,
   "id": "23e571ce-372f-4ab0-8d55-46b86200613c",
   "metadata": {},
   "outputs": [
    {
     "name": "stdout",
     "output_type": "stream",
     "text": [
      "Hello World ! 13\n"
     ]
    }
   ],
   "source": [
    "print(x, len(x))"
   ]
  },
  {
   "cell_type": "markdown",
   "id": "91995518-72fb-4c2b-b713-31c101bacd90",
   "metadata": {},
   "source": [
    "Lệnh print(x, len(x)) in ra cả nội dung chuỗi x và số ký tự trong chuỗi đó, kết quả trả về là Hello World ! 13 cách nhau bằng một khoảng trắng."
   ]
  },
  {
   "cell_type": "code",
   "execution_count": 6,
   "id": "52ecfc72-cad3-4ea7-94f8-da51de1dab51",
   "metadata": {},
   "outputs": [
    {
     "name": "stdout",
     "output_type": "stream",
     "text": [
      "Hello World\n"
     ]
    }
   ],
   "source": [
    "print(\"Hello\" + \" World\")"
   ]
  },
  {
   "cell_type": "markdown",
   "id": "3594b476-a3c9-4b6a-816a-46613daf7eb2",
   "metadata": {},
   "source": [
    "Phép cộng (+) dùng để nối hai chuỗi lại với nhau thành một chuỗi mới. "
   ]
  },
  {
   "cell_type": "code",
   "execution_count": 7,
   "id": "c2c66c5f-69e4-4900-9788-a3d7863adf1b",
   "metadata": {},
   "outputs": [
    {
     "name": "stdout",
     "output_type": "stream",
     "text": [
      "Go Habs Go! Go Habs Go! Go Habs Go! Woo Hoo!\n"
     ]
    }
   ],
   "source": [
    "print( 3 * \"Go Habs Go! \" + \"Woo Hoo!\")"
   ]
  },
  {
   "cell_type": "markdown",
   "id": "e90e801e-0105-4c00-af2c-5d4403aef662",
   "metadata": {},
   "source": [
    "Phép toán * khi áp dụng với chuỗi và số nguyên sẽ tạo ra chuỗi lặp lại số lần tương ứng."
   ]
  },
  {
   "cell_type": "code",
   "execution_count": 8,
   "id": "eee66f64-118f-45b3-8b26-c53fe22dcd27",
   "metadata": {},
   "outputs": [
    {
     "name": "stdout",
     "output_type": "stream",
     "text": [
      "You shall not pass!\n"
     ]
    }
   ],
   "source": [
    "x = ('You shall ' 'not ' \"pass!\")\n",
    "print(x)"
   ]
  },
  {
   "cell_type": "markdown",
   "id": "9655f873-bea3-42f8-bad4-58a1a22fe28b",
   "metadata": {},
   "source": [
    "Khi đặt nhiều chuỗi liên tiếp liền nhau trong ngoặc đơn, Python sẽ tự động nối chúng thành một chuỗi duy nhất mà không cần dùng đến phép toán +."
   ]
  },
  {
   "cell_type": "code",
   "execution_count": 9,
   "id": "9621198e-0520-4f0c-9a3b-f2bcfac5bb5e",
   "metadata": {},
   "outputs": [
    {
     "name": "stdout",
     "output_type": "stream",
     "text": [
      "I like to code in R\n"
     ]
    }
   ],
   "source": [
    "x = \"I like to code in {}\"\n",
    "langage_1 = \"R\"\n",
    "langage_2 = \"Python\"\n",
    "preference_1 = x.format(langage_1)\n",
    "print(preference_1)"
   ]
  },
  {
   "cell_type": "markdown",
   "id": "84c3c469-9b45-4906-a7ec-36aaf5e4bd41",
   "metadata": {},
   "source": [
    "Chuỗi chứa một dấu ngoặc nhọn {} là vị trí chứa chỗ trống để chèn giá trị. Khai báo 2 biến chuỗi với language_1 là R và langugage_ 2 là Python. Gọi lệnh .format() trên chuỗi x với giá trị của langage_1 là R sẽ được chèn vào vị trí {} trong chuỗi x. Kết quả in ra màn hình sẽ là I like to code in R."
   ]
  },
  {
   "cell_type": "code",
   "execution_count": 2,
   "id": "e4f75dda-1db0-4b4e-8f21-68089f5c98dd",
   "metadata": {},
   "outputs": [
    {
     "name": "stdout",
     "output_type": "stream",
     "text": [
      "I like to code in Python\n"
     ]
    }
   ],
   "source": [
    "x = \"I like to code in {}\"\n",
    "langage_1 = \"R\"\n",
    "langage_2 = \"Python\"\n",
    "preference_2 = x.format(langage_2)\n",
    "print(preference_2)"
   ]
  },
  {
   "cell_type": "markdown",
   "id": "7c0ee39d-0d1e-4f80-92e2-edf6948b2c04",
   "metadata": {},
   "source": [
    "Chuỗi chứa một dấu ngoặc nhọn {} là vị trí chứa chỗ trống để chèn giá trị. Khai báo 2 biến chuỗi với language_1 là R và langugage_ 2 là Python. Gọi lệnh .format() trên chuỗi x với giá trị của langage_2 là Python sẽ được chèn vào vị trí {} trong chuỗi x. Kết quả in ra màn hình sẽ là I like to code in Python."
   ]
  },
  {
   "cell_type": "code",
   "execution_count": 3,
   "id": "50dce126-77ac-4f69-823c-9f02882c8ed5",
   "metadata": {},
   "outputs": [
    {
     "name": "stdout",
     "output_type": "stream",
     "text": [
      "I like to code in R and in Python\n"
     ]
    }
   ],
   "source": [
    "x = \"I like to code in {} and in {}\"\n",
    "preference_3 = x.format(langage_1, langage_2)\n",
    "print(preference_3)"
   ]
  },
  {
   "cell_type": "markdown",
   "id": "dfbc925c-b99b-415e-9552-c3127d3c5860",
   "metadata": {},
   "source": [
    "Khi một chuỗi chứa nhiều dấu {}, ta có thể chèn nhiều giá trị tương ứng bằng cách truyền các biến vào format() theo đúng thứ tự. Kết quả in ra màn hình sẽ đúng theo giá trị tương ứng."
   ]
  },
  {
   "cell_type": "code",
   "execution_count": 4,
   "id": "abadbdea-a7ae-487a-b28a-ffd23800756d",
   "metadata": {},
   "outputs": [
    {
     "ename": "NameError",
     "evalue": "name 'i' is not defined",
     "output_type": "error",
     "traceback": [
      "\u001b[31m---------------------------------------------------------------------------\u001b[39m",
      "\u001b[31mNameError\u001b[39m                                 Traceback (most recent call last)",
      "\u001b[36mCell\u001b[39m\u001b[36m \u001b[39m\u001b[32mIn[4]\u001b[39m\u001b[32m, line 1\u001b[39m\n\u001b[32m----> \u001b[39m\u001b[32m1\u001b[39m x[\u001b[43mi\u001b[49m-\u001b[32m1\u001b[39m]\n",
      "\u001b[31mNameError\u001b[39m: name 'i' is not defined"
     ]
    }
   ],
   "source": [
    "x[i-1]"
   ]
  },
  {
   "cell_type": "markdown",
   "id": "128db103-e49d-4603-b1b9-5c8805a98218",
   "metadata": {},
   "source": [
    "Chuỗi trong Python có thể được truy cập từng ký tự bằng chỉ số. Ký tự đầu tiên có chỉ số là 0, ký tự thứ i có chỉ số là i-1. Dùng cú pháp x[i-1] để lấy ký tự đó nhưng hiện thông báo lỗi NamError nên phải khai báo biến i trước khi sử dụng trong biểu thức x[i-1]."
   ]
  },
  {
   "cell_type": "code",
   "execution_count": 5,
   "id": "f5aa8627-a985-44bf-b905-d6d4e2023ba0",
   "metadata": {},
   "outputs": [
    {
     "name": "stdout",
     "output_type": "stream",
     "text": [
      "H\n"
     ]
    }
   ],
   "source": [
    "x = \"Hello\"\n",
    "print(x[0])"
   ]
  },
  {
   "cell_type": "markdown",
   "id": "cd6427e5-ca34-41aa-84c7-f5c4c8930b78",
   "metadata": {},
   "source": [
    "Đây là cú pháp truy cập ký tự tại vị trí thứ 0 trong chuỗi x và trong Python, chỉ số bắt đầu từ 0, nên print(x[0]) thì ký tự đầu tiên của chuỗi \"Hello\" sẽ trả về kết quả in ra màn hình là H.\n",
    "\n"
   ]
  },
  {
   "cell_type": "code",
   "execution_count": 7,
   "id": "b157a552-81c1-4d56-af82-cc64e959b603",
   "metadata": {},
   "outputs": [
    {
     "name": "stdout",
     "output_type": "stream",
     "text": [
      "o\n"
     ]
    }
   ],
   "source": [
    "print(x[4])"
   ]
  },
  {
   "cell_type": "markdown",
   "id": "60a3f285-7062-48b0-a7cb-39d0774e252e",
   "metadata": {},
   "source": [
    "Tương tự, ký tự thứ 4 của chuỗi \"Hello\" sẽ trả về kết quả in ra màn hình là o."
   ]
  },
  {
   "cell_type": "code",
   "execution_count": 8,
   "id": "8dd4b600-73f6-4565-a5dc-066cfdda4248",
   "metadata": {},
   "outputs": [
    {
     "name": "stdout",
     "output_type": "stream",
     "text": [
      "l\n"
     ]
    }
   ],
   "source": [
    "print(x[-2])"
   ]
  },
  {
   "cell_type": "markdown",
   "id": "3b9129f3-c61d-441d-965f-31b32a94221e",
   "metadata": {},
   "source": [
    "Chỉ số ký tự âm sẽ được đánh từ bên phải sang trái, bắt đầu từ -1, nên ký tự -2 sẽ in ra là "
   ]
  },
  {
   "cell_type": "code",
   "execution_count": 1,
   "id": "5ea7fd2b-ebc8-422a-9a4e-12839b10ff04",
   "metadata": {},
   "outputs": [
    {
     "name": "stdout",
     "output_type": "stream",
     "text": [
      "shall\n"
     ]
    }
   ],
   "source": [
    "x = \"You shall not pass!\"\n",
    "# From the fourth character (not included) to the ninth (included)\n",
    "print(x[4:9])"
   ]
  },
  {
   "cell_type": "markdown",
   "id": "48196092-c913-4617-8c4b-4ba8b94da39d",
   "metadata": {},
   "source": [
    "Chuỗi x có nội dung là: \"You shall not pass!\" và lệnh print(x[4:9]) sẽ lấy các ký tự từ vị trí 4 đến trước vị trí 9 (không bao gồm vị trí 9) nên kết quả trả về là shall."
   ]
  },
  {
   "cell_type": "code",
   "execution_count": 2,
   "id": "4b96f0b4-eb2f-4511-a516-21153da3e228",
   "metadata": {},
   "outputs": [
    {
     "name": "stdout",
     "output_type": "stream",
     "text": [
      "shall not pass!\n",
      "You shall not pass\n",
      "pass!\n"
     ]
    }
   ],
   "source": [
    "# From the 4th character (non included) to the end of the string\n",
    "print(x[4:])\n",
    "# From the beginning of the string to the penultimate (included)\n",
    "print(x[:-1])\n",
    "# From the 3rd character before the end (included) to the end\n",
    "print(x[-5:])"
   ]
  },
  {
   "cell_type": "markdown",
   "id": "6a2dd6ef-c659-4c64-ad37-3dba878b9c61",
   "metadata": {},
   "source": [
    "Lệnh print(x[4:]) sẽ lấy ký tự từ chỉ số 4 đến hết chuỗi, lệnh print(x[:-1]) lấy từ đầu chuỗi đến trước ký tự cuối cùng - tức là bỏ ký tự cuối. Cuối cùng, lệnh print(x[-5:]) lấy chuỗi bắt đầu theo thứ tự chỉ số âm từ thứ 5 từ cuối đến hết."
   ]
  },
  {
   "cell_type": "code",
   "execution_count": 3,
   "id": "48198802-486c-4e5e-85e6-95bceadf3beb",
   "metadata": {},
   "outputs": [
    {
     "name": "stdout",
     "output_type": "stream",
     "text": [
      "sln s\n"
     ]
    }
   ],
   "source": [
    "# From the 4th character (not included),\n",
    "# to the end of the string, in steps of 3\n",
    "print(x[4::3])"
   ]
  },
  {
   "cell_type": "markdown",
   "id": "1184c9fe-f63d-42fe-ba52-4aa5ba6b2de4",
   "metadata": {},
   "source": [
    "Lệnh print(x[4::3]) sẽ in ra các ký tự bắt đầu từ vị trí thứ 4 của chuỗi (ký tự \"s\") và lấy tiếp mỗi 3 ký tự một lần, cho đến khi hết chuỗi. Kết quả trả về sẽ là sln s.\n"
   ]
  },
  {
   "cell_type": "code",
   "execution_count": 2,
   "id": "16bceed1-b330-43bf-b0fe-84fbb767544c",
   "metadata": {},
   "outputs": [
    {
     "name": "stdout",
     "output_type": "stream",
     "text": [
      "!ssap ton llahs uoY\n"
     ]
    }
   ],
   "source": [
    "x = \"You shall not pass!\"\n",
    "print(x[::-1])"
   ]
  },
  {
   "cell_type": "markdown",
   "id": "d4fd7097-15c7-47a4-a71a-e9c8c858d537",
   "metadata": {},
   "source": [
    "Lệnh print(x[::-1]) sẽ in ra chuỗi x theo thứ tự ngược lại."
   ]
  },
  {
   "cell_type": "code",
   "execution_count": 3,
   "id": "c72aa536-edac-4af3-8706-9978b7bd128a",
   "metadata": {},
   "outputs": [
    {
     "name": "stdout",
     "output_type": "stream",
     "text": [
      "3\n"
     ]
    }
   ],
   "source": [
    "x = \"le train de tes injures roule sur le rail de mon indifférence\"\n",
    "print(x.count(\"in\"))"
   ]
  },
  {
   "cell_type": "markdown",
   "id": "dbe4b3b8-cad7-4fa8-bf92-28cb12167f05",
   "metadata": {},
   "source": [
    "Lệnh print(x.count(\"in\")) sẽ đếm số lần chuỗi con \"in\" xuất hiện trong chuỗi x và in kết quả ra màn hình."
   ]
  },
  {
   "cell_type": "code",
   "execution_count": 4,
   "id": "40ee0db5-0a9b-4b02-8339-cb4b4bded020",
   "metadata": {},
   "outputs": [
    {
     "name": "stdout",
     "output_type": "stream",
     "text": [
      "le train de tes injures roule sur le rail de mon indifférence\n",
      "LE TRAIN DE TES INJURES ROULE SUR LE RAIL DE MON INDIFFÉRENCE\n"
     ]
    }
   ],
   "source": [
    "x = \"le train de tes injures roule sur le rail de mon indifférence\"\n",
    "print(x.lower())\n",
    "print(x.upper())"
   ]
  },
  {
   "cell_type": "markdown",
   "id": "c8dac5a7-2bdc-4c0b-8c78-c7d6c01d82e4",
   "metadata": {},
   "source": [
    "x.lower() → Trả về bản sao của chuỗi x với toàn bộ ký tự chuyển thành chữ thường.\n",
    "\n",
    "x.upper() → Trả về bản sao của chuỗi x với toàn bộ ký tự chuyển thành chữ in hoa."
   ]
  },
  {
   "cell_type": "code",
   "execution_count": 3,
   "id": "9666b54d-265c-44a3-a267-8db0b677d33d",
   "metadata": {},
   "outputs": [
    {
     "name": "stdout",
     "output_type": "stream",
     "text": [
      "6\n",
      "-1\n"
     ]
    }
   ],
   "source": [
    "print(x.find(\"in\"))\n",
    "print(x.find(\"hello\"))"
   ]
  },
  {
   "cell_type": "markdown",
   "id": "34e1c695-edf1-478b-aa06-ba19a076facf",
   "metadata": {},
   "source": [
    "Lệnh x.find(\"in\") sẽ tìm vị trí (chỉ số nhỏ nhất) của chuỗi con \"in\" trong x. nếu tìm thấy, trả về chỉ số đó.\n",
    "\n",
    "x.find(\"hello\") → Tìm vị trí của chuỗi con \"hello\" trong x. Nếu không tìm thấy, trả về -1."
   ]
  }
 ],
 "metadata": {
  "kernelspec": {
   "display_name": "Python 3 (ipykernel)",
   "language": "python",
   "name": "python3"
  },
  "language_info": {
   "codemirror_mode": {
    "name": "ipython",
    "version": 3
   },
   "file_extension": ".py",
   "mimetype": "text/x-python",
   "name": "python",
   "nbconvert_exporter": "python",
   "pygments_lexer": "ipython3",
   "version": "3.12.1"
  }
 },
 "nbformat": 4,
 "nbformat_minor": 5
}
