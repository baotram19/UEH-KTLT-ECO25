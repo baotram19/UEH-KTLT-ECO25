{
 "cells": [
  {
   "cell_type": "markdown",
   "id": "0082f98d-b434-4ff3-b2d8-226ae327a39e",
   "metadata": {},
   "source": [
    "# Chapter 10"
   ]
  },
  {
   "cell_type": "markdown",
   "id": "cbdfba90-d0e1-4b81-a0fa-13bdd2963986",
   "metadata": {},
   "source": [
    "# Data manipulation with pandas"
   ]
  },
  {
   "cell_type": "code",
   "execution_count": 4,
   "id": "dcffe931-de47-4947-a2dd-f0f3da67764b",
   "metadata": {},
   "outputs": [],
   "source": [
    "import pandas as pd\n",
    "import numpy as np"
   ]
  },
  {
   "cell_type": "markdown",
   "id": "55a7c597-1db2-40cc-bc08-48d0d024905e",
   "metadata": {},
   "source": [
    "### 10.1 Structures"
   ]
  },
  {
   "cell_type": "markdown",
   "id": "9efc6af1-f7e3-4258-b9cc-c228125c44df",
   "metadata": {},
   "source": [
    "#### 10.1.1 Series"
   ]
  },
  {
   "cell_type": "markdown",
   "id": "f2d326c0-9dc5-4066-83f6-87034dd293a9",
   "metadata": {},
   "source": [
    "##### 10.1.1.1 Creating Series from a List"
   ]
  },
  {
   "cell_type": "code",
   "execution_count": 3,
   "id": "b5e66f6f-00b8-4230-9485-ca7f4f974f50",
   "metadata": {},
   "outputs": [
    {
     "name": "stdout",
     "output_type": "stream",
     "text": [
      "0    1.0\n",
      "1    4.0\n",
      "2   -1.0\n",
      "3    NaN\n",
      "4    0.5\n",
      "5    1.0\n",
      "dtype: float64\n"
     ]
    }
   ],
   "source": [
    "s = pd.Series([1, 4, -1, np.nan, .5, 1]) \n",
    "print(s)"
   ]
  },
  {
   "cell_type": "markdown",
   "id": "3a825985-5f35-42ec-a6b9-06274b441c79",
   "metadata": {},
   "source": [
    "Tạo một pandas Series, là một cột dữ liệu 1 chiều, có chỉ số (index) tự động từ 0. \"np.nan\" đại diện cho giá trị thiếu (missing value) và in ra Series, hiển thị chỉ số (index) và giá trị."
   ]
  },
  {
   "cell_type": "code",
   "execution_count": 4,
   "id": "019d9da6-7eb0-41ee-8980-9f2b0f52058a",
   "metadata": {},
   "outputs": [
    {
     "name": "stdout",
     "output_type": "stream",
     "text": [
      "values of s:  [ 1.   4.  -1.   nan  0.5  1. ]\n"
     ]
    }
   ],
   "source": [
    "print(\"values of s: \", s.values)"
   ]
  },
  {
   "cell_type": "markdown",
   "id": "7ae39407-38be-4aa8-aa56-4967031f80a7",
   "metadata": {},
   "source": [
    "Truy xuất tất cả giá trị trong pandas Series s dưới dạng mảng NumPy (numpy.ndarray) và in ra các giá trị không bao gồm chỉ số (index), chỉ lấy dữ liệu bên trong Series."
   ]
  },
  {
   "cell_type": "code",
   "execution_count": 5,
   "id": "8a3e9696-6d1d-46cf-b36e-8d026c162601",
   "metadata": {},
   "outputs": [
    {
     "name": "stdout",
     "output_type": "stream",
     "text": [
      "type of values of s:  <class 'numpy.ndarray'>\n"
     ]
    }
   ],
   "source": [
    "print(\"type of values of s: \", type(s.values))"
   ]
  },
  {
   "cell_type": "markdown",
   "id": "9431fec0-5c9c-47a1-8b46-950b254954ee",
   "metadata": {},
   "source": [
    "Trả về mảng NumPy chứa tất cả giá trị của Series s, type(s.values) sẽ kiểm tra kiểu dữ liệu của đối tượng này và in ra kiểu dữ liệu của giá trị bên trong Series."
   ]
  },
  {
   "cell_type": "code",
   "execution_count": 6,
   "id": "1f23698b-9cba-4385-a020-f4da8d4b641a",
   "metadata": {},
   "outputs": [
    {
     "name": "stdout",
     "output_type": "stream",
     "text": [
      "index of s:  RangeIndex(start=0, stop=6, step=1)\n"
     ]
    }
   ],
   "source": [
    "print(\"index of s: \", s.index)"
   ]
  },
  {
   "cell_type": "markdown",
   "id": "38e33090-3194-4590-8cc3-6b0bbfb57132",
   "metadata": {},
   "source": [
    "Truy xuất chỉ số (index) của Series s. Chỉ số này dùng để định vị từng giá trị trong Series, tương tự như số thứ tự của phần tử và in ra thông tin về chỉ số của Series."
   ]
  },
  {
   "cell_type": "code",
   "execution_count": 7,
   "id": "45f63e55-1795-4c9c-aad7-fab90f334708",
   "metadata": {},
   "outputs": [
    {
     "name": "stdout",
     "output_type": "stream",
     "text": [
      "type of the index of s:  <class 'pandas.core.indexes.range.RangeIndex'>\n"
     ]
    }
   ],
   "source": [
    "print(\"type of the index of s: \", type(s.index))"
   ]
  },
  {
   "cell_type": "markdown",
   "id": "5a9faa88-2dd5-4c21-ab37-35e2bce0483a",
   "metadata": {},
   "source": [
    "Trả về đối tượng chỉ số (Index) của Series s. type(s.index) sẽ kiểm tra kiểu dữ liệu của đối tượng này và in ra kiểu dữ liệu của chỉ số."
   ]
  },
  {
   "cell_type": "code",
   "execution_count": 8,
   "id": "d22269fb-841c-4da2-be8e-0e906e3f2430",
   "metadata": {},
   "outputs": [
    {
     "name": "stdout",
     "output_type": "stream",
     "text": [
      "name of the Serie: name_index , name of the index: None\n"
     ]
    }
   ],
   "source": [
    "s.name = \"my_serie\"\n",
    "s.name = \"name_index\"\n",
    "print(\"name of the Serie: {} , name of the index: {}\".format(s.name, s.index.name))"
   ]
  },
  {
   "cell_type": "markdown",
   "id": "7ac2791c-0b7a-498f-ab50-b64aaace9db5",
   "metadata": {},
   "source": [
    "Series trong pandas có thể có tên riêng và chỉ số cũng có tên riêng, giúp mô tả dữ liệu rõ ràng hơn khi in hoặc phân tích."
   ]
  },
  {
   "cell_type": "code",
   "execution_count": 9,
   "id": "a51741df-3304-46bc-b40c-8be437870e3b",
   "metadata": {},
   "outputs": [
    {
     "name": "stdout",
     "output_type": "stream",
     "text": [
      "Serie s: \n",
      " 0    1.0\n",
      "1    4.0\n",
      "2   -1.0\n",
      "3    NaN\n",
      "4    0.5\n",
      "5    1.0\n",
      "Name: name_index, dtype: float64\n"
     ]
    }
   ],
   "source": [
    "print(\"Serie s: \\n\", s)"
   ]
  },
  {
   "cell_type": "markdown",
   "id": "4351ccfa-f1f5-4d02-9a1c-e5e206d2826e",
   "metadata": {},
   "source": [
    "s là pandas Series đã được tạo trước đó, chứa cả giá trị và chỉ số và in ra toàn bộ Series, bao gồm chỉ số (index), giá trị (values), tên Series (nếu có)."
   ]
  },
  {
   "cell_type": "markdown",
   "id": "1ac9a8bd-aa56-44ad-ab87-cc746a1925c0",
   "metadata": {},
   "source": [
    "##### 10.1.1.2 Definition of the Index"
   ]
  },
  {
   "cell_type": "code",
   "execution_count": 11,
   "id": "0fd099c4-c21f-45f7-a16c-485bdc2baf9d",
   "metadata": {},
   "outputs": [
    {
     "name": "stdout",
     "output_type": "stream",
     "text": [
      "o    1.0\n",
      "d    4.0\n",
      "i   -1.0\n",
      "l    NaN\n",
      "dtype: float64\n"
     ]
    }
   ],
   "source": [
    "s = pd.Series([1, 4, -1, np.nan],\n",
    "              index = [\"o\", \"d\", \"i\", \"l\"])\n",
    "print(s)"
   ]
  },
  {
   "cell_type": "markdown",
   "id": "41bb98ce-0a49-4d7f-8b61-34c5a3a99fec",
   "metadata": {},
   "source": [
    "Pandas Series cho phép chỉ định index tùy ý, không nhất thiết phải là số thứ tự."
   ]
  },
  {
   "cell_type": "code",
   "execution_count": 13,
   "id": "943c9637-723b-401b-a06e-d89d8e771f31",
   "metadata": {},
   "outputs": [
    {
     "name": "stdout",
     "output_type": "stream",
     "text": [
      "4     1.0\n",
      "40    4.0\n",
      "2    -1.0\n",
      "3     NaN\n",
      "dtype: float64\n"
     ]
    }
   ],
   "source": [
    "s = pd.Series([1, 4, -1, np.nan], \n",
    "              index = [4, 40, 2, 3])\n",
    "print(s)"
   ]
  },
  {
   "cell_type": "markdown",
   "id": "3a1d3d0e-770f-401b-bea0-ce3a5aa3d0d9",
   "metadata": {},
   "source": [
    "Index của Series không cần theo thứ tự liên tiếp, có thể là bất kỳ số nguyên hoặc nhãn nào."
   ]
  },
  {
   "cell_type": "code",
   "execution_count": 14,
   "id": "e4511a3a-fba4-4fce-9aa8-0df50a9664c9",
   "metadata": {},
   "outputs": [
    {
     "name": "stdout",
     "output_type": "stream",
     "text": [
      "Série s : \n",
      " o    1.0\n",
      "d    4.0\n",
      "i   -1.0\n",
      "l    NaN\n",
      "dtype: float64\n"
     ]
    }
   ],
   "source": [
    "s.index = [\"o\", \"d\", \"i\", \"l\"] \n",
    "print(\"Série s : \\n\", s)"
   ]
  },
  {
   "cell_type": "markdown",
   "id": "d0d13562-7eb3-4734-89f8-5f6b29cf3612",
   "metadata": {},
   "source": [
    "Pandas Series cho phép thay đổi index sau khi tạo."
   ]
  },
  {
   "cell_type": "markdown",
   "id": "a24f376a-a879-4bb7-a9e3-0f7956b344e9",
   "metadata": {},
   "source": [
    "##### 10.1.1.3 Creation of Special Series"
   ]
  },
  {
   "cell_type": "code",
   "execution_count": 15,
   "id": "8469c742-6ade-49e9-babe-ec84da1f1a85",
   "metadata": {},
   "outputs": [
    {
     "name": "stdout",
     "output_type": "stream",
     "text": [
      "0    5\n",
      "1    5\n",
      "2    5\n",
      "3    5\n",
      "dtype: int64\n"
     ]
    }
   ],
   "source": [
    "s = pd.Series(5, index = [np.arange(4)]) \n",
    "print(s)"
   ]
  },
  {
   "cell_type": "markdown",
   "id": "486f5df0-c5d7-4247-afc2-fda2694a3792",
   "metadata": {},
   "source": [
    "index=[np.arange(4)] sẽ gán index cho Series, nhưng do đặt trong list, nên Python coi cả mảng là 1 giá trị duy nhất của index. pd.Series(5, index=[...]) nhằm tạo Series với giá trị 5 lặp cho tất cả index."
   ]
  },
  {
   "cell_type": "code",
   "execution_count": 18,
   "id": "e729ec90-1edb-4072-a8b0-86b2e351765f",
   "metadata": {},
   "outputs": [
    {
     "name": "stdout",
     "output_type": "stream",
     "text": [
      "King                    Arthur\n",
      "Knight_Round_Table    Percival\n",
      "Druid                   Merlin\n",
      "dtype: object\n"
     ]
    }
   ],
   "source": [
    "dictionary = {\"King\": \"Arthur\", \n",
    "              \"Knight_Round_Table\": \"Percival\",\n",
    "              \"Druid\": \"Merlin\"} \n",
    "s = pd.Series(dictionary)\n",
    "print(s)"
   ]
  },
  {
   "cell_type": "markdown",
   "id": "ab1a6d27-d57a-4bd9-9e25-8fd99c4adfb9",
   "metadata": {},
   "source": [
    "Pandas Series có thể tạo trực tiếp từ dictionary, tự động gán key làm index và value làm giá trị."
   ]
  },
  {
   "cell_type": "code",
   "execution_count": 20,
   "id": "57e44243-4de8-407f-a935-6e3f2ea581e8",
   "metadata": {},
   "outputs": [
    {
     "name": "stdout",
     "output_type": "stream",
     "text": [
      "King     Arthur\n",
      "Druid    Merlin\n",
      "dtype: object\n"
     ]
    }
   ],
   "source": [
    "dictionary = {\"King\": \"Arthur\", \n",
    "              \"Knight_Round_Table\": \"Percival\",\n",
    "              \"Druid\": \"Merlin\"}\n",
    "s = pd.Series(dictionary, index = [\"King\", \"Druid\"])\n",
    "print(s)"
   ]
  },
  {
   "cell_type": "markdown",
   "id": "a61049d5-8f4f-4d1a-9650-93f16d1f2fa1",
   "metadata": {},
   "source": [
    "Pandas Series có thể tạo trực tiếp từ dictionary. Khi chỉ định index, Series sẽ chỉ giữ các key được liệt kê trong index. Key của dictionary trở thành index của Series, value trở thành giá trị, giúp lựa chọn và truy cập dữ liệu theo nhãn."
   ]
  },
  {
   "cell_type": "markdown",
   "id": "a0783b85-edf1-4d41-8d6f-3ae6805dcb1a",
   "metadata": {},
   "source": [
    "#### 10.1.2 Dataframes"
   ]
  },
  {
   "cell_type": "markdown",
   "id": "bb3d7735-b49b-4ef5-8da1-39c98f34585b",
   "metadata": {},
   "source": [
    "##### 10.1.2.1 Creating Dataframes from a Dictionary"
   ]
  },
  {
   "cell_type": "code",
   "execution_count": 22,
   "id": "9938e68b-79be-4dbe-98a4-20d98a60a477",
   "metadata": {},
   "outputs": [
    {
     "name": "stdout",
     "output_type": "stream",
     "text": [
      "    height  weight\n",
      "0       58     115\n",
      "1       59     117\n",
      "2       60     120\n",
      "3       61     123\n",
      "4       62     126\n",
      "5       63     129\n",
      "6       64     132\n",
      "7       65     135\n",
      "8       66     139\n",
      "9       67     142\n",
      "10      68     146\n",
      "11      69     150\n",
      "12      70     154\n",
      "13      71     159\n",
      "14      72     164\n"
     ]
    }
   ],
   "source": [
    "dict = {\"height\" :\n",
    "               [58, 59, 60, 61, 62,\n",
    "                63, 64, 65, 66, 67,\n",
    "                68, 69, 70, 71, 72],\n",
    "        \"weight\":\n",
    "               [115, 117, 120, 123, 126,\n",
    "                129, 132, 135, 139, 142,\n",
    "                146, 150, 154, 159, 164]\n",
    "}\n",
    "df = pd.DataFrame(dict)\n",
    "print(df)"
   ]
  },
  {
   "cell_type": "markdown",
   "id": "ee94c059-feb1-455a-8687-7ded0eb513db",
   "metadata": {},
   "source": [
    "Pandas DataFrame cho phép tạo bảng dữ liệu 2 chiều từ dictionary, với cột là key, hàng là giá trị."
   ]
  },
  {
   "cell_type": "code",
   "execution_count": 23,
   "id": "235df452-374b-4565-b973-a6993e2ce7de",
   "metadata": {},
   "outputs": [
    {
     "name": "stdout",
     "output_type": "stream",
     "text": [
      "Index(['height', 'weight'], dtype='object')\n"
     ]
    }
   ],
   "source": [
    "print(df.columns)"
   ]
  },
  {
   "cell_type": "markdown",
   "id": "9f3af8ad-4c0c-4539-8900-1c7548a61c1d",
   "metadata": {},
   "source": [
    "Giúp xem nhanh tên các cột trong DataFrame df và in ra danh sách các tên cột."
   ]
  },
  {
   "cell_type": "code",
   "execution_count": 24,
   "id": "f8cecfb6-fe44-4b2c-bf0d-205844089598",
   "metadata": {},
   "outputs": [
    {
     "data": {
      "text/html": [
       "<div>\n",
       "<style scoped>\n",
       "    .dataframe tbody tr th:only-of-type {\n",
       "        vertical-align: middle;\n",
       "    }\n",
       "\n",
       "    .dataframe tbody tr th {\n",
       "        vertical-align: top;\n",
       "    }\n",
       "\n",
       "    .dataframe thead th {\n",
       "        text-align: right;\n",
       "    }\n",
       "</style>\n",
       "<table border=\"1\" class=\"dataframe\">\n",
       "  <thead>\n",
       "    <tr style=\"text-align: right;\">\n",
       "      <th></th>\n",
       "      <th>height</th>\n",
       "      <th>weight</th>\n",
       "    </tr>\n",
       "  </thead>\n",
       "  <tbody>\n",
       "    <tr>\n",
       "      <th>0</th>\n",
       "      <td>58</td>\n",
       "      <td>115</td>\n",
       "    </tr>\n",
       "    <tr>\n",
       "      <th>1</th>\n",
       "      <td>59</td>\n",
       "      <td>117</td>\n",
       "    </tr>\n",
       "  </tbody>\n",
       "</table>\n",
       "</div>"
      ],
      "text/plain": [
       "   height  weight\n",
       "0      58     115\n",
       "1      59     117"
      ]
     },
     "execution_count": 24,
     "metadata": {},
     "output_type": "execute_result"
    }
   ],
   "source": [
    "df.head(2)"
   ]
  },
  {
   "cell_type": "markdown",
   "id": "2ed98df0-bf80-43dd-a9c0-4206be24e381",
   "metadata": {},
   "source": [
    "Lấy n hàng đầu tiên của DataFrame df. Ở đây n=2, nên chỉ hiển thị 2 hàng đầu tiên."
   ]
  },
  {
   "cell_type": "code",
   "execution_count": 25,
   "id": "8dbc28ba-e446-460a-8b0e-f8fcb38f3256",
   "metadata": {},
   "outputs": [
    {
     "name": "stdout",
     "output_type": "stream",
     "text": [
      "   weight\n",
      "0     115\n",
      "1     117\n"
     ]
    }
   ],
   "source": [
    "df = pd.DataFrame(dict, columns = [\"weight\"]) \n",
    "print(df.head(2))"
   ]
  },
  {
   "cell_type": "markdown",
   "id": "6a375562-5f39-41f5-8bea-8b3632b5fe98",
   "metadata": {},
   "source": [
    "Lấy 2 hàng đầu tiên của DataFrame và in ra 2 hàng đầu tiên của cột \"weight\"."
   ]
  },
  {
   "cell_type": "code",
   "execution_count": 26,
   "id": "a2689a06-3c25-4440-98e2-303d6703115c",
   "metadata": {},
   "outputs": [
    {
     "name": "stdout",
     "output_type": "stream",
     "text": [
      "   weight  height\n",
      "0     115      58\n",
      "1     117      59\n"
     ]
    }
   ],
   "source": [
    "df = pd.DataFrame(dict, columns = [\"weight\", \"height\"]) \n",
    "print(df.head(2))"
   ]
  },
  {
   "cell_type": "markdown",
   "id": "b90a1c41-e579-451b-a8a5-dc75fa449803",
   "metadata": {},
   "source": [
    "Lấy 2 hàng đầu tiên của DataFrame và in ra 2 hàng đầu tiên với cột đã sắp xếp theo thứ tự mới."
   ]
  },
  {
   "cell_type": "code",
   "execution_count": 27,
   "id": "3506645b-58b4-45f0-9828-0fd6d8d69488",
   "metadata": {},
   "outputs": [
    {
     "name": "stdout",
     "output_type": "stream",
     "text": [
      "   weight  height  age\n",
      "0     115      58  NaN\n",
      "1     117      59  NaN\n"
     ]
    }
   ],
   "source": [
    "df = pd.DataFrame(dict, columns = [\"weight\", \"height\", \"age\"]) \n",
    "print(df.head(2))"
   ]
  },
  {
   "cell_type": "markdown",
   "id": "904a70fe-5573-4c2d-b7b5-fd900ea74e9b",
   "metadata": {},
   "source": [
    "\"weight\" và \"height\" có dữ liệu. \"age\" không có trong dictionary, nên pandas gán NaN cho tất cả các hàng. Nên khi lấy 2 hàng đầu tiên của DataFrame và in ra 2 hàng đầu tiên với cột mới, bao gồm cả cột \"age\" chứa NaN."
   ]
  },
  {
   "cell_type": "markdown",
   "id": "450c65d4-3037-4d4e-b78c-6e55d984edb2",
   "metadata": {},
   "source": [
    "##### 10.1.2.2 Creating Dataframes from Series"
   ]
  },
  {
   "cell_type": "code",
   "execution_count": 28,
   "id": "7f39349a-8c8b-41ab-b51a-c7f49b13e925",
   "metadata": {},
   "outputs": [
    {
     "name": "stdout",
     "output_type": "stream",
     "text": [
      "   name_variable\n",
      "o            1.0\n",
      "d            4.0\n",
      "i           -1.0\n",
      "l            NaN\n"
     ]
    }
   ],
   "source": [
    "s = pd.Series([1, 4, -1, np.nan], index = [\"o\", \"d\", \"i\", \"l\"]) \n",
    "s.name = \"name_variable\"\n",
    "df = pd.DataFrame(s, columns = [\"name_variable\"])\n",
    "print(df)"
   ]
  },
  {
   "cell_type": "markdown",
   "id": "c3292754-17cf-4da3-ba5b-28da3b8146a4",
   "metadata": {},
   "source": [
    "Chuyển Series thành DataFrame 2 chiều với một cột duy nhất, tên cột là \"name_variable\" và in ra toàn bộ DataFrame với index, cột và giá trị."
   ]
  },
  {
   "cell_type": "code",
   "execution_count": 29,
   "id": "db435c8b-b3c0-4eb4-8cab-2d7f5cc17f95",
   "metadata": {},
   "outputs": [
    {
     "name": "stdout",
     "output_type": "stream",
     "text": [
      "     0\n",
      "o  1.0\n",
      "d  4.0\n",
      "i -1.0\n",
      "l  NaN\n"
     ]
    }
   ],
   "source": [
    "s = pd.Series([1, 4, -1, np.nan], index = [\"o\", \"d\", \"i\", \"l\"]) \n",
    "df = pd.DataFrame(s)\n",
    "print(df)"
   ]
  },
  {
   "cell_type": "markdown",
   "id": "863f5d41-6169-49c8-8619-78b69e4b04ca",
   "metadata": {},
   "source": [
    "Pandas cho phép chuyển Series thành DataFrame để tiện thao tác dạng bảng. Index của Series được giữ nguyên, cột dữ liệu được đặt tên mặc định nếu Series chưa có tên."
   ]
  },
  {
   "cell_type": "code",
   "execution_count": 30,
   "id": "271e368e-6b2e-4319-81f4-46e1d42e77f7",
   "metadata": {},
   "outputs": [
    {
     "name": "stdout",
     "output_type": "stream",
     "text": [
      "None\n"
     ]
    }
   ],
   "source": [
    "print(df.columns.name)"
   ]
  },
  {
   "cell_type": "markdown",
   "id": "5b00213b-cb1a-4bd5-aaf6-d542812490b1",
   "metadata": {},
   "source": [
    "DataFrame có thể đặt tên cho index của các cột (columns.name) để mô tả rõ hơn, nhưng nếu chưa gán thì giá trị mặc định là ."
   ]
  },
  {
   "cell_type": "markdown",
   "id": "f63fdccf-b212-4e7d-853a-c84655f34184",
   "metadata": {},
   "source": [
    "##### 10.1.2.3 Creating Dataframes from a Dictionary List"
   ]
  },
  {
   "cell_type": "code",
   "execution_count": 6,
   "id": "69184600-54b5-4f64-84fa-5e1e9d788664",
   "metadata": {},
   "outputs": [
    {
     "name": "stdout",
     "output_type": "stream",
     "text": [
      "        Name   Surname                       Role\n",
      "0  Pendragon    Arthur            King of Britain\n",
      "1             Perceval  Knight of the Round Table\n"
     ]
    }
   ],
   "source": [
    "dico_1 = {\n",
    "    \"Name\": \"Pendragon\", \n",
    "    \"Surname\": \"Arthur\", \n",
    "    \"Role\": \"King of Britain\"\n",
    "}\n",
    "dico_2 = {\n",
    "    \"Name\": \"\",\n",
    "    \"Surname\": \"Perceval\",\n",
    "    \"Role\": \"Knight of the Round Table\"\n",
    "}\n",
    "\n",
    "df = pd.DataFrame([dico_1, dico_2]) \n",
    "print(df)"
   ]
  },
  {
   "cell_type": "markdown",
   "id": "83a6d2fa-0489-4ed9-a0c7-418c7ac1c073",
   "metadata": {},
   "source": [
    "Pandas cho phép tạo DataFrame từ danh sách từ điển, mỗi từ điển là một hàng, key của từ điển là tên cột."
   ]
  },
  {
   "cell_type": "code",
   "execution_count": 33,
   "id": "7d00ec17-7228-4aa7-8fe0-8c6002d75c75",
   "metadata": {},
   "outputs": [
    {
     "name": "stdout",
     "output_type": "stream",
     "text": [
      "        Name    Surname                       Role\n",
      "0  Pendragon     Arthur            King of Britain\n",
      "1              Perceval  Knight of the Round Table\n",
      "2        NaN  Guinevere           Queen of Britain\n"
     ]
    }
   ],
   "source": [
    "dico_3 = {\n",
    "    \"Surname\": \"Guinevere\", \n",
    "    \"Role\": \"Queen of Britain\"\n",
    "}\n",
    "\n",
    "df = pd.DataFrame([dico_1, dico_2, dico_3]) \n",
    "print(df)"
   ]
  },
  {
   "cell_type": "markdown",
   "id": "f4422791-cd5a-4ac1-aca7-9d965ead9a42",
   "metadata": {},
   "source": [
    "Khi tạo DataFrame từ danh sách từ điển có cấu trúc khác nhau, pandas sẽ tự động điền NaN cho các giá trị thiếu."
   ]
  },
  {
   "cell_type": "markdown",
   "id": "aedb3876-6b13-4395-8b86-300da8485ba1",
   "metadata": {},
   "source": [
    "##### 10.1.2.4 Création de dataframes à partir d’un dictionnaire de séries"
   ]
  },
  {
   "cell_type": "code",
   "execution_count": 1,
   "id": "a3765163-6eaa-4aea-83c8-c46eae133b7e",
   "metadata": {},
   "outputs": [],
   "source": [
    "# Annual 2017 GDP\n",
    "# In millions of current dollars \n",
    "dict_gdp_current = {\n",
    "    \"France\": 2582501.31,\n",
    "    \"USA\": 19390604.00,\n",
    "    \"UK\": 2622433.96\n",
    "}\n",
    "# Annual consumer price index\n",
    "dict_cpi = { \n",
    "    \"France\": 0.2,\n",
    "    \"UK\": 0.6,\n",
    "    \"USA\": 1.3,\n",
    "    \"Germany\": 0.5\n",
    "}"
   ]
  },
  {
   "cell_type": "code",
   "execution_count": 7,
   "id": "6afde6b0-33c2-4d03-8569-30f4e90f8863",
   "metadata": {},
   "outputs": [
    {
     "name": "stdout",
     "output_type": "stream",
     "text": [
      "s_gdp_current : \n",
      " France     2582501.31\n",
      "USA       19390604.00\n",
      "UK         2622433.96\n",
      "dtype: float64\n"
     ]
    }
   ],
   "source": [
    "s_gdp_current = pd.Series(dict_gdp_current) \n",
    "s_cpi = pd.Series(dict_cpi)\n",
    "\n",
    "print(\"s_gdp_current : \\n\", s_gdp_current)"
   ]
  },
  {
   "cell_type": "markdown",
   "id": "adf2e763-11cd-4e0a-a9da-9cd54884c813",
   "metadata": {},
   "source": [
    "Từ điển chứa GDP năm 2017 theo triệu USD cho một số quốc gia và in ra GDP của từng quốc gia dưới dạng Series."
   ]
  },
  {
   "cell_type": "code",
   "execution_count": 36,
   "id": "99faac98-ff77-4d54-bece-91a0cb387d25",
   "metadata": {},
   "outputs": [
    {
     "name": "stdout",
     "output_type": "stream",
     "text": [
      "\n",
      "s_cpi : \n",
      " France     0.2\n",
      "UK         0.6\n",
      "USA        1.3\n",
      "Germany    0.5\n",
      "dtype: float64\n"
     ]
    }
   ],
   "source": [
    "print(\"\\ns_cpi : \\n\", s_cpi)"
   ]
  },
  {
   "cell_type": "markdown",
   "id": "d161f874-11ec-4d2c-9717-6674b44519f0",
   "metadata": {},
   "source": [
    "s_cpi → Series Pandas được tạo từ dictionary dict_cpiin ra Series chứa chỉ số giá tiêu dùng của các quốc gia."
   ]
  },
  {
   "cell_type": "code",
   "execution_count": 8,
   "id": "b6efa519-a9cb-44df-a0b3-272815dd83cf",
   "metadata": {},
   "outputs": [
    {
     "name": "stdout",
     "output_type": "stream",
     "text": [
      "{'gdp': France     2582501.31\n",
      "USA       19390604.00\n",
      "UK         2622433.96\n",
      "dtype: float64, 'cpi': France     0.2\n",
      "UK         0.6\n",
      "USA        1.3\n",
      "Germany    0.5\n",
      "dtype: float64}\n"
     ]
    }
   ],
   "source": [
    "dict_from_series = { \n",
    "    \"gdp\": s_gdp_current, \n",
    "    \"cpi\": s_cpi\n",
    "}\n",
    "print(dict_from_series)"
   ]
  },
  {
   "cell_type": "markdown",
   "id": "7dc27d50-8159-43bc-b909-cd8a2a0696fe",
   "metadata": {},
   "source": [
    "Có thể tổ chức nhiều Series trong một dictionary để lưu trữ nhiều loại dữ liệu liên quan."
   ]
  },
  {
   "cell_type": "code",
   "execution_count": 9,
   "id": "cb237cf4-4513-4bef-922f-3a1ca975c1cc",
   "metadata": {},
   "outputs": [
    {
     "name": "stdout",
     "output_type": "stream",
     "text": [
      "                 gdp  cpi\n",
      "France    2582501.31  0.2\n",
      "Germany          NaN  0.5\n",
      "UK        2622433.96  0.6\n",
      "USA      19390604.00  1.3\n"
     ]
    }
   ],
   "source": [
    "s = pd.DataFrame(dict_from_series) \n",
    "print(s)"
   ]
  },
  {
   "cell_type": "markdown",
   "id": "60d7c62f-3c38-445b-beb3-9490e17aa39b",
   "metadata": {},
   "source": [
    "Pandas cho phép kết hợp nhiều Series có cùng hoặc khác index thành một DataFrame."
   ]
  },
  {
   "cell_type": "markdown",
   "id": "0f6aebe6-48ba-4f91-bd5f-8e5f478dd34c",
   "metadata": {},
   "source": [
    "##### 10.1.2.5 Creation of Dataframes from a Two-dimensional NumPy Array"
   ]
  },
  {
   "cell_type": "code",
   "execution_count": 11,
   "id": "0be70d2f-64cc-4895-bc43-0b3fba041abc",
   "metadata": {},
   "outputs": [
    {
     "name": "stdout",
     "output_type": "stream",
     "text": [
      "      a     b     c\n",
      "0     1     2     3\n",
      "1    11    22    33\n",
      "2   111   222   333\n",
      "3  1111  2222  3333\n"
     ]
    }
   ],
   "source": [
    "listing = [ \n",
    "    [1, 2, 3],\n",
    "    [11, 22, 33],\n",
    "    [111, 222, 333],\n",
    "    [1111, 2222, 3333]\n",
    "]\n",
    "array_np = np.array(listing) \n",
    "df = pd.DataFrame(array_np,\n",
    "                  columns = [\"a\", \"b\", \"c\"])\n",
    "print(df)"
   ]
  },
  {
   "cell_type": "markdown",
   "id": "31517c00-58d0-43de-af28-3000f912e257",
   "metadata": {},
   "source": [
    "listing → danh sách các danh sách, mỗi danh sách con là một hàng dữ liệu. \n",
    "\n",
    "np.array(listing) → chuyển danh sách thành mảng NumPy 2"
   ]
  },
  {
   "cell_type": "markdown",
   "id": "737f59ab-141a-44a4-9fda-ed8e68608b17",
   "metadata": {},
   "source": [
    "##### 10.1.2.6 Dimensions"
   ]
  },
  {
   "cell_type": "code",
   "execution_count": 12,
   "id": "ad47e3b6-1c55-4f48-9bab-e0b5e14532e1",
   "metadata": {},
   "outputs": [
    {
     "name": "stdout",
     "output_type": "stream",
     "text": [
      "shape :  (4, 3)\n"
     ]
    }
   ],
   "source": [
    "print(\"shape : \", df.shape)"
   ]
  },
  {
   "cell_type": "markdown",
   "id": "d45653e4-f4ee-4185-9313-f1e5f3ccd10f",
   "metadata": {},
   "source": [
    "df.shape → trả về kích thước của DataFrame dưới dạng tuple (số hàng, số cột) và in ra số hàng và số cột của DataFrame."
   ]
  },
  {
   "cell_type": "code",
   "execution_count": 14,
   "id": "5cc930c5-8d52-4918-b86c-55e7db46e5ac",
   "metadata": {},
   "outputs": [
    {
     "name": "stdout",
     "output_type": "stream",
     "text": [
      "shape :  4\n"
     ]
    }
   ],
   "source": [
    "print(\"shape : \", len(df))"
   ]
  },
  {
   "cell_type": "markdown",
   "id": "a6adc506-4bf7-4ead-9967-eb94f762f706",
   "metadata": {},
   "source": [
    "len(df) là trả về số hàng của DataFrame và in ra số hàng này."
   ]
  },
  {
   "cell_type": "code",
   "execution_count": 18,
   "id": "6b1fc191-2127-44a3-a1c0-d18d6d711227",
   "metadata": {},
   "outputs": [
    {
     "name": "stdout",
     "output_type": "stream",
     "text": [
      "shape :  3\n"
     ]
    }
   ],
   "source": [
    "print(\"shape : \", len(df.columns))"
   ]
  },
  {
   "cell_type": "markdown",
   "id": "19fdb5e5-4f4f-4266-94fd-0336bd7df9df",
   "metadata": {},
   "source": [
    "Tương tự, in ra số cột của DataFrame."
   ]
  },
  {
   "cell_type": "markdown",
   "id": "325e8b3f-68af-4c13-b3d9-f5566de6c155",
   "metadata": {},
   "source": [
    "##### 10.1.2.7 Modification of the Index"
   ]
  },
  {
   "cell_type": "code",
   "execution_count": 20,
   "id": "4fa2c77a-84b7-42ed-ae3e-6370452f3607",
   "metadata": {},
   "outputs": [
    {
     "name": "stdout",
     "output_type": "stream",
     "text": [
      "     aa    bb    cc\n",
      "o     1     2     3\n",
      "d    11    22    33\n",
      "i   111   222   333\n",
      "l  1111  2222  3333\n"
     ]
    }
   ],
   "source": [
    "df.index = [\"o\", \"d\", \"i\", \"l\"] \n",
    "df.columns = [\"aa\", \"bb\", \"cc\"] \n",
    "print(df)"
   ]
  },
  {
   "cell_type": "markdown",
   "id": "686bc1d6-0735-4e34-8798-586ef5085219",
   "metadata": {},
   "source": [
    "Gán tên index tùy chỉnh cho các hàng của DataFrame và gán tên mới cho các cột, in ra DataFrame với index và tên cột mới, dữ liệu vẫn giữ nguyên."
   ]
  },
  {
   "cell_type": "markdown",
   "id": "84601ff3-8296-49f7-8145-a660ddf03856",
   "metadata": {},
   "source": [
    "### 10.2 Selection"
   ]
  },
  {
   "cell_type": "markdown",
   "id": "eca89934-6167-4038-bd2b-33872e29cf8d",
   "metadata": {},
   "source": [
    "#### 10.2.1 For Series"
   ]
  },
  {
   "cell_type": "markdown",
   "id": "4f27ff5b-ea98-4b3c-b416-8e517f1fdb37",
   "metadata": {},
   "source": [
    "##### 10.2.1.1 With brackets"
   ]
  },
  {
   "cell_type": "code",
   "execution_count": 3,
   "id": "f18e665e-daf2-4d20-9db9-f26e660e26c2",
   "metadata": {},
   "outputs": [
    {
     "data": {
      "text/plain": [
       "np.float64(1.0)"
      ]
     },
     "execution_count": 3,
     "metadata": {},
     "output_type": "execute_result"
    }
   ],
   "source": [
    "s = pd.Series([1, 4, -1, np.nan, .5, 1]) \n",
    "s[0] # 1st element of s"
   ]
  },
  {
   "cell_type": "markdown",
   "id": "f631ec05-c8f5-4572-abc2-d01f522e3846",
   "metadata": {},
   "source": [
    "Tạo một Series (một cấu trúc dữ liệu 1 chiều của Pandas, giống mảng nhưng có nhãn index). s[0] truy cập phần tử có index = 0 trong Series. Ở đây, phần tử đầu tiên là 1, nên s[0] trả về 1 (kiểu dữ liệu int)."
   ]
  },
  {
   "cell_type": "code",
   "execution_count": 4,
   "id": "8d486853-b26f-4243-86e8-ef11fc4fff83",
   "metadata": {},
   "outputs": [
    {
     "data": {
      "text/plain": [
       "1    4.0\n",
       "2   -1.0\n",
       "dtype: float64"
      ]
     },
     "execution_count": 4,
     "metadata": {},
     "output_type": "execute_result"
    }
   ],
   "source": [
    "s[1:3] # From the 2nd (included) to the 4th (not included)"
   ]
  },
  {
   "cell_type": "markdown",
   "id": "d1de7c82-d8f3-447f-8d86-985cb1b07cde",
   "metadata": {},
   "source": [
    "Đây là slicing theo vị trí giống Python list. Bắt đầu từ index vị trí 1 (phần tử thứ 2) và kết thúc trước vị trí 3 (phần tử thứ 4)."
   ]
  },
  {
   "cell_type": "code",
   "execution_count": 5,
   "id": "d70a6a9e-725a-40a5-9f54-64d9188c8c06",
   "metadata": {},
   "outputs": [
    {
     "data": {
      "text/plain": [
       "0    1.0\n",
       "4    0.5\n",
       "dtype: float64"
      ]
     },
     "execution_count": 5,
     "metadata": {},
     "output_type": "execute_result"
    }
   ],
   "source": [
    "s[[0,4]] #First to 5th element (not included)"
   ]
  },
  {
   "cell_type": "markdown",
   "id": "e7f31d45-b8b2-4b21-a1ff-cdf7b8eeb2e7",
   "metadata": {},
   "source": [
    "Chọn nhiều phần tử rời rạc từ Series bằng cách liệt kê index của chúng."
   ]
  },
  {
   "cell_type": "code",
   "execution_count": 7,
   "id": "f5a8434b-8413-4b7b-894f-d4ee5c3f1d18",
   "metadata": {},
   "outputs": [
    {
     "ename": "KeyError",
     "evalue": "-2",
     "output_type": "error",
     "traceback": [
      "\u001b[31m---------------------------------------------------------------------------\u001b[39m",
      "\u001b[31mValueError\u001b[39m                                Traceback (most recent call last)",
      "\u001b[36mFile \u001b[39m\u001b[32m~/.local/lib/python3.12/site-packages/pandas/core/indexes/range.py:413\u001b[39m, in \u001b[36mRangeIndex.get_loc\u001b[39m\u001b[34m(self, key)\u001b[39m\n\u001b[32m    412\u001b[39m \u001b[38;5;28;01mtry\u001b[39;00m:\n\u001b[32m--> \u001b[39m\u001b[32m413\u001b[39m     \u001b[38;5;28;01mreturn\u001b[39;00m \u001b[38;5;28;43mself\u001b[39;49m\u001b[43m.\u001b[49m\u001b[43m_range\u001b[49m\u001b[43m.\u001b[49m\u001b[43mindex\u001b[49m\u001b[43m(\u001b[49m\u001b[43mnew_key\u001b[49m\u001b[43m)\u001b[49m\n\u001b[32m    414\u001b[39m \u001b[38;5;28;01mexcept\u001b[39;00m \u001b[38;5;167;01mValueError\u001b[39;00m \u001b[38;5;28;01mas\u001b[39;00m err:\n",
      "\u001b[31mValueError\u001b[39m: -2 is not in range",
      "\nThe above exception was the direct cause of the following exception:\n",
      "\u001b[31mKeyError\u001b[39m                                  Traceback (most recent call last)",
      "\u001b[36mCell\u001b[39m\u001b[36m \u001b[39m\u001b[32mIn[7]\u001b[39m\u001b[32m, line 1\u001b[39m\n\u001b[32m----> \u001b[39m\u001b[32m1\u001b[39m \u001b[43ms\u001b[49m\u001b[43m[\u001b[49m\u001b[43m-\u001b[49m\u001b[32;43m2\u001b[39;49m\u001b[43m]\u001b[49m\n",
      "\u001b[36mFile \u001b[39m\u001b[32m~/.local/lib/python3.12/site-packages/pandas/core/series.py:1130\u001b[39m, in \u001b[36mSeries.__getitem__\u001b[39m\u001b[34m(self, key)\u001b[39m\n\u001b[32m   1127\u001b[39m     \u001b[38;5;28;01mreturn\u001b[39;00m \u001b[38;5;28mself\u001b[39m._values[key]\n\u001b[32m   1129\u001b[39m \u001b[38;5;28;01melif\u001b[39;00m key_is_scalar:\n\u001b[32m-> \u001b[39m\u001b[32m1130\u001b[39m     \u001b[38;5;28;01mreturn\u001b[39;00m \u001b[38;5;28;43mself\u001b[39;49m\u001b[43m.\u001b[49m\u001b[43m_get_value\u001b[49m\u001b[43m(\u001b[49m\u001b[43mkey\u001b[49m\u001b[43m)\u001b[49m\n\u001b[32m   1132\u001b[39m \u001b[38;5;66;03m# Convert generator to list before going through hashable part\u001b[39;00m\n\u001b[32m   1133\u001b[39m \u001b[38;5;66;03m# (We will iterate through the generator there to check for slices)\u001b[39;00m\n\u001b[32m   1134\u001b[39m \u001b[38;5;28;01mif\u001b[39;00m is_iterator(key):\n",
      "\u001b[36mFile \u001b[39m\u001b[32m~/.local/lib/python3.12/site-packages/pandas/core/series.py:1246\u001b[39m, in \u001b[36mSeries._get_value\u001b[39m\u001b[34m(self, label, takeable)\u001b[39m\n\u001b[32m   1243\u001b[39m     \u001b[38;5;28;01mreturn\u001b[39;00m \u001b[38;5;28mself\u001b[39m._values[label]\n\u001b[32m   1245\u001b[39m \u001b[38;5;66;03m# Similar to Index.get_value, but we do not fall back to positional\u001b[39;00m\n\u001b[32m-> \u001b[39m\u001b[32m1246\u001b[39m loc = \u001b[38;5;28;43mself\u001b[39;49m\u001b[43m.\u001b[49m\u001b[43mindex\u001b[49m\u001b[43m.\u001b[49m\u001b[43mget_loc\u001b[49m\u001b[43m(\u001b[49m\u001b[43mlabel\u001b[49m\u001b[43m)\u001b[49m\n\u001b[32m   1248\u001b[39m \u001b[38;5;28;01mif\u001b[39;00m is_integer(loc):\n\u001b[32m   1249\u001b[39m     \u001b[38;5;28;01mreturn\u001b[39;00m \u001b[38;5;28mself\u001b[39m._values[loc]\n",
      "\u001b[36mFile \u001b[39m\u001b[32m~/.local/lib/python3.12/site-packages/pandas/core/indexes/range.py:415\u001b[39m, in \u001b[36mRangeIndex.get_loc\u001b[39m\u001b[34m(self, key)\u001b[39m\n\u001b[32m    413\u001b[39m         \u001b[38;5;28;01mreturn\u001b[39;00m \u001b[38;5;28mself\u001b[39m._range.index(new_key)\n\u001b[32m    414\u001b[39m     \u001b[38;5;28;01mexcept\u001b[39;00m \u001b[38;5;167;01mValueError\u001b[39;00m \u001b[38;5;28;01mas\u001b[39;00m err:\n\u001b[32m--> \u001b[39m\u001b[32m415\u001b[39m         \u001b[38;5;28;01mraise\u001b[39;00m \u001b[38;5;167;01mKeyError\u001b[39;00m(key) \u001b[38;5;28;01mfrom\u001b[39;00m\u001b[38;5;250m \u001b[39m\u001b[34;01merr\u001b[39;00m\n\u001b[32m    416\u001b[39m \u001b[38;5;28;01mif\u001b[39;00m \u001b[38;5;28misinstance\u001b[39m(key, Hashable):\n\u001b[32m    417\u001b[39m     \u001b[38;5;28;01mraise\u001b[39;00m \u001b[38;5;167;01mKeyError\u001b[39;00m(key)\n",
      "\u001b[31mKeyError\u001b[39m: -2"
     ]
    }
   ],
   "source": [
    "s[-2]"
   ]
  },
  {
   "cell_type": "markdown",
   "id": "1a33fde7-7b44-4576-a371-2f3b393f4bfd",
   "metadata": {},
   "source": [
    "Trong Pandas, cú pháp s[-2] không hoạt động giống list Python (tức không mặc định hiểu là “phần tử thứ hai từ cuối”). Ở đây, -2 sẽ được hiểu là nhãn index (label) có giá trị -2. Nếu Series của bạn không có index = -2, Pandas sẽ báo lỗi."
   ]
  },
  {
   "cell_type": "code",
   "execution_count": 9,
   "id": "23b81a7c-f356-468c-a51e-00b24ee639e8",
   "metadata": {},
   "outputs": [
    {
     "name": "stdout",
     "output_type": "stream",
     "text": [
      "Series s : \n",
      " o    1.0\n",
      "d    4.0\n",
      "i   -1.0\n",
      "l    NaN\n",
      "dtype: float64\n"
     ]
    }
   ],
   "source": [
    "s = pd.Series([1, 4, -1, np.nan],\n",
    "              index = [\"o\", \"d\", \"i\", \"l\"])\n",
    "print(\"Series s : \\n\", s)"
   ]
  },
  {
   "cell_type": "markdown",
   "id": "53c7a254-f9ed-4e61-b165-2f6c03cdd4d7",
   "metadata": {},
   "source": [
    "Tạo một Pandas Series gồm các giá trị [1, 4, -1, NaN] và gán nhãn (index) tùy chỉnh là \"o\", \"d\", \"i\", \"l\", sau đó in ra toàn bộ Series."
   ]
  },
  {
   "cell_type": "code",
   "execution_count": 10,
   "id": "98325897-62f2-4711-b5ff-5b3cabb1d353",
   "metadata": {},
   "outputs": [
    {
     "name": "stdout",
     "output_type": "stream",
     "text": [
      "s[\"d\"] : \n",
      " 4.0\n"
     ]
    }
   ],
   "source": [
    "print('s[\"d\"] : \\n', s[\"d\"])"
   ]
  },
  {
   "cell_type": "markdown",
   "id": "70699b13-605c-4c27-a77c-3c9f22a270e3",
   "metadata": {},
   "source": [
    "Truy xuất giá trị trong Series s tại nhãn index \"d\"."
   ]
  },
  {
   "cell_type": "code",
   "execution_count": 12,
   "id": "ae69c1f3-5aa9-4714-ba06-bd873dd2e702",
   "metadata": {},
   "outputs": [
    {
     "name": "stdout",
     "output_type": "stream",
     "text": [
      "s[1] : \n",
      " 4.0\n"
     ]
    },
    {
     "name": "stderr",
     "output_type": "stream",
     "text": [
      "/tmp/ipykernel_646/560707566.py:1: FutureWarning: Series.__getitem__ treating keys as positions is deprecated. In a future version, integer keys will always be treated as labels (consistent with DataFrame behavior). To access a value by position, use `ser.iloc[pos]`\n",
      "  print('s[1] : \\n', s[1])\n"
     ]
    }
   ],
   "source": [
    "print('s[1] : \\n', s[1])"
   ]
  },
  {
   "cell_type": "markdown",
   "id": "eea9a2ed-e0c5-4ae2-a5b0-cddf30a16337",
   "metadata": {},
   "source": [
    "Dù index của s là chữ (\"o\", \"d\", \"i\", \"l\"), nhưng s[1] ở đây truy cập theo vị trí (position-based) vì index không phải số nguyên. Vị trí 1 tương ứng với giá trị 4.0 (index \"d\")."
   ]
  },
  {
   "cell_type": "code",
   "execution_count": 13,
   "id": "bd49c719-f2d6-4667-82e0-9788dbfe8bfb",
   "metadata": {},
   "outputs": [
    {
     "name": "stdout",
     "output_type": "stream",
     "text": [
      "elements o and i : \n",
      " o    1.0\n",
      "i   -1.0\n",
      "dtype: float64\n"
     ]
    }
   ],
   "source": [
    "print(\"elements o and i : \\n\", s[[\"o\", \"i\"]])"
   ]
  },
  {
   "cell_type": "markdown",
   "id": "17d76f4a-db18-4e58-868b-5cfb6fe1eaa3",
   "metadata": {},
   "source": [
    "[\"o\", \"i\"] là một danh sách các nhãn (labels). s[[\"o\", \"i\"]] sẽ truy xuất đồng thời nhiều phần tử rời rạc dựa trên label-based indexing."
   ]
  },
  {
   "cell_type": "code",
   "execution_count": 15,
   "id": "d408b093-1c60-46f9-a6ce-377ca7f1f6ea",
   "metadata": {},
   "outputs": [
    {
     "name": "stdout",
     "output_type": "stream",
     "text": [
      "4.0\n"
     ]
    }
   ],
   "source": [
    "s = pd.Series([1, 4, -1, np.nan], \n",
    "              index = [4, 40, 2, 3])\n",
    "print(s[40])"
   ]
  },
  {
   "cell_type": "markdown",
   "id": "d2da0671-32d9-45fc-bc3e-3d512b618e1d",
   "metadata": {},
   "source": [
    "Ở đây index là [4, 40, 2, 3], tức mỗi giá trị trong Series được gắn nhãn (label) là số nguyên tùy ý. Khi viết s[40], Pandas hiểu 40 là nhãn index, nên sẽ trả về giá trị tại label = 40. Trong Series này, index 40 ứng với giá trị 4.0."
   ]
  },
  {
   "cell_type": "markdown",
   "id": "6e39fc86-0931-4c83-942b-fb25e28ff6fc",
   "metadata": {},
   "source": [
    "##### 10.2.1.2 With Indexers"
   ]
  },
  {
   "cell_type": "markdown",
   "id": "e4a284e5-8e36-438e-9cf2-31fc4e4318a6",
   "metadata": {},
   "source": [
    "s_num = pd.Series([1, 4, -1, np.nan], \n",
    "                  index = [5, 0, 4, 1])\n",
    "s_text = pd.Series([1, 4, -1, np.nan], \n",
    "                   index = [\"c\", \"a\", \"b\", \"d\"])"
   ]
  },
  {
   "cell_type": "markdown",
   "id": "67994c73-613b-42c8-b5b5-5bca13682fed",
   "metadata": {},
   "source": [
    "##### 10.2.1.2.1 Extraction of a Single Element"
   ]
  },
  {
   "cell_type": "code",
   "execution_count": 17,
   "id": "e35191c4-5daa-4d6d-853f-4e034cfaf13a",
   "metadata": {},
   "outputs": [
    {
     "name": "stdout",
     "output_type": "stream",
     "text": [
      "1.0 1.0\n"
     ]
    }
   ],
   "source": [
    "print(s_num.loc[5], s_text.loc[\"c\"])"
   ]
  },
  {
   "cell_type": "markdown",
   "id": "ad690f3a-6ff9-4406-bc2f-a6129f484819",
   "metadata": {},
   "source": [
    ".loc truy cập theo nhãn (label) của index. Index của s_num là [5, 0, 4, 1], nên nhãn 5 ứng với giá trị 1.0."
   ]
  },
  {
   "cell_type": "code",
   "execution_count": 18,
   "id": "dbecabe9-77a6-4800-bbf2-840258981128",
   "metadata": {},
   "outputs": [
    {
     "data": {
      "text/plain": [
       "(np.float64(4.0), np.float64(4.0))"
      ]
     },
     "execution_count": 18,
     "metadata": {},
     "output_type": "execute_result"
    }
   ],
   "source": [
    "(s_num.iloc[1], s_text.iloc[1])"
   ]
  },
  {
   "cell_type": "markdown",
   "id": "1d5f1907-401a-47ca-91ba-f67860a68d25",
   "metadata": {},
   "source": [
    "Phần tử ở vị trí 1 trong s_num → giá trị 4.0 (index = 0). phần tử ở vị trí 1 trong s_text → giá trị 4.0 (index = \"a\")."
   ]
  },
  {
   "cell_type": "markdown",
   "id": "7807541b-d6d5-496b-8535-be582cc4958a",
   "metadata": {},
   "source": [
    "##### 10.2.1.2.2 Extraction of Several Elements"
   ]
  },
  {
   "cell_type": "code",
   "execution_count": 19,
   "id": "a6abd2f0-6896-4a93-b94e-e97c838c1971",
   "metadata": {},
   "outputs": [
    {
     "name": "stdout",
     "output_type": "stream",
     "text": [
      "elements with labels 5 and 4:\n",
      " 5    1.0\n",
      "4   -1.0\n",
      "dtype: float64\n"
     ]
    }
   ],
   "source": [
    "print(\"elements with labels 5 and 4:\\n\", s_num.loc[[5,4]])"
   ]
  },
  {
   "cell_type": "markdown",
   "id": "081ce810-986a-4deb-8e3c-fd2162c6bc51",
   "metadata": {},
   "source": [
    "Truy cập nhiều phần tử cùng lúc dựa trên nhãn index. Index của s_num là [5, 0, 4, 1], nên: label 5 → giá trị 1.0 và label 4 → giá trị -1.0"
   ]
  },
  {
   "cell_type": "code",
   "execution_count": 20,
   "id": "c59a6929-437b-43f4-8d55-c1dd8e4d0b6e",
   "metadata": {},
   "outputs": [
    {
     "name": "stdout",
     "output_type": "stream",
     "text": [
      "elements with labels c and b: \n",
      " c    1.0\n",
      "b   -1.0\n",
      "dtype: float64\n"
     ]
    }
   ],
   "source": [
    "print(\"elements with labels c and b: \\n\", s_text.loc[[\"c\", \"b\"]])"
   ]
  },
  {
   "cell_type": "markdown",
   "id": "21226778-7559-4eef-8160-6395ba8e028b",
   "metadata": {},
   "source": [
    "Truy xuất nhiều phần tử rời rạc theo nhãn (label)."
   ]
  },
  {
   "cell_type": "code",
   "execution_count": 21,
   "id": "7fd36919-5b04-4da3-9b4c-fb12370097b7",
   "metadata": {},
   "outputs": [
    {
     "name": "stdout",
     "output_type": "stream",
     "text": [
      "elements at positions 0 and 2:\n",
      " 5    1.0\n",
      "4   -1.0\n",
      "dtype: float64\n"
     ]
    }
   ],
   "source": [
    "print(\"elements at positions 0 and 2:\\n\", s_num.iloc[[0,2]])"
   ]
  },
  {
   "cell_type": "markdown",
   "id": "df7acd1a-17c1-4751-bfa5-b2deecb24fed",
   "metadata": {},
   "source": [
    "Truy xuất nhiều phần tử dựa trên vị trí (position) trong Series, tính từ 0."
   ]
  },
  {
   "cell_type": "code",
   "execution_count": 25,
   "id": "b9b3343d-8541-438b-87a5-b2155112cb8e",
   "metadata": {},
   "outputs": [
    {
     "name": "stdout",
     "output_type": "stream",
     "text": [
      "elements at positions 0 and 2: \n",
      " c    1.0\n",
      "b   -1.0\n",
      "dtype: float64\n"
     ]
    }
   ],
   "source": [
    "print(\"elements at positions 0 and 2: \\n\", s_text.iloc[[0,2]])"
   ]
  },
  {
   "cell_type": "markdown",
   "id": "5bdf8151-7001-42cc-99b2-2f8511c2176f",
   "metadata": {},
   "source": [
    "Truy xuất nhiều phần tử theo vị trí (position), không theo nhãn."
   ]
  },
  {
   "cell_type": "markdown",
   "id": "5b0cbc18-d963-4782-bbd1-60a5cc00deea",
   "metadata": {},
   "source": [
    "##### 10.2.1.2.3 Slicing"
   ]
  },
  {
   "cell_type": "code",
   "execution_count": 26,
   "id": "28057b38-0d5a-483b-a36e-513c13219940",
   "metadata": {},
   "outputs": [
    {
     "name": "stdout",
     "output_type": "stream",
     "text": [
      "elements with label 5 to 4:\n",
      " 5    1.0\n",
      "0    4.0\n",
      "4   -1.0\n",
      "dtype: float64\n"
     ]
    }
   ],
   "source": [
    "print(\"elements with label 5 to 4:\\n\", s_num.loc[5:4])"
   ]
  },
  {
   "cell_type": "markdown",
   "id": "6c321a79-1bcd-4449-9139-f7ce867a8e78",
   "metadata": {},
   "source": [
    "Khi dùng .loc với label-based slicing, thứ tự phụ thuộc thứ tự xuất hiện của label trong Series, không phải giá trị số tăng/giảm."
   ]
  },
  {
   "cell_type": "code",
   "execution_count": 27,
   "id": "3842bb4c-8b00-4763-8230-7003dec5d53b",
   "metadata": {},
   "outputs": [
    {
     "name": "stdout",
     "output_type": "stream",
     "text": [
      "elements with label c to b: \n",
      " c    1.0\n",
      "a    4.0\n",
      "b   -1.0\n",
      "dtype: float64\n"
     ]
    }
   ],
   "source": [
    "print(\"elements with label c to b: \\n\", s_text.loc[\"c\":\"b\"])"
   ]
  },
  {
   "cell_type": "markdown",
   "id": "9c3d9785-35f2-4793-a34d-325765511a0a",
   "metadata": {},
   "source": [
    "Truy xuất theo nhãn (label) và bao gồm cả nhãn kết thúc. Thứ tự chọn dựa trên thứ tự xuất hiện của nhãn trong Series, không phải thứ tự chữ cái hay giá trị số."
   ]
  },
  {
   "cell_type": "code",
   "execution_count": 28,
   "id": "31e6192a-d966-447f-810c-6eee9ac2d453",
   "metadata": {},
   "outputs": [
    {
     "name": "stdout",
     "output_type": "stream",
     "text": [
      "elements at positions 0 and 2:\n",
      " 5    1.0\n",
      "0    4.0\n",
      "dtype: float64\n"
     ]
    }
   ],
   "source": [
    "print(\"elements at positions 0 and 2:\\n\", s_num.iloc[0:2])"
   ]
  },
  {
   "cell_type": "markdown",
   "id": "5d2ff00a-f5e7-4324-a66d-a1d13d1123a7",
   "metadata": {},
   "source": [
    "Lấy các phần tử từ Series s_num theo vị trí (position) bắt đầu từ vị trí 0 đến trước vị trí 2. Đây là position-based indexing trong Pandas. Vị trí tính từ 0, và điểm kết thúc không bao gồm (giống quy tắc slicing trong Python). Kết quả là lấy 2 phần tử đầu tiên của Series."
   ]
  },
  {
   "cell_type": "code",
   "execution_count": 30,
   "id": "fdc80111-83e1-44aa-85ce-59d4c0b70a69",
   "metadata": {},
   "outputs": [
    {
     "name": "stdout",
     "output_type": "stream",
     "text": [
      "elements at positions 0 and 2: \n",
      " c    1.0\n",
      "a    4.0\n",
      "dtype: float64\n"
     ]
    }
   ],
   "source": [
    "print(\"elements at positions 0 and 2: \\n\", s_text.iloc[0:2])"
   ]
  },
  {
   "cell_type": "markdown",
   "id": "9bb797ca-8d10-472f-9102-47ae31ba6a88",
   "metadata": {},
   "source": [
    "Lấy các phần tử theo vị trí, từ vị trí 0 đến trước vị trí 2 (position-based slicing). Trong s_text: Vị trí 0 → giá trị 1.0 (label \"c\"), Vị trí 1 → giá trị 4.0 (label \"a\"), Vị trí 2 không lấy vì điểm cuối bị loại trừ."
   ]
  },
  {
   "cell_type": "markdown",
   "id": "507440a2-c73c-406f-8fb8-c1d47e628ab0",
   "metadata": {},
   "source": [
    "##### 10.2.1.2.4 Mask"
   ]
  },
  {
   "cell_type": "code",
   "execution_count": 31,
   "id": "ef51bebe-1de4-48ed-bcd1-9887eb6b6d32",
   "metadata": {},
   "outputs": [
    {
     "name": "stdout",
     "output_type": "stream",
     "text": [
      "\n",
      " 5    1.0\n",
      "1    NaN\n",
      "dtype: float64\n"
     ]
    }
   ],
   "source": [
    "print(\"\\n\",s_num.loc[[True, False, False, True]])"
   ]
  },
  {
   "cell_type": "markdown",
   "id": "7451cc72-b7ed-412b-a335-fc7b6efb5d99",
   "metadata": {},
   "source": [
    "Lọc và in ra các phần tử của s_num tương ứng với giá trị True trong danh sách Boolean, dựa trên thứ tự hàng."
   ]
  },
  {
   "cell_type": "code",
   "execution_count": 32,
   "id": "5c0ab429-9185-448e-a6e6-6ddb210d2e06",
   "metadata": {},
   "outputs": [
    {
     "name": "stdout",
     "output_type": "stream",
     "text": [
      "\n",
      " c    1.0\n",
      "d    NaN\n",
      "dtype: float64\n"
     ]
    }
   ],
   "source": [
    "print(\"\\n\", s_text.loc[[True, False, False, True]])"
   ]
  },
  {
   "cell_type": "markdown",
   "id": "975c71e7-bc4c-4105-888d-6061e9d80c9d",
   "metadata": {},
   "source": [
    "Lọc và in ra các phần tử của s_text tương ứng với giá trị True trong danh sách Boolean, dựa trên thứ tự hàng."
   ]
  },
  {
   "cell_type": "code",
   "execution_count": 33,
   "id": "16d65e78-b8ad-4a3b-93d0-2937ad1734d0",
   "metadata": {},
   "outputs": [
    {
     "name": "stdout",
     "output_type": "stream",
     "text": [
      "\n",
      " 5    1.0\n",
      "1    NaN\n",
      "dtype: float64\n"
     ]
    }
   ],
   "source": [
    "print(\"\\n\", s_num.iloc[[True, False, False, True]])"
   ]
  },
  {
   "cell_type": "markdown",
   "id": "d0f56452-550e-4970-8711-efd4a83f0f8b",
   "metadata": {},
   "source": [
    "Lọc và in ra các phần tử của s_num dựa trên vị trí chỉ mục (position), chọn những hàng có giá trị True trong danh sách Boolean. Ở đây là hàng thứ 0 và hàng thứ 3."
   ]
  },
  {
   "cell_type": "markdown",
   "id": "0392acc8-104c-4962-89e2-bcb118a37c3f",
   "metadata": {},
   "source": [
    "Lọc và in ra các phần tử của s_text dựa trên vị trí chỉ mục (position), chọn những hàng có giá trị True trong danh sách Boolean. Trong trường hợp này, nó sẽ lấy phần tử ở vị trí 0 và phần tử ở vị trí 3 trong s_text."
   ]
  },
  {
   "cell_type": "markdown",
   "id": "006cdd15-ee51-481e-b6ea-7b2a567eb2d0",
   "metadata": {},
   "source": [
    "##### 10.2.1.2.5 What’s the Point?"
   ]
  },
  {
   "cell_type": "code",
   "execution_count": 34,
   "id": "69d85c52-bdf8-4f86-9e8e-000f340f9fcc",
   "metadata": {},
   "outputs": [
    {
     "name": "stdout",
     "output_type": "stream",
     "text": [
      "The element whose index is 0:  4.0\n"
     ]
    }
   ],
   "source": [
    "print(\"The element whose index is 0: \", s_num[0])"
   ]
  },
  {
   "cell_type": "markdown",
   "id": "d757ba45-0f92-4b5c-8f7b-0bd794712b0a",
   "metadata": {},
   "source": [
    "Lấy và in ra phần tử trong s_num có nhãn (label) bằng 0. Vì s_num dùng label là [5, 0, 4, 1], nên ở đây 0 không phải vị trí mà là tên chỉ mục, giá trị trả về sẽ là phần tử có index = 0."
   ]
  },
  {
   "cell_type": "code",
   "execution_count": 35,
   "id": "d2137d9c-3611-4d33-ac93-07f1c3456296",
   "metadata": {},
   "outputs": [
    {
     "name": "stdout",
     "output_type": "stream",
     "text": [
      "The element in 2nd position: 4.0\n"
     ]
    }
   ],
   "source": [
    "print(\"The element in 2nd position:\", s_num.iloc[1])"
   ]
  },
  {
   "cell_type": "markdown",
   "id": "506d1b2a-5a58-41aa-b90d-af5d696a69c9",
   "metadata": {},
   "source": [
    "Lấy và in ra phần tử nằm ở vị trí thứ 2 trong s_num (đếm từ 0). s_num.iloc[1] nghĩa là chọn phần tử ở chỉ số vị trí = 1 (hàng thứ hai). Khác với s_num[0], ở đây .iloc luôn hiểu là vị trí, không phải nhãn."
   ]
  },
  {
   "cell_type": "markdown",
   "id": "667f076a-0c2a-4d1f-a414-c6fb8153d2e1",
   "metadata": {},
   "source": [
    "#### 10.2.2 For dataframes"
   ]
  },
  {
   "cell_type": "code",
   "execution_count": 5,
   "id": "352ca1e9-b6d5-4abc-855d-93468df225ae",
   "metadata": {},
   "outputs": [
    {
     "name": "stdout",
     "output_type": "stream",
     "text": [
      "df_num : \n",
      "    height  weight  age  taille\n",
      "0      58     115   28     162\n",
      "1      59     117   33     156\n",
      "2      60     120   31     172\n",
      "3      61     123   31     160\n",
      "4      62     126   29     158\n"
     ]
    }
   ],
   "source": [
    "dict = {\"height\" : [58, 59, 60, 61, 62], \n",
    "        \"weight\": [115, 117, 120, 123, 126], \n",
    "        \"age\": [28, 33, 31, 31, 29], \n",
    "        \"taille\": [162, 156, 172, 160, 158],\n",
    "       }\n",
    "df_num = pd.DataFrame(dict)\n",
    "df_text = pd.DataFrame(dict, index=[\"a\", \"e\", \"c\", \"b\", \"d\"]) \n",
    "print(\"df_num : \\n\", df_num)"
   ]
  },
  {
   "cell_type": "markdown",
   "id": "464c189d-6a12-4e1e-b395-29b37577d0c4",
   "metadata": {},
   "source": [
    "Tạo một DataFrame số liệu df_num từ dictionary dict và in ra kết quả sẽ hiển thị toàn bộ bảng dữ liệu df_num với 5 hàng và 4 cột."
   ]
  },
  {
   "cell_type": "code",
   "execution_count": 40,
   "id": "eee734d2-7bdd-4876-b6dc-f9c93b27a95d",
   "metadata": {},
   "outputs": [
    {
     "name": "stdout",
     "output_type": "stream",
     "text": [
      "df_text : \n",
      "    height  weight  age  taille\n",
      "a      58     115   28     162\n",
      "e      59     117   33     156\n",
      "c      60     120   31     172\n",
      "b      61     123   31     160\n",
      "d      62     126   29     158\n"
     ]
    }
   ],
   "source": [
    "print(\"df_text : \\n\", df_text)"
   ]
  },
  {
   "cell_type": "markdown",
   "id": "25ba1b27-c5b6-497a-8efc-d134a35b329b",
   "metadata": {},
   "source": [
    "Dòng code này in ra DataFrame df_text được tạo từ cùng dữ liệu dict nhưng index đã được đặt tên là \"a\", \"e\", \"c\", \"b\", \"d\" thay vì số 0, 1, 2, 3, 4 như mặc định. df_text vẫn có 4 cột: \"height\", \"weight\", \"age\", \"taille\"."
   ]
  },
  {
   "cell_type": "markdown",
   "id": "a507a97c-440e-4650-8940-482f027eb372",
   "metadata": {},
   "source": [
    "##### 10.2.2.1 Extraction of a Rows"
   ]
  },
  {
   "cell_type": "code",
   "execution_count": 43,
   "id": "0c293e20-ec5a-4f60-8f23-932e9011f631",
   "metadata": {},
   "outputs": [
    {
     "name": "stdout",
     "output_type": "stream",
     "text": [
      "Rows named 'e':\n",
      " height     59\n",
      "weight    117\n",
      "age        33\n",
      "taille    156\n",
      "Name: e, dtype: int64\n"
     ]
    }
   ],
   "source": [
    "print(\"Rows named 'e':\\n\", df_text.loc[\"e\"])"
   ]
  },
  {
   "cell_type": "markdown",
   "id": "56362af6-978d-4d6e-8813-e627a32a032e",
   "metadata": {},
   "source": [
    "Lệnh này truy xuất và in ra toàn bộ dữ liệu của hàng có nhãn (index) \"e\" trong df_text."
   ]
  },
  {
   "cell_type": "code",
   "execution_count": 44,
   "id": "c8dbd01f-56ce-4253-b581-0b9e866cb3da",
   "metadata": {},
   "outputs": [
    {
     "name": "stdout",
     "output_type": "stream",
     "text": [
      "\n",
      "Rows named 'e':\n",
      " height     59\n",
      "weight    117\n",
      "age        33\n",
      "taille    156\n",
      "Name: 1, dtype: int64\n"
     ]
    }
   ],
   "source": [
    "print(\"\\nRows named 'e':\\n\", df_num.loc[1])"
   ]
  },
  {
   "cell_type": "markdown",
   "id": "36a8f28d-729a-49c2-9724-e9999d7d0398",
   "metadata": {},
   "source": [
    "Lệnh này truy xuất và in ra toàn bộ dữ liệu của hàng có nhãn (index) 1 trong df_num."
   ]
  },
  {
   "cell_type": "code",
   "execution_count": 45,
   "id": "26a398e1-687c-4c2e-95b0-664e3d665c04",
   "metadata": {},
   "outputs": [
    {
     "name": "stdout",
     "output_type": "stream",
     "text": [
      "Rows in position 0:\n",
      " height     58\n",
      "weight    115\n",
      "age        28\n",
      "taille    162\n",
      "Name: a, dtype: int64\n"
     ]
    }
   ],
   "source": [
    "print(\"Rows in position 0:\\n\", df_text.iloc[0])"
   ]
  },
  {
   "cell_type": "markdown",
   "id": "8a7f096e-6cb1-425d-bf8d-05e2f288bd5c",
   "metadata": {},
   "source": [
    "Lệnh này sẽ lấy và in toàn bộ dữ liệu của hàng ở vị trí thứ 0 (hàng đầu tiên) trong df_text, bất kể index của nó là gì."
   ]
  },
  {
   "cell_type": "code",
   "execution_count": 46,
   "id": "00ff1f34-f6ee-4235-9e85-21b5b8ac1e1b",
   "metadata": {},
   "outputs": [
    {
     "name": "stdout",
     "output_type": "stream",
     "text": [
      "\n",
      "Rows in position 0:\n",
      " height     58\n",
      "weight    115\n",
      "age        28\n",
      "taille    162\n",
      "Name: 0, dtype: int64\n"
     ]
    }
   ],
   "source": [
    "print(\"\\nRows in position 0:\\n\", df_num.iloc[0])"
   ]
  },
  {
   "cell_type": "markdown",
   "id": "4ea5b690-c860-4af6-bbe1-3a8d9328040c",
   "metadata": {},
   "source": [
    "Lệnh này lấy và in toàn bộ dữ liệu của hàng ở vị trí 0 (hàng đầu tiên) trong DataFrame df_num."
   ]
  },
  {
   "cell_type": "markdown",
   "id": "4c25968e-7774-4229-a172-a5c752a0fe97",
   "metadata": {},
   "source": [
    "##### 10.2.2.2 Extraction of Several Rows"
   ]
  },
  {
   "cell_type": "code",
   "execution_count": 47,
   "id": "83e284be-ba8f-4236-87c0-a59e83da3c3e",
   "metadata": {},
   "outputs": [
    {
     "name": "stdout",
     "output_type": "stream",
     "text": [
      "Rows named a and c:\n",
      "    height  weight  age  taille\n",
      "a      58     115   28     162\n",
      "c      60     120   31     172\n"
     ]
    }
   ],
   "source": [
    "print(\"Rows named a and c:\\n\", df_text.loc[[\"a\", \"c\"]])"
   ]
  },
  {
   "cell_type": "markdown",
   "id": "a053fc08-737a-488e-ac64-32ac6db85a81",
   "metadata": {},
   "source": [
    "Lệnh này lấy và in ra các hàng có nhãn (index) \"a\" và \"c\" từ DataFrame df_text. Kết quả sẽ là một DataFrame con gồm 2 hàng \"a\" và \"c\", giữ nguyên thứ tự bạn truyền vào trong danh sách."
   ]
  },
  {
   "cell_type": "code",
   "execution_count": 49,
   "id": "87604aab-3886-40e8-a676-bdcaf7e4cc9a",
   "metadata": {},
   "outputs": [
    {
     "name": "stdout",
     "output_type": "stream",
     "text": [
      "\n",
      "Rows named 0 and 2:\n",
      "    height  weight  age  taille\n",
      "0      58     115   28     162\n",
      "2      60     120   31     172\n"
     ]
    }
   ],
   "source": [
    "print(\"\\nRows named 0 and 2:\\n\", df_num.loc[[0, 2]])"
   ]
  },
  {
   "cell_type": "markdown",
   "id": "e0a0fab1-0a09-4327-8b87-e3238da1298a",
   "metadata": {},
   "source": [
    "Lệnh này lấy và in ra các hàng có nhãn (index) 0 và 2 từ DataFrame df_num. Kết quả là một DataFrame con chứa hàng đầu tiên và hàng thứ ba (theo thứ tự bạn truyền)"
   ]
  },
  {
   "cell_type": "code",
   "execution_count": 50,
   "id": "8bfe8cc2-da0f-4d87-b616-082a8b740b4a",
   "metadata": {},
   "outputs": [
    {
     "name": "stdout",
     "output_type": "stream",
     "text": [
      "Rows at positions 0 and 3:\n",
      "    height  weight  age  taille\n",
      "a      58     115   28     162\n",
      "b      61     123   31     160\n"
     ]
    }
   ],
   "source": [
    "print(\"Rows at positions 0 and 3:\\n\", df_text.iloc[[0, 3]])"
   ]
  },
  {
   "cell_type": "markdown",
   "id": "d098228d-4920-4564-9616-4b37850a93e9",
   "metadata": {},
   "source": [
    "Lệnh này lấy và in ra các hàng ở vị trí 0 và 3 trong DataFrame df_text. Kết quả trả về là một DataFrame con chứa đúng 2 hàng đó, giữ nguyên thứ tự mà bạn chỉ định."
   ]
  },
  {
   "cell_type": "code",
   "execution_count": 51,
   "id": "b51645bf-42d8-4d95-93ce-9f5ec47199fe",
   "metadata": {},
   "outputs": [
    {
     "name": "stdout",
     "output_type": "stream",
     "text": [
      "\n",
      "Rows at positions 0 and 3:\n",
      "    height  weight  age  taille\n",
      "0      58     115   28     162\n",
      "3      61     123   31     160\n"
     ]
    }
   ],
   "source": [
    "print(\"\\nRows at positions 0 and 3:\\n\", df_num.iloc[[0, 3]])"
   ]
  },
  {
   "cell_type": "markdown",
   "id": "ba983554-96ee-438c-a60f-33dccada6edb",
   "metadata": {},
   "source": [
    "Lệnh này lấy và in ra các hàng ở vị trí 0 và 3 trong DataFrame df_num. Kết quả là một DataFrame mới chứa dữ liệu của 2 hàng này."
   ]
  },
  {
   "cell_type": "markdown",
   "id": "c23656ea-977e-44c5-a166-0195b1c7b17e",
   "metadata": {},
   "source": [
    "##### 10.2.2.3 Slicing of Several Rows"
   ]
  },
  {
   "cell_type": "code",
   "execution_count": 52,
   "id": "1525bb17-fce5-48a9-94d1-b1bf85ebb76e",
   "metadata": {},
   "outputs": [
    {
     "name": "stdout",
     "output_type": "stream",
     "text": [
      "Rows from label à to c:\n",
      "    height  weight  age  taille\n",
      "a      58     115   28     162\n",
      "e      59     117   33     156\n",
      "c      60     120   31     172\n"
     ]
    }
   ],
   "source": [
    "print(\"Rows from label à to c:\\n\", df_text.loc[\"a\":\"c\"])"
   ]
  },
  {
   "cell_type": "markdown",
   "id": "74e8a35d-1578-4661-bc57-521b82f0ac1c",
   "metadata": {},
   "source": [
    "Lệnh này lấy và in ra tất cả các hàng từ nhãn \"a\" đến nhãn \"c\" trong DataFrame df_text."
   ]
  },
  {
   "cell_type": "code",
   "execution_count": 6,
   "id": "de747f0b-7fe9-4d93-a673-4dc33c3c6a49",
   "metadata": {},
   "outputs": [
    {
     "name": "stdout",
     "output_type": "stream",
     "text": [
      "\n",
      "Rows from label 0 to 2:\n",
      "    height  weight  age  taille\n",
      "0      58     115   28     162\n",
      "1      59     117   33     156\n",
      "2      60     120   31     172\n"
     ]
    }
   ],
   "source": [
    "print(\"\\nRows from label 0 to 2:\\n\", df_num.loc[0:2])"
   ]
  },
  {
   "cell_type": "markdown",
   "id": "52657224-75d6-4303-96fa-60e7d97ee994",
   "metadata": {},
   "source": [
    "Lệnh này lấy các hàng trong DataFrame df_num có nhãn (label) từ 0 đến 2 và in ra màn hình."
   ]
  },
  {
   "cell_type": "code",
   "execution_count": 7,
   "id": "6d35fca8-a4a7-42b8-95d5-d6977d3ba383",
   "metadata": {},
   "outputs": [
    {
     "name": "stdout",
     "output_type": "stream",
     "text": [
      "Rows at position 0 to 3 (not included):\n",
      "    height  weight  age  taille\n",
      "a      58     115   28     162\n",
      "e      59     117   33     156\n",
      "c      60     120   31     172\n"
     ]
    }
   ],
   "source": [
    "print(\"Rows at position 0 to 3 (not included):\\n\", df_text.iloc[0:3])"
   ]
  },
  {
   "cell_type": "markdown",
   "id": "cf143a47-1557-4e76-bb88-7ae6f555448f",
   "metadata": {},
   "source": [
    "Lệnh này lấy các hàng của DataFrame df_text từ vị trí 0 đến vị trí 3 (không bao gồm 3) và in ra màn hình."
   ]
  },
  {
   "cell_type": "code",
   "execution_count": 8,
   "id": "c6e18d01-d8e4-49bc-a95c-c5fc5e8ffaa2",
   "metadata": {},
   "outputs": [
    {
     "name": "stdout",
     "output_type": "stream",
     "text": [
      "\n",
      "Rows at position 0 to 3 (not included):\n",
      "    height  weight  age  taille\n",
      "0      58     115   28     162\n",
      "1      59     117   33     156\n",
      "2      60     120   31     172\n"
     ]
    }
   ],
   "source": [
    "print(\"\\nRows at position 0 to 3 (not included):\\n\", df_num.iloc[0:3])"
   ]
  },
  {
   "cell_type": "markdown",
   "id": "294fe224-9c8d-49a3-bf15-8ad420d1c805",
   "metadata": {},
   "source": [
    "Lệnh này lấy các hàng từ vị trí 0 đến trước vị trí 3 của DataFrame df_num và in ra màn hình."
   ]
  },
  {
   "cell_type": "markdown",
   "id": "5a7a8d96-f322-4f5b-b5de-62bceba52e63",
   "metadata": {},
   "source": [
    "##### 10.2.2.4 Mask"
   ]
  },
  {
   "cell_type": "code",
   "execution_count": 10,
   "id": "79877d4b-d80b-403a-9738-1d047820a728",
   "metadata": {},
   "outputs": [
    {
     "name": "stdout",
     "output_type": "stream",
     "text": [
      "a    False\n",
      "e    False\n",
      "c    False\n",
      "b     True\n",
      "d     True\n",
      "Name: height, dtype: bool\n"
     ]
    }
   ],
   "source": [
    "mask = df_text[\"height\"]> 60 \n",
    "print(mask)"
   ]
  },
  {
   "cell_type": "markdown",
   "id": "454d1eba-9d1c-411b-920b-395391af6864",
   "metadata": {},
   "source": [
    "df_text[\"height\"] > 60 sẽ so sánh từng giá trị trong cột height của DataFrame df_text với số 60. Kết quả trả về là một Series kiểu boolean (True/False) cho biết giá trị nào lớn hơn 60."
   ]
  },
  {
   "cell_type": "code",
   "execution_count": 11,
   "id": "a44fc151-0ba8-425a-9b10-862c7edc19a3",
   "metadata": {},
   "outputs": [
    {
     "name": "stdout",
     "output_type": "stream",
     "text": [
      "   height  weight  age  taille\n",
      "b      61     123   31     160\n",
      "d      62     126   29     158\n"
     ]
    }
   ],
   "source": [
    "print(df_text.loc[mask])"
   ]
  },
  {
   "cell_type": "markdown",
   "id": "760a4da8-68b7-41fb-b8df-06de0ab35707",
   "metadata": {},
   "source": [
    "df_text.loc[mask] sẽ lọc và trả về những hàng trong df_text có giá trị mask là True."
   ]
  },
  {
   "cell_type": "markdown",
   "id": "ed4d76b1-5aab-4c15-8b81-64a05c0e09b0",
   "metadata": {},
   "source": [
    "##### 10.2.2.5 Extraction of a Single Column"
   ]
  },
  {
   "cell_type": "code",
   "execution_count": 12,
   "id": "5715e44e-43bd-499c-a0fb-39588c17e67a",
   "metadata": {},
   "outputs": [
    {
     "name": "stdout",
     "output_type": "stream",
     "text": [
      "a    115\n",
      "e    117\n",
      "Name: weight, dtype: int64\n"
     ]
    }
   ],
   "source": [
    "print(df_text['weight'].head(2))"
   ]
  },
  {
   "cell_type": "markdown",
   "id": "c90edfd7-539b-4483-a316-ebdd5d958900",
   "metadata": {},
   "source": [
    "df_text['weight'].head(2) sẽ lấy 2 phần tử đầu tiên của cột \"weight\" trong DataFrame df_text và in ra. .head(n) luôn lấy n hàng đầu tiên tính theo thứ tự xuất hiện trong DataFrame."
   ]
  },
  {
   "cell_type": "code",
   "execution_count": 13,
   "id": "6c3c0ae9-7bd0-4a63-af14-959b245c22b5",
   "metadata": {},
   "outputs": [
    {
     "name": "stdout",
     "output_type": "stream",
     "text": [
      "<class 'pandas.core.series.Series'>\n"
     ]
    }
   ],
   "source": [
    "print(type(df_text['weight']))"
   ]
  },
  {
   "cell_type": "markdown",
   "id": "0694e5db-aaa4-4066-b855-f651a369e1c5",
   "metadata": {},
   "source": [
    "type(df_text['weight']) trả về kiểu dữ liệu của cột \"weight\" trong df_text. Kết quả thường là <class 'pandas.core.series.Series'> vì một cột trong DataFrame là Series 1 chiều."
   ]
  },
  {
   "cell_type": "code",
   "execution_count": 14,
   "id": "c072c09c-b2a5-4633-a4bb-caa84000d2e1",
   "metadata": {},
   "outputs": [
    {
     "name": "stdout",
     "output_type": "stream",
     "text": [
      "a    115\n",
      "e    117\n",
      "Name: weight, dtype: int64\n"
     ]
    }
   ],
   "source": [
    "print(df_text.weight.head(2))"
   ]
  },
  {
   "cell_type": "markdown",
   "id": "4b016adb-f13f-486e-948f-469c2d341b2f",
   "metadata": {},
   "source": [
    "df_text.weight.head(2) sẽ lấy 2 phần tử đầu tiên của cột \"weight\" trong DataFrame df_text và in ra."
   ]
  },
  {
   "cell_type": "code",
   "execution_count": 15,
   "id": "8c424578-e113-4cc7-98df-b9040154c8e2",
   "metadata": {},
   "outputs": [
    {
     "name": "stdout",
     "output_type": "stream",
     "text": [
      "Column 2 (loc):\n",
      " a    115\n",
      "e    117\n",
      "c    120\n",
      "b    123\n",
      "d    126\n",
      "Name: weight, dtype: int64\n"
     ]
    }
   ],
   "source": [
    "print(\"Column 2 (loc):\\n\", df_text.loc[:,\"weight\"])"
   ]
  },
  {
   "cell_type": "markdown",
   "id": "44c58ca1-f0e7-4b9b-b21b-c58fd22b177d",
   "metadata": {},
   "source": [
    "df_text.loc[:, \"weight\"] sẽ lấy toàn bộ dữ liệu của cột \"weight\" trong DataFrame df_text."
   ]
  },
  {
   "cell_type": "code",
   "execution_count": 16,
   "id": "d4d87b56-32a5-4f33-8ed1-4d36d2f951b6",
   "metadata": {},
   "outputs": [
    {
     "name": "stdout",
     "output_type": "stream",
     "text": [
      "Column 2 (iloc):\n",
      " a    115\n",
      "e    117\n",
      "c    120\n",
      "b    123\n",
      "d    126\n",
      "Name: weight, dtype: int64\n"
     ]
    }
   ],
   "source": [
    "print(\"Column 2 (iloc):\\n\", df_text.iloc[:,1])"
   ]
  },
  {
   "cell_type": "markdown",
   "id": "ae13caaa-c81e-4a1d-a258-2566884e2552",
   "metadata": {},
   "source": [
    "df_text.iloc[:, 1] sẽ lấy toàn bộ dữ liệu của cột thứ 2 trong DataFrame df_text."
   ]
  },
  {
   "cell_type": "markdown",
   "id": "62b30bd0-4bb8-4338-b309-8e8c4b41f186",
   "metadata": {},
   "source": [
    "##### 10.2.2.6 Extraction of Several Columns"
   ]
  },
  {
   "cell_type": "code",
   "execution_count": 17,
   "id": "14841b14-6842-44f6-8147-2755f1aeb3d4",
   "metadata": {},
   "outputs": [
    {
     "name": "stdout",
     "output_type": "stream",
     "text": [
      "   weight  height\n",
      "a     115      58\n",
      "e     117      59\n",
      "c     120      60\n",
      "b     123      61\n",
      "d     126      62\n"
     ]
    }
   ],
   "source": [
    "print(df_text[[\"weight\", \"height\"]])"
   ]
  },
  {
   "cell_type": "markdown",
   "id": "119c4e34-822d-45d3-9506-879253408b5c",
   "metadata": {},
   "source": [
    "df_text[[\"weight\", \"height\"]] sẽ lấy đồng thời nhiều cột \"weight\" và \"height\" từ DataFrame df_text."
   ]
  },
  {
   "cell_type": "code",
   "execution_count": 19,
   "id": "156a7a10-0a6a-4f73-8460-31c66ff02d0b",
   "metadata": {},
   "outputs": [
    {
     "name": "stdout",
     "output_type": "stream",
     "text": [
      "Columns from weight to height:\n",
      "    weight  height\n",
      "a     115      58\n",
      "e     117      59\n",
      "c     120      60\n",
      "b     123      61\n",
      "d     126      62\n"
     ]
    }
   ],
   "source": [
    "print(\"Columns from weight to height:\\n\", df_text.loc[:,[\"weight\", \"height\"]]) "
   ]
  },
  {
   "cell_type": "markdown",
   "id": "96434294-890d-4635-a1d9-892e07ad5619",
   "metadata": {},
   "source": [
    "df_text.loc[:, [\"weight\", \"height\"]] sẽ lấy tất cả các hàng và chỉ các cột \"weight\" và \"height\" từ DataFrame df_text. Kết quả là một DataFrame con gồm 2 cột \"weight\" và \"height\" cùng tất cả các hàng."
   ]
  },
  {
   "cell_type": "code",
   "execution_count": 20,
   "id": "32c9c008-d9d5-4236-8b6d-6237565f2fda",
   "metadata": {},
   "outputs": [
    {
     "name": "stdout",
     "output_type": "stream",
     "text": [
      "Columns 2 and 1 :\n",
      "    weight  height\n",
      "0     115      58\n",
      "1     117      59\n",
      "2     120      60\n",
      "3     123      61\n",
      "4     126      62\n"
     ]
    }
   ],
   "source": [
    "print(\"Columns 2 and 1 :\\n\", df_num.iloc[:,[1,0]])"
   ]
  },
  {
   "cell_type": "markdown",
   "id": "7b35448e-f969-4654-b99e-43ec0868dbcc",
   "metadata": {},
   "source": [
    "df_num.iloc[:, [1, 0]] sẽ lấy tất cả các hàng và chỉ các cột ở vị trí 1 và 0 trong DataFrame df_num."
   ]
  },
  {
   "cell_type": "markdown",
   "id": "3d704c91-b401-4fbb-a86a-067eae24eb4f",
   "metadata": {},
   "source": [
    "##### 10.2.2.7 Slicing Several Columns"
   ]
  },
  {
   "cell_type": "code",
   "execution_count": 21,
   "id": "79304d79-e2cb-415b-8e09-41f8b7a9da35",
   "metadata": {},
   "outputs": [
    {
     "name": "stdout",
     "output_type": "stream",
     "text": [
      "Columns 2 and 2:\n",
      "    height  weight  age\n",
      "a      58     115   28\n",
      "e      59     117   33\n",
      "c      60     120   31\n",
      "b      61     123   31\n",
      "d      62     126   29\n"
     ]
    }
   ],
   "source": [
    "print(\"Columns 2 and 2:\\n\", df_text.loc[:, \"height\":\"age\"])"
   ]
  },
  {
   "cell_type": "markdown",
   "id": "f79f4bfe-21d2-4675-81d2-6bf57e15cc80",
   "metadata": {},
   "source": [
    "df_text.loc[:, \"height\":\"age\"] sẽ lấy tất cả các hàng và các cột từ \"height\" đến \"age\" trong DataFrame df_text."
   ]
  },
  {
   "cell_type": "code",
   "execution_count": 22,
   "id": "bb54ad10-63d3-4c4f-a390-1e9b5865d5cf",
   "metadata": {},
   "outputs": [
    {
     "name": "stdout",
     "output_type": "stream",
     "text": [
      "Columns from position 0 to 2 (not included) :\n",
      "    height  weight\n",
      "a      58     115\n",
      "e      59     117\n",
      "c      60     120\n",
      "b      61     123\n",
      "d      62     126\n"
     ]
    }
   ],
   "source": [
    "print(\"Columns from position 0 to 2 (not included) :\\n\",\n",
    "      df_text.iloc[:, 0:2])"
   ]
  },
  {
   "cell_type": "markdown",
   "id": "bf1cda7b-cf34-4577-b7f4-d80a619a09f0",
   "metadata": {},
   "source": [
    "df_text.iloc[:, 0:2] sẽ lấy tất cả các hàng và các cột từ vị trí 0 đến trước vị trí 2 trong DataFrame df_text."
   ]
  },
  {
   "cell_type": "markdown",
   "id": "32422cc4-e067-4b6e-9425-b32d48e50d1d",
   "metadata": {},
   "source": [
    "##### 10.2.2.8 Extraction of Rows and Columns"
   ]
  },
  {
   "cell_type": "code",
   "execution_count": 24,
   "id": "4429c563-dc70-40dc-aabf-95bd450a34e2",
   "metadata": {},
   "outputs": [
    {
     "name": "stdout",
     "output_type": "stream",
     "text": [
      "   weight  age\n",
      "a     115   28\n",
      "e     117   33\n"
     ]
    }
   ],
   "source": [
    "print(df_text.iloc[0:2, 1:3])"
   ]
  },
  {
   "cell_type": "markdown",
   "id": "bb38f7ac-8738-4aeb-b5bc-5abde7341089",
   "metadata": {},
   "source": [
    "df_text.iloc[0:2, 1:3] sẽ lấy một phần của DataFrame df_text. Kết quả là một DataFrame con gồm 2 hàng và 2 cột theo thứ tự vị trí."
   ]
  },
  {
   "cell_type": "code",
   "execution_count": 25,
   "id": "2d5c42fd-363e-4a15-ab08-d3becbe942f9",
   "metadata": {},
   "outputs": [
    {
     "data": {
      "text/html": [
       "<div>\n",
       "<style scoped>\n",
       "    .dataframe tbody tr th:only-of-type {\n",
       "        vertical-align: middle;\n",
       "    }\n",
       "\n",
       "    .dataframe tbody tr th {\n",
       "        vertical-align: top;\n",
       "    }\n",
       "\n",
       "    .dataframe thead th {\n",
       "        text-align: right;\n",
       "    }\n",
       "</style>\n",
       "<table border=\"1\" class=\"dataframe\">\n",
       "  <thead>\n",
       "    <tr style=\"text-align: right;\">\n",
       "      <th></th>\n",
       "      <th>weight</th>\n",
       "      <th>age</th>\n",
       "    </tr>\n",
       "  </thead>\n",
       "  <tbody>\n",
       "    <tr>\n",
       "      <th>a</th>\n",
       "      <td>115</td>\n",
       "      <td>28</td>\n",
       "    </tr>\n",
       "    <tr>\n",
       "      <th>c</th>\n",
       "      <td>120</td>\n",
       "      <td>31</td>\n",
       "    </tr>\n",
       "  </tbody>\n",
       "</table>\n",
       "</div>"
      ],
      "text/plain": [
       "   weight  age\n",
       "a     115   28\n",
       "c     120   31"
      ]
     },
     "execution_count": 25,
     "metadata": {},
     "output_type": "execute_result"
    }
   ],
   "source": [
    "df_text.loc[[\"a\", \"c\"], \"weight\":\"age\"]"
   ]
  },
  {
   "cell_type": "markdown",
   "id": "02721fe2-bc09-478b-a203-9eaccf9511b1",
   "metadata": {},
   "source": [
    "Hàng có nhãn \"a\" và \"c\" (label-based). Các cột từ \"weight\" đến \"age\" (bao gồm cả \"age\", label-based slicing). .loc dùng nhãn (label-based indexing) cho cả hàng và cột. Kết quả là một DataFrame con gồm 2 hàng và các cột \"weight\", \"age\" (và các cột nằm giữa nếu có)."
   ]
  },
  {
   "cell_type": "markdown",
   "id": "527bf5b2-5bbb-4eb1-bfe8-ed54164222c6",
   "metadata": {},
   "source": [
    "### 10.3 Renaming Columns in a Dataframe"
   ]
  },
  {
   "cell_type": "code",
   "execution_count": 28,
   "id": "7f023886-e9b7-4540-b115-fc26b3ce740b",
   "metadata": {},
   "outputs": [
    {
     "name": "stdout",
     "output_type": "stream",
     "text": [
      "   height  weight  age  taille\n",
      "0      58     115   28     162\n",
      "1      59     117   33     156\n",
      "2      60     120   31     172\n",
      "3      61     123   31     160\n",
      "4      62     126   29     158\n"
     ]
    }
   ],
   "source": [
    "dict = {\"height\" : [58, 59, 60, 61, 62], \n",
    "        \"weight\": [115, 117, 120, 123, 126], \n",
    "        \"age\": [28, 33, 31, 31, 29], \n",
    "        \"taille\": [162, 156, 172, 160, 158],\n",
    "       }\n",
    "df = pd.DataFrame(dict)\n",
    "print(df)"
   ]
  },
  {
   "cell_type": "markdown",
   "id": "92b4f351-b855-4759-9982-48fc44237327",
   "metadata": {},
   "source": [
    "Dòng code này tạo một DataFrame df từ dictionary dict và in ra nó."
   ]
  },
  {
   "cell_type": "code",
   "execution_count": 29,
   "id": "b8b056ce-104e-44ce-aa1a-63594b37c0d1",
   "metadata": {},
   "outputs": [
    {
     "name": "stdout",
     "output_type": "stream",
     "text": [
      "   height  weight  age  height\n",
      "0      58     115   28     162\n",
      "1      59     117   33     156\n",
      "2      60     120   31     172\n",
      "3      61     123   31     160\n",
      "4      62     126   29     158\n"
     ]
    }
   ],
   "source": [
    "df.rename(index=str, columns={\"taille\": \"height\"}, inplace=True) \n",
    "print(df)"
   ]
  },
  {
   "cell_type": "markdown",
   "id": "a602c783-5813-486c-a922-5242b66a9ee0",
   "metadata": {},
   "source": [
    "Dòng code này đổi tên cột \"taille\" thành \"height\" trong DataFrame df và in ra"
   ]
  },
  {
   "cell_type": "code",
   "execution_count": 30,
   "id": "a8004e71-14f5-4f37-bdd0-7c309b5ed052",
   "metadata": {},
   "outputs": [
    {
     "name": "stdout",
     "output_type": "stream",
     "text": [
      "   height  weight_pounds  years  height\n",
      "0      58            115     28     162\n",
      "1      59            117     33     156\n",
      "2      60            120     31     172\n",
      "3      61            123     31     160\n",
      "4      62            126     29     158\n"
     ]
    }
   ],
   "source": [
    "df.rename(index=str,\n",
    "          columns={\"weight\": \"weight_pounds\", \"age\" : \"years\"}, \n",
    "          inplace=True)\n",
    "print(df)"
   ]
  },
  {
   "cell_type": "markdown",
   "id": "1c3a0595-7494-4392-98ab-f85be479629a",
   "metadata": {},
   "source": [
    "Dòng code này đổi tên các cột trong DataFrame df và in ra kết quả."
   ]
  },
  {
   "cell_type": "markdown",
   "id": "28c1c903-58cb-425c-8d4a-251a6fbe7340",
   "metadata": {},
   "source": [
    "### 10.4 Filtering"
   ]
  },
  {
   "cell_type": "code",
   "execution_count": 31,
   "id": "579c25bc-e3c3-4a97-91af-a910631bfc44",
   "metadata": {},
   "outputs": [
    {
     "name": "stdout",
     "output_type": "stream",
     "text": [
      "   height  weight  age  height_cm\n",
      "0      58     115   28        162\n",
      "1      59     117   33        156\n",
      "2      60     120   31        172\n",
      "3      61     123   31        160\n",
      "4      62     126   29        158\n"
     ]
    }
   ],
   "source": [
    "dict = {\"height\" : [58, 59, 60, 61, 62], \n",
    "        \"weight\": [115, 117, 120, 123, 126], \n",
    "        \"age\": [28, 33, 31, 31, 29], \n",
    "        \"height_cm\": [162, 156, 172, 160, 158],\n",
    "       }\n",
    "df = pd.DataFrame(dict)\n",
    "print(df)"
   ]
  },
  {
   "cell_type": "markdown",
   "id": "bacb5bab-87e1-492f-9679-59e4e3f2d16b",
   "metadata": {},
   "source": [
    "Dòng code này tạo một DataFrame df mới từ dictionary dict và in ra nó."
   ]
  },
  {
   "cell_type": "code",
   "execution_count": 33,
   "id": "f5f78bd2-3654-42c1-8e57-dba3df66e740",
   "metadata": {},
   "outputs": [
    {
     "name": "stdout",
     "output_type": "stream",
     "text": [
      "0     True\n",
      "1    False\n",
      "2    False\n",
      "3    False\n",
      "4     True\n",
      "Name: age, dtype: bool\n"
     ]
    }
   ],
   "source": [
    "mask = df[\"age\"] < 30 \n",
    "print(mask)"
   ]
  },
  {
   "cell_type": "markdown",
   "id": "65c2ba05-5d28-4ee8-b131-a038e5fb94cd",
   "metadata": {},
   "source": [
    "Dòng code này tạo một mask boolean để xác định những hàng trong DataFrame df có giá trị cột \"age\" nhỏ hơn 30."
   ]
  },
  {
   "cell_type": "code",
   "execution_count": 34,
   "id": "82de4ffa-29ae-4de5-9bd5-81013ad79b43",
   "metadata": {},
   "outputs": [
    {
     "name": "stdout",
     "output_type": "stream",
     "text": [
      "   height  weight  age  height_cm\n",
      "0      58     115   28        162\n",
      "4      62     126   29        158\n"
     ]
    }
   ],
   "source": [
    "print(df.loc[mask])"
   ]
  },
  {
   "cell_type": "markdown",
   "id": "9f3a5c73-5a6a-4f99-a67b-24ce5b13a4ca",
   "metadata": {},
   "source": [
    "df.loc[mask] sẽ lọc và trả về các hàng của DataFrame df mà điều kiện trong mask là True."
   ]
  },
  {
   "cell_type": "code",
   "execution_count": 35,
   "id": "d2837994-7d62-4a3f-ab14-7f15d056eb50",
   "metadata": {},
   "outputs": [
    {
     "name": "stdout",
     "output_type": "stream",
     "text": [
      "   height  weight  age  height_cm\n",
      "0      58     115   28        162\n",
      "4      62     126   29        158\n"
     ]
    }
   ],
   "source": [
    "print(df[mask])"
   ]
  },
  {
   "cell_type": "markdown",
   "id": "e16bebdf-de76-4eec-8514-f4bb01d84576",
   "metadata": {},
   "source": [
    "df[mask] cũng lọc và trả về các hàng của DataFrame df mà điều kiện trong mask là True."
   ]
  },
  {
   "cell_type": "code",
   "execution_count": 36,
   "id": "a71657a3-0cda-41cd-8b4c-3a0ac420673e",
   "metadata": {},
   "outputs": [
    {
     "name": "stdout",
     "output_type": "stream",
     "text": [
      "   height  weight  age  height_cm\n",
      "0      58     115   28        162\n",
      "4      62     126   29        158\n"
     ]
    }
   ],
   "source": [
    "print(df.query(\"age<30\"))"
   ]
  },
  {
   "cell_type": "markdown",
   "id": "4e0a4c6c-0473-4ccd-9e5b-3294d09f7683",
   "metadata": {},
   "source": [
    "df.query(\"age<30\") sẽ lọc và trả về các hàng của DataFrame df mà giá trị cột \"age\" nhỏ hơn 30."
   ]
  },
  {
   "cell_type": "code",
   "execution_count": 37,
   "id": "156ba606-870f-4f03-a87c-11f1e4f64a40",
   "metadata": {},
   "outputs": [
    {
     "name": "stdout",
     "output_type": "stream",
     "text": [
      "   height  weight  age  height_cm\n",
      "3      61     123   31        160\n"
     ]
    }
   ],
   "source": [
    "print(df.query(\"weight > 120 and height < 62\"))"
   ]
  },
  {
   "cell_type": "markdown",
   "id": "5b1488ad-529d-4d19-a89e-fcd42f4299f3",
   "metadata": {},
   "source": [
    "df.query(\"weight > 120 and height < 62\") sẽ lọc và trả về các hàng của DataFrame df mà giá trị cột \"weight\" lớn hơn 120 và \"height\" nhỏ hơn 62."
   ]
  },
  {
   "cell_type": "code",
   "execution_count": 38,
   "id": "eb644fca-c0b4-4fbf-9801-7a035f542113",
   "metadata": {},
   "outputs": [
    {
     "name": "stdout",
     "output_type": "stream",
     "text": [
      "   height  weight  age  height_cm\n",
      "3      61     123   31        160\n"
     ]
    }
   ],
   "source": [
    "print(df.query(\"weight > 120\").query(\"height < 62\"))"
   ]
  },
  {
   "cell_type": "markdown",
   "id": "365e5c60-0eb1-42b3-b1a7-1548e745e8a1",
   "metadata": {},
   "source": [
    "df.query(\"weight > 120\").query(\"height < 62\") sẽ lọc các hàng của DataFrame df theo hai điều kiện tuần tự:\n",
    "\n",
    ".query(\"weight > 120\") chọn các hàng có \"weight\" lớn hơn 120.\n",
    "\n",
    ".query(\"height < 62\") tiếp tục lọc các hàng đã chọn mà \"height\" nhỏ hơn 62.\n",
    "\n",
    "Kết quả cuối cùng là một DataFrame con chỉ gồm những hàng thỏa mãn cả hai điều kiện."
   ]
  },
  {
   "cell_type": "markdown",
   "id": "0b0d0ca9-4595-4293-a5bf-9bdb3e7648a1",
   "metadata": {},
   "source": [
    "#### 10.4.1 Checking whether a value belongs to dataframe"
   ]
  },
  {
   "cell_type": "code",
   "execution_count": 39,
   "id": "75f4eeff-cc82-4401-a756-c7377fa3a445",
   "metadata": {},
   "outputs": [
    {
     "data": {
      "text/plain": [
       "0    False\n",
       "1     True\n",
       "2     True\n",
       "3    False\n",
       "4    False\n",
       "Name: height, dtype: bool"
      ]
     },
     "execution_count": 39,
     "metadata": {},
     "output_type": "execute_result"
    }
   ],
   "source": [
    "df.height.isin(np.arange(59,61))"
   ]
  },
  {
   "cell_type": "markdown",
   "id": "cb8979f4-7775-4190-be7d-461d61fbda4f",
   "metadata": {},
   "source": [
    "df.height.isin(np.arange(59, 61)) sẽ kiểm tra từng giá trị trong cột height của DataFrame df xem có nằm trong khoảng từ 59 đến 60 hay không."
   ]
  },
  {
   "cell_type": "markdown",
   "id": "8b7bd16d-3d1b-4b99-bb1c-ee7a8f354fa0",
   "metadata": {},
   "source": [
    "### 10.5 Missing Values"
   ]
  },
  {
   "cell_type": "code",
   "execution_count": 40,
   "id": "97e35884-2c43-4a26-80b6-a9aa4e0555c2",
   "metadata": {},
   "outputs": [
    {
     "name": "stdout",
     "output_type": "stream",
     "text": [
      "[1 4 -1 None]\n"
     ]
    }
   ],
   "source": [
    "table_none = np.array([1, 4, -1, None]) \n",
    "print(table_none)"
   ]
  },
  {
   "cell_type": "markdown",
   "id": "1486a085-0501-44da-a1e8-22fddb8c7cce",
   "metadata": {},
   "source": [
    "Dòng code này tạo một mảng NumPy table_none từ danh sách [1, 4, -1, None] và in ra nó."
   ]
  },
  {
   "cell_type": "code",
   "execution_count": 41,
   "id": "6b1ddb24-5eee-4c04-aac4-ba12773633d7",
   "metadata": {},
   "outputs": [
    {
     "name": "stdout",
     "output_type": "stream",
     "text": [
      "<class 'numpy.ndarray'>\n"
     ]
    }
   ],
   "source": [
    "print(type(table_none))"
   ]
  },
  {
   "cell_type": "markdown",
   "id": "dd89200e-ae66-43d7-973e-021773e77793",
   "metadata": {},
   "source": [
    "In ra màn hình kiểu dữ liệu (data type) của biến table_none."
   ]
  },
  {
   "cell_type": "code",
   "execution_count": 42,
   "id": "252d7118-7098-4348-a091-383ae99da523",
   "metadata": {},
   "outputs": [
    {
     "name": "stdout",
     "output_type": "stream",
     "text": [
      "[ 1.  4. -1. nan]\n"
     ]
    }
   ],
   "source": [
    "table_none = np.array([1, 4, -1, np.nan]) \n",
    "print(table_none)"
   ]
  },
  {
   "cell_type": "markdown",
   "id": "0fed85bb-b0d7-4e1e-b3ea-f506f8aef28c",
   "metadata": {},
   "source": [
    "Tạo một mảng NumPy table_none chứa các giá trị 1, 4, -1 và giá trị rỗng NaN, sau đó in toàn bộ mảng này ra màn hình."
   ]
  },
  {
   "cell_type": "code",
   "execution_count": 43,
   "id": "4e00814f-ebc6-446c-a779-f3b208c7c1d2",
   "metadata": {},
   "outputs": [
    {
     "name": "stdout",
     "output_type": "stream",
     "text": [
      "<class 'numpy.ndarray'>\n"
     ]
    }
   ],
   "source": [
    "print(type(table_none))"
   ]
  },
  {
   "cell_type": "markdown",
   "id": "84ad844d-c424-45b3-9b98-0587bd2b5ef2",
   "metadata": {},
   "source": [
    "Lệnh print(type(table_none)) sẽ in ra kiểu dữ liệu của biến table_none."
   ]
  },
  {
   "cell_type": "code",
   "execution_count": 44,
   "id": "2c893894-5b35-4577-8853-4b2388d1a010",
   "metadata": {},
   "outputs": [
    {
     "name": "stdout",
     "output_type": "stream",
     "text": [
      "0    1.0\n",
      "1    NaN\n",
      "2   -1.0\n",
      "3    NaN\n",
      "dtype: float64\n"
     ]
    }
   ],
   "source": [
    "s = pd.Series([1, None, -1, np.nan]) \n",
    "print(s)"
   ]
  },
  {
   "cell_type": "markdown",
   "id": "780185e7-c0a4-4906-9f11-736c96e8de55",
   "metadata": {},
   "source": [
    "Tạo một đối tượng Series của Pandas gồm các giá trị 1, None, -1 và NaN, sau đó in toàn bộ Series đó ra màn hình."
   ]
  },
  {
   "cell_type": "code",
   "execution_count": 45,
   "id": "321cfdb9-9c67-491a-922f-eb5584286f45",
   "metadata": {},
   "outputs": [
    {
     "name": "stdout",
     "output_type": "stream",
     "text": [
      "<class 'pandas.core.series.Series'>\n"
     ]
    }
   ],
   "source": [
    "print(type(s))"
   ]
  },
  {
   "cell_type": "markdown",
   "id": "daef9d54-fd96-42f1-9e9e-80f06dfa45a0",
   "metadata": {},
   "source": [
    "Lệnh print(type(s)) sẽ in ra kiểu dữ liệu của biến s. Tức là s là một đối tượng Series của Pandas."
   ]
  },
  {
   "cell_type": "code",
   "execution_count": 5,
   "id": "cf09af71-6c41-4154-8615-7a3383f98cfc",
   "metadata": {},
   "outputs": [
    {
     "name": "stdout",
     "output_type": "stream",
     "text": [
      "   height  weight   age  height_cm\n",
      "0    58.0     115  28.0        162\n",
      "1    59.0     117  33.0        156\n",
      "2    60.0     120  31.0        172\n",
      "3    61.0     123   NaN        160\n",
      "4     NaN     126  29.0        158\n"
     ]
    }
   ],
   "source": [
    "dict = {\"height\" : [58, 59, 60, 61, np.nan], \n",
    "        \"weight\": [115, 117, 120, 123, 126], \n",
    "        \"age\": [28, 33, 31, np.nan, 29], \n",
    "        \"height_cm\": [162, 156, 172, 160, 158],\n",
    "       }\n",
    "df = pd.DataFrame(dict)\n",
    "print(df)"
   ]
  },
  {
   "cell_type": "markdown",
   "id": "4a4c18ad-4d8b-42b7-a207-d27106556032",
   "metadata": {},
   "source": [
    "Tạo một DataFrame của Pandas từ một dictionary dict chứa các cột height, weight, age, height_cm, sau đó in toàn bộ bảng dữ liệu này ra màn hình."
   ]
  },
  {
   "cell_type": "code",
   "execution_count": 48,
   "id": "9301d2c7-53c2-4c8b-8563-5d552b86005c",
   "metadata": {},
   "outputs": [
    {
     "name": "stdout",
     "output_type": "stream",
     "text": [
      "height       float64\n",
      "weight         int64\n",
      "age          float64\n",
      "height_cm      int64\n",
      "dtype: object\n"
     ]
    }
   ],
   "source": [
    "print(df.dtypes)"
   ]
  },
  {
   "cell_type": "markdown",
   "id": "cee70890-3b89-4974-9680-5111f450eb83",
   "metadata": {},
   "source": [
    "Lệnh print(df.dtypes) sẽ in ra kiểu dữ liệu của từng cột trong DataFrame df."
   ]
  },
  {
   "cell_type": "markdown",
   "id": "04497a85-cce0-4d3a-8373-d8e3baa76b61",
   "metadata": {},
   "source": [
    "#### 10.5.1 Identify Missing Values"
   ]
  },
  {
   "cell_type": "code",
   "execution_count": 49,
   "id": "6f93b61e-741f-4ad5-b253-56a080bb912e",
   "metadata": {},
   "outputs": [
    {
     "name": "stdout",
     "output_type": "stream",
     "text": [
      "0    False\n",
      "1     True\n",
      "2    False\n",
      "3     True\n",
      "dtype: bool\n"
     ]
    }
   ],
   "source": [
    "print(s.isnull())"
   ]
  },
  {
   "cell_type": "markdown",
   "id": "26b2ec80-09a5-4300-9199-b73e086b9dc2",
   "metadata": {},
   "source": [
    "Lệnh print(s.isnull()) sẽ trả về một Series giá trị True/False cho biết phần tử nào trong s bị thiếu dữ liệu (NaN)."
   ]
  },
  {
   "cell_type": "code",
   "execution_count": 50,
   "id": "47fa298e-c5ab-44b5-ba4b-8f25a0615d81",
   "metadata": {},
   "outputs": [
    {
     "name": "stdout",
     "output_type": "stream",
     "text": [
      "0     True\n",
      "1    False\n",
      "2     True\n",
      "3    False\n",
      "dtype: bool\n"
     ]
    }
   ],
   "source": [
    "print(s.notnull())"
   ]
  },
  {
   "cell_type": "markdown",
   "id": "3c937bd2-2e56-4fa3-825c-d871ec7d9c1b",
   "metadata": {},
   "source": [
    "Lệnh print(s.notnull()) sẽ trả về một Series giá trị True/False cho biết phần tử nào trong s không bị thiếu dữ liệu."
   ]
  },
  {
   "cell_type": "markdown",
   "id": "54f29c5f-73ad-42ae-bb16-a86cbc7d11c4",
   "metadata": {},
   "source": [
    "#### 10.5.2 Remove Observations with Missing Values"
   ]
  },
  {
   "cell_type": "code",
   "execution_count": 6,
   "id": "abb20717-3564-4a50-86e3-b7e997af4164",
   "metadata": {},
   "outputs": [
    {
     "name": "stdout",
     "output_type": "stream",
     "text": [
      "   height  weight   age  height_cm\n",
      "0    58.0     115  28.0        162\n",
      "1    59.0     117  33.0        156\n",
      "2    60.0     120  31.0        172\n"
     ]
    }
   ],
   "source": [
    "print(df.dropna())"
   ]
  },
  {
   "cell_type": "markdown",
   "id": "b9c17018-db70-4bc9-900f-187a34cabc74",
   "metadata": {},
   "source": [
    "Lệnh print(df.dropna()) sẽ trả về một DataFrame mới đã loại bỏ toàn bộ các hàng (row) có ít nhất một giá trị bị thiếu (NaN)."
   ]
  },
  {
   "cell_type": "markdown",
   "id": "d0c9e20c-d06f-4293-9349-699d94b1e4f9",
   "metadata": {},
   "source": [
    "#### 10.5.3 Removing Missing Values by Other Values"
   ]
  },
  {
   "cell_type": "code",
   "execution_count": 7,
   "id": "d5c28efa-2a5f-4c78-a36d-0e194dd39bed",
   "metadata": {},
   "outputs": [
    {
     "name": "stdout",
     "output_type": "stream",
     "text": [
      "   height  weight     age  height_cm\n",
      "0    58.0     115    28.0        162\n",
      "1    59.0     117    33.0        156\n",
      "2    60.0     120    31.0        172\n",
      "3    61.0     123 -9999.0        160\n",
      "4 -9999.0     126    29.0        158\n"
     ]
    }
   ],
   "source": [
    "print(df.fillna(-9999))"
   ]
  },
  {
   "cell_type": "markdown",
   "id": "976bcf8f-5832-4a21-8460-ed00aa5bb85a",
   "metadata": {},
   "source": [
    "Lệnh print(df.fillna(-9999)) sẽ trả về một DataFrame mới, trong đó tất cả các giá trị bị thiếu (NaN) được thay thế bằng -9999."
   ]
  },
  {
   "cell_type": "markdown",
   "id": "9b88a4b3-12cc-4bba-bf0f-70475d5dfbe0",
   "metadata": {},
   "source": [
    "### 10.6 Deletions"
   ]
  },
  {
   "cell_type": "markdown",
   "id": "fbfe0a12-d297-4d0f-99b4-613bf6fd5577",
   "metadata": {},
   "source": [
    "#### 10.6.1 Deleting Elements in a Series"
   ]
  },
  {
   "cell_type": "code",
   "execution_count": 9,
   "id": "09a6248b-4c77-4111-bfa9-2d4ac470ac2b",
   "metadata": {},
   "outputs": [
    {
     "name": "stdout",
     "output_type": "stream",
     "text": [
      "for s_num: \n",
      " 0    4.0\n",
      "4   -1.0\n",
      "1    NaN\n",
      "dtype: float64\n"
     ]
    }
   ],
   "source": [
    "s_num = pd.Series([1, 4, -1, np.nan], \n",
    "                  index = [5, 0, 4, 1])\n",
    "s_text = pd.Series([1, 4, -1, np.nan], \n",
    "                   index = [\"c\", \"a\", \"b\", \"d\"])\n",
    "print(\"for s_num: \\n\", s_num.drop(5))"
   ]
  },
  {
   "cell_type": "markdown",
   "id": "8c2b10bb-1037-46ed-ba33-0ae9ead6c148",
   "metadata": {},
   "source": [
    "Tạo hai Series s_num và s_text với cùng dữ liệu [1, 4, -1, np.nan] nhưng khác chỉ số (index). Sau đó, với s_num, dùng .drop(5) để trả về một Series mới đã loại bỏ phần tử có chỉ số là 5, rồi in ra."
   ]
  },
  {
   "cell_type": "code",
   "execution_count": 12,
   "id": "6ee7e5a0-892a-4c28-911f-ad6f538521a9",
   "metadata": {},
   "outputs": [
    {
     "name": "stdout",
     "output_type": "stream",
     "text": [
      "\n",
      "for s_text: \n",
      " a    4.0\n",
      "b   -1.0\n",
      "d    NaN\n",
      "dtype: float64\n"
     ]
    }
   ],
   "source": [
    "print(\"\\nfor s_text: \\n\", s_text.drop(\"c\"))"
   ]
  },
  {
   "cell_type": "markdown",
   "id": "e9e7f5cc-56a4-4416-b49a-9b4fc2a153ae",
   "metadata": {},
   "source": [
    "Tạo một Series mới từ s_text sau khi bỏ đi phần tử có index \"c\"."
   ]
  },
  {
   "cell_type": "code",
   "execution_count": 11,
   "id": "cedf9ce4-d402-47a3-a21b-a4e82423f7b1",
   "metadata": {},
   "outputs": [
    {
     "name": "stdout",
     "output_type": "stream",
     "text": [
      "s_num.index[0]:  5\n"
     ]
    }
   ],
   "source": [
    "print(\"s_num.index[0]: \", s_num.index[0])"
   ]
  },
  {
   "cell_type": "markdown",
   "id": "5ce767a0-9514-4ddc-b1dc-12275cea59b0",
   "metadata": {},
   "source": [
    "Lấy và in ra giá trị của phần tử đầu tiên trong chỉ số (index) của s_num."
   ]
  },
  {
   "cell_type": "code",
   "execution_count": 13,
   "id": "0426a90d-cd18-44e1-ae32-0b2e88dd7e9d",
   "metadata": {},
   "outputs": [
    {
     "name": "stdout",
     "output_type": "stream",
     "text": [
      "s_text.index[0]:  c\n"
     ]
    }
   ],
   "source": [
    "print(\"s_text.index[0]: \", s_text.index[0])"
   ]
  },
  {
   "cell_type": "markdown",
   "id": "1132f3f2-693e-4535-ba53-00d984d6feae",
   "metadata": {},
   "source": [
    "Lấy và in ra giá trị của phần tử đầu tiên trong chỉ số (index) của s_text."
   ]
  },
  {
   "cell_type": "code",
   "execution_count": 14,
   "id": "8cb4c671-d4d7-4e73-8d51-a5c575406b67",
   "metadata": {},
   "outputs": [
    {
     "name": "stdout",
     "output_type": "stream",
     "text": [
      "for s_num: \n",
      " 0    4.0\n",
      "4   -1.0\n",
      "1    NaN\n",
      "dtype: float64\n"
     ]
    }
   ],
   "source": [
    "print(\"for s_num: \\n\", s_num.drop(s_num.index[0]))"
   ]
  },
  {
   "cell_type": "markdown",
   "id": "69914268-98ab-4489-b601-7b06d6078845",
   "metadata": {},
   "source": [
    "Xóa phần tử đầu tiên (theo vị trí trong index) khỏi s_num."
   ]
  },
  {
   "cell_type": "code",
   "execution_count": 16,
   "id": "53568a73-6b30-41d5-b19c-f5c6773bdbf2",
   "metadata": {},
   "outputs": [
    {
     "name": "stdout",
     "output_type": "stream",
     "text": [
      "\n",
      "for s_text: \n",
      " a    4.0\n",
      "b   -1.0\n",
      "d    NaN\n",
      "dtype: float64\n"
     ]
    }
   ],
   "source": [
    "print(\"\\nfor s_text: \\n\", s_text.drop(s_text.index[0]))"
   ]
  },
  {
   "cell_type": "markdown",
   "id": "cd304ea4-011e-474d-89dd-80dd19bfbdca",
   "metadata": {},
   "source": [
    "Xóa phần tử đầu tiên (theo vị trí trong index) khỏi s_text."
   ]
  },
  {
   "cell_type": "code",
   "execution_count": 17,
   "id": "ff6e4c0b-a3fc-4d91-ac42-cc46bc50dde5",
   "metadata": {},
   "outputs": [
    {
     "name": "stdout",
     "output_type": "stream",
     "text": [
      "for s_num: \n",
      " 0    4.0\n",
      "1    NaN\n",
      "dtype: float64\n"
     ]
    }
   ],
   "source": [
    "print(\"for s_num: \\n\", s_num.drop([5, 4]))"
   ]
  },
  {
   "cell_type": "markdown",
   "id": "7e6f36db-0a05-4e90-93e0-c5265771adb5",
   "metadata": {},
   "source": [
    "Xóa nhiều phần tử khỏi s_num dựa trên giá trị của index (ở đây là 5 và 4)."
   ]
  },
  {
   "cell_type": "code",
   "execution_count": 18,
   "id": "f6795da0-7903-4ffd-8252-4a7940766501",
   "metadata": {},
   "outputs": [
    {
     "name": "stdout",
     "output_type": "stream",
     "text": [
      "\n",
      "for s_text: \n",
      " a    4.0\n",
      "d    NaN\n",
      "dtype: float64\n"
     ]
    }
   ],
   "source": [
    "print(\"\\nfor s_text: \\n\", s_text.drop([\"c\", \"b\"]))"
   ]
  },
  {
   "cell_type": "markdown",
   "id": "e0d4408f-0f09-4d22-894a-7a46c3273fe0",
   "metadata": {},
   "source": [
    "Xóa nhiều phần tử khỏi s_text dựa trên giá trị của index (ở đây là \"c\" và \"b\")."
   ]
  },
  {
   "cell_type": "code",
   "execution_count": 19,
   "id": "91b06fe5-3eef-480e-8977-5236482bcf05",
   "metadata": {},
   "outputs": [
    {
     "name": "stdout",
     "output_type": "stream",
     "text": [
      "s_num.index[[0,2]]:  Index([5, 4], dtype='int64')\n"
     ]
    }
   ],
   "source": [
    "print(\"s_num.index[[0,2]]: \", s_num.index[[0,2]])"
   ]
  },
  {
   "cell_type": "markdown",
   "id": "af8cb7e6-494e-4ba2-a4b0-8b73ecf8e638",
   "metadata": {},
   "source": [
    "Lấy và in ra các giá trị index của s_num tại vị trí 0 và 2."
   ]
  },
  {
   "cell_type": "code",
   "execution_count": 20,
   "id": "0eeda254-e208-441a-aee6-2c5a67cd7b69",
   "metadata": {},
   "outputs": [
    {
     "name": "stdout",
     "output_type": "stream",
     "text": [
      "s_text.index[[0,2]]:  Index(['c', 'b'], dtype='object')\n"
     ]
    }
   ],
   "source": [
    "print(\"s_text.index[[0,2]]: \", s_text.index[[0,2]])"
   ]
  },
  {
   "cell_type": "markdown",
   "id": "ba372354-0b37-4c4f-8075-8a9db28c3220",
   "metadata": {},
   "source": [
    "Lấy và in ra các giá trị index của s_text tại vị trí 0 và 2."
   ]
  },
  {
   "cell_type": "code",
   "execution_count": 21,
   "id": "1fb08159-2570-457b-86b0-4aa6a2cba576",
   "metadata": {},
   "outputs": [
    {
     "name": "stdout",
     "output_type": "stream",
     "text": [
      "for s_num: \n",
      " 0    4.0\n",
      "1    NaN\n",
      "dtype: float64\n"
     ]
    }
   ],
   "source": [
    "print(\"for s_num: \\n\", s_num.drop(s_num.index[[0,2]]))"
   ]
  },
  {
   "cell_type": "markdown",
   "id": "217a241a-ac88-4ba6-a380-52ec13951752",
   "metadata": {},
   "source": [
    "Xóa các phần tử của s_num tại vị trí index 0 và 2."
   ]
  },
  {
   "cell_type": "code",
   "execution_count": 22,
   "id": "c96b9c44-53b6-4dd5-a11e-c8c0f206633c",
   "metadata": {},
   "outputs": [
    {
     "name": "stdout",
     "output_type": "stream",
     "text": [
      "\n",
      "for s_text: \n",
      " a    4.0\n",
      "d    NaN\n",
      "dtype: float64\n"
     ]
    }
   ],
   "source": [
    "print(\"\\nfor s_text: \\n\", s_text.drop(s_text.index[[0,2]]))"
   ]
  },
  {
   "cell_type": "markdown",
   "id": "d15f95af-25f6-44da-9e92-a4147244fa8d",
   "metadata": {},
   "source": [
    "Xóa các phần tử của s_text tại vị trí index 0 và 2."
   ]
  },
  {
   "cell_type": "markdown",
   "id": "25b85e6d-0d19-4e0c-8253-6b30a1903ce1",
   "metadata": {},
   "source": [
    "#### 10.6.2 Deleting Elements in a Dataframe"
   ]
  },
  {
   "cell_type": "code",
   "execution_count": 25,
   "id": "32ef376f-35cb-45d7-bf56-0d62da3dd8be",
   "metadata": {},
   "outputs": [],
   "source": [
    "s_num = pd.Series([1, 4, -1, np.nan], \n",
    "                  index = [5, 0, 4, 1])\n",
    "s_text = pd.Series([1, 4, -1, np.nan], \n",
    "                   index = [\"c\", \"a\", \"b\", \"d\"])\n",
    "dict = {\"height\" : [58, 59, 60, 61, np.nan], \n",
    "        \"weight\": [115, 117, 120, 123, 126], \n",
    "        \"age\": [28, 33, 31, np.nan, 29], \n",
    "        \"height_cm\": [162, 156, 172, 160, 158],\n",
    "       }\n",
    "df = pd.DataFrame(dict)"
   ]
  },
  {
   "cell_type": "markdown",
   "id": "c3b0009d-eb45-480f-b61d-44e6919dc60c",
   "metadata": {},
   "source": [
    "##### 10.6.2.1 Deleting Rows"
   ]
  },
  {
   "cell_type": "code",
   "execution_count": 26,
   "id": "31bf2029-7604-447b-8467-4e2c8d2eb323",
   "metadata": {},
   "outputs": [
    {
     "name": "stdout",
     "output_type": "stream",
     "text": [
      "Delete the first row:  \n",
      "    height  weight   age  height_cm\n",
      "1    59.0     117  33.0        156\n",
      "2    60.0     120  31.0        172\n",
      "3    61.0     123   NaN        160\n",
      "4     NaN     126  29.0        158\n"
     ]
    }
   ],
   "source": [
    "print(\"Delete the first row:  \\n\", df.drop(0))"
   ]
  },
  {
   "cell_type": "markdown",
   "id": "62fa3bac-9bc3-48ff-84f9-03ce159567de",
   "metadata": {},
   "source": [
    "Xóa hàng đầu tiên (theo index = 0) khỏi DataFrame df."
   ]
  },
  {
   "cell_type": "code",
   "execution_count": 28,
   "id": "3fd04711-50d9-421e-9ae9-452ae53efd36",
   "metadata": {},
   "outputs": [
    {
     "name": "stdout",
     "output_type": "stream",
     "text": [
      "Delete the first row: \n",
      "    height  weight   age  height_cm\n",
      "1    59.0     117  33.0        156\n",
      "2    60.0     120  31.0        172\n",
      "3    61.0     123   NaN        160\n",
      "4     NaN     126  29.0        158\n"
     ]
    }
   ],
   "source": [
    "label_pos_0 = df.index[0]\n",
    "print(\"Delete the first row: \\n\", df.drop(label_pos_0))"
   ]
  },
  {
   "cell_type": "markdown",
   "id": "cc97748b-d592-4d3f-9282-c0587d9ab921",
   "metadata": {},
   "source": [
    "Lấy nhãn (label) của hàng đầu tiên rồi dùng nó để xóa hàng đó khỏi DataFrame df."
   ]
  },
  {
   "cell_type": "code",
   "execution_count": 29,
   "id": "ad46728f-2f75-46c8-a21b-9a0ee6abf422",
   "metadata": {},
   "outputs": [
    {
     "name": "stdout",
     "output_type": "stream",
     "text": [
      "Delete the 1st and 4th rows: \n",
      "    height  weight   age  height_cm\n",
      "1    59.0     117  33.0        156\n",
      "2    60.0     120  31.0        172\n",
      "4     NaN     126  29.0        158\n"
     ]
    }
   ],
   "source": [
    "print(\"Delete the 1st and 4th rows: \\n\", df.drop([0,3]))"
   ]
  },
  {
   "cell_type": "markdown",
   "id": "00cb7356-dc4b-4543-ae8e-f60a7b2fd8a6",
   "metadata": {},
   "source": [
    "Xóa đồng thời hàng thứ 1 và hàng thứ 4 (theo index 0 và 3) khỏi DataFrame df."
   ]
  },
  {
   "cell_type": "code",
   "execution_count": 30,
   "id": "0470a49e-21ae-4874-902f-ca2ae3663633",
   "metadata": {},
   "outputs": [
    {
     "name": "stdout",
     "output_type": "stream",
     "text": [
      "Delete the 1st and 4th rows: \n",
      "    height  weight   age  height_cm\n",
      "1    59.0     117  33.0        156\n",
      "2    60.0     120  31.0        172\n",
      "4     NaN     126  29.0        158\n"
     ]
    }
   ],
   "source": [
    "label_pos = df.index[[0, 3]]\n",
    "print(\"Delete the 1st and 4th rows: \\n\", df.drop(label_pos))"
   ]
  },
  {
   "cell_type": "markdown",
   "id": "c8d63b09-4aec-4f47-aeef-69400c687d91",
   "metadata": {},
   "source": [
    "Lấy nhãn của hàng thứ 1 và hàng thứ 4 rồi dùng chúng để xóa các hàng này khỏi DataFrame df."
   ]
  },
  {
   "cell_type": "markdown",
   "id": "a9e020dd-fadb-48b9-a331-b5f2f76ed9ac",
   "metadata": {},
   "source": [
    "##### 10.6.2.2 Deleting Columns"
   ]
  },
  {
   "cell_type": "code",
   "execution_count": 31,
   "id": "8acf41ea-5b54-4fd2-8513-71052cb6e2e2",
   "metadata": {},
   "outputs": [
    {
     "name": "stdout",
     "output_type": "stream",
     "text": [
      "Delete the first column: \n",
      "    weight   age  height_cm\n",
      "0     115  28.0        162\n",
      "1     117  33.0        156\n",
      "2     120  31.0        172\n",
      "3     123   NaN        160\n",
      "4     126  29.0        158\n"
     ]
    }
   ],
   "source": [
    "print(\"Delete the first column: \\n\", df.drop(\"height\", axis=1))"
   ]
  },
  {
   "cell_type": "markdown",
   "id": "8c3b6b2d-1909-496d-83c8-673d4eea879d",
   "metadata": {},
   "source": [
    "Xóa cột height khỏi DataFrame df."
   ]
  },
  {
   "cell_type": "code",
   "execution_count": 33,
   "id": "97f26116-7278-4a12-9a1b-7521fe29af52",
   "metadata": {},
   "outputs": [
    {
     "name": "stdout",
     "output_type": "stream",
     "text": [
      "label_pos :  height\n"
     ]
    }
   ],
   "source": [
    "label_pos = df.columns[0] \n",
    "print(\"label_pos : \", label_pos)"
   ]
  },
  {
   "cell_type": "markdown",
   "id": "c620d8dd-302d-44c0-952c-7f931bd76ecf",
   "metadata": {},
   "source": [
    "Lấy tên của cột đầu tiên trong DataFrame df và in ra."
   ]
  },
  {
   "cell_type": "code",
   "execution_count": 34,
   "id": "bf0c1afe-1426-40da-8bbb-7ac4f0dc9c44",
   "metadata": {},
   "outputs": [
    {
     "name": "stdout",
     "output_type": "stream",
     "text": [
      "Delete the first column: \n",
      "    weight   age  height_cm\n",
      "0     115  28.0        162\n",
      "1     117  33.0        156\n",
      "2     120  31.0        172\n",
      "3     123   NaN        160\n",
      "4     126  29.0        158\n"
     ]
    }
   ],
   "source": [
    "print(\"Delete the first column: \\n\", df.drop(label_pos, axis=1))"
   ]
  },
  {
   "cell_type": "markdown",
   "id": "ba91db5e-d9a2-447f-8d9a-2ff2f25de973",
   "metadata": {},
   "source": [
    "Xóa cột đầu tiên (dựa trên tên đã lưu trong label_pos) khỏi DataFrame df."
   ]
  },
  {
   "cell_type": "code",
   "execution_count": 35,
   "id": "db96fd9b-90db-4cc7-8b42-2c7224838ffa",
   "metadata": {},
   "outputs": [
    {
     "name": "stdout",
     "output_type": "stream",
     "text": [
      "Delete the 1st and 4th columns: \n",
      "    weight   age\n",
      "0     115  28.0\n",
      "1     117  33.0\n",
      "2     120  31.0\n",
      "3     123   NaN\n",
      "4     126  29.0\n"
     ]
    }
   ],
   "source": [
    "print(\"Delete the 1st and 4th columns: \\n\", \n",
    "      df.drop([\"height\", \"height_cm\"], axis = 1))"
   ]
  },
  {
   "cell_type": "markdown",
   "id": "52fd3322-7a08-438d-9efc-6f1d3d161054",
   "metadata": {},
   "source": [
    "Xóa đồng thời cột thứ 1 và cột thứ 4 (height và height_cm) khỏi DataFrame df."
   ]
  },
  {
   "cell_type": "code",
   "execution_count": 36,
   "id": "e7365504-93cd-4e0e-901b-825d8f40dad6",
   "metadata": {},
   "outputs": [
    {
     "name": "stdout",
     "output_type": "stream",
     "text": [
      "Delete the 1st and 4th columns: \n",
      "    weight   age\n",
      "0     115  28.0\n",
      "1     117  33.0\n",
      "2     120  31.0\n",
      "3     123   NaN\n",
      "4     126  29.0\n"
     ]
    }
   ],
   "source": [
    "label_pos = df.columns[[0, 3]]\n",
    "print(\"Delete the 1st and 4th columns: \\n\", df.drop(label_pos, axis=1))"
   ]
  },
  {
   "cell_type": "markdown",
   "id": "b3c25f89-1a6b-43b8-b4bd-aa42b3f145cb",
   "metadata": {},
   "source": [
    "Lấy tên của cột thứ 1 và thứ 4 rồi dùng chúng để xóa các cột này khỏi DataFrame df."
   ]
  },
  {
   "cell_type": "markdown",
   "id": "3c29dbf6-6e26-447d-bfef-b5bf3c8f4629",
   "metadata": {},
   "source": [
    "### 10.7 Replacing Values"
   ]
  },
  {
   "cell_type": "markdown",
   "id": "94b70b41-9051-4961-bcab-22e0de65cf80",
   "metadata": {},
   "source": [
    "#### 10.7.1 For a Series"
   ]
  },
  {
   "cell_type": "code",
   "execution_count": 37,
   "id": "827e99c0-446b-4ce1-ae69-fd0ed2b51eb2",
   "metadata": {},
   "outputs": [
    {
     "name": "stdout",
     "output_type": "stream",
     "text": [
      "s_num:  5    1.0\n",
      "0    4.0\n",
      "4   -1.0\n",
      "1    NaN\n",
      "dtype: float64\n"
     ]
    }
   ],
   "source": [
    "s_num = pd.Series([1, 4, -1, np.nan], \n",
    "                  index = [5, 0, 4, 1])\n",
    "print(\"s_num: \", s_num)"
   ]
  },
  {
   "cell_type": "markdown",
   "id": "50385d99-ef91-425d-b907-d01b4cc8222f",
   "metadata": {},
   "source": [
    "Tạo một Series s_num với dữ liệu và chỉ số cho trước, rồi in ra."
   ]
  },
  {
   "cell_type": "code",
   "execution_count": 38,
   "id": "1154f82b-9669-4d55-8b22-a3cbdb7af4a1",
   "metadata": {},
   "outputs": [
    {
     "name": "stdout",
     "output_type": "stream",
     "text": [
      "s_num:  5    1.0\n",
      "0   -3.0\n",
      "4   -1.0\n",
      "1    NaN\n",
      "dtype: float64\n"
     ]
    }
   ],
   "source": [
    "s_num.iloc[1] = -3 \n",
    "print(\"s_num: \", s_num)"
   ]
  },
  {
   "cell_type": "markdown",
   "id": "3b197ce2-2b12-4841-b070-59b1b3d0605b",
   "metadata": {},
   "source": [
    "Thay đổi giá trị tại vị trí thứ 2 (chỉ số vị trí = 1) của s_num thành -3, rồi in ra."
   ]
  },
  {
   "cell_type": "code",
   "execution_count": 39,
   "id": "a97b501a-985c-451e-8145-545b81712040",
   "metadata": {},
   "outputs": [
    {
     "name": "stdout",
     "output_type": "stream",
     "text": [
      "5     1.0\n",
      "0   -10.0\n",
      "4    -1.0\n",
      "1    -9.0\n",
      "dtype: float64\n"
     ]
    }
   ],
   "source": [
    "s_num.iloc[[1,3]] = [-10, -9] \n",
    "print(s_num)"
   ]
  },
  {
   "cell_type": "markdown",
   "id": "0cd1f878-8d8b-46b7-bcd9-67fc84e171e6",
   "metadata": {},
   "source": [
    "Thay đổi giá trị tại vị trí thứ 2 và thứ 4 của s_num thành -10 và -9, rồi in ra."
   ]
  },
  {
   "cell_type": "markdown",
   "id": "d1bea132-fe9b-4378-92da-679b42c4f4eb",
   "metadata": {},
   "source": [
    "#### 10.7.2 For a Dataframe"
   ]
  },
  {
   "cell_type": "code",
   "execution_count": 40,
   "id": "f27aa306-12e9-4d13-bd09-6aec55dc206c",
   "metadata": {},
   "outputs": [
    {
     "name": "stdout",
     "output_type": "stream",
     "text": [
      "df: \n",
      "         city  year  x  y\n",
      "0  Marseille  2019  1  3\n",
      "1        Aix  2019  2  3\n",
      "2  Marseille  2018  2  2\n",
      "3        Aix  2018  2  1\n",
      "4      Paris  2019  0  4\n",
      "5      Paris  2019  0  4\n"
     ]
    }
   ],
   "source": [
    "dict = {\"city\" : [\"Marseille\", \"Aix\",\n",
    "                  \"Marseille\", \"Aix\", \"Paris\", \"Paris\"],\n",
    "        \"year\": [2019, 2019, 2018, 2018,2019, 2019],\n",
    "        \"x\": [1, 2, 2, 2, 0, 0],\n",
    "        \"y\": [3, 3, 2, 1, 4, 4],\n",
    "       }\n",
    "df = pd.DataFrame(dict)\n",
    "print(\"df: \\n\", df)"
   ]
  },
  {
   "cell_type": "markdown",
   "id": "846b0e4a-ac2f-427d-82af-cc09f20f2d48",
   "metadata": {},
   "source": [
    "Tạo một DataFrame df từ dictionary cho trước và in ra."
   ]
  },
  {
   "cell_type": "markdown",
   "id": "7d004a82-fd7a-45b4-8c64-1707ef142cec",
   "metadata": {},
   "source": [
    "##### 10.7.2.1 Changes of a Particular Value"
   ]
  },
  {
   "cell_type": "code",
   "execution_count": 5,
   "id": "20737ac9-d012-41ec-9ebe-033d8b22a8da",
   "metadata": {},
   "outputs": [
    {
     "name": "stdout",
     "output_type": "stream",
     "text": [
      "pos_year:  1\n"
     ]
    }
   ],
   "source": [
    "pos_year = df.columns.get_loc(\"year\") \n",
    "print(\"pos_year: \", pos_year)"
   ]
  },
  {
   "cell_type": "markdown",
   "id": "9304507c-8c1c-4b89-9dd3-96e77c387260",
   "metadata": {},
   "source": [
    "Lấy vị trí (số thứ tự cột) của cột \"year\" trong DataFrame df và in ra."
   ]
  },
  {
   "cell_type": "code",
   "execution_count": 6,
   "id": "d767782f-8a44-4534-bb03-2a6a726d4237",
   "metadata": {},
   "outputs": [
    {
     "name": "stdout",
     "output_type": "stream",
     "text": [
      "df: \n",
      "         city  year  x  y\n",
      "0  Marseille  2020  1  3\n",
      "1          1     1  1  1\n",
      "2  Marseille  2018  2  2\n",
      "3        Aix  2018  2  1\n",
      "4      Paris  2019  0  4\n",
      "5      Paris  2019  0  4\n"
     ]
    }
   ],
   "source": [
    "df.iloc[0,pos_year] = 2020 \n",
    "print(\"df: \\n\", df)"
   ]
  },
  {
   "cell_type": "markdown",
   "id": "c7666b2b-667c-4efb-b198-cd0d7f43bf61",
   "metadata": {},
   "source": [
    "Thay đổi giá trị tại hàng đầu tiên và cột \"year\" của df thành 2020, rồi in ra."
   ]
  },
  {
   "cell_type": "markdown",
   "id": "00d919e9-cfad-4a52-9579-60422e496993",
   "metadata": {},
   "source": [
    "##### 10.7.2.2 Modifications on One or More Columns"
   ]
  },
  {
   "cell_type": "code",
   "execution_count": 7,
   "id": "1272d649-808c-4107-8ac1-700facdd552c",
   "metadata": {},
   "outputs": [
    {
     "name": "stdout",
     "output_type": "stream",
     "text": [
      "df: \n",
      "         city  year  x  y\n",
      "0  Marseille  2020  2  3\n",
      "1          1     1  2  1\n",
      "2  Marseille  2018  2  2\n",
      "3        Aix  2018  2  1\n",
      "4      Paris  2019  2  4\n",
      "5      Paris  2019  2  4\n"
     ]
    }
   ],
   "source": [
    "df.x = 2\n",
    "print(\"df: \\n\", df)"
   ]
  },
  {
   "cell_type": "markdown",
   "id": "8113377a-d34d-4229-b473-c0b8d4870157",
   "metadata": {},
   "source": [
    "Gán toàn bộ giá trị của cột x trong DataFrame df thành 2, rồi in ra."
   ]
  },
  {
   "cell_type": "code",
   "execution_count": 8,
   "id": "68c2738f-b725-4525-8bfc-05bba89eb391",
   "metadata": {},
   "outputs": [
    {
     "name": "stdout",
     "output_type": "stream",
     "text": [
      "df: \n",
      "         city  year  x  y\n",
      "0  Marseille  2020  2  3\n",
      "1          1     1  3  1\n",
      "2  Marseille  2018  4  2\n",
      "3        Aix  2018  2  1\n",
      "4      Paris  2019  1  4\n",
      "5      Paris  2019  0  4\n"
     ]
    }
   ],
   "source": [
    "df.x = [2, 3, 4, 2, 1, 0] \n",
    "print(\"df: \\n\", df)"
   ]
  },
  {
   "cell_type": "markdown",
   "id": "2efca79f-8923-4ded-997b-2a5150dd9950",
   "metadata": {},
   "source": [
    "Gán một danh sách giá trị mới cho toàn bộ cột x của DataFrame df, rồi in ra."
   ]
  },
  {
   "cell_type": "code",
   "execution_count": 11,
   "id": "1a04f702-6b48-4133-8af9-d8c420a8bfed",
   "metadata": {},
   "outputs": [
    {
     "name": "stdout",
     "output_type": "stream",
     "text": [
      "new_val:  [nan, 'b', 'a', 'b', nan, nan]\n"
     ]
    }
   ],
   "source": [
    "new_val = []\n",
    "for i in np.arange(len(df.index)):\n",
    "    if df.y[i] == 2: \n",
    "        new_val.append(\"a\")\n",
    "    elif df.y[i] == 1: \n",
    "        new_val.append(\"b\")\n",
    "    else: \n",
    "        new_val.append(np.nan)\n",
    "print(\"new_val: \", new_val)"
   ]
  },
  {
   "cell_type": "markdown",
   "id": "af141bdf-208f-43d7-b5d9-db716faae055",
   "metadata": {},
   "source": [
    "Tạo một danh sách new_val bằng cách duyệt từng hàng của df, gán giá trị \"a\" nếu y = 2, \"b\" nếu y = 1, còn lại thì NaN, rồi in ra."
   ]
  },
  {
   "cell_type": "code",
   "execution_count": 12,
   "id": "c99ebcc1-7330-46b3-84c4-9c4e3d5e4710",
   "metadata": {},
   "outputs": [
    {
     "name": "stdout",
     "output_type": "stream",
     "text": [
      "df: \n",
      "         city  year    x  y\n",
      "0  Marseille  2020  NaN  3\n",
      "1          1     1    b  1\n",
      "2  Marseille  2018    a  2\n",
      "3        Aix  2018    b  1\n",
      "4      Paris  2019  NaN  4\n",
      "5      Paris  2019  NaN  4\n"
     ]
    }
   ],
   "source": [
    "df.x = new_val \n",
    "print(\"df: \\n\", df)"
   ]
  },
  {
   "cell_type": "markdown",
   "id": "d9a9a20b-a6a5-4188-a549-df6d26b18f5d",
   "metadata": {},
   "source": [
    "Gán danh sách new_val làm giá trị mới cho cột x của DataFrame df, rồi in ra."
   ]
  },
  {
   "cell_type": "markdown",
   "id": "076a92d3-960c-4a40-8558-c32b7962c45a",
   "metadata": {},
   "source": [
    "##### 10.7.2.3 Modifications on One or More Rows"
   ]
  },
  {
   "cell_type": "code",
   "execution_count": 13,
   "id": "2a61a577-e4ee-4475-8b70-b857e606f169",
   "metadata": {},
   "outputs": [],
   "source": [
    "import pandas as pd"
   ]
  },
  {
   "cell_type": "code",
   "execution_count": 14,
   "id": "c1cb3cde-42ab-4ee0-8d45-d8f2d66f7735",
   "metadata": {},
   "outputs": [
    {
     "name": "stdout",
     "output_type": "stream",
     "text": [
      "df: \n",
      "         city  year    x  y\n",
      "0  Marseille  2020  NaN  3\n",
      "1          1     1    1  1\n",
      "2  Marseille  2018    a  2\n",
      "3        Aix  2018    b  1\n",
      "4      Paris  2019  NaN  4\n",
      "5      Paris  2019  NaN  4\n"
     ]
    }
   ],
   "source": [
    "df.iloc[1,:] = 1 \n",
    "print(\"df: \\n\", df)"
   ]
  },
  {
   "cell_type": "markdown",
   "id": "4d56aef9-76ff-47c6-9531-419fa3b3f0b4",
   "metadata": {},
   "source": [
    "Gán giá trị 1 cho toàn bộ các ô ở hàng thứ 2 (vị trí index = 1) của DataFrame df, rồi in ra."
   ]
  },
  {
   "cell_type": "code",
   "execution_count": 16,
   "id": "51faf6d4-d105-4a7f-b02f-099ea01bf5c0",
   "metadata": {},
   "outputs": [
    {
     "name": "stdout",
     "output_type": "stream",
     "text": [
      "df: \n",
      "         city  year    x  y\n",
      "0  Marseille  2020  NaN  3\n",
      "1        Aix  2018    1  2\n",
      "2  Marseille  2018    a  2\n",
      "3        Aix  2018    b  1\n",
      "4      Paris  2019  NaN  4\n",
      "5      Paris  2019  NaN  4\n"
     ]
    }
   ],
   "source": [
    "df.iloc[1,:] = [\"Aix\", 2018, 1, 2] \n",
    "print(\"df: \\n\", df)"
   ]
  },
  {
   "cell_type": "markdown",
   "id": "faeecf13-47d0-4c0b-a981-1032db5bac45",
   "metadata": {},
   "source": [
    "Dòng code này thay thế toàn bộ giá trị của hàng thứ 2 trong DataFrame bằng danh sách [\"Aix\", 2018, 1, 2] và in ra DataFrame sau khi thay đổi."
   ]
  },
  {
   "cell_type": "code",
   "execution_count": 17,
   "id": "0513ee9a-1da2-47af-b2ff-5ce883e00703",
   "metadata": {},
   "outputs": [
    {
     "name": "stdout",
     "output_type": "stream",
     "text": [
      "df: \n",
      "         city  year    x  y\n",
      "0  Marseille  2020  NaN  3\n",
      "1        Aix  2018    1  2\n",
      "2  Marseille  2018    a  2\n",
      "3        Aix  2018   -1 -1\n",
      "4      Paris  2019  NaN  4\n",
      "5      Paris  2019  NaN  4\n"
     ]
    }
   ],
   "source": [
    "df.iloc[[1,3],:] = [ \n",
    "    [\"Aix\", 2018, 1, 2], \n",
    "    [\"Aix\", 2018, -1, -1]\n",
    "]\n",
    "print(\"df: \\n\", df)"
   ]
  },
  {
   "cell_type": "markdown",
   "id": "44a5da18-0888-4581-a669-cfa2b2a01610",
   "metadata": {},
   "source": [
    "Thay thế giá trị của hàng thứ 2 và hàng thứ 4 trong DataFrame bằng hai danh sách tương ứng, rồi in ra DataFrame sau khi thay đổi."
   ]
  },
  {
   "cell_type": "markdown",
   "id": "50e059c6-88d4-470d-9b2c-9a6df2472071",
   "metadata": {},
   "source": [
    "### 10.8 Adding Values"
   ]
  },
  {
   "cell_type": "markdown",
   "id": "d801fcb9-0120-4675-aa60-776bde7ffd22",
   "metadata": {},
   "source": [
    "#### 10.8 Adding Values"
   ]
  },
  {
   "cell_type": "markdown",
   "id": "d5678b6e-d5c8-41a6-beea-aa545a2e8f93",
   "metadata": {},
   "source": [
    "#### 10.8.1 For a Series"
   ]
  },
  {
   "cell_type": "code",
   "execution_count": 18,
   "id": "5c98ac29-bd3e-44aa-92e6-8b1b3505e99a",
   "metadata": {},
   "outputs": [
    {
     "name": "stdout",
     "output_type": "stream",
     "text": [
      "s_num:  5    1.0\n",
      "0    4.0\n",
      "4   -1.0\n",
      "1    NaN\n",
      "dtype: float64\n"
     ]
    }
   ],
   "source": [
    "s_num = pd.Series([1, 4, -1, np.nan], \n",
    "                  index = [5, 0, 4, 1])\n",
    "print(\"s_num: \", s_num)"
   ]
  },
  {
   "cell_type": "markdown",
   "id": "c241d8c6-448f-4a30-ba35-0125395ba493",
   "metadata": {},
   "source": [
    "Tạo một Series có giá trị và chỉ số tùy chỉnh, bao gồm giá trị thiếu, rồi in ra."
   ]
  },
  {
   "cell_type": "markdown",
   "id": "d30577d1-8775-4a01-9af1-90711e8f3170",
   "metadata": {},
   "source": [
    "##### 10.8.1.1 Adding a Single Value in a Series"
   ]
  },
  {
   "cell_type": "code",
   "execution_count": 19,
   "id": "680b3965-299b-49e8-b857-4da074b26f47",
   "metadata": {},
   "outputs": [
    {
     "name": "stdout",
     "output_type": "stream",
     "text": [
      "s_num_2: \n",
      " 2    1\n",
      "dtype: int64\n"
     ]
    }
   ],
   "source": [
    "s_num_2 = pd.Series([1], index = [2]) \n",
    "print(\"s_num_2: \\n\", s_num_2)"
   ]
  },
  {
   "cell_type": "markdown",
   "id": "6fef8bf4-d0f2-40b3-a16b-b1ed8da4e31d",
   "metadata": {},
   "source": [
    "Tạo một Series chỉ có một giá trị 1 với chỉ số (index) là 2, rồi in ra Series đó."
   ]
  },
  {
   "cell_type": "markdown",
   "id": "704fa51b-8f3d-4a82-be09-f49462a052f2",
   "metadata": {},
   "source": [
    "##### 10.8.1.2 Adding Several Values in a Series"
   ]
  },
  {
   "cell_type": "code",
   "execution_count": 22,
   "id": "67879eed-2164-46cc-b81f-aaf2a73ab780",
   "metadata": {},
   "outputs": [
    {
     "ename": "AttributeError",
     "evalue": "'Series' object has no attribute 'append'",
     "output_type": "error",
     "traceback": [
      "\u001b[31m---------------------------------------------------------------------------\u001b[39m",
      "\u001b[31mAttributeError\u001b[39m                            Traceback (most recent call last)",
      "\u001b[32m/tmp/ipykernel_1314/1721796188.py\u001b[39m in \u001b[36m?\u001b[39m\u001b[34m()\u001b[39m\n\u001b[32m      1\u001b[39m s_num_2 = pd.Series([\u001b[32m1\u001b[39m], index = [\u001b[32m2\u001b[39m])\n\u001b[32m----> \u001b[39m\u001b[32m2\u001b[39m s_num.append(s_num_2)\n",
      "\u001b[32m~/.local/lib/python3.12/site-packages/pandas/core/generic.py\u001b[39m in \u001b[36m?\u001b[39m\u001b[34m(self, name)\u001b[39m\n\u001b[32m   6314\u001b[39m             \u001b[38;5;28;01mand\u001b[39;00m name \u001b[38;5;28;01mnot\u001b[39;00m \u001b[38;5;28;01min\u001b[39;00m self._accessors\n\u001b[32m   6315\u001b[39m             \u001b[38;5;28;01mand\u001b[39;00m self._info_axis._can_hold_identifiers_and_holds_name(name)\n\u001b[32m   6316\u001b[39m         ):\n\u001b[32m   6317\u001b[39m             \u001b[38;5;28;01mreturn\u001b[39;00m self[name]\n\u001b[32m-> \u001b[39m\u001b[32m6318\u001b[39m         \u001b[38;5;28;01mreturn\u001b[39;00m object.__getattribute__(self, name)\n",
      "\u001b[31mAttributeError\u001b[39m: 'Series' object has no attribute 'append'"
     ]
    }
   ],
   "source": [
    "s_num_2 = pd.Series([1], index = [2])\n",
    "s_num.append(s_num_2)"
   ]
  },
  {
   "cell_type": "code",
   "execution_count": 23,
   "id": "e56b59ec-169c-4759-90e8-87800681e530",
   "metadata": {},
   "outputs": [
    {
     "name": "stdout",
     "output_type": "stream",
     "text": [
      "s_num:  5    1.0\n",
      "0    4.0\n",
      "4   -1.0\n",
      "1    NaN\n",
      "dtype: float64\n"
     ]
    }
   ],
   "source": [
    "print(\"s_num: \", s_num)"
   ]
  },
  {
   "cell_type": "markdown",
   "id": "69044ff7-65c5-4dd6-86c9-410ea5ca2758",
   "metadata": {},
   "source": [
    "Dòng code này in ra nội dung của Series s_num, bao gồm các giá trị và chỉ số (index) tương ứng."
   ]
  },
  {
   "cell_type": "markdown",
   "id": "93bc2c98-e9e0-4c3d-8f92-1cddb2479f7a",
   "metadata": {},
   "source": [
    "#### 10.8.2 For a dataframe"
   ]
  },
  {
   "cell_type": "code",
   "execution_count": 25,
   "id": "6e5e8333-c806-4899-9a18-e3aa395f5bd7",
   "metadata": {},
   "outputs": [
    {
     "name": "stdout",
     "output_type": "stream",
     "text": [
      "df : \n",
      "         city  year  x  y\n",
      "0  Marseille  2019  1  3\n",
      "1        Aix  2019  2  3\n",
      "2  Marseille  2018  2  2\n",
      "3        Aix  2018  2  1\n",
      "4      Paris  2019  0  4\n",
      "5      Paris  2019  0  4\n"
     ]
    }
   ],
   "source": [
    "dict = {\"city\" : [\"Marseille\", \"Aix\",\n",
    "                  \"Marseille\", \"Aix\", \"Paris\", \"Paris\"],\n",
    "        \"year\": [2019, 2019, 2018, 2018,2019, 2019],\n",
    "        \"x\": [1, 2, 2, 2, 0, 0],\n",
    "        \"y\": [3, 3, 2, 1, 4, 4],\n",
    "       }\n",
    "df = pd.DataFrame(dict)\n",
    "print(\"df : \\n\", df)"
   ]
  },
  {
   "cell_type": "markdown",
   "id": "8b99d558-0fba-48c0-b9c5-780a79f77782",
   "metadata": {},
   "source": [
    "Tạo một DataFrame từ một từ điển chứa các danh sách dữ liệu theo cột, rồi in ra DataFrame đó."
   ]
  },
  {
   "cell_type": "markdown",
   "id": "61555f94-3736-4ddd-844e-4243b637685a",
   "metadata": {},
   "source": [
    "##### 10.8.2.1 Adding a Row in a Dataframe"
   ]
  },
  {
   "cell_type": "code",
   "execution_count": 26,
   "id": "3701bdfd-6aa5-4df7-a4ef-8735a70697fa",
   "metadata": {},
   "outputs": [
    {
     "name": "stdout",
     "output_type": "stream",
     "text": [
      "new_row: \n",
      "         city  year  x  y\n",
      "0  Marseille  2021  2  4\n"
     ]
    }
   ],
   "source": [
    "new_row = pd.DataFrame([[\"Marseille\", \"2021\", 2, 4]], \n",
    "                       columns = df.columns)\n",
    "print(\"new_row: \\n\", new_row)"
   ]
  },
  {
   "cell_type": "markdown",
   "id": "8b4bd818-1be6-4a6d-9ab1-f6f4f4c90796",
   "metadata": {},
   "source": [
    "Tạo một DataFrame mới chỉ gồm một hàng với các giá trị được cung cấp, sử dụng cùng các cột như DataFrame df, rồi in ra DataFrame mới này."
   ]
  },
  {
   "cell_type": "code",
   "execution_count": 28,
   "id": "e930d04c-3437-4b85-8b55-d78735b63da4",
   "metadata": {},
   "outputs": [
    {
     "name": "stdout",
     "output_type": "stream",
     "text": [
      "new_row: \n",
      "    year       coty  x  y\n",
      "0  2021  Marseille  2  4\n"
     ]
    }
   ],
   "source": [
    "new_row = pd.DataFrame([[\"2021\", \"Marseille\", 2, 4]], \n",
    "                       columns = [\"year\", \"coty\", \"x\", \"y\"])\n",
    "print(\"new_row: \\n\", new_row)"
   ]
  },
  {
   "cell_type": "markdown",
   "id": "d129920f-7828-40a1-9610-2a21599a7b08",
   "metadata": {},
   "source": [
    "Tạo một DataFrame mới chỉ gồm một hàng với các giá trị được cung cấp, đặt tên cột theo danh sách tùy chỉnh, rồi in ra DataFrame mới."
   ]
  },
  {
   "cell_type": "markdown",
   "id": "8d0db01e-4109-456f-b950-fc2386017c0f",
   "metadata": {},
   "source": [
    "##### 10.8.2.2 Adding Multiple Rows in a Dataframe"
   ]
  },
  {
   "cell_type": "code",
   "execution_count": 32,
   "id": "a027cdbb-1ebd-43c9-bc7d-52a11e5ecc32",
   "metadata": {},
   "outputs": [
    {
     "name": "stdout",
     "output_type": "stream",
     "text": [
      "new_rows: \n",
      "         city  year  x  y\n",
      "0  Marseille  2022  2  4\n",
      "1        Aix  2022  3  3\n"
     ]
    }
   ],
   "source": [
    "new_rows = pd.DataFrame([ \n",
    "    [\"Marseille\", \"2022\", 2, 4], \n",
    "    [\"Aix\", \"2022\", 3, 3]], \n",
    "    columns = df.columns)\n",
    "print(\"new_rows: \\n\", new_rows)"
   ]
  },
  {
   "cell_type": "markdown",
   "id": "0f604331-ee2b-4402-a2c4-887d0fbbd922",
   "metadata": {},
   "source": [
    "Tạo một DataFrame mới gồm nhiều hàng với các giá trị được cung cấp, sử dụng cùng các cột như DataFrame df, rồi in ra DataFrame mới này."
   ]
  },
  {
   "cell_type": "markdown",
   "id": "856ef8ec-2c53-4211-898e-38bb2ca981c8",
   "metadata": {},
   "source": [
    "##### 10.8.2.3 Adding a Column to a Dataframe"
   ]
  },
  {
   "cell_type": "code",
   "execution_count": 35,
   "id": "e1965fcc-cc6d-4de8-a5f6-10d3fdd3127a",
   "metadata": {},
   "outputs": [
    {
     "name": "stdout",
     "output_type": "stream",
     "text": [
      "df: \n",
      "         city  year  x  y         z\n",
      "0  Marseille  2019  1  3  0.582492\n",
      "1        Aix  2019  2  3  0.393912\n",
      "2  Marseille  2018  2  2  0.670930\n",
      "3        Aix  2018  2  1  0.441372\n",
      "4      Paris  2019  0  4  0.589158\n",
      "5      Paris  2019  0  4  0.469910\n"
     ]
    }
   ],
   "source": [
    "from numpy import random\n",
    "df[\"z\"] = random.rand(len(df.index)) \n",
    "print(\"df: \\n\", df)"
   ]
  },
  {
   "cell_type": "code",
   "execution_count": null,
   "id": "bc29d7a2-22ec-47e4-a9f7-5e0ab452bcda",
   "metadata": {},
   "outputs": [],
   "source": []
  }
 ],
 "metadata": {
  "kernelspec": {
   "display_name": "Python 3 (ipykernel)",
   "language": "python",
   "name": "python3"
  },
  "language_info": {
   "codemirror_mode": {
    "name": "ipython",
    "version": 3
   },
   "file_extension": ".py",
   "mimetype": "text/x-python",
   "name": "python",
   "nbconvert_exporter": "python",
   "pygments_lexer": "ipython3",
   "version": "3.12.1"
  }
 },
 "nbformat": 4,
 "nbformat_minor": 5
}
