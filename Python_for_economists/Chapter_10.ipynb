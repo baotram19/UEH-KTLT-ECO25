{
 "cells": [
  {
   "cell_type": "markdown",
   "id": "0082f98d-b434-4ff3-b2d8-226ae327a39e",
   "metadata": {},
   "source": [
    "# Chapter 10"
   ]
  },
  {
   "cell_type": "markdown",
   "id": "cbdfba90-d0e1-4b81-a0fa-13bdd2963986",
   "metadata": {},
   "source": [
    "# Data manipulation with pandas"
   ]
  },
  {
   "cell_type": "code",
   "execution_count": 1,
   "id": "dcffe931-de47-4947-a2dd-f0f3da67764b",
   "metadata": {},
   "outputs": [],
   "source": [
    "import pandas as pd"
   ]
  },
  {
   "cell_type": "code",
   "execution_count": 2,
   "id": "474ddb62-c8e2-4346-a4d8-3e83e8cf543c",
   "metadata": {},
   "outputs": [],
   "source": [
    "import numpy as np"
   ]
  },
  {
   "cell_type": "markdown",
   "id": "55a7c597-1db2-40cc-bc08-48d0d024905e",
   "metadata": {},
   "source": [
    "### 10.1 Structures"
   ]
  },
  {
   "cell_type": "markdown",
   "id": "9efc6af1-f7e3-4258-b9cc-c228125c44df",
   "metadata": {},
   "source": [
    "#### 10.1.1 Series"
   ]
  },
  {
   "cell_type": "markdown",
   "id": "f2d326c0-9dc5-4066-83f6-87034dd293a9",
   "metadata": {},
   "source": [
    "##### 10.1.1.1 Creating Series from a List"
   ]
  },
  {
   "cell_type": "code",
   "execution_count": 3,
   "id": "b5e66f6f-00b8-4230-9485-ca7f4f974f50",
   "metadata": {},
   "outputs": [
    {
     "name": "stdout",
     "output_type": "stream",
     "text": [
      "0    1.0\n",
      "1    4.0\n",
      "2   -1.0\n",
      "3    NaN\n",
      "4    0.5\n",
      "5    1.0\n",
      "dtype: float64\n"
     ]
    }
   ],
   "source": [
    "s = pd.Series([1, 4, -1, np.nan, .5, 1]) \n",
    "print(s)"
   ]
  },
  {
   "cell_type": "markdown",
   "id": "3a825985-5f35-42ec-a6b9-06274b441c79",
   "metadata": {},
   "source": [
    "Tạo một pandas Series, là một cột dữ liệu 1 chiều, có chỉ số (index) tự động từ 0. \"np.nan\" đại diện cho giá trị thiếu (missing value) và in ra Series, hiển thị chỉ số (index) và giá trị."
   ]
  },
  {
   "cell_type": "code",
   "execution_count": 4,
   "id": "019d9da6-7eb0-41ee-8980-9f2b0f52058a",
   "metadata": {},
   "outputs": [
    {
     "name": "stdout",
     "output_type": "stream",
     "text": [
      "values of s:  [ 1.   4.  -1.   nan  0.5  1. ]\n"
     ]
    }
   ],
   "source": [
    "print(\"values of s: \", s.values)"
   ]
  },
  {
   "cell_type": "markdown",
   "id": "7ae39407-38be-4aa8-aa56-4967031f80a7",
   "metadata": {},
   "source": [
    "Truy xuất tất cả giá trị trong pandas Series s dưới dạng mảng NumPy (numpy.ndarray) và in ra các giá trị không bao gồm chỉ số (index), chỉ lấy dữ liệu bên trong Series."
   ]
  },
  {
   "cell_type": "code",
   "execution_count": 5,
   "id": "8a3e9696-6d1d-46cf-b36e-8d026c162601",
   "metadata": {},
   "outputs": [
    {
     "name": "stdout",
     "output_type": "stream",
     "text": [
      "type of values of s:  <class 'numpy.ndarray'>\n"
     ]
    }
   ],
   "source": [
    "print(\"type of values of s: \", type(s.values))"
   ]
  },
  {
   "cell_type": "markdown",
   "id": "9431fec0-5c9c-47a1-8b46-950b254954ee",
   "metadata": {},
   "source": [
    "Trả về mảng NumPy chứa tất cả giá trị của Series s, type(s.values) sẽ kiểm tra kiểu dữ liệu của đối tượng này và in ra kiểu dữ liệu của giá trị bên trong Series."
   ]
  },
  {
   "cell_type": "code",
   "execution_count": 6,
   "id": "1f23698b-9cba-4385-a020-f4da8d4b641a",
   "metadata": {},
   "outputs": [
    {
     "name": "stdout",
     "output_type": "stream",
     "text": [
      "index of s:  RangeIndex(start=0, stop=6, step=1)\n"
     ]
    }
   ],
   "source": [
    "print(\"index of s: \", s.index)"
   ]
  },
  {
   "cell_type": "markdown",
   "id": "38e33090-3194-4590-8cc3-6b0bbfb57132",
   "metadata": {},
   "source": [
    "Truy xuất chỉ số (index) của Series s. Chỉ số này dùng để định vị từng giá trị trong Series, tương tự như số thứ tự của phần tử và in ra thông tin về chỉ số của Series."
   ]
  },
  {
   "cell_type": "code",
   "execution_count": 7,
   "id": "45f63e55-1795-4c9c-aad7-fab90f334708",
   "metadata": {},
   "outputs": [
    {
     "name": "stdout",
     "output_type": "stream",
     "text": [
      "type of the index of s:  <class 'pandas.core.indexes.range.RangeIndex'>\n"
     ]
    }
   ],
   "source": [
    "print(\"type of the index of s: \", type(s.index))"
   ]
  },
  {
   "cell_type": "markdown",
   "id": "5a9faa88-2dd5-4c21-ab37-35e2bce0483a",
   "metadata": {},
   "source": [
    "Trả về đối tượng chỉ số (Index) của Series s. type(s.index) sẽ kiểm tra kiểu dữ liệu của đối tượng này và in ra kiểu dữ liệu của chỉ số."
   ]
  },
  {
   "cell_type": "code",
   "execution_count": 8,
   "id": "d22269fb-841c-4da2-be8e-0e906e3f2430",
   "metadata": {},
   "outputs": [
    {
     "name": "stdout",
     "output_type": "stream",
     "text": [
      "name of the Serie: name_index , name of the index: None\n"
     ]
    }
   ],
   "source": [
    "s.name = \"my_serie\"\n",
    "s.name = \"name_index\"\n",
    "print(\"name of the Serie: {} , name of the index: {}\".format(s.name, s.index.name))"
   ]
  },
  {
   "cell_type": "markdown",
   "id": "7ac2791c-0b7a-498f-ab50-b64aaace9db5",
   "metadata": {},
   "source": [
    "Series trong pandas có thể có tên riêng và chỉ số cũng có tên riêng, giúp mô tả dữ liệu rõ ràng hơn khi in hoặc phân tích."
   ]
  },
  {
   "cell_type": "code",
   "execution_count": 9,
   "id": "a51741df-3304-46bc-b40c-8be437870e3b",
   "metadata": {},
   "outputs": [
    {
     "name": "stdout",
     "output_type": "stream",
     "text": [
      "Serie s: \n",
      " 0    1.0\n",
      "1    4.0\n",
      "2   -1.0\n",
      "3    NaN\n",
      "4    0.5\n",
      "5    1.0\n",
      "Name: name_index, dtype: float64\n"
     ]
    }
   ],
   "source": [
    "print(\"Serie s: \\n\", s)"
   ]
  },
  {
   "cell_type": "markdown",
   "id": "4351ccfa-f1f5-4d02-9a1c-e5e206d2826e",
   "metadata": {},
   "source": [
    "s là pandas Series đã được tạo trước đó, chứa cả giá trị và chỉ số và in ra toàn bộ Series, bao gồm chỉ số (index), giá trị (values), tên Series (nếu có)."
   ]
  },
  {
   "cell_type": "markdown",
   "id": "1ac9a8bd-aa56-44ad-ab87-cc746a1925c0",
   "metadata": {},
   "source": [
    "##### 10.1.1.2 Definition of the Index"
   ]
  },
  {
   "cell_type": "code",
   "execution_count": 11,
   "id": "0fd099c4-c21f-45f7-a16c-485bdc2baf9d",
   "metadata": {},
   "outputs": [
    {
     "name": "stdout",
     "output_type": "stream",
     "text": [
      "o    1.0\n",
      "d    4.0\n",
      "i   -1.0\n",
      "l    NaN\n",
      "dtype: float64\n"
     ]
    }
   ],
   "source": [
    "s = pd.Series([1, 4, -1, np.nan],\n",
    "              index = [\"o\", \"d\", \"i\", \"l\"])\n",
    "print(s)"
   ]
  },
  {
   "cell_type": "markdown",
   "id": "41bb98ce-0a49-4d7f-8b61-34c5a3a99fec",
   "metadata": {},
   "source": [
    "Pandas Series cho phép chỉ định index tùy ý, không nhất thiết phải là số thứ tự."
   ]
  },
  {
   "cell_type": "code",
   "execution_count": 13,
   "id": "943c9637-723b-401b-a06e-d89d8e771f31",
   "metadata": {},
   "outputs": [
    {
     "name": "stdout",
     "output_type": "stream",
     "text": [
      "4     1.0\n",
      "40    4.0\n",
      "2    -1.0\n",
      "3     NaN\n",
      "dtype: float64\n"
     ]
    }
   ],
   "source": [
    "s = pd.Series([1, 4, -1, np.nan], \n",
    "              index = [4, 40, 2, 3])\n",
    "print(s)"
   ]
  },
  {
   "cell_type": "markdown",
   "id": "3a1d3d0e-770f-401b-bea0-ce3a5aa3d0d9",
   "metadata": {},
   "source": [
    "Index của Series không cần theo thứ tự liên tiếp, có thể là bất kỳ số nguyên hoặc nhãn nào."
   ]
  },
  {
   "cell_type": "code",
   "execution_count": 14,
   "id": "e4511a3a-fba4-4fce-9aa8-0df50a9664c9",
   "metadata": {},
   "outputs": [
    {
     "name": "stdout",
     "output_type": "stream",
     "text": [
      "Série s : \n",
      " o    1.0\n",
      "d    4.0\n",
      "i   -1.0\n",
      "l    NaN\n",
      "dtype: float64\n"
     ]
    }
   ],
   "source": [
    "s.index = [\"o\", \"d\", \"i\", \"l\"] \n",
    "print(\"Série s : \\n\", s)"
   ]
  },
  {
   "cell_type": "markdown",
   "id": "d0d13562-7eb3-4734-89f8-5f6b29cf3612",
   "metadata": {},
   "source": [
    "Pandas Series cho phép thay đổi index sau khi tạo."
   ]
  },
  {
   "cell_type": "markdown",
   "id": "a24f376a-a879-4bb7-a9e3-0f7956b344e9",
   "metadata": {},
   "source": [
    "##### 10.1.1.3 Creation of Special Series"
   ]
  },
  {
   "cell_type": "code",
   "execution_count": 15,
   "id": "8469c742-6ade-49e9-babe-ec84da1f1a85",
   "metadata": {},
   "outputs": [
    {
     "name": "stdout",
     "output_type": "stream",
     "text": [
      "0    5\n",
      "1    5\n",
      "2    5\n",
      "3    5\n",
      "dtype: int64\n"
     ]
    }
   ],
   "source": [
    "s = pd.Series(5, index = [np.arange(4)]) \n",
    "print(s)"
   ]
  },
  {
   "cell_type": "markdown",
   "id": "486f5df0-c5d7-4247-afc2-fda2694a3792",
   "metadata": {},
   "source": [
    "index=[np.arange(4)] sẽ gán index cho Series, nhưng do đặt trong list, nên Python coi cả mảng là 1 giá trị duy nhất của index. pd.Series(5, index=[...]) nhằm tạo Series với giá trị 5 lặp cho tất cả index."
   ]
  },
  {
   "cell_type": "code",
   "execution_count": 18,
   "id": "e729ec90-1edb-4072-a8b0-86b2e351765f",
   "metadata": {},
   "outputs": [
    {
     "name": "stdout",
     "output_type": "stream",
     "text": [
      "King                    Arthur\n",
      "Knight_Round_Table    Percival\n",
      "Druid                   Merlin\n",
      "dtype: object\n"
     ]
    }
   ],
   "source": [
    "dictionary = {\"King\": \"Arthur\", \n",
    "              \"Knight_Round_Table\": \"Percival\",\n",
    "              \"Druid\": \"Merlin\"} \n",
    "s = pd.Series(dictionary)\n",
    "print(s)"
   ]
  },
  {
   "cell_type": "markdown",
   "id": "ab1a6d27-d57a-4bd9-9e25-8fd99c4adfb9",
   "metadata": {},
   "source": [
    "Pandas Series có thể tạo trực tiếp từ dictionary, tự động gán key làm index và value làm giá trị."
   ]
  },
  {
   "cell_type": "code",
   "execution_count": 20,
   "id": "57e44243-4de8-407f-a935-6e3f2ea581e8",
   "metadata": {},
   "outputs": [
    {
     "name": "stdout",
     "output_type": "stream",
     "text": [
      "King     Arthur\n",
      "Druid    Merlin\n",
      "dtype: object\n"
     ]
    }
   ],
   "source": [
    "dictionary = {\"King\": \"Arthur\", \n",
    "              \"Knight_Round_Table\": \"Percival\",\n",
    "              \"Druid\": \"Merlin\"}\n",
    "s = pd.Series(dictionary, index = [\"King\", \"Druid\"])\n",
    "print(s)"
   ]
  },
  {
   "cell_type": "markdown",
   "id": "a61049d5-8f4f-4d1a-9650-93f16d1f2fa1",
   "metadata": {},
   "source": [
    "Pandas Series có thể tạo trực tiếp từ dictionary. Khi chỉ định index, Series sẽ chỉ giữ các key được liệt kê trong index. Key của dictionary trở thành index của Series, value trở thành giá trị, giúp lựa chọn và truy cập dữ liệu theo nhãn."
   ]
  },
  {
   "cell_type": "markdown",
   "id": "a0783b85-edf1-4d41-8d6f-3ae6805dcb1a",
   "metadata": {},
   "source": [
    "#### 10.1.2 Dataframes"
   ]
  },
  {
   "cell_type": "markdown",
   "id": "bb3d7735-b49b-4ef5-8da1-39c98f34585b",
   "metadata": {},
   "source": [
    "##### 10.1.2.1 Creating Dataframes from a Dictionary"
   ]
  },
  {
   "cell_type": "code",
   "execution_count": 22,
   "id": "9938e68b-79be-4dbe-98a4-20d98a60a477",
   "metadata": {},
   "outputs": [
    {
     "name": "stdout",
     "output_type": "stream",
     "text": [
      "    height  weight\n",
      "0       58     115\n",
      "1       59     117\n",
      "2       60     120\n",
      "3       61     123\n",
      "4       62     126\n",
      "5       63     129\n",
      "6       64     132\n",
      "7       65     135\n",
      "8       66     139\n",
      "9       67     142\n",
      "10      68     146\n",
      "11      69     150\n",
      "12      70     154\n",
      "13      71     159\n",
      "14      72     164\n"
     ]
    }
   ],
   "source": [
    "dict = {\"height\" :\n",
    "               [58, 59, 60, 61, 62,\n",
    "                63, 64, 65, 66, 67,\n",
    "                68, 69, 70, 71, 72],\n",
    "        \"weight\":\n",
    "               [115, 117, 120, 123, 126,\n",
    "                129, 132, 135, 139, 142,\n",
    "                146, 150, 154, 159, 164]\n",
    "}\n",
    "df = pd.DataFrame(dict)\n",
    "print(df)"
   ]
  },
  {
   "cell_type": "markdown",
   "id": "ee94c059-feb1-455a-8687-7ded0eb513db",
   "metadata": {},
   "source": [
    "Pandas DataFrame cho phép tạo bảng dữ liệu 2 chiều từ dictionary, với cột là key, hàng là giá trị."
   ]
  },
  {
   "cell_type": "code",
   "execution_count": 23,
   "id": "235df452-374b-4565-b973-a6993e2ce7de",
   "metadata": {},
   "outputs": [
    {
     "name": "stdout",
     "output_type": "stream",
     "text": [
      "Index(['height', 'weight'], dtype='object')\n"
     ]
    }
   ],
   "source": [
    "print(df.columns)"
   ]
  },
  {
   "cell_type": "markdown",
   "id": "9f3af8ad-4c0c-4539-8900-1c7548a61c1d",
   "metadata": {},
   "source": [
    "Giúp xem nhanh tên các cột trong DataFrame df và in ra danh sách các tên cột."
   ]
  },
  {
   "cell_type": "code",
   "execution_count": 24,
   "id": "f8cecfb6-fe44-4b2c-bf0d-205844089598",
   "metadata": {},
   "outputs": [
    {
     "data": {
      "text/html": [
       "<div>\n",
       "<style scoped>\n",
       "    .dataframe tbody tr th:only-of-type {\n",
       "        vertical-align: middle;\n",
       "    }\n",
       "\n",
       "    .dataframe tbody tr th {\n",
       "        vertical-align: top;\n",
       "    }\n",
       "\n",
       "    .dataframe thead th {\n",
       "        text-align: right;\n",
       "    }\n",
       "</style>\n",
       "<table border=\"1\" class=\"dataframe\">\n",
       "  <thead>\n",
       "    <tr style=\"text-align: right;\">\n",
       "      <th></th>\n",
       "      <th>height</th>\n",
       "      <th>weight</th>\n",
       "    </tr>\n",
       "  </thead>\n",
       "  <tbody>\n",
       "    <tr>\n",
       "      <th>0</th>\n",
       "      <td>58</td>\n",
       "      <td>115</td>\n",
       "    </tr>\n",
       "    <tr>\n",
       "      <th>1</th>\n",
       "      <td>59</td>\n",
       "      <td>117</td>\n",
       "    </tr>\n",
       "  </tbody>\n",
       "</table>\n",
       "</div>"
      ],
      "text/plain": [
       "   height  weight\n",
       "0      58     115\n",
       "1      59     117"
      ]
     },
     "execution_count": 24,
     "metadata": {},
     "output_type": "execute_result"
    }
   ],
   "source": [
    "df.head(2)"
   ]
  },
  {
   "cell_type": "markdown",
   "id": "2ed98df0-bf80-43dd-a9c0-4206be24e381",
   "metadata": {},
   "source": [
    "Lấy n hàng đầu tiên của DataFrame df. Ở đây n=2, nên chỉ hiển thị 2 hàng đầu tiên."
   ]
  },
  {
   "cell_type": "code",
   "execution_count": 25,
   "id": "8dbc28ba-e446-460a-8b0e-f8fcb38f3256",
   "metadata": {},
   "outputs": [
    {
     "name": "stdout",
     "output_type": "stream",
     "text": [
      "   weight\n",
      "0     115\n",
      "1     117\n"
     ]
    }
   ],
   "source": [
    "df = pd.DataFrame(dict, columns = [\"weight\"]) \n",
    "print(df.head(2))"
   ]
  },
  {
   "cell_type": "markdown",
   "id": "6a375562-5f39-41f5-8bea-8b3632b5fe98",
   "metadata": {},
   "source": [
    "Lấy 2 hàng đầu tiên của DataFrame và in ra 2 hàng đầu tiên của cột \"weight\"."
   ]
  },
  {
   "cell_type": "code",
   "execution_count": 26,
   "id": "a2689a06-3c25-4440-98e2-303d6703115c",
   "metadata": {},
   "outputs": [
    {
     "name": "stdout",
     "output_type": "stream",
     "text": [
      "   weight  height\n",
      "0     115      58\n",
      "1     117      59\n"
     ]
    }
   ],
   "source": [
    "df = pd.DataFrame(dict, columns = [\"weight\", \"height\"]) \n",
    "print(df.head(2))"
   ]
  },
  {
   "cell_type": "markdown",
   "id": "b90a1c41-e579-451b-a8a5-dc75fa449803",
   "metadata": {},
   "source": [
    "Lấy 2 hàng đầu tiên của DataFrame và in ra 2 hàng đầu tiên với cột đã sắp xếp theo thứ tự mới."
   ]
  },
  {
   "cell_type": "code",
   "execution_count": 27,
   "id": "3506645b-58b4-45f0-9828-0fd6d8d69488",
   "metadata": {},
   "outputs": [
    {
     "name": "stdout",
     "output_type": "stream",
     "text": [
      "   weight  height  age\n",
      "0     115      58  NaN\n",
      "1     117      59  NaN\n"
     ]
    }
   ],
   "source": [
    "df = pd.DataFrame(dict, columns = [\"weight\", \"height\", \"age\"]) \n",
    "print(df.head(2))"
   ]
  },
  {
   "cell_type": "markdown",
   "id": "904a70fe-5573-4c2d-b7b5-fd900ea74e9b",
   "metadata": {},
   "source": [
    "\"weight\" và \"height\" có dữ liệu. \"age\" không có trong dictionary, nên pandas gán NaN cho tất cả các hàng. Nên khi lấy 2 hàng đầu tiên của DataFrame và in ra 2 hàng đầu tiên với cột mới, bao gồm cả cột \"age\" chứa NaN."
   ]
  },
  {
   "cell_type": "markdown",
   "id": "450c65d4-3037-4d4e-b78c-6e55d984edb2",
   "metadata": {},
   "source": [
    "##### 10.1.2.2 Creating Dataframes from Series"
   ]
  },
  {
   "cell_type": "code",
   "execution_count": 28,
   "id": "7f39349a-8c8b-41ab-b51a-c7f49b13e925",
   "metadata": {},
   "outputs": [
    {
     "name": "stdout",
     "output_type": "stream",
     "text": [
      "   name_variable\n",
      "o            1.0\n",
      "d            4.0\n",
      "i           -1.0\n",
      "l            NaN\n"
     ]
    }
   ],
   "source": [
    "s = pd.Series([1, 4, -1, np.nan], index = [\"o\", \"d\", \"i\", \"l\"]) \n",
    "s.name = \"name_variable\"\n",
    "df = pd.DataFrame(s, columns = [\"name_variable\"])\n",
    "print(df)"
   ]
  },
  {
   "cell_type": "markdown",
   "id": "c3292754-17cf-4da3-ba5b-28da3b8146a4",
   "metadata": {},
   "source": [
    "Chuyển Series thành DataFrame 2 chiều với một cột duy nhất, tên cột là \"name_variable\" và in ra toàn bộ DataFrame với index, cột và giá trị."
   ]
  },
  {
   "cell_type": "code",
   "execution_count": 29,
   "id": "db435c8b-b3c0-4eb4-8cab-2d7f5cc17f95",
   "metadata": {},
   "outputs": [
    {
     "name": "stdout",
     "output_type": "stream",
     "text": [
      "     0\n",
      "o  1.0\n",
      "d  4.0\n",
      "i -1.0\n",
      "l  NaN\n"
     ]
    }
   ],
   "source": [
    "s = pd.Series([1, 4, -1, np.nan], index = [\"o\", \"d\", \"i\", \"l\"]) \n",
    "df = pd.DataFrame(s)\n",
    "print(df)"
   ]
  },
  {
   "cell_type": "markdown",
   "id": "863f5d41-6169-49c8-8619-78b69e4b04ca",
   "metadata": {},
   "source": [
    "Pandas cho phép chuyển Series thành DataFrame để tiện thao tác dạng bảng. Index của Series được giữ nguyên, cột dữ liệu được đặt tên mặc định nếu Series chưa có tên."
   ]
  },
  {
   "cell_type": "code",
   "execution_count": 30,
   "id": "271e368e-6b2e-4319-81f4-46e1d42e77f7",
   "metadata": {},
   "outputs": [
    {
     "name": "stdout",
     "output_type": "stream",
     "text": [
      "None\n"
     ]
    }
   ],
   "source": [
    "print(df.columns.name)"
   ]
  },
  {
   "cell_type": "markdown",
   "id": "5b00213b-cb1a-4bd5-aaf6-d542812490b1",
   "metadata": {},
   "source": [
    "DataFrame có thể đặt tên cho index của các cột (columns.name) để mô tả rõ hơn, nhưng nếu chưa gán thì giá trị mặc định là ."
   ]
  },
  {
   "cell_type": "markdown",
   "id": "f63fdccf-b212-4e7d-853a-c84655f34184",
   "metadata": {},
   "source": [
    "##### 10.1.2.3 Creating Dataframes from a Dictionary List"
   ]
  },
  {
   "cell_type": "code",
   "execution_count": 31,
   "id": "69184600-54b5-4f64-84fa-5e1e9d788664",
   "metadata": {},
   "outputs": [
    {
     "name": "stdout",
     "output_type": "stream",
     "text": [
      "        Name   Surname                       Role\n",
      "0  Pendragon    Arthur            King of Britain\n",
      "1             Perceval  Knight of the Round Table\n"
     ]
    }
   ],
   "source": [
    "dico_1 = {\n",
    "    \"Name\": \"Pendragon\", \n",
    "    \"Surname\": \"Arthur\", \n",
    "    \"Role\": \"King of Britain\"\n",
    "}\n",
    "dico_2 = {\n",
    "    \"Name\": \"\",\n",
    "    \"Surname\": \"Perceval\",\n",
    "    \"Role\": \"Knight of the Round Table\"\n",
    "}\n",
    "\n",
    "df = pd.DataFrame([dico_1, dico_2]) \n",
    "print(df)"
   ]
  },
  {
   "cell_type": "markdown",
   "id": "83a6d2fa-0489-4ed9-a0c7-418c7ac1c073",
   "metadata": {},
   "source": [
    "Pandas cho phép tạo DataFrame từ danh sách từ điển, mỗi từ điển là một hàng, key của từ điển là tên cột."
   ]
  },
  {
   "cell_type": "code",
   "execution_count": 33,
   "id": "7d00ec17-7228-4aa7-8fe0-8c6002d75c75",
   "metadata": {},
   "outputs": [
    {
     "name": "stdout",
     "output_type": "stream",
     "text": [
      "        Name    Surname                       Role\n",
      "0  Pendragon     Arthur            King of Britain\n",
      "1              Perceval  Knight of the Round Table\n",
      "2        NaN  Guinevere           Queen of Britain\n"
     ]
    }
   ],
   "source": [
    "dico_3 = {\n",
    "    \"Surname\": \"Guinevere\", \n",
    "    \"Role\": \"Queen of Britain\"\n",
    "}\n",
    "\n",
    "df = pd.DataFrame([dico_1, dico_2, dico_3]) \n",
    "print(df)"
   ]
  },
  {
   "cell_type": "markdown",
   "id": "f4422791-cd5a-4ac1-aca7-9d965ead9a42",
   "metadata": {},
   "source": [
    "Khi tạo DataFrame từ danh sách từ điển có cấu trúc khác nhau, pandas sẽ tự động điền NaN cho các giá trị thiếu."
   ]
  },
  {
   "cell_type": "markdown",
   "id": "aedb3876-6b13-4395-8b86-300da8485ba1",
   "metadata": {},
   "source": [
    "##### 10.1.2.4 Création de dataframes à partir d’un dictionnaire de séries"
   ]
  },
  {
   "cell_type": "code",
   "execution_count": 34,
   "id": "a3765163-6eaa-4aea-83c8-c46eae133b7e",
   "metadata": {},
   "outputs": [],
   "source": [
    "# Annual 2017 GDP\n",
    "# In millions of current dollars \n",
    "dict_gdp_current = {\n",
    "    \"France\": 2582501.31,\n",
    "    \"USA\": 19390604.00,\n",
    "    \"UK\": 2622433.96\n",
    "}\n",
    "# Annual consumer price index\n",
    "dict_cpi = { \n",
    "    \"France\": 0.2,\n",
    "    \"UK\": 0.6,\n",
    "    \"USA\": 1.3,\n",
    "    \"Germany\": 0.5\n",
    "}"
   ]
  },
  {
   "cell_type": "code",
   "execution_count": 35,
   "id": "6afde6b0-33c2-4d03-8569-30f4e90f8863",
   "metadata": {},
   "outputs": [
    {
     "name": "stdout",
     "output_type": "stream",
     "text": [
      "s_gdp_current : \n",
      " France     2582501.31\n",
      "USA       19390604.00\n",
      "UK         2622433.96\n",
      "dtype: float64\n"
     ]
    }
   ],
   "source": [
    "s_gdp_current = pd.Series(dict_gdp_current) \n",
    "s_cpi = pd.Series(dict_cpi)\n",
    "\n",
    "print(\"s_gdp_current : \\n\", s_gdp_current)"
   ]
  },
  {
   "cell_type": "markdown",
   "id": "adf2e763-11cd-4e0a-a9da-9cd54884c813",
   "metadata": {},
   "source": [
    "Từ điển chứa GDP năm 2017 theo triệu USD cho một số quốc gia và in ra GDP của từng quốc gia dưới dạng Series."
   ]
  },
  {
   "cell_type": "code",
   "execution_count": 36,
   "id": "99faac98-ff77-4d54-bece-91a0cb387d25",
   "metadata": {},
   "outputs": [
    {
     "name": "stdout",
     "output_type": "stream",
     "text": [
      "\n",
      "s_cpi : \n",
      " France     0.2\n",
      "UK         0.6\n",
      "USA        1.3\n",
      "Germany    0.5\n",
      "dtype: float64\n"
     ]
    }
   ],
   "source": [
    "print(\"\\ns_cpi : \\n\", s_cpi)"
   ]
  },
  {
   "cell_type": "markdown",
   "id": "d161f874-11ec-4d2c-9717-6674b44519f0",
   "metadata": {},
   "source": [
    "s_cpi → Series Pandas được tạo từ dictionary dict_cpiin ra Series chứa chỉ số giá tiêu dùng của các quốc gia."
   ]
  }
 ],
 "metadata": {
  "kernelspec": {
   "display_name": "Python 3 (ipykernel)",
   "language": "python",
   "name": "python3"
  },
  "language_info": {
   "codemirror_mode": {
    "name": "ipython",
    "version": 3
   },
   "file_extension": ".py",
   "mimetype": "text/x-python",
   "name": "python",
   "nbconvert_exporter": "python",
   "pygments_lexer": "ipython3",
   "version": "3.12.1"
  }
 },
 "nbformat": 4,
 "nbformat_minor": 5
}
