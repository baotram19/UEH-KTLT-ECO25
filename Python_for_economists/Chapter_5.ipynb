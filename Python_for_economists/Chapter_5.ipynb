{
 "cells": [
  {
   "cell_type": "markdown",
   "id": "a09be1da-fea7-4eeb-b1fc-fedf203d4a42",
   "metadata": {},
   "source": [
    "# Chapter 6"
   ]
  },
  {
   "cell_type": "markdown",
   "id": "0b7e8d0a-6aee-4738-8ba1-5075a3a895d2",
   "metadata": {},
   "source": [
    "# Conditions"
   ]
  },
  {
   "cell_type": "markdown",
   "id": "da1db7b9-89e0-4c13-a255-ace22d5dcb9a",
   "metadata": {},
   "source": [
    "### 6.1 Conditional if Instruction"
   ]
  },
  {
   "cell_type": "code",
   "execution_count": 5,
   "id": "cedae01b-1d53-4d4c-a85f-0334a5aadb07",
   "metadata": {},
   "outputs": [
    {
     "name": "stdout",
     "output_type": "stream",
     "text": [
      "Hello\n"
     ]
    }
   ],
   "source": [
    "x=2\n",
    "if x == 2:\n",
    "  print(\"Hello\")"
   ]
  },
  {
   "cell_type": "markdown",
   "id": "f72ccd82-a6b7-4187-b907-604e5f095a37",
   "metadata": {},
   "source": [
    "Gán giá trị 2 cho biến x và đặt if x == 2 để kiểm tra điều kiện xem x có bằng 2 hay không. Vì x đúng là bằng 2, nên khối lệnh bên trong if sẽ chạy."
   ]
  },
  {
   "cell_type": "code",
   "execution_count": 13,
   "id": "95ca3fa8-58b1-4483-9c1b-e81f1c30c07d",
   "metadata": {},
   "outputs": [
    {
     "name": "stdout",
     "output_type": "stream",
     "text": [
      "Hello, x vaut : 2\n"
     ]
    }
   ],
   "source": [
    "x=2\n",
    "if x == 2:\n",
    " y = \"Hello\"\n",
    " print(y + \", x vaut : \" + str(x))"
   ]
  },
  {
   "cell_type": "markdown",
   "id": "babb54e5-1096-4be6-adc2-afa0f65d179a",
   "metadata": {},
   "source": [
    "Đoạn code kiểm tra nếu biến x có giá trị bằng 2 thì tạo một thông điệp chào và in ra thông báo đó kèm theo giá trị của x."
   ]
  },
  {
   "cell_type": "markdown",
   "id": "514978e4-7ce3-492f-9bdd-8e08e870d569",
   "metadata": {},
   "source": [
    "### 6.2 if - else Conditional Instructions"
   ]
  },
  {
   "cell_type": "code",
   "execution_count": 15,
   "id": "c895f908-8c11-4d25-88df-190909afc75e",
   "metadata": {},
   "outputs": [
    {
     "name": "stdout",
     "output_type": "stream",
     "text": [
      "It is cold out there\n"
     ]
    }
   ],
   "source": [
    "temperature = 26 \n",
    "heat = \"\"\n",
    "\n",
    "if temperature > 28: \n",
    "    heat = \"hot\"\n",
    "else:\n",
    "    heat = \"cold\"\n",
    "    \n",
    "print(\"It is \" + heat + \" out there\")"
   ]
  },
  {
   "cell_type": "markdown",
   "id": "7fd4d7a8-c98b-468a-a0a0-63ff7d5a68bc",
   "metadata": {},
   "source": [
    "Phân loại thời tiết thành “hot” hoặc “cold” dựa trên nhiệt độ, rồi in kết quả ra màn hình."
   ]
  },
  {
   "cell_type": "code",
   "execution_count": 16,
   "id": "16395b4b-5f17-44b1-b68c-7cf2dddd7cab",
   "metadata": {},
   "outputs": [
    {
     "name": "stdout",
     "output_type": "stream",
     "text": [
      "It is hot out there\n"
     ]
    }
   ],
   "source": [
    "temperature = 32 \n",
    "heat = \"\"\n",
    "\n",
    "if temperature > 28: \n",
    "    heat = \"hot\"\n",
    "else:\n",
    "    heat = \"cold\"\n",
    "    \n",
    "print(\"It is \" + heat + \" out there\")"
   ]
  },
  {
   "cell_type": "markdown",
   "id": "c65f055f-29cf-4689-8da8-1ae7706c62da",
   "metadata": {},
   "source": [
    "Tương tự ngược lại."
   ]
  },
  {
   "cell_type": "markdown",
   "id": "1a9eec5f-ab12-41b2-a290-9d6060cdfb04",
   "metadata": {},
   "source": [
    "### 6.3 if-elif Conditional Instruction"
   ]
  },
  {
   "cell_type": "code",
   "execution_count": 18,
   "id": "a22b0b5e-331e-4035-b933-9a51164adae7",
   "metadata": {},
   "outputs": [
    {
     "name": "stdout",
     "output_type": "stream",
     "text": [
      "It is very cold out there\n"
     ]
    }
   ],
   "source": [
    "temperature = -4 \n",
    "heat = \"\"\n",
    "\n",
    "if temperature > 28: \n",
    "    heat = \"hot\"\n",
    "elif temperature <= 28 and temperature > 15: \n",
    "    heat = \"not too hot\"\n",
    "elif temperature <= 15 and temperature > 0: \n",
    "    heat = \"cold\"\n",
    "else:\n",
    "    heat = \"very cold\"\n",
    "    \n",
    "print(\"It is \" + heat + \" out there\")"
   ]
  },
  {
   "cell_type": "markdown",
   "id": "d90282b7-d533-4bee-ba4c-100be5fb7a1b",
   "metadata": {},
   "source": [
    "Phân loại mức độ nóng/lạnh của thời tiết dựa trên nhiệt độ đo được và in ra thông báo tương ứng."
   ]
  },
  {
   "cell_type": "markdown",
   "id": "92cfd739-6042-4868-bb22-17001dbb0a69",
   "metadata": {},
   "source": [
    "### 6.4 Exercises"
   ]
  },
  {
   "cell_type": "markdown",
   "id": "ba8a1363-25c4-4f64-a818-85e092168179",
   "metadata": {},
   "source": [
    "Let us consider a list named europe containing the following values, as strings: “Germany”, “France” and “Spain”.\n",
    "\n",
    "Let us consider a second list, named asia, containing in the form of strings: “Vietnam”, “China” and “India”.\n",
    "\n",
    "The objective will be to create a continent variable that will indicate either Europe, Asia or other at the end of the code execution.\n",
    "\n",
    "Using conditional instructions of the if-elif' type, write a code that checks the value of a variable namedcountry. Another variable, namedcontinent‘ will take values depending on the content of the former one, such that:\n",
    "• if the country value is present in the europe list, the variable continent should be set to Europe\n",
    "• if the country value is present in the asia list, the variable continent should be set to Asia\n",
    "• if the country value is not present in europe or asia, the variable continent will be set to Other.\n",
    "\n",
    "To do this:"
   ]
  },
  {
   "cell_type": "markdown",
   "id": "9bf355ae-24f9-48bb-a674-1012defb4980",
   "metadata": {},
   "source": [
    "1. Create the two lists europe and asia as well as the variable country (setting the value to Spain) and the variable continent (initiated with an empty character string)."
   ]
  },
  {
   "cell_type": "code",
   "execution_count": 19,
   "id": "20961edc-6f88-47f5-8fc6-761d43e490ed",
   "metadata": {},
   "outputs": [],
   "source": [
    "# Tạo danh sách châu Âu và châu Á\n",
    "europe = [\"Germany\", \"France\", \"Spain\"]\n",
    "asia = [\"Vietnam\", \"China\", \"India\"]\n",
    "\n",
    "# Khởi tạo biến\n",
    "country = \"Spain\"\n",
    "continent = \"\"  # Chuỗi rỗng"
   ]
  },
  {
   "cell_type": "markdown",
   "id": "eb511b0a-0f74-4b8c-85a6-b448efc03576",
   "metadata": {},
   "source": [
    "2. Write the code to achieve the explained objective, and display the content of the continent variable at the end of the execution."
   ]
  },
  {
   "cell_type": "code",
   "execution_count": 20,
   "id": "600fb70c-47aa-4b36-b0de-9d703ac991c5",
   "metadata": {},
   "outputs": [
    {
     "name": "stdout",
     "output_type": "stream",
     "text": [
      "Europe\n"
     ]
    }
   ],
   "source": [
    "# Kiểm tra châu lục\n",
    "if country in europe:\n",
    "    continent = \"Europe\"\n",
    "elif country in asia:\n",
    "    continent = \"Asia\"\n",
    "else:\n",
    "    continent = \"Other\"\n",
    "\n",
    "# Hiển thị kết quả\n",
    "print(continent)"
   ]
  },
  {
   "cell_type": "code",
   "execution_count": null,
   "id": "8a3019d9-06d4-4851-971f-e3fa757821d2",
   "metadata": {},
   "outputs": [],
   "source": []
  }
 ],
 "metadata": {
  "kernelspec": {
   "display_name": "Python 3 (ipykernel)",
   "language": "python",
   "name": "python3"
  },
  "language_info": {
   "codemirror_mode": {
    "name": "ipython",
    "version": 3
   },
   "file_extension": ".py",
   "mimetype": "text/x-python",
   "name": "python",
   "nbconvert_exporter": "python",
   "pygments_lexer": "ipython3",
   "version": "3.12.1"
  }
 },
 "nbformat": 4,
 "nbformat_minor": 5
}
