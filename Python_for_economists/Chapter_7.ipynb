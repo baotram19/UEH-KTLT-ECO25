{
 "cells": [
  {
   "cell_type": "markdown",
   "id": "cce631e7-5f40-447a-8086-de8f93ce8f23",
   "metadata": {},
   "source": [
    "# Chapter 7"
   ]
  },
  {
   "cell_type": "markdown",
   "id": "330c8dd2-5052-49de-8dfb-1b8722f0fa8d",
   "metadata": {},
   "source": [
    "# Loops "
   ]
  },
  {
   "cell_type": "markdown",
   "id": "7b84e45d-a4c1-48c1-9089-a18347ec8256",
   "metadata": {},
   "source": [
    "### 7.1 Loops with while()"
   ]
  },
  {
   "cell_type": "code",
   "execution_count": 1,
   "id": "0113f1df-27cd-4cb1-8438-63f523c53313",
   "metadata": {},
   "outputs": [
    {
     "name": "stdout",
     "output_type": "stream",
     "text": [
      "33.333333333333336\n",
      "11.111111111111112\n",
      "3.703703703703704\n",
      "1.234567901234568\n"
     ]
    }
   ],
   "source": [
    "x = 100\n",
    "while x/3 > 1:\n",
    "    print(x/3) \n",
    "    x = x/3"
   ]
  },
  {
   "cell_type": "markdown",
   "id": "2b3489f8-7f31-42c0-97ff-6fb4906f107f",
   "metadata": {},
   "source": [
    "Vòng lặp này lấy giá trị khởi tạo x, liên tục chia cho 3 và in ra kết quả, cho tới khi kết quả chia nhỏ hơn hoặc bằng 1. Nó minh họa quá trình lặp và giảm dần theo tỷ lệ (x giảm theo lũy thừa 1/3 mỗi lần)."
   ]
  },
  {
   "cell_type": "code",
   "execution_count": 2,
   "id": "6c759fc6-3d88-43dd-96f2-0cb6b17f2e38",
   "metadata": {},
   "outputs": [
    {
     "name": "stdout",
     "output_type": "stream",
     "text": [
      "False\n"
     ]
    }
   ],
   "source": [
    "print(x/3>1)"
   ]
  },
  {
   "cell_type": "markdown",
   "id": "713d0378-b3c2-45d5-b44a-72eca4f1aebe",
   "metadata": {},
   "source": [
    "Dòng này kiểm tra điều kiện x/3 > 1 và in ra kết quả đúng/sai."
   ]
  },
  {
   "cell_type": "code",
   "execution_count": 3,
   "id": "30f4695e-ac2a-4f33-89b0-bf998ce5b955",
   "metadata": {},
   "outputs": [
    {
     "name": "stdout",
     "output_type": "stream",
     "text": [
      "0.41152263374485604\n"
     ]
    }
   ],
   "source": [
    "print(x/3)"
   ]
  },
  {
   "cell_type": "markdown",
   "id": "47b9a829-1d49-4c8a-8777-4987c067fa04",
   "metadata": {},
   "source": [
    "Dòng này chỉ đơn giản tính x chia 3 và in ra kết quả."
   ]
  },
  {
   "cell_type": "markdown",
   "id": "4264066b-8c1b-478a-a867-6a6faa5e7be7",
   "metadata": {},
   "source": [
    "### 7.2 Loops with for()"
   ]
  },
  {
   "cell_type": "code",
   "execution_count": 5,
   "id": "d7d5fb9b-9b50-40de-a22e-b13d22e8c9e4",
   "metadata": {},
   "outputs": [
    {
     "name": "stdout",
     "output_type": "stream",
     "text": [
      "[0, 1, 2, 3]\n"
     ]
    }
   ],
   "source": [
    "print(list(range(0, 4)))"
   ]
  },
  {
   "cell_type": "markdown",
   "id": "b8a72da9-393b-4bf3-b5e5-0c75ec878779",
   "metadata": {},
   "source": [
    "Tạo một danh sách các số nguyên từ 0 đến 3 và in kết quả ra màn hình."
   ]
  },
  {
   "cell_type": "code",
   "execution_count": 6,
   "id": "1855a596-2662-4436-8101-33cbae7aff57",
   "metadata": {},
   "outputs": [
    {
     "name": "stdout",
     "output_type": "stream",
     "text": [
      "[0, 1, 2, 3]\n"
     ]
    }
   ],
   "source": [
    "print(list(range(4)))"
   ]
  },
  {
   "cell_type": "markdown",
   "id": "9892c841-573d-4821-98d0-c10c3b2a9194",
   "metadata": {},
   "source": [
    "Tạo một danh sách các số nguyên từ 0 đến 3 và in ra, giống như list(range(0, 4)), nhưng ngắn gọn hơn."
   ]
  },
  {
   "cell_type": "code",
   "execution_count": 7,
   "id": "29c8917b-fe19-4e33-82ac-a2e2e94d4ba8",
   "metadata": {},
   "outputs": [
    {
     "name": "stdout",
     "output_type": "stream",
     "text": [
      "[2, 3, 4, 5, 6, 7, 8, 9]\n"
     ]
    }
   ],
   "source": [
    "print(list(range(2, 10))) "
   ]
  },
  {
   "cell_type": "markdown",
   "id": "cdac03c0-fcdc-462d-a107-7d50af898291",
   "metadata": {},
   "source": [
    "Tạo và in danh sách các số nguyên từ 2 đến 9."
   ]
  },
  {
   "cell_type": "code",
   "execution_count": 8,
   "id": "eaa724ba-0a83-433c-90b5-7f86f1aefca3",
   "metadata": {},
   "outputs": [
    {
     "name": "stdout",
     "output_type": "stream",
     "text": [
      "[2, 5, 8]\n"
     ]
    }
   ],
   "source": [
    "print(list(range(2, 10, 3)))"
   ]
  },
  {
   "cell_type": "markdown",
   "id": "833958b5-60be-4c3c-b8bb-30d8ad49de26",
   "metadata": {},
   "source": [
    "Tạo và in danh sách các số nguyên từ 2 đến 9, mỗi số cách số trước 3 đơn vị."
   ]
  },
  {
   "cell_type": "code",
   "execution_count": 9,
   "id": "01064c8c-9da2-4b93-b8a3-5cda99069f00",
   "metadata": {},
   "outputs": [
    {
     "name": "stdout",
     "output_type": "stream",
     "text": [
      "The squared value of 0 is 0\n",
      "The squared value of 1 is 1\n",
      "The squared value of 2 is 4\n",
      "The squared value of 3 is 9\n",
      "The squared value of 4 is 16\n",
      "The squared value of 5 is 25\n",
      "The squared value of 6 is 36\n",
      "The squared value of 7 is 49\n",
      "The squared value of 8 is 64\n",
      "The squared value of 9 is 81\n",
      "The squared value of 10 is 100\n"
     ]
    }
   ],
   "source": [
    "message = \"The squared value of {} is {}\" \n",
    "n=10\n",
    "for i in range(0, n+1):\n",
    "    print(message.format(i,i**2))"
   ]
  },
  {
   "cell_type": "markdown",
   "id": "453f4a06-1947-4272-add7-4389d82f89f1",
   "metadata": {},
   "source": [
    "Vòng lặp này tính bình phương của các số từ 0 đến n và in kết quả theo định dạng chuỗi."
   ]
  },
  {
   "cell_type": "code",
   "execution_count": 10,
   "id": "1dde3e34-cc35-4e2c-8811-3e2086347c23",
   "metadata": {},
   "outputs": [
    {
     "name": "stdout",
     "output_type": "stream",
     "text": [
      "[0, 1, 4, 9, 16, 25, 36, 49, 64, 81, 100]\n"
     ]
    }
   ],
   "source": [
    "n=10\n",
    "n_squares = []\n",
    "for i in range(0, n+1):\n",
    "    n_squares.append(i**2) \n",
    "    \n",
    "print(n_squares)"
   ]
  },
  {
   "cell_type": "markdown",
   "id": "7be8c913-d9aa-4a19-b06c-77be5cd8c092",
   "metadata": {},
   "source": [
    "Vòng lặp này tạo danh sách tất cả các bình phương từ 0 đến n."
   ]
  },
  {
   "cell_type": "code",
   "execution_count": 11,
   "id": "4662cec5-b387-4925-8a21-31be9f63802d",
   "metadata": {},
   "outputs": [
    {
     "name": "stdout",
     "output_type": "stream",
     "text": [
      "The squared value of 0 is 0\n",
      "The squared value of 1 is 1\n",
      "The squared value of 2 is 4\n",
      "The squared value of 8 is 64\n",
      "The squared value of 9 is 81\n",
      "The squared value of 10 is 100\n"
     ]
    }
   ],
   "source": [
    "message = \"The squared value of {} is {}\" \n",
    "for i in [0, 1, 2, 8, 9, 10]:\n",
    "    print(message.format(i,i**2))"
   ]
  },
  {
   "cell_type": "code",
   "execution_count": null,
   "id": "b7ee168d-42fc-451f-9e1c-5edbdb78b2bb",
   "metadata": {},
   "outputs": [],
   "source": []
  }
 ],
 "metadata": {
  "kernelspec": {
   "display_name": "Python 3 (ipykernel)",
   "language": "python",
   "name": "python3"
  },
  "language_info": {
   "codemirror_mode": {
    "name": "ipython",
    "version": 3
   },
   "file_extension": ".py",
   "mimetype": "text/x-python",
   "name": "python",
   "nbconvert_exporter": "python",
   "pygments_lexer": "ipython3",
   "version": "3.12.1"
  }
 },
 "nbformat": 4,
 "nbformat_minor": 5
}
