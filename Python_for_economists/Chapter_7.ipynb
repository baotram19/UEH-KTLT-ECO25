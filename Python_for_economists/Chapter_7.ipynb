{
 "cells": [
  {
   "cell_type": "markdown",
   "id": "cce631e7-5f40-447a-8086-de8f93ce8f23",
   "metadata": {},
   "source": [
    "# Chapter 7"
   ]
  },
  {
   "cell_type": "markdown",
   "id": "330c8dd2-5052-49de-8dfb-1b8722f0fa8d",
   "metadata": {},
   "source": [
    "# Loops "
   ]
  },
  {
   "cell_type": "markdown",
   "id": "7b84e45d-a4c1-48c1-9089-a18347ec8256",
   "metadata": {},
   "source": [
    "### 7.1 Loops with while()"
   ]
  },
  {
   "cell_type": "code",
   "execution_count": 1,
   "id": "0113f1df-27cd-4cb1-8438-63f523c53313",
   "metadata": {},
   "outputs": [
    {
     "name": "stdout",
     "output_type": "stream",
     "text": [
      "33.333333333333336\n",
      "11.111111111111112\n",
      "3.703703703703704\n",
      "1.234567901234568\n"
     ]
    }
   ],
   "source": [
    "x = 100\n",
    "while x/3 > 1:\n",
    "    print(x/3) \n",
    "    x = x/3"
   ]
  },
  {
   "cell_type": "markdown",
   "id": "2b3489f8-7f31-42c0-97ff-6fb4906f107f",
   "metadata": {},
   "source": [
    "Vòng lặp này lấy giá trị khởi tạo x, liên tục chia cho 3 và in ra kết quả, cho tới khi kết quả chia nhỏ hơn hoặc bằng 1. Nó minh họa quá trình lặp và giảm dần theo tỷ lệ (x giảm theo lũy thừa 1/3 mỗi lần)."
   ]
  },
  {
   "cell_type": "code",
   "execution_count": 2,
   "id": "6c759fc6-3d88-43dd-96f2-0cb6b17f2e38",
   "metadata": {},
   "outputs": [
    {
     "name": "stdout",
     "output_type": "stream",
     "text": [
      "False\n"
     ]
    }
   ],
   "source": [
    "print(x/3>1)"
   ]
  },
  {
   "cell_type": "markdown",
   "id": "713d0378-b3c2-45d5-b44a-72eca4f1aebe",
   "metadata": {},
   "source": [
    "Dòng này kiểm tra điều kiện x/3 > 1 và in ra kết quả đúng/sai."
   ]
  },
  {
   "cell_type": "code",
   "execution_count": 3,
   "id": "30f4695e-ac2a-4f33-89b0-bf998ce5b955",
   "metadata": {},
   "outputs": [
    {
     "name": "stdout",
     "output_type": "stream",
     "text": [
      "0.41152263374485604\n"
     ]
    }
   ],
   "source": [
    "print(x/3)"
   ]
  },
  {
   "cell_type": "markdown",
   "id": "47b9a829-1d49-4c8a-8777-4987c067fa04",
   "metadata": {},
   "source": [
    "Dòng này chỉ đơn giản tính x chia 3 và in ra kết quả."
   ]
  },
  {
   "cell_type": "markdown",
   "id": "4264066b-8c1b-478a-a867-6a6faa5e7be7",
   "metadata": {},
   "source": [
    "### 7.2 Loops with for()"
   ]
  },
  {
   "cell_type": "code",
   "execution_count": 5,
   "id": "d7d5fb9b-9b50-40de-a22e-b13d22e8c9e4",
   "metadata": {},
   "outputs": [
    {
     "name": "stdout",
     "output_type": "stream",
     "text": [
      "[0, 1, 2, 3]\n"
     ]
    }
   ],
   "source": [
    "print(list(range(0, 4)))"
   ]
  },
  {
   "cell_type": "markdown",
   "id": "b8a72da9-393b-4bf3-b5e5-0c75ec878779",
   "metadata": {},
   "source": [
    "Tạo một danh sách các số nguyên từ 0 đến 3 và in kết quả ra màn hình."
   ]
  },
  {
   "cell_type": "code",
   "execution_count": 6,
   "id": "1855a596-2662-4436-8101-33cbae7aff57",
   "metadata": {},
   "outputs": [
    {
     "name": "stdout",
     "output_type": "stream",
     "text": [
      "[0, 1, 2, 3]\n"
     ]
    }
   ],
   "source": [
    "print(list(range(4)))"
   ]
  },
  {
   "cell_type": "markdown",
   "id": "9892c841-573d-4821-98d0-c10c3b2a9194",
   "metadata": {},
   "source": [
    "Tạo một danh sách các số nguyên từ 0 đến 3 và in ra, giống như list(range(0, 4)), nhưng ngắn gọn hơn."
   ]
  },
  {
   "cell_type": "code",
   "execution_count": 7,
   "id": "29c8917b-fe19-4e33-82ac-a2e2e94d4ba8",
   "metadata": {},
   "outputs": [
    {
     "name": "stdout",
     "output_type": "stream",
     "text": [
      "[2, 3, 4, 5, 6, 7, 8, 9]\n"
     ]
    }
   ],
   "source": [
    "print(list(range(2, 10))) "
   ]
  },
  {
   "cell_type": "markdown",
   "id": "cdac03c0-fcdc-462d-a107-7d50af898291",
   "metadata": {},
   "source": [
    "Tạo và in danh sách các số nguyên từ 2 đến 9."
   ]
  },
  {
   "cell_type": "code",
   "execution_count": 8,
   "id": "eaa724ba-0a83-433c-90b5-7f86f1aefca3",
   "metadata": {},
   "outputs": [
    {
     "name": "stdout",
     "output_type": "stream",
     "text": [
      "[2, 5, 8]\n"
     ]
    }
   ],
   "source": [
    "print(list(range(2, 10, 3)))"
   ]
  },
  {
   "cell_type": "markdown",
   "id": "833958b5-60be-4c3c-b8bb-30d8ad49de26",
   "metadata": {},
   "source": [
    "Tạo và in danh sách các số nguyên từ 2 đến 9, mỗi số cách số trước 3 đơn vị."
   ]
  },
  {
   "cell_type": "code",
   "execution_count": 9,
   "id": "01064c8c-9da2-4b93-b8a3-5cda99069f00",
   "metadata": {},
   "outputs": [
    {
     "name": "stdout",
     "output_type": "stream",
     "text": [
      "The squared value of 0 is 0\n",
      "The squared value of 1 is 1\n",
      "The squared value of 2 is 4\n",
      "The squared value of 3 is 9\n",
      "The squared value of 4 is 16\n",
      "The squared value of 5 is 25\n",
      "The squared value of 6 is 36\n",
      "The squared value of 7 is 49\n",
      "The squared value of 8 is 64\n",
      "The squared value of 9 is 81\n",
      "The squared value of 10 is 100\n"
     ]
    }
   ],
   "source": [
    "message = \"The squared value of {} is {}\" \n",
    "n=10\n",
    "for i in range(0, n+1):\n",
    "    print(message.format(i,i**2))"
   ]
  },
  {
   "cell_type": "markdown",
   "id": "453f4a06-1947-4272-add7-4389d82f89f1",
   "metadata": {},
   "source": [
    "Vòng lặp này tính bình phương của các số từ 0 đến n và in kết quả theo định dạng chuỗi."
   ]
  },
  {
   "cell_type": "code",
   "execution_count": 10,
   "id": "1dde3e34-cc35-4e2c-8811-3e2086347c23",
   "metadata": {},
   "outputs": [
    {
     "name": "stdout",
     "output_type": "stream",
     "text": [
      "[0, 1, 4, 9, 16, 25, 36, 49, 64, 81, 100]\n"
     ]
    }
   ],
   "source": [
    "n=10\n",
    "n_squares = []\n",
    "for i in range(0, n+1):\n",
    "    n_squares.append(i**2) \n",
    "    \n",
    "print(n_squares)"
   ]
  },
  {
   "cell_type": "markdown",
   "id": "7be8c913-d9aa-4a19-b06c-77be5cd8c092",
   "metadata": {},
   "source": [
    "Vòng lặp này tạo danh sách tất cả các bình phương từ 0 đến n."
   ]
  },
  {
   "cell_type": "code",
   "execution_count": 11,
   "id": "4662cec5-b387-4925-8a21-31be9f63802d",
   "metadata": {},
   "outputs": [
    {
     "name": "stdout",
     "output_type": "stream",
     "text": [
      "The squared value of 0 is 0\n",
      "The squared value of 1 is 1\n",
      "The squared value of 2 is 4\n",
      "The squared value of 8 is 64\n",
      "The squared value of 9 is 81\n",
      "The squared value of 10 is 100\n"
     ]
    }
   ],
   "source": [
    "message = \"The squared value of {} is {}\" \n",
    "for i in [0, 1, 2, 8, 9, 10]:\n",
    "    print(message.format(i,i**2))"
   ]
  },
  {
   "cell_type": "markdown",
   "id": "90d62ffe-8283-4751-baaa-cbd24843bfb0",
   "metadata": {},
   "source": [
    "Vòng lặp này tính bình phương của các số cụ thể trong danh sách và in ra kết quả."
   ]
  },
  {
   "cell_type": "code",
   "execution_count": 12,
   "id": "518642a7-f987-435a-81d2-46d4f0054c7c",
   "metadata": {},
   "outputs": [
    {
     "name": "stdout",
     "output_type": "stream",
     "text": [
      "There is(are) 9 letter(s) in the name: Pascaline\n",
      "There is(are) 8 letter(s) in the name: Gauthier\n",
      "There is(are) 4 letter(s) in the name: Xuan\n",
      "There is(are) 5 letter(s) in the name: Jimmy\n"
     ]
    }
   ],
   "source": [
    "message = \"There is(are) {} letter(s) in the name: {}\"\n",
    "for first_name in [\"Pascaline\", \"Gauthier\", \"Xuan\", \"Jimmy\"]:\n",
    "  print(message.format(len(first_name), first_name))"
   ]
  },
  {
   "cell_type": "markdown",
   "id": "7482eedd-355d-4d4a-90ff-d5d2daaf0baa",
   "metadata": {},
   "source": [
    "Vòng lặp này duyệt qua danh sách tên, tính số ký tự của từng tên và in ra theo định dạng đẹp mắt."
   ]
  },
  {
   "cell_type": "code",
   "execution_count": 1,
   "id": "6241e2b1-e233-4f9b-8811-66a8a422ad11",
   "metadata": {},
   "outputs": [
    {
     "name": "stdout",
     "output_type": "stream",
     "text": [
      "i equals 0 and j equals 0\n",
      "i equals 0 and j equals 1\n",
      "i equals 0 and j equals 2\n",
      "i equals 1 and j equals 0\n",
      "i equals 1 and j equals 1\n",
      "i equals 1 and j equals 2\n",
      "i equals 2 and j equals 0\n",
      "i equals 2 and j equals 1\n",
      "i equals 2 and j equals 2\n"
     ]
    }
   ],
   "source": [
    "message = \"i equals {} and j equals {}\" \n",
    "for i in range(0,3):\n",
    "    for j in range(0,3): \n",
    "        print(message.format(i, j))"
   ]
  },
  {
   "cell_type": "markdown",
   "id": "36f290fe-b0e1-4af0-8168-0941d5330307",
   "metadata": {},
   "source": [
    "Là vòng lặp lồng nhau, in tất cả cặp giá trị (i, j) từ 0 đến 2. Đây là cách cơ bản để duyệt qua một ma trận hoặc tất cả kết hợp hai tập hợp số."
   ]
  },
  {
   "cell_type": "code",
   "execution_count": 2,
   "id": "7b94d0bc-ebcb-4102-b734-2fde3d36c5f5",
   "metadata": {},
   "outputs": [
    {
     "name": "stdout",
     "output_type": "stream",
     "text": [
      "New value for j: 15\n",
      "New value for j: 20\n",
      "New value for j: 25\n",
      "New value for j: 30\n"
     ]
    }
   ],
   "source": [
    "message = \"New value for j: {}\" \n",
    "j = 10\n",
    "for i in range(0, 4):\n",
    "    j += 5 \n",
    "    print(message.format(j))"
   ]
  },
  {
   "cell_type": "markdown",
   "id": "da6190f5-3590-4dd9-9f97-294753d6a8de",
   "metadata": {},
   "source": [
    "Vòng lặp này tăng giá trị j lên 5 mỗi lần và in kết quả, tổng cộng 4 lần. Đây là ví dụ cơ bản về vòng lặp với thay đổi giá trị biến theo từng bước."
   ]
  },
  {
   "cell_type": "code",
   "execution_count": 3,
   "id": "f624e395-427b-40b0-a7a9-2d454b8a4cce",
   "metadata": {},
   "outputs": [
    {
     "name": "stdout",
     "output_type": "stream",
     "text": [
      "30\n"
     ]
    }
   ],
   "source": [
    "print(j)"
   ]
  },
  {
   "cell_type": "markdown",
   "id": "6013f64a-0c36-4dfe-9982-54efec53c53f",
   "metadata": {},
   "source": [
    "print(j) cho bạn biết giá trị cuối cùng của biến j sau khi vòng lặp hoặc các phép toán thay đổi nó."
   ]
  },
  {
   "cell_type": "markdown",
   "id": "53913cd0-7650-4a6b-9321-4f8c0d64172a",
   "metadata": {},
   "source": [
    "### 7.3 Exercises"
   ]
  },
  {
   "cell_type": "markdown",
   "id": "60baf1cd-c2c7-4720-a58b-ce7826c725df",
   "metadata": {},
   "source": [
    "##### 1. Write a very naive program to determine if a number is prime or not. To do this:"
   ]
  },
  {
   "cell_type": "markdown",
   "id": "618eb56c-7524-49b7-a316-368f43062bae",
   "metadata": {},
   "source": [
    "1. define a number variable containing a natural integer of your choice (not too large),"
   ]
  },
  {
   "cell_type": "code",
   "execution_count": 4,
   "id": "234e52ae-1cf4-40ad-8653-dac51408e20d",
   "metadata": {},
   "outputs": [
    {
     "name": "stdout",
     "output_type": "stream",
     "text": [
      "19 is a prime number.\n"
     ]
    }
   ],
   "source": [
    "# 1. Định nghĩa một biến number chứa một số nguyên tự nhiên\n",
    "number = 19  \n",
    "\n",
    "# 2. Kiểm tra xem số đó có phải là số nguyên tố hay không\n",
    "is_prime = True  \n",
    "\n",
    "# Một số nguyên tố phải lớn hơn 1\n",
    "if number < 2:\n",
    "    is_prime = False\n",
    "else:\n",
    "    # Kiểm tra chia hết từ 2 đến number-1\n",
    "    for i in range(2, number):\n",
    "        if number % i == 0:\n",
    "            is_prime = False\n",
    "            break\n",
    "\n",
    "# 3. In kết quả\n",
    "if is_prime:\n",
    "    print(f\"{number} is a prime number.\")\n",
    "else:\n",
    "    print(f\"{number} is not a prime number.\")"
   ]
  },
  {
   "cell_type": "markdown",
   "id": "5e01f802-5034-4706-b087-c9ccde79c45e",
   "metadata": {},
   "source": [
    "2. using a loop, check if each integer up to the square root of your number, is a divisor of your number (stop if ever it is the case)"
   ]
  },
  {
   "cell_type": "code",
   "execution_count": 6,
   "id": "c1439f91-59e6-42da-94b1-f29b8ca2f3b0",
   "metadata": {},
   "outputs": [
    {
     "name": "stdout",
     "output_type": "stream",
     "text": [
      "19 is a prime number.\n"
     ]
    }
   ],
   "source": [
    "import math  \n",
    "\n",
    "# 1. Định nghĩa số cần kiểm tra\n",
    "number = 19  \n",
    "\n",
    "# 2. Giả sử ban đầu số là số nguyên tố\n",
    "is_prime = True\n",
    "\n",
    "# Loại các số < 2\n",
    "if number < 2:\n",
    "    is_prime = False\n",
    "else:\n",
    "    # Kiểm tra các số từ 2 đến căn bậc hai của number\n",
    "    for i in range(2, int(math.sqrt(number)) + 1):\n",
    "        if number % i == 0:\n",
    "            is_prime = False\n",
    "            break  \n",
    "\n",
    "# 3. In kết quả\n",
    "if is_prime:\n",
    "    print(f\"{number} is a prime number.\")\n",
    "else:\n",
    "    print(f\"{number} is not a prime number.\")"
   ]
  },
  {
   "cell_type": "markdown",
   "id": "165ccd4e-1994-43c4-8bed-212b29d4a095",
   "metadata": {},
   "source": [
    "3. at the loop output, write a conditional instruction indicating whether or not the number is a prime one."
   ]
  },
  {
   "cell_type": "code",
   "execution_count": 7,
   "id": "08fc414e-59e0-4d8e-8c9b-acb3c22c7679",
   "metadata": {},
   "outputs": [
    {
     "name": "stdout",
     "output_type": "stream",
     "text": [
      "17 is a prime number.\n"
     ]
    }
   ],
   "source": [
    "import math\n",
    "\n",
    "# 1. Định nghĩa số cần kiểm tra\n",
    "number = 17  \n",
    "\n",
    "# 2. Giả sử ban đầu số là số nguyên tố\n",
    "is_prime = True\n",
    "\n",
    "# Loại các số < 2\n",
    "if number < 2:\n",
    "    is_prime = False\n",
    "else:\n",
    "    # Kiểm tra các số từ 2 đến căn bậc hai của number\n",
    "    for i in range(2, int(math.sqrt(number)) + 1):\n",
    "        if number % i == 0:\n",
    "            is_prime = False\n",
    "            break  \n",
    "\n",
    "# 3. In ra kết quả bằng điều kiện\n",
    "if is_prime:\n",
    "    print(f\"{number} is a prime number.\")\n",
    "else:\n",
    "    print(f\"{number} is not a prime number.\")"
   ]
  },
  {
   "cell_type": "markdown",
   "id": "f3e20704-ebc5-461b-b452-42a878c8bd6f",
   "metadata": {},
   "source": [
    "2. Choose a ‘mystery’ number between 1 and 100, and store it in an object called mystery_number. Then, create a loop that at each iteration performs a random draw of an integer between 1 and 100. As long as the number drawn is different from the mystery number, the loop must continue. At the output of the loop, a variable called nb_drawings will contain the number of draws made to obtain the mystery number.\n",
    "Note: to draw a random number between 1 and 100, the method randint() of the module random may help)."
   ]
  },
  {
   "cell_type": "code",
   "execution_count": 8,
   "id": "9f29dd72-4c32-4d7b-a5af-c9c94d16c1a0",
   "metadata": {},
   "outputs": [
    {
     "name": "stdout",
     "output_type": "stream",
     "text": [
      "Mystery number (for verification): 24\n",
      "The mystery number 24 was found after 134 draws.\n"
     ]
    }
   ],
   "source": [
    "import random  # để dùng hàm randint\n",
    "\n",
    "# 1. Chọn một số bí ẩn từ 1 đến 100\n",
    "mystery_number = random.randint(1, 100)\n",
    "print(f\"Mystery number (for verification): {mystery_number}\")  \n",
    "\n",
    "# 2. Khởi tạo biến đếm số lần rút thăm\n",
    "nb_drawings = 0\n",
    "\n",
    "# 3. Lặp cho đến khi rút được số bí ẩn\n",
    "while True:\n",
    "    draw = random.randint(1, 100)  # rút một số ngẫu nhiên từ 1 đến 100\n",
    "    nb_drawings += 1  # tăng số lần rút thăm\n",
    "    if draw == mystery_number:\n",
    "        break  # dừng vòng lặp khi rút trúng số bí ẩn\n",
    "\n",
    "# 4. In kết quả\n",
    "print(f\"The mystery number {mystery_number} was found after {nb_drawings} draws.\")"
   ]
  },
  {
   "cell_type": "markdown",
   "id": "2d080e75-9540-4ea1-8069-530d4d991879",
   "metadata": {},
   "source": [
    "3. Use a loop to scan integers from 1 to 20 using a for loop, displaying in the console at each iteration if the current number is even."
   ]
  },
  {
   "cell_type": "code",
   "execution_count": 9,
   "id": "a3f02b5d-3557-4914-9ce9-7bc2534f0236",
   "metadata": {},
   "outputs": [
    {
     "name": "stdout",
     "output_type": "stream",
     "text": [
      "2 is even\n",
      "4 is even\n",
      "6 is even\n",
      "8 is even\n",
      "10 is even\n",
      "12 is even\n",
      "14 is even\n",
      "16 is even\n",
      "18 is even\n",
      "20 is even\n"
     ]
    }
   ],
   "source": [
    "for i in range(1, 21):\n",
    "    if i % 2 == 0:\n",
    "        print(f\"{i} is even\")"
   ]
  },
  {
   "cell_type": "code",
   "execution_count": null,
   "id": "4aa0074c-6098-4f65-be71-8f67adac5931",
   "metadata": {},
   "outputs": [],
   "source": []
  }
 ],
 "metadata": {
  "kernelspec": {
   "display_name": "Python 3 (ipykernel)",
   "language": "python",
   "name": "python3"
  },
  "language_info": {
   "codemirror_mode": {
    "name": "ipython",
    "version": 3
   },
   "file_extension": ".py",
   "mimetype": "text/x-python",
   "name": "python",
   "nbconvert_exporter": "python",
   "pygments_lexer": "ipython3",
   "version": "3.12.1"
  }
 },
 "nbformat": 4,
 "nbformat_minor": 5
}
