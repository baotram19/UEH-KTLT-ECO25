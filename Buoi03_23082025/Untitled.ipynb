{
 "cells": [
  {
   "cell_type": "markdown",
   "id": "c42c562a-b592-4cbd-a598-2b0d50e71085",
   "metadata": {},
   "source": [
    "# **NumPy**"
   ]
  },
  {
   "cell_type": "markdown",
   "id": "9bff2185-4a87-4044-a0cf-f8475fb08600",
   "metadata": {},
   "source": [
    "## Phân tích và hiển thị dữ liệu "
   ]
  },
  {
   "cell_type": "code",
   "execution_count": 2,
   "id": "2c724ec5-3a6b-433d-bf60-0fced43ec55c",
   "metadata": {},
   "outputs": [
    {
     "name": "stdout",
     "output_type": "stream",
     "text": [
      "[1, 2, 3, 4, 5]\n",
      "[1, 2, 3, 4, 5, 1, 2, 3, 4, 5]\n"
     ]
    }
   ],
   "source": [
    "v = list(range(1, 6))\n",
    "print(v)\n",
    "print(2 * v)"
   ]
  },
  {
   "cell_type": "code",
   "execution_count": 3,
   "id": "3be544c8-332d-447e-b45f-94983f8ca817",
   "metadata": {},
   "outputs": [
    {
     "name": "stdout",
     "output_type": "stream",
     "text": [
      "[1 2 3 4 5]\n",
      "[ 2  4  6  8 10]\n"
     ]
    }
   ],
   "source": [
    "import numpy as np\n",
    "v = np.arange(1, 6)\n",
    "print(v)\n",
    "print(2 * v)"
   ]
  },
  {
   "cell_type": "code",
   "execution_count": 4,
   "id": "7b42bc2b-8ed7-4a5b-a3ee-8d57590d1cdb",
   "metadata": {},
   "outputs": [],
   "source": [
    "fruits = [\"apple\", \"banana\", \"cherry\"] #lists []\n",
    "colors = (\"red\", \"green\", \"blue\") #tuples ()\n",
    "animals = {'cat', 'dog'} #sets {}\n",
    "person = {\"name\" : \"Tom\", \"age\" : 20} #dictionaries {}"
   ]
  },
  {
   "cell_type": "code",
   "execution_count": null,
   "id": "91e3d5fb-60af-43c3-b7cd-290147b1ae4d",
   "metadata": {},
   "outputs": [],
   "source": []
  }
 ],
 "metadata": {
  "kernelspec": {
   "display_name": "Python 3 (ipykernel)",
   "language": "python",
   "name": "python3"
  },
  "language_info": {
   "codemirror_mode": {
    "name": "ipython",
    "version": 3
   },
   "file_extension": ".py",
   "mimetype": "text/x-python",
   "name": "python",
   "nbconvert_exporter": "python",
   "pygments_lexer": "ipython3",
   "version": "3.12.1"
  }
 },
 "nbformat": 4,
 "nbformat_minor": 5
}
