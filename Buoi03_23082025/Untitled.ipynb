{
 "cells": [
  {
   "cell_type": "markdown",
   "id": "c42c562a-b592-4cbd-a598-2b0d50e71085",
   "metadata": {},
   "source": [
    "# **NumPy**"
   ]
  },
  {
   "cell_type": "markdown",
   "id": "9bff2185-4a87-4044-a0cf-f8475fb08600",
   "metadata": {},
   "source": [
    "## Phân tích và hiển thị dữ liệu "
   ]
  },
  {
   "cell_type": "code",
   "execution_count": 2,
   "id": "2c724ec5-3a6b-433d-bf60-0fced43ec55c",
   "metadata": {},
   "outputs": [
    {
     "name": "stdout",
     "output_type": "stream",
     "text": [
      "[1, 2, 3, 4, 5]\n",
      "[1, 2, 3, 4, 5, 1, 2, 3, 4, 5]\n"
     ]
    }
   ],
   "source": [
    "v = list(range(1, 6))\n",
    "print(v)\n",
    "print(2 * v)"
   ]
  },
  {
   "cell_type": "code",
   "execution_count": 3,
   "id": "3be544c8-332d-447e-b45f-94983f8ca817",
   "metadata": {},
   "outputs": [
    {
     "name": "stdout",
     "output_type": "stream",
     "text": [
      "[1 2 3 4 5]\n",
      "[ 2  4  6  8 10]\n"
     ]
    }
   ],
   "source": [
    "import numpy as np\n",
    "v = np.arange(1, 6)\n",
    "print(v)\n",
    "print(2 * v)"
   ]
  },
  {
   "cell_type": "code",
   "execution_count": 4,
   "id": "7b42bc2b-8ed7-4a5b-a3ee-8d57590d1cdb",
   "metadata": {},
   "outputs": [],
   "source": [
    "fruits = [\"apple\", \"banana\", \"cherry\"] #lists []\n",
    "colors = (\"red\", \"green\", \"blue\") #tuples ()\n",
    "animals = {'cat', 'dog'} #sets {}\n",
    "person = {\"name\" : \"Tom\", \"age\" : 20} #dictionaries {}"
   ]
  },
  {
   "cell_type": "code",
   "execution_count": 6,
   "id": "91e3d5fb-60af-43c3-b7cd-290147b1ae4d",
   "metadata": {},
   "outputs": [
    {
     "name": "stdout",
     "output_type": "stream",
     "text": [
      "len(x)=\n",
      "x[0]= 60\n",
      "x[1]= 70\n",
      "x[-1]= 90\n",
      "x[1:3]= [70, 80]\n"
     ]
    }
   ],
   "source": [
    "x = [60, 70, 80, 90]\n",
    "print('len(x)=')\n",
    "print('x[0]=', x[0])\n",
    "print('x[1]=', x[1])\n",
    "print('x[-1]=', x[-1])\n",
    "print('x[1:3]=', x[1:3])"
   ]
  },
  {
   "cell_type": "code",
   "execution_count": 8,
   "id": "34b60962-d1b1-41ae-9e44-ce0eedfa32bd",
   "metadata": {},
   "outputs": [
    {
     "data": {
      "text/plain": [
       "'c'"
      ]
     },
     "metadata": {},
     "output_type": "display_data"
    },
    {
     "data": {
      "text/plain": [
       "array([ 4, 10, 18])"
      ]
     },
     "metadata": {},
     "output_type": "display_data"
    }
   ],
   "source": [
    "from IPython.display import display\n",
    "import numpy as np\n",
    "a = np.array([1, 2, 3])\n",
    "b = np.array([4, 5, 6])\n",
    "c = a * b\n",
    "display('c', c)"
   ]
  },
  {
   "cell_type": "code",
   "execution_count": 9,
   "id": "7e441631-dd24-4c78-8087-67bef9922956",
   "metadata": {},
   "outputs": [
    {
     "data": {
      "text/plain": [
       "array([[0., 0.],\n",
       "       [0., 0.]])"
      ]
     },
     "metadata": {},
     "output_type": "display_data"
    },
    {
     "data": {
      "text/plain": [
       "array([[1., 1.]])"
      ]
     },
     "metadata": {},
     "output_type": "display_data"
    },
    {
     "data": {
      "text/plain": [
       "array([[7, 7],\n",
       "       [7, 7]])"
      ]
     },
     "metadata": {},
     "output_type": "display_data"
    },
    {
     "data": {
      "text/plain": [
       "array([[1., 0.],\n",
       "       [0., 1.]])"
      ]
     },
     "metadata": {},
     "output_type": "display_data"
    },
    {
     "data": {
      "text/plain": [
       "array([[0.04776293, 0.81070923],\n",
       "       [0.98656641, 0.70119701]])"
      ]
     },
     "metadata": {},
     "output_type": "display_data"
    }
   ],
   "source": [
    "import numpy as np\n",
    "\n",
    "a = np.zeros((2,2))\n",
    "display(a)\n",
    "\n",
    "b = np.ones((1,2))\n",
    "display(b)\n",
    "\n",
    "c = np.full((2,2), 7)\n",
    "display(c)\n",
    "\n",
    "d = np.eye(2)\n",
    "display(d)\n",
    "\n",
    "e = np.random.random((2,2))\n",
    "display(e)"
   ]
  },
  {
   "cell_type": "code",
   "execution_count": 2,
   "id": "a0f105a5-19e9-45a0-9e22-28b81e5a2063",
   "metadata": {},
   "outputs": [
    {
     "data": {
      "text/plain": [
       "array([ 0,  1,  2,  3,  4,  5,  6,  7,  8,  9, 10, 11, 12, 13, 14])"
      ]
     },
     "metadata": {},
     "output_type": "display_data"
    },
    {
     "data": {
      "text/plain": [
       "array([[ 0,  1,  2,  3,  4],\n",
       "       [ 5,  6,  7,  8,  9],\n",
       "       [10, 11, 12, 13, 14]])"
      ]
     },
     "metadata": {},
     "output_type": "display_data"
    },
    {
     "data": {
      "text/plain": [
       "(3, 5)"
      ]
     },
     "metadata": {},
     "output_type": "display_data"
    },
    {
     "data": {
      "text/plain": [
       "2"
      ]
     },
     "metadata": {},
     "output_type": "display_data"
    },
    {
     "data": {
      "text/plain": [
       "'int64'"
      ]
     },
     "metadata": {},
     "output_type": "display_data"
    }
   ],
   "source": [
    "import numpy as np\n",
    "a = np.arange(15)\n",
    "display(a)\n",
    "\n",
    "a = a.reshape(3, 5)\n",
    "display(a)\n",
    "\n",
    "display(a.shape)\n",
    "display(a.ndim)\n",
    "display(a.dtype.name)"
   ]
  },
  {
   "cell_type": "code",
   "execution_count": 3,
   "id": "b4f1eb25-7999-4d46-8fe6-d39abac65f52",
   "metadata": {},
   "outputs": [
    {
     "data": {
      "text/plain": [
       "array([1, 2, 3, 4, 5])"
      ]
     },
     "metadata": {},
     "output_type": "display_data"
    }
   ],
   "source": [
    "import numpy as np\n",
    "a = np.array([1,2,3,4,5])\n",
    "display(a)"
   ]
  },
  {
   "cell_type": "code",
   "execution_count": 4,
   "id": "241c825f-c5d1-4e77-a09c-a1ec242b11d5",
   "metadata": {},
   "outputs": [
    {
     "data": {
      "text/plain": [
       "array([[ 1,  2,  3,  4,  5],\n",
       "       [ 6,  7,  8,  9, 10],\n",
       "       [11, 12, 13, 14, 15],\n",
       "       [16, 17, 18, 19, 20]])"
      ]
     },
     "metadata": {},
     "output_type": "display_data"
    },
    {
     "data": {
      "text/plain": [
       "(4, 5)"
      ]
     },
     "metadata": {},
     "output_type": "display_data"
    },
    {
     "data": {
      "text/plain": [
       "2"
      ]
     },
     "metadata": {},
     "output_type": "display_data"
    },
    {
     "data": {
      "text/plain": [
       "'int64'"
      ]
     },
     "metadata": {},
     "output_type": "display_data"
    }
   ],
   "source": [
    "a = np.array([\n",
    "    [1,2,3,4,5],\n",
    "    [6,7,8,9,10],\n",
    "    [11,12,13,14,15],\n",
    "    [16,17,18,19,20]\n",
    "])\n",
    "display(a)\n",
    "display(a.shape)\n",
    "display(a.ndim)\n",
    "display(a.dtype.name)"
   ]
  },
  {
   "cell_type": "code",
   "execution_count": 6,
   "id": "861c02f5-b16e-475a-9af6-736954b333e8",
   "metadata": {},
   "outputs": [
    {
     "data": {
      "text/plain": [
       "array([[ 0,  1,  2,  3],\n",
       "       [10, 11, 12, 13],\n",
       "       [20, 21, 22, 23]])"
      ]
     },
     "metadata": {},
     "output_type": "display_data"
    },
    {
     "data": {
      "text/plain": [
       "(3, 4)"
      ]
     },
     "metadata": {},
     "output_type": "display_data"
    },
    {
     "data": {
      "text/plain": [
       "2"
      ]
     },
     "metadata": {},
     "output_type": "display_data"
    },
    {
     "data": {
      "text/plain": [
       "'int64'"
      ]
     },
     "metadata": {},
     "output_type": "display_data"
    }
   ],
   "source": [
    "a = np.array([\n",
    "    [0, 1, 2, 3], \n",
    "    [10, 11, 12, 13], \n",
    "    [20, 21, 22, 23]\n",
    "])\n",
    "display(a)\n",
    "display(a.shape)\n",
    "display(a.ndim)\n",
    "display(a.dtype.name)"
   ]
  },
  {
   "cell_type": "code",
   "execution_count": 9,
   "id": "edaacead-1f2c-4ffd-8ba2-b819e5aac52f",
   "metadata": {},
   "outputs": [
    {
     "data": {
      "text/plain": [
       "array([[1, 2, 3],\n",
       "       [4, 5, 6],\n",
       "       [7, 8, 9]])"
      ]
     },
     "metadata": {},
     "output_type": "display_data"
    }
   ],
   "source": [
    "a = np.arange(1, 10).reshape(3,3)\n",
    "display(a)"
   ]
  },
  {
   "cell_type": "code",
   "execution_count": 11,
   "id": "23546aa0-f6a4-46f5-ae5b-9c9bb98322bb",
   "metadata": {},
   "outputs": [
    {
     "data": {
      "text/plain": [
       "array([7, 8, 9])"
      ]
     },
     "metadata": {},
     "output_type": "display_data"
    },
    {
     "data": {
      "text/plain": [
       "(3,)"
      ]
     },
     "metadata": {},
     "output_type": "display_data"
    },
    {
     "data": {
      "text/plain": [
       "array([7, 8, 9])"
      ]
     },
     "metadata": {},
     "output_type": "display_data"
    },
    {
     "data": {
      "text/plain": [
       "(3,)"
      ]
     },
     "metadata": {},
     "output_type": "display_data"
    },
    {
     "data": {
      "text/plain": [
       "array([[7, 8, 9]])"
      ]
     },
     "metadata": {},
     "output_type": "display_data"
    },
    {
     "data": {
      "text/plain": [
       "(1, 3)"
      ]
     },
     "metadata": {},
     "output_type": "display_data"
    }
   ],
   "source": [
    "display(a[2])\n",
    "display(a[2].shape)\n",
    "\n",
    "display(a[2, :])\n",
    "display(a[2, :].shape)\n",
    "\n",
    "display(a[2:, :])\n",
    "display(a[2:, :].shape)"
   ]
  },
  {
   "cell_type": "markdown",
   "id": "f444bbd8-70fd-45fe-8b5e-0a4b5213bee1",
   "metadata": {},
   "source": [
    "### Pandas"
   ]
  },
  {
   "cell_type": "code",
   "execution_count": 3,
   "id": "b76c145b-ea4f-4fcc-b7df-3096d1ae4e9b",
   "metadata": {},
   "outputs": [
    {
     "data": {
      "text/html": [
       "<div>\n",
       "<style scoped>\n",
       "    .dataframe tbody tr th:only-of-type {\n",
       "        vertical-align: middle;\n",
       "    }\n",
       "\n",
       "    .dataframe tbody tr th {\n",
       "        vertical-align: top;\n",
       "    }\n",
       "\n",
       "    .dataframe thead th {\n",
       "        text-align: right;\n",
       "    }\n",
       "</style>\n",
       "<table border=\"1\" class=\"dataframe\">\n",
       "  <thead>\n",
       "    <tr style=\"text-align: right;\">\n",
       "      <th></th>\n",
       "      <th>a</th>\n",
       "      <th>b</th>\n",
       "      <th>c</th>\n",
       "    </tr>\n",
       "  </thead>\n",
       "  <tbody>\n",
       "    <tr>\n",
       "      <th>0</th>\n",
       "      <td>4</td>\n",
       "      <td>7</td>\n",
       "      <td>10</td>\n",
       "    </tr>\n",
       "    <tr>\n",
       "      <th>1</th>\n",
       "      <td>5</td>\n",
       "      <td>8</td>\n",
       "      <td>11</td>\n",
       "    </tr>\n",
       "    <tr>\n",
       "      <th>2</th>\n",
       "      <td>6</td>\n",
       "      <td>9</td>\n",
       "      <td>12</td>\n",
       "    </tr>\n",
       "  </tbody>\n",
       "</table>\n",
       "</div>"
      ],
      "text/plain": [
       "   a  b   c\n",
       "0  4  7  10\n",
       "1  5  8  11\n",
       "2  6  9  12"
      ]
     },
     "metadata": {},
     "output_type": "display_data"
    },
    {
     "data": {
      "text/html": [
       "<div>\n",
       "<style scoped>\n",
       "    .dataframe tbody tr th:only-of-type {\n",
       "        vertical-align: middle;\n",
       "    }\n",
       "\n",
       "    .dataframe tbody tr th {\n",
       "        vertical-align: top;\n",
       "    }\n",
       "\n",
       "    .dataframe thead th {\n",
       "        text-align: right;\n",
       "    }\n",
       "</style>\n",
       "<table border=\"1\" class=\"dataframe\">\n",
       "  <thead>\n",
       "    <tr style=\"text-align: right;\">\n",
       "      <th></th>\n",
       "      <th>a</th>\n",
       "      <th>b</th>\n",
       "      <th>c</th>\n",
       "    </tr>\n",
       "  </thead>\n",
       "  <tbody>\n",
       "    <tr>\n",
       "      <th>0</th>\n",
       "      <td>4</td>\n",
       "      <td>7</td>\n",
       "      <td>10</td>\n",
       "    </tr>\n",
       "    <tr>\n",
       "      <th>1</th>\n",
       "      <td>5</td>\n",
       "      <td>8</td>\n",
       "      <td>11</td>\n",
       "    </tr>\n",
       "    <tr>\n",
       "      <th>2</th>\n",
       "      <td>6</td>\n",
       "      <td>9</td>\n",
       "      <td>12</td>\n",
       "    </tr>\n",
       "  </tbody>\n",
       "</table>\n",
       "</div>"
      ],
      "text/plain": [
       "   a  b   c\n",
       "0  4  7  10\n",
       "1  5  8  11\n",
       "2  6  9  12"
      ]
     },
     "metadata": {},
     "output_type": "display_data"
    }
   ],
   "source": [
    "import pandas as pd\n",
    "a = pd.DataFrame(\n",
    "    {\n",
    "        'a': [4,5,6],\n",
    "        'b': [7,8,9],\n",
    "        'c': [10,11,12]\n",
    "    })\n",
    "display(a)\n",
    "\n",
    "b = pd.DataFrame([\n",
    "    {\"a\":4, \"b\":7, \"c\":10},\n",
    "    {\"a\":5, \"b\":8, \"c\":11},\n",
    "    {\"a\":6, \"b\":9, \"c\":12},\n",
    "    ])\n",
    "display(b)               "
   ]
  },
  {
   "cell_type": "code",
   "execution_count": 4,
   "id": "9f2c8ea2-ea72-4d83-9d1e-2bb88703f585",
   "metadata": {},
   "outputs": [
    {
     "data": {
      "text/plain": [
       "pandas.core.frame.DataFrame"
      ]
     },
     "metadata": {},
     "output_type": "display_data"
    }
   ],
   "source": [
    "display(type(a))"
   ]
  },
  {
   "cell_type": "code",
   "execution_count": null,
   "id": "4a42747a-01e2-48f8-9823-01c66f6b761d",
   "metadata": {},
   "outputs": [],
   "source": [
    "import numpy as np\n",
    "import pandas as pd\n",
    "import matplotlib.pyplot as plt\n",
    "\n",
    "s = pd.Series([1,3,5,np.nan,6,8])\n",
    "display(s)\n",
    "\n",
    "dates = pd.date_range('20181001', periods=6)\n",
    "display(dates)"
   ]
  },
  {
   "cell_type": "code",
   "execution_count": null,
   "id": "ef98f844-c3a2-4d0b-8105-891cf8ea185a",
   "metadata": {},
   "outputs": [],
   "source": []
  }
 ],
 "metadata": {
  "kernelspec": {
   "display_name": "Python 3 (ipykernel)",
   "language": "python",
   "name": "python3"
  },
  "language_info": {
   "codemirror_mode": {
    "name": "ipython",
    "version": 3
   },
   "file_extension": ".py",
   "mimetype": "text/x-python",
   "name": "python",
   "nbconvert_exporter": "python",
   "pygments_lexer": "ipython3",
   "version": "3.12.1"
  }
 },
 "nbformat": 4,
 "nbformat_minor": 5
}
