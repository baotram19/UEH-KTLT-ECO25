{
 "cells": [
  {
   "cell_type": "markdown",
   "id": "c42c562a-b592-4cbd-a598-2b0d50e71085",
   "metadata": {},
   "source": [
    "# **NumPy**"
   ]
  },
  {
   "cell_type": "markdown",
   "id": "9bff2185-4a87-4044-a0cf-f8475fb08600",
   "metadata": {},
   "source": [
    "## Phân tích và hiển thị dữ liệu "
   ]
  },
  {
   "cell_type": "code",
   "execution_count": 2,
   "id": "2c724ec5-3a6b-433d-bf60-0fced43ec55c",
   "metadata": {},
   "outputs": [
    {
     "name": "stdout",
     "output_type": "stream",
     "text": [
      "[1, 2, 3, 4, 5]\n",
      "[1, 2, 3, 4, 5, 1, 2, 3, 4, 5]\n"
     ]
    }
   ],
   "source": [
    "v = list(range(1, 6))\n",
    "print(v)\n",
    "print(2 * v)"
   ]
  },
  {
   "cell_type": "code",
   "execution_count": 3,
   "id": "3be544c8-332d-447e-b45f-94983f8ca817",
   "metadata": {},
   "outputs": [
    {
     "name": "stdout",
     "output_type": "stream",
     "text": [
      "[1 2 3 4 5]\n",
      "[ 2  4  6  8 10]\n"
     ]
    }
   ],
   "source": [
    "import numpy as np\n",
    "v = np.arange(1, 6)\n",
    "print(v)\n",
    "print(2 * v)"
   ]
  },
  {
   "cell_type": "code",
   "execution_count": 4,
   "id": "7b42bc2b-8ed7-4a5b-a3ee-8d57590d1cdb",
   "metadata": {},
   "outputs": [],
   "source": [
    "fruits = [\"apple\", \"banana\", \"cherry\"] #lists []\n",
    "colors = (\"red\", \"green\", \"blue\") #tuples ()\n",
    "animals = {'cat', 'dog'} #sets {}\n",
    "person = {\"name\" : \"Tom\", \"age\" : 20} #dictionaries {}"
   ]
  },
  {
   "cell_type": "code",
   "execution_count": 6,
   "id": "91e3d5fb-60af-43c3-b7cd-290147b1ae4d",
   "metadata": {},
   "outputs": [
    {
     "name": "stdout",
     "output_type": "stream",
     "text": [
      "len(x)=\n",
      "x[0]= 60\n",
      "x[1]= 70\n",
      "x[-1]= 90\n",
      "x[1:3]= [70, 80]\n"
     ]
    }
   ],
   "source": [
    "x = [60, 70, 80, 90]\n",
    "print('len(x)=')\n",
    "print('x[0]=', x[0])\n",
    "print('x[1]=', x[1])\n",
    "print('x[-1]=', x[-1])\n",
    "print('x[1:3]=', x[1:3])"
   ]
  },
  {
   "cell_type": "code",
   "execution_count": 8,
   "id": "34b60962-d1b1-41ae-9e44-ce0eedfa32bd",
   "metadata": {},
   "outputs": [
    {
     "data": {
      "text/plain": [
       "'c'"
      ]
     },
     "metadata": {},
     "output_type": "display_data"
    },
    {
     "data": {
      "text/plain": [
       "array([ 4, 10, 18])"
      ]
     },
     "metadata": {},
     "output_type": "display_data"
    }
   ],
   "source": [
    "from IPython.display import display\n",
    "import numpy as np\n",
    "a = np.array([1, 2, 3])\n",
    "b = np.array([4, 5, 6])\n",
    "c = a * b\n",
    "display('c', c)"
   ]
  },
  {
   "cell_type": "code",
   "execution_count": 9,
   "id": "7e441631-dd24-4c78-8087-67bef9922956",
   "metadata": {},
   "outputs": [
    {
     "data": {
      "text/plain": [
       "array([[0., 0.],\n",
       "       [0., 0.]])"
      ]
     },
     "metadata": {},
     "output_type": "display_data"
    },
    {
     "data": {
      "text/plain": [
       "array([[1., 1.]])"
      ]
     },
     "metadata": {},
     "output_type": "display_data"
    },
    {
     "data": {
      "text/plain": [
       "array([[7, 7],\n",
       "       [7, 7]])"
      ]
     },
     "metadata": {},
     "output_type": "display_data"
    },
    {
     "data": {
      "text/plain": [
       "array([[1., 0.],\n",
       "       [0., 1.]])"
      ]
     },
     "metadata": {},
     "output_type": "display_data"
    },
    {
     "data": {
      "text/plain": [
       "array([[0.04776293, 0.81070923],\n",
       "       [0.98656641, 0.70119701]])"
      ]
     },
     "metadata": {},
     "output_type": "display_data"
    }
   ],
   "source": [
    "import numpy as np\n",
    "\n",
    "a = np.zeros((2,2))\n",
    "display(a)\n",
    "\n",
    "b = np.ones((1,2))\n",
    "display(b)\n",
    "\n",
    "c = np.full((2,2), 7)\n",
    "display(c)\n",
    "\n",
    "d = np.eye(2)\n",
    "display(d)\n",
    "\n",
    "e = np.random.random((2,2))\n",
    "display(e)"
   ]
  },
  {
   "cell_type": "code",
   "execution_count": 2,
   "id": "a0f105a5-19e9-45a0-9e22-28b81e5a2063",
   "metadata": {},
   "outputs": [
    {
     "data": {
      "text/plain": [
       "array([ 0,  1,  2,  3,  4,  5,  6,  7,  8,  9, 10, 11, 12, 13, 14])"
      ]
     },
     "metadata": {},
     "output_type": "display_data"
    },
    {
     "data": {
      "text/plain": [
       "array([[ 0,  1,  2,  3,  4],\n",
       "       [ 5,  6,  7,  8,  9],\n",
       "       [10, 11, 12, 13, 14]])"
      ]
     },
     "metadata": {},
     "output_type": "display_data"
    },
    {
     "data": {
      "text/plain": [
       "(3, 5)"
      ]
     },
     "metadata": {},
     "output_type": "display_data"
    },
    {
     "data": {
      "text/plain": [
       "2"
      ]
     },
     "metadata": {},
     "output_type": "display_data"
    },
    {
     "data": {
      "text/plain": [
       "'int64'"
      ]
     },
     "metadata": {},
     "output_type": "display_data"
    }
   ],
   "source": [
    "import numpy as np\n",
    "a = np.arange(15)\n",
    "display(a)\n",
    "\n",
    "a = a.reshape(3, 5)\n",
    "display(a)\n",
    "\n",
    "display(a.shape)\n",
    "display(a.ndim)\n",
    "display(a.dtype.name)"
   ]
  },
  {
   "cell_type": "code",
   "execution_count": 3,
   "id": "b4f1eb25-7999-4d46-8fe6-d39abac65f52",
   "metadata": {},
   "outputs": [
    {
     "data": {
      "text/plain": [
       "array([1, 2, 3, 4, 5])"
      ]
     },
     "metadata": {},
     "output_type": "display_data"
    }
   ],
   "source": [
    "import numpy as np\n",
    "a = np.array([1,2,3,4,5])\n",
    "display(a)"
   ]
  },
  {
   "cell_type": "code",
   "execution_count": 4,
   "id": "241c825f-c5d1-4e77-a09c-a1ec242b11d5",
   "metadata": {},
   "outputs": [
    {
     "data": {
      "text/plain": [
       "array([[ 1,  2,  3,  4,  5],\n",
       "       [ 6,  7,  8,  9, 10],\n",
       "       [11, 12, 13, 14, 15],\n",
       "       [16, 17, 18, 19, 20]])"
      ]
     },
     "metadata": {},
     "output_type": "display_data"
    },
    {
     "data": {
      "text/plain": [
       "(4, 5)"
      ]
     },
     "metadata": {},
     "output_type": "display_data"
    },
    {
     "data": {
      "text/plain": [
       "2"
      ]
     },
     "metadata": {},
     "output_type": "display_data"
    },
    {
     "data": {
      "text/plain": [
       "'int64'"
      ]
     },
     "metadata": {},
     "output_type": "display_data"
    }
   ],
   "source": [
    "a = np.array([\n",
    "    [1,2,3,4,5],\n",
    "    [6,7,8,9,10],\n",
    "    [11,12,13,14,15],\n",
    "    [16,17,18,19,20]\n",
    "])\n",
    "display(a)\n",
    "display(a.shape)\n",
    "display(a.ndim)\n",
    "display(a.dtype.name)"
   ]
  },
  {
   "cell_type": "code",
   "execution_count": 6,
   "id": "861c02f5-b16e-475a-9af6-736954b333e8",
   "metadata": {},
   "outputs": [
    {
     "data": {
      "text/plain": [
       "array([[ 0,  1,  2,  3],\n",
       "       [10, 11, 12, 13],\n",
       "       [20, 21, 22, 23]])"
      ]
     },
     "metadata": {},
     "output_type": "display_data"
    },
    {
     "data": {
      "text/plain": [
       "(3, 4)"
      ]
     },
     "metadata": {},
     "output_type": "display_data"
    },
    {
     "data": {
      "text/plain": [
       "2"
      ]
     },
     "metadata": {},
     "output_type": "display_data"
    },
    {
     "data": {
      "text/plain": [
       "'int64'"
      ]
     },
     "metadata": {},
     "output_type": "display_data"
    }
   ],
   "source": [
    "a = np.array([\n",
    "    [0, 1, 2, 3], \n",
    "    [10, 11, 12, 13], \n",
    "    [20, 21, 22, 23]\n",
    "])\n",
    "display(a)\n",
    "display(a.shape)\n",
    "display(a.ndim)\n",
    "display(a.dtype.name)"
   ]
  },
  {
   "cell_type": "code",
   "execution_count": 9,
   "id": "edaacead-1f2c-4ffd-8ba2-b819e5aac52f",
   "metadata": {},
   "outputs": [
    {
     "data": {
      "text/plain": [
       "array([[1, 2, 3],\n",
       "       [4, 5, 6],\n",
       "       [7, 8, 9]])"
      ]
     },
     "metadata": {},
     "output_type": "display_data"
    }
   ],
   "source": [
    "a = np.arange(1, 10).reshape(3,3)\n",
    "display(a)"
   ]
  },
  {
   "cell_type": "code",
   "execution_count": 11,
   "id": "23546aa0-f6a4-46f5-ae5b-9c9bb98322bb",
   "metadata": {},
   "outputs": [
    {
     "data": {
      "text/plain": [
       "array([7, 8, 9])"
      ]
     },
     "metadata": {},
     "output_type": "display_data"
    },
    {
     "data": {
      "text/plain": [
       "(3,)"
      ]
     },
     "metadata": {},
     "output_type": "display_data"
    },
    {
     "data": {
      "text/plain": [
       "array([7, 8, 9])"
      ]
     },
     "metadata": {},
     "output_type": "display_data"
    },
    {
     "data": {
      "text/plain": [
       "(3,)"
      ]
     },
     "metadata": {},
     "output_type": "display_data"
    },
    {
     "data": {
      "text/plain": [
       "array([[7, 8, 9]])"
      ]
     },
     "metadata": {},
     "output_type": "display_data"
    },
    {
     "data": {
      "text/plain": [
       "(1, 3)"
      ]
     },
     "metadata": {},
     "output_type": "display_data"
    }
   ],
   "source": [
    "display(a[2])\n",
    "display(a[2].shape)\n",
    "\n",
    "display(a[2, :])\n",
    "display(a[2, :].shape)\n",
    "\n",
    "display(a[2:, :])\n",
    "display(a[2:, :].shape)"
   ]
  },
  {
   "cell_type": "markdown",
   "id": "f444bbd8-70fd-45fe-8b5e-0a4b5213bee1",
   "metadata": {},
   "source": [
    "### Pandas"
   ]
  },
  {
   "cell_type": "code",
   "execution_count": 3,
   "id": "b76c145b-ea4f-4fcc-b7df-3096d1ae4e9b",
   "metadata": {},
   "outputs": [
    {
     "data": {
      "text/html": [
       "<div>\n",
       "<style scoped>\n",
       "    .dataframe tbody tr th:only-of-type {\n",
       "        vertical-align: middle;\n",
       "    }\n",
       "\n",
       "    .dataframe tbody tr th {\n",
       "        vertical-align: top;\n",
       "    }\n",
       "\n",
       "    .dataframe thead th {\n",
       "        text-align: right;\n",
       "    }\n",
       "</style>\n",
       "<table border=\"1\" class=\"dataframe\">\n",
       "  <thead>\n",
       "    <tr style=\"text-align: right;\">\n",
       "      <th></th>\n",
       "      <th>a</th>\n",
       "      <th>b</th>\n",
       "      <th>c</th>\n",
       "    </tr>\n",
       "  </thead>\n",
       "  <tbody>\n",
       "    <tr>\n",
       "      <th>0</th>\n",
       "      <td>4</td>\n",
       "      <td>7</td>\n",
       "      <td>10</td>\n",
       "    </tr>\n",
       "    <tr>\n",
       "      <th>1</th>\n",
       "      <td>5</td>\n",
       "      <td>8</td>\n",
       "      <td>11</td>\n",
       "    </tr>\n",
       "    <tr>\n",
       "      <th>2</th>\n",
       "      <td>6</td>\n",
       "      <td>9</td>\n",
       "      <td>12</td>\n",
       "    </tr>\n",
       "  </tbody>\n",
       "</table>\n",
       "</div>"
      ],
      "text/plain": [
       "   a  b   c\n",
       "0  4  7  10\n",
       "1  5  8  11\n",
       "2  6  9  12"
      ]
     },
     "metadata": {},
     "output_type": "display_data"
    },
    {
     "data": {
      "text/html": [
       "<div>\n",
       "<style scoped>\n",
       "    .dataframe tbody tr th:only-of-type {\n",
       "        vertical-align: middle;\n",
       "    }\n",
       "\n",
       "    .dataframe tbody tr th {\n",
       "        vertical-align: top;\n",
       "    }\n",
       "\n",
       "    .dataframe thead th {\n",
       "        text-align: right;\n",
       "    }\n",
       "</style>\n",
       "<table border=\"1\" class=\"dataframe\">\n",
       "  <thead>\n",
       "    <tr style=\"text-align: right;\">\n",
       "      <th></th>\n",
       "      <th>a</th>\n",
       "      <th>b</th>\n",
       "      <th>c</th>\n",
       "    </tr>\n",
       "  </thead>\n",
       "  <tbody>\n",
       "    <tr>\n",
       "      <th>0</th>\n",
       "      <td>4</td>\n",
       "      <td>7</td>\n",
       "      <td>10</td>\n",
       "    </tr>\n",
       "    <tr>\n",
       "      <th>1</th>\n",
       "      <td>5</td>\n",
       "      <td>8</td>\n",
       "      <td>11</td>\n",
       "    </tr>\n",
       "    <tr>\n",
       "      <th>2</th>\n",
       "      <td>6</td>\n",
       "      <td>9</td>\n",
       "      <td>12</td>\n",
       "    </tr>\n",
       "  </tbody>\n",
       "</table>\n",
       "</div>"
      ],
      "text/plain": [
       "   a  b   c\n",
       "0  4  7  10\n",
       "1  5  8  11\n",
       "2  6  9  12"
      ]
     },
     "metadata": {},
     "output_type": "display_data"
    }
   ],
   "source": [
    "import pandas as pd\n",
    "a = pd.DataFrame(\n",
    "    {\n",
    "        'a': [4,5,6],\n",
    "        'b': [7,8,9],\n",
    "        'c': [10,11,12]\n",
    "    })\n",
    "display(a)\n",
    "\n",
    "b = pd.DataFrame([\n",
    "    {\"a\":4, \"b\":7, \"c\":10},\n",
    "    {\"a\":5, \"b\":8, \"c\":11},\n",
    "    {\"a\":6, \"b\":9, \"c\":12},\n",
    "    ])\n",
    "display(b)               "
   ]
  },
  {
   "cell_type": "code",
   "execution_count": 4,
   "id": "9f2c8ea2-ea72-4d83-9d1e-2bb88703f585",
   "metadata": {},
   "outputs": [
    {
     "data": {
      "text/plain": [
       "pandas.core.frame.DataFrame"
      ]
     },
     "metadata": {},
     "output_type": "display_data"
    }
   ],
   "source": [
    "display(type(a))"
   ]
  },
  {
   "cell_type": "code",
   "execution_count": 5,
   "id": "4a42747a-01e2-48f8-9823-01c66f6b761d",
   "metadata": {},
   "outputs": [
    {
     "data": {
      "text/plain": [
       "0    1.0\n",
       "1    3.0\n",
       "2    5.0\n",
       "3    NaN\n",
       "4    6.0\n",
       "5    8.0\n",
       "dtype: float64"
      ]
     },
     "metadata": {},
     "output_type": "display_data"
    },
    {
     "data": {
      "text/plain": [
       "DatetimeIndex(['2018-10-01', '2018-10-02', '2018-10-03', '2018-10-04',\n",
       "               '2018-10-05', '2018-10-06'],\n",
       "              dtype='datetime64[ns]', freq='D')"
      ]
     },
     "metadata": {},
     "output_type": "display_data"
    }
   ],
   "source": [
    "import numpy as np\n",
    "import pandas as pd\n",
    "import matplotlib.pyplot as plt\n",
    "\n",
    "s = pd.Series([1,3,5,np.nan,6,8])\n",
    "display(s)\n",
    "\n",
    "dates = pd.date_range('20181001', periods=6)\n",
    "display(dates)"
   ]
  },
  {
   "cell_type": "code",
   "execution_count": 6,
   "id": "ef98f844-c3a2-4d0b-8105-891cf8ea185a",
   "metadata": {},
   "outputs": [
    {
     "data": {
      "text/html": [
       "<div>\n",
       "<style scoped>\n",
       "    .dataframe tbody tr th:only-of-type {\n",
       "        vertical-align: middle;\n",
       "    }\n",
       "\n",
       "    .dataframe tbody tr th {\n",
       "        vertical-align: top;\n",
       "    }\n",
       "\n",
       "    .dataframe thead th {\n",
       "        text-align: right;\n",
       "    }\n",
       "</style>\n",
       "<table border=\"1\" class=\"dataframe\">\n",
       "  <thead>\n",
       "    <tr style=\"text-align: right;\">\n",
       "      <th></th>\n",
       "      <th>A</th>\n",
       "      <th>B</th>\n",
       "      <th>C</th>\n",
       "      <th>D</th>\n",
       "    </tr>\n",
       "  </thead>\n",
       "  <tbody>\n",
       "    <tr>\n",
       "      <th>2018-10-01</th>\n",
       "      <td>-0.146349</td>\n",
       "      <td>-2.627712</td>\n",
       "      <td>1.346488</td>\n",
       "      <td>0.809042</td>\n",
       "    </tr>\n",
       "    <tr>\n",
       "      <th>2018-10-02</th>\n",
       "      <td>1.243867</td>\n",
       "      <td>-1.138890</td>\n",
       "      <td>1.607867</td>\n",
       "      <td>0.010740</td>\n",
       "    </tr>\n",
       "    <tr>\n",
       "      <th>2018-10-03</th>\n",
       "      <td>-0.703803</td>\n",
       "      <td>-0.288268</td>\n",
       "      <td>1.061496</td>\n",
       "      <td>-0.563985</td>\n",
       "    </tr>\n",
       "    <tr>\n",
       "      <th>2018-10-04</th>\n",
       "      <td>-1.667543</td>\n",
       "      <td>0.263388</td>\n",
       "      <td>-1.708986</td>\n",
       "      <td>0.157101</td>\n",
       "    </tr>\n",
       "    <tr>\n",
       "      <th>2018-10-05</th>\n",
       "      <td>-0.418661</td>\n",
       "      <td>-1.041203</td>\n",
       "      <td>-0.836336</td>\n",
       "      <td>0.881664</td>\n",
       "    </tr>\n",
       "    <tr>\n",
       "      <th>2018-10-06</th>\n",
       "      <td>1.202234</td>\n",
       "      <td>-0.299967</td>\n",
       "      <td>1.379248</td>\n",
       "      <td>-0.241147</td>\n",
       "    </tr>\n",
       "  </tbody>\n",
       "</table>\n",
       "</div>"
      ],
      "text/plain": [
       "                   A         B         C         D\n",
       "2018-10-01 -0.146349 -2.627712  1.346488  0.809042\n",
       "2018-10-02  1.243867 -1.138890  1.607867  0.010740\n",
       "2018-10-03 -0.703803 -0.288268  1.061496 -0.563985\n",
       "2018-10-04 -1.667543  0.263388 -1.708986  0.157101\n",
       "2018-10-05 -0.418661 -1.041203 -0.836336  0.881664\n",
       "2018-10-06  1.202234 -0.299967  1.379248 -0.241147"
      ]
     },
     "metadata": {},
     "output_type": "display_data"
    }
   ],
   "source": [
    "df = pd.DataFrame(np.random.randn(6,4), \n",
    "index=dates, columns=list('ABCD'))\n",
    "display(df)"
   ]
  },
  {
   "cell_type": "code",
   "execution_count": 7,
   "id": "5fedd3df-1775-4d2d-b8a0-eeb222c48db7",
   "metadata": {},
   "outputs": [
    {
     "data": {
      "text/html": [
       "<div>\n",
       "<style scoped>\n",
       "    .dataframe tbody tr th:only-of-type {\n",
       "        vertical-align: middle;\n",
       "    }\n",
       "\n",
       "    .dataframe tbody tr th {\n",
       "        vertical-align: top;\n",
       "    }\n",
       "\n",
       "    .dataframe thead th {\n",
       "        text-align: right;\n",
       "    }\n",
       "</style>\n",
       "<table border=\"1\" class=\"dataframe\">\n",
       "  <thead>\n",
       "    <tr style=\"text-align: right;\">\n",
       "      <th></th>\n",
       "      <th>A</th>\n",
       "      <th>B</th>\n",
       "      <th>C</th>\n",
       "      <th>D</th>\n",
       "    </tr>\n",
       "  </thead>\n",
       "  <tbody>\n",
       "    <tr>\n",
       "      <th>2018-10-01</th>\n",
       "      <td>0.497132</td>\n",
       "      <td>-2.326480</td>\n",
       "      <td>1.681141</td>\n",
       "      <td>1.871879</td>\n",
       "    </tr>\n",
       "    <tr>\n",
       "      <th>2018-10-02</th>\n",
       "      <td>0.822611</td>\n",
       "      <td>-1.544150</td>\n",
       "      <td>-0.105970</td>\n",
       "      <td>-2.216315</td>\n",
       "    </tr>\n",
       "    <tr>\n",
       "      <th>2018-10-03</th>\n",
       "      <td>0.120350</td>\n",
       "      <td>0.147648</td>\n",
       "      <td>-1.143682</td>\n",
       "      <td>-0.401762</td>\n",
       "    </tr>\n",
       "    <tr>\n",
       "      <th>2018-10-04</th>\n",
       "      <td>0.244137</td>\n",
       "      <td>0.885401</td>\n",
       "      <td>-0.506264</td>\n",
       "      <td>0.028598</td>\n",
       "    </tr>\n",
       "    <tr>\n",
       "      <th>2018-10-05</th>\n",
       "      <td>-0.669542</td>\n",
       "      <td>1.070730</td>\n",
       "      <td>-1.225948</td>\n",
       "      <td>-0.758891</td>\n",
       "    </tr>\n",
       "    <tr>\n",
       "      <th>2018-10-06</th>\n",
       "      <td>0.465301</td>\n",
       "      <td>-0.294116</td>\n",
       "      <td>-0.612245</td>\n",
       "      <td>0.949752</td>\n",
       "    </tr>\n",
       "  </tbody>\n",
       "</table>\n",
       "</div>"
      ],
      "text/plain": [
       "                   A         B         C         D\n",
       "2018-10-01  0.497132 -2.326480  1.681141  1.871879\n",
       "2018-10-02  0.822611 -1.544150 -0.105970 -2.216315\n",
       "2018-10-03  0.120350  0.147648 -1.143682 -0.401762\n",
       "2018-10-04  0.244137  0.885401 -0.506264  0.028598\n",
       "2018-10-05 -0.669542  1.070730 -1.225948 -0.758891\n",
       "2018-10-06  0.465301 -0.294116 -0.612245  0.949752"
      ]
     },
     "metadata": {},
     "output_type": "display_data"
    },
    {
     "data": {
      "text/plain": [
       "A    0.120350\n",
       "B    0.147648\n",
       "C   -1.143682\n",
       "D   -0.401762\n",
       "Name: 2018-10-03 00:00:00, dtype: float64"
      ]
     },
     "metadata": {},
     "output_type": "display_data"
    },
    {
     "data": {
      "text/plain": [
       "2018-10-01   -2.326480\n",
       "2018-10-02   -1.544150\n",
       "2018-10-03    0.147648\n",
       "2018-10-04    0.885401\n",
       "2018-10-05    1.070730\n",
       "2018-10-06   -0.294116\n",
       "Freq: D, Name: B, dtype: float64"
      ]
     },
     "metadata": {},
     "output_type": "display_data"
    }
   ],
   "source": [
    "df = pd.DataFrame(np.random.randn(6,4), columns=['A','B','C','D'], index = dates)\n",
    "display(df)\n",
    "\n",
    "display(df.loc['2018-10-03'])\n",
    "display(df['B'])"
   ]
  },
  {
   "cell_type": "code",
   "execution_count": 8,
   "id": "3d430cde-54f1-4e29-b26b-ae978324e9d0",
   "metadata": {},
   "outputs": [
    {
     "data": {
      "text/html": [
       "<div>\n",
       "<style scoped>\n",
       "    .dataframe tbody tr th:only-of-type {\n",
       "        vertical-align: middle;\n",
       "    }\n",
       "\n",
       "    .dataframe tbody tr th {\n",
       "        vertical-align: top;\n",
       "    }\n",
       "\n",
       "    .dataframe thead th {\n",
       "        text-align: right;\n",
       "    }\n",
       "</style>\n",
       "<table border=\"1\" class=\"dataframe\">\n",
       "  <thead>\n",
       "    <tr style=\"text-align: right;\">\n",
       "      <th></th>\n",
       "      <th>A</th>\n",
       "      <th>B</th>\n",
       "      <th>C</th>\n",
       "      <th>D</th>\n",
       "      <th>E</th>\n",
       "    </tr>\n",
       "  </thead>\n",
       "  <tbody>\n",
       "    <tr>\n",
       "      <th>student1</th>\n",
       "      <td>-0.494358</td>\n",
       "      <td>-0.466796</td>\n",
       "      <td>-1.545148</td>\n",
       "      <td>-2.892527</td>\n",
       "      <td>-1.052000</td>\n",
       "    </tr>\n",
       "    <tr>\n",
       "      <th>student2</th>\n",
       "      <td>0.693684</td>\n",
       "      <td>0.320487</td>\n",
       "      <td>-0.192905</td>\n",
       "      <td>-1.066985</td>\n",
       "      <td>-0.152599</td>\n",
       "    </tr>\n",
       "    <tr>\n",
       "      <th>student3</th>\n",
       "      <td>-0.645882</td>\n",
       "      <td>0.817149</td>\n",
       "      <td>-0.951591</td>\n",
       "      <td>-1.280557</td>\n",
       "      <td>0.341988</td>\n",
       "    </tr>\n",
       "  </tbody>\n",
       "</table>\n",
       "</div>"
      ],
      "text/plain": [
       "                 A         B         C         D         E\n",
       "student1 -0.494358 -0.466796 -1.545148 -2.892527 -1.052000\n",
       "student2  0.693684  0.320487 -0.192905 -1.066985 -0.152599\n",
       "student3 -0.645882  0.817149 -0.951591 -1.280557  0.341988"
      ]
     },
     "metadata": {},
     "output_type": "display_data"
    }
   ],
   "source": [
    "df = pd.DataFrame(np.random.randn(3,5), columns=['A','B','C','D','E'], index = ['student1','student2','student3'])\n",
    "display(df)"
   ]
  },
  {
   "cell_type": "code",
   "execution_count": 9,
   "id": "8cad1294-1760-415f-a677-72377842db3a",
   "metadata": {},
   "outputs": [
    {
     "data": {
      "text/html": [
       "<div>\n",
       "<style scoped>\n",
       "    .dataframe tbody tr th:only-of-type {\n",
       "        vertical-align: middle;\n",
       "    }\n",
       "\n",
       "    .dataframe tbody tr th {\n",
       "        vertical-align: top;\n",
       "    }\n",
       "\n",
       "    .dataframe thead th {\n",
       "        text-align: right;\n",
       "    }\n",
       "</style>\n",
       "<table border=\"1\" class=\"dataframe\">\n",
       "  <thead>\n",
       "    <tr style=\"text-align: right;\">\n",
       "      <th></th>\n",
       "      <th>A</th>\n",
       "      <th>B</th>\n",
       "      <th>C</th>\n",
       "      <th>D</th>\n",
       "      <th>E</th>\n",
       "      <th>F</th>\n",
       "    </tr>\n",
       "  </thead>\n",
       "  <tbody>\n",
       "    <tr>\n",
       "      <th>0</th>\n",
       "      <td>1.0</td>\n",
       "      <td>2018-10-01</td>\n",
       "      <td>2.5</td>\n",
       "      <td>3</td>\n",
       "      <td>test</td>\n",
       "      <td>foo</td>\n",
       "    </tr>\n",
       "    <tr>\n",
       "      <th>1</th>\n",
       "      <td>1.0</td>\n",
       "      <td>2018-10-01</td>\n",
       "      <td>2.5</td>\n",
       "      <td>3</td>\n",
       "      <td>train</td>\n",
       "      <td>foo</td>\n",
       "    </tr>\n",
       "    <tr>\n",
       "      <th>2</th>\n",
       "      <td>1.0</td>\n",
       "      <td>2018-10-01</td>\n",
       "      <td>2.5</td>\n",
       "      <td>3</td>\n",
       "      <td>test</td>\n",
       "      <td>foo</td>\n",
       "    </tr>\n",
       "    <tr>\n",
       "      <th>3</th>\n",
       "      <td>1.0</td>\n",
       "      <td>2018-10-01</td>\n",
       "      <td>2.5</td>\n",
       "      <td>3</td>\n",
       "      <td>train</td>\n",
       "      <td>foo</td>\n",
       "    </tr>\n",
       "  </tbody>\n",
       "</table>\n",
       "</div>"
      ],
      "text/plain": [
       "     A          B    C  D      E    F\n",
       "0  1.0 2018-10-01  2.5  3   test  foo\n",
       "1  1.0 2018-10-01  2.5  3  train  foo\n",
       "2  1.0 2018-10-01  2.5  3   test  foo\n",
       "3  1.0 2018-10-01  2.5  3  train  foo"
      ]
     },
     "metadata": {},
     "output_type": "display_data"
    }
   ],
   "source": [
    "df2 = pd.DataFrame({ 'A' : 1.,\n",
    "'B' : pd.Timestamp('20181001'),\n",
    "'C' : pd.Series(2.5,index=list(range(4)),dtype='float32'),\n",
    "'D' : np.array([3] * 4,dtype='int32'),\n",
    "'E' : pd.Categorical([\"test\",\"train\",\"test\",\"train\"]),\n",
    "'F' : 'foo' })\n",
    "display(df2)"
   ]
  },
  {
   "cell_type": "code",
   "execution_count": null,
   "id": "1c9c1a8d-910b-49da-b5a6-5109577e0297",
   "metadata": {},
   "outputs": [],
   "source": []
  }
 ],
 "metadata": {
  "kernelspec": {
   "display_name": "Python 3 (ipykernel)",
   "language": "python",
   "name": "python3"
  },
  "language_info": {
   "codemirror_mode": {
    "name": "ipython",
    "version": 3
   },
   "file_extension": ".py",
   "mimetype": "text/x-python",
   "name": "python",
   "nbconvert_exporter": "python",
   "pygments_lexer": "ipython3",
   "version": "3.12.1"
  }
 },
 "nbformat": 4,
 "nbformat_minor": 5
}
