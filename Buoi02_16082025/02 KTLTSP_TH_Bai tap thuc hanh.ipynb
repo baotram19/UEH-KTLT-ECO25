{
 "cells": [
  {
   "cell_type": "markdown",
   "id": "0a38e936-7668-411b-b134-1db97226df5e",
   "metadata": {},
   "source": [
    "## **BÀI TẬP THỰC HÀNH - CÁC THÀNH PHẦN CƠ BẢN CỦA PYTHON**"
   ]
  },
  {
   "cell_type": "markdown",
   "id": "562e8feb-6c34-4095-bbf8-2e7af5b5c13c",
   "metadata": {},
   "source": [
    "### **BÀI TẬP MẪU**"
   ]
  },
  {
   "cell_type": "markdown",
   "id": "0e035829-a303-4d9d-98fd-8ae875350d87",
   "metadata": {},
   "source": [
    "#### **Bài 1. In chuỗi** - InChuoi.*"
   ]
  },
  {
   "cell_type": "markdown",
   "id": "ea671cb2-58ce-4a55-8bde-6535dd7f1e77",
   "metadata": {},
   "source": [
    "Viết chương trình in ra 2 dòng chữ sau ra màn hình Console:"
   ]
  },
  {
   "cell_type": "code",
   "execution_count": 2,
   "id": "93fd7f29-ece4-4a5f-ae96-5b25e0e09504",
   "metadata": {},
   "outputs": [
    {
     "name": "stdout",
     "output_type": "stream",
     "text": [
      "Whoever is happy will make others happy too\n",
      "--Anne Frank\n"
     ]
    }
   ],
   "source": [
    "print(\"Whoever is happy will make others happy too\");  \n",
    "print(\"--Anne Frank\"); "
   ]
  },
  {
   "cell_type": "markdown",
   "id": "c90a7dec-076b-4456-b375-bd6cf67b069a",
   "metadata": {},
   "source": [
    "#### **Bài 2. Biểu thức tính toán** - BieuThuc.*"
   ]
  },
  {
   "cell_type": "markdown",
   "id": "84a654e7-f2e7-4c62-9e1e-6fae845787f6",
   "metadata": {},
   "source": [
    "Viết chương trình nhập vào hai số nguyên a và b. Hãy tính toán kết quả của các biểu thức sau A+B, A-B, A**B, A/B (chia lấy nguyên), A%B (chia lấy dư), A / B (chia lẻ) (làm tròn 2 số lẻ). Khi in ra, kết quả có dạng “A [+,-,*,/,%] B = C”. A được căn lề trái 5, + (bình thường), B căn lề phải 5, dấu = bình thường, C căn lề phải 5."
   ]
  },
  {
   "cell_type": "code",
   "execution_count": 3,
   "id": "78de39fd-d789-4c5b-8c8f-ceabf5ce84c9",
   "metadata": {},
   "outputs": [
    {
     "name": "stdin",
     "output_type": "stream",
     "text": [
      "Moi ban nhap so a:  5\n",
      "Moi ban nhap so b:  6\n"
     ]
    },
    {
     "name": "stdout",
     "output_type": "stream",
     "text": [
      "Cac ket qua tinh toan: \n",
      "5     +     6 =    11\n",
      "5     -     6 =    -1\n",
      "5     *     6 =    30\n",
      "5     /     6 =     0\n",
      "5     /     6 =     5\n",
      "5     /     6 =  0.83\n"
     ]
    }
   ],
   "source": [
    "# Nhập dữ liệu  \n",
    "a = int(input(\"Moi ban nhap so a: \"))  \n",
    "b = int(input(\"Moi ban nhap so b: \")) \n",
    " \n",
    "# Xử lý  \n",
    "kqCong = a + b \n",
    "kqTru = a - b \n",
    "kqNhan = a * b \n",
    "kqChiaNguyen = a // b \n",
    "kqDu= a % b \n",
    "kqChiaThuc = a / b \n",
    " \n",
    "# Xuất dữ liệu  \n",
    "print(\"Cac ket qua tinh toan: \") \n",
    "print(\"%-5d + %5d = %5d\"%(a, b, kqCong))  \n",
    "print(\"%-5d - %5d = %5d\"%(a, b, kqTru))  \n",
    "print(\"%-5d * %5d = %5d\"%(a, b, kqNhan)) \n",
    "print(\"%-5d / %5d = %5d\"%(a, b, kqChiaNguyen))  \n",
    "print(\"%-5d / %5d = %5d\"%(a, b, kqDu)) \n",
    "print(\"%-5d / %5d = %5.2f\"%(a, b, kqChiaThuc)) "
   ]
  },
  {
   "cell_type": "markdown",
   "id": "3dae6b04-0ce0-4c69-a56e-03b2ace98d01",
   "metadata": {},
   "source": [
    "### **Bài 3. Biểu thức so sánh** - SoSanh.*"
   ]
  },
  {
   "cell_type": "markdown",
   "id": "cca9cd1e-3179-4465-ac8d-e2b3745bd9a0",
   "metadata": {},
   "source": [
    "Viết chương trình nhập vào hai số thực a và b. Hãy viết chương trình ước lượng các biểu thức so sánh A>B, A<B, A>=B, A<=B, A==B, A!=B. Số thực được định dạng có hai số lẻ, có dấu phân cách hàng ngàn. "
   ]
  },
  {
   "cell_type": "code",
   "execution_count": 4,
   "id": "daf53f86-25e0-4323-a933-8320205d0e2e",
   "metadata": {},
   "outputs": [
    {
     "name": "stdin",
     "output_type": "stream",
     "text": [
      "Moi ban nhap so a:  2.5\n",
      "Moi ban nhap so b:  6.8\n"
     ]
    },
    {
     "name": "stdout",
     "output_type": "stream",
     "text": [
      "Ket qua so sanh hai so thuc 2.50 va 6.80:\n",
      "2.50     <      6.80:     True\n",
      "2.50     <=     6.80:     True\n",
      "2.50      >     6.80:    False\n",
      "2.50     >=     6.80:    False\n",
      "2.50     ==     6.80:    False\n",
      "2.50     !=     6.80:     True\n"
     ]
    }
   ],
   "source": [
    "# Nhập dữ liệu  \n",
    "a = float(input(\"Moi ban nhap so a: \"))  \n",
    "b = float(input(\"Moi ban nhap so b: \")) \n",
    " \n",
    "# Xử lý  \n",
    "laNhoHon = (a < b)  \n",
    "laNhoHonBang = (a <= b) \n",
    "laLonHon = (a > b)  \n",
    "laLonHonBang = (a >= b) \n",
    "laBang = (a == b) \n",
    "laKhacNhau = (a != b) \n",
    " \n",
    "# Xuất dữ liệu  \n",
    "print(\"Ket qua so sanh hai so thuc %.2f va %.2f:\"%(a, b)) \n",
    "print(\"%-8.2f <  %8.2f: %8s\"%(a, b, laNhoHon)) \n",
    "print(\"%-8.2f <= %8.2f: %8s\"%(a, b, laNhoHonBang)) \n",
    "print(\"%-8.2f  > %8.2f: %8s\"%(a, b, laLonHon)) \n",
    "print(\"%-8.2f >= %8.2f: %8s\"%(a, b, laLonHonBang)) \n",
    "print(\"%-8.2f == %8.2f: %8s\"%(a, b, laBang)) \n",
    "print(\"%-8.2f != %8.2f: %8s\"%(a, b, laKhacNhau)) "
   ]
  },
  {
   "cell_type": "markdown",
   "id": "6e249348-1652-464b-95ab-9fb6d6f7d58b",
   "metadata": {},
   "source": [
    "### **Bài 4. Tính giá trị hàm số** - HamSo.*"
   ]
  },
  {
   "cell_type": "markdown",
   "id": "50e5481f-1a5d-4948-9ffc-ed8c84a9bfd5",
   "metadata": {},
   "source": [
    "Hãy viết chương trình nhập vào số thực x và tính giá trị biểu thức: "
   ]
  },
  {
   "cell_type": "code",
   "execution_count": 7,
   "id": "808cd66b-2407-4a86-9d0d-86645a394bd5",
   "metadata": {},
   "outputs": [
    {
     "name": "stdin",
     "output_type": "stream",
     "text": [
      "Moi ban nhap vao gia tri cua bien so x:  2.3\n"
     ]
    },
    {
     "name": "stdout",
     "output_type": "stream",
     "text": [
      "Gia tri cua ham so f(2.30) = 3.27.\n"
     ]
    }
   ],
   "source": [
    "# Nạp thư viện \n",
    "import math\n",
    "\n",
    "# Nhập dữ liệu  \n",
    "x = float(input(\"Moi ban nhap vao gia tri cua bien so x: \")) \n",
    " \n",
    "# Xử lý  \n",
    "fx = (x + math.pow(x, 5) / (1 * 2 * 3 * 4 * 5)\n",
    "      + math.sqrt(abs(x)) / math.pow(x, 3.0 / 2))\n",
    " \n",
    "# Xuất dữ liệu  \n",
    "print(\"Gia tri cua ham so f(%.2f) = %.2f.\"%(x, fx))"
   ]
  },
  {
   "cell_type": "markdown",
   "id": "7fa903bc-c570-4f2a-aadb-c860c20e6281",
   "metadata": {},
   "source": [
    "### **Bài 5. Tổng chữ số** - TongChuSo.*"
   ]
  },
  {
   "cell_type": "markdown",
   "id": "231587cf-e135-4d24-860a-99dbd7d60bf7",
   "metadata": {},
   "source": [
    "Cho số nguyên n có 4 chữ số. Hãy tính tổng các chữ số của n.  \n",
    "Ví dụ: n = 1234  → kq = 10"
   ]
  },
  {
   "cell_type": "code",
   "execution_count": 10,
   "id": "b5e2da63-92af-4587-9efd-d5da0964e515",
   "metadata": {},
   "outputs": [
    {
     "name": "stdin",
     "output_type": "stream",
     "text": [
      "Moi ban nhap so nguyen n (co bon chu so):  1234\n"
     ]
    },
    {
     "name": "stdout",
     "output_type": "stream",
     "text": [
      "1234 = 1 + 2 + 3 + 4 = 10.\n"
     ]
    }
   ],
   "source": [
    "# Nạp thư viện\n",
    "import math\n",
    "\n",
    "# Nhập số nguyên n (có 4 chữ số)\n",
    "n = int(input(\"Moi ban nhap so nguyen n (co bon chu so): \"))\n",
    "\n",
    "# Tách các chữ số\n",
    "a = n // 1000                # chữ số hàng nghìn\n",
    "b = (n // 100) % 10          # chữ số hàng trăm\n",
    "c = (n // 10) % 10           # chữ số hàng chục\n",
    "d = n % 10                   # chữ số hàng đơn vị\n",
    "\n",
    "# Tính tổng\n",
    "tong = a + b + c + d\n",
    "\n",
    "# Xuất kết quả\n",
    "print(f\"{n} = {a} + {b} + {c} + {d} = {tong}.\")"
   ]
  },
  {
   "cell_type": "markdown",
   "id": "59de2e95-85b7-402e-8b25-e3e9770894ba",
   "metadata": {},
   "source": [
    "### **BÀI TẬP THỰC HÀNH**"
   ]
  },
  {
   "cell_type": "markdown",
   "id": "101d1345-893e-49df-881a-e3aefb62bc9e",
   "metadata": {},
   "source": [
    "### **Bài 1. In nhãn** - InNhan.*"
   ]
  },
  {
   "cell_type": "markdown",
   "id": "cf6be383-9b1f-4296-ae33-c6f3f1ccb8c1",
   "metadata": {},
   "source": [
    "Viết chương trình in ra nhãn gồm nhiều dòng như sau"
   ]
  },
  {
   "cell_type": "code",
   "execution_count": 5,
   "id": "a4d9b8f4-a55a-463d-b47f-810961bda3bc",
   "metadata": {},
   "outputs": [
    {
     "name": "stdin",
     "output_type": "stream",
     "text": [
      "Ho ten cua ban:  Nguyen Ngoc Bao Tram\n"
     ]
    },
    {
     "name": "stdout",
     "output_type": "stream",
     "text": [
      "*********************************\n",
      "* Truong: Dai Hoc UEH           *\n",
      "* Khoa: CNTT                    *\n",
      "* Ho ten: Nguyen Ngoc Bao Tram  *\n",
      "*********************************\n"
     ]
    }
   ],
   "source": [
    "hoten = input(\"Ho ten cua ban: \")\n",
    "\n",
    "print(\"*********************************\")\n",
    "print(\"* Truong: Dai Hoc UEH           *\")\n",
    "print(\"* Khoa: CNTT                    *\")\n",
    "print(f\"* Ho ten: {hoten:<22}*\")   # 22 ký tự, canh trái\n",
    "print(\"*********************************\")"
   ]
  },
  {
   "cell_type": "markdown",
   "id": "1a829d18-f81c-4425-a451-30a43ac80642",
   "metadata": {},
   "source": [
    "### **Bài 2. Tính diện tích và chu vi hình tròn** - HinhTron.*"
   ]
  },
  {
   "cell_type": "markdown",
   "id": "79e0bc31-4c30-4d49-a79c-2d5178241e3e",
   "metadata": {},
   "source": [
    "Nhập vào bán kính R của một hình tròn. Hãy tính diện tích và chu vi hình tròn đó theo công thức:𝑆 = 3.14𝑥𝑅2, 𝑃 = 2𝑥3.14𝑥𝑅. In kết quả với 1 số lẻ thập phân. "
   ]
  },
  {
   "cell_type": "code",
   "execution_count": 3,
   "id": "a61d493c-2616-4a25-abd0-57db788a4844",
   "metadata": {},
   "outputs": [
    {
     "name": "stdin",
     "output_type": "stream",
     "text": [
      "Nhap ban kinh R:  5\n"
     ]
    },
    {
     "name": "stdout",
     "output_type": "stream",
     "text": [
      "Dien tich S = 78.5\n",
      "Chu vi P = 31.4\n"
     ]
    }
   ],
   "source": [
    "R = float(input(\"Nhap ban kinh R: \"))\n",
    "\n",
    "S = 3.14 * R * R          # công thức tính diện tích\n",
    "P = 2 * 3.14 * R          # công thức tính chu vi\n",
    "\n",
    "print(\"Dien tich S = %.1f\" % S)\n",
    "print(\"Chu vi P = %.1f\" % P)"
   ]
  },
  {
   "cell_type": "code",
   "execution_count": null,
   "id": "3671896e-2a75-4e58-a798-3aa5073514e5",
   "metadata": {},
   "outputs": [],
   "source": []
  }
 ],
 "metadata": {
  "kernelspec": {
   "display_name": "Python 3 (ipykernel)",
   "language": "python",
   "name": "python3"
  },
  "language_info": {
   "codemirror_mode": {
    "name": "ipython",
    "version": 3
   },
   "file_extension": ".py",
   "mimetype": "text/x-python",
   "name": "python",
   "nbconvert_exporter": "python",
   "pygments_lexer": "ipython3",
   "version": "3.12.1"
  }
 },
 "nbformat": 4,
 "nbformat_minor": 5
}
