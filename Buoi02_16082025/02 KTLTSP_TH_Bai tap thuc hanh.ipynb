{
 "cells": [
  {
   "cell_type": "markdown",
   "id": "0a38e936-7668-411b-b134-1db97226df5e",
   "metadata": {},
   "source": [
    "## **BÀI TẬP THỰC HÀNH - CÁC THÀNH PHẦN CƠ BẢN CỦA PYTHON**"
   ]
  },
  {
   "cell_type": "markdown",
   "id": "562e8feb-6c34-4095-bbf8-2e7af5b5c13c",
   "metadata": {
    "jp-MarkdownHeadingCollapsed": true
   },
   "source": [
    "### **BÀI TẬP MẪU**"
   ]
  },
  {
   "cell_type": "markdown",
   "id": "0e035829-a303-4d9d-98fd-8ae875350d87",
   "metadata": {},
   "source": [
    "#### **Bài 1. In chuỗi** - InChuoi.*"
   ]
  },
  {
   "cell_type": "markdown",
   "id": "ea671cb2-58ce-4a55-8bde-6535dd7f1e77",
   "metadata": {},
   "source": [
    "Viết chương trình in ra 2 dòng chữ sau ra màn hình Console:"
   ]
  },
  {
   "cell_type": "code",
   "execution_count": 2,
   "id": "93fd7f29-ece4-4a5f-ae96-5b25e0e09504",
   "metadata": {},
   "outputs": [
    {
     "name": "stdout",
     "output_type": "stream",
     "text": [
      "Whoever is happy will make others happy too\n",
      "--Anne Frank\n"
     ]
    }
   ],
   "source": [
    "print(\"Whoever is happy will make others happy too\");  \n",
    "print(\"--Anne Frank\"); "
   ]
  },
  {
   "cell_type": "markdown",
   "id": "c90a7dec-076b-4456-b375-bd6cf67b069a",
   "metadata": {},
   "source": [
    "#### **Bài 2. Biểu thức tính toán** - BieuThuc.*"
   ]
  },
  {
   "cell_type": "markdown",
   "id": "84a654e7-f2e7-4c62-9e1e-6fae845787f6",
   "metadata": {},
   "source": [
    "Viết chương trình nhập vào hai số nguyên a và b. Hãy tính toán kết quả của các biểu thức sau A+B, A-B, A**B, A/B (chia lấy nguyên), A%B (chia lấy dư), A / B (chia lẻ) (làm tròn 2 số lẻ). Khi in ra, kết quả có dạng “A [+,-,*,/,%] B = C”. A được căn lề trái 5, + (bình thường), B căn lề phải 5, dấu = bình thường, C căn lề phải 5."
   ]
  },
  {
   "cell_type": "code",
   "execution_count": 3,
   "id": "78de39fd-d789-4c5b-8c8f-ceabf5ce84c9",
   "metadata": {},
   "outputs": [
    {
     "name": "stdin",
     "output_type": "stream",
     "text": [
      "Moi ban nhap so a:  5\n",
      "Moi ban nhap so b:  6\n"
     ]
    },
    {
     "name": "stdout",
     "output_type": "stream",
     "text": [
      "Cac ket qua tinh toan: \n",
      "5     +     6 =    11\n",
      "5     -     6 =    -1\n",
      "5     *     6 =    30\n",
      "5     /     6 =     0\n",
      "5     /     6 =     5\n",
      "5     /     6 =  0.83\n"
     ]
    }
   ],
   "source": [
    "# Nhập dữ liệu  \n",
    "a = int(input(\"Moi ban nhap so a: \"))  \n",
    "b = int(input(\"Moi ban nhap so b: \")) \n",
    " \n",
    "# Xử lý  \n",
    "kqCong = a + b \n",
    "kqTru = a - b \n",
    "kqNhan = a * b \n",
    "kqChiaNguyen = a // b \n",
    "kqDu= a % b \n",
    "kqChiaThuc = a / b \n",
    " \n",
    "# Xuất dữ liệu  \n",
    "print(\"Cac ket qua tinh toan: \") \n",
    "print(\"%-5d + %5d = %5d\"%(a, b, kqCong))  \n",
    "print(\"%-5d - %5d = %5d\"%(a, b, kqTru))  \n",
    "print(\"%-5d * %5d = %5d\"%(a, b, kqNhan)) \n",
    "print(\"%-5d / %5d = %5d\"%(a, b, kqChiaNguyen))  \n",
    "print(\"%-5d / %5d = %5d\"%(a, b, kqDu)) \n",
    "print(\"%-5d / %5d = %5.2f\"%(a, b, kqChiaThuc)) "
   ]
  },
  {
   "cell_type": "markdown",
   "id": "3dae6b04-0ce0-4c69-a56e-03b2ace98d01",
   "metadata": {},
   "source": [
    "#### **Bài 3. Biểu thức so sánh** - SoSanh.*"
   ]
  },
  {
   "cell_type": "markdown",
   "id": "cca9cd1e-3179-4465-ac8d-e2b3745bd9a0",
   "metadata": {},
   "source": [
    "Viết chương trình nhập vào hai số thực a và b. Hãy viết chương trình ước lượng các biểu thức so sánh A>B, A<B, A>=B, A<=B, A==B, A!=B. Số thực được định dạng có hai số lẻ, có dấu phân cách hàng ngàn. "
   ]
  },
  {
   "cell_type": "code",
   "execution_count": 4,
   "id": "daf53f86-25e0-4323-a933-8320205d0e2e",
   "metadata": {},
   "outputs": [
    {
     "name": "stdin",
     "output_type": "stream",
     "text": [
      "Moi ban nhap so a:  2.5\n",
      "Moi ban nhap so b:  6.8\n"
     ]
    },
    {
     "name": "stdout",
     "output_type": "stream",
     "text": [
      "Ket qua so sanh hai so thuc 2.50 va 6.80:\n",
      "2.50     <      6.80:     True\n",
      "2.50     <=     6.80:     True\n",
      "2.50      >     6.80:    False\n",
      "2.50     >=     6.80:    False\n",
      "2.50     ==     6.80:    False\n",
      "2.50     !=     6.80:     True\n"
     ]
    }
   ],
   "source": [
    "# Nhập dữ liệu  \n",
    "a = float(input(\"Moi ban nhap so a: \"))  \n",
    "b = float(input(\"Moi ban nhap so b: \")) \n",
    " \n",
    "# Xử lý  \n",
    "laNhoHon = (a < b)  \n",
    "laNhoHonBang = (a <= b) \n",
    "laLonHon = (a > b)  \n",
    "laLonHonBang = (a >= b) \n",
    "laBang = (a == b) \n",
    "laKhacNhau = (a != b) \n",
    " \n",
    "# Xuất dữ liệu  \n",
    "print(\"Ket qua so sanh hai so thuc %.2f va %.2f:\"%(a, b)) \n",
    "print(\"%-8.2f <  %8.2f: %8s\"%(a, b, laNhoHon)) \n",
    "print(\"%-8.2f <= %8.2f: %8s\"%(a, b, laNhoHonBang)) \n",
    "print(\"%-8.2f  > %8.2f: %8s\"%(a, b, laLonHon)) \n",
    "print(\"%-8.2f >= %8.2f: %8s\"%(a, b, laLonHonBang)) \n",
    "print(\"%-8.2f == %8.2f: %8s\"%(a, b, laBang)) \n",
    "print(\"%-8.2f != %8.2f: %8s\"%(a, b, laKhacNhau)) "
   ]
  },
  {
   "cell_type": "markdown",
   "id": "6e249348-1652-464b-95ab-9fb6d6f7d58b",
   "metadata": {},
   "source": [
    "#### **Bài 4. Tính giá trị hàm số** - HamSo.*"
   ]
  },
  {
   "cell_type": "markdown",
   "id": "50e5481f-1a5d-4948-9ffc-ed8c84a9bfd5",
   "metadata": {},
   "source": [
    "Hãy viết chương trình nhập vào số thực x và tính giá trị biểu thức: "
   ]
  },
  {
   "cell_type": "code",
   "execution_count": 7,
   "id": "808cd66b-2407-4a86-9d0d-86645a394bd5",
   "metadata": {},
   "outputs": [
    {
     "name": "stdin",
     "output_type": "stream",
     "text": [
      "Moi ban nhap vao gia tri cua bien so x:  2.3\n"
     ]
    },
    {
     "name": "stdout",
     "output_type": "stream",
     "text": [
      "Gia tri cua ham so f(2.30) = 3.27.\n"
     ]
    }
   ],
   "source": [
    "# Nạp thư viện \n",
    "import math\n",
    "\n",
    "# Nhập dữ liệu  \n",
    "x = float(input(\"Moi ban nhap vao gia tri cua bien so x: \")) \n",
    " \n",
    "# Xử lý  \n",
    "fx = (x + math.pow(x, 5) / (1 * 2 * 3 * 4 * 5)\n",
    "      + math.sqrt(abs(x)) / math.pow(x, 3.0 / 2))\n",
    " \n",
    "# Xuất dữ liệu  \n",
    "print(\"Gia tri cua ham so f(%.2f) = %.2f.\"%(x, fx))"
   ]
  },
  {
   "cell_type": "markdown",
   "id": "7fa903bc-c570-4f2a-aadb-c860c20e6281",
   "metadata": {},
   "source": [
    "#### **Bài 5. Tổng chữ số** - TongChuSo.*"
   ]
  },
  {
   "cell_type": "markdown",
   "id": "231587cf-e135-4d24-860a-99dbd7d60bf7",
   "metadata": {},
   "source": [
    "Cho số nguyên n có 4 chữ số. Hãy tính tổng các chữ số của n.  \n",
    "Ví dụ: n = 1234  → kq = 10"
   ]
  },
  {
   "cell_type": "code",
   "execution_count": 10,
   "id": "b5e2da63-92af-4587-9efd-d5da0964e515",
   "metadata": {},
   "outputs": [
    {
     "name": "stdin",
     "output_type": "stream",
     "text": [
      "Moi ban nhap so nguyen n (co bon chu so):  1234\n"
     ]
    },
    {
     "name": "stdout",
     "output_type": "stream",
     "text": [
      "1234 = 1 + 2 + 3 + 4 = 10.\n"
     ]
    }
   ],
   "source": [
    "# Nạp thư viện\n",
    "import math\n",
    "\n",
    "# Nhập số nguyên n (có 4 chữ số)\n",
    "n = int(input(\"Moi ban nhap so nguyen n (co bon chu so): \"))\n",
    "\n",
    "# Tách các chữ số\n",
    "a = n // 1000                # chữ số hàng nghìn\n",
    "b = (n // 100) % 10          # chữ số hàng trăm\n",
    "c = (n // 10) % 10           # chữ số hàng chục\n",
    "d = n % 10                   # chữ số hàng đơn vị\n",
    "\n",
    "# Tính tổng\n",
    "tong = a + b + c + d\n",
    "\n",
    "# Xuất kết quả\n",
    "print(f\"{n} = {a} + {b} + {c} + {d} = {tong}.\")"
   ]
  },
  {
   "cell_type": "markdown",
   "id": "59de2e95-85b7-402e-8b25-e3e9770894ba",
   "metadata": {
    "jp-MarkdownHeadingCollapsed": true
   },
   "source": [
    "### **BÀI TẬP THỰC HÀNH**"
   ]
  },
  {
   "cell_type": "markdown",
   "id": "101d1345-893e-49df-881a-e3aefb62bc9e",
   "metadata": {},
   "source": [
    "#### **Bài 1. In nhãn** - InNhan.*"
   ]
  },
  {
   "cell_type": "markdown",
   "id": "cf6be383-9b1f-4296-ae33-c6f3f1ccb8c1",
   "metadata": {},
   "source": [
    "Viết chương trình in ra nhãn gồm nhiều dòng như sau"
   ]
  },
  {
   "cell_type": "code",
   "execution_count": 5,
   "id": "a4d9b8f4-a55a-463d-b47f-810961bda3bc",
   "metadata": {},
   "outputs": [
    {
     "name": "stdin",
     "output_type": "stream",
     "text": [
      "Ho ten cua ban:  Nguyen Ngoc Bao Tram\n"
     ]
    },
    {
     "name": "stdout",
     "output_type": "stream",
     "text": [
      "*********************************\n",
      "* Truong: Dai Hoc UEH           *\n",
      "* Khoa: CNTT                    *\n",
      "* Ho ten: Nguyen Ngoc Bao Tram  *\n",
      "*********************************\n"
     ]
    }
   ],
   "source": [
    "hoten = input(\"Ho ten cua ban: \")\n",
    "\n",
    "print(\"*********************************\")\n",
    "print(\"* Truong: Dai Hoc UEH           *\")\n",
    "print(\"* Khoa: CNTT                    *\")\n",
    "print(f\"* Ho ten: {hoten:<22}*\")   # 22 ký tự, canh trái\n",
    "print(\"*********************************\")"
   ]
  },
  {
   "cell_type": "markdown",
   "id": "1a829d18-f81c-4425-a451-30a43ac80642",
   "metadata": {},
   "source": [
    "#### **Bài 2. Tính diện tích và chu vi hình tròn** - HinhTron.*"
   ]
  },
  {
   "cell_type": "markdown",
   "id": "79e0bc31-4c30-4d49-a79c-2d5178241e3e",
   "metadata": {},
   "source": [
    "Nhập vào bán kính R của một hình tròn. Hãy tính diện tích và chu vi hình tròn đó theo công thức:𝑆 = 3.14𝑥𝑅2, 𝑃 = 2𝑥3.14𝑥𝑅. In kết quả với 1 số lẻ thập phân. "
   ]
  },
  {
   "cell_type": "code",
   "execution_count": 3,
   "id": "a61d493c-2616-4a25-abd0-57db788a4844",
   "metadata": {},
   "outputs": [
    {
     "name": "stdin",
     "output_type": "stream",
     "text": [
      "Nhap ban kinh R:  5\n"
     ]
    },
    {
     "name": "stdout",
     "output_type": "stream",
     "text": [
      "Dien tich S = 78.5\n",
      "Chu vi P = 31.4\n"
     ]
    }
   ],
   "source": [
    "R = float(input(\"Nhap ban kinh R: \"))\n",
    "\n",
    "S = 3.14 * R * R          # công thức tính diện tích\n",
    "P = 2 * 3.14 * R          # công thức tính chu vi\n",
    "\n",
    "print(\"Dien tich S = %.1f\" % S)\n",
    "print(\"Chu vi P = %.1f\" % P)"
   ]
  },
  {
   "cell_type": "markdown",
   "id": "7135e3b4-fea6-4509-8589-ee056e4101fe",
   "metadata": {},
   "source": [
    "#### **Bài 3. Đổi sang giây** - DoiSangGiay.*"
   ]
  },
  {
   "cell_type": "markdown",
   "id": "43d8db27-f3ad-4828-9029-8cf5c4968cf3",
   "metadata": {},
   "source": [
    "Một thiết bị hoạt động được h giờ, m phút và s giây. Hãy viết chương trình chuyển thời gian đó sang tổng số giây."
   ]
  },
  {
   "cell_type": "code",
   "execution_count": 8,
   "id": "f27a2b83-724f-43a4-8490-c67e735ee7c9",
   "metadata": {},
   "outputs": [
    {
     "name": "stdin",
     "output_type": "stream",
     "text": [
      "Nhap so gio:  1\n",
      "Nhap so phut:  20\n",
      "Nhap so giay:  10\n"
     ]
    },
    {
     "name": "stdout",
     "output_type": "stream",
     "text": [
      "Tong so giay cua 1:20:10 la =  4810\n"
     ]
    }
   ],
   "source": [
    "h = int(input(\"Nhap so gio: \"))\n",
    "m = int(input(\"Nhap so phut: \"))\n",
    "s = int(input(\"Nhap so giay: \"))\n",
    "\n",
    "tong_giay = h * 3600 + m * 60 + s \n",
    "\n",
    "print(\"Tong so giay cua 1:20:10 la = \", tong_giay)"
   ]
  },
  {
   "cell_type": "markdown",
   "id": "62ea2dbd-5971-476b-ac3b-74ceef10088a",
   "metadata": {},
   "source": [
    "#### **Bài 4. Đổi sang giờ phút giây** - DoiSangGioPhutGiay.* "
   ]
  },
  {
   "cell_type": "markdown",
   "id": "334472ee-dfdf-4d93-98d9-37288e0e93a9",
   "metadata": {},
   "source": [
    "Một thiết bị hoạt động được t giây. Hãy viết chương trình chuyển số giây đó dưới dạng số giờ, số phút và số giây."
   ]
  },
  {
   "cell_type": "code",
   "execution_count": 1,
   "id": "b665eccb-82aa-43ad-a0a1-29f666403fb3",
   "metadata": {},
   "outputs": [
    {
     "name": "stdin",
     "output_type": "stream",
     "text": [
      "Nhap vao tong so giay:  4810\n"
     ]
    },
    {
     "name": "stdout",
     "output_type": "stream",
     "text": [
      "4810 giay co dang 1:20:10\n"
     ]
    }
   ],
   "source": [
    "t = int(input(\"Nhap vao tong so giay: \"))\n",
    "\n",
    "h = t // 3600\n",
    "m = (t % 3600) // 60\n",
    "s = t % 60\n",
    "\n",
    "print(f\"{t} giay co dang {h}:{m:02d}:{s:02d}\")"
   ]
  },
  {
   "cell_type": "markdown",
   "id": "6227d8ac-f6be-4f09-a58a-5cb940a7aa5f",
   "metadata": {},
   "source": [
    "#### **Bài 5. Tính diện tích tam giác** - DienTichTamGiac.*"
   ]
  },
  {
   "cell_type": "markdown",
   "id": "216c2e3f-389a-45a4-9ebd-c1d74ba61017",
   "metadata": {},
   "source": [
    "Cho 3 số thực a, b, c là độ dài 3 cạnh của một tam giác. Hãy tính diện tích tam giác này theo công thức Heron. In kết quả với 2 số lẻ thập phân."
   ]
  },
  {
   "cell_type": "code",
   "execution_count": 2,
   "id": "d57060a0-7c39-45c9-99e5-3411279695f0",
   "metadata": {},
   "outputs": [
    {
     "name": "stdin",
     "output_type": "stream",
     "text": [
      "Nhap do dai canh a:  2\n",
      "Nhap do dai canh b:  4\n",
      "Nhap do dai canh c:  3\n"
     ]
    },
    {
     "name": "stdout",
     "output_type": "stream",
     "text": [
      "Dien tich tam giac S = 2.90\n"
     ]
    }
   ],
   "source": [
    "import math\n",
    "\n",
    "# Nhập độ dài 3 cạnh tam giác\n",
    "a = float(input(\"Nhap do dai canh a: \"))\n",
    "b = float(input(\"Nhap do dai canh b: \"))\n",
    "c = float(input(\"Nhap do dai canh c: \"))\n",
    "\n",
    "p = (a + b + c) / 2     # Nửa chu vi\n",
    "S = math.sqrt(p * (p - a) * (p - b) * (p - c))     # Công thức Heron\n",
    "\n",
    "print(f\"Dien tich tam giac S = {S:.2f}\")"
   ]
  },
  {
   "cell_type": "markdown",
   "id": "db757fc0-aad8-45fb-bfec-a3190fe99796",
   "metadata": {},
   "source": [
    "#### **Bài 6. Hàm Mũ** - TinhMu.*"
   ]
  },
  {
   "cell_type": "markdown",
   "id": "36b682d6-902c-4060-a681-e8edba2af7a8",
   "metadata": {},
   "source": [
    "Nhập số thực a và số nguyên n. Hãy tính a^n.  "
   ]
  },
  {
   "cell_type": "code",
   "execution_count": 4,
   "id": "1ffe7791-2e89-4ac2-b7f9-b4735d949c50",
   "metadata": {},
   "outputs": [
    {
     "name": "stdin",
     "output_type": "stream",
     "text": [
      "Nhap so thuc a:  2\n",
      "Nhap so mu n:  4\n"
     ]
    },
    {
     "name": "stdout",
     "output_type": "stream",
     "text": [
      "Ket qua 2^4 = 16\n"
     ]
    }
   ],
   "source": [
    "a = float(input(\"Nhap so thuc a: \"))\n",
    "n = int(input(\"Nhap so mu n: \"))\n",
    "\n",
    "ket_qua = a ** n\n",
    "\n",
    "if ket_qua.is_integer():\n",
    "    print(\"Ket qua %g^%d = %d\" % (a, n, int(ket_qua)))\n",
    "else:\n",
    "    print(\"Ket qua %g^%d = %f\" % (a, n, ket_qua))"
   ]
  },
  {
   "cell_type": "markdown",
   "id": "67dac196-04fa-4cd8-b81c-7093af056e1f",
   "metadata": {},
   "source": [
    "#### **Bài 7. Đảo số** - DaoSo.*"
   ]
  },
  {
   "cell_type": "markdown",
   "id": "a974b983-2423-4da4-a437-677166fa4d0e",
   "metadata": {},
   "source": [
    "Cho số nguyên x có 4 chữ số. Hãy tìm số y là số đảo của số x, tức là số có các chữ số viết theo thứ tự ngược lại của x.  \n",
    "Ví dụ: x = 1234 → y = 4321"
   ]
  },
  {
   "cell_type": "code",
   "execution_count": 5,
   "id": "64687961-c7af-49ea-960c-38f1f99e6ee9",
   "metadata": {},
   "outputs": [
    {
     "name": "stdin",
     "output_type": "stream",
     "text": [
      "Nhap so nguyen x (4 chu so):  1234\n"
     ]
    },
    {
     "name": "stdout",
     "output_type": "stream",
     "text": [
      "So dao cua 1234 la 4321\n"
     ]
    }
   ],
   "source": [
    "x = int(input(\"Nhap so nguyen x (4 chu so): \"))\n",
    "\n",
    "a = x // 1000          # chữ số hàng nghìn\n",
    "b = (x // 100) % 10    # chữ số hàng trăm\n",
    "c = (x // 10) % 10     # chữ số hàng chục\n",
    "d = x % 10             # chữ số hàng đơn vị\n",
    "\n",
    "y = d*1000 + c*100 + b*10 + a\n",
    "\n",
    "print(f\"So dao cua {x} la {y}\")"
   ]
  },
  {
   "cell_type": "markdown",
   "id": "d590835b-102c-439d-af5a-6746173e03fc",
   "metadata": {},
   "source": [
    "#### **Bài 8. Độ sang Radian** - DoSangRadian.*"
   ]
  },
  {
   "cell_type": "markdown",
   "id": "4e3cbe2f-90f7-4b29-a7d8-2c36689f24be",
   "metadata": {},
   "source": [
    "Tìm công thức và viết chương trình chuyển một góc từ độ sang radian."
   ]
  },
  {
   "cell_type": "code",
   "execution_count": 2,
   "id": "c8c65853-a10a-4cfa-bbe7-82fc27bab746",
   "metadata": {},
   "outputs": [
    {
     "name": "stdin",
     "output_type": "stream",
     "text": [
      "Nhap goc (do):  180\n"
     ]
    },
    {
     "name": "stdout",
     "output_type": "stream",
     "text": [
      "Goc 180.00 do = 3.1416 radian\n"
     ]
    }
   ],
   "source": [
    "import math\n",
    "\n",
    "deg = float(input(\"Nhap goc (do): \"))\n",
    "rad = deg * math.pi / 180\n",
    "\n",
    "print(\"Goc %.2f do = %.4f radian\" % (deg, rad))"
   ]
  },
  {
   "cell_type": "markdown",
   "id": "97ab8b3d-0a78-4e1e-b244-41b033538c9a",
   "metadata": {},
   "source": [
    "#### **Bài 9. Hàm số 1** - HamSo1.*"
   ]
  },
  {
   "cell_type": "markdown",
   "id": "dde62722-c16e-40e1-886f-875f3c1acac7",
   "metadata": {},
   "source": [
    "Nhập vào số thực x, tính và in ra các giá trị y1, y (làm tròn 2 số lẻ): "
   ]
  },
  {
   "cell_type": "code",
   "execution_count": 10,
   "id": "5d75788d-7b20-461a-97b4-d8c4ca754758",
   "metadata": {},
   "outputs": [
    {
     "name": "stdin",
     "output_type": "stream",
     "text": [
      "Nhap gia tri x:  2\n"
     ]
    },
    {
     "name": "stdout",
     "output_type": "stream",
     "text": [
      "y1 = 157.14\n",
      "y2 = 0.04\n"
     ]
    }
   ],
   "source": [
    "import math\n",
    "\n",
    "x = float(input(\"Nhap gia tri x: \"))\n",
    "\n",
    "y1 = 4 * (x**2 + 10*x*math.sqrt(x) + 3*x + 1)\n",
    "y2 = (math.sin(math.pi * x**2) + math.sqrt(x**2 + 1)) / (math.exp(2*x) + math.cos((math.pi/4) * x))\n",
    "\n",
    "print(f\"y1 = {y1:.2f}\")\n",
    "print(f\"y2 = {y2:.2f}\")"
   ]
  },
  {
   "cell_type": "markdown",
   "id": "6571419b-0cb4-43a9-8af7-6e690823c8d7",
   "metadata": {},
   "source": [
    "#### **Bài 10. Khoảng cách** - KhoangCach.*"
   ]
  },
  {
   "cell_type": "markdown",
   "id": "d401ae30-d78e-44b1-b71a-c3af9c28e7ed",
   "metadata": {},
   "source": [
    "Tính khoảng cách giữa 2 điểm A(𝑥1, 𝑦1) và B(𝑥2, 𝑦2). "
   ]
  },
  {
   "cell_type": "code",
   "execution_count": 11,
   "id": "b36d3344-fbab-4ce8-b54b-a5783e81066b",
   "metadata": {},
   "outputs": [
    {
     "name": "stdin",
     "output_type": "stream",
     "text": [
      "Nhap x1:  1\n",
      "Nhap y1:  2\n",
      "Nhap x2:  4\n",
      "Nhap y2:  6\n"
     ]
    },
    {
     "name": "stdout",
     "output_type": "stream",
     "text": [
      "Khoang cach =  5\n"
     ]
    }
   ],
   "source": [
    "import math\n",
    "\n",
    "x1 = float(input(\"Nhap x1: \"))\n",
    "y1 = float(input(\"Nhap y1: \"))\n",
    "x2 = float(input(\"Nhap x2: \"))\n",
    "y2 = float(input(\"Nhap y2: \"))\n",
    "\n",
    "d = math.sqrt((x2 - x1)**2 + (y2 - y1)**2)\n",
    "\n",
    "print(\"Khoang cach = \", int(d))   # chỉ lấy phần nguyên"
   ]
  },
  {
   "cell_type": "markdown",
   "id": "35aac082-e533-4267-a07a-25e450e65bd1",
   "metadata": {},
   "source": [
    "## **CẤU TRÚC ĐIỀU KIỆN**"
   ]
  },
  {
   "cell_type": "markdown",
   "id": "95142ca1-7f53-4b23-a27f-d63c01accfe3",
   "metadata": {
    "jp-MarkdownHeadingCollapsed": true
   },
   "source": [
    "### **BÀI TẬP TRÊN LỚP**"
   ]
  },
  {
   "cell_type": "markdown",
   "id": "2b909173-e227-42bb-868c-cc494cc97c60",
   "metadata": {
    "jp-MarkdownHeadingCollapsed": true
   },
   "source": [
    "#### **Bài 1. Tìm giá trị lớn nhất** - Max3Num.* "
   ]
  },
  {
   "cell_type": "markdown",
   "id": "1fae634d-6404-4f3b-83a4-0798e4965eb7",
   "metadata": {},
   "source": [
    "Viết chương trình nhập vào 3 số nguyên a, b, c. Tìm giá trị lớn nhất của 3 số đó. "
   ]
  },
  {
   "cell_type": "code",
   "execution_count": 12,
   "id": "e6bf1675-2481-4f35-8b09-b97fc796a1e0",
   "metadata": {},
   "outputs": [
    {
     "name": "stdout",
     "output_type": "stream",
     "text": [
      "Writing Max3Num.py\n"
     ]
    }
   ],
   "source": [
    "%%writefile Max3Num.py\n",
    "a = int(input())\n",
    "b = int(input())\n",
    "c = int(input())\n",
    "\n",
    "def max_fn(x, y):\n",
    "    return x if x > y else y\n",
    "\n",
    "vmax = max_fn(a, b)\n",
    "vmax = max_fn(vmax, c)\n",
    "\n",
    "print(\"Max(%d, %d, %d) = %d\" % (a, b, c, vmax))"
   ]
  },
  {
   "cell_type": "code",
   "execution_count": 13,
   "id": "b4bac86d-c5cf-48e4-a867-4fb26e0154c2",
   "metadata": {},
   "outputs": [
    {
     "name": "stdout",
     "output_type": "stream",
     "text": [
      "Writing Max3Num.in0\n"
     ]
    }
   ],
   "source": [
    "%%writefile Max3Num.in0\n",
    "2\n",
    "5\n",
    "4"
   ]
  },
  {
   "cell_type": "code",
   "execution_count": 14,
   "id": "8a8422c9-fe9f-4727-93bf-e2cf24f5cc63",
   "metadata": {},
   "outputs": [
    {
     "name": "stdout",
     "output_type": "stream",
     "text": [
      "Max(2, 5, 4) = 5\n"
     ]
    }
   ],
   "source": [
    "!python Max3Num.py < Max3Num.in0"
   ]
  },
  {
   "cell_type": "markdown",
   "id": "7ccaf854-2d29-402f-9f5c-b67e1c02b383",
   "metadata": {
    "jp-MarkdownHeadingCollapsed": true
   },
   "source": [
    "#### **Bài 2. Sắp xếp** - Sort3Num.*"
   ]
  },
  {
   "cell_type": "markdown",
   "id": "5c6781b6-fe14-4818-9fd1-bb5a8ad2acc9",
   "metadata": {},
   "source": [
    "Cho ba số nguyên a, b, c. Hãy sắp xếp ba số nguyên theo thứ tự tăng dần.  "
   ]
  },
  {
   "cell_type": "code",
   "execution_count": 2,
   "id": "02d377a4-3be6-4796-b6f6-565fbc257458",
   "metadata": {},
   "outputs": [
    {
     "name": "stdout",
     "output_type": "stream",
     "text": [
      "Writing Sort3Num.py\n"
     ]
    }
   ],
   "source": [
    "%%writefile Sort3Num.py\n",
    "a = int(input())\n",
    "b = int(input())\n",
    "c = int(input())\n",
    "\n",
    "nums = [a, b, c]\n",
    "nums.sort()\n",
    "\n",
    "print(*nums)"
   ]
  },
  {
   "cell_type": "code",
   "execution_count": 3,
   "id": "7b6cde15-f31f-4543-8586-4ded5e3d2970",
   "metadata": {},
   "outputs": [
    {
     "name": "stdout",
     "output_type": "stream",
     "text": [
      "Writing Sort3Num.in0\n"
     ]
    }
   ],
   "source": [
    "%%writefile Sort3Num.in0\n",
    "4\n",
    "2\n",
    "3"
   ]
  },
  {
   "cell_type": "code",
   "execution_count": 4,
   "id": "88ddfd24-d578-40de-9ac3-531e4870c938",
   "metadata": {},
   "outputs": [
    {
     "name": "stdout",
     "output_type": "stream",
     "text": [
      "2 3 4\n"
     ]
    }
   ],
   "source": [
    "!python Sort3Num.py < Sort3Num.in0"
   ]
  },
  {
   "cell_type": "markdown",
   "id": "65b0fe93-055d-4796-bf16-663348e5a115",
   "metadata": {
    "jp-MarkdownHeadingCollapsed": true
   },
   "source": [
    "#### **Bài 3. Giải phuơng trình bậc 1** - SolveEq1Deg.*"
   ]
  },
  {
   "cell_type": "markdown",
   "id": "e1572689-a6d3-4616-aabe-114a453e816c",
   "metadata": {},
   "source": [
    "Nhập 2 số thực a, b. Tìm nghiệm của phương trình bậc 1: ax + b = 0."
   ]
  },
  {
   "cell_type": "code",
   "execution_count": 5,
   "id": "f7a50215-9c68-4fc8-989f-9f13cbf64723",
   "metadata": {},
   "outputs": [
    {
     "name": "stdout",
     "output_type": "stream",
     "text": [
      "Writing Solve1Deg.py\n"
     ]
    }
   ],
   "source": [
    "%%writefile Solve1Deg.py\n",
    "a = float(input()) \n",
    "b = int(input()) \n",
    " \n",
    "# Process \n",
    "def solv1deg(a, b): \n",
    "    \"\"\" \n",
    "    Solve Equation ax + b = 0 \n",
    "    \"\"\" \n",
    "    nsol, x = None, None \n",
    "    if a == 0: \n",
    "        if b == 0: \n",
    "            nsol = -1 \n",
    "        else: \n",
    "            nsol = 0 \n",
    "    else: \n",
    "        nsol = 1 \n",
    "        x = -b / a \n",
    "     \n",
    "    return nsol, x\n",
    "    pass # solv1deg \n",
    " \n",
    "nsol, x = solv1deg(a, b) \n",
    " \n",
    "# output \n",
    "if nsol == -1: \n",
    "    print(\"%.2fx + %.2f = 0: unlimited solutions\"%(a, b)) \n",
    "elif nsol == 0: \n",
    "    print(\"%.2fx + %.2f = 0: no solution\"%(a, b)) \n",
    "else: \n",
    "    print(\"%.2fx + %.2f = 0: x = %.2f\"%(a, b, x)) "
   ]
  },
  {
   "cell_type": "code",
   "execution_count": 6,
   "id": "b48622f3-e3d8-4cc5-bd8e-91284f9da068",
   "metadata": {},
   "outputs": [
    {
     "name": "stdout",
     "output_type": "stream",
     "text": [
      "Writing Solve1Deg.in0\n"
     ]
    }
   ],
   "source": [
    "%%writefile Solve1Deg.in0 \n",
    "1 \n",
    "5  "
   ]
  },
  {
   "cell_type": "code",
   "execution_count": 7,
   "id": "44b44e58-ef26-429e-9695-d27dca8acbe8",
   "metadata": {},
   "outputs": [
    {
     "name": "stdout",
     "output_type": "stream",
     "text": [
      "Writing Solve1Deg.in1\n"
     ]
    }
   ],
   "source": [
    "%%writefile Solve1Deg.in1 \n",
    "0 \n",
    "0"
   ]
  },
  {
   "cell_type": "code",
   "execution_count": 8,
   "id": "d4610595-a9c3-4a00-8e50-64fedb9a5508",
   "metadata": {},
   "outputs": [
    {
     "name": "stdout",
     "output_type": "stream",
     "text": [
      "Writing Solve1Deg.in2\n"
     ]
    }
   ],
   "source": [
    "%%writefile Solve1Deg.in2 \n",
    "0 \n",
    "10 "
   ]
  },
  {
   "cell_type": "code",
   "execution_count": 9,
   "id": "ce9c8872-ebc5-49d0-aa37-ef01100a3e2b",
   "metadata": {},
   "outputs": [
    {
     "name": "stdout",
     "output_type": "stream",
     "text": [
      "1.00x + 5.00 = 0: x = -5.00\n",
      "0.00x + 0.00 = 0: unlimited solutions\n",
      "0.00x + 10.00 = 0: no solution\n"
     ]
    }
   ],
   "source": [
    "!python Solve1Deg.py < Solve1Deg.in0 \n",
    "!python Solve1Deg.py < Solve1Deg.in1 \n",
    "!python Solve1Deg.py < Solve1Deg.in2"
   ]
  },
  {
   "cell_type": "markdown",
   "id": "3722313b-384a-43ea-9f0e-a999fe3bfa12",
   "metadata": {
    "jp-MarkdownHeadingCollapsed": true
   },
   "source": [
    "#### **Bài 4. Tìm số ngày của năm (dùng rẽ nhánh)** - TotalDayYear.* "
   ]
  },
  {
   "cell_type": "markdown",
   "id": "c66a8ff3-7914-4069-afac-e4afb7e0939c",
   "metadata": {},
   "source": [
    "Nhập vào số năm n, cho biết năm n có bao nhiêu ngày. Biết rằng năm nhuần là năm chia hết cho 400 hay chia hết cho 4 nhưng không chia hết cho 100. Ví dụ: năm 2004, 2008, 2012 là năm nhuần và có số ngày là 366, năm 1945 không phải là năm nhuần và có số ngày là 365."
   ]
  },
  {
   "cell_type": "code",
   "execution_count": 11,
   "id": "d2735d7c-b092-4ab3-aa31-e92e15cdf988",
   "metadata": {},
   "outputs": [
    {
     "name": "stdout",
     "output_type": "stream",
     "text": [
      "Writing TotalDayYear.py\n"
     ]
    }
   ],
   "source": [
    "%%writefile TotalDayYear.py\n",
    "y = int(input()) \n",
    " \n",
    "# Process \n",
    "def isleap(y): \n",
    "    ans = False \n",
    "    if y%400==0 or (y%4==0 and y%100 !=0): \n",
    "        ans = True \n",
    "    return ans \n",
    "    pass # IsLeap \n",
    " \n",
    "def daysyear(y): \n",
    "    ans = 365 \n",
    "    if isleap(y): \n",
    "        ans = 366 \n",
    "    return ans \n",
    "    pass # daysyear \n",
    "     \n",
    "ans = daysyear(y) \n",
    " \n",
    "# output \n",
    "print(\"%d\"%(ans)) "
   ]
  },
  {
   "cell_type": "code",
   "execution_count": 14,
   "id": "00e2e0ab-bcc6-4247-9ee5-f83d460da4fa",
   "metadata": {},
   "outputs": [
    {
     "name": "stdout",
     "output_type": "stream",
     "text": [
      "Overwriting TotalDayYear.in0\n"
     ]
    }
   ],
   "source": [
    "%%writefile TotalDayYear.in0 \n",
    "1992  "
   ]
  },
  {
   "cell_type": "code",
   "execution_count": 15,
   "id": "36763a0b-2a8b-460e-805b-89f665096d0a",
   "metadata": {},
   "outputs": [
    {
     "name": "stdout",
     "output_type": "stream",
     "text": [
      "Writing TotalDayYear.in1\n"
     ]
    }
   ],
   "source": [
    "%%writefile TotalDayYear.in1 \n",
    "2000 "
   ]
  },
  {
   "cell_type": "code",
   "execution_count": 16,
   "id": "305d68fe-01b8-4434-b666-4349e10a7320",
   "metadata": {},
   "outputs": [
    {
     "name": "stdout",
     "output_type": "stream",
     "text": [
      "Writing TotalDayYear.in2\n"
     ]
    }
   ],
   "source": [
    "%%writefile TotalDayYear.in2 \n",
    "1997  "
   ]
  },
  {
   "cell_type": "code",
   "execution_count": 17,
   "id": "688a2079-7aa3-4aef-bb61-8dd198832693",
   "metadata": {},
   "outputs": [
    {
     "name": "stdout",
     "output_type": "stream",
     "text": [
      "366\n",
      "366\n",
      "365\n"
     ]
    }
   ],
   "source": [
    "!python TotalDayYear.py < TotalDayYear.in0 \n",
    "!python TotalDayYear.py < TotalDayYear.in1 \n",
    "!python TotalDayYear.py < TotalDayYear.in2 "
   ]
  },
  {
   "cell_type": "markdown",
   "id": "7632870d-37b3-4eef-994e-55dd6da8ddd7",
   "metadata": {
    "jp-MarkdownHeadingCollapsed": true
   },
   "source": [
    "#### **Bài 5. Tính toán** - Calculation.*"
   ]
  },
  {
   "cell_type": "markdown",
   "id": "cc7d63a0-035d-4e1c-ae50-b9750565f83e",
   "metadata": {},
   "source": [
    "Viết chương trình nhập vào 2 số thực và một phép toán (+, -, *, /). Cho biết kết quả của phép toán với 2 số đã nhập. "
   ]
  },
  {
   "cell_type": "code",
   "execution_count": 3,
   "id": "67640b87-1971-44f5-af4b-4f971e548c26",
   "metadata": {},
   "outputs": [
    {
     "name": "stdin",
     "output_type": "stream",
     "text": [
      "Nhap so thuc thu nhat:  8\n",
      "Nhap so thuc thu hai:  3\n",
      "Nhap phep toan (+, -, *, /):  +\n"
     ]
    },
    {
     "name": "stdout",
     "output_type": "stream",
     "text": [
      "8 + 3 = 11\n"
     ]
    }
   ],
   "source": [
    "a = float(input(\"Nhap so thuc thu nhat: \"))\n",
    "b = float(input(\"Nhap so thuc thu hai: \"))\n",
    "op = input(\"Nhap phep toan (+, -, *, /): \")\n",
    "\n",
    "def hien_thi(so):\n",
    "    # Nếu là số nguyên (ví dụ 11.0) thì in 11\n",
    "    if so.is_integer():\n",
    "        return str(int(so))\n",
    "    return str(so)\n",
    "\n",
    "if op == \"+\":\n",
    "    kq = a + b\n",
    "    print(f\"{hien_thi(a)} + {hien_thi(b)} = {hien_thi(kq)}\")\n",
    "elif op == \"-\":\n",
    "    kq = a - b\n",
    "    print(f\"{hien_thi(a)} - {hien_thi(b)} = {hien_thi(kq)}\")\n",
    "elif op == \"*\":\n",
    "    kq = a * b\n",
    "    print(f\"{hien_thi(a)} * {hien_thi(b)} = {hien_thi(kq)}\")\n",
    "elif op == \"/\":\n",
    "    if b == 0:\n",
    "        print(\"Khong tinh duoc\")\n",
    "    else:\n",
    "        kq = a / b\n",
    "        print(f\"{hien_thi(a)} / {hien_thi(b)} = {hien_thi(kq)}\")\n",
    "else:\n",
    "    print(\"Phep toan khong hop le!\")"
   ]
  },
  {
   "cell_type": "markdown",
   "id": "9ea96d0b-769e-4b4c-9ee0-93d678282288",
   "metadata": {
    "jp-MarkdownHeadingCollapsed": true
   },
   "source": [
    "#### **Bài 6. Tính tiền điện tiêu thụ trong hộ gia đình** - ElectricPrice.*"
   ]
  },
  {
   "cell_type": "markdown",
   "id": "06b97956-3e83-4867-832f-553d04020cb9",
   "metadata": {},
   "source": [
    "Cứ mỗi tháng nhân viên đi ghi chỉ số điện tiêu thụ của từng hộ gia đình bao gồm thông tin chỉ số điện cũ, chỉ số điện mới. Biết bảng giá định mức sử dụng điện của hộ gia đình trên tháng. \n",
    "\n",
    "Tổng số tiền mà hộ phải trả cho bên bán điện là số tiền tính được tính theo số kWh mà hộ ấy tiêu thụ trong một tháng cộng với 10% tiền thuế VAT. Hãy viết chương trình tính số tiền của một hộ tiêu thụ trong một tháng. "
   ]
  },
  {
   "cell_type": "code",
   "execution_count": 4,
   "id": "c569b9ae-a229-4ac6-8e43-975bfe000315",
   "metadata": {},
   "outputs": [
    {
     "name": "stdin",
     "output_type": "stream",
     "text": [
      "Nhap chi so dien cu:  3\n",
      "Nhap chi so dien moi:  190\n"
     ]
    },
    {
     "name": "stdout",
     "output_type": "stream",
     "text": [
      "The amount to pay for 187 kWh consumed in the month is 275,535 VND.\n"
     ]
    }
   ],
   "source": [
    "# Nhập chỉ số điện cũ và mới\n",
    "old_kwh = int(input(\"Nhap chi so dien cu: \"))\n",
    "new_kwh = int(input(\"Nhap chi so dien moi: \"))\n",
    "\n",
    "consumed = new_kwh - old_kwh  # Tính số điện tiêu thụ\n",
    "\n",
    "# Định mức giá bán theo bậc\n",
    "gia_bac = [\n",
    "    (100, 1242),\n",
    "    (50, 1304),\n",
    "    (50, 1651),\n",
    "    (100, 1788),\n",
    "    (100, 1912),\n",
    "    (999999, 1962)   # >400\n",
    "]\n",
    "\n",
    "# Tính tiền điện theo bậc\n",
    "tien_dien = 0\n",
    "kwh_con_lai = consumed\n",
    "\n",
    "for bac, gia in gia_bac:\n",
    "    if kwh_con_lai > 0:\n",
    "        so_kwh = min(kwh_con_lai, bac)\n",
    "        tien_dien += so_kwh * gia\n",
    "        kwh_con_lai -= so_kwh\n",
    "\n",
    "tong_tien = int(tien_dien * 1.1)  # Cộng thêm VAT 10%\n",
    "\n",
    "print(f\"The amount to pay for {consumed} kWh consumed in the month is {tong_tien:,} VND.\")"
   ]
  },
  {
   "cell_type": "markdown",
   "id": "fae31345-9c1a-4cd6-8e12-b11a9dba7529",
   "metadata": {
    "jp-MarkdownHeadingCollapsed": true
   },
   "source": [
    "#### **Bài 7. Ngày trước** - PreviousDay.*"
   ]
  },
  {
   "cell_type": "markdown",
   "id": "749329a6-188e-4913-a544-a6e8694d604c",
   "metadata": {},
   "source": [
    "Nhập vào ngày, tháng, năm. Hỏi ngày trước đó là ngày nào?  "
   ]
  },
  {
   "cell_type": "code",
   "execution_count": 7,
   "id": "f191982e-4946-4fc5-8932-8c49199c2b22",
   "metadata": {},
   "outputs": [
    {
     "name": "stdin",
     "output_type": "stream",
     "text": [
      "Nhap ngay:  1\n",
      "Nhap thang:  2\n",
      "Nhap nam:  2015\n"
     ]
    },
    {
     "name": "stdout",
     "output_type": "stream",
     "text": [
      "Previous day of 1/2/2015 is 31/1/2015.\n"
     ]
    }
   ],
   "source": [
    "# Hàm kiểm tra năm nhuận\n",
    "def is_leap_year(year):\n",
    "    return (year % 4 == 0 and year % 100 != 0) or (year % 400 == 0)\n",
    "\n",
    "# Hàm lấy số ngày trong tháng\n",
    "def days_in_month(month, year):\n",
    "    if month in [1, 3, 5, 7, 8, 10, 12]:\n",
    "        return 31\n",
    "    elif month in [4, 6, 9, 11]:\n",
    "        return 30\n",
    "    elif month == 2:\n",
    "        return 29 if is_leap_year(year) else 28\n",
    "    return 0\n",
    "\n",
    "# Nhập ngày tháng năm\n",
    "d = int(input(\"Nhap ngay: \"))\n",
    "m = int(input(\"Nhap thang: \"))\n",
    "y = int(input(\"Nhap nam: \"))\n",
    "\n",
    "# Các trường hợp\n",
    "if d == 1 and m == 1:   # ngày đầu năm\n",
    "    prev_d = 31\n",
    "    prev_m = 12\n",
    "    prev_y = y - 1\n",
    "elif d == 1:            # ngày đầu tháng\n",
    "    prev_m = m - 1\n",
    "    prev_y = y\n",
    "    prev_d = days_in_month(prev_m, prev_y)\n",
    "else:                   # các ngày còn lại\n",
    "    prev_d = d - 1\n",
    "    prev_m = m\n",
    "    prev_y = y\n",
    "\n",
    "print(f\"Previous day of {d}/{m}/{y} is {prev_d}/{prev_m}/{prev_y}.\")"
   ]
  },
  {
   "cell_type": "markdown",
   "id": "5800a481-3c29-43dc-a169-bd7f2df318b8",
   "metadata": {
    "jp-MarkdownHeadingCollapsed": true
   },
   "source": [
    "#### **Bài 8. Kiểm tra tam giác** - CheckTriangle.* "
   ]
  },
  {
   "cell_type": "markdown",
   "id": "6cbdce79-64f4-479b-8ac5-279982be55ff",
   "metadata": {},
   "source": [
    "Nhập vào ba cạnh a, b, c của một tam giác. Hãy kiểm tra xem a, b, c có tạo thành một tam giác không? Biết a, b, c tạo thành một tam giác khi tổng hai cạnh bất kỳ lớn hơn cạnh còn lại. "
   ]
  },
  {
   "cell_type": "code",
   "execution_count": 12,
   "id": "5d905a98-602c-4f5f-a5fd-031353fb3210",
   "metadata": {},
   "outputs": [
    {
     "name": "stdin",
     "output_type": "stream",
     "text": [
      "Nhap canh a:  5\n",
      "Nhap canh b:  3\n",
      "Nhap canh c:  4\n"
     ]
    },
    {
     "name": "stdout",
     "output_type": "stream",
     "text": [
      "5, 3, 4 tao thanh mot tam giac.\n"
     ]
    }
   ],
   "source": [
    "a = int(input(\"Nhap canh a: \"))\n",
    "b = int(input(\"Nhap canh b: \"))\n",
    "c = int(input(\"Nhap canh c: \"))\n",
    "\n",
    "# Kiểm tra điều kiện tam giác\n",
    "if a > 0 and b > 0 and c > 0 and (a + b > c) and (a + c > b) and (b + c > a):\n",
    "    print(f\"{a}, {b}, {c} tao thanh mot tam giac.\")\n",
    "else:\n",
    "    print(f\"{a}, {b}, {c} khong tao thanh tam giac.\")"
   ]
  },
  {
   "cell_type": "code",
   "execution_count": 10,
   "id": "a3fcf677-501b-4abf-bca0-95689c901eba",
   "metadata": {},
   "outputs": [
    {
     "name": "stdin",
     "output_type": "stream",
     "text": [
      "Nhap canh a:  5\n",
      "Nhap canh b:  4\n",
      "Nhap canh c:  3\n"
     ]
    },
    {
     "name": "stdout",
     "output_type": "stream",
     "text": [
      "3, 4, 5 tao thanh mot tam giac.\n"
     ]
    }
   ],
   "source": [
    "a = int(input(\"Nhap canh a: \"))\n",
    "b = int(input(\"Nhap canh b: \"))\n",
    "c = int(input(\"Nhap canh c: \"))\n",
    "\n",
    "# Sắp xếp tăng dần\n",
    "sides = sorted([a, b, c])\n",
    "a, b, c = sides\n",
    "\n",
    "# Kiểm tra tam giác\n",
    "if a > 0 and b > 0 and c > 0 and a + b > c:\n",
    "    print(f\"{a}, {b}, {c} tao thanh mot tam giac.\")\n",
    "else:\n",
    "    print(f\"{a}, {b}, {c} khong tao thanh tam giac.\")"
   ]
  },
  {
   "cell_type": "markdown",
   "id": "25266127-06ab-46c7-b061-7ade2f29181e",
   "metadata": {
    "jp-MarkdownHeadingCollapsed": true
   },
   "source": [
    "### **BÀI TẬP THÊM**"
   ]
  },
  {
   "cell_type": "markdown",
   "id": "053ce18c-99ec-44a1-8f1d-c281b1fda43f",
   "metadata": {
    "jp-MarkdownHeadingCollapsed": true
   },
   "source": [
    "#### **Bài 1. Tìm giá trị lớn nhất, nhỏ nhất của 5 số** - MaxMin5.*  "
   ]
  },
  {
   "cell_type": "markdown",
   "id": "c6298d56-d14e-4896-8580-fac1c1a07510",
   "metadata": {},
   "source": [
    "Nhập vào giá trị a, b, c, d, e. Hãy tìm giá trị lớn nhất và nhỏ nhất của 5 số a, b, c, d, e."
   ]
  },
  {
   "cell_type": "code",
   "execution_count": 2,
   "id": "af54325d-a98b-4b1a-80ce-1d90a888aae1",
   "metadata": {},
   "outputs": [
    {
     "name": "stdin",
     "output_type": "stream",
     "text": [
      "Nhap so a:  1\n",
      "Nhap so b:  5\n",
      "Nhap so c:  6\n",
      "Nhap so d:  2\n",
      "Nhap so e:  8\n"
     ]
    },
    {
     "name": "stdout",
     "output_type": "stream",
     "text": [
      "Gia tri nho nhat la: 1\n",
      "Gia tri lon nhat la: 8\n"
     ]
    }
   ],
   "source": [
    "a = int(input(\"Nhap so a: \"))\n",
    "b = int(input(\"Nhap so b: \"))\n",
    "c = int(input(\"Nhap so c: \"))\n",
    "d = int(input(\"Nhap so d: \"))\n",
    "e = int(input(\"Nhap so e: \"))\n",
    "\n",
    "lon_nhat = max(a, b, c, d, e)\n",
    "nho_nhat = min(a, b, c, d, e)\n",
    "\n",
    "print(\"Gia tri nho nhat la:\", nho_nhat)\n",
    "print(\"Gia tri lon nhat la:\", lon_nhat)"
   ]
  },
  {
   "cell_type": "markdown",
   "id": "355bac2e-4d81-493e-b231-09d8a70bbffb",
   "metadata": {
    "jp-MarkdownHeadingCollapsed": true
   },
   "source": [
    "#### **Bài 2. Giải phương trình bậc 2** - SolvQuadEq.*  "
   ]
  },
  {
   "cell_type": "markdown",
   "id": "773c0eb2-1a8a-4f1c-89e4-21160159f356",
   "metadata": {},
   "source": [
    "Nhập 3 số thực a, b, c. Hãy tìm nghiệm của phương trình bậc 2: 𝑎𝑥2+𝑏𝑥+𝑐=0  "
   ]
  },
  {
   "cell_type": "code",
   "execution_count": 3,
   "id": "502c1b27-93ab-4040-ad4a-3ff7452bfca2",
   "metadata": {},
   "outputs": [
    {
     "name": "stdout",
     "output_type": "stream",
     "text": [
      "Writing SolvQuadEq.py\n"
     ]
    }
   ],
   "source": [
    "%%writefile SolvQuadEq.py\n",
    "import math\n",
    "\n",
    "# Nhập hệ số a, b, c\n",
    "a = float(input())\n",
    "b = float(input())\n",
    "c = float(input())\n",
    "\n",
    "if a == 0 and b == 0 and c == 0:\n",
    "    print(\"Unlimited solutions\")\n",
    "elif a == 0 and b == 0:\n",
    "    print(\"No solution\")\n",
    "elif a == 0:\n",
    "    # Phương trình bậc 1: bx + c = 0\n",
    "    x = -c / b\n",
    "    print(f\"x1={x:.2f}\")\n",
    "else:\n",
    "    # Phương trình bậc 2\n",
    "    delta = b**2 - 4*a*c\n",
    "    if delta < 0:\n",
    "        print(\"No solution\")\n",
    "    elif delta == 0:\n",
    "        x = -b / (2*a)\n",
    "        print(f\"x1={x:.2f}\")\n",
    "    else:\n",
    "        x1 = (-b - math.sqrt(delta)) / (2*a)\n",
    "        x2 = (-b + math.sqrt(delta)) / (2*a)\n",
    "        print(f\"x1={x1:.2f}, x2={x2:.2f}\")"
   ]
  },
  {
   "cell_type": "code",
   "execution_count": 4,
   "id": "c446442f-4a11-4753-9b27-cb63a4f49a5f",
   "metadata": {},
   "outputs": [
    {
     "name": "stdout",
     "output_type": "stream",
     "text": [
      "Writing SolvQuadEq.in0\n"
     ]
    }
   ],
   "source": [
    "%%writefile SolvQuadEq.in0\n",
    "0\n",
    "0\n",
    "0"
   ]
  },
  {
   "cell_type": "code",
   "execution_count": 5,
   "id": "89e7b276-6ecf-42ae-8ebd-bad000727b10",
   "metadata": {},
   "outputs": [
    {
     "name": "stdout",
     "output_type": "stream",
     "text": [
      "Writing SolvQuadEq.in1\n"
     ]
    }
   ],
   "source": [
    "%%writefile SolvQuadEq.in1\n",
    "1\n",
    "-5\n",
    "6"
   ]
  },
  {
   "cell_type": "code",
   "execution_count": 6,
   "id": "e4345003-411e-4d12-babd-17ac19b19e67",
   "metadata": {},
   "outputs": [
    {
     "name": "stdout",
     "output_type": "stream",
     "text": [
      "Writing SolvQuadEq.in2\n"
     ]
    }
   ],
   "source": [
    "%%writefile SolvQuadEq.in2\n",
    "1\n",
    "-2\n",
    "1"
   ]
  },
  {
   "cell_type": "code",
   "execution_count": 7,
   "id": "62a82fae-b3af-44ec-9c12-96ca8f3a59b0",
   "metadata": {},
   "outputs": [
    {
     "name": "stdout",
     "output_type": "stream",
     "text": [
      "Writing SolvQuadEq.in3\n"
     ]
    }
   ],
   "source": [
    "%%writefile SolvQuadEq.in3\n",
    "1\n",
    "9\n",
    "1"
   ]
  },
  {
   "cell_type": "code",
   "execution_count": 8,
   "id": "0d110277-2196-47c8-9675-d5c78bc63cc5",
   "metadata": {},
   "outputs": [
    {
     "name": "stdout",
     "output_type": "stream",
     "text": [
      "Unlimited solutions\n",
      "x1=2.00, x2=3.00\n",
      "x1=1.00\n",
      "x1=-8.89, x2=-0.11\n"
     ]
    }
   ],
   "source": [
    "!python SolvQuadEq.py < SolvQuadEq.in0\n",
    "!python SolvQuadEq.py < SolvQuadEq.in1\n",
    "!python SolvQuadEq.py < SolvQuadEq.in2\n",
    "!python SolvQuadEq.py < SolvQuadEq.in3"
   ]
  },
  {
   "cell_type": "markdown",
   "id": "042dbcf5-3239-459c-b3d0-6791579661e6",
   "metadata": {
    "jp-MarkdownHeadingCollapsed": true
   },
   "source": [
    "#### **Bài 3. Tìm số ngày của tháng (dùng rẽ nhánh)** - TotalDayMonth.*"
   ]
  },
  {
   "cell_type": "markdown",
   "id": "45fbd1e7-a62b-41bb-b5ac-b0e3d24b98c3",
   "metadata": {},
   "source": [
    " Nhập vào tháng, năm. Hãy cho biết tháng trong năm vừa nhập có bao nhiêu ngày. "
   ]
  },
  {
   "cell_type": "code",
   "execution_count": 9,
   "id": "986a9246-a955-4632-b7fc-deccdbf1b7d9",
   "metadata": {},
   "outputs": [
    {
     "name": "stdin",
     "output_type": "stream",
     "text": [
      "Nhap thang:  1\n",
      "Nhap nam:  2015\n"
     ]
    },
    {
     "name": "stdout",
     "output_type": "stream",
     "text": [
      "Thang 1 nam 2015 co 31 ngay\n"
     ]
    }
   ],
   "source": [
    "thang = int(input(\"Nhap thang: \"))\n",
    "nam = int(input(\"Nhap nam: \"))\n",
    "\n",
    "# Kiểm tra số ngày\n",
    "if thang in (1, 3, 5, 7, 8, 10, 12):\n",
    "    ngay = 31\n",
    "elif thang in (4, 6, 9, 11):\n",
    "    ngay = 30\n",
    "elif thang == 2:\n",
    "    # Kiểm tra năm nhuận\n",
    "    if (nam % 400 == 0) or (nam % 4 == 0 and nam % 100 != 0):\n",
    "        ngay = 29\n",
    "    else:\n",
    "        ngay = 28\n",
    "else:\n",
    "    ngay = -1   # Trường hợp nhập tháng sai\n",
    "\n",
    "if ngay == -1:\n",
    "    print(\"Thang khong hop le\")\n",
    "else:\n",
    "    print(\"Thang\", thang, \"nam\", nam, \"co\", ngay, \"ngay\")"
   ]
  },
  {
   "cell_type": "markdown",
   "id": "fdd02e73-8489-49b8-8096-d9d54fb4049f",
   "metadata": {
    "jp-MarkdownHeadingCollapsed": true
   },
   "source": [
    "#### **Bài 4. Chữ số lớn nhất** - MaxDigit.*"
   ]
  },
  {
   "cell_type": "markdown",
   "id": "9add11b8-9f0d-4a42-81f6-41f8e0ce5058",
   "metadata": {},
   "source": [
    "Cho số tự nhiên n có 4 chữ số. Hãy tìm chữ số lớn nhất của n. "
   ]
  },
  {
   "cell_type": "code",
   "execution_count": 10,
   "id": "28b1b4f4-5675-49a9-bb9c-873b1e48cb81",
   "metadata": {},
   "outputs": [
    {
     "name": "stdin",
     "output_type": "stream",
     "text": [
      "Nhap so tu nhien co 4 chu so:  2387\n"
     ]
    },
    {
     "name": "stdout",
     "output_type": "stream",
     "text": [
      "Chu so lon nhat cua 2387 la: 8\n"
     ]
    }
   ],
   "source": [
    "n = int(input(\"Nhap so tu nhien co 4 chu so: \"))\n",
    "\n",
    "a = n // 1000            # Chữ số hàng nghìn\n",
    "b = (n // 100) % 10      # Chữ số hàng trăm\n",
    "c = (n // 10) % 10       # Chữ số hàng chục\n",
    "d = n % 10               # Chữ số hàng đơn vị\n",
    "\n",
    "max_digit = max(a, b, c, d)\n",
    "\n",
    "print(\"Chu so lon nhat cua\", n, \"la:\", max_digit)"
   ]
  },
  {
   "cell_type": "markdown",
   "id": "467e60f6-4934-4925-9aaa-eecab015c806",
   "metadata": {
    "jp-MarkdownHeadingCollapsed": true
   },
   "source": [
    "#### **Bài 5. Điểm trung bình** - GPA.*"
   ]
  },
  {
   "cell_type": "markdown",
   "id": "dff98709-78fc-4050-9967-809c0e10821f",
   "metadata": {},
   "source": [
    "Viết phương trình nhập vào 3 điểm: Toán, Lý, Hóa. Tính điểm trung bình và phân loại học sinh."
   ]
  },
  {
   "cell_type": "code",
   "execution_count": 11,
   "id": "c1217983-6e80-4cf1-aa10-942b3d595981",
   "metadata": {},
   "outputs": [
    {
     "name": "stdin",
     "output_type": "stream",
     "text": [
      "Nhap diem Toan:  7\n",
      "Nhap diem Ly:  6\n",
      "Nhap diem Hoa:  8\n"
     ]
    },
    {
     "name": "stdout",
     "output_type": "stream",
     "text": [
      "Average point = 6.67 , rating Pretty.\n"
     ]
    }
   ],
   "source": [
    "toan = float(input(\"Nhap diem Toan: \"))\n",
    "ly = float(input(\"Nhap diem Ly: \"))\n",
    "hoa = float(input(\"Nhap diem Hoa: \"))\n",
    "\n",
    "dtb = (toan * 2 + ly * 3 + hoa) / 6\n",
    "\n",
    "# Xếp loại\n",
    "if 8 <= dtb <= 10:\n",
    "    xep_loai = \"Good\"\n",
    "elif 6.5 <= dtb < 8:\n",
    "    xep_loai = \"Pretty\"\n",
    "elif 5 <= dtb < 6.5:\n",
    "    xep_loai = \"Average\"\n",
    "else:\n",
    "    xep_loai = \"Weak\"\n",
    "\n",
    "print(\"Average point =\", round(dtb, 2), \", rating\", xep_loai + \".\")"
   ]
  },
  {
   "cell_type": "markdown",
   "id": "fffeb063-7be4-4223-a563-2d08d31a88cd",
   "metadata": {
    "jp-MarkdownHeadingCollapsed": true
   },
   "source": [
    "#### **Bài 6. Tính tiền nước tiêu thụ trong hộ gia đình** - WaterPayment.*"
   ]
  },
  {
   "cell_type": "markdown",
   "id": "c248212b-9bf1-4e35-958d-22fd9c084d1d",
   "metadata": {},
   "source": [
    "Chỉ số nước mới và số người tiêu thụ (đã đăng ký). Biết bảng giá định mức sử dụng nước của từng người trên tháng.\n",
    "\n",
    "Tổng số tiền mà hộ phải trả cho bên bán nước là số tiền tính được theo số m3 tiêu thụ trên tổng số người đăng ký trong hộ công với tiền thuế giá trị gia tăng là 5% và phí bảo vệ môi trường 10%. Hãy tính số tiền nước tiêu thụ của một hộ gia đình."
   ]
  },
  {
   "cell_type": "code",
   "execution_count": 12,
   "id": "4921aea5-acd7-48de-a7cf-49daf75ab570",
   "metadata": {},
   "outputs": [
    {
     "name": "stdin",
     "output_type": "stream",
     "text": [
      "Nhap so nguoi:  1\n",
      "Nhap so m3 tieu thu:  3\n"
     ]
    },
    {
     "name": "stdout",
     "output_type": "stream",
     "text": [
      "Payment for 3 m^3 in month is 15179 đ.\n"
     ]
    }
   ],
   "source": [
    "n = int(input(\"Nhap so nguoi: \"))\n",
    "m3 = int(input(\"Nhap so m3 tieu thu: \"))\n",
    "\n",
    "dinh_muc1 = 4 * n\n",
    "dinh_muc2 = 2 * n\n",
    "\n",
    "tien = 0\n",
    "\n",
    "# 4m3 đầu tiên\n",
    "tien += min(m3, dinh_muc1) * 4400\n",
    "\n",
    "# 2m3 tiếp theo\n",
    "if m3 > dinh_muc1:\n",
    "    tien += min(m3 - dinh_muc1, dinh_muc2) * 8300\n",
    "\n",
    "# Những m3 tiếp theo\n",
    "if m3 > dinh_muc1 + dinh_muc2:\n",
    "    tien += (m3 - dinh_muc1 - dinh_muc2) * 10500\n",
    "\n",
    "# Thuế VAT 5% + phí môi trường 10%\n",
    "tong_tien = tien * 1.15\n",
    "\n",
    "print(\"Payment for\", m3, \"m^3 in month is\", int(tong_tien), \"đ.\")"
   ]
  },
  {
   "cell_type": "markdown",
   "id": "244f4a00-707a-4e76-b4d2-572ea699d56f",
   "metadata": {
    "jp-MarkdownHeadingCollapsed": true
   },
   "source": [
    "#### **Bài 7. Ngày sau** - NextDay.*"
   ]
  },
  {
   "cell_type": "markdown",
   "id": "728077df-6284-4c25-9c25-7de91ca08fdf",
   "metadata": {},
   "source": [
    "Nhập vào ngày, tháng, năm. Hỏi ngày sau đó là ngày nào?"
   ]
  },
  {
   "cell_type": "code",
   "execution_count": 1,
   "id": "796579eb-6440-41ed-a08c-d796cffa568d",
   "metadata": {},
   "outputs": [
    {
     "name": "stdin",
     "output_type": "stream",
     "text": [
      "Nhập ngày:  31\n",
      "Nhập tháng:  1\n",
      "Nhập năm:  2025\n"
     ]
    },
    {
     "name": "stdout",
     "output_type": "stream",
     "text": [
      "Ngày hôm sau là: 1/2/2025\n"
     ]
    }
   ],
   "source": [
    "def nam_nhuan(nam):\n",
    "    return (nam % 400 == 0) or (nam % 4 == 0 and nam % 100 != 0)\n",
    "\n",
    "def ngay_trong_thang(thang, nam):\n",
    "    if thang in [1, 3, 5, 7, 8, 10, 12]:\n",
    "        return 31\n",
    "    elif thang in [4, 6, 9, 11]:\n",
    "        return 30\n",
    "    elif thang == 2:\n",
    "        return 29 if nam_nhuan(nam) else 28\n",
    "\n",
    "ngay = int(input(\"Nhập ngày: \"))\n",
    "thang = int(input(\"Nhập tháng: \"))\n",
    "nam = int(input(\"Nhập năm: \"))\n",
    "\n",
    "so_ngay = ngay_trong_thang(thang, nam)\n",
    "\n",
    "if ngay < so_ngay:\n",
    "    ngay += 1\n",
    "else:\n",
    "    ngay = 1\n",
    "    if thang < 12:\n",
    "        thang += 1\n",
    "    else:\n",
    "        thang = 1\n",
    "        nam += 1\n",
    "\n",
    "print(\"Ngày hôm sau là: {}/{}/{}\".format(ngay, thang, nam))"
   ]
  },
  {
   "cell_type": "markdown",
   "id": "60a1e491-1bac-4abb-b50d-9e36225a8966",
   "metadata": {
    "jp-MarkdownHeadingCollapsed": true
   },
   "source": [
    "#### **Bài 8. Tính chất số (1)**- NumberInfo.*"
   ]
  },
  {
   "cell_type": "markdown",
   "id": "2ef2906c-7b59-43f9-9a5f-044da506098a",
   "metadata": {},
   "source": [
    "Cho số tự nhiên n nhỏ hơn 1000. Hỏi (a) số tự nhiên n có bao nhiêu chữ số? (b) Tính tổng các chữ số của n? (c) Tìm chữ số cuối của n? (d) Tìm chữ số đầu của n? "
   ]
  },
  {
   "cell_type": "code",
   "execution_count": 2,
   "id": "48cbab34-f7ac-4b1f-a1d5-4cd36c888774",
   "metadata": {},
   "outputs": [
    {
     "name": "stdin",
     "output_type": "stream",
     "text": [
      "Nhập số tự nhiên n (<1000):  156\n"
     ]
    },
    {
     "name": "stdout",
     "output_type": "stream",
     "text": [
      "a) Số chữ số của 156 là: 3\n",
      "b) Tổng các chữ số = 12\n",
      "c) Chữ số cuối cùng = 6\n",
      "d) Chữ số đầu tiên = 1\n"
     ]
    }
   ],
   "source": [
    "n = int(input(\"Nhập số tự nhiên n (<1000): \"))\n",
    "\n",
    "# (a) Số chữ số\n",
    "if n < 10:\n",
    "    so_chu_so = 1\n",
    "elif n < 100:\n",
    "    so_chu_so = 2\n",
    "else:\n",
    "    so_chu_so = 3\n",
    "\n",
    "# (b) Tổng các chữ số\n",
    "tong = 0\n",
    "m = n\n",
    "while m > 0:\n",
    "    tong += m % 10\n",
    "    m //= 10\n",
    "\n",
    "# (c) Chữ số cuối\n",
    "chu_so_cuoi = n % 10\n",
    "\n",
    "# (d) Chữ số đầu\n",
    "if n < 10:\n",
    "    chu_so_dau = n\n",
    "elif n < 100:\n",
    "    chu_so_dau = n // 10\n",
    "else:\n",
    "    chu_so_dau = n // 100\n",
    "\n",
    "print(\"a) Số chữ số của\", n, \"là:\", so_chu_so)\n",
    "print(\"b) Tổng các chữ số =\", tong)\n",
    "print(\"c) Chữ số cuối cùng =\", chu_so_cuoi)\n",
    "print(\"d) Chữ số đầu tiên =\", chu_so_dau)"
   ]
  },
  {
   "cell_type": "markdown",
   "id": "13a81811-5a6f-4a79-9340-5979c3cc4a2f",
   "metadata": {},
   "source": [
    "### **CẤU TRÚC LẶP VÀ LIST**"
   ]
  },
  {
   "cell_type": "markdown",
   "id": "09021dc7-4679-4687-a83c-43b07120f3c1",
   "metadata": {
    "jp-MarkdownHeadingCollapsed": true
   },
   "source": [
    "#### **Câu 1**"
   ]
  },
  {
   "cell_type": "code",
   "execution_count": 5,
   "id": "5ebfdf6c-d650-44d5-b6ae-2f7e3366ff2e",
   "metadata": {},
   "outputs": [
    {
     "name": "stdout",
     "output_type": "stream",
     "text": [
      "Sắp xếp theo string compare: ['1', '123', '27', '3', '5', '9']\n",
      "Sắp xếp theo integer compare: ['1', '3', '5', '9', '27', '123']\n"
     ]
    }
   ],
   "source": [
    "A = ['3', '27', '5', '123', '9', '1']\n",
    "\n",
    "string_sorted = sorted(A)\n",
    "integer_sorted = sorted(A, key=int)\n",
    "\n",
    "print(\"Sắp xếp theo string compare:\", string_sorted)\n",
    "print(\"Sắp xếp theo integer compare:\", integer_sorted)"
   ]
  },
  {
   "cell_type": "markdown",
   "id": "7ee886ef-a4bf-4428-8c04-2cc4f6b20edc",
   "metadata": {
    "jp-MarkdownHeadingCollapsed": true
   },
   "source": [
    "#### **Câu 2**"
   ]
  },
  {
   "cell_type": "code",
   "execution_count": 6,
   "id": "cd2c9b97-07d7-49fc-b7b2-596effda78d5",
   "metadata": {},
   "outputs": [
    {
     "name": "stdout",
     "output_type": "stream",
     "text": [
      "Danh sách sau khi xóa: [12, 88, 120]\n"
     ]
    }
   ],
   "source": [
    "A = [12, 24, 35, 70, 88, 120, 155]\n",
    "\n",
    "# Các vị trí cần xóa \n",
    "remove_index = [1, 2, 3, 6]\n",
    "\n",
    "result = [value for index, value in enumerate(A) if index not in remove_index]\n",
    "\n",
    "print(\"Danh sách sau khi xóa:\", result)"
   ]
  },
  {
   "cell_type": "markdown",
   "id": "98c3cc4c-02cb-4052-b605-615ac89cbd44",
   "metadata": {},
   "source": [
    "#### **Câu 3**"
   ]
  },
  {
   "cell_type": "code",
   "execution_count": 7,
   "id": "1324f948-35e2-42d0-9ae5-a363dc44bd5d",
   "metadata": {},
   "outputs": [
    {
     "name": "stdout",
     "output_type": "stream",
     "text": [
      "Input A = [1, 2, 3, 1, 2, 5, 6, 7, 8]\n",
      "Output B = [1, 2, 3, 5, 6, 7, 8]\n"
     ]
    }
   ],
   "source": [
    "A = [1, 2, 3, 1, 2, 5, 6, 7, 8]\n",
    "\n",
    "B = []\n",
    "for x in A:\n",
    "    if x not in B:   # kiểm tra các số chưa có trong B\n",
    "        B.append(x)\n",
    "\n",
    "print(\"Input A =\", A)\n",
    "print(\"Output B =\", B)"
   ]
  },
  {
   "cell_type": "markdown",
   "id": "d1b93675-3c82-4684-8d42-b2726f42716f",
   "metadata": {},
   "source": [
    "#### **Câu 4**"
   ]
  },
  {
   "cell_type": "code",
   "execution_count": null,
   "id": "800ad491-065d-4e8e-8f5e-899ac557b8ad",
   "metadata": {},
   "outputs": [],
   "source": []
  }
 ],
 "metadata": {
  "kernelspec": {
   "display_name": "Python 3 (ipykernel)",
   "language": "python",
   "name": "python3"
  },
  "language_info": {
   "codemirror_mode": {
    "name": "ipython",
    "version": 3
   },
   "file_extension": ".py",
   "mimetype": "text/x-python",
   "name": "python",
   "nbconvert_exporter": "python",
   "pygments_lexer": "ipython3",
   "version": "3.12.1"
  }
 },
 "nbformat": 4,
 "nbformat_minor": 5
}
