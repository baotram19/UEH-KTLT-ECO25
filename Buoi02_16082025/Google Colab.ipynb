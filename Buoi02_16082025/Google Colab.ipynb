{
  "nbformat": 4,
  "nbformat_minor": 0,
  "metadata": {
    "colab": {
      "provenance": []
    },
    "kernelspec": {
      "name": "python3",
      "display_name": "Python 3"
    },
    "language_info": {
      "name": "python"
    }
  },
  "cells": [
    {
      "cell_type": "markdown",
      "source": [
        "# Python 101"
      ],
      "metadata": {
        "id": "p3KRO1NYw80g"
      }
    },
    {
      "cell_type": "markdown",
      "source": [
        "## Ngôn ngữ Python"
      ],
      "metadata": {
        "id": "2YVnzekuxE1U"
      }
    },
    {
      "cell_type": "code",
      "execution_count": null,
      "metadata": {
        "colab": {
          "base_uri": "https://localhost:8080/"
        },
        "id": "RukHeR8EoQPr",
        "outputId": "774245ea-9171-42fe-925d-a0306ff7f010"
      },
      "outputs": [
        {
          "output_type": "stream",
          "name": "stdout",
          "text": [
            "Hello, World!\n"
          ]
        }
      ],
      "source": [
        "print (\"Hello, World!\")"
      ]
    },
    {
      "cell_type": "code",
      "source": [
        "pv = 100\n",
        "r = 0.1\n",
        "n = 7\n",
        "fv = pv * ((1 + (r)) **n )\n",
        "print(round(fv, 2))"
      ],
      "metadata": {
        "colab": {
          "base_uri": "https://localhost:8080/"
        },
        "id": "N3faRSQ3A0cn",
        "outputId": "c0dce286-ffab-47c1-8ee0-43bcd8d65b05"
      },
      "execution_count": null,
      "outputs": [
        {
          "output_type": "stream",
          "name": "stdout",
          "text": [
            "194.87\n"
          ]
        }
      ]
    },
    {
      "cell_type": "code",
      "source": [
        "amount = 100\n",
        "interest = 10 #10% = 0.01 * 10\n",
        "years = 7\n",
        "\n",
        "future_value = amount * ((1 + (0.01 * interest)) ** years)\n",
        "print(round(future_value, 2))"
      ],
      "metadata": {
        "colab": {
          "base_uri": "https://localhost:8080/"
        },
        "id": "OgYro4pjVmhP",
        "outputId": "b5c09273-57a1-448a-b937-6200693faf02"
      },
      "execution_count": null,
      "outputs": [
        {
          "output_type": "stream",
          "name": "stdout",
          "text": [
            "194.87\n"
          ]
        }
      ]
    },
    {
      "cell_type": "code",
      "source": [
        "# Python if else\n",
        "score = 80\n",
        "if score >=60 :\n",
        "  print(\"Pass\")\n",
        "else:\n",
        "  print(\"Fail\")"
      ],
      "metadata": {
        "colab": {
          "base_uri": "https://localhost:8080/"
        },
        "id": "7JxsVM__ZaMn",
        "outputId": "75e172e5-298f-410c-e98b-a7195bb9e51a"
      },
      "execution_count": null,
      "outputs": [
        {
          "output_type": "stream",
          "name": "stdout",
          "text": [
            "Pass\n"
          ]
        }
      ]
    },
    {
      "cell_type": "code",
      "source": [
        "print (\"Hello, World\")\n",
        "display (\"Hello, World\")"
      ],
      "metadata": {
        "colab": {
          "base_uri": "https://localhost:8080/",
          "height": 54
        },
        "id": "BM_W9Z06BHMh",
        "outputId": "a6ac8849-2f4d-4c0d-81f8-577b01f15582"
      },
      "execution_count": null,
      "outputs": [
        {
          "output_type": "stream",
          "name": "stdout",
          "text": [
            "Hello, World\n"
          ]
        },
        {
          "output_type": "display_data",
          "data": {
            "text/plain": [
              "'Hello, World'"
            ],
            "application/vnd.google.colaboratory.intrinsic+json": {
              "type": "string"
            }
          },
          "metadata": {}
        }
      ]
    },
    {
      "cell_type": "code",
      "source": [
        "'''\n",
        "Ghi chú\n",
        "'''\n",
        "print(\"comment\")"
      ],
      "metadata": {
        "colab": {
          "base_uri": "https://localhost:8080/"
        },
        "id": "xg_rmuZ4BSQO",
        "outputId": "7429087e-4ae2-4f58-a2c1-361f3be1d2e5"
      },
      "execution_count": null,
      "outputs": [
        {
          "output_type": "stream",
          "name": "stdout",
          "text": [
            "comment\n"
          ]
        }
      ]
    },
    {
      "cell_type": "code",
      "source": [
        "score = 80\n",
        "if score >=60 :\n",
        "  print(\"Pass\")"
      ],
      "metadata": {
        "colab": {
          "base_uri": "https://localhost:8080/"
        },
        "id": "Ae7UP1jgoVW1",
        "outputId": "fc01e7ef-6d2c-4e7e-c649-b4004893402d"
      },
      "execution_count": null,
      "outputs": [
        {
          "output_type": "stream",
          "name": "stdout",
          "text": [
            "Pass\n"
          ]
        }
      ]
    },
    {
      "cell_type": "code",
      "source": [
        "# Python Variables\n",
        "x = 2\n",
        "price = 2.5\n",
        "word = 'Hello'\n",
        "\n",
        "word = 'Hello'\n",
        "word = \"Hello\"\n",
        "word = '''Hello'''\n",
        "print(x, price, word)\n",
        "print(f'x = {x, type (x)}, price = {price, type (price)}, word ={word, type(word)}')"
      ],
      "metadata": {
        "colab": {
          "base_uri": "https://localhost:8080/"
        },
        "id": "ruEwlqjdoftn",
        "outputId": "630074d7-ba8d-4ab4-8ecd-919254e1bff9"
      },
      "execution_count": null,
      "outputs": [
        {
          "output_type": "stream",
          "name": "stdout",
          "text": [
            "2 2.5 Hello\n",
            "x = (2, <class 'int'>), price = (2.5, <class 'float'>), word =('Hello', <class 'str'>)\n"
          ]
        }
      ]
    },
    {
      "cell_type": "code",
      "source": [
        "x = 2\n",
        "y = x + 1\n",
        "print (x, y)"
      ],
      "metadata": {
        "colab": {
          "base_uri": "https://localhost:8080/"
        },
        "id": "RjRyoW0Kp1IG",
        "outputId": "4f5f6b49-14d3-4690-c1ba-3a43e75b56e6"
      },
      "execution_count": null,
      "outputs": [
        {
          "output_type": "stream",
          "name": "stdout",
          "text": [
            "2 3\n"
          ]
        }
      ]
    },
    {
      "cell_type": "code",
      "source": [
        " # comment\n",
        " from platform import python_version\n",
        " print(\"Python Version:\", python_version())"
      ],
      "metadata": {
        "colab": {
          "base_uri": "https://localhost:8080/"
        },
        "id": "jC6MSz5TqGYM",
        "outputId": "f1f72d4a-e04a-4fe9-d599-e934fba87c43"
      },
      "execution_count": null,
      "outputs": [
        {
          "output_type": "stream",
          "name": "stdout",
          "text": [
            "Python Version: 3.11.13\n"
          ]
        }
      ]
    },
    {
      "cell_type": "code",
      "source": [
        "help (python_version)"
      ],
      "metadata": {
        "colab": {
          "base_uri": "https://localhost:8080/"
        },
        "id": "l0lCFMA8qT1q",
        "outputId": "fd6ab135-740a-489a-d277-4695657e59a1"
      },
      "execution_count": null,
      "outputs": [
        {
          "output_type": "stream",
          "name": "stdout",
          "text": [
            "Help on function python_version in module platform:\n",
            "\n",
            "python_version()\n",
            "    Returns the Python version as string 'major.minor.patchlevel'\n",
            "    \n",
            "    Note that unlike the Python sys.version, the returned value\n",
            "    will always include the patchlevel (it defaults to 0).\n",
            "\n"
          ]
        }
      ]
    },
    {
      "cell_type": "code",
      "source": [
        "x = \"Hello World\" #str\n",
        "print(x, type (x))\n",
        "\n",
        "x = 2             #int\n",
        "print(x, type (x))\n",
        "\n",
        "x = 2.5           #float\n",
        "print(x, type (x))\n",
        "\n",
        "x = 7j            #complex\n",
        "print(x, type (x))"
      ],
      "metadata": {
        "colab": {
          "base_uri": "https://localhost:8080/"
        },
        "id": "0ynNaDKTqdKu",
        "outputId": "9316bce9-86e7-415c-f159-43ec514364ca"
      },
      "execution_count": null,
      "outputs": [
        {
          "output_type": "stream",
          "name": "stdout",
          "text": [
            "Hello World <class 'str'>\n",
            "2 <class 'int'>\n",
            "2.5 <class 'float'>\n",
            "7j <class 'complex'>\n"
          ]
        }
      ]
    },
    {
      "cell_type": "code",
      "source": [
        "x = [\"apple\", \"banana\", \"cherry\"] #list\n",
        "x.append('hello')\n",
        "print(x, type(x), x[1:3])\n",
        "\n",
        "x = (\"apple\", \"banana\", \"cherry\") #immutable\n",
        "# x.append('hello')\n",
        "x = (\"apple\", \"banana\", \"cherry\", \"hello\")\n",
        "print(x, type(x), x[1:3])\n",
        "\n",
        "x = {\"name\" : \"Tom\", \"age\" : 20} #dictionary\n",
        "print(x, type(x), x['name'], x['age'])\n",
        "\n",
        "x = {\"apple\", \"banana\", \"cherry\"} #set\n",
        "x.add('hello')\n",
        "print(x, type(x))\n",
        "\n",
        "x = frozenset({\"apple\", \"banana\", \"cherry\"}) #frozenset\n",
        "print(x, type(x))"
      ],
      "metadata": {
        "colab": {
          "base_uri": "https://localhost:8080/"
        },
        "id": "_rPIJpVLq1Dx",
        "outputId": "086d7d08-5ecc-42d7-ed89-51d99defda95"
      },
      "execution_count": null,
      "outputs": [
        {
          "output_type": "stream",
          "name": "stdout",
          "text": [
            "['apple', 'banana', 'cherry', 'hello'] <class 'list'> ['banana', 'cherry']\n",
            "('apple', 'banana', 'cherry', 'hello') <class 'tuple'> ('banana', 'cherry')\n",
            "{'name': 'Tom', 'age': 20} <class 'dict'> Tom 20\n",
            "{'hello', 'cherry', 'banana', 'apple'} <class 'set'>\n",
            "frozenset({'cherry', 'banana', 'apple'}) <class 'frozenset'>\n"
          ]
        }
      ]
    },
    {
      "cell_type": "code",
      "source": [
        "x = True #bool\n",
        "print(x, type(x))\n",
        "\n",
        "x = b\"Hello\" #bytes\n",
        "print(x, type(x))\n",
        "\n",
        "x = bytearray(5) #bytearray\n",
        "print(x, type(x))\n",
        "\n",
        "x = memoryview(bytes(5)) #memoryview\n",
        "print(x, type(x), hex(id(x)))\n",
        "\n",
        "x = None #NoneType\n",
        "print(x, type(x))"
      ],
      "metadata": {
        "colab": {
          "base_uri": "https://localhost:8080/"
        },
        "id": "4Q5x7Ot7rje4",
        "outputId": "a42a044b-863f-44bc-b0f8-7ee8e63dc271"
      },
      "execution_count": null,
      "outputs": [
        {
          "output_type": "stream",
          "name": "stdout",
          "text": [
            "True <class 'bool'>\n",
            "b'Hello' <class 'bytes'>\n",
            "bytearray(b'\\x00\\x00\\x00\\x00\\x00') <class 'bytearray'>\n",
            "<memory at 0x7b9f2b75b940> <class 'memoryview'> 0x7b9f2b75b940\n",
            "None <class 'NoneType'>\n"
          ]
        }
      ]
    },
    {
      "cell_type": "code",
      "source": [
        "# casting\n",
        "x = str(3)\n",
        "y = int(4.3)\n",
        "z = float(3)\n",
        "\n",
        "print(x, type(x))\n",
        "print(y, type(y))\n",
        "print(z, type(z))"
      ],
      "metadata": {
        "colab": {
          "base_uri": "https://localhost:8080/"
        },
        "id": "66gO8V-ytM_5",
        "outputId": "5674b44f-f8f2-4e8e-85d8-bcb5693fcfe8"
      },
      "execution_count": null,
      "outputs": [
        {
          "output_type": "stream",
          "name": "stdout",
          "text": [
            "3 <class 'str'>\n",
            "4 <class 'int'>\n",
            "3.0 <class 'float'>\n"
          ]
        }
      ]
    },
    {
      "cell_type": "code",
      "source": [
        "# number\n",
        "x = 2 # int\n",
        "print(x, type(x))\n",
        "\n",
        "y = 3.4 # float\n",
        "print(y, type(y))\n",
        "\n",
        "z = 7j + 3.5 #complex\n",
        "print(z, type(z))"
      ],
      "metadata": {
        "colab": {
          "base_uri": "https://localhost:8080/"
        },
        "id": "dBanOr1Gt7cD",
        "outputId": "3bbc5781-63e1-4aa0-de7e-d99a23b0b253"
      },
      "execution_count": null,
      "outputs": [
        {
          "output_type": "stream",
          "name": "stdout",
          "text": [
            "2 <class 'int'>\n",
            "3.4 <class 'float'>\n",
            "(3.5+7j) <class 'complex'>\n"
          ]
        }
      ]
    },
    {
      "cell_type": "code",
      "source": [
        "# Operator\n",
        "print(7 + 2)\n",
        "print(7 - 2)\n",
        "print(7 * 2)\n",
        "print(7 / 2)\n",
        "print(7 // 2)\n",
        "print(7 % 2)\n",
        "print(7 ** 2)"
      ],
      "metadata": {
        "colab": {
          "base_uri": "https://localhost:8080/"
        },
        "id": "I5aCiy4fuH8g",
        "outputId": "f9fb909f-2e38-4a14-b88c-980c7fcf1abe"
      },
      "execution_count": null,
      "outputs": [
        {
          "output_type": "stream",
          "name": "stdout",
          "text": [
            "9\n",
            "5\n",
            "14\n",
            "3.5\n",
            "3\n",
            "1\n",
            "49\n"
          ]
        }
      ]
    },
    {
      "cell_type": "code",
      "source": [
        "# Python Booleans: True or False\n",
        "print(3 > 2)\n",
        "print(3 == 2)\n",
        "print(3 < 2)\n",
        "print(3 != 2)"
      ],
      "metadata": {
        "colab": {
          "base_uri": "https://localhost:8080/"
        },
        "id": "sNVDsiISukSv",
        "outputId": "167b1abb-458f-42a1-c329-cd6a208eef9a"
      },
      "execution_count": null,
      "outputs": [
        {
          "output_type": "stream",
          "name": "stdout",
          "text": [
            "True\n",
            "False\n",
            "False\n",
            "True\n"
          ]
        }
      ]
    },
    {
      "cell_type": "code",
      "source": [
        "# BMI Calculator in Python\n",
        "# input\n",
        "height_cm= 170\n",
        "weight_kg= 60\n",
        "\n",
        "# process\n",
        "height_m= height_cm/100\n",
        "BMI = (weight_kg/(height_m**2))\n",
        "print(\"Your BMI is: \" + str(round(BMI,2)))"
      ],
      "metadata": {
        "colab": {
          "base_uri": "https://localhost:8080/"
        },
        "id": "xou8Yo_eus7S",
        "outputId": "9893ae87-8ad5-44ee-8110-0c0419fbcb50"
      },
      "execution_count": null,
      "outputs": [
        {
          "output_type": "stream",
          "name": "stdout",
          "text": [
            "Your BMI is: 20.76\n"
          ]
        }
      ]
    },
    {
      "cell_type": "code",
      "source": [
        " # How much is your $100 worth after 7 years?\n",
        " # 100$ sau 7 nam\n",
        "fv = 100 * (1 + 0.1) ** 7\n",
        "print('fv = ', round(fv, 2))"
      ],
      "metadata": {
        "colab": {
          "base_uri": "https://localhost:8080/"
        },
        "id": "GvI-M2REvSDW",
        "outputId": "902d713e-86c1-43d0-d46b-41b46f838ccf"
      },
      "execution_count": null,
      "outputs": [
        {
          "output_type": "stream",
          "name": "stdout",
          "text": [
            "fv =  194.87\n"
          ]
        }
      ]
    },
    {
      "cell_type": "code",
      "source": [
        "# Future Value\n",
        "# input\n",
        "pv= 100\n",
        "r = 0.1\n",
        "n = 7\n",
        "\n",
        "# process\n",
        "fv= pv * ((1 + r) ** n)\n",
        "print('fv = ', round(fv, 2))"
      ],
      "metadata": {
        "colab": {
          "base_uri": "https://localhost:8080/"
        },
        "id": "poSa-ERNvuWf",
        "outputId": "5087457f-f8af-4ec9-b971-51d00b681a36"
      },
      "execution_count": null,
      "outputs": [
        {
          "output_type": "stream",
          "name": "stdout",
          "text": [
            "fv =  194.87\n"
          ]
        }
      ]
    },
    {
      "cell_type": "code",
      "source": [
        "# Future Value\n",
        "amount = 100\n",
        "interest = 10 #10% = 0.01 * 10\n",
        "years = 7\n",
        "\n",
        "#process\n",
        "future_value = amount * ((1 + interest/ 100.0) ** years)\n",
        "print(round(future_value, 2))"
      ],
      "metadata": {
        "colab": {
          "base_uri": "https://localhost:8080/"
        },
        "id": "CiJl7-a3wHTJ",
        "outputId": "7aad7122-a731-4d67-a4bb-b610080f66eb"
      },
      "execution_count": null,
      "outputs": [
        {
          "output_type": "stream",
          "name": "stdout",
          "text": [
            "194.87\n"
          ]
        }
      ]
    },
    {
      "cell_type": "code",
      "source": [
        "x = [\"apple\", \"banana\", \"cherry\"] #list\n",
        "x = (\"apple\", \"banana\", \"cherry\") #tuple\n",
        "x = {\"name\" : \"Tom\", \"age\" : 20} #dict\n",
        "x = {\"apple\", \"banana\", \"cherry\"} #set"
      ],
      "metadata": {
        "id": "XhlDHdjIweW-"
      },
      "execution_count": null,
      "outputs": []
    },
    {
      "cell_type": "markdown",
      "source": [
        "## Cấu trúc dữ liệu"
      ],
      "metadata": {
        "id": "MSTGrG56xNdf"
      }
    },
    {
      "cell_type": "code",
      "source": [
        "x = [\"apple\", \"banana\", \"cherry\"] #list\n",
        "print(x, type(x))\n",
        "\n",
        "x = (\"apple\", \"banana\", \"cherry\") #tuple\n",
        "print(x, type(x))\n",
        "\n",
        "x = {\"name\" : \"Tom\", \"age\" : 20} #dictionary\n",
        "print(x, type(x))\n",
        "\n",
        "x = {\"apple\", \"banana\", \"cherry\"} #set\n",
        "print(x, type(x))\n",
        "\n",
        "x = frozenset({\"apple\", \"banana\", \"cherry\"}) #frozenset\n",
        "print(x, type(x))"
      ],
      "metadata": {
        "colab": {
          "base_uri": "https://localhost:8080/"
        },
        "id": "G7PPNP4XxYu7",
        "outputId": "b9dce13f-1d31-4cdb-a658-3ae467157328"
      },
      "execution_count": null,
      "outputs": [
        {
          "output_type": "stream",
          "name": "stdout",
          "text": [
            "['apple', 'banana', 'cherry'] <class 'list'>\n",
            "('apple', 'banana', 'cherry') <class 'tuple'>\n",
            "{'name': 'Tom', 'age': 20} <class 'dict'>\n",
            "{'cherry', 'banana', 'apple'} <class 'set'>\n",
            "frozenset({'cherry', 'banana', 'apple'}) <class 'frozenset'>\n"
          ]
        }
      ]
    },
    {
      "cell_type": "code",
      "source": [
        "# List\n",
        "x = [60, 70, 80, 90]\n",
        "print(len(x))\n",
        "print(x[0])\n",
        "print(x[1])\n",
        "print(x[-1])"
      ],
      "metadata": {
        "colab": {
          "base_uri": "https://localhost:8080/"
        },
        "id": "58hBMBHqyBd5",
        "outputId": "ae2818b0-5e2b-4941-c043-e0b280ff7411"
      },
      "execution_count": null,
      "outputs": [
        {
          "output_type": "stream",
          "name": "stdout",
          "text": [
            "4\n",
            "60\n",
            "70\n",
            "90\n"
          ]
        }
      ]
    },
    {
      "cell_type": "code",
      "source": [
        "# Tuples\n",
        "x = (10, 20, 30, 40, 50)\n",
        "print(x[0])\n",
        "print(x[1])\n",
        "print(x[2])\n",
        "print(x[-1])"
      ],
      "metadata": {
        "colab": {
          "base_uri": "https://localhost:8080/"
        },
        "id": "Mg2YYRLryOIR",
        "outputId": "d0398656-f45b-463d-ad35-03df07309e98"
      },
      "execution_count": null,
      "outputs": [
        {
          "output_type": "stream",
          "name": "stdout",
          "text": [
            "10\n",
            "20\n",
            "30\n",
            "50\n"
          ]
        }
      ]
    },
    {
      "cell_type": "code",
      "source": [
        "animals = {'cat', 'dog'}\n",
        "print('cat' in animals)\n",
        "print('fish' in animals)\n",
        "animals.add('fish')\n",
        "print('fish'in animals)\n",
        "print(len(animals))\n",
        "animals.add('cat')\n",
        "print(len(animals))\n",
        "animals.remove('cat')\n",
        "print(len(animals))"
      ],
      "metadata": {
        "colab": {
          "base_uri": "https://localhost:8080/"
        },
        "id": "cZKEoxkhyrMT",
        "outputId": "af699390-9d90-44f4-f8b5-8c0d08005f2a"
      },
      "execution_count": null,
      "outputs": [
        {
          "output_type": "stream",
          "name": "stdout",
          "text": [
            "True\n",
            "False\n",
            "True\n",
            "3\n",
            "3\n",
            "2\n"
          ]
        }
      ]
    },
    {
      "cell_type": "code",
      "source": [
        "k = { 'EN':'English', 'FR':'French'}\n",
        "print(k['EN'])"
      ],
      "metadata": {
        "colab": {
          "base_uri": "https://localhost:8080/"
        },
        "id": "ZgFJbyirzrSC",
        "outputId": "83a33739-d849-4eee-d6a6-a21df1d4445a"
      },
      "execution_count": null,
      "outputs": [
        {
          "output_type": "stream",
          "name": "stdout",
          "text": [
            "English\n"
          ]
        }
      ]
    },
    {
      "cell_type": "code",
      "source": [
        "# Data types\n",
        "fruits = [\"apple\", \"banana\", \"cherry\"] #lists []\n",
        "colors = (\"red\", \"green\", \"blue\") #tuples ()\n",
        "animals = {'cat', 'dog'} #sets {}\n",
        "person = {\"name\" : \"Tom\", \"age\" : 20} #dictionaries {k:v}"
      ],
      "metadata": {
        "id": "YqCyEfgKz3yi"
      },
      "execution_count": null,
      "outputs": []
    },
    {
      "cell_type": "code",
      "source": [
        "# Lists\n",
        "expenses = [72.50, 80.75, 50.00, 90.25]\n",
        "total_expenses = sum(expenses)\n",
        "print(\"Total expenses:\", total_expenses)"
      ],
      "metadata": {
        "colab": {
          "base_uri": "https://localhost:8080/"
        },
        "id": "yBvwURfY0XGt",
        "outputId": "c5d2837a-3c3a-4635-c578-731939ceb908"
      },
      "execution_count": null,
      "outputs": [
        {
          "output_type": "stream",
          "name": "stdout",
          "text": [
            "Total expenses: 293.5\n"
          ]
        }
      ]
    },
    {
      "cell_type": "code",
      "source": [
        "# Tuples\n",
        "accounts = ((\"Cash\", 1001), (\"Accounts Receivable\", 1002), (\"Inventory\", 1003))\n",
        "for account in accounts:\n",
        "  print(\"Account name:\", account[0], \"Account number:\", account[1])"
      ],
      "metadata": {
        "colab": {
          "base_uri": "https://localhost:8080/"
        },
        "id": "lrbzpcaL0qbR",
        "outputId": "1ece057c-6d96-4e7d-fae5-00a96459b229"
      },
      "execution_count": null,
      "outputs": [
        {
          "output_type": "stream",
          "name": "stdout",
          "text": [
            "Account name: Cash Account number: 1001\n",
            "Account name: Accounts Receivable Account number: 1002\n",
            "Account name: Inventory Account number: 1003\n"
          ]
        }
      ]
    },
    {
      "cell_type": "code",
      "source": [
        " # Sets\n",
        "account_numbers = set([acc[1] for acc in accounts]) # set comprehensive\n",
        "print(account_numbers)\n",
        "new_account_number = 1004\n",
        "if new_account_number not in account_numbers:\n",
        "  print(f'Account number {new_account_number} is not in use')"
      ],
      "metadata": {
        "colab": {
          "base_uri": "https://localhost:8080/"
        },
        "id": "xtqlLw-H0q6X",
        "outputId": "13fc88d2-c1b9-4158-8063-a15baf448013"
      },
      "execution_count": null,
      "outputs": [
        {
          "output_type": "stream",
          "name": "stdout",
          "text": [
            "{1001, 1002, 1003}\n",
            "Account number 1004 is not in use\n"
          ]
        }
      ]
    },
    {
      "cell_type": "code",
      "source": [
        "# dictionary\n",
        "accounts = {\n",
        "    \"1001\": {\"name\": \"Cash\", \"balance\": 500.00, \"type\": \"Asset\"},\n",
        "    \"1002\": {\"name\": \"Accounts Receivable\", \"balance\": 1000.00, \"type\": \"Asset\"},\n",
        "    \"2001\": {\"name\": \"Accounts Payable\", \"balance\": 750.00, \"type\": \"Liability\"}\n",
        "    }\n",
        "\n",
        "for acc_num, acc_info in accounts.items():\n",
        "  print('-'*50)\n",
        "  print(\"Account number:\", acc_num)\n",
        "\n",
        "  print(\"Account name:\", acc_info[\"name\"])\n",
        "  print(\"Account balance:\", acc_info[\"balance\"])\n",
        "  print(\"Account type:\", acc_info[\"type\"])"
      ],
      "metadata": {
        "colab": {
          "base_uri": "https://localhost:8080/"
        },
        "id": "X7rKkJtK2iqG",
        "outputId": "1f4e09c2-c778-44d6-e74b-2c1a6b14397e"
      },
      "execution_count": null,
      "outputs": [
        {
          "output_type": "stream",
          "name": "stdout",
          "text": [
            "--------------------------------------------------\n",
            "Account number: 1001\n",
            "Account name: Cash\n",
            "Account balance: 500.0\n",
            "Account type: Asset\n",
            "--------------------------------------------------\n",
            "Account number: 1002\n",
            "Account name: Accounts Receivable\n",
            "Account balance: 1000.0\n",
            "Account type: Asset\n",
            "--------------------------------------------------\n",
            "Account number: 2001\n",
            "Account name: Accounts Payable\n",
            "Account balance: 750.0\n",
            "Account type: Liability\n"
          ]
        }
      ]
    },
    {
      "cell_type": "markdown",
      "source": [
        "## Control Logic and Loops"
      ],
      "metadata": {
        "id": "8bNWN_Ik4LyE"
      }
    },
    {
      "cell_type": "code",
      "source": [
        "# if\n",
        "score = 80\n",
        "if score >=60:\n",
        " print(\"Pass\")"
      ],
      "metadata": {
        "colab": {
          "base_uri": "https://localhost:8080/"
        },
        "id": "eeN-HJiq4RHd",
        "outputId": "68d8d8c2-9dc0-4548-8057-1069fde66c58"
      },
      "execution_count": null,
      "outputs": [
        {
          "output_type": "stream",
          "name": "stdout",
          "text": [
            "Pass\n"
          ]
        }
      ]
    },
    {
      "cell_type": "code",
      "source": [
        "# if else\n",
        "score = 80\n",
        "if score >=60:\n",
        " print(\"Pass\")\n",
        "else: # score < 60\n",
        " print(\"Fail\")"
      ],
      "metadata": {
        "colab": {
          "base_uri": "https://localhost:8080/"
        },
        "id": "viGN8W3z4yiS",
        "outputId": "9f4656d5-68f2-45e7-dfe3-2125d90a4ab0"
      },
      "execution_count": null,
      "outputs": [
        {
          "output_type": "stream",
          "name": "stdout",
          "text": [
            "Pass\n"
          ]
        }
      ]
    },
    {
      "cell_type": "code",
      "source": [
        "score = 95\n",
        "if score >= 90:\n",
        " print(\"A\")\n",
        "elif score >=60: #score < 90 and score >=60\n",
        " print(\"Pass\")\n",
        "else:\n",
        " print(\"Fail\")"
      ],
      "metadata": {
        "colab": {
          "base_uri": "https://localhost:8080/"
        },
        "id": "zDx0x0NG5F9T",
        "outputId": "3fdebf65-6f22-4e4b-fd91-54a41d9f06a9"
      },
      "execution_count": null,
      "outputs": [
        {
          "output_type": "stream",
          "name": "stdout",
          "text": [
            "A\n"
          ]
        }
      ]
    },
    {
      "cell_type": "code",
      "source": [
        "score = 90\n",
        "grade = \"\"\n",
        "if score >=90: #[>90]\n",
        "  grade = \"A\"\n",
        "elif score >= 80: # score < 90 and score >=80 [80,90]\n",
        "  grade = \"B\"\n",
        "elif score >= 70: # [70, 80]\n",
        "  grade = \"C\"\n",
        "elif score >= 60: # [60, 70]\n",
        "  grade = \"D\"\n",
        "else: #score < 60\n",
        "  grade = \"E\"\n",
        "print(grade)"
      ],
      "metadata": {
        "colab": {
          "base_uri": "https://localhost:8080/"
        },
        "id": "rV4i10OK5VvB",
        "outputId": "7f5e75fd-489f-4932-943a-388c718fa6e7"
      },
      "execution_count": null,
      "outputs": [
        {
          "output_type": "stream",
          "name": "stdout",
          "text": [
            "A\n"
          ]
        }
      ]
    },
    {
      "cell_type": "code",
      "source": [
        "# loop\n",
        "for i in range(1, 6): # 1<=i<6\n",
        " print(i, end = ' ')"
      ],
      "metadata": {
        "colab": {
          "base_uri": "https://localhost:8080/"
        },
        "id": "lzT8RG6E6HI6",
        "outputId": "23cbc957-278c-4d4c-ed62-62ac543dcd9b"
      },
      "execution_count": null,
      "outputs": [
        {
          "output_type": "stream",
          "name": "stdout",
          "text": [
            "1 2 3 4 5 "
          ]
        }
      ]
    },
    {
      "cell_type": "code",
      "source": [
        "# for loops\n",
        "for i in range(1,10): # i: 1->9\n",
        "  for j in range(1,10): # j: 1->9\n",
        "    print(f'{i} * {j} = {i*j}')\n",
        "  print(' '*50)"
      ],
      "metadata": {
        "colab": {
          "base_uri": "https://localhost:8080/"
        },
        "id": "nrntElPn6VOc",
        "outputId": "5dd86323-6cd2-49d0-9b20-80d58ae60726"
      },
      "execution_count": null,
      "outputs": [
        {
          "output_type": "stream",
          "name": "stdout",
          "text": [
            "1 * 1 = 1\n",
            "1 * 2 = 2\n",
            "1 * 3 = 3\n",
            "1 * 4 = 4\n",
            "1 * 5 = 5\n",
            "1 * 6 = 6\n",
            "1 * 7 = 7\n",
            "1 * 8 = 8\n",
            "1 * 9 = 9\n",
            "                                                  \n",
            "2 * 1 = 2\n",
            "2 * 2 = 4\n",
            "2 * 3 = 6\n",
            "2 * 4 = 8\n",
            "2 * 5 = 10\n",
            "2 * 6 = 12\n",
            "2 * 7 = 14\n",
            "2 * 8 = 16\n",
            "2 * 9 = 18\n",
            "                                                  \n",
            "3 * 1 = 3\n",
            "3 * 2 = 6\n",
            "3 * 3 = 9\n",
            "3 * 4 = 12\n",
            "3 * 5 = 15\n",
            "3 * 6 = 18\n",
            "3 * 7 = 21\n",
            "3 * 8 = 24\n",
            "3 * 9 = 27\n",
            "                                                  \n",
            "4 * 1 = 4\n",
            "4 * 2 = 8\n",
            "4 * 3 = 12\n",
            "4 * 4 = 16\n",
            "4 * 5 = 20\n",
            "4 * 6 = 24\n",
            "4 * 7 = 28\n",
            "4 * 8 = 32\n",
            "4 * 9 = 36\n",
            "                                                  \n",
            "5 * 1 = 5\n",
            "5 * 2 = 10\n",
            "5 * 3 = 15\n",
            "5 * 4 = 20\n",
            "5 * 5 = 25\n",
            "5 * 6 = 30\n",
            "5 * 7 = 35\n",
            "5 * 8 = 40\n",
            "5 * 9 = 45\n",
            "                                                  \n",
            "6 * 1 = 6\n",
            "6 * 2 = 12\n",
            "6 * 3 = 18\n",
            "6 * 4 = 24\n",
            "6 * 5 = 30\n",
            "6 * 6 = 36\n",
            "6 * 7 = 42\n",
            "6 * 8 = 48\n",
            "6 * 9 = 54\n",
            "                                                  \n",
            "7 * 1 = 7\n",
            "7 * 2 = 14\n",
            "7 * 3 = 21\n",
            "7 * 4 = 28\n",
            "7 * 5 = 35\n",
            "7 * 6 = 42\n",
            "7 * 7 = 49\n",
            "7 * 8 = 56\n",
            "7 * 9 = 63\n",
            "                                                  \n",
            "8 * 1 = 8\n",
            "8 * 2 = 16\n",
            "8 * 3 = 24\n",
            "8 * 4 = 32\n",
            "8 * 5 = 40\n",
            "8 * 6 = 48\n",
            "8 * 7 = 56\n",
            "8 * 8 = 64\n",
            "8 * 9 = 72\n",
            "                                                  \n",
            "9 * 1 = 9\n",
            "9 * 2 = 18\n",
            "9 * 3 = 27\n",
            "9 * 4 = 36\n",
            "9 * 5 = 45\n",
            "9 * 6 = 54\n",
            "9 * 7 = 63\n",
            "9 * 8 = 72\n",
            "9 * 9 = 81\n",
            "                                                  \n"
          ]
        }
      ]
    },
    {
      "cell_type": "code",
      "source": [
        " # while loops\n",
        " age = 10\n",
        " while age < 20:\n",
        "  print(age)\n",
        "  age = age + 1"
      ],
      "metadata": {
        "colab": {
          "base_uri": "https://localhost:8080/"
        },
        "id": "4rsQdarzCmH7",
        "outputId": "a648edd3-cf4f-4687-e275-d624d9c73766"
      },
      "execution_count": null,
      "outputs": [
        {
          "output_type": "stream",
          "name": "stdout",
          "text": [
            "10\n",
            "11\n",
            "12\n",
            "13\n",
            "14\n",
            "15\n",
            "16\n",
            "17\n",
            "18\n",
            "19\n"
          ]
        }
      ]
    },
    {
      "cell_type": "markdown",
      "source": [
        "## Module & Function"
      ],
      "metadata": {
        "id": "hyfXoI8hC8dp"
      }
    },
    {
      "cell_type": "code",
      "source": [
        "# function\n",
        "def getfv(pv, r, n):\n",
        "  fv = pv * ((1+ (r)) ** n)\n",
        "  return fv\n",
        "fv= getfv(100, 0.1, 7)\n",
        "print('Future value = ', round(fv, 2))"
      ],
      "metadata": {
        "colab": {
          "base_uri": "https://localhost:8080/"
        },
        "id": "ISRThD4GC35I",
        "outputId": "34b1616d-ad09-4cbd-bca4-f8986d3b6498"
      },
      "execution_count": null,
      "outputs": [
        {
          "output_type": "stream",
          "name": "stdout",
          "text": [
            "Future value =  194.87\n"
          ]
        }
      ]
    },
    {
      "cell_type": "code",
      "source": [
        "# class: properties (variables) + methods (functions)\n",
        "class MyClass:\n",
        "  x = 5\n",
        "\n",
        "c1 = MyClass()\n",
        "print(c1.x)"
      ],
      "metadata": {
        "colab": {
          "base_uri": "https://localhost:8080/"
        },
        "id": "pXWU32oEDjWY",
        "outputId": "bfef0f09-416a-4159-bf01-099de36486ab"
      },
      "execution_count": null,
      "outputs": [
        {
          "output_type": "stream",
          "name": "stdout",
          "text": [
            "5\n"
          ]
        }
      ]
    },
    {
      "cell_type": "code",
      "source": [
        "# class\n",
        "class Person:\n",
        "  def __init__(self, name, age): #constructor (hàm tạo đối tượng)\n",
        "    self.name = name\n",
        "    self.age = age\n",
        "\n",
        "p1 = Person(\"Alan\", 20)\n",
        "print(p1.name, p1.age)"
      ],
      "metadata": {
        "colab": {
          "base_uri": "https://localhost:8080/"
        },
        "id": "JGadns4_D9z-",
        "outputId": "95343bf8-e463-43ad-e872-42725fa97be1"
      },
      "execution_count": null,
      "outputs": [
        {
          "output_type": "stream",
          "name": "stdout",
          "text": [
            "Alan 20\n"
          ]
        }
      ]
    },
    {
      "cell_type": "code",
      "source": [
        "class Person:\n",
        "    def __init__(self, name, age):\n",
        "        self.name = name\n",
        "        self.age = age\n",
        "\n",
        "    def myfunc(self):\n",
        "        print(\"Hello my name is \" + self.name)\n",
        "\n",
        "# Tạo đối tượng\n",
        "p1 = Person(\"Alan\", 20)\n",
        "print(p1.name, p1.age)\n",
        "p1.myfunc()"
      ],
      "metadata": {
        "colab": {
          "base_uri": "https://localhost:8080/"
        },
        "id": "NK3-PnHQgXxU",
        "outputId": "f537d937-8d6e-4e5a-cbe4-c159eb78a4d9"
      },
      "execution_count": null,
      "outputs": [
        {
          "output_type": "stream",
          "name": "stdout",
          "text": [
            "Alan 20\n",
            "Hello my name is Alan\n"
          ]
        }
      ]
    },
    {
      "cell_type": "code",
      "source": [
        "# Vehicle\n",
        "class Vehicle:\n",
        "    name = \"\"\n",
        "    kind = \"car\"\n",
        "    color = \"\"\n",
        "    value = 100.0\n",
        "\n",
        "    def __init__(self, name=\"\", kind=\"\", color=\"\", value=100.0):\n",
        "      self.name = name\n",
        "      self.kind = kind\n",
        "      self.color = color\n",
        "      self.value = value\n",
        "      pass\n",
        "\n",
        "    def description(self):\n",
        "        desc_str = f'{self.name} is a {self.color} {self.kind} worth ${self.value:.2f}.'\n",
        "        return desc_str\n",
        "        pass\n",
        "\n",
        "car1 = Vehicle()\n",
        "car1.name = \"Fer\"\n",
        "car1.color = \"red\"\n",
        "car1.kind = \"convertible\"\n",
        "car1.value = 60000.00\n",
        "\n",
        "car2 = Vehicle(\"Jump\", \"blue\", \"van\", 10000.0)\n",
        "\n",
        "print(car1.description())\n",
        "print(car2.description())"
      ],
      "metadata": {
        "colab": {
          "base_uri": "https://localhost:8080/"
        },
        "id": "iNXLGRFcFA8Q",
        "outputId": "1308db86-53bd-436b-9c38-99bc8fe1333b"
      },
      "execution_count": null,
      "outputs": [
        {
          "output_type": "stream",
          "name": "stdout",
          "text": [
            "Fer is a red convertible worth $60000.00.\n",
            "Jump is a van blue worth $10000.00.\n"
          ]
        }
      ]
    },
    {
      "cell_type": "code",
      "source": [
        "%%writefile mymodule.py\n",
        "def greeting(name):\n",
        "    print(\"Hello\", name)\n",
        "\n",
        "def greeting_vn(name):\n",
        "    print(\"Xin Chao\", name)"
      ],
      "metadata": {
        "colab": {
          "base_uri": "https://localhost:8080/"
        },
        "id": "au3Vrni4Gq4b",
        "outputId": "c91a1da5-f4c5-499b-d2d2-8eca23a5b746"
      },
      "execution_count": null,
      "outputs": [
        {
          "output_type": "stream",
          "name": "stdout",
          "text": [
            "Overwriting mymodule.py\n"
          ]
        }
      ]
    },
    {
      "cell_type": "code",
      "source": [
        "!cat mymodule.py"
      ],
      "metadata": {
        "colab": {
          "base_uri": "https://localhost:8080/"
        },
        "id": "CqWD78WhHFzx",
        "outputId": "26d1ffd4-fd32-46f6-92da-d44343df076f"
      },
      "execution_count": null,
      "outputs": [
        {
          "output_type": "stream",
          "name": "stdout",
          "text": [
            "def greeting(name):\n",
            "  print(\"Xin Chao \", name)\n"
          ]
        }
      ]
    },
    {
      "cell_type": "code",
      "source": [
        "def greeting(name):\n",
        "    print(\"Hello\", name)\n",
        "\n",
        "def greeting_vn(name):\n",
        "    print(\"Xin Chao\", name)"
      ],
      "metadata": {
        "id": "cud9gedukVFx"
      },
      "execution_count": null,
      "outputs": []
    },
    {
      "cell_type": "code",
      "source": [
        "import importlib\n",
        "import mymodule as m1\n",
        "\n",
        "importlib.reload(m1)\n",
        "\n",
        "m1.greeting('Alan')\n",
        "m1.greeting_vn('Alan')"
      ],
      "metadata": {
        "colab": {
          "base_uri": "https://localhost:8080/"
        },
        "id": "Bv9vpTXeHLxl",
        "outputId": "974cf7c4-23e7-434b-e5aa-67051d1b72b5"
      },
      "execution_count": null,
      "outputs": [
        {
          "output_type": "stream",
          "name": "stdout",
          "text": [
            "Hello Alan\n",
            "Xin Chao Alan\n"
          ]
        }
      ]
    },
    {
      "cell_type": "markdown",
      "source": [
        "## Read/Write File"
      ],
      "metadata": {
        "id": "onmDNZX6H_QY"
      }
    },
    {
      "cell_type": "code",
      "source": [
        "with open('myfile.txt', 'w') as file:\n",
        "  file.write('Hello World\\nThis is Python File Input Output')\n",
        "\n",
        "!cat a.txt"
      ],
      "metadata": {
        "colab": {
          "base_uri": "https://localhost:8080/"
        },
        "id": "iMtodBHRIEJu",
        "outputId": "24a28872-8413-4327-f385-6547e39e4bbe"
      },
      "execution_count": null,
      "outputs": [
        {
          "output_type": "stream",
          "name": "stdout",
          "text": [
            "cat: a.txt: No such file or directory\n"
          ]
        }
      ]
    },
    {
      "cell_type": "code",
      "source": [
        "with open('myfile.txt', 'r') as file:\n",
        "  text = file.read()\n",
        "  print(text)"
      ],
      "metadata": {
        "colab": {
          "base_uri": "https://localhost:8080/"
        },
        "id": "R81uLV1cIR9H",
        "outputId": "122a9c11-1002-4643-8925-e75f89b505d5"
      },
      "execution_count": null,
      "outputs": [
        {
          "output_type": "stream",
          "name": "stdout",
          "text": [
            "Hello World\n",
            "This is Python File Input Output\n"
          ]
        }
      ]
    },
    {
      "cell_type": "code",
      "source": [
        "%%writefile demo.py\n",
        "def main()\n",
        "  print('Hello, Wordl!')\n",
        "\n",
        "print(__name__)\n",
        "\n",
        "if __name__ == \"__main__\":\n",
        "  main()"
      ],
      "metadata": {
        "colab": {
          "base_uri": "https://localhost:8080/"
        },
        "id": "H1ZM8foZItNH",
        "outputId": "c0e61f68-7cdb-4324-d94c-703927260e3b"
      },
      "execution_count": null,
      "outputs": [
        {
          "output_type": "stream",
          "name": "stdout",
          "text": [
            "Writing demo.py\n"
          ]
        }
      ]
    },
    {
      "cell_type": "markdown",
      "source": [
        "## Try, Except & File Handling"
      ],
      "metadata": {
        "id": "IzGL6I6_JYcq"
      }
    },
    {
      "cell_type": "code",
      "source": [
        "try:\n",
        "  f = open ('aa.txt')\n",
        "  f.close()\n",
        "except:\n",
        "  print ('File Error')\n",
        "  pass\n",
        "finally:\n",
        "  print('Final')"
      ],
      "metadata": {
        "colab": {
          "base_uri": "https://localhost:8080/"
        },
        "id": "TYPMh2umJgQ2",
        "outputId": "27058c9d-edde-4087-d2ad-8013fdb6f50f"
      },
      "execution_count": null,
      "outputs": [
        {
          "output_type": "stream",
          "name": "stdout",
          "text": [
            "File Error\n",
            "Final\n"
          ]
        }
      ]
    },
    {
      "cell_type": "code",
      "source": [
        "# !ls list files\n",
        "!ls"
      ],
      "metadata": {
        "colab": {
          "base_uri": "https://localhost:8080/"
        },
        "id": "ob9VVTpNKCcd",
        "outputId": "04c6b0bc-5676-401e-c719-487fe76c56f9"
      },
      "execution_count": null,
      "outputs": [
        {
          "output_type": "stream",
          "name": "stdout",
          "text": [
            "demo.py  myfile.txt  mymodule.py  __pycache__  sample_data\n"
          ]
        }
      ]
    },
    {
      "cell_type": "code",
      "source": [
        "import os\n",
        "\n",
        "cwd = os.getcwd() # lấy thư mục hiện tại đang dùng\n",
        "print(os.listdir(os.getcwd()))"
      ],
      "metadata": {
        "colab": {
          "base_uri": "https://localhost:8080/"
        },
        "id": "HFwFLH3yKKZ2",
        "outputId": "e19f9254-741f-40b8-e936-3fe7a3c1f0b7"
      },
      "execution_count": null,
      "outputs": [
        {
          "output_type": "stream",
          "name": "stdout",
          "text": [
            "['.config', 'demo.py', '__pycache__', 'myfile.txt', 'mymodule.py', 'sample_data']\n"
          ]
        }
      ]
    },
    {
      "cell_type": "code",
      "source": [
        " path = os.path.join(cwd, 'sample_data')\n",
        " print(path)\n",
        " os.listdir(path)"
      ],
      "metadata": {
        "colab": {
          "base_uri": "https://localhost:8080/"
        },
        "id": "cbNRIcyFKaBC",
        "outputId": "4fb5c13a-89d0-4f66-f474-01cbb902220b"
      },
      "execution_count": null,
      "outputs": [
        {
          "output_type": "stream",
          "name": "stdout",
          "text": [
            "/content/sample_data\n"
          ]
        },
        {
          "output_type": "execute_result",
          "data": {
            "text/plain": [
              "['anscombe.json',\n",
              " 'README.md',\n",
              " 'mnist_train_small.csv',\n",
              " 'mnist_test.csv',\n",
              " 'california_housing_test.csv',\n",
              " 'california_housing_train.csv']"
            ]
          },
          "metadata": {},
          "execution_count": 119
        }
      ]
    },
    {
      "cell_type": "code",
      "source": [
        "import glob"
      ],
      "metadata": {
        "id": "8aPH34DkK4aX"
      },
      "execution_count": null,
      "outputs": []
    },
    {
      "cell_type": "code",
      "source": [
        "glob.glob('/content/sample_data/*.csv')"
      ],
      "metadata": {
        "colab": {
          "base_uri": "https://localhost:8080/"
        },
        "id": "thT-QqlxK-ap",
        "outputId": "e5e905dc-f6ea-4842-cf48-040cf3874cb9"
      },
      "execution_count": null,
      "outputs": [
        {
          "output_type": "execute_result",
          "data": {
            "text/plain": [
              "['/content/sample_data/mnist_train_small.csv',\n",
              " '/content/sample_data/mnist_test.csv',\n",
              " '/content/sample_data/california_housing_test.csv',\n",
              " '/content/sample_data/california_housing_train.csv']"
            ]
          },
          "metadata": {},
          "execution_count": 121
        }
      ]
    },
    {
      "cell_type": "markdown",
      "source": [
        "## Kết thúc"
      ],
      "metadata": {
        "id": "BiaesxI9xRv_"
      }
    }
  ]
}