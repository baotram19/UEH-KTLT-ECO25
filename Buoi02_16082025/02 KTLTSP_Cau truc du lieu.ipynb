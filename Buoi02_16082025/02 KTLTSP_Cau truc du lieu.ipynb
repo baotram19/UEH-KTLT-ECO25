{
 "cells": [
  {
   "cell_type": "markdown",
   "id": "5b052b65-609f-4e9f-a887-f5d4d3fc9f87",
   "metadata": {},
   "source": [
    "# **CẤU TRÚC DỮ LIỆU TRONG PYTHON**"
   ]
  },
  {
   "cell_type": "markdown",
   "id": "72c8a66c-7f14-4c98-9763-3ee84c399664",
   "metadata": {},
   "source": [
    "## **Mảng 1 chiều**"
   ]
  },
  {
   "cell_type": "markdown",
   "id": "3473f693-7211-4344-923a-c9a3bc76cfab",
   "metadata": {
    "jp-MarkdownHeadingCollapsed": true
   },
   "source": [
    "#### 1. Motivation #1: Coin Change "
   ]
  },
  {
   "cell_type": "code",
   "execution_count": 5,
   "id": "73b57cb4-a813-43f4-8d8a-167c2a856a03",
   "metadata": {},
   "outputs": [
    {
     "name": "stdin",
     "output_type": "stream",
     "text": [
      "Nhập số tiền (xu):  19\n"
     ]
    },
    {
     "name": "stdout",
     "output_type": "stream",
     "text": [
      "Số xu tối thiểu: 6\n"
     ]
    }
   ],
   "source": [
    "amt = int(input(\"Nhập số tiền (xu): \"))\n",
    "\n",
    "coins = 0\n",
    "coins += amt // 100; amt %= 100\n",
    "coins += amt // 50; amt %= 50\n",
    "coins += amt // 20; amt %= 20\n",
    "coins += amt // 10; amt %= 10\n",
    "coins += amt // 5;  amt %= 5\n",
    "coins += amt // 1;  amt %= 1\n",
    "\n",
    "print(\"Số xu tối thiểu:\", coins)"
   ]
  },
  {
   "cell_type": "code",
   "execution_count": 6,
   "id": "c3308953-85e7-4871-a024-565335fd0aed",
   "metadata": {},
   "outputs": [
    {
     "name": "stdout",
     "output_type": "stream",
     "text": [
      "Minimum coins needed: 10\n"
     ]
    }
   ],
   "source": [
    "def minimumCoins(amt):\n",
    "    \"\"\"\n",
    "    input: amt (in cents)\n",
    "    output: coins\n",
    "    \"\"\"\n",
    "    coins = 0\n",
    "    coins += amt // 100\n",
    "    amt %= 100\n",
    "\n",
    "    coins += amt // 50\n",
    "    amt %= 50\n",
    "\n",
    "    coins += amt // 20\n",
    "    amt %= 20\n",
    "\n",
    "    coins += amt // 10\n",
    "    amt %= 10\n",
    "\n",
    "    coins += amt // 5\n",
    "    amt %= 5\n",
    "\n",
    "    coins += amt // 1   # retained for regularity\n",
    "    amt %= 1            # retained for regularity\n",
    "\n",
    "    return coins\n",
    "\n",
    "amount = 289  \n",
    "print(\"Minimum coins needed:\", minimumCoins(amount))"
   ]
  },
  {
   "cell_type": "markdown",
   "id": "219d4fa5-fff4-4afe-a1ad-67a08b4a6c9d",
   "metadata": {
    "jp-MarkdownHeadingCollapsed": true
   },
   "source": [
    "#### 2. Motivation #2"
   ]
  },
  {
   "cell_type": "code",
   "execution_count": 9,
   "id": "6041af75-a66a-49f7-9394-7a13418d7d48",
   "metadata": {},
   "outputs": [
    {
     "name": "stdout",
     "output_type": "stream",
     "text": [
      "Enter votes: \n",
      "1 1 1 1 1 1 3 3 3 2 \n",
      "2 2 2 1 1 1 1 2 2 3 \n",
      "2 3 2 1 1 1 2 2 3 1 \n",
      "1 3 1 1 1 3 1 1 3 3 \n",
      "1 1 1 2 2 3 1 3 1 1 \n",
      "1 3 1 2 3 2 1 2 2 1 \n",
      "1 1 3 2 1 1 2 1 3 2 \n",
      "2 3 1 2 1 2 2 3 3 1 \n",
      "1 2 3 1 1 1 1 1 1 1 \n",
      "1 3 1 2 3 1 2 3 2 3 \n",
      "\n",
      "Tom: 49; Dick: 27; Harry: 24\n",
      "\n"
     ]
    }
   ],
   "source": [
    "import random\n",
    "\n",
    "NUM_VOTES = 100  # number of votes\n",
    "tom = 0; dick = 0; harry = 0\n",
    "print(\"Enter votes: \")\n",
    "\n",
    "for i in range(NUM_VOTES):\n",
    "    vote = random.randint(1, 3)  # vote = int(input())\n",
    "    print(f'{vote}', end=\" \")\n",
    "\n",
    "    if i % 10 == 9:\n",
    "        print()\n",
    "\n",
    "    match vote:\n",
    "        case 1:\n",
    "            tom += 1\n",
    "        case 2:\n",
    "            dick += 1\n",
    "        case 3:\n",
    "            harry += 1\n",
    "        case _:\n",
    "            pass\n",
    "\n",
    "print(f\"\\nTom: {tom}; Dick: {dick}; Harry: {harry}\\n\")"
   ]
  },
  {
   "cell_type": "code",
   "execution_count": 10,
   "id": "efc4dac6-bf50-4c46-8c9f-d47b02132e71",
   "metadata": {},
   "outputs": [
    {
     "name": "stdout",
     "output_type": "stream",
     "text": [
      "Enter votes:\n",
      "23 4 1 29 20 24 18 28 29 11 \n",
      "1 8 10 12 1 25 27 29 25 1 \n",
      "18 13 6 19 29 14 6 29 29 12 \n",
      "29 13 30 4 4 28 4 19 14 9 \n",
      "21 18 13 20 16 3 16 3 5 4 \n",
      "18 8 1 15 25 1 9 12 21 30 \n",
      "19 7 10 11 18 15 12 20 30 27 \n",
      "19 19 13 9 22 23 22 9 30 27 \n",
      "18 6 15 16 8 3 25 21 20 16 \n",
      "15 22 30 30 9 13 5 24 23 24 \n",
      "Candidate 1: 6 votes\n",
      "Candidate 2: 0 votes\n",
      "Candidate 3: 3 votes\n",
      "Candidate 4: 5 votes\n",
      "Candidate 5: 2 votes\n",
      "Candidate 6: 3 votes\n",
      "Candidate 7: 1 votes\n",
      "Candidate 8: 3 votes\n",
      "Candidate 9: 5 votes\n",
      "Candidate 10: 2 votes\n",
      "Candidate 11: 2 votes\n",
      "Candidate 12: 4 votes\n",
      "Candidate 13: 5 votes\n",
      "Candidate 14: 2 votes\n",
      "Candidate 15: 4 votes\n",
      "Candidate 16: 4 votes\n",
      "Candidate 17: 0 votes\n",
      "Candidate 18: 6 votes\n",
      "Candidate 19: 5 votes\n",
      "Candidate 20: 4 votes\n",
      "Candidate 21: 3 votes\n",
      "Candidate 22: 3 votes\n",
      "Candidate 23: 3 votes\n",
      "Candidate 24: 3 votes\n",
      "Candidate 25: 4 votes\n",
      "Candidate 26: 0 votes\n",
      "Candidate 27: 3 votes\n",
      "Candidate 28: 2 votes\n",
      "Candidate 29: 7 votes\n",
      "Candidate 30: 6 votes\n"
     ]
    }
   ],
   "source": [
    "import random\n",
    "\n",
    "NUM_VOTES = 100   # số phiếu\n",
    "NUM_CANDIDATES = 30  # số ứng viên\n",
    "\n",
    "# Tạo list lưu số phiếu cho từng ứng viên, ban đầu = 0\n",
    "votes = [0] * NUM_CANDIDATES\n",
    "\n",
    "print(\"Enter votes:\")\n",
    "\n",
    "for i in range(NUM_VOTES):\n",
    "    vote = random.randint(1, NUM_CANDIDATES)  # phiếu ngẫu nhiên 1..30\n",
    "    print(f'{vote}', end=\" \")\n",
    "\n",
    "    if i % 10 == 9:\n",
    "        print()\n",
    "\n",
    "    # Cộng phiếu cho ứng viên được chọn\n",
    "    votes[vote - 1] += 1\n",
    "\n",
    "for idx, count in enumerate(votes, start=1):\n",
    "    print(f\"Candidate {idx}: {count} votes\")"
   ]
  },
  {
   "cell_type": "markdown",
   "id": "320a07e0-55fa-4cf9-8946-b52522ac3ae2",
   "metadata": {},
   "source": [
    "#### Introducing Array"
   ]
  },
  {
   "cell_type": "code",
   "execution_count": 11,
   "id": "873ea77f-0117-41ba-a7a7-a1364b04da93",
   "metadata": {},
   "outputs": [
    {
     "name": "stdout",
     "output_type": "stream",
     "text": [
      "Two standard ways to create an empty list:\n",
      "<class 'list'> 0 []\n",
      "<class 'list'> 0 []\n",
      "True\n"
     ]
    }
   ],
   "source": [
    "print(\"Two standard ways to create an empty list:\")\n",
    "a = [ ]\n",
    "b = list()\n",
    "print(type(a), len(a), a)\n",
    "print(type(b), len(b), b)\n",
    "print(a == b) "
   ]
  },
  {
   "cell_type": "code",
   "execution_count": 12,
   "id": "36510963-d1ae-44c1-90f5-39d1c18d25b6",
   "metadata": {},
   "outputs": [
    {
     "name": "stdout",
     "output_type": "stream",
     "text": [
      "Enter votes: \n",
      "Results: \n",
      "+ Candidate 1: total 33,  3.30%\n",
      "+ Candidate 2: total 37,  3.70%\n",
      "+ Candidate 3: total 35,  3.50%\n",
      "+ Candidate 4: total 31,  3.10%\n",
      "+ Candidate 5: total 38,  3.80%\n",
      "+ Candidate 6: total 36,  3.60%\n",
      "+ Candidate 7: total 29,  2.90%\n",
      "+ Candidate 8: total 24,  2.40%\n",
      "+ Candidate 9: total 27,  2.70%\n",
      "+ Candidate 10: total 32,  3.20%\n",
      "+ Candidate 11: total 37,  3.70%\n",
      "+ Candidate 12: total 35,  3.50%\n",
      "+ Candidate 13: total 37,  3.70%\n",
      "+ Candidate 14: total 40,  4.00%\n",
      "+ Candidate 15: total 35,  3.50%\n",
      "+ Candidate 16: total 24,  2.40%\n",
      "+ Candidate 17: total 28,  2.80%\n",
      "+ Candidate 18: total 28,  2.80%\n",
      "+ Candidate 19: total 40,  4.00%\n",
      "+ Candidate 20: total 33,  3.30%\n",
      "+ Candidate 21: total 36,  3.60%\n",
      "+ Candidate 22: total 41,  4.10%\n",
      "+ Candidate 23: total 24,  2.40%\n",
      "+ Candidate 24: total 34,  3.40%\n",
      "+ Candidate 25: total 43,  4.30%\n",
      "+ Candidate 26: total 28,  2.80%\n",
      "+ Candidate 27: total 31,  3.10%\n",
      "+ Candidate 28: total 40,  4.00%\n",
      "+ Candidate 29: total 25,  2.50%\n",
      "+ Candidate 30: total 39,  3.90%\n"
     ]
    }
   ],
   "source": [
    "import math\n",
    "NUM_VOTES = 1000 # number of votes\n",
    "NUM_CANDIDATES = 30 # number of candidates\n",
    "\n",
    "cand = []\n",
    "for i in range(NUM_CANDIDATES):\n",
    "    cand.append(0)\n",
    "\n",
    "print(\"Enter votes: \")\n",
    "for i in range(1, NUM_VOTES + 1):\n",
    "    vote = random.randint(1, NUM_CANDIDATES) # vote = int(input())\n",
    "    cand[vote-1] = cand[vote-1] + 1\n",
    "\n",
    "print(\"Results: \")\n",
    "for i in range(NUM_CANDIDATES):\n",
    "    print(f\"+ Candidate {i+1}: total {cand[i]}, {(cand[i] *100.0)/NUM_VOTES: .2f}%\")"
   ]
  },
  {
   "cell_type": "code",
   "execution_count": 13,
   "id": "2589148d-588d-4bad-b642-f0f3e5ff2692",
   "metadata": {},
   "outputs": [
    {
     "name": "stdout",
     "output_type": "stream",
     "text": [
      "<class 'list'> 1 ['hello']\n",
      "<class 'list'> 1 [42]\n",
      "False\n"
     ]
    }
   ],
   "source": [
    "a = [ \"hello\" ]\n",
    "b = [ 42 ]\n",
    "print(type(a), len(a), a)\n",
    "print(type(b), len(b), b)\n",
    "print(a == b)"
   ]
  },
  {
   "cell_type": "code",
   "execution_count": 14,
   "id": "7a6e0328-fbe6-4d5c-91e2-6320a3275bfc",
   "metadata": {},
   "outputs": [
    {
     "name": "stdout",
     "output_type": "stream",
     "text": [
      "<class 'list'> 4 [2, 3, 5, 7]\n",
      "<class 'list'> 5 [0, 1, 2, 3, 4]\n",
      "<class 'list'> 3 ['mixed types', True, 42]\n"
     ]
    }
   ],
   "source": [
    "a = [2, 3, 5, 7]\n",
    "b = list(range(5))\n",
    "c = [\"mixed types\", True, 42]\n",
    "print(type(a), len(a), a)\n",
    "print(type(b), len(b), b)\n",
    "print(type(c), len(c), c) "
   ]
  },
  {
   "cell_type": "code",
   "execution_count": 15,
   "id": "2d8c6cd5-ab17-4fa9-b1b6-c374df598d0b",
   "metadata": {},
   "outputs": [
    {
     "name": "stdout",
     "output_type": "stream",
     "text": [
      "<class 'list'> 10 [0, 0, 0, 0, 0, 0, 0, 0, 0, 0]\n",
      "<class 'list'> 10 [0, 1, 2, 3, 4, 5, 6, 7, 8, 9]\n"
     ]
    }
   ],
   "source": [
    "n = 10\n",
    "a = [0] * n\n",
    "b = list(range(n))\n",
    "print(type(a), len(a), a)\n",
    "print(type(b), len(b), b) "
   ]
  },
  {
   "cell_type": "code",
   "execution_count": 17,
   "id": "f6fbe93d-16f8-4c8a-9b58-e816a0b9e04c",
   "metadata": {},
   "outputs": [
    {
     "name": "stdout",
     "output_type": "stream",
     "text": [
      "Enter votes: \n",
      "Results: \n",
      "+ Candidate 1: total 34,  3.40%\n",
      "+ Candidate 2: total 31,  3.10%\n",
      "+ Candidate 3: total 32,  3.20%\n",
      "+ Candidate 4: total 34,  3.40%\n",
      "+ Candidate 5: total 35,  3.50%\n",
      "+ Candidate 6: total 28,  2.80%\n",
      "+ Candidate 7: total 32,  3.20%\n",
      "+ Candidate 8: total 29,  2.90%\n",
      "+ Candidate 9: total 42,  4.20%\n",
      "+ Candidate 10: total 34,  3.40%\n",
      "+ Candidate 11: total 47,  4.70%\n",
      "+ Candidate 12: total 29,  2.90%\n",
      "+ Candidate 13: total 35,  3.50%\n",
      "+ Candidate 14: total 27,  2.70%\n",
      "+ Candidate 15: total 36,  3.60%\n",
      "+ Candidate 16: total 38,  3.80%\n",
      "+ Candidate 17: total 37,  3.70%\n",
      "+ Candidate 18: total 34,  3.40%\n",
      "+ Candidate 19: total 31,  3.10%\n",
      "+ Candidate 20: total 35,  3.50%\n",
      "+ Candidate 21: total 33,  3.30%\n",
      "+ Candidate 22: total 37,  3.70%\n",
      "+ Candidate 23: total 36,  3.60%\n",
      "+ Candidate 24: total 29,  2.90%\n",
      "+ Candidate 25: total 30,  3.00%\n",
      "+ Candidate 26: total 25,  2.50%\n",
      "+ Candidate 27: total 37,  3.70%\n",
      "+ Candidate 28: total 27,  2.70%\n",
      "+ Candidate 29: total 30,  3.00%\n",
      "+ Candidate 30: total 36,  3.60%\n"
     ]
    }
   ],
   "source": [
    "import math\n",
    "NUM_VOTES = 1000 # number of votes\n",
    "NUM_CANDIDATES = 30 # number of candidates\n",
    "\n",
    "# cand = [0] * NUM_CANDIDATES\n",
    "cand = [0 for _ in range(NUM_CANDIDATES)]\n",
    "\n",
    "print(\"Enter votes: \")\n",
    "for i in range(1, NUM_VOTES + 1):\n",
    "    vote = random.randint(1, NUM_CANDIDATES) # vote =int(input())\n",
    "    cand[vote-1] = cand[vote-1] + 1\n",
    "\n",
    "print(\"Results: \")\n",
    "for i in range(NUM_CANDIDATES):\n",
    "    print(f\"+ Candidate {i+1}: total {cand[i]}, {(cand[i] *100.0)/NUM_VOTES: .2f}%\")"
   ]
  },
  {
   "cell_type": "code",
   "execution_count": null,
   "id": "9e0dff20-9850-44c2-acb3-be910e0653d8",
   "metadata": {},
   "outputs": [],
   "source": [
    "input: amt (in cents); output: coins\n",
    "D is an array with 6 elements\n",
    "coins = 0\n",
    "for i from 0 to 5 // there are 6 denominations\n",
    "coins += amt/Di\n",
    "amt %= Di\n",
    "print coins"
   ]
  }
 ],
 "metadata": {
  "kernelspec": {
   "display_name": "Python 3 (ipykernel)",
   "language": "python",
   "name": "python3"
  },
  "language_info": {
   "codemirror_mode": {
    "name": "ipython",
    "version": 3
   },
   "file_extension": ".py",
   "mimetype": "text/x-python",
   "name": "python",
   "nbconvert_exporter": "python",
   "pygments_lexer": "ipython3",
   "version": "3.12.1"
  }
 },
 "nbformat": 4,
 "nbformat_minor": 5
}
