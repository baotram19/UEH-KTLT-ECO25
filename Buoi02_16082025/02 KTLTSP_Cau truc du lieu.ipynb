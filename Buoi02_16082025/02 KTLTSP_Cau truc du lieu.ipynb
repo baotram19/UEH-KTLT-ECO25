{
 "cells": [
  {
   "cell_type": "markdown",
   "id": "5b052b65-609f-4e9f-a887-f5d4d3fc9f87",
   "metadata": {},
   "source": [
    "# **CẤU TRÚC DỮ LIỆU TRONG PYTHON**"
   ]
  },
  {
   "cell_type": "markdown",
   "id": "72c8a66c-7f14-4c98-9763-3ee84c399664",
   "metadata": {
    "jp-MarkdownHeadingCollapsed": true
   },
   "source": [
    "## **Mảng 1 chiều**"
   ]
  },
  {
   "cell_type": "markdown",
   "id": "3473f693-7211-4344-923a-c9a3bc76cfab",
   "metadata": {
    "jp-MarkdownHeadingCollapsed": true
   },
   "source": [
    "#### 1. Motivation #1: Coin Change "
   ]
  },
  {
   "cell_type": "code",
   "execution_count": 5,
   "id": "73b57cb4-a813-43f4-8d8a-167c2a856a03",
   "metadata": {},
   "outputs": [
    {
     "name": "stdin",
     "output_type": "stream",
     "text": [
      "Nhập số tiền (xu):  19\n"
     ]
    },
    {
     "name": "stdout",
     "output_type": "stream",
     "text": [
      "Số xu tối thiểu: 6\n"
     ]
    }
   ],
   "source": [
    "amt = int(input(\"Nhập số tiền (xu): \"))\n",
    "\n",
    "coins = 0\n",
    "coins += amt // 100; amt %= 100\n",
    "coins += amt // 50; amt %= 50\n",
    "coins += amt // 20; amt %= 20\n",
    "coins += amt // 10; amt %= 10\n",
    "coins += amt // 5;  amt %= 5\n",
    "coins += amt // 1;  amt %= 1\n",
    "\n",
    "print(\"Số xu tối thiểu:\", coins)"
   ]
  },
  {
   "cell_type": "code",
   "execution_count": 6,
   "id": "c3308953-85e7-4871-a024-565335fd0aed",
   "metadata": {},
   "outputs": [
    {
     "name": "stdout",
     "output_type": "stream",
     "text": [
      "Minimum coins needed: 10\n"
     ]
    }
   ],
   "source": [
    "def minimumCoins(amt):\n",
    "    \"\"\"\n",
    "    input: amt (in cents)\n",
    "    output: coins\n",
    "    \"\"\"\n",
    "    coins = 0\n",
    "    coins += amt // 100\n",
    "    amt %= 100\n",
    "\n",
    "    coins += amt // 50\n",
    "    amt %= 50\n",
    "\n",
    "    coins += amt // 20\n",
    "    amt %= 20\n",
    "\n",
    "    coins += amt // 10\n",
    "    amt %= 10\n",
    "\n",
    "    coins += amt // 5\n",
    "    amt %= 5\n",
    "\n",
    "    coins += amt // 1   # retained for regularity\n",
    "    amt %= 1            # retained for regularity\n",
    "\n",
    "    return coins\n",
    "\n",
    "amount = 289  \n",
    "print(\"Minimum coins needed:\", minimumCoins(amount))"
   ]
  },
  {
   "cell_type": "markdown",
   "id": "219d4fa5-fff4-4afe-a1ad-67a08b4a6c9d",
   "metadata": {
    "jp-MarkdownHeadingCollapsed": true
   },
   "source": [
    "#### 2. Motivation #2"
   ]
  },
  {
   "cell_type": "code",
   "execution_count": 9,
   "id": "6041af75-a66a-49f7-9394-7a13418d7d48",
   "metadata": {},
   "outputs": [
    {
     "name": "stdout",
     "output_type": "stream",
     "text": [
      "Enter votes: \n",
      "1 1 1 1 1 1 3 3 3 2 \n",
      "2 2 2 1 1 1 1 2 2 3 \n",
      "2 3 2 1 1 1 2 2 3 1 \n",
      "1 3 1 1 1 3 1 1 3 3 \n",
      "1 1 1 2 2 3 1 3 1 1 \n",
      "1 3 1 2 3 2 1 2 2 1 \n",
      "1 1 3 2 1 1 2 1 3 2 \n",
      "2 3 1 2 1 2 2 3 3 1 \n",
      "1 2 3 1 1 1 1 1 1 1 \n",
      "1 3 1 2 3 1 2 3 2 3 \n",
      "\n",
      "Tom: 49; Dick: 27; Harry: 24\n",
      "\n"
     ]
    }
   ],
   "source": [
    "import random\n",
    "\n",
    "NUM_VOTES = 100  # number of votes\n",
    "tom = 0; dick = 0; harry = 0\n",
    "print(\"Enter votes: \")\n",
    "\n",
    "for i in range(NUM_VOTES):\n",
    "    vote = random.randint(1, 3)  # vote = int(input())\n",
    "    print(f'{vote}', end=\" \")\n",
    "\n",
    "    if i % 10 == 9:\n",
    "        print()\n",
    "\n",
    "    match vote:\n",
    "        case 1:\n",
    "            tom += 1\n",
    "        case 2:\n",
    "            dick += 1\n",
    "        case 3:\n",
    "            harry += 1\n",
    "        case _:\n",
    "            pass\n",
    "\n",
    "print(f\"\\nTom: {tom}; Dick: {dick}; Harry: {harry}\\n\")"
   ]
  },
  {
   "cell_type": "code",
   "execution_count": 10,
   "id": "efc4dac6-bf50-4c46-8c9f-d47b02132e71",
   "metadata": {},
   "outputs": [
    {
     "name": "stdout",
     "output_type": "stream",
     "text": [
      "Enter votes:\n",
      "23 4 1 29 20 24 18 28 29 11 \n",
      "1 8 10 12 1 25 27 29 25 1 \n",
      "18 13 6 19 29 14 6 29 29 12 \n",
      "29 13 30 4 4 28 4 19 14 9 \n",
      "21 18 13 20 16 3 16 3 5 4 \n",
      "18 8 1 15 25 1 9 12 21 30 \n",
      "19 7 10 11 18 15 12 20 30 27 \n",
      "19 19 13 9 22 23 22 9 30 27 \n",
      "18 6 15 16 8 3 25 21 20 16 \n",
      "15 22 30 30 9 13 5 24 23 24 \n",
      "Candidate 1: 6 votes\n",
      "Candidate 2: 0 votes\n",
      "Candidate 3: 3 votes\n",
      "Candidate 4: 5 votes\n",
      "Candidate 5: 2 votes\n",
      "Candidate 6: 3 votes\n",
      "Candidate 7: 1 votes\n",
      "Candidate 8: 3 votes\n",
      "Candidate 9: 5 votes\n",
      "Candidate 10: 2 votes\n",
      "Candidate 11: 2 votes\n",
      "Candidate 12: 4 votes\n",
      "Candidate 13: 5 votes\n",
      "Candidate 14: 2 votes\n",
      "Candidate 15: 4 votes\n",
      "Candidate 16: 4 votes\n",
      "Candidate 17: 0 votes\n",
      "Candidate 18: 6 votes\n",
      "Candidate 19: 5 votes\n",
      "Candidate 20: 4 votes\n",
      "Candidate 21: 3 votes\n",
      "Candidate 22: 3 votes\n",
      "Candidate 23: 3 votes\n",
      "Candidate 24: 3 votes\n",
      "Candidate 25: 4 votes\n",
      "Candidate 26: 0 votes\n",
      "Candidate 27: 3 votes\n",
      "Candidate 28: 2 votes\n",
      "Candidate 29: 7 votes\n",
      "Candidate 30: 6 votes\n"
     ]
    }
   ],
   "source": [
    "import random\n",
    "\n",
    "NUM_VOTES = 100   # số phiếu\n",
    "NUM_CANDIDATES = 30  # số ứng viên\n",
    "\n",
    "# Tạo list lưu số phiếu cho từng ứng viên, ban đầu = 0\n",
    "votes = [0] * NUM_CANDIDATES\n",
    "\n",
    "print(\"Enter votes:\")\n",
    "\n",
    "for i in range(NUM_VOTES):\n",
    "    vote = random.randint(1, NUM_CANDIDATES)  # phiếu ngẫu nhiên 1..30\n",
    "    print(f'{vote}', end=\" \")\n",
    "\n",
    "    if i % 10 == 9:\n",
    "        print()\n",
    "\n",
    "    # Cộng phiếu cho ứng viên được chọn\n",
    "    votes[vote - 1] += 1\n",
    "\n",
    "for idx, count in enumerate(votes, start=1):\n",
    "    print(f\"Candidate {idx}: {count} votes\")"
   ]
  },
  {
   "cell_type": "markdown",
   "id": "320a07e0-55fa-4cf9-8946-b52522ac3ae2",
   "metadata": {
    "jp-MarkdownHeadingCollapsed": true
   },
   "source": [
    "#### Introducing Array"
   ]
  },
  {
   "cell_type": "code",
   "execution_count": 11,
   "id": "873ea77f-0117-41ba-a7a7-a1364b04da93",
   "metadata": {},
   "outputs": [
    {
     "name": "stdout",
     "output_type": "stream",
     "text": [
      "Two standard ways to create an empty list:\n",
      "<class 'list'> 0 []\n",
      "<class 'list'> 0 []\n",
      "True\n"
     ]
    }
   ],
   "source": [
    "print(\"Two standard ways to create an empty list:\")\n",
    "a = [ ]\n",
    "b = list()\n",
    "print(type(a), len(a), a)\n",
    "print(type(b), len(b), b)\n",
    "print(a == b) "
   ]
  },
  {
   "cell_type": "code",
   "execution_count": 12,
   "id": "36510963-d1ae-44c1-90f5-39d1c18d25b6",
   "metadata": {},
   "outputs": [
    {
     "name": "stdout",
     "output_type": "stream",
     "text": [
      "Enter votes: \n",
      "Results: \n",
      "+ Candidate 1: total 33,  3.30%\n",
      "+ Candidate 2: total 37,  3.70%\n",
      "+ Candidate 3: total 35,  3.50%\n",
      "+ Candidate 4: total 31,  3.10%\n",
      "+ Candidate 5: total 38,  3.80%\n",
      "+ Candidate 6: total 36,  3.60%\n",
      "+ Candidate 7: total 29,  2.90%\n",
      "+ Candidate 8: total 24,  2.40%\n",
      "+ Candidate 9: total 27,  2.70%\n",
      "+ Candidate 10: total 32,  3.20%\n",
      "+ Candidate 11: total 37,  3.70%\n",
      "+ Candidate 12: total 35,  3.50%\n",
      "+ Candidate 13: total 37,  3.70%\n",
      "+ Candidate 14: total 40,  4.00%\n",
      "+ Candidate 15: total 35,  3.50%\n",
      "+ Candidate 16: total 24,  2.40%\n",
      "+ Candidate 17: total 28,  2.80%\n",
      "+ Candidate 18: total 28,  2.80%\n",
      "+ Candidate 19: total 40,  4.00%\n",
      "+ Candidate 20: total 33,  3.30%\n",
      "+ Candidate 21: total 36,  3.60%\n",
      "+ Candidate 22: total 41,  4.10%\n",
      "+ Candidate 23: total 24,  2.40%\n",
      "+ Candidate 24: total 34,  3.40%\n",
      "+ Candidate 25: total 43,  4.30%\n",
      "+ Candidate 26: total 28,  2.80%\n",
      "+ Candidate 27: total 31,  3.10%\n",
      "+ Candidate 28: total 40,  4.00%\n",
      "+ Candidate 29: total 25,  2.50%\n",
      "+ Candidate 30: total 39,  3.90%\n"
     ]
    }
   ],
   "source": [
    "import math\n",
    "NUM_VOTES = 1000 # number of votes\n",
    "NUM_CANDIDATES = 30 # number of candidates\n",
    "\n",
    "cand = []\n",
    "for i in range(NUM_CANDIDATES):\n",
    "    cand.append(0)\n",
    "\n",
    "print(\"Enter votes: \")\n",
    "for i in range(1, NUM_VOTES + 1):\n",
    "    vote = random.randint(1, NUM_CANDIDATES) # vote = int(input())\n",
    "    cand[vote-1] = cand[vote-1] + 1\n",
    "\n",
    "print(\"Results: \")\n",
    "for i in range(NUM_CANDIDATES):\n",
    "    print(f\"+ Candidate {i+1}: total {cand[i]}, {(cand[i] *100.0)/NUM_VOTES: .2f}%\")"
   ]
  },
  {
   "cell_type": "code",
   "execution_count": 13,
   "id": "2589148d-588d-4bad-b642-f0f3e5ff2692",
   "metadata": {},
   "outputs": [
    {
     "name": "stdout",
     "output_type": "stream",
     "text": [
      "<class 'list'> 1 ['hello']\n",
      "<class 'list'> 1 [42]\n",
      "False\n"
     ]
    }
   ],
   "source": [
    "a = [ \"hello\" ]\n",
    "b = [ 42 ]\n",
    "print(type(a), len(a), a)\n",
    "print(type(b), len(b), b)\n",
    "print(a == b)"
   ]
  },
  {
   "cell_type": "code",
   "execution_count": 14,
   "id": "7a6e0328-fbe6-4d5c-91e2-6320a3275bfc",
   "metadata": {},
   "outputs": [
    {
     "name": "stdout",
     "output_type": "stream",
     "text": [
      "<class 'list'> 4 [2, 3, 5, 7]\n",
      "<class 'list'> 5 [0, 1, 2, 3, 4]\n",
      "<class 'list'> 3 ['mixed types', True, 42]\n"
     ]
    }
   ],
   "source": [
    "a = [2, 3, 5, 7]\n",
    "b = list(range(5))\n",
    "c = [\"mixed types\", True, 42]\n",
    "print(type(a), len(a), a)\n",
    "print(type(b), len(b), b)\n",
    "print(type(c), len(c), c) "
   ]
  },
  {
   "cell_type": "code",
   "execution_count": 15,
   "id": "2d8c6cd5-ab17-4fa9-b1b6-c374df598d0b",
   "metadata": {},
   "outputs": [
    {
     "name": "stdout",
     "output_type": "stream",
     "text": [
      "<class 'list'> 10 [0, 0, 0, 0, 0, 0, 0, 0, 0, 0]\n",
      "<class 'list'> 10 [0, 1, 2, 3, 4, 5, 6, 7, 8, 9]\n"
     ]
    }
   ],
   "source": [
    "n = 10\n",
    "a = [0] * n\n",
    "b = list(range(n))\n",
    "print(type(a), len(a), a)\n",
    "print(type(b), len(b), b) "
   ]
  },
  {
   "cell_type": "code",
   "execution_count": 17,
   "id": "f6fbe93d-16f8-4c8a-9b58-e816a0b9e04c",
   "metadata": {},
   "outputs": [
    {
     "name": "stdout",
     "output_type": "stream",
     "text": [
      "Enter votes: \n",
      "Results: \n",
      "+ Candidate 1: total 34,  3.40%\n",
      "+ Candidate 2: total 31,  3.10%\n",
      "+ Candidate 3: total 32,  3.20%\n",
      "+ Candidate 4: total 34,  3.40%\n",
      "+ Candidate 5: total 35,  3.50%\n",
      "+ Candidate 6: total 28,  2.80%\n",
      "+ Candidate 7: total 32,  3.20%\n",
      "+ Candidate 8: total 29,  2.90%\n",
      "+ Candidate 9: total 42,  4.20%\n",
      "+ Candidate 10: total 34,  3.40%\n",
      "+ Candidate 11: total 47,  4.70%\n",
      "+ Candidate 12: total 29,  2.90%\n",
      "+ Candidate 13: total 35,  3.50%\n",
      "+ Candidate 14: total 27,  2.70%\n",
      "+ Candidate 15: total 36,  3.60%\n",
      "+ Candidate 16: total 38,  3.80%\n",
      "+ Candidate 17: total 37,  3.70%\n",
      "+ Candidate 18: total 34,  3.40%\n",
      "+ Candidate 19: total 31,  3.10%\n",
      "+ Candidate 20: total 35,  3.50%\n",
      "+ Candidate 21: total 33,  3.30%\n",
      "+ Candidate 22: total 37,  3.70%\n",
      "+ Candidate 23: total 36,  3.60%\n",
      "+ Candidate 24: total 29,  2.90%\n",
      "+ Candidate 25: total 30,  3.00%\n",
      "+ Candidate 26: total 25,  2.50%\n",
      "+ Candidate 27: total 37,  3.70%\n",
      "+ Candidate 28: total 27,  2.70%\n",
      "+ Candidate 29: total 30,  3.00%\n",
      "+ Candidate 30: total 36,  3.60%\n"
     ]
    }
   ],
   "source": [
    "import math\n",
    "NUM_VOTES = 1000 # number of votes\n",
    "NUM_CANDIDATES = 30 # number of candidates\n",
    "\n",
    "# cand = [0] * NUM_CANDIDATES\n",
    "cand = [0 for _ in range(NUM_CANDIDATES)]\n",
    "\n",
    "print(\"Enter votes: \")\n",
    "for i in range(1, NUM_VOTES + 1):\n",
    "    vote = random.randint(1, NUM_CANDIDATES) # vote =int(input())\n",
    "    cand[vote-1] = cand[vote-1] + 1\n",
    "\n",
    "print(\"Results: \")\n",
    "for i in range(NUM_CANDIDATES):\n",
    "    print(f\"+ Candidate {i+1}: total {cand[i]}, {(cand[i] *100.0)/NUM_VOTES: .2f}%\")"
   ]
  },
  {
   "cell_type": "code",
   "execution_count": 20,
   "id": "cebd7bd5-97fc-4439-8c96-2b0033864cb5",
   "metadata": {},
   "outputs": [
    {
     "name": "stdout",
     "output_type": "stream",
     "text": [
      "a = [0, 1, 2, 3, 4, 5, 6, 7, 8, 9]\n"
     ]
    }
   ],
   "source": [
    "a = []\n",
    "for i in range(10):\n",
    "    a.append(i)\n",
    "print(f'a = {a}')"
   ]
  },
  {
   "cell_type": "markdown",
   "id": "949994ba-0c89-4c0d-99c9-6a3c9087a5b3",
   "metadata": {
    "jp-MarkdownHeadingCollapsed": true
   },
   "source": [
    "#### Array Assignment"
   ]
  },
  {
   "cell_type": "code",
   "execution_count": 21,
   "id": "c79a65ae-749c-4928-a926-d3191b5019d7",
   "metadata": {},
   "outputs": [
    {
     "name": "stdout",
     "output_type": "stream",
     "text": [
      "source = 0x76a0e40abc00\n",
      "dest = 0x76a0e40abc00\n"
     ]
    }
   ],
   "source": [
    "source = [ 10, 20, 30, 40, 50, 0 , 0 , 0 , 0 , 0 ]\n",
    "dest = source # illegal by same pointing!\n",
    "print(f'source = {hex(id(source))}\\ndest = {hex(id(dest))}')"
   ]
  },
  {
   "cell_type": "code",
   "execution_count": 22,
   "id": "0176566b-60a9-47a2-80b4-c79ffdfeba52",
   "metadata": {},
   "outputs": [
    {
     "name": "stdout",
     "output_type": "stream",
     "text": [
      "source -> 0x76a0dc16de80 = [10, 20, 30, 40, 50, 0, 0, 0, 0]\n",
      "dest -> 0x76a0dc16ee40 = [10, 20, 30, 40, 50, 0, 0, 0, 0]\n"
     ]
    }
   ],
   "source": [
    "source = [ 10, 20, 30, 40, 50, 0, 0, 0, 0 ]\n",
    "# dest = [x for x in source]\n",
    "dest = []\n",
    "for i in range(len(source)):\n",
    "    dest.append(source[i])\n",
    "print(f'source -> {hex(id(source))} = {source}')\n",
    "print(f'dest -> {hex(id(dest))} = {dest}')"
   ]
  },
  {
   "cell_type": "markdown",
   "id": "17283df0-7ac8-4879-96bb-6f9bad387217",
   "metadata": {
    "jp-MarkdownHeadingCollapsed": true
   },
   "source": [
    "#### Array Parameters in Functions"
   ]
  },
  {
   "cell_type": "code",
   "execution_count": 23,
   "id": "caf51abf-b691-43cc-8458-e7349001094a",
   "metadata": {},
   "outputs": [
    {
     "name": "stdout",
     "output_type": "stream",
     "text": [
      "sum is 44\n",
      "sum is 44\n",
      "sum is 2\n"
     ]
    }
   ],
   "source": [
    "def sumArray(arr):\n",
    "    total = 0\n",
    "    for i in range(len(arr)):\n",
    "        total = total + arr[i];\n",
    "        return total\n",
    "        \n",
    "foo = [ 44, 9, 17, 1, -4, 22]\n",
    "bar = [ 2, 8, 6]\n",
    "print(\"sum is %d\"%sumArray(foo));\n",
    "print(\"sum is %d\"%sumArray(foo[:3]));\n",
    "print(\"sum is %d\"%sumArray(bar))"
   ]
  },
  {
   "cell_type": "markdown",
   "id": "74936941-9646-4f03-86fc-89a3c0a44885",
   "metadata": {
    "jp-MarkdownHeadingCollapsed": true
   },
   "source": [
    "#### Standard I/O Functions for Arrays"
   ]
  },
  {
   "cell_type": "code",
   "execution_count": 24,
   "id": "ffb1076b-8abd-49af-96ac-3ff45686ea87",
   "metadata": {},
   "outputs": [
    {
     "name": "stdout",
     "output_type": "stream",
     "text": [
      "arr with len 10 = [12, 21, 23, 13, 20, 27, 26, 11, 11, 18]\n"
     ]
    }
   ],
   "source": [
    "import math\n",
    "random.seed(49)\n",
    "\n",
    "def scanArray(size):\n",
    "    # You may add a prompt for user here\n",
    "    arr = []\n",
    "    for i in range(size):\n",
    "        x = input(float())\n",
    "        arr.append(size)\n",
    "    return arr\n",
    "\n",
    "def randArray(vmin, vmax, size):\n",
    "    # You may add a prompt for user here\n",
    "    arr = []\n",
    "    for i in range(size):\n",
    "        x = random.randint(vmin, vmax)\n",
    "        arr.append(x)\n",
    "    return arr\n",
    "    \n",
    "arr = randArray(10, 30, 10)\n",
    "print(f'arr with len {len(arr)} = {arr}')"
   ]
  },
  {
   "cell_type": "code",
   "execution_count": 25,
   "id": "07cbad21-3e1e-4f39-831d-ac3401c294d1",
   "metadata": {},
   "outputs": [
    {
     "name": "stdout",
     "output_type": "stream",
     "text": [
      "arr with len 10 = [12, 21, 23, 13, 20, 27, 26, 11, 11, 18]\n",
      "double array with len 10 = [24, 42, 46, 26, 40, 54, 52, 22, 22, 36]\n"
     ]
    }
   ],
   "source": [
    "import math\n",
    "random.seed(49)\n",
    "\n",
    "def doubleArray(arr):\n",
    "    for i in range(len(arr)):\n",
    "        arr[i] = arr[i] * 2\n",
    "    pass # doubleArray\n",
    "\n",
    "arr = randArray(10, 30, 10)\n",
    "print(f'arr with len {len(arr)} = {arr}')\n",
    "doubleArray(arr)\n",
    "print(f'double array with len {len(arr)} = {arr}')"
   ]
  },
  {
   "cell_type": "markdown",
   "id": "5bd1e6dc-d406-442e-a74c-e639a1c5ba92",
   "metadata": {
    "jp-MarkdownHeadingCollapsed": true
   },
   "source": [
    "#### Bài tập "
   ]
  },
  {
   "cell_type": "markdown",
   "id": "d83fe398-0240-4e4f-aa91-f565f59b8fb5",
   "metadata": {},
   "source": [
    "1. Các thao tác nhập xuất\n",
    "- a. Nhập mảng\n",
    "- b. Xuất mảng"
   ]
  },
  {
   "cell_type": "code",
   "execution_count": 4,
   "id": "3183c0e8-5ce8-4c61-bb3c-d0e28842bf8b",
   "metadata": {},
   "outputs": [],
   "source": [
    "def nhap_mang():\n",
    "    arr = list(map(int, input(\"Nhập các phần tử mảng (cách nhau bởi khoảng trắng): \").split()))\n",
    "    return arr\n",
    "\n",
    "def xuat_mang(arr):\n",
    "    print(\"Mảng:\", arr)"
   ]
  },
  {
   "cell_type": "markdown",
   "id": "adf01a46-119c-43ea-8cff-157347553503",
   "metadata": {},
   "source": [
    "2. Các thao tác kiểm tra\n",
    "- a. Mảng có phải là mảng toàn chẵn\n",
    "- b. Mảng có phải là mảng toàn số nguyên tố\n",
    "- c. Mảng có phải là mảng tăng dần"
   ]
  },
  {
   "cell_type": "code",
   "execution_count": 7,
   "id": "0f0b7f3e-1670-4464-9ad4-13bfeef061ee",
   "metadata": {},
   "outputs": [
    {
     "name": "stdin",
     "output_type": "stream",
     "text": [
      "Nhập các phần tử mảng (cách nhau bởi khoảng trắng):  1 3 5 14 19 24\n"
     ]
    },
    {
     "name": "stdout",
     "output_type": "stream",
     "text": [
      "Mảng: [1, 3, 5, 14, 19, 24]\n",
      "2a. Mảng toàn chẵn? False\n",
      "2b. Mảng toàn nguyên tố? False\n",
      "2c. Mảng tăng dần? True\n"
     ]
    }
   ],
   "source": [
    "def mang_toan_chan(arr):\n",
    "    return all(x % 2 == 0 for x in arr)\n",
    "\n",
    "def mang_toan_nguyento(arr):\n",
    "    return all(is_prime(x) for x in arr)\n",
    "\n",
    "def mang_tang_dan(arr):\n",
    "    return all(arr[i] <= arr[i+1] for i in range(len(arr)-1))\n",
    "\n",
    "if __name__ == \"__main__\":\n",
    "    arr = nhap_mang()\n",
    "    xuat_mang(arr)\n",
    "\n",
    "    print(\"2a. Mảng toàn chẵn?\", mang_toan_chan(arr))\n",
    "    print(\"2b. Mảng toàn nguyên tố?\", mang_toan_nguyento(arr))\n",
    "    print(\"2c. Mảng tăng dần?\", mang_tang_dan(arr))"
   ]
  },
  {
   "cell_type": "markdown",
   "id": "efb3411f-f4f0-4400-9e5c-072b8fb3f435",
   "metadata": {},
   "source": [
    "3. Các thao tác tính toán\n",
    "- a. Có bao nhiêu số chia hết cho 4 nhưng không chia hết cho 5\n",
    "- b. Tổng các số nguyên tố có trong mảng"
   ]
  },
  {
   "cell_type": "code",
   "execution_count": 12,
   "id": "701a05f2-f0bd-47d4-990a-db2b7b303a83",
   "metadata": {},
   "outputs": [
    {
     "name": "stdin",
     "output_type": "stream",
     "text": [
      "Nhập số A:  2005\n"
     ]
    },
    {
     "name": "stdout",
     "output_type": "stream",
     "text": [
      "3a. Số chia hết cho A nhưng không chia hết cho 5: 0\n",
      "3b. Tổng số nguyên tố: 27\n"
     ]
    }
   ],
   "source": [
    "def dem_chia_a_khong_chia_5(arr, a):\n",
    "    return sum(1 for x in arr if x % a == 0 and x % 5 != 0)\n",
    "\n",
    "def tong_nguyento(arr):\n",
    "    return sum(x for x in arr if is_prime(x))\n",
    "\n",
    "a = int(input(\"Nhập số A: \"))\n",
    "print(\"3a. Số chia hết cho A nhưng không chia hết cho 5:\", dem_chia_a_khong_chia_5(arr, a))\n",
    "print(\"3b. Tổng số nguyên tố:\", tong_nguyento(arr))"
   ]
  },
  {
   "cell_type": "markdown",
   "id": "6726d0a5-c799-4543-bff9-3b668fa09741",
   "metadata": {},
   "source": [
    "4. Các thao tác tìm kiếm\n",
    "- a. Vị trí cuối cùng của phần tử x trong mảng\n",
    "- b. Vị trí số nguyên tố đầu tiên trong mảng nếu có\n",
    "- c. Tìm số nhỏ nhất trong mảng\n",
    "- d. Tìm số dương nhỏ nhất trong mảng"
   ]
  },
  {
   "cell_type": "code",
   "execution_count": 15,
   "id": "e876bbd9-f25a-4476-85e3-ab8b5f944daf",
   "metadata": {},
   "outputs": [
    {
     "name": "stdin",
     "output_type": "stream",
     "text": [
      "Nhập số X:  19\n"
     ]
    },
    {
     "name": "stdout",
     "output_type": "stream",
     "text": [
      "4a. Vị trí cuối của X: 4\n",
      "4b. Vị trí số nguyên tố đầu tiên: 1\n",
      "4c. Số nhỏ nhất: 1\n",
      "4d. Số dương nhỏ nhất: 1\n"
     ]
    }
   ],
   "source": [
    "def vi_tri_cuoi_x(arr, x):\n",
    "    for i in range(len(arr)-1, -1, -1):\n",
    "        if arr[i] == x:\n",
    "            return i\n",
    "    return -1\n",
    "\n",
    "def vi_tri_nguyento_dau(arr):\n",
    "    for i, val in enumerate(arr):\n",
    "        if is_prime(val):\n",
    "            return i\n",
    "    return -1\n",
    "\n",
    "def so_nho_nhat(arr):\n",
    "    return min(arr) if arr else None\n",
    "\n",
    "def so_duong_nho_nhat(arr):\n",
    "    duong = [x for x in arr if x > 0]\n",
    "    return min(duong) if duong else None\n",
    "\n",
    "x = int(input(\"Nhập số X: \"))\n",
    "print(\"4a. Vị trí cuối của X:\", vi_tri_cuoi_x(arr, x))\n",
    "print(\"4b. Vị trí số nguyên tố đầu tiên:\", vi_tri_nguyento_dau(arr))\n",
    "print(\"4c. Số nhỏ nhất:\", so_nho_nhat(arr))\n",
    "print(\"4d. Số dương nhỏ nhất:\", so_duong_nho_nhat(arr))"
   ]
  },
  {
   "cell_type": "markdown",
   "id": "4952c0e7-c470-4095-b963-bb54d35b2471",
   "metadata": {},
   "source": [
    "5. Các thao tác xử lý\n",
    "- a. Tách các số nguyên tố có trong mảng a đưa vào mảng b.\n",
    "- b. Tách mảng a thành 2 mảng b (chứa các số nguyên dương) và c (chứa các số còn lại)\n",
    "- c. Sắp xếp mảng giảm dần\n",
    "- d. Sắp xếp mảng sao cho các số dương đứng đầu mảng giảm dần, kế đến là các số âm tăng dần, cuối cùng là các số 0."
   ]
  },
  {
   "cell_type": "code",
   "execution_count": 16,
   "id": "ba3a6261-b530-4ea8-a59a-5e3bd5ce96ed",
   "metadata": {},
   "outputs": [
    {
     "name": "stdout",
     "output_type": "stream",
     "text": [
      "5a. Các số nguyên tố: [3, 5, 19]\n",
      "5b. Mảng dương: [1, 3, 5, 14, 19, 24]  | Mảng còn lại: []\n",
      "5c. Mảng giảm dần: [24, 19, 14, 5, 3, 1]\n",
      "5d. Mảng sắp xếp đặc biệt: [24, 19, 14, 5, 3, 1]\n"
     ]
    }
   ],
   "source": [
    "def tach_nguyento(arr):\n",
    "    b = [x for x in arr if is_prime(x)]\n",
    "    return b\n",
    "\n",
    "def tach_duong_am(arr):\n",
    "    b = [x for x in arr if x > 0]\n",
    "    c = [x for x in arr if x <= 0]\n",
    "    return b, c\n",
    "\n",
    "def sap_xep_giam(arr):\n",
    "    return sorted(arr, reverse=True)\n",
    "\n",
    "def sap_xep_dac_biet(arr):\n",
    "    duong = sorted([x for x in arr if x > 0], reverse=True)\n",
    "    am = sorted([x for x in arr if x < 0])\n",
    "    zero = [0] * arr.count(0)\n",
    "    return duong + am + zero\n",
    "\n",
    "print(\"5a. Các số nguyên tố:\", tach_nguyento(arr))\n",
    "b, c = tach_duong_am(arr)\n",
    "print(\"5b. Mảng dương:\", b, \" | Mảng còn lại:\", c)\n",
    "print(\"5c. Mảng giảm dần:\", sap_xep_giam(arr))\n",
    "print(\"5d. Mảng sắp xếp đặc biệt:\", sap_xep_dac_biet(arr))"
   ]
  },
  {
   "cell_type": "markdown",
   "id": "e89c9b6a-60a0-479b-b563-2b80a50e33a9",
   "metadata": {},
   "source": [
    "6. Các thao tác thêm/xóa/sửa\n",
    "- a. Sửa các số nguyên tố có trong mảng thành số 0\n",
    "- b. Chèn số 0 đằng sau các số nguyên tố trong mảng\n",
    "- c. Xóa tất cả số nguyên tố có trong mảng"
   ]
  },
  {
   "cell_type": "code",
   "execution_count": 17,
   "id": "de711111-451d-4812-9fb8-678008445faa",
   "metadata": {},
   "outputs": [
    {
     "name": "stdout",
     "output_type": "stream",
     "text": [
      "6a. Sửa nguyên tố thành 0: [1, 0, 0, 14, 0, 24]\n",
      "6b. Chèn 0 sau nguyên tố: [1, 3, 0, 5, 0, 14, 19, 0, 24]\n",
      "6c. Xóa nguyên tố: [1, 14, 24]\n"
     ]
    }
   ],
   "source": [
    "def sua_nguyento_ve_0(arr):\n",
    "    return [0 if is_prime(x) else x for x in arr]\n",
    "\n",
    "def chen_0_sau_nguyento(arr):\n",
    "    b = []\n",
    "    for x in arr:\n",
    "        b.append(x)\n",
    "        if is_prime(x):\n",
    "            b.append(0)\n",
    "    return b\n",
    "\n",
    "def xoa_nguyento(arr):\n",
    "    return [x for x in arr if not is_prime(x)]\n",
    "\n",
    "print(\"6a. Sửa nguyên tố thành 0:\", sua_nguyento_ve_0(arr))\n",
    "print(\"6b. Chèn 0 sau nguyên tố:\", chen_0_sau_nguyento(arr))\n",
    "print(\"6c. Xóa nguyên tố:\", xoa_nguyento(arr))"
   ]
  },
  {
   "cell_type": "markdown",
   "id": "b5ff8c96-8c9e-42d4-a4ac-b27f4185cc9a",
   "metadata": {
    "jp-MarkdownHeadingCollapsed": true
   },
   "source": [
    "## **Mảng nhiều chiều**"
   ]
  },
  {
   "cell_type": "markdown",
   "id": "96e93788-d2f3-40cf-acfd-234ba856da2d",
   "metadata": {
    "jp-MarkdownHeadingCollapsed": true
   },
   "source": [
    "#### 1. One-dimensional Arrays"
   ]
  },
  {
   "cell_type": "code",
   "execution_count": 18,
   "id": "3abc22ba-68bd-4b1e-a6ee-8ed0fcb99d46",
   "metadata": {},
   "outputs": [
    {
     "name": "stdout",
     "output_type": "stream",
     "text": [
      "Trước xử lý: [20, 12, 25, 8, 36, 9]\n",
      "Sau xử lý: [40, 24, 50, 16, 72, 18]\n"
     ]
    }
   ],
   "source": [
    "# Khai báo nếu biết số lượng trước phần tử\n",
    "numbers = [ 20, 12, 25, 8, 36, 9 ]\n",
    "\n",
    "# Hàm xử lý mảng\n",
    "def some_fn(numbers):\n",
    "    for i in range(len(numbers)):\n",
    "        numbers[i] = numbers[i] * 2\n",
    "    pass # some_fn\n",
    "    \n",
    "# Xử lý mảng\n",
    "print(f'Trước xử lý: {numbers}')\n",
    "some_fn(numbers)\n",
    "print(f'Sau xử lý: {numbers}')"
   ]
  },
  {
   "cell_type": "code",
   "execution_count": 19,
   "id": "e31df911-c19e-4fd3-be5e-1a1a615e4a7f",
   "metadata": {},
   "outputs": [
    {
     "name": "stdout",
     "output_type": "stream",
     "text": [
      "numbers: [10, 12, 13, 10, 12]\n"
     ]
    }
   ],
   "source": [
    "import random\n",
    "random.seed(49)\n",
    "\n",
    "# Nhập mảng ngẫu nhiên\n",
    "numbers = [random.randint(10, 15) for _ in range(5)]\n",
    "print(f'numbers: {numbers}')"
   ]
  },
  {
   "cell_type": "code",
   "execution_count": 22,
   "id": "d0ce915a-3986-4262-9324-a4a693e5404e",
   "metadata": {},
   "outputs": [
    {
     "name": "stdin",
     "output_type": "stream",
     "text": [
      "Input 0: 9\n"
     ]
    },
    {
     "name": "stdout",
     "output_type": "stream",
     "text": [
      "numbers: [9]\n"
     ]
    }
   ],
   "source": [
    "import random\n",
    "random.seed(49)\n",
    "\n",
    "# Nhập mảng từ bàn phím\n",
    "def input_array(size):\n",
    "    numbers = []\n",
    "    for i in range(size):\n",
    "        numbers.append(int(input(f\"Input {i}:\")))\n",
    "        return numbers\n",
    "\n",
    "numbers = input_array(5)\n",
    "print(f'numbers: {numbers}')"
   ]
  },
  {
   "cell_type": "code",
   "execution_count": 23,
   "id": "b425ee64-d06a-4196-be2d-f72187536475",
   "metadata": {},
   "outputs": [
    {
     "name": "stdout",
     "output_type": "stream",
     "text": [
      "Total all: 110\n",
      "Total from 0 to 2: 57\n",
      "Total from 1 to -1: 81\n"
     ]
    }
   ],
   "source": [
    "# Xử lý mảng\n",
    "def sumArray(arr):\n",
    "    total = 0\n",
    "    for i in range(len(arr)):\n",
    "        total = total + arr[i]\n",
    "    return total\n",
    "    pass # sumArray\n",
    "# Gọi mảng\n",
    "arr = [20, 12, 25, 8, 36, 9]\n",
    "print(f'Total all: {sumArray(arr)}')\n",
    "print(f'Total from 0 to 2: {sumArray(arr[:3])}')\n",
    "print(f'Total from 1 to -1: {sumArray(arr[1:-1])}')"
   ]
  },
  {
   "cell_type": "code",
   "execution_count": 24,
   "id": "748126d9-f6cd-4f6e-8a15-be19da2c4f45",
   "metadata": {},
   "outputs": [
    {
     "name": "stdout",
     "output_type": "stream",
     "text": [
      "36\n"
     ]
    }
   ],
   "source": [
    "def findMax(arr):\n",
    "    max = None\n",
    "    for i in range(len(arr)):\n",
    "        if max is None or arr[i] > max:\n",
    "            max = arr[i]\n",
    "    return max\n",
    "    pass # findMax\n",
    "\n",
    "arr = [20, 12, 25, 8, 36, 9]\n",
    "print(findMax(arr))"
   ]
  },
  {
   "cell_type": "code",
   "execution_count": 25,
   "id": "5644a33d-99f3-4350-997e-68deec0c9d46",
   "metadata": {},
   "outputs": [
    {
     "name": "stdout",
     "output_type": "stream",
     "text": [
      "110\n"
     ]
    }
   ],
   "source": [
    "def sumArr(arr):\n",
    "    total = 0\n",
    "    for i in range(len(arr)):\n",
    "        total = total + arr[i]\n",
    "    return total\n",
    "    pass # sumArr\n",
    "\n",
    "arr = [20, 12, 25, 8, 36, 9]\n",
    "print(sumArr(arr))"
   ]
  },
  {
   "cell_type": "code",
   "execution_count": 26,
   "id": "a7dbbb88-1b3d-4748-bd19-81e8d17c58d8",
   "metadata": {},
   "outputs": [
    {
     "name": "stdout",
     "output_type": "stream",
     "text": [
      "81\n"
     ]
    }
   ],
   "source": [
    "def sumAlt(arr):\n",
    "    sum = 0\n",
    "    for i in range(0,len(arr),2):\n",
    "        sum += arr[i]\n",
    "    return sum\n",
    "    pass # sumAlt\n",
    "\n",
    "arr = [20, 12, 25, 8, 36, 9]\n",
    "print(sumAlt(arr))"
   ]
  },
  {
   "cell_type": "code",
   "execution_count": 27,
   "id": "12cfcbe9-fa8d-4dc2-8c3e-f04273bc5cec",
   "metadata": {},
   "outputs": [
    {
     "name": "stdout",
     "output_type": "stream",
     "text": [
      "34\n"
     ]
    }
   ],
   "source": [
    "def sumOdd(arr):\n",
    "    sum = 0\n",
    "    for i in range(len(arr)):\n",
    "        if arr[i]%2 == 1:\n",
    "            sum += arr[i]\n",
    "    return sum\n",
    "    pass # sumOdd\n",
    "\n",
    "arr = [20, 12, 25, 8, 36, 9]\n",
    "print(sumOdd(arr))"
   ]
  },
  {
   "cell_type": "code",
   "execution_count": 28,
   "id": "569f3fd3-0d0a-4660-b567-e3b31b82c125",
   "metadata": {},
   "outputs": [
    {
     "name": "stdout",
     "output_type": "stream",
     "text": [
      "sumLast3([]) = 0\n",
      "sumLast3([5]) = 5\n",
      "sumLast3([12, -3]) = 9\n",
      "sumLast3([20, 12, 25, 8, 36, 9]) = 53\n",
      "sumLast3([-1, 2, -3, 4, -5, 6, -7, 8, 9, 10]) = 27\n"
     ]
    }
   ],
   "source": [
    "def sumLast3(arr):\n",
    "    count, sum = 0, 0\n",
    "    i = len(arr)-1\n",
    "    while i>=0 and count < 3:\n",
    "        sum += arr[i]\n",
    "        count = count + 1\n",
    "        i = i - 1\n",
    "        pass # for\n",
    "    return sum\n",
    "\n",
    "a = []; print(f'sumLast3({a}) = {sumLast3(a)}')\n",
    "a = [5]; print(f'sumLast3({a}) = {sumLast3(a)}')\n",
    "a = [12, -3]; print(f'sumLast3({a}) = {sumLast3(a)}')\n",
    "a = [20, 12, 25, 8, 36, 9]; print(f'sumLast3({a}) = {sumLast3(a)}')\n",
    "a = [-1, 2, -3, 4, -5, 6, -7, 8, 9, 10 ]; print(f'sumLast3({a}) = {sumLast3(a)}')"
   ]
  },
  {
   "cell_type": "code",
   "execution_count": 29,
   "id": "7f8a8cc1-50d8-48b0-a884-c02fdd9ca9bd",
   "metadata": {},
   "outputs": [
    {
     "name": "stdout",
     "output_type": "stream",
     "text": [
      "minPairDiff([20, 12, 25, 8, 36, 9]) = 1\n",
      "minPairDiff([431, 945, 64, 841, 783, 107, 598]) = 43\n"
     ]
    }
   ],
   "source": [
    "def minPairDiff(arr):\n",
    "    minDiff = abs(arr[0] - arr[1]) # init min diff\n",
    "    for i in range(len(arr)-1):\n",
    "        for j in range(i+1, len(arr)):\n",
    "            diff = abs(arr[i] - arr[j])\n",
    "            if diff < minDiff:\n",
    "                minDiff = diff\n",
    "        pass # i\n",
    "    return minDiff\n",
    "    pass # minPairDiff\n",
    "    \n",
    "a = [ 20, 12, 25, 8, 36, 9]; print(f'minPairDiff({a}) = {minPairDiff(a)}')\n",
    "a = [ 431, 945, 64, 841, 783, 107, 598 ]; print(f'minPairDiff({a}) = {minPairDiff(a)}')"
   ]
  },
  {
   "cell_type": "markdown",
   "id": "a57bbc27-cd45-4d78-9475-557848306d59",
   "metadata": {
    "jp-MarkdownHeadingCollapsed": true
   },
   "source": [
    "#### 2. Multi-dimensional Arrays"
   ]
  },
  {
   "cell_type": "code",
   "execution_count": 30,
   "id": "9350edd0-08ee-439c-9a7c-76b5c689bfe4",
   "metadata": {},
   "outputs": [
    {
     "name": "stdout",
     "output_type": "stream",
     "text": [
      "Print a: \n",
      "2 0 0 0 0 \n",
      "16 0 0 0 0 \n",
      "0 0 0 0 9 \n",
      "\n"
     ]
    }
   ],
   "source": [
    "# array with 3 rows, 5 columns\n",
    "a = [[0 for _ in range(5)] for _ in range(3)]\n",
    "a[0][0] = 2\n",
    "a[2][4] = 9\n",
    "a[1][0] = a[2][4] + 7\n",
    "\n",
    "def print2darr(arr):\n",
    "    for i in range(len(arr)):\n",
    "        for j in range(len(arr[i])):\n",
    "            print(f'{arr[i][j]}', end = \" \")\n",
    "        print()\n",
    "    print()\n",
    "    pass # print2darr\n",
    "\n",
    "print('Print a: '); print2darr(a);"
   ]
  },
  {
   "cell_type": "code",
   "execution_count": 31,
   "id": "e0620aed-4380-4f24-bd0e-c4ca90121e2b",
   "metadata": {},
   "outputs": [
    {
     "name": "stdout",
     "output_type": "stream",
     "text": [
      "Print maxtrix: \n",
      "3 8 2 \n",
      "-5 2 0 \n",
      "1 -4 9 \n",
      "\n",
      "Print temperatures: \n",
      "6.8 35.2 42.3 95.5 11.3 33.1 77.0 56.7 52.3 82.7 5.0 69.6 4.5 77.6 75.3 28.2 15.8 46.5 75.1 4.6 64.5 55.9 51.6 22.4 87.6 91.2 61.7 29.2 58.7 38.0 40.9 \n",
      "3.1 25.4 74.3 14.1 9.8 43.3 74.6 38.5 33.4 79.0 36.6 27.4 67.1 40.8 98.4 96.8 62.9 63.5 5.3 67.7 42.2 70.4 55.7 93.1 62.8 21.1 66.5 78.8 93.1 6.7 57.6 \n",
      "26.1 55.3 61.0 54.5 32.6 13.8 49.9 96.0 22.7 33.4 26.1 59.6 44.7 98.3 62.6 50.1 70.9 71.9 51.1 78.1 38.8 27.5 98.9 94.0 79.5 70.6 56.1 2.2 55.5 93.4 15.2 \n",
      "1.1 20.4 94.7 8.6 87.4 96.4 96.5 84.8 31.0 6.4 5.4 70.9 71.9 38.3 71.1 67.9 5.9 44.7 87.4 33.5 86.3 7.5 48.6 19.7 77.9 43.6 30.4 73.4 49.3 16.2 26.7 \n",
      "45.0 34.9 98.9 10.6 10.5 73.2 41.6 50.5 87.5 46.7 66.6 9.2 97.2 68.9 61.8 7.3 66.2 94.9 23.7 24.9 41.6 34.7 53.7 57.7 89.2 0.9 68.4 18.2 38.0 36.8 90.1 \n",
      "10.5 62.8 87.1 74.1 11.9 17.8 60.7 26.9 77.5 61.1 43.8 8.3 26.2 79.7 94.1 36.8 98.4 72.4 69.2 68.9 99.8 52.9 73.9 13.7 46.6 68.0 12.5 78.4 57.9 47.4 92.8 \n",
      "87.4 58.5 13.2 75.7 67.6 38.5 62.6 2.7 26.1 52.3 11.3 35.1 61.4 57.9 32.0 99.6 43.3 97.2 96.5 93.6 74.0 66.4 53.1 53.9 87.6 55.1 74.7 94.0 24.3 0.8 23.1 \n",
      "3.4 32.9 7.9 49.9 46.1 26.5 83.1 92.2 83.0 57.3 3.1 97.5 42.3 74.0 70.5 83.6 52.8 26.4 90.6 11.9 44.9 22.4 86.8 87.6 3.0 90.2 48.9 60.6 98.2 15.6 26.7 \n",
      "41.0 17.5 27.6 95.9 59.6 22.8 77.9 17.0 87.9 22.4 61.9 94.6 31.9 36.5 94.8 21.9 4.7 11.8 43.8 4.1 71.8 12.6 9.1 93.9 9.0 51.9 43.9 98.9 20.4 52.2 70.4 \n",
      "28.4 95.8 28.3 19.5 48.0 44.9 65.6 92.7 30.1 32.0 74.0 89.4 1.3 30.9 68.8 67.6 20.5 84.8 12.8 66.2 84.4 73.2 77.3 33.7 23.3 11.9 3.6 9.9 74.4 99.0 93.7 \n",
      "34.7 9.8 63.2 97.5 42.7 78.9 64.5 24.0 93.2 4.9 87.7 71.6 23.4 36.5 53.8 28.1 8.4 99.8 79.6 13.4 69.4 34.5 87.2 57.1 10.5 96.0 22.5 6.4 9.8 7.0 48.1 \n",
      "8.6 72.3 25.0 24.5 34.0 50.9 47.8 32.1 36.7 72.2 20.2 31.9 56.8 5.7 18.3 49.6 29.9 45.5 8.9 81.5 6.5 72.5 46.6 25.4 42.9 65.7 73.3 93.7 76.3 76.3 78.6 \n",
      "\n",
      "Print marks[0]: \n",
      "76 80 62 \n",
      "60 72 48 \n",
      "76 80 62 \n",
      "60 72 48 \n",
      "\n",
      "Print marks[1]: \n",
      "76 80 62 \n",
      "60 72 48 \n",
      "76 80 62 \n",
      "60 72 48 \n",
      "\n",
      "Print marks[2]: \n",
      "76 80 62 \n",
      "60 72 48 \n",
      "76 80 62 \n",
      "60 72 48 \n",
      "\n",
      "Print marks[3]: \n",
      "76 80 62 \n",
      "60 72 48 \n",
      "76 80 62 \n",
      "60 72 48 \n",
      "\n"
     ]
    }
   ],
   "source": [
    "import random\n",
    "maxtrix = [[3, 8, 2], [-5, 2, 0], [1, -4, 9]]\n",
    "temperatures = [[random.randint(0, 1000)/10 for _ in range (31)] for _ in range(12)]\n",
    "marks = [\n",
    "    [[76, 80, 62], [60, 72, 48], [76, 80, 62], [60, 72, 48]], # Emily\n",
    "    [[76, 80, 62], [60, 72, 48], [76, 80, 62], [60, 72, 48]], # Zhass\n",
    "    [[76, 80, 62], [60, 72, 48], [76, 80, 62], [60, 72, 48]], # Jerna\n",
    "    [[76, 80, 62], [60, 72, 48], [76, 80, 62], [60, 72, 48]], # Suise\n",
    "]\n",
    "\n",
    "print('Print maxtrix: '); print2darr(maxtrix)\n",
    "print('Print temperatures: '); print2darr(temperatures);\n",
    "for i in range(len(marks)):\n",
    "    print(f'Print marks[{i}]: ')\n",
    "    print2darr(marks[i]); "
   ]
  },
  {
   "cell_type": "code",
   "execution_count": 32,
   "id": "dfaa5167-03be-4fc1-b3c8-b812c977b7dd",
   "metadata": {},
   "outputs": [
    {
     "name": "stdout",
     "output_type": "stream",
     "text": [
      "Sum is 26\n",
      "Sum is 14\n"
     ]
    }
   ],
   "source": [
    "# To sum all elements in arr\n",
    "def sumArray(arr):\n",
    "    total = 0\n",
    "    for i in range(len(arr)):\n",
    "        for j in range(len(arr[i])):\n",
    "            total = total + arr[i][j]\n",
    "    return total\n",
    "    pass # sumArray\n",
    "    \n",
    "# slicer index in 2d-array\n",
    "foo= [ [3,7,1], [2,1], [4,6,2] ]\n",
    "print(\"Sum is %d\" % sumArray(foo)) # sum all\n",
    "print(\"Sum is %d\" % sumArray(foo[:2])) # sum on row 0, 1"
   ]
  },
  {
   "cell_type": "markdown",
   "id": "dd6f34ee-92c9-4b76-8785-350a4d051678",
   "metadata": {},
   "source": [
    "## **Danh sách (List)**"
   ]
  },
  {
   "cell_type": "code",
   "execution_count": 34,
   "id": "5acbb271-ee0e-4878-a7aa-8b4aaa0693fa",
   "metadata": {},
   "outputs": [
    {
     "name": "stdout",
     "output_type": "stream",
     "text": [
      "Two standard ways to create an empty list:\n",
      "<class 'list'> 0 []\n",
      "<class 'list'> 0 []\n",
      "True\n"
     ]
    }
   ],
   "source": [
    "print(\"Two standard ways to create an empty list:\")\n",
    "a = [ ]\n",
    "b = list()\n",
    "print(type(a), len(a), a)\n",
    "print(type(b), len(b), b) \n",
    "print(a == b)"
   ]
  },
  {
   "cell_type": "code",
   "execution_count": 35,
   "id": "3fbcf156-0b6d-4d61-9989-dd108ce68ed1",
   "metadata": {},
   "outputs": [
    {
     "name": "stdout",
     "output_type": "stream",
     "text": [
      "<class 'list'> 1 ['hello']\n",
      "<class 'list'> 1 [42]\n",
      "False\n"
     ]
    }
   ],
   "source": [
    "a = [ \"hello\" ]\n",
    "b = [ 42 ]\n",
    "print(type(a), len(a), a)\n",
    "print(type(b), len(b), b)\n",
    "print(a == b)"
   ]
  },
  {
   "cell_type": "code",
   "execution_count": 36,
   "id": "adfe7de0-8762-4652-96a8-636eb1e18949",
   "metadata": {},
   "outputs": [
    {
     "name": "stdout",
     "output_type": "stream",
     "text": [
      "<class 'list'> 4 [2, 3, 5, 7]\n",
      "<class 'list'> 5 [0, 1, 2, 3, 4]\n",
      "<class 'list'> 3 ['mixed types', True, 42]\n"
     ]
    }
   ],
   "source": [
    "a = [2, 3, 5, 7]\n",
    "b = list(range(5))\n",
    "c = [\"mixed types\", True, 42]\n",
    "print(type(a), len(a), a)\n",
    "print(type(b), len(b), b)\n",
    "print(type(c), len(c), c)"
   ]
  },
  {
   "cell_type": "code",
   "execution_count": 37,
   "id": "cbc13125-254e-40e0-8781-a3ba86925899",
   "metadata": {},
   "outputs": [
    {
     "name": "stdout",
     "output_type": "stream",
     "text": [
      "<class 'list'> 10 [0, 0, 0, 0, 0, 0, 0, 0, 0, 0]\n",
      "<class 'list'> 10 [0, 1, 2, 3, 4, 5, 6, 7, 8, 9]\n"
     ]
    }
   ],
   "source": [
    "n = 10\n",
    "a = [0] * n\n",
    "b = list(range(n))\n",
    "print(type(a), len(a), a)\n",
    "print(type(b), len(b), b)"
   ]
  },
  {
   "cell_type": "code",
   "execution_count": 45,
   "id": "64357d6f-e107-448c-b502-4581bccab400",
   "metadata": {},
   "outputs": [
    {
     "name": "stdout",
     "output_type": "stream",
     "text": [
      "a =  [2, 3, 5, 2]\n",
      "len = 4\n",
      "min = 2\n",
      "max = 5\n",
      "sum = 12\n"
     ]
    }
   ],
   "source": [
    "## len(), min(), max(), sum()\n",
    "a = [ 2, 3, 5, 2 ]\n",
    "print(\"a = \", a)\n",
    "print(\"len =\", len(a))\n",
    "print(\"min =\", min(a))\n",
    "print(\"max =\", max(a))\n",
    "print(\"sum =\", sum(a))"
   ]
  },
  {
   "cell_type": "code",
   "execution_count": 46,
   "id": "df745375-6a3c-4556-b9e9-916da11bcc31",
   "metadata": {},
   "outputs": [
    {
     "name": "stdout",
     "output_type": "stream",
     "text": [
      "a = [2, 3, 5, 7, 11, 13]\n",
      "a[0] = 2\n",
      "a[2] = 5\n",
      "a[-1] = 13\n",
      "a[-3] = 7\n",
      "a[0:2] = [2, 3]\n",
      "a[1:4] = [3, 5, 7]\n",
      "a[1:6:2] = [3, 7, 13]\n"
     ]
    }
   ],
   "source": [
    "## Chỉ số trong List : dùng toán tử []\n",
    "a = [2, 3, 5, 7, 11, 13]\n",
    "print(\"a =\", a)\n",
    "print(\"a[0] =\", a[0])\n",
    "print(\"a[2] =\", a[2])\n",
    "\n",
    "# Chi so am\n",
    "print(\"a[-1] =\", a[-1])\n",
    "print(\"a[-3] =\", a[-3])\n",
    "\n",
    "# mot khoang nam trong list\n",
    "print(\"a[0:2] =\", a[0:2])\n",
    "print(\"a[1:4] =\", a[1:4])\n",
    "print(\"a[1:6:2] =\", a[1:6:2])"
   ]
  },
  {
   "cell_type": "code",
   "execution_count": 47,
   "id": "9c719f3e-db6e-469c-8abe-1634a9f34455",
   "metadata": {},
   "outputs": [
    {
     "name": "stdout",
     "output_type": "stream",
     "text": [
      "[42, 99, 5, 7]\n",
      "[42, 99, 5, 7]\n"
     ]
    }
   ],
   "source": [
    "## List Aliases: Alias là khả năng mà tại 1 ô nhớ có nhiều đối tượng cùng trỏ tới\n",
    "\n",
    "# Tao mot list a\n",
    "a = [ 2, 3, 5, 7 ]\n",
    "# Tao mot bi danh den list a\n",
    "b = a\n",
    "# Co hai tham chieu cung mot list\n",
    "a[0] = 42\n",
    "b[1] = 99\n",
    "print(a)\n",
    "print(b)"
   ]
  },
  {
   "cell_type": "code",
   "execution_count": 41,
   "id": "01b7bb58-f43d-47a8-82f0-fdd5ba56e2cd",
   "metadata": {},
   "outputs": [
    {
     "name": "stdout",
     "output_type": "stream",
     "text": [
      "initially:\n",
      " a==b : True\n",
      " a==c : True\n",
      " a is b: True\n",
      " a is c: False\n",
      "After changing a[0] to 42\n",
      " a= [42, 3, 5, 7]\n",
      " b= [42, 3, 5, 7]\n",
      " c= [2, 3, 5, 7]\n",
      " a==b : True\n",
      " a==c : False\n",
      " a is b: True\n",
      " a is c: False\n"
     ]
    }
   ],
   "source": [
    "a = [ 2, 3, 5, 7 ]\n",
    "b = a\n",
    "c = [ 2, 3, 5, 7 ]\n",
    "print(\"initially:\")\n",
    "print(\" a==b :\", a==b)\n",
    "print(\" a==c :\", a==c)\n",
    "print(\" a is b:\", a is b)\n",
    "print(\" a is c:\", a is c)\n",
    "a[0] = 42\n",
    "print(\"After changing a[0] to 42\")\n",
    "print(\" a=\",a)\n",
    "print(\" b=\",b)\n",
    "print(\" c=\",c)\n",
    "print(\" a==b :\", a==b)\n",
    "print(\" a==c :\", a==c)\n",
    "print(\" a is b:\", a is b)\n",
    "print(\" a is c:\", a is c)"
   ]
  },
  {
   "cell_type": "code",
   "execution_count": 48,
   "id": "7a5d81b8-00c6-4ee7-9d24-d5f92d7b3c2e",
   "metadata": {},
   "outputs": [
    {
     "name": "stdout",
     "output_type": "stream",
     "text": [
      "a = [2, 3, 5, 2, 6, 2, 2, 7]\n",
      "2 in a = True\n",
      "4 in a = False\n",
      "a = [2, 3, 5, 2, 6, 2, 2, 7]\n",
      "2 not in a = False\n",
      "4 not in a = True\n"
     ]
    }
   ],
   "source": [
    "## Tìm phần tử trong list: in và not in\n",
    "a = [ 2, 3, 5, 2, 6, 2, 2, 7 ]\n",
    "print(\"a =\", a)\n",
    "print(\"2 in a =\", (2 in a))\n",
    "print(\"4 in a =\", (4 in a))\n",
    "\n",
    "a = [ 2, 3, 5, 2, 6, 2, 2, 7 ]\n",
    "print(\"a =\", a)\n",
    "print(\"2 not in a =\", (2 not in a))\n",
    "print(\"4 not in a =\", (4 not in a))"
   ]
  },
  {
   "cell_type": "code",
   "execution_count": 49,
   "id": "337ffb3b-a4e8-43c4-8494-1a7cd4266eae",
   "metadata": {},
   "outputs": [
    {
     "name": "stdout",
     "output_type": "stream",
     "text": [
      "a = [2, 3, 5, 2, 6, 2, 2, 7]\n",
      "a.count(1) = 0\n",
      "a.count(2) = 4\n",
      "a.count(3) = 1\n"
     ]
    }
   ],
   "source": [
    "## Đếm số lần xuất hiện: list.count(item)\n",
    "a = [ 2, 3, 5, 2, 6, 2, 2, 7 ]\n",
    "print(\"a =\", a)\n",
    "print(\"a.count(1) =\", a.count(1))\n",
    "print(\"a.count(2) =\", a.count(2))\n",
    "print(\"a.count(3) =\", a.count(3))"
   ]
  },
  {
   "cell_type": "code",
   "execution_count": 50,
   "id": "9189b4b5-ffe5-47e2-b233-6a139318830d",
   "metadata": {},
   "outputs": [
    {
     "name": "stdout",
     "output_type": "stream",
     "text": [
      "a = [2, 3, 5, 2, 6, 2, 2, 7]\n",
      "a.index(6) = 4\n",
      "a.index(2) = 0\n",
      "a.index(2,1) = 3\n",
      "a.index(2,4) = 5\n"
     ]
    },
    {
     "ename": "ValueError",
     "evalue": "2 is not in list",
     "output_type": "error",
     "traceback": [
      "\u001b[31m---------------------------------------------------------------------------\u001b[39m",
      "\u001b[31mValueError\u001b[39m                                Traceback (most recent call last)",
      "\u001b[36mCell\u001b[39m\u001b[36m \u001b[39m\u001b[32mIn[50]\u001b[39m\u001b[32m, line 8\u001b[39m\n\u001b[32m      6\u001b[39m \u001b[38;5;28mprint\u001b[39m(\u001b[33m\"\u001b[39m\u001b[33ma.index(2,1) =\u001b[39m\u001b[33m\"\u001b[39m, a.index(\u001b[32m2\u001b[39m,\u001b[32m1\u001b[39m))\n\u001b[32m      7\u001b[39m \u001b[38;5;28mprint\u001b[39m(\u001b[33m\"\u001b[39m\u001b[33ma.index(2,4) =\u001b[39m\u001b[33m\"\u001b[39m, a.index(\u001b[32m2\u001b[39m,\u001b[32m4\u001b[39m))\n\u001b[32m----> \u001b[39m\u001b[32m8\u001b[39m \u001b[38;5;28mprint\u001b[39m(\u001b[33m\"\u001b[39m\u001b[33ma.index(2,7) =\u001b[39m\u001b[33m\"\u001b[39m, \u001b[43ma\u001b[49m\u001b[43m.\u001b[49m\u001b[43mindex\u001b[49m\u001b[43m(\u001b[49m\u001b[32;43m2\u001b[39;49m\u001b[43m,\u001b[49m\u001b[32;43m7\u001b[39;49m\u001b[43m)\u001b[49m)\n",
      "\u001b[31mValueError\u001b[39m: 2 is not in list"
     ]
    }
   ],
   "source": [
    "## Tìm chỉ số của một phần tử: list.index(item) và list.index(item, start)\n",
    "a = [ 2, 3, 5, 2, 6, 2, 2, 7 ]\n",
    "print(\"a =\", a)\n",
    "print(\"a.index(6) =\", a.index(6))\n",
    "print(\"a.index(2) =\", a.index(2))\n",
    "print(\"a.index(2,1) =\", a.index(2,1))\n",
    "print(\"a.index(2,4) =\", a.index(2,4))\n",
    "print(\"a.index(2,7) =\", a.index(2,7))"
   ]
  },
  {
   "cell_type": "code",
   "execution_count": null,
   "id": "ed9a437b-450b-4400-8463-8d24ea454f87",
   "metadata": {},
   "outputs": [],
   "source": []
  }
 ],
 "metadata": {
  "kernelspec": {
   "display_name": "Python 3 (ipykernel)",
   "language": "python",
   "name": "python3"
  },
  "language_info": {
   "codemirror_mode": {
    "name": "ipython",
    "version": 3
   },
   "file_extension": ".py",
   "mimetype": "text/x-python",
   "name": "python",
   "nbconvert_exporter": "python",
   "pygments_lexer": "ipython3",
   "version": "3.12.1"
  }
 },
 "nbformat": 4,
 "nbformat_minor": 5
}
