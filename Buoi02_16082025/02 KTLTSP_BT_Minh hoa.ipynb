{
 "cells": [
  {
   "cell_type": "markdown",
   "id": "f41001f2-fa24-4a0d-b284-ed8539548018",
   "metadata": {},
   "source": [
    "## **BÀI TẬP MINH HỌA**"
   ]
  },
  {
   "cell_type": "markdown",
   "id": "48d83173-95e4-49ab-aa25-a31b7f5841c3",
   "metadata": {
    "jp-MarkdownHeadingCollapsed": true
   },
   "source": [
    "### **THỰC HÀNH 1**"
   ]
  },
  {
   "cell_type": "markdown",
   "id": "f2b1d393-3def-4d7b-b893-d2d9b7cecc3e",
   "metadata": {},
   "source": [
    "#### **Câu 1.** Viết chương trình nhập số A và kiểm tra xem A có phải là số nguyên tố hay không? "
   ]
  },
  {
   "cell_type": "code",
   "execution_count": 3,
   "id": "3d31e976-486d-4a81-8459-0e3907bc6d70",
   "metadata": {},
   "outputs": [
    {
     "name": "stdin",
     "output_type": "stream",
     "text": [
      "Nhap vao so nguyen: 5\n"
     ]
    },
    {
     "name": "stdout",
     "output_type": "stream",
     "text": [
      "5 la so nguyen to\n"
     ]
    }
   ],
   "source": [
    "## Hàm kiểm tra số nguyên tố\n",
    "def ktsnt(n):\n",
    "    if n < 2: # 0, 1 không phải là số nguyên tố\n",
    "        return False\n",
    "    for i in range(2, int(n**(0.5))+1):  # căn bậc hai của n\n",
    "        if (n % i == 0):\n",
    "            return False\n",
    "    return True\n",
    "### Nhập vào số nguyên tố cần kiểm tra\n",
    "a = int(input(\"Nhap vao so nguyen:\"))\n",
    "if ktsnt(a):\n",
    "    print(\"%d la so nguyen to\" % a)\n",
    "else:\n",
    "    print(\"%d khong la so nguyen to\" % a)"
   ]
  },
  {
   "cell_type": "markdown",
   "id": "56ecae80-34e5-487e-9bf3-dfed22842f63",
   "metadata": {},
   "source": [
    "**1-a) Nhập vào N, liệt kê tất cả các số nguyên tố nhỏ hơn N**"
   ]
  },
  {
   "cell_type": "code",
   "execution_count": 2,
   "id": "0f0e6ef8-e5ef-4442-a4c4-55c9b93a1bc6",
   "metadata": {},
   "outputs": [
    {
     "name": "stdout",
     "output_type": "stream",
     "text": [
      "2  \n",
      "3  \n",
      "5  \n",
      "7  \n",
      "11  \n",
      "13  \n",
      "17  \n",
      "19  \n"
     ]
    }
   ],
   "source": [
    "### Hàm liệt kê các số nguyên tố nhỏ hơn N\n",
    "def lietkesnt(k):\n",
    "    if k <= 2: \n",
    "        print(\"khong co so nguyen to thoa yeu cau\")\n",
    "    else:\n",
    "        for i in range(2,k):\n",
    "            if ktsnt(i):\n",
    "                print(\"%d  \" %i)\n",
    "n = 20\n",
    "lietkesnt(n)"
   ]
  },
  {
   "cell_type": "markdown",
   "id": "f35586f1-8ced-4baf-a7ea-8e7a749f96eb",
   "metadata": {},
   "source": [
    "**1-b) In ra M số nguyên tố đầu tiên**"
   ]
  },
  {
   "cell_type": "code",
   "execution_count": 4,
   "id": "17a014f0-eafc-48ff-aaf0-0bba301dba2d",
   "metadata": {},
   "outputs": [
    {
     "name": "stdout",
     "output_type": "stream",
     "text": [
      "2 \n",
      "3 \n",
      "5 \n",
      "7 \n",
      "11 \n",
      "13 \n",
      "17 \n",
      "19 \n",
      "23 \n",
      "29 \n"
     ]
    }
   ],
   "source": [
    "### Hàm liệt kê M\n",
    "def lietkeMsnt(M):\n",
    "    bien_dem = 0  # đếm: từ 0 đến M-1\n",
    "    t = 2 # 0 và 1 không là số nguyên tố \n",
    "    while(bien_dem < M):\n",
    "        if ktsnt(t):\n",
    "            print(\"%d \" %t)\n",
    "            bien_dem +=1\n",
    "        t+=1 \n",
    "        \n",
    "M=10 \n",
    "lietkeMsnt(M)"
   ]
  },
  {
   "cell_type": "markdown",
   "id": "ac2e1ecc-9e69-4914-b5d8-496412cdce9b",
   "metadata": {
    "jp-MarkdownHeadingCollapsed": true
   },
   "source": [
    "#### **Câu 2**  Viết chương trình in ra tất cả số chẵn trong khoảng (M,N) . N, M nhập từ bàn phím."
   ]
  },
  {
   "cell_type": "code",
   "execution_count": 5,
   "id": "865dd0fc-ecce-40b2-bce5-9babf3249ad8",
   "metadata": {},
   "outputs": [
    {
     "name": "stdin",
     "output_type": "stream",
     "text": [
      "Nhap chan duoi: 3\n",
      "Nhap chan tren: 19\n"
     ]
    },
    {
     "name": "stdout",
     "output_type": "stream",
     "text": [
      "4 \n",
      "6 \n",
      "8 \n",
      "10 \n",
      "12 \n",
      "14 \n",
      "16 \n",
      "18 \n"
     ]
    }
   ],
   "source": [
    "def insochan(M,N):\n",
    "    for i in range (M+1,N):\n",
    "        if i % 2 == 0 :\n",
    "            print(\"%d \" %i)\n",
    "M = int(input(\"Nhap chan duoi:\"))\n",
    "N = int(input(\"Nhap chan tren:\"))       \n",
    "insochan(M,N) "
   ]
  },
  {
   "cell_type": "markdown",
   "id": "7b2149c9-4112-4f35-a980-d8368a9dc14c",
   "metadata": {},
   "source": [
    "**2-a) Tìm tất cả các số chia hết cho 7 nhưng không phải bội số của 5, nằm trong đoạn [99;999]  (tính cả 99 và 999)**"
   ]
  },
  {
   "cell_type": "code",
   "execution_count": 6,
   "id": "1616560a-09be-4b1a-8f5d-ccb38114affb",
   "metadata": {},
   "outputs": [
    {
     "name": "stdout",
     "output_type": "stream",
     "text": [
      "112 \n",
      "119 \n",
      "126 \n",
      "133 \n",
      "147 \n",
      "154 \n",
      "161 \n",
      "168 \n",
      "182 \n",
      "189 \n",
      "196 \n",
      "203 \n",
      "217 \n",
      "224 \n",
      "231 \n",
      "238 \n",
      "252 \n",
      "259 \n",
      "266 \n",
      "273 \n",
      "287 \n",
      "294 \n",
      "301 \n",
      "308 \n",
      "322 \n",
      "329 \n",
      "336 \n",
      "343 \n",
      "357 \n",
      "364 \n",
      "371 \n",
      "378 \n",
      "392 \n",
      "399 \n",
      "406 \n",
      "413 \n",
      "427 \n",
      "434 \n",
      "441 \n",
      "448 \n",
      "462 \n",
      "469 \n",
      "476 \n",
      "483 \n",
      "497 \n",
      "504 \n",
      "511 \n",
      "518 \n",
      "532 \n",
      "539 \n",
      "546 \n",
      "553 \n",
      "567 \n",
      "574 \n",
      "581 \n",
      "588 \n",
      "602 \n",
      "609 \n",
      "616 \n",
      "623 \n",
      "637 \n",
      "644 \n",
      "651 \n",
      "658 \n",
      "672 \n",
      "679 \n",
      "686 \n",
      "693 \n",
      "707 \n",
      "714 \n",
      "721 \n",
      "728 \n",
      "742 \n",
      "749 \n",
      "756 \n",
      "763 \n",
      "777 \n",
      "784 \n",
      "791 \n",
      "798 \n",
      "812 \n",
      "819 \n",
      "826 \n",
      "833 \n",
      "847 \n",
      "854 \n",
      "861 \n",
      "868 \n",
      "882 \n",
      "889 \n",
      "896 \n",
      "903 \n",
      "917 \n",
      "924 \n",
      "931 \n",
      "938 \n",
      "952 \n",
      "959 \n",
      "966 \n",
      "973 \n",
      "987 \n",
      "994 \n"
     ]
    }
   ],
   "source": [
    "def lietke1(M,N):\n",
    "    for i in range(M,N+1):\n",
    "        if (i%7==0) and (i%5!=0):\n",
    "            print(\"%d \" %i)\n",
    "            \n",
    "M = 99\n",
    "N = 999\n",
    "lietke1(M,N)"
   ]
  },
  {
   "cell_type": "markdown",
   "id": "479dc723-4cdd-4532-bf70-fead329f2e58",
   "metadata": {},
   "source": [
    "**2-b) Tìm số đầu tiên chia hết cho 9 và chia hết cho 7 nằm trong đoạn [M,N]**"
   ]
  },
  {
   "cell_type": "code",
   "execution_count": 7,
   "id": "9bd532ea-bb38-415b-b269-e44296197b50",
   "metadata": {},
   "outputs": [
    {
     "name": "stdout",
     "output_type": "stream",
     "text": [
      "126 \n"
     ]
    }
   ],
   "source": [
    "def lietke2(M,N):\n",
    "    q = -1\n",
    "    \n",
    "    for i in range(M,N+1):\n",
    "        if (i%9==0) and (i%7==0):\n",
    "            q = i\n",
    "            break\n",
    "    return q\n",
    "M = 64\n",
    "N = 300\n",
    "q = lietke2(M,N) \n",
    "if (q == -1):\n",
    "    print(\"khong co so thoa dieu kien\")\n",
    "else:\n",
    "    print(\"%d \" %q)"
   ]
  },
  {
   "cell_type": "markdown",
   "id": "5309b0ef-646f-4726-85f1-2e0428120530",
   "metadata": {
    "jp-MarkdownHeadingCollapsed": true
   },
   "source": [
    "#### **Câu 3.** Nhập một số nguyên, đếm xem số đó có bao nhiêu chữ số và tính tổng các chữ số."
   ]
  },
  {
   "cell_type": "code",
   "execution_count": 9,
   "id": "c64b03e7-398d-4202-898d-b82b8a7ac956",
   "metadata": {},
   "outputs": [
    {
     "name": "stdin",
     "output_type": "stream",
     "text": [
      "Nhập n: 1901\n"
     ]
    },
    {
     "name": "stdout",
     "output_type": "stream",
     "text": [
      "1\n",
      "0\n",
      "9\n",
      "1\n",
      "Số lượng chữ số: 4\n",
      "Tổng các chữ số:11\n"
     ]
    }
   ],
   "source": [
    "def Tinh(n):\n",
    "    tong= 0\n",
    "    dem = 0\n",
    "    while(n>0): \n",
    "        sodu = n%10 \n",
    "        tong = tong+sodu\n",
    "        dem = dem+1 \n",
    "        n = n//10 \n",
    "        print(sodu)\n",
    "    return tong,dem\n",
    "\n",
    "a = int(input(\"Nhập n:\"))\n",
    "tong, sochuso = Tinh(a)\n",
    "print(\"Số lượng chữ số: %d\" % sochuso)\n",
    "print(\"Tổng các chữ số:%d\" %tong)"
   ]
  },
  {
   "cell_type": "markdown",
   "id": "305098b6-c0ff-41cd-8fba-7c7e2843405f",
   "metadata": {
    "jp-MarkdownHeadingCollapsed": true
   },
   "source": [
    "#### **Câu 4.** Đệ quy – Tính giai thừa của một số nguyên dương n"
   ]
  },
  {
   "cell_type": "code",
   "execution_count": 10,
   "id": "40d90afd-a40e-4d95-93d7-3620c8063ad7",
   "metadata": {},
   "outputs": [
    {
     "name": "stdout",
     "output_type": "stream",
     "text": [
      "Giai thừa của 5 là 120\n"
     ]
    }
   ],
   "source": [
    "def giaithua(n):\n",
    "    if n == 1:  \n",
    "        return 1 \n",
    "    else: \n",
    "        return (n * giaithua(n-1))\n",
    "num = 5\n",
    "print(\"Giai thừa của\", num, \"là\", giaithua(num))"
   ]
  },
  {
   "cell_type": "markdown",
   "id": "a6110919-48a2-4d5c-a364-fe6480b67182",
   "metadata": {},
   "source": [
    "#### **Câu 5.** Đệ quy – Tính lũy thừa a^b"
   ]
  },
  {
   "cell_type": "code",
   "execution_count": 11,
   "id": "06bd4be7-148a-41d8-81c3-249b3137bd31",
   "metadata": {},
   "outputs": [
    {
     "name": "stdout",
     "output_type": "stream",
     "text": [
      "2 ^ 3 = 8\n"
     ]
    }
   ],
   "source": [
    "def power(a,b):\n",
    "    if b==0:\n",
    "        return 1\n",
    "    elif a==0:\n",
    "        return 0\n",
    "    elif b==1:\n",
    "        return a   \n",
    "    else:\n",
    "        return a*power(a,b-1)\n",
    "a = 2\n",
    "b = 3\n",
    "print(a,\"^\",b,\"=\", power(a,b))"
   ]
  },
  {
   "cell_type": "markdown",
   "id": "ab5702f7-7a17-4458-a8dc-ed6f705a575a",
   "metadata": {
    "jp-MarkdownHeadingCollapsed": true
   },
   "source": [
    "### **THỰC HÀNH 2**"
   ]
  },
  {
   "cell_type": "markdown",
   "id": "764cac24-e25e-4f02-a00f-3caddc5b6deb",
   "metadata": {
    "jp-MarkdownHeadingCollapsed": true
   },
   "source": [
    "#### **Câu 1.** Viết hàm tìm độ dài của một chuỗi (không dùng hàm len())"
   ]
  },
  {
   "cell_type": "code",
   "execution_count": 3,
   "id": "0e8e9e6e-6bb4-44c4-b274-0e93cdbd2ac1",
   "metadata": {},
   "outputs": [
    {
     "name": "stdout",
     "output_type": "stream",
     "text": [
      "chieu dai chuoi :20\n",
      "check len() function: 20\n"
     ]
    }
   ],
   "source": [
    "def chieudaichuoi(strl):\n",
    "    count = 0\n",
    "    for char in strl:\n",
    "        count += 1\n",
    "    return count\n",
    "\n",
    "ss= 'hello world ... !!!!'\n",
    "print('chieu dai chuoi :{}'.format(chieudaichuoi(ss)))\n",
    "print('check len() function:',len(ss))"
   ]
  },
  {
   "cell_type": "markdown",
   "id": "5eb16303-7fab-4da0-84f8-02b398b41d15",
   "metadata": {
    "jp-MarkdownHeadingCollapsed": true
   },
   "source": [
    "#### **Câu 2**. Viết chương trình đếm số lượng các từ trong một chuỗi (giả sử các từ trong chuỗi cách nhau bởi một khoảng trắng)"
   ]
  },
  {
   "cell_type": "code",
   "execution_count": 4,
   "id": "19cd0edd-0534-4849-ba73-55b4da14849a",
   "metadata": {},
   "outputs": [
    {
     "name": "stdout",
     "output_type": "stream",
     "text": [
      "input:  Tach chuoi dung split\n",
      "tach tu: ['Tach', 'chuoi', 'dung', 'split']\n",
      "The number of words in string are : 4\n"
     ]
    }
   ],
   "source": [
    "## Trường hợp 1: Dùng split\n",
    "test_string = \"Tach chuoi dung split\"\n",
    "print (\"input: \",test_string)\n",
    "temp = test_string.split()\n",
    "print(\"tach tu:\",temp)\n",
    "res = len(temp)\n",
    "print (\"The number of words in string are :\",str(res))"
   ]
  },
  {
   "cell_type": "code",
   "execution_count": 5,
   "id": "da00ab04-1205-4e02-98d1-ef5bf2ca02d6",
   "metadata": {},
   "outputs": [
    {
     "name": "stdout",
     "output_type": "stream",
     "text": [
      "The number of words in string are 4\n"
     ]
    }
   ],
   "source": [
    "## Trường hợp 2: Không dùng split\n",
    "test_string = \"tach chuoi thanh tu\"\n",
    "if len(test_string) == 0 or (test_string.isspace()):\n",
    "    print(\"The number of words in string are = \", 0)\n",
    "else:\n",
    "    total = 0\n",
    "    test_string = test_string+ ' '\n",
    "    for i in range(len(test_string)-1):\n",
    "        if(test_string[i] != ' ' and test_string[i+1] == ' '):\n",
    "            total = total + 1\n",
    "    print(\"The number of words in string are\", total)"
   ]
  },
  {
   "cell_type": "markdown",
   "id": "7ffdaa80-6c76-4120-8116-5ba0b47fb748",
   "metadata": {},
   "source": [
    "#### **Câu 3.** Viết hàm đếm số lượng nguyên âm( a e i o u), phụ âm có trong chuỗi"
   ]
  },
  {
   "cell_type": "code",
   "execution_count": 6,
   "id": "63661fe3-3e3a-4331-b64e-8b0c48666487",
   "metadata": {},
   "outputs": [
    {
     "name": "stdout",
     "output_type": "stream",
     "text": [
      "12\n",
      "2 5\n"
     ]
    }
   ],
   "source": [
    "test_string = \" !! fdafdaf \"\n",
    "valid_symbols = \"!@#$%^&*()_-+=[]<>/,\"\n",
    "def dem_nguyenam_phuam(string):\n",
    "    nguyenam = 0\n",
    "    phuam = 0\n",
    "    for char in string:\n",
    "        if char != ' ' and char not in valid_symbols:\n",
    "            if char in \"aeiouAEIOU\":\n",
    "                nguyenam = nguyenam + 1\n",
    "            else:\n",
    "                phuam = phuam + 1\n",
    "    return nguyenam, phuam\n",
    "\n",
    "print(len(test_string))\n",
    "v, c = dem_nguyenam_phuam(test_string)\n",
    "print(v, c)"
   ]
  },
  {
   "cell_type": "code",
   "execution_count": 9,
   "id": "b96d95ae-e0c7-4b97-a9ce-d5152d6517ed",
   "metadata": {},
   "outputs": [
    {
     "name": "stdout",
     "output_type": "stream",
     "text": [
      "12\n",
      "2 5\n"
     ]
    }
   ],
   "source": [
    "test_string = \" !! fdafdaf \"\n",
    "valid_symbols = \"!@#$%^&*()_-+=[]<>/,\"\n",
    "def dem_nguyenam_phuam_2(string):\n",
    "    nguyenam = 0\n",
    "    phuam = 0\n",
    "    for i in string:\n",
    "        if i!=' ' and i not in valid_symbols:\n",
    "            if(i=='a' or i=='e' or i=='o' or i=='u' or i=='A' or i=='E' or i=='I'or i=='O' or i=='U'):\n",
    "                nguyenam = nguyenam+1\n",
    "            else:\n",
    "                phuam = phuam+1\n",
    "    return nguyenam, phuam\n",
    "\n",
    "print(len(test_string))\n",
    "v, c = dem_nguyenam_phuam_2(test_string)\n",
    "print(v, c)"
   ]
  },
  {
   "cell_type": "markdown",
   "id": "5ff40646-8954-41db-8f1c-42ce0a68aece",
   "metadata": {
    "jp-MarkdownHeadingCollapsed": true
   },
   "source": [
    "### **THỰC HÀNH 3**"
   ]
  },
  {
   "cell_type": "markdown",
   "id": "78dfbc2d-86e9-4c0e-af04-cccdced42fe8",
   "metadata": {
    "jp-MarkdownHeadingCollapsed": true
   },
   "source": [
    "#### **Câu 1.** Sắp xếp List dùng string_compare và integer_compare"
   ]
  },
  {
   "cell_type": "code",
   "execution_count": 1,
   "id": "23a33d40-ab4d-4c0e-beb5-2c37ae6c1c3b",
   "metadata": {},
   "outputs": [
    {
     "name": "stdout",
     "output_type": "stream",
     "text": [
      "Input: ['3', '27', '5', '123', '9', '1']\n",
      "StringSort: ['1', '123', '27', '3', '5', '9']\n",
      "INTSort: ['1', '3', '5', '9', '27', '123']\n"
     ]
    }
   ],
   "source": [
    "A = ['3', '27', '5', '123', '9', '1']\n",
    "print(\"Input:\", A)\n",
    "StringSort = sorted(A)\n",
    "print(\"StringSort:\", StringSort)\n",
    "\n",
    "def myintSort(a):\n",
    "    return int(a)\n",
    "\n",
    "INTSort = sorted(A, key=myintSort)\n",
    "print(\"INTSort:\", INTSort)"
   ]
  },
  {
   "cell_type": "markdown",
   "id": "c107fc10-4433-4b6e-98da-ea7b90b501fa",
   "metadata": {
    "jp-MarkdownHeadingCollapsed": true
   },
   "source": [
    "#### **Câu 2.** Viết chương trình in list sau khi đã xóa số tại vị trí thứ 1, thứ 2, thứ 3, thứ 6 trong [12,24,35,70,88,120,155]."
   ]
  },
  {
   "cell_type": "code",
   "execution_count": 2,
   "id": "f104c6d0-bdd2-4903-bd4e-2c5f6752963f",
   "metadata": {},
   "outputs": [
    {
     "name": "stdout",
     "output_type": "stream",
     "text": [
      "Input: [12, 24, 35, 70, 88, 120, 155]\n",
      "Sau khi Xoa: [12, 88, 120]\n"
     ]
    }
   ],
   "source": [
    "A = [12, 24, 35, 70, 88, 120, 155]\n",
    "print(\"Input:\", A)\n",
    "\n",
    "indexR = [1, 2, 3, 6]  # các vị trí cần xóa\n",
    "\n",
    "B = [x for i, x in enumerate(A) if i not in indexR]\n",
    "print(\"Sau khi Xoa:\", B)"
   ]
  },
  {
   "cell_type": "markdown",
   "id": "6455c5e3-7d53-4780-a905-30738d066c22",
   "metadata": {
    "jp-MarkdownHeadingCollapsed": true
   },
   "source": [
    "#### **Câu 3.** Xóa các phần tử trùng nhau trong list."
   ]
  },
  {
   "cell_type": "code",
   "execution_count": 3,
   "id": "39597fbc-485d-4038-a08b-c2a1221e9d86",
   "metadata": {},
   "outputs": [
    {
     "name": "stdout",
     "output_type": "stream",
     "text": [
      "Input: [1, 1, 2, 2, 2, 3, 1, 2, 5, 6, 7, 8, 5, 6, 7]\n",
      "Output_1: [1, 2, 3, 5, 6, 7, 8]\n",
      "Output_2: [1, 2, 3, 5, 6, 7, 8]\n",
      "Output_3: [1, 2, 3, 5, 6, 7, 8]\n",
      "Output_4: [1, 2, 3, 5, 6, 7, 8]\n"
     ]
    }
   ],
   "source": [
    "A = [1, 1, 2, 2, 2, 3, 1, 2, 5, 6, 7, 8, 5, 6, 7]\n",
    "print(\"Input:\", A)\n",
    "\n",
    "B = []\n",
    "[B.append(x) for x in A if x not in B]\n",
    "print(\"Output_1:\", B)\n",
    "\n",
    "# List comprehension \n",
    "newlist = [ii for n, ii in enumerate(A) if ii not in A[:n]]\n",
    "print(\"Output_2:\", newlist)\n",
    "\n",
    "# Dùng tập hợp (set)\n",
    "Newlist_set = list(set(A))\n",
    "print(\"Output_3:\", Newlist_set)\n",
    "\n",
    "# Dùng từ điển (dict)\n",
    "mylist = list(dict.fromkeys(A))\n",
    "print(\"Output_4:\", mylist)"
   ]
  },
  {
   "cell_type": "markdown",
   "id": "a7096c15-a6b8-4b92-aff9-8c74b8d3e87c",
   "metadata": {
    "jp-MarkdownHeadingCollapsed": true
   },
   "source": [
    "#### **Câu 4.** Đếm số lần xuất hiện của các phần tử trong list"
   ]
  },
  {
   "cell_type": "code",
   "execution_count": 4,
   "id": "0a9c5a2e-9d86-45bf-ace2-1a014b8bbe7f",
   "metadata": {},
   "outputs": [
    {
     "name": "stdout",
     "output_type": "stream",
     "text": [
      "1:4,2:4,3:2,4:1,5:2,\n",
      "\n",
      "[[1, 4], [2, 4], [3, 2], [4, 1], [5, 2]]\n",
      "1:4,2:4,3:2,4:1,5:2,\n",
      "\n",
      "{1: 4, 2: 4, 3: 2, 4: 1, 5: 2}\n",
      "Counter({1: 4, 2: 4, 3: 2, 5: 2, 4: 1})\n"
     ]
    }
   ],
   "source": [
    "A = [1,1,1,1,2,2,2,2,3,3,4,5,5] \n",
    "\n",
    "# Không dùng set và dictionary\n",
    "e=[]\n",
    "for i in range(len(A)):\n",
    "    if A[i] not in e:\n",
    "        e.append(A[i])\n",
    "        print(A[i],\":\",A.count(A[i]),sep='',end =\",\")\n",
    "print(\"\\n\")\n",
    "\n",
    "# Dùng tập hợp\n",
    "b = [[x,A.count(x)] for x in set(A)]\n",
    "print(b)\n",
    "for i in range(len(b)):\n",
    "    print(b[i][0],\":\",b[i][1],sep='',end =\",\")\n",
    "print(\"\\n\")\n",
    "\n",
    "# Dùng từ điển\n",
    "d = {x:A.count(x) for x in A}\n",
    "print(d)\n",
    "\n",
    "# Dùng Counter()\n",
    "import collections\n",
    "ctr = collections.Counter(A)\n",
    "print(ctr)"
   ]
  },
  {
   "cell_type": "markdown",
   "id": "9e911608-c9e6-447d-b947-41ff3278e1b7",
   "metadata": {
    "jp-MarkdownHeadingCollapsed": true
   },
   "source": [
    "### **CẤU TRÚC ĐIỀU KIỆN**"
   ]
  },
  {
   "cell_type": "markdown",
   "id": "bc8c41f1-818f-47fa-ab57-1c7b6150d7b0",
   "metadata": {
    "jp-MarkdownHeadingCollapsed": true
   },
   "source": [
    "#### **Câu 1.** Nhập một số bất kỳ. Hãy đọc giá trị của số nguyên đó nếu nó có giá trị từ 1 đến 9, ngược lại thông báo không đọc được."
   ]
  },
  {
   "cell_type": "code",
   "execution_count": 4,
   "id": "8dfc3cfe-b51c-4739-a2b9-1c1864efc012",
   "metadata": {},
   "outputs": [
    {
     "name": "stdin",
     "output_type": "stream",
     "text": [
      "Nhập một số nguyên:  9\n"
     ]
    },
    {
     "name": "stdout",
     "output_type": "stream",
     "text": [
      "Số bạn nhập là: 9\n"
     ]
    }
   ],
   "source": [
    "# Nhập một số nguyên bất kỳ\n",
    "n = int(input(\"Nhập một số nguyên: \"))\n",
    "\n",
    "# Kiểm tra giá trị\n",
    "if 1 <= n <= 9:\n",
    "    print(\"Số bạn nhập là:\", n)\n",
    "else:\n",
    "    print(\"Không đọc được\")"
   ]
  },
  {
   "cell_type": "markdown",
   "id": "61896401-d666-4e5d-931a-c2040541ec87",
   "metadata": {
    "jp-MarkdownHeadingCollapsed": true
   },
   "source": [
    "#### **Câu 2.** Nhập một chữ cái. Nếu là chữ thường thì đổi sang chữ hoa, ngược lại đổi sang chữ thường."
   ]
  },
  {
   "cell_type": "code",
   "execution_count": 5,
   "id": "bb6258ed-cb43-462f-bfe1-503212a8f5f7",
   "metadata": {},
   "outputs": [
    {
     "name": "stdin",
     "output_type": "stream",
     "text": [
      "Nhập một chữ cái:  A\n"
     ]
    },
    {
     "name": "stdout",
     "output_type": "stream",
     "text": [
      "Chữ thường: a\n"
     ]
    }
   ],
   "source": [
    "ch = input(\"Nhập một chữ cái: \")\n",
    "if len(ch) == 1 and ch.isalpha():\n",
    "    if ch.islower():\n",
    "        print(\"Chữ hoa:\", ch.upper())\n",
    "    else:\n",
    "        print(\"Chữ thường:\", ch.lower())\n",
    "else:\n",
    "    print(\"Vui lòng nhập đúng một chữ cái.\")"
   ]
  },
  {
   "cell_type": "markdown",
   "id": "3d8b2af6-ecb8-45a6-b6a9-1eb873247b62",
   "metadata": {
    "jp-MarkdownHeadingCollapsed": true
   },
   "source": [
    "#### **Câu 3.** Giải phương trình bậc nhất ax + b = 0."
   ]
  },
  {
   "cell_type": "code",
   "execution_count": 6,
   "id": "65e6ceb9-e690-454c-9554-5a5d4e287c03",
   "metadata": {},
   "outputs": [
    {
     "name": "stdin",
     "output_type": "stream",
     "text": [
      "Nhập a:  4\n",
      "Nhập b:  5\n"
     ]
    },
    {
     "name": "stdout",
     "output_type": "stream",
     "text": [
      "Nghiệm của phương trình là x = -1.25\n"
     ]
    }
   ],
   "source": [
    "# Giải phương trình bậc nhất ax + b = 0\n",
    "\n",
    "a = float(input(\"Nhập a: \"))\n",
    "b = float(input(\"Nhập b: \"))\n",
    "\n",
    "if a == 0:\n",
    "    if b == 0:\n",
    "        print(\"Phương trình có vô số nghiệm.\")\n",
    "    else:\n",
    "        print(\"Phương trình vô nghiệm.\")\n",
    "else:\n",
    "    x = -b / a\n",
    "    print(\"Nghiệm của phương trình là x =\", x)"
   ]
  },
  {
   "cell_type": "markdown",
   "id": "eb1c5d9c-ca5c-40b6-a755-700173517931",
   "metadata": {
    "jp-MarkdownHeadingCollapsed": true
   },
   "source": [
    "#### **Câu 4.** Giải phương trình bậc hai ax2+ bx + c = 0."
   ]
  },
  {
   "cell_type": "code",
   "execution_count": 10,
   "id": "2556a166-5b0d-40c7-8d7a-672452a35924",
   "metadata": {},
   "outputs": [
    {
     "name": "stdin",
     "output_type": "stream",
     "text": [
      "Nhập a:  0\n",
      "Nhập b:  3\n",
      "Nhập c:  4\n"
     ]
    },
    {
     "name": "stdout",
     "output_type": "stream",
     "text": [
      "Phương trình bậc nhất, nghiệm là x = -1.3333333333333333\n"
     ]
    }
   ],
   "source": [
    "import math\n",
    "\n",
    "a = float(input(\"Nhập a: \"))\n",
    "b = float(input(\"Nhập b: \"))\n",
    "c = float(input(\"Nhập c: \"))\n",
    "\n",
    "if a == 0:\n",
    "    # Trở về phương trình bậc nhất bx + c = 0\n",
    "    if b == 0:\n",
    "        if c == 0:\n",
    "            print(\"Phương trình có vô số nghiệm.\")\n",
    "        else:\n",
    "            print(\"Phương trình vô nghiệm.\")\n",
    "    else:\n",
    "        x = -c / b\n",
    "        print(\"Phương trình bậc nhất, nghiệm là x =\", x)\n",
    "else:\n",
    "    # Tính delta\n",
    "    delta = b**2 - 4*a*c\n",
    "\n",
    "    if delta < 0:\n",
    "        print(\"Phương trình vô nghiệm thực.\")\n",
    "    elif delta == 0:\n",
    "        x = -b / (2*a)\n",
    "        print(\"Phương trình có nghiệm kép x =\", x)\n",
    "    else:\n",
    "        x1 = (-b + math.sqrt(delta)) / (2*a)\n",
    "        x2 = (-b - math.sqrt(delta)) / (2*a)\n",
    "        print(\"Phương trình có 2 nghiệm phân biệt:\")\n",
    "        print(\"x1 =\", x1)\n",
    "        print(\"x2 =\", x2)"
   ]
  },
  {
   "cell_type": "markdown",
   "id": "1e21a727-8287-419b-b9a9-6ccb53a32489",
   "metadata": {
    "jp-MarkdownHeadingCollapsed": true
   },
   "source": [
    "#### **Câu 5.** Nhập 4 số nguyên a, b, c và d. Tìm số có giá trị nhỏ nhất (min)."
   ]
  },
  {
   "cell_type": "code",
   "execution_count": 11,
   "id": "2aed678e-eef4-4053-a2e2-6a58141056c9",
   "metadata": {},
   "outputs": [
    {
     "name": "stdin",
     "output_type": "stream",
     "text": [
      "Nhập a:  2\n",
      "Nhập b:  5\n",
      "Nhập c:  8\n",
      "Nhập d:  9\n"
     ]
    },
    {
     "name": "stdout",
     "output_type": "stream",
     "text": [
      "Số nhỏ nhất là: 2\n"
     ]
    }
   ],
   "source": [
    "a = int(input(\"Nhập a: \"))\n",
    "b = int(input(\"Nhập b: \"))\n",
    "c = int(input(\"Nhập c: \"))\n",
    "d = int(input(\"Nhập d: \"))\n",
    "\n",
    "min_value = min(a, b, c, d)\n",
    "print(\"Số nhỏ nhất là:\", min_value)"
   ]
  },
  {
   "cell_type": "markdown",
   "id": "88e91f67-a661-454e-b92d-cd7db1303012",
   "metadata": {
    "jp-MarkdownHeadingCollapsed": true
   },
   "source": [
    "#### **Câu 6.** Nhập 4 số nguyên a, b, c và d. Hãy sắp xếp giá trị của 4 số nguyên này theo thứ tự tăng dần"
   ]
  },
  {
   "cell_type": "code",
   "execution_count": 12,
   "id": "33f4a497-557a-4b3a-b9ae-5a59b31b3bf5",
   "metadata": {},
   "outputs": [
    {
     "name": "stdin",
     "output_type": "stream",
     "text": [
      "Nhập a:  3\n",
      "Nhập b:  5\n",
      "Nhập c:  8\n",
      "Nhập d:  1\n"
     ]
    },
    {
     "name": "stdout",
     "output_type": "stream",
     "text": [
      "Thứ tự tăng dần: [1, 3, 5, 8]\n"
     ]
    }
   ],
   "source": [
    "a = int(input(\"Nhập a: \"))\n",
    "b = int(input(\"Nhập b: \"))\n",
    "c = int(input(\"Nhập c: \"))\n",
    "d = int(input(\"Nhập d: \"))\n",
    "\n",
    "numbers = [a, b, c, d]\n",
    "sorted_numbers = sorted(numbers)\n",
    "\n",
    "print(\"Thứ tự tăng dần:\", sorted_numbers)"
   ]
  },
  {
   "cell_type": "markdown",
   "id": "7d6b301d-289d-42e0-8acf-a2560d624542",
   "metadata": {
    "jp-MarkdownHeadingCollapsed": true
   },
   "source": [
    "#### **Câu 7.** Tính tiền đi taxi từ số km nhập vào. Biết:\n",
    " • 1 km đầu giá 15000đ\n",
    " \n",
    " • Từ km thứ 2 đến km thứ 5 giá 13500đ\n",
    " \n",
    " • Từ km thứ 6 trở đi giá 11000\n",
    " \n",
    " • Nếu trên 120km được giảm 10% tổng tiền."
   ]
  },
  {
   "cell_type": "code",
   "execution_count": 13,
   "id": "46fb81b5-bb61-4157-bc9d-2a28be4df107",
   "metadata": {},
   "outputs": [
    {
     "name": "stdin",
     "output_type": "stream",
     "text": [
      "Nhập số km đi taxi:  19\n"
     ]
    },
    {
     "name": "stdout",
     "output_type": "stream",
     "text": [
      "Số tiền phải trả là: 223000 đồng\n"
     ]
    }
   ],
   "source": [
    "km = float(input(\"Nhập số km đi taxi: \"))\n",
    "\n",
    "if km <= 0:\n",
    "    print(\"Số km không hợp lệ!\")\n",
    "else:\n",
    "    if km <= 1:\n",
    "        total = 15000\n",
    "    elif km <= 5:\n",
    "        total = 15000 + (km - 1) * 13500\n",
    "    else:\n",
    "        total = 15000 + 4 * 13500 + (km - 5) * 11000\n",
    "    if km > 120:     # Giảm giá nếu trên 120 km\n",
    "        total *= 0.9\n",
    "    print(\"Số tiền phải trả là:\", int(total), \"đồng\")"
   ]
  },
  {
   "cell_type": "markdown",
   "id": "1ef762b8-15f2-4cef-b599-f56a53ef94f7",
   "metadata": {
    "jp-MarkdownHeadingCollapsed": true
   },
   "source": [
    "#### **Câu 8.** Nhập vào tháng và năm. Cho biết tháng đó có bao nhiêu ngày."
   ]
  },
  {
   "cell_type": "code",
   "execution_count": 14,
   "id": "0f1996e8-e4f6-4238-a0ca-f602c9a69ad7",
   "metadata": {},
   "outputs": [
    {
     "name": "stdin",
     "output_type": "stream",
     "text": [
      "Nhập tháng (1-12):  1\n",
      "Nhập năm:  2025\n"
     ]
    },
    {
     "name": "stdout",
     "output_type": "stream",
     "text": [
      "Tháng 1 năm 2025 có 31 ngày.\n"
     ]
    }
   ],
   "source": [
    "month = int(input(\"Nhập tháng (1-12): \"))\n",
    "year = int(input(\"Nhập năm: \"))\n",
    "\n",
    "# Kiểm tra tháng hợp lệ\n",
    "if month < 1 or month > 12:\n",
    "    print(\"Tháng không hợp lệ!\")\n",
    "else:\n",
    "    if month in [1, 3, 5, 7, 8, 10, 12]:\n",
    "        days = 31\n",
    "    elif month in [4, 6, 9, 11]:\n",
    "        days = 30\n",
    "    else:  # tháng 2\n",
    "        # Kiểm tra năm nhuận\n",
    "        if (year % 400 == 0) or (year % 4 == 0 and year % 100 != 0):\n",
    "            days = 29\n",
    "        else:\n",
    "            days = 28\n",
    "    print(f\"Tháng {month} năm {year} có {days} ngày.\")"
   ]
  },
  {
   "cell_type": "markdown",
   "id": "f848013e-6054-4a8a-a1a2-c2c28ddf7eff",
   "metadata": {
    "jp-MarkdownHeadingCollapsed": true
   },
   "source": [
    "#### **Câu 9.** Nhập độ dài 3 cạnh 1 tam giác. Kiểm tra đó có phải là tam giác không và là tam giác gì?"
   ]
  },
  {
   "cell_type": "code",
   "execution_count": 15,
   "id": "1b691e45-1971-46ec-92b5-580a648d8dd0",
   "metadata": {},
   "outputs": [
    {
     "name": "stdin",
     "output_type": "stream",
     "text": [
      "Nhập cạnh a:  3\n",
      "Nhập cạnh b:  4\n",
      "Nhập cạnh c:  5\n"
     ]
    },
    {
     "name": "stdout",
     "output_type": "stream",
     "text": [
      "Tam giác vuông.\n"
     ]
    }
   ],
   "source": [
    "a = float(input(\"Nhập cạnh a: \"))\n",
    "b = float(input(\"Nhập cạnh b: \"))\n",
    "c = float(input(\"Nhập cạnh c: \"))\n",
    "\n",
    "# Kiểm tra có phải tam giác không\n",
    "if a <= 0 or b <= 0 or c <= 0 or (a+b <= c) or (a+c <= b) or (b+c <= a):\n",
    "    print(\"Ba cạnh không tạo thành tam giác.\")\n",
    "else:\n",
    "    # Phân loại\n",
    "    if a == b == c:\n",
    "        print(\"Tam giác đều.\")\n",
    "    elif a == b or a == c or b == c:\n",
    "        if abs(a**2 + b**2 - c**2) < 1e-9 or abs(a**2 + c**2 - b**2) < 1e-9 or abs(b**2 + c**2 - a**2) < 1e-9:\n",
    "            print(\"Tam giác vuông cân.\")\n",
    "        else:\n",
    "            print(\"Tam giác cân.\")\n",
    "    elif abs(a**2 + b**2 - c**2) < 1e-9 or abs(a**2 + c**2 - b**2) < 1e-9 or abs(b**2 + c**2 - a**2) < 1e-9:\n",
    "        print(\"Tam giác vuông.\")\n",
    "    else:\n",
    "        print(\"Tam giác thường.\")"
   ]
  },
  {
   "cell_type": "markdown",
   "id": "9cd22684-7637-4b20-9299-5453ae848da3",
   "metadata": {
    "jp-MarkdownHeadingCollapsed": true
   },
   "source": [
    "### **CẤU TRÚC LẶP**"
   ]
  },
  {
   "cell_type": "markdown",
   "id": "2408f4aa-c39a-4eb4-81e3-894bc56b2d99",
   "metadata": {
    "jp-MarkdownHeadingCollapsed": true
   },
   "source": [
    "#### **Câu 1.** Nhập một số nguyên dương n (n > 0). Hãy cho biết:\n",
    " \n",
    " • Có phải là số đối xứng? Ví dụ: 121, 12321, …\n",
    " \n",
    " • Có phải là số chính phương? Ví dụ: 4, 9, 16, …\n",
    " \n",
    " • Có phải là số nguyên tố? Ví dụ: 2, 3, 5, 7, …\n",
    " \n",
    " • Chữ số lớn nhất và nhỏ nhất?\n",
    " \n",
    " • Các chữ số có tăng dần hay giảm dần không?"
   ]
  },
  {
   "cell_type": "code",
   "execution_count": 16,
   "id": "676607c6-bd4a-4b27-a731-19bf72054168",
   "metadata": {},
   "outputs": [
    {
     "name": "stdin",
     "output_type": "stream",
     "text": [
      "Nhập số nguyên dương n (>0):  1234\n"
     ]
    },
    {
     "name": "stdout",
     "output_type": "stream",
     "text": [
      "1234 không phải số đối xứng.\n",
      "1234 không phải số chính phương.\n",
      "1234 không phải số nguyên tố.\n",
      "Chữ số lớn nhất: 4\n",
      "Chữ số nhỏ nhất: 1\n",
      "Các chữ số tăng dần.\n"
     ]
    }
   ],
   "source": [
    "import math\n",
    "\n",
    "n = int(input(\"Nhập số nguyên dương n (>0): \"))\n",
    "\n",
    "if n <= 0:\n",
    "    print(\"n phải > 0\")\n",
    "else:\n",
    "    s = str(n)\n",
    "\n",
    "    # 1. Kiểm tra số đối xứng\n",
    "    if s == s[::-1]:\n",
    "        print(n, \"là số đối xứng.\")\n",
    "    else:\n",
    "        print(n, \"không phải số đối xứng.\")\n",
    "\n",
    "    # 2. Kiểm tra số chính phương\n",
    "    sq = int(math.sqrt(n))\n",
    "    if sq * sq == n:\n",
    "        print(n, \"là số chính phương.\")\n",
    "    else:\n",
    "        print(n, \"không phải số chính phương.\")\n",
    "\n",
    "    # 3. Kiểm tra số nguyên tố\n",
    "    def is_prime(x):\n",
    "        if x < 2:\n",
    "            return False\n",
    "        for i in range(2, int(math.sqrt(x)) + 1):\n",
    "            if x % i == 0:\n",
    "                return False\n",
    "        return True\n",
    "\n",
    "    if is_prime(n):\n",
    "        print(n, \"là số nguyên tố.\")\n",
    "    else:\n",
    "        print(n, \"không phải số nguyên tố.\")\n",
    "\n",
    "    # 4. Chữ số lớn nhất và nhỏ nhất\n",
    "    digits = [int(ch) for ch in s]\n",
    "    print(\"Chữ số lớn nhất:\", max(digits))\n",
    "    print(\"Chữ số nhỏ nhất:\", min(digits))\n",
    "\n",
    "    # 5. Kiểm tra tăng dần / giảm dần\n",
    "    if all(digits[i] <= digits[i+1] for i in range(len(digits)-1)):\n",
    "        print(\"Các chữ số tăng dần.\")\n",
    "    elif all(digits[i] >= digits[i+1] for i in range(len(digits)-1)):\n",
    "        print(\"Các chữ số giảm dần.\")\n",
    "    else:\n",
    "        print(\"Các chữ số không tăng cũng không giảm hoàn toàn.\")"
   ]
  },
  {
   "cell_type": "markdown",
   "id": "af05b4c5-570c-43d8-ac75-478ac373b4de",
   "metadata": {
    "jp-MarkdownHeadingCollapsed": true
   },
   "source": [
    "#### **Câu 2.** Nhập một số nguyên dương n. Tính:\n",
    " a. S = 1 + 2 + … + n\n",
    " \n",
    " b. S = 12+ 22+ … + n2\n",
    " \n",
    " c. S = 1 + 1/2 + … + 1/n\n",
    " \n",
    " d. S = 1*2*…*n = n!\n",
    " \n",
    " e. S = 1! + 2! + … + n!"
   ]
  },
  {
   "cell_type": "code",
   "execution_count": 17,
   "id": "e82c2be7-5e06-48c5-84bc-767e79e93682",
   "metadata": {},
   "outputs": [
    {
     "name": "stdin",
     "output_type": "stream",
     "text": [
      "Nhập số nguyên dương n:  9\n"
     ]
    },
    {
     "name": "stdout",
     "output_type": "stream",
     "text": [
      "a) 1 + 2 + ... + n = 45\n",
      "b) 1^2 + 2^2 + ... + n^2 = 285\n",
      "c) 1 + 1/2 + ... + 1/n = 2.828968253968254\n",
      "d) n! = 362880\n",
      "e) 1! + 2! + ... + n! = 409113\n"
     ]
    }
   ],
   "source": [
    "import math\n",
    "\n",
    "n = int(input(\"Nhập số nguyên dương n: \"))\n",
    "\n",
    "if n <= 0:\n",
    "    print(\"n phải > 0\")\n",
    "else:\n",
    "    # a. S = 1 + 2 + ... + n\n",
    "    S1 = sum(range(1, n+1))\n",
    "\n",
    "    # b. S = 1^2 + 2^2 + ... + n^2\n",
    "    S2 = sum(i**2 for i in range(1, n+1))\n",
    "\n",
    "    # c. S = 1 + 1/2 + ... + 1/n\n",
    "    S3 = sum(1/i for i in range(1, n+1))\n",
    "\n",
    "    # d. S = 1*2*...*n = n!\n",
    "    S4 = math.factorial(n)\n",
    "\n",
    "    # e. S = 1! + 2! + ... + n!\n",
    "    S5 = sum(math.factorial(i) for i in range(1, n+1))\n",
    "\n",
    "    # In kết quả\n",
    "    print(\"a) 1 + 2 + ... + n =\", S1)\n",
    "    print(\"b) 1^2 + 2^2 + ... + n^2 =\", S2)\n",
    "    print(\"c) 1 + 1/2 + ... + 1/n =\", S3)\n",
    "    print(\"d) n! =\", S4)\n",
    "    print(\"e) 1! + 2! + ... + n! =\", S5)"
   ]
  },
  {
   "cell_type": "markdown",
   "id": "639320e0-8b19-4dbe-b01c-74074f38edc0",
   "metadata": {
    "jp-MarkdownHeadingCollapsed": true
   },
   "source": [
    "#### **Câu 3.** Nhập 3 số nguyên a, b và n với a, b < n. Tính tổng các số nguyên dương nhỏ hơn n chia hết cho a nhưng không chia hết cho b."
   ]
  },
  {
   "cell_type": "code",
   "execution_count": 18,
   "id": "d4236d69-a799-4ce1-ab19-a914372250ab",
   "metadata": {},
   "outputs": [
    {
     "name": "stdin",
     "output_type": "stream",
     "text": [
      "Nhập a (< n):  2\n",
      "Nhập b (< n):  3\n",
      "Nhập n:  10\n"
     ]
    },
    {
     "name": "stdout",
     "output_type": "stream",
     "text": [
      "Tổng các số nguyên dương < n chia hết cho 2 nhưng không chia hết cho 3 là: 14\n"
     ]
    }
   ],
   "source": [
    "a = int(input(\"Nhập a (< n): \"))\n",
    "b = int(input(\"Nhập b (< n): \"))\n",
    "n = int(input(\"Nhập n: \"))\n",
    "\n",
    "if a >= n or b >= n or n <= 0:\n",
    "    print(\"Điều kiện nhập không hợp lệ! (cần a, b < n và n > 0)\")\n",
    "else:\n",
    "    total = 0\n",
    "    for i in range(1, n):\n",
    "        if i % a == 0 and i % b != 0:\n",
    "            total += i\n",
    "\n",
    "    print(\"Tổng các số nguyên dương < n chia hết cho\", a, \"nhưng không chia hết cho\", b, \"là:\", total)"
   ]
  },
  {
   "cell_type": "markdown",
   "id": "68daa8b6-6550-4f34-ac10-5f226132395a",
   "metadata": {
    "jp-MarkdownHeadingCollapsed": true
   },
   "source": [
    "#### **Câu 4.** Tính tổng các số nguyên tố nhỏ hơn n (0 < n < 50)"
   ]
  },
  {
   "cell_type": "code",
   "execution_count": 19,
   "id": "ab44f737-2a96-4ac1-ae8f-d0bf4e2d9f09",
   "metadata": {},
   "outputs": [
    {
     "name": "stdin",
     "output_type": "stream",
     "text": [
      "Nhập n (0 < n < 50):  10\n"
     ]
    },
    {
     "name": "stdout",
     "output_type": "stream",
     "text": [
      "Tổng các số nguyên tố nhỏ hơn 10 là: 17\n"
     ]
    }
   ],
   "source": [
    "import math\n",
    "\n",
    "def is_prime(x):\n",
    "    if x < 2:\n",
    "        return False\n",
    "    for i in range(2, int(math.sqrt(x)) + 1):\n",
    "        if x % i == 0:\n",
    "            return False\n",
    "    return True\n",
    "\n",
    "n = int(input(\"Nhập n (0 < n < 50): \"))\n",
    "\n",
    "if n <= 0 or n >= 50:\n",
    "    print(\"n phải nằm trong khoảng (0, 50).\")\n",
    "else:\n",
    "    total = sum(i for i in range(2, n) if is_prime(i))\n",
    "    print(\"Tổng các số nguyên tố nhỏ hơn\", n, \"là:\", total)"
   ]
  },
  {
   "cell_type": "markdown",
   "id": "4dc6645c-4260-4209-836b-a1ee0ae89ea8",
   "metadata": {
    "jp-MarkdownHeadingCollapsed": true
   },
   "source": [
    "#### **Câu 5.** Nhập một số nguyên dương n. Xuất ra số ngược lại."
   ]
  },
  {
   "cell_type": "code",
   "execution_count": 21,
   "id": "77017fdf-ba86-47fd-8243-3f1741822fb9",
   "metadata": {},
   "outputs": [
    {
     "name": "stdin",
     "output_type": "stream",
     "text": [
      "Nhập số nguyên dương n:  5267\n"
     ]
    },
    {
     "name": "stdout",
     "output_type": "stream",
     "text": [
      "Số đảo ngược là: 7625\n"
     ]
    }
   ],
   "source": [
    "n = int(input(\"Nhập số nguyên dương n: \"))\n",
    "\n",
    "if n <= 0:\n",
    "    print(\"n phải > 0\")\n",
    "else:\n",
    "    reversed_n = int(str(n)[::-1])\n",
    "    print(\"Số đảo ngược là:\", reversed_n)"
   ]
  },
  {
   "cell_type": "markdown",
   "id": "21743f12-ee01-4f73-b20c-1ebe27dbd34d",
   "metadata": {
    "jp-MarkdownHeadingCollapsed": true
   },
   "source": [
    "#### **Câu 6.** Tìm và in lên màn hình tất cả các số nguyên trong phạm vi từ 10 đến 99 sao cho tích của 2 chữ số bằng 2 lần tổng của 2 chữ số đó."
   ]
  },
  {
   "cell_type": "code",
   "execution_count": 22,
   "id": "6effc8e1-1a8a-4778-b0af-ec17582e464b",
   "metadata": {},
   "outputs": [
    {
     "name": "stdout",
     "output_type": "stream",
     "text": [
      "36\n",
      "44\n",
      "63\n"
     ]
    }
   ],
   "source": [
    "for num in range(10, 100):\n",
    "    a = num // 10   # chữ số hàng chục\n",
    "    b = num % 10    # chữ số hàng đơn vị\n",
    "    \n",
    "    if a * b == 2 * (a + b):\n",
    "        print(num)"
   ]
  },
  {
   "cell_type": "markdown",
   "id": "03bd7efa-c49d-4b16-a927-235a7a41ace9",
   "metadata": {
    "jp-MarkdownHeadingCollapsed": true
   },
   "source": [
    "#### **Câu 7.** Tìm ước số chung lớn nhất của 2 số nguyên dương a và b nhập từ bàn phím."
   ]
  },
  {
   "cell_type": "code",
   "execution_count": 23,
   "id": "e073e15e-6351-460a-a473-e99aad7fc89f",
   "metadata": {},
   "outputs": [
    {
     "name": "stdin",
     "output_type": "stream",
     "text": [
      "Nhập số nguyên dương a:  14\n",
      "Nhập số nguyên dương b:  26\n"
     ]
    },
    {
     "name": "stdout",
     "output_type": "stream",
     "text": [
      "Ước số chung lớn nhất là: 2\n"
     ]
    }
   ],
   "source": [
    "a = int(input(\"Nhập số nguyên dương a: \"))\n",
    "b = int(input(\"Nhập số nguyên dương b: \"))\n",
    "\n",
    "if a <= 0 or b <= 0:\n",
    "    print(\"Cần nhập 2 số nguyên dương!\")\n",
    "else:\n",
    "    gcd = 1\n",
    "    for i in range(1, min(a, b) + 1):\n",
    "        if a % i == 0 and b % i == 0:\n",
    "            gcd = i\n",
    "    print(\"Ước số chung lớn nhất là:\", gcd)"
   ]
  },
  {
   "cell_type": "markdown",
   "id": "1a770794-1d13-4639-a97f-47bd6cfe258a",
   "metadata": {
    "jp-MarkdownHeadingCollapsed": true
   },
   "source": [
    "#### **Câu 8.** Nhập n. In n số đầu tiên trong dãy Fibonacy.\n",
    "a0 = a1 = 1\n",
    "\n",
    "an = an –1 + an –2\n"
   ]
  },
  {
   "cell_type": "code",
   "execution_count": 24,
   "id": "7f7b31f7-e6e9-4c42-abf3-6a9e2d9cae8b",
   "metadata": {},
   "outputs": [
    {
     "name": "stdin",
     "output_type": "stream",
     "text": [
      "Nhập n:  5\n"
     ]
    },
    {
     "name": "stdout",
     "output_type": "stream",
     "text": [
      "5 số đầu tiên của dãy Fibonacci là:\n",
      "[1, 1, 2, 3, 5]\n"
     ]
    }
   ],
   "source": [
    "n = int(input(\"Nhập n: \"))\n",
    "\n",
    "if n <= 0:\n",
    "    print(\"n phải là số nguyên dương!\")\n",
    "else:\n",
    "    a0, a1 = 1, 1\n",
    "    fib = []\n",
    "\n",
    "    if n >= 1:\n",
    "        fib.append(a0)\n",
    "    if n >= 2:\n",
    "        fib.append(a1)\n",
    "\n",
    "    for i in range(2, n):\n",
    "        an = fib[i-1] + fib[i-2]\n",
    "        fib.append(an)\n",
    "\n",
    "    print(f\"{n} số đầu tiên của dãy Fibonacci là:\")\n",
    "    print(fib)"
   ]
  },
  {
   "cell_type": "markdown",
   "id": "5f0bcd2e-9cbc-44e1-858d-384222c9cc00",
   "metadata": {
    "jp-MarkdownHeadingCollapsed": true
   },
   "source": [
    "### **MA TRẬN 2 CHIỀU**"
   ]
  },
  {
   "cell_type": "markdown",
   "id": "19f1b5c0-5ae0-4fc3-8d75-465be440d068",
   "metadata": {
    "jp-MarkdownHeadingCollapsed": true
   },
   "source": [
    "#### **Bài 1.** Nhập xuất mảng 2 chiều - NhapXuatMang2C.*"
   ]
  },
  {
   "cell_type": "markdown",
   "id": "7a689df9-38cb-4e39-ab51-20ae3a98d4d6",
   "metadata": {},
   "source": [
    "Cho ma trận A chứa các số nguyên có n dòng và m cột (1 ≤ n, m ≤ 100). Hãy viết chương trình nhập mảng A và xuất ra màn hình"
   ]
  },
  {
   "cell_type": "code",
   "execution_count": 28,
   "id": "29506929-d8b4-4203-bdca-1109e0a87476",
   "metadata": {},
   "outputs": [
    {
     "name": "stdin",
     "output_type": "stream",
     "text": [
      "Nhập số dòng và số cột (n m):  2 3\n"
     ]
    },
    {
     "name": "stdout",
     "output_type": "stream",
     "text": [
      "Nhập các phần tử của ma trận:\n"
     ]
    },
    {
     "name": "stdin",
     "output_type": "stream",
     "text": [
      " 1 2 3\n",
      " 4 5 6\n"
     ]
    },
    {
     "name": "stdout",
     "output_type": "stream",
     "text": [
      "Array A:\n",
      "1 2 3\n",
      "4 5 6\n"
     ]
    }
   ],
   "source": [
    "# Nhập số dòng và số cột\n",
    "n, m = map(int, input(\"Nhập số dòng và số cột (n m): \").split())\n",
    "\n",
    "# Khởi tạo ma trận rỗng\n",
    "A = []\n",
    "\n",
    "print(\"Nhập các phần tử của ma trận:\")\n",
    "for i in range(n):\n",
    "    row = list(map(int, input().split()))  # nhập 1 dòng\n",
    "    A.append(row)\n",
    "\n",
    "# Xuất ma trận\n",
    "print(\"Array A:\")\n",
    "for row in A:\n",
    "    print(\" \".join(map(str, row)))"
   ]
  },
  {
   "cell_type": "markdown",
   "id": "f8b28522-01bc-425e-9fb6-4b22d0d89640",
   "metadata": {
    "jp-MarkdownHeadingCollapsed": true
   },
   "source": [
    "#### **Bài 2.**  Tính trung bình cộng mảng 2 chiều - TrungBinhCongMang2C.*"
   ]
  },
  {
   "cell_type": "markdown",
   "id": "717148aa-a6d0-45dc-b3dc-0cedcf4bc9fe",
   "metadata": {},
   "source": [
    "Cho ma trận A chứa các số thực có n dòng và m cột (1 ≤ n, m ≤ 100). Hãy viết chương trình tính trung bình cộng các số dương có trong ma trận A."
   ]
  },
  {
   "cell_type": "code",
   "execution_count": 2,
   "id": "ddc114e2-0a55-4fd4-bff5-8c57578f4d03",
   "metadata": {},
   "outputs": [
    {
     "name": "stdin",
     "output_type": "stream",
     "text": [
      "Nhập số dòng và số cột (n m):  3 4\n"
     ]
    },
    {
     "name": "stdout",
     "output_type": "stream",
     "text": [
      "Nhập các phần tử của ma trận:\n"
     ]
    },
    {
     "name": "stdin",
     "output_type": "stream",
     "text": [
      " 1.5 -3.2 4.8 9.1\n",
      " -1.8 3.9 2.7 4.5\n",
      " 3.3 9.6 -2.8 -4.9\n"
     ]
    },
    {
     "name": "stdout",
     "output_type": "stream",
     "text": [
      "Trung binh cong cac so duong: 4.925\n"
     ]
    }
   ],
   "source": [
    "# Nhập số dòng và số cột\n",
    "n, m = map(int, input(\"Nhập số dòng và số cột (n m): \").split())\n",
    "\n",
    "A = []\n",
    "print(\"Nhập các phần tử của ma trận:\")\n",
    "for i in range(n):\n",
    "    row = list(map(float, input().split()))\n",
    "    A.append(row)\n",
    "\n",
    "# Tính trung bình cộng các số dương\n",
    "tong = 0\n",
    "dem = 0\n",
    "for i in range(n):\n",
    "    for j in range(m):\n",
    "        if A[i][j] > 0:\n",
    "            tong += A[i][j]\n",
    "            dem += 1\n",
    "\n",
    "if dem > 0:\n",
    "    print(\"Trung binh cong cac so duong:\", round(tong / dem, 3))\n",
    "else:\n",
    "    print(\"Ma tran khong co so duong nao.\")"
   ]
  },
  {
   "cell_type": "markdown",
   "id": "9c62bea1-efe4-48c6-86bf-08afbeaeeb53",
   "metadata": {
    "jp-MarkdownHeadingCollapsed": true
   },
   "source": [
    "#### **Bài 3.** Ma trận toàn chẵn - MaTranToanChan.*"
   ]
  },
  {
   "cell_type": "markdown",
   "id": "d9829325-71fd-4105-a047-108d296689a5",
   "metadata": {},
   "source": [
    "Cho ma trận A chứa các số nguyên có n dòng và m cột (1 ≤ n, m ≤ 100). Hãy kiểm\n",
    "tra xem ma trận có toàn chẵn không?"
   ]
  },
  {
   "cell_type": "code",
   "execution_count": 4,
   "id": "e672ee1b-eff9-4491-bc2d-0236c968302f",
   "metadata": {},
   "outputs": [
    {
     "name": "stdin",
     "output_type": "stream",
     "text": [
      "Nhập số dòng và số cột (n m):  2 3\n"
     ]
    },
    {
     "name": "stdout",
     "output_type": "stream",
     "text": [
      "Nhập các phần tử của ma trận:\n"
     ]
    },
    {
     "name": "stdin",
     "output_type": "stream",
     "text": [
      " 2 4 6\n",
      " 8 10 12\n"
     ]
    },
    {
     "name": "stdout",
     "output_type": "stream",
     "text": [
      "Mang A toan chan!\n"
     ]
    },
    {
     "name": "stdin",
     "output_type": "stream",
     "text": [
      "Nhập số dòng và số cột (n m):  2 3\n"
     ]
    },
    {
     "name": "stdout",
     "output_type": "stream",
     "text": [
      "Nhập các phần tử của ma trận:\n"
     ]
    },
    {
     "name": "stdin",
     "output_type": "stream",
     "text": [
      " 2 4 6\n",
      " 8 10 13\n"
     ]
    },
    {
     "name": "stdout",
     "output_type": "stream",
     "text": [
      "Mang A khong toan chan!\n"
     ]
    }
   ],
   "source": [
    "n, m = map(int, input(\"Nhập số dòng và số cột (n m): \").split())\n",
    "\n",
    "A = []\n",
    "print(\"Nhập các phần tử của ma trận:\")\n",
    "for i in range(n):\n",
    "    row = list(map(int, input().split()))\n",
    "    A.append(row)\n",
    "\n",
    "# Kiểm tra toàn chẵn\n",
    "all_even = True\n",
    "for i in range(n):\n",
    "    for j in range(m):\n",
    "        if A[i][j] % 2 != 0:   # nếu gặp số lẻ\n",
    "            all_even = False\n",
    "            break\n",
    "    if not all_even:\n",
    "        break\n",
    "\n",
    "if all_even:\n",
    "    print(\"Mang A toan chan!\")\n",
    "else:\n",
    "    print(\"Mang A khong toan chan!\")\n",
    "# Nhập số dòng và số cột\n",
    "n, m = map(int, input(\"Nhập số dòng và số cột (n m): \").split())\n",
    "\n",
    "A = []\n",
    "print(\"Nhập các phần tử của ma trận:\")\n",
    "for i in range(n):\n",
    "    row = list(map(int, input().split()))\n",
    "    A.append(row)\n",
    "\n",
    "# Kiểm tra toàn chẵn\n",
    "all_even = True\n",
    "for i in range(n):\n",
    "    for j in range(m):\n",
    "        if A[i][j] % 2 != 0:   # nếu gặp số lẻ\n",
    "            all_even = False\n",
    "            break\n",
    "    if not all_even:\n",
    "        break\n",
    "\n",
    "if all_even:\n",
    "    print(\"Mang A toan chan!\")\n",
    "else:\n",
    "    print(\"Mang A khong toan chan!\")"
   ]
  },
  {
   "cell_type": "markdown",
   "id": "f814dfd7-82a6-4b6e-8af5-ebe1e68a82f0",
   "metadata": {
    "jp-MarkdownHeadingCollapsed": true
   },
   "source": [
    "#### **Bài 4.** Dòng nhiều nguyên âm nhất - DongNhieuNguyenAmNhat.*"
   ]
  },
  {
   "cell_type": "markdown",
   "id": "b51db073-7444-468d-9f46-b4e5d67c6d3d",
   "metadata": {},
   "source": [
    "Cho ma trận A chứa các ký tự có n dòng và m cột (1 ≤ n, m ≤ 100). Hãy tìm dòng có chứa nhiều ký tự nguyên âm nhất. Biết các ký tự A, E, O, I, U là nguyên âm."
   ]
  },
  {
   "cell_type": "code",
   "execution_count": 6,
   "id": "6007cb24-90cc-4093-a33b-7798bddd2000",
   "metadata": {},
   "outputs": [
    {
     "name": "stdin",
     "output_type": "stream",
     "text": [
      "Nhập số dòng và số cột (n m):  3 3\n"
     ]
    },
    {
     "name": "stdout",
     "output_type": "stream",
     "text": [
      "Nhập ma trận ký tự:\n"
     ]
    },
    {
     "name": "stdin",
     "output_type": "stream",
     "text": [
      " A c e\n",
      " d b g\n",
      " U i E\n"
     ]
    },
    {
     "name": "stdout",
     "output_type": "stream",
     "text": [
      "Dong 3 co nhieu nguyen am nhat voi so luong nguyen am la 3.\n"
     ]
    }
   ],
   "source": [
    "n, m = map(int, input(\"Nhập số dòng và số cột (n m): \").split())\n",
    "\n",
    "# Tập hợp các nguyên âm\n",
    "vowels = set(\"AEIOUaeiou\")\n",
    "\n",
    "A = []\n",
    "print(\"Nhập ma trận ký tự:\")\n",
    "for i in range(n):\n",
    "    row = input().split()\n",
    "    A.append(row)\n",
    "\n",
    "# Tìm dòng có nhiều nguyên âm nhất\n",
    "max_vowels = -1\n",
    "row_index = -1\n",
    "\n",
    "for i in range(n):\n",
    "    count = sum(1 for ch in A[i] if ch in vowels)\n",
    "    if count > max_vowels:\n",
    "        max_vowels = count\n",
    "        row_index = i + 1   # vì dòng tính từ 1\n",
    "\n",
    "print(f\"Dong {row_index} co nhieu nguyen am nhat voi so luong nguyen am la {max_vowels}.\")"
   ]
  },
  {
   "cell_type": "markdown",
   "id": "3bc792c4-66a3-4b63-bc8a-52f17426f6a3",
   "metadata": {
    "jp-MarkdownHeadingCollapsed": true
   },
   "source": [
    "#### **Bài 5.** Cột có nhiều nguyên tố nhất - CotNhieuNguyenToNhat.*"
   ]
  },
  {
   "cell_type": "markdown",
   "id": "757c6761-49bd-49a2-b739-a75e70ae8dec",
   "metadata": {},
   "source": [
    "Cho ma trận A chứa các số nguyên có n dòng và m cột (1 ≤ n, m ≤ 100). Hãy liệt\n",
    "kê các cột có chứa nhiều số nguyên tố nhất."
   ]
  },
  {
   "cell_type": "code",
   "execution_count": 7,
   "id": "b51e0175-15bc-4d94-9e9a-cdbc2d18ea0f",
   "metadata": {},
   "outputs": [
    {
     "name": "stdin",
     "output_type": "stream",
     "text": [
      "Nhập số dòng và số cột (n m):  5 4\n"
     ]
    },
    {
     "name": "stdout",
     "output_type": "stream",
     "text": [
      "Nhập ma trận:\n"
     ]
    },
    {
     "name": "stdin",
     "output_type": "stream",
     "text": [
      " 19 4 6 13\n",
      " 8 6 3 2\n",
      " 7 5 7 8\n",
      " 11 2 7 6\n",
      " 3 9 2 15\n"
     ]
    },
    {
     "name": "stdout",
     "output_type": "stream",
     "text": [
      "Cac cot nhieu nguyen to nhat: 0 2\n"
     ]
    }
   ],
   "source": [
    "def is_prime(x):\n",
    "    if x < 2:\n",
    "        return False\n",
    "    for i in range(2, int(x**0.5) + 1):\n",
    "        if x % i == 0:\n",
    "            return False\n",
    "    return True\n",
    "\n",
    "n, m = map(int, input(\"Nhập số dòng và số cột (n m): \").split())\n",
    "\n",
    "# Nhập ma trận\n",
    "A = []\n",
    "print(\"Nhập ma trận:\")\n",
    "for _ in range(n):\n",
    "    row = list(map(int, input().split()))\n",
    "    A.append(row)\n",
    "\n",
    "# Đếm số nguyên tố trong từng cột\n",
    "count_col = [0] * m\n",
    "for j in range(m):\n",
    "    for i in range(n):\n",
    "        if is_prime(A[i][j]):\n",
    "            count_col[j] += 1\n",
    "\n",
    "# Tìm số lượng nguyên tố nhiều nhất\n",
    "max_prime = max(count_col)\n",
    "\n",
    "# Lấy các cột có nhiều số nguyên tố nhất\n",
    "result = [j for j in range(m) if count_col[j] == max_prime]\n",
    "\n",
    "print(\"Cac cot nhieu nguyen to nhat:\", *result)"
   ]
  },
  {
   "cell_type": "markdown",
   "id": "de155a33-7a76-4f71-a9df-8590356de19b",
   "metadata": {},
   "source": [
    "### **MA TRẬN VUÔNG**"
   ]
  },
  {
   "cell_type": "markdown",
   "id": "2ea67a1d-1e55-49f7-8bba-4b9be5ce7853",
   "metadata": {
    "jp-MarkdownHeadingCollapsed": true
   },
   "source": [
    "#### **Bài 1.** In chéo chính, phụ - InCheoChinhPhu.*"
   ]
  },
  {
   "cell_type": "markdown",
   "id": "bf1dc549-f09d-47d6-b3e6-5334565367f7",
   "metadata": {},
   "source": [
    "Cho ma trận vuông A cấp nchứa các số nguyên (1 ≤ n ≤ 100). Hãy viết hàm liệt kê\n",
    "các phần tử nằm trên đường chéo chính và chéo phụ của ma trận vuông A."
   ]
  },
  {
   "cell_type": "code",
   "execution_count": 8,
   "id": "c7ba75ac-913f-4ddb-9060-bcaf8ff73b42",
   "metadata": {},
   "outputs": [
    {
     "name": "stdin",
     "output_type": "stream",
     "text": [
      "Nhập kích thước ma trận n:  5\n"
     ]
    },
    {
     "name": "stdout",
     "output_type": "stream",
     "text": [
      "Nhập các phần tử của ma trận:\n"
     ]
    },
    {
     "name": "stdin",
     "output_type": "stream",
     "text": [
      " 5 5 5 0 0\n",
      " 0 5 0 1 1\n",
      " 0 5 0 0 0\n",
      " 0 0 0 2 3\n",
      " 1 1 1 4 7\n"
     ]
    },
    {
     "name": "stdout",
     "output_type": "stream",
     "text": [
      "Cac phan tu tren cheo chinh: 5 5 0 2 7 \n",
      "Cac phan tu tren cheo phu: 0 1 0 0 1 \n"
     ]
    }
   ],
   "source": [
    "# Nhập ma trận\n",
    "n = int(input(\"Nhập kích thước ma trận n: \"))\n",
    "A = []\n",
    "print(\"Nhập các phần tử của ma trận:\")\n",
    "for i in range(n):\n",
    "    row = list(map(int, input().split()))\n",
    "    A.append(row)\n",
    "\n",
    "# Liệt kê phần tử trên đường chéo chính\n",
    "print(\"Cac phan tu tren cheo chinh:\", end=\" \")\n",
    "for i in range(n):\n",
    "    print(A[i][i], end=\" \")\n",
    "print()\n",
    "\n",
    "# Liệt kê phần tử trên đường chéo phụ\n",
    "print(\"Cac phan tu tren cheo phu:\", end=\" \")\n",
    "for i in range(n):\n",
    "    print(A[i][n-1-i], end=\" \")\n",
    "print()"
   ]
  },
  {
   "cell_type": "markdown",
   "id": "7ff70abd-938b-4502-9f14-817de6adbcb5",
   "metadata": {
    "jp-MarkdownHeadingCollapsed": true
   },
   "source": [
    "#### **Bài 2:** In tam giác trên chéo chính, phụ - InTamGiacTrenChinhPhu.*"
   ]
  },
  {
   "cell_type": "markdown",
   "id": "a77a3f2b-7657-4bd2-8479-a286417c2d57",
   "metadata": {},
   "source": [
    "Cho ma trận vuông A cấp n chứa các số thực (1 ≤ n ≤ 100). Hãy viết hàm liệt kê các phần tử nằm trong tam giác trên của đường chéo chính, phụ của ma trận vuông A (không tính nằm trên đường chéo chính, phụ)"
   ]
  },
  {
   "cell_type": "code",
   "execution_count": 9,
   "id": "0a9e3320-0d50-4589-b1b4-49bc2666c81d",
   "metadata": {},
   "outputs": [
    {
     "name": "stdin",
     "output_type": "stream",
     "text": [
      " 5\n",
      " 5 5 5 0 0\n",
      " 0 5 0 1 1\n",
      " 0 5 0 0 0\n",
      " 0 0 0 2 3\n",
      " 1 1 1 4 7\n"
     ]
    },
    {
     "name": "stdout",
     "output_type": "stream",
     "text": [
      "Tam giác trên chéo chính: 5 5 0 0 0 1 1 0 0 3\n",
      "Tam giác trên chéo phụ: 5 5 5 0 0 5 0 0 5 0\n"
     ]
    }
   ],
   "source": [
    "def liet_ke_tam_giac(matrix, n):\n",
    "    # Tam giác trên đường chéo chính (không tính đường chéo chính)\n",
    "    tam_giac_chinh = []\n",
    "    for i in range(n):\n",
    "        for j in range(i+1, n):  # j > i (nằm trên đường chéo chính)\n",
    "            tam_giac_chinh.append(matrix[i][j])\n",
    "\n",
    "    # Tam giác trên đường chéo phụ (không tính đường chéo phụ)\n",
    "    tam_giac_phu = []\n",
    "    for i in range(n):\n",
    "        for j in range(n - i - 1):  # j < n-i-1 (nằm trên đường chéo phụ)\n",
    "            tam_giac_phu.append(matrix[i][j])\n",
    "\n",
    "    print(\"Tam giác trên chéo chính:\", *tam_giac_chinh)\n",
    "    print(\"Tam giác trên chéo phụ:\", *tam_giac_phu)\n",
    "\n",
    "# ==========================\n",
    "# Chương trình chính\n",
    "# ==========================\n",
    "n = int(input())\n",
    "A = []\n",
    "for _ in range(n):\n",
    "    A.append(list(map(int, input().split())))\n",
    "\n",
    "liet_ke_tam_giac(A, n)"
   ]
  },
  {
   "cell_type": "markdown",
   "id": "67fb20d8-941f-4df3-8fce-2074050f4f2f",
   "metadata": {},
   "source": [
    "#### **Bài 3.** Đếm loại số tam giác trên chéo chính - DemSoTamGiacTren.*"
   ]
  },
  {
   "cell_type": "markdown",
   "id": "ba3e8b06-333c-45fa-9db1-bc6c7f3bb99e",
   "metadata": {},
   "source": [
    "Cho ma trận vuông A cấp n chứa các số thực (1 ≤ n ≤ 100). Hãy viết hàm liệt kê các phần tử nằm trong tam giác trên của đường chéo chính, phụ của ma trận vuông A (không tính nằm trên đường chéo chính, phụ)."
   ]
  },
  {
   "cell_type": "code",
   "execution_count": null,
   "id": "1d4e53bf-8992-4ec0-b55a-eb42af44ad84",
   "metadata": {},
   "outputs": [
    {
     "name": "stdin",
     "output_type": "stream",
     "text": [
      " 5\n",
      " -5 5 0 0\n",
      " 0 5 0 1 1\n"
     ]
    }
   ],
   "source": [
    "def thong_ke_tam_giac_tren(matrix, n):\n",
    "    dem_am = dem_duong = dem_khong = 0\n",
    "    \n",
    "    # Duyệt tam giác trên đường chéo chính (không tính đường chéo chính)\n",
    "    for i in range(n):\n",
    "        for j in range(i+1, n):  # j > i\n",
    "            if matrix[i][j] < 0:\n",
    "                dem_am += 1\n",
    "            elif matrix[i][j] > 0:\n",
    "                dem_duong += 1\n",
    "            else:\n",
    "                dem_khong += 1\n",
    "\n",
    "    print(\"Trong nửa tam giác trên chéo chính:\")\n",
    "    print(\"+\", dem_am, \"số âm\")\n",
    "    print(\"+\", dem_duong, \"số dương\")\n",
    "    print(\"+\", dem_khong, \"số không\")\n",
    "\n",
    "n = int(input())\n",
    "A = []\n",
    "for _ in range(n):\n",
    "    A.append(list(map(int, input().split())))\n",
    "\n",
    "thong_ke_tam_giac_tren(A, n)"
   ]
  },
  {
   "cell_type": "code",
   "execution_count": null,
   "id": "597b5fec-68f5-4583-be4f-6cf0a1f39136",
   "metadata": {},
   "outputs": [],
   "source": []
  }
 ],
 "metadata": {
  "kernelspec": {
   "display_name": "Python 3 (ipykernel)",
   "language": "python",
   "name": "python3"
  },
  "language_info": {
   "codemirror_mode": {
    "name": "ipython",
    "version": 3
   },
   "file_extension": ".py",
   "mimetype": "text/x-python",
   "name": "python",
   "nbconvert_exporter": "python",
   "pygments_lexer": "ipython3",
   "version": "3.12.1"
  }
 },
 "nbformat": 4,
 "nbformat_minor": 5
}
