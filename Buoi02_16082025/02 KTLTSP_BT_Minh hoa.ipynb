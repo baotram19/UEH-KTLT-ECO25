{
 "cells": [
  {
   "cell_type": "markdown",
   "id": "f41001f2-fa24-4a0d-b284-ed8539548018",
   "metadata": {},
   "source": [
    "## **BÀI TẬP MINH HỌA**"
   ]
  },
  {
   "cell_type": "markdown",
   "id": "48d83173-95e4-49ab-aa25-a31b7f5841c3",
   "metadata": {
    "jp-MarkdownHeadingCollapsed": true
   },
   "source": [
    "### **THỰC HÀNH 1**"
   ]
  },
  {
   "cell_type": "markdown",
   "id": "f2b1d393-3def-4d7b-b893-d2d9b7cecc3e",
   "metadata": {
    "jp-MarkdownHeadingCollapsed": true
   },
   "source": [
    "#### **Câu 1.** Viết chương trình nhập số A và kiểm tra xem A có phải là số nguyên tố hay không? "
   ]
  },
  {
   "cell_type": "code",
   "execution_count": 3,
   "id": "3d31e976-486d-4a81-8459-0e3907bc6d70",
   "metadata": {},
   "outputs": [
    {
     "name": "stdin",
     "output_type": "stream",
     "text": [
      "Nhap vao so nguyen: 5\n"
     ]
    },
    {
     "name": "stdout",
     "output_type": "stream",
     "text": [
      "5 la so nguyen to\n"
     ]
    }
   ],
   "source": [
    "## Hàm kiểm tra số nguyên tố\n",
    "def ktsnt(n):\n",
    "    if n < 2: # 0, 1 không phải là số nguyên tố\n",
    "        return False\n",
    "    for i in range(2, int(n**(0.5))+1):  # căn bậc hai của n\n",
    "        if (n % i == 0):\n",
    "            return False\n",
    "    return True\n",
    "### Nhập vào số nguyên tố cần kiểm tra\n",
    "a = int(input(\"Nhap vao so nguyen:\"))\n",
    "if ktsnt(a):\n",
    "    print(\"%d la so nguyen to\" % a)\n",
    "else:\n",
    "    print(\"%d khong la so nguyen to\" % a)"
   ]
  },
  {
   "cell_type": "markdown",
   "id": "56ecae80-34e5-487e-9bf3-dfed22842f63",
   "metadata": {},
   "source": [
    "**1-a) Nhập vào N, liệt kê tất cả các số nguyên tố nhỏ hơn N**"
   ]
  },
  {
   "cell_type": "code",
   "execution_count": 2,
   "id": "0f0e6ef8-e5ef-4442-a4c4-55c9b93a1bc6",
   "metadata": {},
   "outputs": [
    {
     "name": "stdout",
     "output_type": "stream",
     "text": [
      "2  \n",
      "3  \n",
      "5  \n",
      "7  \n",
      "11  \n",
      "13  \n",
      "17  \n",
      "19  \n"
     ]
    }
   ],
   "source": [
    "### Hàm liệt kê các số nguyên tố nhỏ hơn N\n",
    "def lietkesnt(k):\n",
    "    if k <= 2: \n",
    "        print(\"khong co so nguyen to thoa yeu cau\")\n",
    "    else:\n",
    "        for i in range(2,k):\n",
    "            if ktsnt(i):\n",
    "                print(\"%d  \" %i)\n",
    "n = 20\n",
    "lietkesnt(n)"
   ]
  },
  {
   "cell_type": "markdown",
   "id": "f35586f1-8ced-4baf-a7ea-8e7a749f96eb",
   "metadata": {},
   "source": [
    "**1-b) In ra M số nguyên tố đầu tiên**"
   ]
  },
  {
   "cell_type": "code",
   "execution_count": 4,
   "id": "17a014f0-eafc-48ff-aaf0-0bba301dba2d",
   "metadata": {},
   "outputs": [
    {
     "name": "stdout",
     "output_type": "stream",
     "text": [
      "2 \n",
      "3 \n",
      "5 \n",
      "7 \n",
      "11 \n",
      "13 \n",
      "17 \n",
      "19 \n",
      "23 \n",
      "29 \n"
     ]
    }
   ],
   "source": [
    "### Hàm liệt kê M\n",
    "def lietkeMsnt(M):\n",
    "    bien_dem = 0  # đếm: từ 0 đến M-1\n",
    "    t = 2 # 0 và 1 không là số nguyên tố \n",
    "    while(bien_dem < M):\n",
    "        if ktsnt(t):\n",
    "            print(\"%d \" %t)\n",
    "            bien_dem +=1\n",
    "        t+=1 \n",
    "        \n",
    "M=10 \n",
    "lietkeMsnt(M)"
   ]
  },
  {
   "cell_type": "markdown",
   "id": "ac2e1ecc-9e69-4914-b5d8-496412cdce9b",
   "metadata": {
    "jp-MarkdownHeadingCollapsed": true
   },
   "source": [
    "#### **Câu 2**  Viết chương trình in ra tất cả số chẵn trong khoảng (M,N) . N, M nhập từ bàn phím."
   ]
  },
  {
   "cell_type": "code",
   "execution_count": 5,
   "id": "865dd0fc-ecce-40b2-bce5-9babf3249ad8",
   "metadata": {},
   "outputs": [
    {
     "name": "stdin",
     "output_type": "stream",
     "text": [
      "Nhap chan duoi: 3\n",
      "Nhap chan tren: 19\n"
     ]
    },
    {
     "name": "stdout",
     "output_type": "stream",
     "text": [
      "4 \n",
      "6 \n",
      "8 \n",
      "10 \n",
      "12 \n",
      "14 \n",
      "16 \n",
      "18 \n"
     ]
    }
   ],
   "source": [
    "def insochan(M,N):\n",
    "    for i in range (M+1,N):\n",
    "        if i % 2 == 0 :\n",
    "            print(\"%d \" %i)\n",
    "M = int(input(\"Nhap chan duoi:\"))\n",
    "N = int(input(\"Nhap chan tren:\"))       \n",
    "insochan(M,N) "
   ]
  },
  {
   "cell_type": "markdown",
   "id": "7b2149c9-4112-4f35-a980-d8368a9dc14c",
   "metadata": {},
   "source": [
    "**2-a) Tìm tất cả các số chia hết cho 7 nhưng không phải bội số của 5, nằm trong đoạn [99;999]  (tính cả 99 và 999)**"
   ]
  },
  {
   "cell_type": "code",
   "execution_count": 6,
   "id": "1616560a-09be-4b1a-8f5d-ccb38114affb",
   "metadata": {},
   "outputs": [
    {
     "name": "stdout",
     "output_type": "stream",
     "text": [
      "112 \n",
      "119 \n",
      "126 \n",
      "133 \n",
      "147 \n",
      "154 \n",
      "161 \n",
      "168 \n",
      "182 \n",
      "189 \n",
      "196 \n",
      "203 \n",
      "217 \n",
      "224 \n",
      "231 \n",
      "238 \n",
      "252 \n",
      "259 \n",
      "266 \n",
      "273 \n",
      "287 \n",
      "294 \n",
      "301 \n",
      "308 \n",
      "322 \n",
      "329 \n",
      "336 \n",
      "343 \n",
      "357 \n",
      "364 \n",
      "371 \n",
      "378 \n",
      "392 \n",
      "399 \n",
      "406 \n",
      "413 \n",
      "427 \n",
      "434 \n",
      "441 \n",
      "448 \n",
      "462 \n",
      "469 \n",
      "476 \n",
      "483 \n",
      "497 \n",
      "504 \n",
      "511 \n",
      "518 \n",
      "532 \n",
      "539 \n",
      "546 \n",
      "553 \n",
      "567 \n",
      "574 \n",
      "581 \n",
      "588 \n",
      "602 \n",
      "609 \n",
      "616 \n",
      "623 \n",
      "637 \n",
      "644 \n",
      "651 \n",
      "658 \n",
      "672 \n",
      "679 \n",
      "686 \n",
      "693 \n",
      "707 \n",
      "714 \n",
      "721 \n",
      "728 \n",
      "742 \n",
      "749 \n",
      "756 \n",
      "763 \n",
      "777 \n",
      "784 \n",
      "791 \n",
      "798 \n",
      "812 \n",
      "819 \n",
      "826 \n",
      "833 \n",
      "847 \n",
      "854 \n",
      "861 \n",
      "868 \n",
      "882 \n",
      "889 \n",
      "896 \n",
      "903 \n",
      "917 \n",
      "924 \n",
      "931 \n",
      "938 \n",
      "952 \n",
      "959 \n",
      "966 \n",
      "973 \n",
      "987 \n",
      "994 \n"
     ]
    }
   ],
   "source": [
    "def lietke1(M,N):\n",
    "    for i in range(M,N+1):\n",
    "        if (i%7==0) and (i%5!=0):\n",
    "            print(\"%d \" %i)\n",
    "            \n",
    "M = 99\n",
    "N = 999\n",
    "lietke1(M,N)"
   ]
  },
  {
   "cell_type": "markdown",
   "id": "479dc723-4cdd-4532-bf70-fead329f2e58",
   "metadata": {},
   "source": [
    "**2-b) Tìm số đầu tiên chia hết cho 9 và chia hết cho 7 nằm trong đoạn [M,N]**"
   ]
  },
  {
   "cell_type": "code",
   "execution_count": 7,
   "id": "9bd532ea-bb38-415b-b269-e44296197b50",
   "metadata": {},
   "outputs": [
    {
     "name": "stdout",
     "output_type": "stream",
     "text": [
      "126 \n"
     ]
    }
   ],
   "source": [
    "def lietke2(M,N):\n",
    "    q = -1\n",
    "    \n",
    "    for i in range(M,N+1):\n",
    "        if (i%9==0) and (i%7==0):\n",
    "            q = i\n",
    "            break\n",
    "    return q\n",
    "M = 64\n",
    "N = 300\n",
    "q = lietke2(M,N) \n",
    "if (q == -1):\n",
    "    print(\"khong co so thoa dieu kien\")\n",
    "else:\n",
    "    print(\"%d \" %q)"
   ]
  },
  {
   "cell_type": "markdown",
   "id": "5309b0ef-646f-4726-85f1-2e0428120530",
   "metadata": {
    "jp-MarkdownHeadingCollapsed": true
   },
   "source": [
    "#### **Câu 3.** Nhập một số nguyên, đếm xem số đó có bao nhiêu chữ số và tính tổng các chữ số."
   ]
  },
  {
   "cell_type": "code",
   "execution_count": 9,
   "id": "c64b03e7-398d-4202-898d-b82b8a7ac956",
   "metadata": {},
   "outputs": [
    {
     "name": "stdin",
     "output_type": "stream",
     "text": [
      "Nhập n: 1901\n"
     ]
    },
    {
     "name": "stdout",
     "output_type": "stream",
     "text": [
      "1\n",
      "0\n",
      "9\n",
      "1\n",
      "Số lượng chữ số: 4\n",
      "Tổng các chữ số:11\n"
     ]
    }
   ],
   "source": [
    "def Tinh(n):\n",
    "    tong= 0\n",
    "    dem = 0\n",
    "    while(n>0): \n",
    "        sodu = n%10 \n",
    "        tong = tong+sodu\n",
    "        dem = dem+1 \n",
    "        n = n//10 \n",
    "        print(sodu)\n",
    "    return tong,dem\n",
    "\n",
    "a = int(input(\"Nhập n:\"))\n",
    "tong, sochuso = Tinh(a)\n",
    "print(\"Số lượng chữ số: %d\" % sochuso)\n",
    "print(\"Tổng các chữ số:%d\" %tong)"
   ]
  },
  {
   "cell_type": "markdown",
   "id": "305098b6-c0ff-41cd-8fba-7c7e2843405f",
   "metadata": {
    "jp-MarkdownHeadingCollapsed": true
   },
   "source": [
    "#### **Câu 4.** Đệ quy – Tính giai thừa của một số nguyên dương n"
   ]
  },
  {
   "cell_type": "code",
   "execution_count": 10,
   "id": "40d90afd-a40e-4d95-93d7-3620c8063ad7",
   "metadata": {},
   "outputs": [
    {
     "name": "stdout",
     "output_type": "stream",
     "text": [
      "Giai thừa của 5 là 120\n"
     ]
    }
   ],
   "source": [
    "def giaithua(n):\n",
    "    if n == 1:  \n",
    "        return 1 \n",
    "    else: \n",
    "        return (n * giaithua(n-1))\n",
    "num = 5\n",
    "print(\"Giai thừa của\", num, \"là\", giaithua(num))"
   ]
  },
  {
   "cell_type": "markdown",
   "id": "a6110919-48a2-4d5c-a364-fe6480b67182",
   "metadata": {},
   "source": [
    "#### **Câu 5.** Đệ quy – Tính lũy thừa a^b"
   ]
  },
  {
   "cell_type": "code",
   "execution_count": 11,
   "id": "06bd4be7-148a-41d8-81c3-249b3137bd31",
   "metadata": {},
   "outputs": [
    {
     "name": "stdout",
     "output_type": "stream",
     "text": [
      "2 ^ 3 = 8\n"
     ]
    }
   ],
   "source": [
    "def power(a,b):\n",
    "    if b==0:\n",
    "        return 1\n",
    "    elif a==0:\n",
    "        return 0\n",
    "    elif b==1:\n",
    "        return a   \n",
    "    else:\n",
    "        return a*power(a,b-1)\n",
    "a = 2\n",
    "b = 3\n",
    "print(a,\"^\",b,\"=\", power(a,b))"
   ]
  },
  {
   "cell_type": "markdown",
   "id": "ab5702f7-7a17-4458-a8dc-ed6f705a575a",
   "metadata": {},
   "source": [
    "### **THỰC HÀNH 2**"
   ]
  },
  {
   "cell_type": "markdown",
   "id": "764cac24-e25e-4f02-a00f-3caddc5b6deb",
   "metadata": {
    "jp-MarkdownHeadingCollapsed": true
   },
   "source": [
    "#### **Câu 1.** Viết hàm tìm độ dài của một chuỗi (không dùng hàm len())"
   ]
  },
  {
   "cell_type": "code",
   "execution_count": 3,
   "id": "0e8e9e6e-6bb4-44c4-b274-0e93cdbd2ac1",
   "metadata": {},
   "outputs": [
    {
     "name": "stdout",
     "output_type": "stream",
     "text": [
      "chieu dai chuoi :20\n",
      "check len() function: 20\n"
     ]
    }
   ],
   "source": [
    "def chieudaichuoi(strl):\n",
    "    count = 0\n",
    "    for char in strl:\n",
    "        count += 1\n",
    "    return count\n",
    "\n",
    "ss= 'hello world ... !!!!'\n",
    "print('chieu dai chuoi :{}'.format(chieudaichuoi(ss)))\n",
    "print('check len() function:',len(ss))"
   ]
  },
  {
   "cell_type": "markdown",
   "id": "5eb16303-7fab-4da0-84f8-02b398b41d15",
   "metadata": {
    "jp-MarkdownHeadingCollapsed": true
   },
   "source": [
    "#### **Câu 2**. Viết chương trình đếm số lượng các từ trong một chuỗi (giả sử các từ trong chuỗi cách nhau bởi một khoảng trắng)"
   ]
  },
  {
   "cell_type": "code",
   "execution_count": 4,
   "id": "19cd0edd-0534-4849-ba73-55b4da14849a",
   "metadata": {},
   "outputs": [
    {
     "name": "stdout",
     "output_type": "stream",
     "text": [
      "input:  Tach chuoi dung split\n",
      "tach tu: ['Tach', 'chuoi', 'dung', 'split']\n",
      "The number of words in string are : 4\n"
     ]
    }
   ],
   "source": [
    "## Trường hợp 1: Dùng split\n",
    "test_string = \"Tach chuoi dung split\"\n",
    "print (\"input: \",test_string)\n",
    "temp = test_string.split()\n",
    "print(\"tach tu:\",temp)\n",
    "res = len(temp)\n",
    "print (\"The number of words in string are :\",str(res))"
   ]
  },
  {
   "cell_type": "code",
   "execution_count": 5,
   "id": "da00ab04-1205-4e02-98d1-ef5bf2ca02d6",
   "metadata": {},
   "outputs": [
    {
     "name": "stdout",
     "output_type": "stream",
     "text": [
      "The number of words in string are 4\n"
     ]
    }
   ],
   "source": [
    "## Trường hợp 2: Không dùng split\n",
    "test_string = \"tach chuoi thanh tu\"\n",
    "if len(test_string) == 0 or (test_string.isspace()):\n",
    "    print(\"The number of words in string are = \", 0)\n",
    "else:\n",
    "    total = 0\n",
    "    test_string = test_string+ ' '\n",
    "    for i in range(len(test_string)-1):\n",
    "        if(test_string[i] != ' ' and test_string[i+1] == ' '):\n",
    "            total = total + 1\n",
    "    print(\"The number of words in string are\", total)"
   ]
  },
  {
   "cell_type": "markdown",
   "id": "7ffdaa80-6c76-4120-8116-5ba0b47fb748",
   "metadata": {},
   "source": [
    "#### **Câu 3.** Viết hàm đếm số lượng nguyên âm( a e i o u), phụ âm có trong chuỗi"
   ]
  },
  {
   "cell_type": "code",
   "execution_count": 6,
   "id": "63661fe3-3e3a-4331-b64e-8b0c48666487",
   "metadata": {},
   "outputs": [
    {
     "name": "stdout",
     "output_type": "stream",
     "text": [
      "12\n",
      "2 5\n"
     ]
    }
   ],
   "source": [
    "test_string = \" !! fdafdaf \"\n",
    "valid_symbols = \"!@#$%^&*()_-+=[]<>/,\"\n",
    "def dem_nguyenam_phuam(string):\n",
    "    nguyenam = 0\n",
    "    phuam = 0\n",
    "    for char in string:\n",
    "        if char != ' ' and char not in valid_symbols:\n",
    "            if char in \"aeiouAEIOU\":\n",
    "                nguyenam = nguyenam + 1\n",
    "            else:\n",
    "                phuam = phuam + 1\n",
    "    return nguyenam, phuam\n",
    "\n",
    "print(len(test_string))\n",
    "v, c = dem_nguyenam_phuam(test_string)\n",
    "print(v, c)"
   ]
  },
  {
   "cell_type": "code",
   "execution_count": 9,
   "id": "b96d95ae-e0c7-4b97-a9ce-d5152d6517ed",
   "metadata": {},
   "outputs": [
    {
     "name": "stdout",
     "output_type": "stream",
     "text": [
      "12\n",
      "2 5\n"
     ]
    }
   ],
   "source": [
    "test_string = \" !! fdafdaf \"\n",
    "valid_symbols = \"!@#$%^&*()_-+=[]<>/,\"\n",
    "def dem_nguyenam_phuam_2(string):\n",
    "    nguyenam = 0\n",
    "    phuam = 0\n",
    "    for i in string:\n",
    "        if i!=' ' and i not in valid_symbols:\n",
    "            if(i=='a' or i=='e' or i=='o' or i=='u' or i=='A' or i=='E' or i=='I'or i=='O' or i=='U'):\n",
    "                nguyenam = nguyenam+1\n",
    "            else:\n",
    "                phuam = phuam+1\n",
    "    return nguyenam, phuam\n",
    "\n",
    "print(len(test_string))\n",
    "v, c = dem_nguyenam_phuam_2(test_string)\n",
    "print(v, c)"
   ]
  },
  {
   "cell_type": "code",
   "execution_count": null,
   "id": "4d08841d-bc01-4954-a437-6a83f33a8f6e",
   "metadata": {},
   "outputs": [],
   "source": []
  }
 ],
 "metadata": {
  "kernelspec": {
   "display_name": "Python 3 (ipykernel)",
   "language": "python",
   "name": "python3"
  },
  "language_info": {
   "codemirror_mode": {
    "name": "ipython",
    "version": 3
   },
   "file_extension": ".py",
   "mimetype": "text/x-python",
   "name": "python",
   "nbconvert_exporter": "python",
   "pygments_lexer": "ipython3",
   "version": "3.12.1"
  }
 },
 "nbformat": 4,
 "nbformat_minor": 5
}
